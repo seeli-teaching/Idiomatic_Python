{
 "cells": [
  {
   "cell_type": "markdown",
   "id": "76daf53b",
   "metadata": {},
   "source": [
    "### Idiomatic Python: Merging Dictionaries"
   ]
  },
  {
   "cell_type": "markdown",
   "id": "e7fc728b",
   "metadata": {},
   "source": [
    "Sometimes we need to merge various dictionaries together."
   ]
  },
  {
   "cell_type": "markdown",
   "id": "e3b4fdda",
   "metadata": {},
   "source": [
    "A typical example of this might be for app configurations."
   ]
  },
  {
   "cell_type": "markdown",
   "id": "f72776b5",
   "metadata": {},
   "source": [
    "We may have three sets of settings (how they are serialized and where they come from does not matter specifically) that end up as three different dictionaries in our app.\n",
    "\n",
    "For example we may have: default configs, user specific overrides, environment variable based overrides, command line overrides, etc."
   ]
  },
  {
   "cell_type": "markdown",
   "id": "7da0a59a",
   "metadata": {},
   "source": [
    "For example:"
   ]
  },
  {
   "cell_type": "code",
   "execution_count": 26,
   "id": "85efd03d",
   "metadata": {},
   "outputs": [],
   "source": [
    "default_settings = {\n",
    "    \"db_host\": \"localhost\",\n",
    "    \"port\": 3306,\n",
    "    \"user_name\": None,\n",
    "    \"password\": None,\n",
    "    \"connection_timeout\": 10,\n",
    "    \"query_timeout\": 30,\n",
    "}\n",
    "\n",
    "user_settings = {\n",
    "    \"port\": 9906,\n",
    "    \"connection_timeout\": 20,\n",
    "}\n",
    "\n",
    "env_vars = {\n",
    "    \"user_name\": \"test\",\n",
    "    \"password\": \"some-secret\",\n",
    "}"
   ]
  },
  {
   "cell_type": "markdown",
   "id": "576468b1",
   "metadata": {},
   "source": [
    "What we want here is a single dictionary where `env_vars` overrides settings in `user_settings`, which in turn override settings in `default_settings`."
   ]
  },
  {
   "cell_type": "markdown",
   "id": "6fd4acbf",
   "metadata": {},
   "source": [
    "Let's look at various approaches, from least desirable to most pythonic."
   ]
  },
  {
   "cell_type": "markdown",
   "id": "4c8eb367",
   "metadata": {},
   "source": [
    "First way we could do this is to make a copy of `default_settings` and then run through several updates:"
   ]
  },
  {
   "cell_type": "code",
   "execution_count": 2,
   "id": "4af35da3",
   "metadata": {},
   "outputs": [
    {
     "data": {
      "text/plain": [
       "{'db_host': 'localhost',\n",
       " 'port': 9906,\n",
       " 'user_name': 'test',\n",
       " 'password': 'some-secret',\n",
       " 'connection_timeout': 20,\n",
       " 'query_timeout': 30}"
      ]
     },
     "execution_count": 2,
     "metadata": {},
     "output_type": "execute_result"
    }
   ],
   "source": [
    "settings = default_settings.copy()\n",
    "settings.update(user_settings)\n",
    "settings.update(env_vars)\n",
    "\n",
    "settings"
   ]
  },
  {
   "cell_type": "markdown",
   "id": "7fc354c0",
   "metadata": {},
   "source": [
    "This works, but the code can be greatly improved by leveraging the more pythonic dictionary unpacking:"
   ]
  },
  {
   "cell_type": "code",
   "execution_count": 3,
   "id": "5b1c135d",
   "metadata": {},
   "outputs": [
    {
     "data": {
      "text/plain": [
       "{'db_host': 'localhost',\n",
       " 'port': 9906,\n",
       " 'user_name': 'test',\n",
       " 'password': 'some-secret',\n",
       " 'connection_timeout': 20,\n",
       " 'query_timeout': 30}"
      ]
     },
     "execution_count": 3,
     "metadata": {},
     "output_type": "execute_result"
    }
   ],
   "source": [
    "settings = {**default_settings, **user_settings, **env_vars}\n",
    "\n",
    "settings"
   ]
  },
  {
   "cell_type": "markdown",
   "id": "5efad3f4",
   "metadata": {},
   "source": [
    "So, we essentially did the same thing - create a new dictionary with the merged values, but the code is much cleaner."
   ]
  },
  {
   "cell_type": "markdown",
   "id": "3ac37882",
   "metadata": {},
   "source": [
    "So this would be fine - it is quite pythonic, and it works.\n",
    "\n",
    "However, we ended up creating a new dictionary to hold the new combined settings - something we need not do."
   ]
  },
  {
   "cell_type": "markdown",
   "id": "4aa18023",
   "metadata": {},
   "source": [
    "We can avoid creating a new dictionary altogether by using the `ChainMap` class in the `collections` module.\n"
   ]
  },
  {
   "cell_type": "code",
   "execution_count": 4,
   "id": "c1b609f3",
   "metadata": {},
   "outputs": [],
   "source": [
    "from collections import ChainMap"
   ]
  },
  {
   "cell_type": "markdown",
   "id": "332f3d1e",
   "metadata": {},
   "source": [
    "The way `ChainMap` works, is that we give it a variable number of dictionaries (maps) as arguments.\n",
    "\n",
    "When we lookup a key, it will look for that key in the first map and return the corresponding value if it finds it, otherwise it moves on to the second map and tries there - rinse and repeat.\n",
    "\n",
    "We can actually also update a `ChainMap`, but inserts/updates/deletes will only affect the first map in the chain. Depending on your situation that may not be what you need, but in this scenario, we don't really need to modify our settings (usually we read them in once, and keep using them as is - app state, if needed, would be stored in other places anyway)."
   ]
  },
  {
   "cell_type": "markdown",
   "id": "3ff1282c",
   "metadata": {},
   "source": [
    "From what I just described, we need to be careful about the order in which we specify the maps in the chain - we want most specific to least specific - i.e. since we want `user_settings` to override `default_settings`, `user_settings` should come before `default_settings` in the chain. Similarly with `env_vars`."
   ]
  },
  {
   "cell_type": "code",
   "execution_count": 5,
   "id": "e78db2f1",
   "metadata": {},
   "outputs": [],
   "source": [
    "settings = ChainMap(env_vars, user_settings, default_settings)"
   ]
  },
  {
   "cell_type": "code",
   "execution_count": 6,
   "id": "e66ff982",
   "metadata": {},
   "outputs": [
    {
     "data": {
      "text/plain": [
       "ChainMap({'user_name': 'test', 'password': 'some-secret'}, {'port': 9906, 'connection_timeout': 20}, {'db_host': 'localhost', 'port': 3306, 'user_name': None, 'password': None, 'connection_timeout': 10, 'query_timeout': 30})"
      ]
     },
     "execution_count": 6,
     "metadata": {},
     "output_type": "execute_result"
    }
   ],
   "source": [
    "settings"
   ]
  },
  {
   "cell_type": "markdown",
   "id": "3cfc6736",
   "metadata": {},
   "source": [
    "We can look up individual keys in there:"
   ]
  },
  {
   "cell_type": "code",
   "execution_count": 7,
   "id": "210c3bd5",
   "metadata": {},
   "outputs": [
    {
     "data": {
      "text/plain": [
       "'some-secret'"
      ]
     },
     "execution_count": 7,
     "metadata": {},
     "output_type": "execute_result"
    }
   ],
   "source": [
    "settings['password']"
   ]
  },
  {
   "cell_type": "code",
   "execution_count": 8,
   "id": "27f4beec",
   "metadata": {},
   "outputs": [
    {
     "data": {
      "text/plain": [
       "30"
      ]
     },
     "execution_count": 8,
     "metadata": {},
     "output_type": "execute_result"
    }
   ],
   "source": [
    "settings['query_timeout']"
   ]
  },
  {
   "cell_type": "markdown",
   "id": "d38f4ba4",
   "metadata": {},
   "source": [
    "We could even, if we really wanted to, convert the chain to a regular dictionary:"
   ]
  },
  {
   "cell_type": "code",
   "execution_count": 9,
   "id": "2803ac07",
   "metadata": {},
   "outputs": [
    {
     "data": {
      "text/plain": [
       "{'db_host': 'localhost',\n",
       " 'port': 9906,\n",
       " 'user_name': 'test',\n",
       " 'password': 'some-secret',\n",
       " 'connection_timeout': 20,\n",
       " 'query_timeout': 30}"
      ]
     },
     "execution_count": 9,
     "metadata": {},
     "output_type": "execute_result"
    }
   ],
   "source": [
    "dict(settings)"
   ]
  },
  {
   "cell_type": "markdown",
   "id": "90d4dc69",
   "metadata": {},
   "source": [
    "which is the same as what we did earlier:"
   ]
  },
  {
   "cell_type": "code",
   "execution_count": 10,
   "id": "f589da20",
   "metadata": {},
   "outputs": [
    {
     "data": {
      "text/plain": [
       "{'db_host': 'localhost',\n",
       " 'port': 9906,\n",
       " 'user_name': 'test',\n",
       " 'password': 'some-secret',\n",
       " 'connection_timeout': 20,\n",
       " 'query_timeout': 30}"
      ]
     },
     "execution_count": 10,
     "metadata": {},
     "output_type": "execute_result"
    }
   ],
   "source": [
    "{**default_settings, **user_settings, **env_vars}"
   ]
  },
  {
   "cell_type": "markdown",
   "id": "c0f91efa",
   "metadata": {},
   "source": [
    "If we perform an update, it will affect the first map in the chain only."
   ]
  },
  {
   "cell_type": "markdown",
   "id": "44f57285",
   "metadata": {},
   "source": [
    "We can see the various maps in the chain this way:"
   ]
  },
  {
   "cell_type": "code",
   "execution_count": 11,
   "id": "f260c737",
   "metadata": {},
   "outputs": [
    {
     "data": {
      "text/plain": [
       "[{'user_name': 'test', 'password': 'some-secret'},\n",
       " {'port': 9906, 'connection_timeout': 20},\n",
       " {'db_host': 'localhost',\n",
       "  'port': 3306,\n",
       "  'user_name': None,\n",
       "  'password': None,\n",
       "  'connection_timeout': 10,\n",
       "  'query_timeout': 30}]"
      ]
     },
     "execution_count": 11,
     "metadata": {},
     "output_type": "execute_result"
    }
   ],
   "source": [
    "settings.maps"
   ]
  },
  {
   "cell_type": "markdown",
   "id": "363ef7a1",
   "metadata": {},
   "source": [
    "Let's do an update and an insert:"
   ]
  },
  {
   "cell_type": "code",
   "execution_count": 12,
   "id": "d40a3c7d",
   "metadata": {},
   "outputs": [],
   "source": [
    "settings['new_key'] = 'test'\n",
    "settings['query_timeout'] = 100"
   ]
  },
  {
   "cell_type": "code",
   "execution_count": 13,
   "id": "6e686a9a",
   "metadata": {},
   "outputs": [
    {
     "data": {
      "text/plain": [
       "ChainMap({'user_name': 'test', 'password': 'some-secret', 'new_key': 'test', 'query_timeout': 100}, {'port': 9906, 'connection_timeout': 20}, {'db_host': 'localhost', 'port': 3306, 'user_name': None, 'password': None, 'connection_timeout': 10, 'query_timeout': 30})"
      ]
     },
     "execution_count": 13,
     "metadata": {},
     "output_type": "execute_result"
    }
   ],
   "source": [
    "settings"
   ]
  },
  {
   "cell_type": "code",
   "execution_count": 14,
   "id": "a5a9a49d",
   "metadata": {},
   "outputs": [
    {
     "data": {
      "text/plain": [
       "[{'user_name': 'test',\n",
       "  'password': 'some-secret',\n",
       "  'new_key': 'test',\n",
       "  'query_timeout': 100},\n",
       " {'port': 9906, 'connection_timeout': 20},\n",
       " {'db_host': 'localhost',\n",
       "  'port': 3306,\n",
       "  'user_name': None,\n",
       "  'password': None,\n",
       "  'connection_timeout': 10,\n",
       "  'query_timeout': 30}]"
      ]
     },
     "execution_count": 14,
     "metadata": {},
     "output_type": "execute_result"
    }
   ],
   "source": [
    "settings.maps"
   ]
  },
  {
   "cell_type": "markdown",
   "id": "c741a32f",
   "metadata": {},
   "source": [
    "As you can see, just the first map (the root map) was modified.\n",
    "\n",
    "How about deleting an entry?"
   ]
  },
  {
   "cell_type": "code",
   "execution_count": 15,
   "id": "533259a5",
   "metadata": {},
   "outputs": [],
   "source": [
    "del settings['password']"
   ]
  },
  {
   "cell_type": "code",
   "execution_count": 16,
   "id": "b441811b",
   "metadata": {},
   "outputs": [
    {
     "data": {
      "text/plain": [
       "[{'user_name': 'test', 'new_key': 'test', 'query_timeout': 100},\n",
       " {'port': 9906, 'connection_timeout': 20},\n",
       " {'db_host': 'localhost',\n",
       "  'port': 3306,\n",
       "  'user_name': None,\n",
       "  'password': None,\n",
       "  'connection_timeout': 10,\n",
       "  'query_timeout': 30}]"
      ]
     },
     "execution_count": 16,
     "metadata": {},
     "output_type": "execute_result"
    }
   ],
   "source": [
    "settings.maps"
   ]
  },
  {
   "cell_type": "markdown",
   "id": "b237c6a7",
   "metadata": {},
   "source": [
    "So that removed the entry from the root map, and now our chain looks like this:"
   ]
  },
  {
   "cell_type": "code",
   "execution_count": 17,
   "id": "572c7b31",
   "metadata": {},
   "outputs": [
    {
     "data": {
      "text/plain": [
       "{'db_host': 'localhost',\n",
       " 'port': 9906,\n",
       " 'user_name': 'test',\n",
       " 'password': None,\n",
       " 'connection_timeout': 20,\n",
       " 'query_timeout': 100,\n",
       " 'new_key': 'test'}"
      ]
     },
     "execution_count": 17,
     "metadata": {},
     "output_type": "execute_result"
    }
   ],
   "source": [
    "dict(settings)"
   ]
  },
  {
   "cell_type": "markdown",
   "id": "52a330d8",
   "metadata": {},
   "source": [
    "But what about deleting a key that is **not** in the root map?"
   ]
  },
  {
   "cell_type": "code",
   "execution_count": 18,
   "id": "631ddb2d",
   "metadata": {},
   "outputs": [
    {
     "data": {
      "text/plain": [
       "[{'user_name': 'test', 'new_key': 'test', 'query_timeout': 100},\n",
       " {'port': 9906, 'connection_timeout': 20},\n",
       " {'db_host': 'localhost',\n",
       "  'port': 3306,\n",
       "  'user_name': None,\n",
       "  'password': None,\n",
       "  'connection_timeout': 10,\n",
       "  'query_timeout': 30}]"
      ]
     },
     "execution_count": 18,
     "metadata": {},
     "output_type": "execute_result"
    }
   ],
   "source": [
    "settings.maps"
   ]
  },
  {
   "cell_type": "markdown",
   "id": "b167524f",
   "metadata": {},
   "source": [
    "Let's try to delete `port`:"
   ]
  },
  {
   "cell_type": "code",
   "execution_count": 19,
   "id": "07d34877",
   "metadata": {},
   "outputs": [
    {
     "name": "stdout",
     "output_type": "stream",
     "text": [
      "KeyError \"Key not found in the first mapping: 'port'\"\n"
     ]
    }
   ],
   "source": [
    "try:\n",
    "    del settings['port']\n",
    "except KeyError as ex:\n",
    "    print(\"KeyError\", ex)"
   ]
  },
  {
   "cell_type": "markdown",
   "id": "4dfa24cd",
   "metadata": {},
   "source": [
    "If we really wanted to delete a key from the entire chain, we would have to work a bit harder. If you really need to manipulate the keys in the chain, then maybe a `ChainMap` is not the solution - probably better to revert back top a normal dictionary."
   ]
  },
  {
   "cell_type": "code",
   "execution_count": 20,
   "id": "7fcf5ddb",
   "metadata": {},
   "outputs": [],
   "source": [
    "for map_ in settings.maps:\n",
    "    map_.pop('port', None)"
   ]
  },
  {
   "cell_type": "code",
   "execution_count": 21,
   "id": "26fcbe3c",
   "metadata": {},
   "outputs": [
    {
     "data": {
      "text/plain": [
       "{'db_host': 'localhost',\n",
       " 'user_name': 'test',\n",
       " 'password': None,\n",
       " 'connection_timeout': 20,\n",
       " 'query_timeout': 100,\n",
       " 'new_key': 'test'}"
      ]
     },
     "execution_count": 21,
     "metadata": {},
     "output_type": "execute_result"
    }
   ],
   "source": [
    "dict(settings)"
   ]
  },
  {
   "cell_type": "code",
   "execution_count": 22,
   "id": "e1f8dd99",
   "metadata": {},
   "outputs": [
    {
     "data": {
      "text/plain": [
       "[{'user_name': 'test', 'new_key': 'test', 'query_timeout': 100},\n",
       " {'connection_timeout': 20},\n",
       " {'db_host': 'localhost',\n",
       "  'user_name': None,\n",
       "  'password': None,\n",
       "  'connection_timeout': 10,\n",
       "  'query_timeout': 30}]"
      ]
     },
     "execution_count": 22,
     "metadata": {},
     "output_type": "execute_result"
    }
   ],
   "source": [
    "settings.maps"
   ]
  },
  {
   "cell_type": "markdown",
   "id": "4aadce30",
   "metadata": {},
   "source": [
    "As you can see, `port` has now been removed entirely."
   ]
  },
  {
   "cell_type": "markdown",
   "id": "6163df25",
   "metadata": {},
   "source": [
    "Did these operations affect our original dictionaries?"
   ]
  },
  {
   "cell_type": "code",
   "execution_count": 23,
   "id": "97e9507e",
   "metadata": {},
   "outputs": [
    {
     "data": {
      "text/plain": [
       "{'db_host': 'localhost',\n",
       " 'user_name': None,\n",
       " 'password': None,\n",
       " 'connection_timeout': 10,\n",
       " 'query_timeout': 30}"
      ]
     },
     "execution_count": 23,
     "metadata": {},
     "output_type": "execute_result"
    }
   ],
   "source": [
    "default_settings"
   ]
  },
  {
   "cell_type": "code",
   "execution_count": 24,
   "id": "86fb28e0",
   "metadata": {},
   "outputs": [
    {
     "data": {
      "text/plain": [
       "{'connection_timeout': 20}"
      ]
     },
     "execution_count": 24,
     "metadata": {},
     "output_type": "execute_result"
    }
   ],
   "source": [
    "user_settings"
   ]
  },
  {
   "cell_type": "code",
   "execution_count": 25,
   "id": "088a5ea7",
   "metadata": {},
   "outputs": [
    {
     "data": {
      "text/plain": [
       "{'user_name': 'test', 'new_key': 'test', 'query_timeout': 100}"
      ]
     },
     "execution_count": 25,
     "metadata": {},
     "output_type": "execute_result"
    }
   ],
   "source": [
    "env_vars"
   ]
  },
  {
   "cell_type": "markdown",
   "id": "971cf98d",
   "metadata": {},
   "source": [
    "The answer is **yes**!\n",
    "\n",
    "Notice that `port` is completely gone, and `new_key` exists in the `env_vars` dictionary."
   ]
  },
  {
   "cell_type": "markdown",
   "id": "3f926f3c",
   "metadata": {},
   "source": [
    "Remember, the whole goal of using `ChainMap` was to avoid creating a new dictionary - so it makes sense that mutating the chain map would mutate the objects it is based on."
   ]
  },
  {
   "cell_type": "markdown",
   "id": "9f5f2281",
   "metadata": {},
   "source": [
    "So bottom line, two ways of merging dictionaries, one way involves making a copy of all the data, and the other, using `ChainMap` does not. Pick whichever one is most applicable in your particular use case."
   ]
  },
  {
   "cell_type": "code",
   "execution_count": null,
   "id": "9c869b7c",
   "metadata": {},
   "outputs": [],
   "source": []
  }
 ],
 "metadata": {
  "kernelspec": {
   "display_name": "Python 3 (ipykernel)",
   "language": "python",
   "name": "python3"
  },
  "language_info": {
   "codemirror_mode": {
    "name": "ipython",
    "version": 3
   },
   "file_extension": ".py",
   "mimetype": "text/x-python",
   "name": "python",
   "nbconvert_exporter": "python",
   "pygments_lexer": "ipython3",
   "version": "3.11.1"
  }
 },
 "nbformat": 4,
 "nbformat_minor": 5
}
