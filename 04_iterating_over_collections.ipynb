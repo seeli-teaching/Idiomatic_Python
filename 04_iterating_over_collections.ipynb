{
 "cells": [
  {
   "cell_type": "markdown",
   "id": "565c2533",
   "metadata": {},
   "source": [
    "### Idiomatic Python - Iterating Over Collections"
   ]
  },
  {
   "cell_type": "markdown",
   "id": "bcf05c51",
   "metadata": {},
   "source": [
    "First we need to understand the difference between a sequence and an iterable. A sequence is an iterable whose elements can be accessed via an index."
   ]
  },
  {
   "cell_type": "markdown",
   "id": "00e9669c",
   "metadata": {},
   "source": [
    "For example a `list` is a sequence type:"
   ]
  },
  {
   "cell_type": "code",
   "execution_count": 1,
   "id": "e0486856",
   "metadata": {},
   "outputs": [
    {
     "data": {
      "text/plain": [
       "(1, 5)"
      ]
     },
     "execution_count": 1,
     "metadata": {},
     "output_type": "execute_result"
    }
   ],
   "source": [
    "l = [1, 2, 3, 4, 5]\n",
    "l[0], l[-1]"
   ]
  },
  {
   "cell_type": "markdown",
   "id": "b20f50ff",
   "metadata": {},
   "source": [
    "Other sequence types include tuples and strings."
   ]
  },
  {
   "cell_type": "markdown",
   "id": "27cb8727",
   "metadata": {},
   "source": [
    "But more general that sequence types are something called **iterables** - for example, sets are iterable but are not sequence types."
   ]
  },
  {
   "cell_type": "markdown",
   "id": "026cc169",
   "metadata": {},
   "source": [
    "In many programming languages, iterating over sequence types is primarily done using indexing."
   ]
  },
  {
   "cell_type": "markdown",
   "id": "f0d506ff",
   "metadata": {},
   "source": [
    "For example:"
   ]
  },
  {
   "cell_type": "code",
   "execution_count": 2,
   "id": "d2a28361",
   "metadata": {},
   "outputs": [],
   "source": [
    "l = [1, 2, 3, 4, 5, 6]"
   ]
  },
  {
   "cell_type": "code",
   "execution_count": 3,
   "id": "61c18db6",
   "metadata": {},
   "outputs": [
    {
     "name": "stdout",
     "output_type": "stream",
     "text": [
      "1\n",
      "4\n",
      "9\n",
      "16\n",
      "25\n",
      "36\n"
     ]
    }
   ],
   "source": [
    "for i in range(len(l)):\n",
    "    print(l[i] ** 2)"
   ]
  },
  {
   "cell_type": "markdown",
   "id": "961f7751",
   "metadata": {},
   "source": [
    "In order to use indexing, the collection must be a sequence type (i.e. must support element access via indexing)."
   ]
  },
  {
   "cell_type": "markdown",
   "id": "0262cf1a",
   "metadata": {},
   "source": [
    "Python however prefers the more general concept of iterating iterables, whether the iterable is a sequence type or not."
   ]
  },
  {
   "cell_type": "markdown",
   "id": "224d09cc",
   "metadata": {},
   "source": [
    "So, in Python, using indexing for iterating over sequences is rarely used (it definitely has its place, but in general, there are often more Pythonic ways of doing so)."
   ]
  },
  {
   "cell_type": "markdown",
   "id": "4e8b783c",
   "metadata": {},
   "source": [
    "The easiest way to iterate over an iterable (in general, not just sequence types) in Python is simply to use a `for` loop - no indexing needed:"
   ]
  },
  {
   "cell_type": "code",
   "execution_count": 4,
   "id": "7d754205",
   "metadata": {},
   "outputs": [
    {
     "name": "stdout",
     "output_type": "stream",
     "text": [
      "1\n",
      "4\n",
      "9\n",
      "16\n",
      "25\n",
      "36\n"
     ]
    }
   ],
   "source": [
    "for el in l:\n",
    "    print(el ** 2)"
   ]
  },
  {
   "cell_type": "markdown",
   "id": "dfbf8645",
   "metadata": {},
   "source": [
    "Sometimes however, we need do to know the index of the element as well, for example:"
   ]
  },
  {
   "cell_type": "code",
   "execution_count": 5,
   "id": "221dcd21",
   "metadata": {},
   "outputs": [
    {
     "data": {
      "text/plain": [
       "[9, 16, 25, 36, 49]"
      ]
     },
     "execution_count": 5,
     "metadata": {},
     "output_type": "execute_result"
    }
   ],
   "source": [
    "l = [1, 2, 3, 4, 5]\n",
    "for i in range(len(l)):\n",
    "    l[i] = (l[i] + 2) ** 2\n",
    "    \n",
    "l"
   ]
  },
  {
   "cell_type": "markdown",
   "id": "6c1a2016",
   "metadata": {},
   "source": [
    "Here we need the index because we want to modify the element at that index.\n",
    "\n",
    "But there is a Pythonic way of doing this as well - using the `enumerate` function."
   ]
  },
  {
   "cell_type": "markdown",
   "id": "a7a2b4b7",
   "metadata": {},
   "source": [
    "The `enumerate` function returns an iterator that iterates over the specific iterable (and so this is not restricted to sequence types either), and includes the index of the element (if it is a sequence, otherwise just consider it a loop index) - the elements we get from `enumerate` are tuples, containing the index and the value:"
   ]
  },
  {
   "cell_type": "code",
   "execution_count": 6,
   "id": "29b3dd55",
   "metadata": {},
   "outputs": [
    {
     "name": "stdout",
     "output_type": "stream",
     "text": [
      "(0, 1)\n",
      "(1, 2)\n"
     ]
    }
   ],
   "source": [
    "l = [1, 2, 3, 4, 5]\n",
    "iterator = enumerate(l)\n",
    "print(next(iterator))\n",
    "print(next(iterator))"
   ]
  },
  {
   "cell_type": "markdown",
   "id": "193b1f3c",
   "metadata": {},
   "source": [
    "So we can use `enumerate` in a loop this way:"
   ]
  },
  {
   "cell_type": "code",
   "execution_count": 7,
   "id": "cf9c5e70",
   "metadata": {},
   "outputs": [
    {
     "name": "stdout",
     "output_type": "stream",
     "text": [
      "(0, 1)\n",
      "(1, 2)\n",
      "(2, 3)\n",
      "(3, 4)\n",
      "(4, 5)\n"
     ]
    }
   ],
   "source": [
    "for row in enumerate(l):\n",
    "    print(row)"
   ]
  },
  {
   "cell_type": "markdown",
   "id": "c5f86c97",
   "metadata": {},
   "source": [
    "Of course, we can unpack the index and the value directly in the loop:"
   ]
  },
  {
   "cell_type": "code",
   "execution_count": 8,
   "id": "14609aa3",
   "metadata": {},
   "outputs": [
    {
     "data": {
      "text/plain": [
       "[9, 16, 25, 36, 49]"
      ]
     },
     "execution_count": 8,
     "metadata": {},
     "output_type": "execute_result"
    }
   ],
   "source": [
    "l = [1, 2, 3, 4, 5]\n",
    "for index, value in enumerate(l):\n",
    "    l[index] = (value + 2) ** 2\n",
    "    \n",
    "l"
   ]
  },
  {
   "cell_type": "markdown",
   "id": "2658a1a6",
   "metadata": {},
   "source": [
    "Sometimes we may need to iterate over multiple iterables at the same time, and again you may be tempted to use indexing to to this (assuming, of course, they are all sequence type and hence support indexing):"
   ]
  },
  {
   "cell_type": "code",
   "execution_count": 9,
   "id": "cb25f75d",
   "metadata": {},
   "outputs": [],
   "source": [
    "l1 = [1, 2, 3, 4, 5]\n",
    "l2 = ['a', 'b', 'c', 'd', 'e']"
   ]
  },
  {
   "cell_type": "code",
   "execution_count": 10,
   "id": "b5e4306d",
   "metadata": {},
   "outputs": [
    {
     "name": "stdout",
     "output_type": "stream",
     "text": [
      "1 a\n",
      "2 b\n",
      "3 c\n",
      "4 d\n",
      "5 e\n"
     ]
    }
   ],
   "source": [
    "for i in range(len(l1)):\n",
    "    print(l1[i], l2[i])"
   ]
  },
  {
   "cell_type": "markdown",
   "id": "eb293bbd",
   "metadata": {},
   "source": [
    "But what happens if the two lists are not all the same length - we need to account for it:"
   ]
  },
  {
   "cell_type": "code",
   "execution_count": 11,
   "id": "b8763beb",
   "metadata": {},
   "outputs": [
    {
     "name": "stdout",
     "output_type": "stream",
     "text": [
      "1 a\n",
      "2 b\n",
      "3 c\n",
      "4 d\n"
     ]
    }
   ],
   "source": [
    "l1 = [1, 2, 3, 4, 5]\n",
    "l2 = ['a', 'b', 'c', 'd']\n",
    "\n",
    "for i in range(min(len(l1), len(l2))):\n",
    "    print(l1[i], l2[i])\n"
   ]
  },
  {
   "cell_type": "markdown",
   "id": "b5cb38b4",
   "metadata": {},
   "source": [
    "The more Pythonic way of doing this is to use the `zip` function which returns an iterator that can be used to iterate over multiple iterables in \"parallel\":"
   ]
  },
  {
   "cell_type": "code",
   "execution_count": 12,
   "id": "0d2fe4f9",
   "metadata": {},
   "outputs": [
    {
     "name": "stdout",
     "output_type": "stream",
     "text": [
      "(1, 'a')\n",
      "(2, 'b')\n",
      "(3, 'c')\n",
      "(4, 'd')\n",
      "(5, 'e')\n"
     ]
    }
   ],
   "source": [
    "l1 = [1, 2, 3, 4, 5]\n",
    "l2 = list(\"abcde\")\n",
    "\n",
    "for el in zip(l1, l2):\n",
    "    print(el)"
   ]
  },
  {
   "cell_type": "markdown",
   "id": "4d2811ce",
   "metadata": {},
   "source": [
    "Of course we can also just unpack the tuples returned by `zip` directly in the loop variables:"
   ]
  },
  {
   "cell_type": "code",
   "execution_count": 13,
   "id": "ed30b7f9",
   "metadata": {},
   "outputs": [
    {
     "name": "stdout",
     "output_type": "stream",
     "text": [
      "1 a\n",
      "2 b\n",
      "3 c\n",
      "4 d\n",
      "5 e\n"
     ]
    }
   ],
   "source": [
    "for v1, v2 in zip(l1, l2):\n",
    "    print(v1, v2)"
   ]
  },
  {
   "cell_type": "markdown",
   "id": "4a460b87",
   "metadata": {},
   "source": [
    "This extends to more than just two iterables:"
   ]
  },
  {
   "cell_type": "code",
   "execution_count": 14,
   "id": "7a049d6d",
   "metadata": {},
   "outputs": [
    {
     "name": "stdout",
     "output_type": "stream",
     "text": [
      "1 a 100\n",
      "2 b 200\n",
      "3 c 300\n",
      "4 d 400\n",
      "5 e 500\n"
     ]
    }
   ],
   "source": [
    "l1 = [1, 2, 3, 4, 5]\n",
    "l2 = \"abcde\"\n",
    "l3 = (100, 200, 300, 400, 500)\n",
    "\n",
    "for v1, v2, v3 in zip(l1, l2 , l3):\n",
    "    print(v1, v2, v3)"
   ]
  },
  {
   "cell_type": "markdown",
   "id": "157d8d87",
   "metadata": {},
   "source": [
    "`zip` will stop iterating based on the **shortest** sequence, so we don't have to play with the `min` function as we did when using indexing:"
   ]
  },
  {
   "cell_type": "code",
   "execution_count": 15,
   "id": "e768b7df",
   "metadata": {},
   "outputs": [
    {
     "name": "stdout",
     "output_type": "stream",
     "text": [
      "1 a\n",
      "2 b\n",
      "3 c\n"
     ]
    }
   ],
   "source": [
    "l1 = [1, 2, 3, 4, 5]\n",
    "l2 = \"abc\"\n",
    "\n",
    "for v1, v2 in zip(l1, l2):\n",
    "    print(v1, v2)"
   ]
  },
  {
   "cell_type": "markdown",
   "id": "eb1f46cd",
   "metadata": {},
   "source": [
    "And `zip` is not restricted to sequence types, but will work with any iterable."
   ]
  },
  {
   "cell_type": "markdown",
   "id": "3aaf8d3b",
   "metadata": {},
   "source": [
    "If you want to iterate based on the **longest** iterable, that is possible too, and Python covers that case too - we just need to use the `zip_longest` in the `itertools` module. The only thing is we need to specify what the **fill** value should be for the iterables that are shorter than the longest one."
   ]
  },
  {
   "cell_type": "code",
   "execution_count": 16,
   "id": "a01e5ffa",
   "metadata": {},
   "outputs": [],
   "source": [
    "from itertools import zip_longest"
   ]
  },
  {
   "cell_type": "code",
   "execution_count": 17,
   "id": "2193fd41",
   "metadata": {},
   "outputs": [],
   "source": [
    "l1 = [1, 2, 3, 4, 5]\n",
    "l2 = \"abcd\"\n",
    "l3 = (100, 200, 300)"
   ]
  },
  {
   "cell_type": "markdown",
   "id": "2b2c35a9",
   "metadata": {},
   "source": [
    "Just like `zip`, `zip_longest` returns an iterator, and we can simply iterate over it using a `for` loop (as well as other mechanisms such as using `next`, passing it to a function such `list()`, etc)."
   ]
  },
  {
   "cell_type": "code",
   "execution_count": 18,
   "id": "547759ef",
   "metadata": {},
   "outputs": [
    {
     "name": "stdout",
     "output_type": "stream",
     "text": [
      "(1, 'a', 100)\n",
      "(2, 'b', 200)\n",
      "(3, 'c', 300)\n",
      "(4, 'd', None)\n",
      "(5, None, None)\n"
     ]
    }
   ],
   "source": [
    "for el in zip_longest(l1, l2, l3):\n",
    "    print(el)"
   ]
  },
  {
   "cell_type": "markdown",
   "id": "546b23bf",
   "metadata": {},
   "source": [
    "As you can see the **default** fill value is `None`, but we can specify a custom one if needed:"
   ]
  },
  {
   "cell_type": "code",
   "execution_count": 19,
   "id": "f83591fc",
   "metadata": {},
   "outputs": [
    {
     "name": "stdout",
     "output_type": "stream",
     "text": [
      "(1, 'a', 100)\n",
      "(2, 'b', 200)\n",
      "(3, 'c', 300)\n",
      "(4, 'd', 'N/A')\n",
      "(5, 'N/A', 'N/A')\n"
     ]
    }
   ],
   "source": [
    "for el in zip_longest(l1, l2, l3, fillvalue=\"N/A\"):\n",
    "    print(el)"
   ]
  },
  {
   "cell_type": "markdown",
   "id": "4d9b643b",
   "metadata": {},
   "source": [
    "And of course we can unpack the tuples in the iteration directly into loop variables:"
   ]
  },
  {
   "cell_type": "code",
   "execution_count": 20,
   "id": "56406e89",
   "metadata": {},
   "outputs": [
    {
     "name": "stdout",
     "output_type": "stream",
     "text": [
      "1 a 100\n",
      "2 b 200\n",
      "3 c 300\n",
      "4 d N/A\n",
      "5 N/A N/A\n"
     ]
    }
   ],
   "source": [
    "for v1, v2, v3 in zip_longest(l1, l2, l3, fillvalue=\"N/A\"):\n",
    "    print(v1, v2, v3)"
   ]
  },
  {
   "cell_type": "markdown",
   "id": "70e5e333",
   "metadata": {},
   "source": [
    "#### Looping in Reverse Order"
   ]
  },
  {
   "cell_type": "markdown",
   "id": "aef33ce5",
   "metadata": {},
   "source": [
    "Many techniques you might have learned in other languages for iterating over a sequence in reverse order requires reversing the indexing you use to loop:"
   ]
  },
  {
   "cell_type": "code",
   "execution_count": 21,
   "id": "a5d3d431",
   "metadata": {},
   "outputs": [
    {
     "name": "stdout",
     "output_type": "stream",
     "text": [
      "5\n",
      "4\n",
      "3\n",
      "2\n",
      "1\n"
     ]
    }
   ],
   "source": [
    "l = [1, 2, 3, 4, 5]\n",
    "for i in range(len(l)-1, -1, -1):\n",
    "    print(l[i])"
   ]
  },
  {
   "cell_type": "markdown",
   "id": "d93ef8fb",
   "metadata": {},
   "source": [
    "Again, using indexing for looping over collections is not very Pythonic. Moreover, it does not extend to iterables in general."
   ]
  },
  {
   "cell_type": "markdown",
   "id": "7ff8bf94",
   "metadata": {},
   "source": [
    "For sequence types, a better way of doing this could be to use slicing:"
   ]
  },
  {
   "cell_type": "code",
   "execution_count": 22,
   "id": "3a06d1b9",
   "metadata": {},
   "outputs": [
    {
     "name": "stdout",
     "output_type": "stream",
     "text": [
      "5\n",
      "4\n",
      "3\n",
      "2\n",
      "1\n"
     ]
    }
   ],
   "source": [
    "for el in l[::-1]:\n",
    "    print(el)"
   ]
  },
  {
   "cell_type": "markdown",
   "id": "edeee76b",
   "metadata": {},
   "source": [
    "This is good, but `l[::-1]` actually creates a new list that contains all the elements of the original list - so, needless memory overhead."
   ]
  },
  {
   "cell_type": "markdown",
   "id": "2daf2a0d",
   "metadata": {},
   "source": [
    "Instead, we can use the `reversed` function which also returns an iterator and uses lazy evaluation:"
   ]
  },
  {
   "cell_type": "code",
   "execution_count": 23,
   "id": "8f27e405",
   "metadata": {},
   "outputs": [
    {
     "data": {
      "text/plain": [
       "[1, 2, 3, 4, 5]"
      ]
     },
     "execution_count": 23,
     "metadata": {},
     "output_type": "execute_result"
    }
   ],
   "source": [
    "l"
   ]
  },
  {
   "cell_type": "code",
   "execution_count": 24,
   "id": "d5afd999",
   "metadata": {},
   "outputs": [
    {
     "data": {
      "text/plain": [
       "<list_reverseiterator at 0x105af9bd0>"
      ]
     },
     "execution_count": 24,
     "metadata": {},
     "output_type": "execute_result"
    }
   ],
   "source": [
    "reversed(l)"
   ]
  },
  {
   "cell_type": "markdown",
   "id": "2053083e",
   "metadata": {},
   "source": [
    "As you can see it is an iterator, and does not compute (and store) the entire reversed list ahead of time."
   ]
  },
  {
   "cell_type": "code",
   "execution_count": 25,
   "id": "7dd7c25c",
   "metadata": {},
   "outputs": [
    {
     "name": "stdout",
     "output_type": "stream",
     "text": [
      "5\n",
      "4\n",
      "3\n",
      "2\n",
      "1\n"
     ]
    }
   ],
   "source": [
    "for el in reversed(l):\n",
    "    print(el)"
   ]
  },
  {
   "cell_type": "markdown",
   "id": "9cfa4e9e",
   "metadata": {},
   "source": [
    "And of course, it works for more than just sequence types, as long as the iterable implements the `__reversed__` method."
   ]
  },
  {
   "cell_type": "markdown",
   "id": "af34341f",
   "metadata": {},
   "source": [
    "#### Conclusion"
   ]
  },
  {
   "cell_type": "markdown",
   "id": "5a22c140",
   "metadata": {},
   "source": [
    "So, as a general rule of thumb, using indexing for looping over iterables is usually not considered Pythonic - instead use regular `for` loops, and leverage functions such as `enumerate`, `zip`, and `zip_longest`."
   ]
  }
 ],
 "metadata": {
  "kernelspec": {
   "display_name": "Python 3 (ipykernel)",
   "language": "python",
   "name": "python3"
  },
  "language_info": {
   "codemirror_mode": {
    "name": "ipython",
    "version": 3
   },
   "file_extension": ".py",
   "mimetype": "text/x-python",
   "name": "python",
   "nbconvert_exporter": "python",
   "pygments_lexer": "ipython3",
   "version": "3.10.2"
  }
 },
 "nbformat": 4,
 "nbformat_minor": 5
}
