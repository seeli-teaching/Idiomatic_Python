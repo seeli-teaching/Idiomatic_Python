{
 "cells": [
  {
   "cell_type": "markdown",
   "id": "b969fe40",
   "metadata": {},
   "source": [
    "### Idiomatic Python: The `iter` Function"
   ]
  },
  {
   "cell_type": "markdown",
   "id": "f1bd7d53",
   "metadata": {},
   "source": [
    "This is the first of a series of videos I am planning to create on writing more Pythonic code.\n",
    "\n",
    "Often we end up writing an algorithm using the first solution that comes to mind, especially if we have a background in another language (maybe Java, Javascript, C, etc), but also when we are beginners.\n",
    "\n",
    "The thing is that each language has its strengths and unique abilities, and simply \"translating\" an algorithm from one language to another does not necessarily take advantage of the target language features specifically.\n",
    "\n",
    "And so it is with Python - Python has some unique language features that, as Python developers, we should leverage - often called writing idiomatic Python, or Pythonic code.\n",
    "\n",
    "In this series we are going to look at various specific examples - over time I will add all these videos to the `Idiomatic Python` playlist in this channel.\n",
    "\n",
    "Some will be extremely short, some a bit longer, and my list will likely never be exhaustive!\n",
    "\n",
    "You will also find that some topics are more general even than just Python, but are applicable to Python development as well."
   ]
  },
  {
   "cell_type": "markdown",
   "id": "bd2e5453",
   "metadata": {},
   "source": [
    "Today, we're going to look at the `iter` function."
   ]
  },
  {
   "cell_type": "markdown",
   "id": "bccc577b",
   "metadata": {},
   "source": [
    "You've probably used the `iter` function before if you were trying to recover an iterator from an iterable, so you could use `next` on it."
   ]
  },
  {
   "cell_type": "markdown",
   "id": "f4ef4208",
   "metadata": {},
   "source": [
    "For example:"
   ]
  },
  {
   "cell_type": "code",
   "execution_count": 1,
   "id": "da4b3734",
   "metadata": {},
   "outputs": [],
   "source": [
    "numbers = [1, 2, 3, 4, 5]"
   ]
  },
  {
   "cell_type": "code",
   "execution_count": 2,
   "id": "9352c5cf",
   "metadata": {},
   "outputs": [
    {
     "data": {
      "text/plain": [
       "[1, 2, 3, 4, 5]"
      ]
     },
     "execution_count": 2,
     "metadata": {},
     "output_type": "execute_result"
    }
   ],
   "source": [
    "numbers"
   ]
  },
  {
   "cell_type": "markdown",
   "id": "c3fe0962",
   "metadata": {},
   "source": [
    "Now a list is not an iterator object, but it is an iterable.\n",
    "\n",
    "So while we cannot call `next()` directly on our list:"
   ]
  },
  {
   "cell_type": "code",
   "execution_count": 3,
   "id": "cb6d0aac",
   "metadata": {},
   "outputs": [
    {
     "name": "stdout",
     "output_type": "stream",
     "text": [
      "TypeError: 'list' object is not an iterator\n"
     ]
    }
   ],
   "source": [
    "try:\n",
    "    next(numbers)\n",
    "except TypeError as ex:\n",
    "    print(\"TypeError:\", ex)"
   ]
  },
  {
   "cell_type": "markdown",
   "id": "9a97b0db",
   "metadata": {},
   "source": [
    "we can get an iterator for it first, and then call `next()` on the iterator:"
   ]
  },
  {
   "cell_type": "code",
   "execution_count": 4,
   "id": "9b7e6192",
   "metadata": {},
   "outputs": [
    {
     "name": "stdout",
     "output_type": "stream",
     "text": [
      "1\n",
      "2\n",
      "3\n",
      "4\n",
      "5\n"
     ]
    }
   ],
   "source": [
    "iter_numbers = iter(numbers)\n",
    "\n",
    "for _ in range(5):\n",
    "    print(next(iter_numbers))"
   ]
  },
  {
   "cell_type": "markdown",
   "id": "16f11095",
   "metadata": {},
   "source": [
    "So this common way of using `iter()` is to retrieve an iterator, that you can call `next()` on to iterate over the iterator."
   ]
  },
  {
   "cell_type": "markdown",
   "id": "17b41ba1",
   "metadata": {},
   "source": [
    "But, `iter()` can also be called with **two** arguments."
   ]
  },
  {
   "cell_type": "markdown",
   "id": "d96f658e",
   "metadata": {},
   "source": [
    "In that case, the first argument needs to be a callable, and the second argument is a sentinel value."
   ]
  },
  {
   "cell_type": "markdown",
   "id": "d92a50dc",
   "metadata": {},
   "source": [
    "When you call iter with those two arguments, it builds and returns an iterator that calls the first argument (hence why it needs to be a callable), until the callable returns a value that is equal (`==`) to some specific value (called the **sentinel** value), at which point the iterator is considered \"empty\" (or exhausted, or fully iterated)."
   ]
  },
  {
   "cell_type": "markdown",
   "id": "e7c64af8",
   "metadata": {},
   "source": [
    "Here's a rather silly example (we'll get to a more realistic example in a bit):"
   ]
  },
  {
   "cell_type": "code",
   "execution_count": 5,
   "id": "f7481c28",
   "metadata": {},
   "outputs": [],
   "source": [
    "import random\n",
    "\n",
    "def gen_randint():\n",
    "    return random.randint(0, 10)"
   ]
  },
  {
   "cell_type": "markdown",
   "id": "15c0af0e",
   "metadata": {},
   "source": [
    "Now we want to generate a sequence of these random integers, until we hit `5` for the first time."
   ]
  },
  {
   "cell_type": "markdown",
   "id": "9f3d686d",
   "metadata": {},
   "source": [
    "We could do it easily this way:"
   ]
  },
  {
   "cell_type": "code",
   "execution_count": 6,
   "id": "a2d9c386",
   "metadata": {},
   "outputs": [
    {
     "name": "stdout",
     "output_type": "stream",
     "text": [
      "6\n",
      "6\n",
      "0\n",
      "4\n",
      "8\n",
      "7\n",
      "6\n",
      "4\n",
      "7\n"
     ]
    }
   ],
   "source": [
    "random.seed(0) \n",
    "\n",
    "sentinel = 5\n",
    "while True:\n",
    "    result = gen_randint()\n",
    "    if result != sentinel:\n",
    "        print(result)\n",
    "    else:\n",
    "        break"
   ]
  },
  {
   "cell_type": "markdown",
   "id": "cd73f94c",
   "metadata": {},
   "source": [
    "But we can leverage `iter()` to achieve the same thing in a much simpler way.\n",
    "\n",
    "First we create an iterator object (specifically a `callable_iterator` object):"
   ]
  },
  {
   "cell_type": "code",
   "execution_count": 7,
   "id": "563277db",
   "metadata": {},
   "outputs": [
    {
     "name": "stdout",
     "output_type": "stream",
     "text": [
      "<class 'callable_iterator'>\n"
     ]
    }
   ],
   "source": [
    "iterator = iter(gen_randint, 5)\n",
    "\n",
    "print(type(iterator))"
   ]
  },
  {
   "cell_type": "markdown",
   "id": "6c7853a4",
   "metadata": {},
   "source": [
    "And we can use it this way:"
   ]
  },
  {
   "cell_type": "code",
   "execution_count": 8,
   "id": "704cfafa",
   "metadata": {},
   "outputs": [
    {
     "name": "stdout",
     "output_type": "stream",
     "text": [
      "6\n",
      "6\n",
      "0\n",
      "4\n",
      "8\n",
      "7\n",
      "6\n",
      "4\n",
      "7\n"
     ]
    }
   ],
   "source": [
    "random.seed(0)\n",
    "\n",
    "for number in iter(gen_randint, 5):\n",
    "    print(number)"
   ]
  },
  {
   "cell_type": "markdown",
   "id": "8e6506db",
   "metadata": {},
   "source": [
    "As you can see, the iterator basically keeps calling `gen_randint` until that function returns the sentinel value `5`."
   ]
  },
  {
   "cell_type": "markdown",
   "id": "00cb6a44",
   "metadata": {},
   "source": [
    "As it is an iterator, you can of course call `next()` on it (you can also call `iter()` on it, and it will return the object back since it already is an iterator):"
   ]
  },
  {
   "cell_type": "code",
   "execution_count": 9,
   "id": "d4055c25",
   "metadata": {},
   "outputs": [
    {
     "data": {
      "text/plain": [
       "True"
      ]
     },
     "execution_count": 9,
     "metadata": {},
     "output_type": "execute_result"
    }
   ],
   "source": [
    "iterator = iter(gen_randint, 5)\n",
    "\n",
    "iter(iterator) is iterator"
   ]
  },
  {
   "cell_type": "code",
   "execution_count": 10,
   "id": "bd16d17e",
   "metadata": {},
   "outputs": [
    {
     "name": "stdout",
     "output_type": "stream",
     "text": [
      "6\n",
      "6\n",
      "0\n",
      "4\n"
     ]
    }
   ],
   "source": [
    "random.seed(0)\n",
    "\n",
    "for _ in range(4):\n",
    "    print(next(iterator))"
   ]
  },
  {
   "cell_type": "markdown",
   "id": "53527608",
   "metadata": {},
   "source": [
    "How about if the function we want to call needs arguments - we can use either a lambda function to get around this, or use a `partial` function.\n",
    "\n",
    "For example, suppose we have this function:"
   ]
  },
  {
   "cell_type": "code",
   "execution_count": 11,
   "id": "99c2274f",
   "metadata": {},
   "outputs": [],
   "source": [
    "def gen_randint(min_, max_):\n",
    "    return random.randint(min_, max_)"
   ]
  },
  {
   "cell_type": "markdown",
   "id": "ba5e754e",
   "metadata": {},
   "source": [
    "We want to use this function as the callable in `iter()` with the values `0` and `10`.\n",
    "\n",
    "We can use a lambda to create a new function that is callable, and returns the value of calling `gen_randint` with the specific `min_` and `max_` values:"
   ]
  },
  {
   "cell_type": "code",
   "execution_count": 12,
   "id": "f26541d4",
   "metadata": {},
   "outputs": [],
   "source": [
    "gen_lambda = lambda: gen_randint(0, 10)"
   ]
  },
  {
   "cell_type": "markdown",
   "id": "cade16ef",
   "metadata": {},
   "source": [
    "We can call this function normally, and it does not require any arguments:"
   ]
  },
  {
   "cell_type": "code",
   "execution_count": 13,
   "id": "c614cafb",
   "metadata": {},
   "outputs": [
    {
     "name": "stdout",
     "output_type": "stream",
     "text": [
      "6\n",
      "6\n",
      "0\n",
      "4\n"
     ]
    }
   ],
   "source": [
    "random.seed(0)\n",
    "\n",
    "for _ in range(4):\n",
    "    print(gen_lambda())"
   ]
  },
  {
   "cell_type": "markdown",
   "id": "75333614",
   "metadata": {},
   "source": [
    "Another way to do this, is to use `partial`, located in the `functools` module:"
   ]
  },
  {
   "cell_type": "code",
   "execution_count": 14,
   "id": "f9411c9c",
   "metadata": {},
   "outputs": [],
   "source": [
    "from functools import partial"
   ]
  },
  {
   "cell_type": "code",
   "execution_count": 15,
   "id": "d6108f59",
   "metadata": {},
   "outputs": [],
   "source": [
    "gen_partial = partial(gen_randint, 0, 10)"
   ]
  },
  {
   "cell_type": "markdown",
   "id": "400a64be",
   "metadata": {},
   "source": [
    "This works the same way as the lambda:"
   ]
  },
  {
   "cell_type": "code",
   "execution_count": 16,
   "id": "c7927670",
   "metadata": {},
   "outputs": [
    {
     "name": "stdout",
     "output_type": "stream",
     "text": [
      "6\n",
      "6\n",
      "0\n",
      "4\n"
     ]
    }
   ],
   "source": [
    "random.seed(0)\n",
    "\n",
    "for _ in range(4):\n",
    "    print(gen_partial())"
   ]
  },
  {
   "cell_type": "markdown",
   "id": "89a533ea",
   "metadata": {},
   "source": [
    "And now we can use either of these approaches to create our callable iterator using `iter()`:"
   ]
  },
  {
   "cell_type": "code",
   "execution_count": 17,
   "id": "0c4ed683",
   "metadata": {},
   "outputs": [
    {
     "name": "stdout",
     "output_type": "stream",
     "text": [
      "6\n",
      "6\n",
      "0\n",
      "4\n",
      "8\n",
      "7\n",
      "6\n",
      "4\n",
      "7\n"
     ]
    }
   ],
   "source": [
    "random.seed(0)\n",
    "\n",
    "for number in iter(lambda: gen_randint(0, 10), 5):\n",
    "    print(number)"
   ]
  },
  {
   "cell_type": "markdown",
   "id": "7d83c817",
   "metadata": {},
   "source": [
    "Or, using the partial:"
   ]
  },
  {
   "cell_type": "code",
   "execution_count": 18,
   "id": "f067e6fc",
   "metadata": {},
   "outputs": [
    {
     "name": "stdout",
     "output_type": "stream",
     "text": [
      "6\n",
      "6\n",
      "0\n",
      "4\n",
      "8\n",
      "7\n",
      "6\n",
      "4\n",
      "7\n"
     ]
    }
   ],
   "source": [
    "random.seed(0)\n",
    "\n",
    "for number in iter(partial(gen_randint, 0, 10), 5):\n",
    "    print(number)"
   ]
  },
  {
   "cell_type": "markdown",
   "id": "a7be34d9",
   "metadata": {},
   "source": [
    "#### Application"
   ]
  },
  {
   "cell_type": "markdown",
   "id": "0fa07bbb",
   "metadata": {},
   "source": [
    "One very common application of this way of using `iter()` is when reading data from some source in \"chunks\" of a certain size."
   ]
  },
  {
   "cell_type": "markdown",
   "id": "b3420a94",
   "metadata": {},
   "source": [
    "For example, this is an extremely common way you'll see of reading data from a socket - this is even shown as an example in the Python docs [here](https://docs.python.org/3/library/socket.html#example)"
   ]
  },
  {
   "cell_type": "markdown",
   "id": "78e1b1c1",
   "metadata": {},
   "source": [
    "We're not going to get into sockets here, so instead let's just see how we would read a text file in chunks, just to see how this works - but the same pattern applies to any problem where you are essentially running a loop, calling the same function each time, until the function returns a specific value - the sentinel value."
   ]
  },
  {
   "cell_type": "markdown",
   "id": "58f27dc9",
   "metadata": {},
   "source": [
    "First I'm going to create a local text file:"
   ]
  },
  {
   "cell_type": "code",
   "execution_count": 19,
   "id": "5d68eb01",
   "metadata": {},
   "outputs": [],
   "source": [
    "with open(\"test.txt\", \"w\") as f:\n",
    "    for _ in range(10):\n",
    "        f.write(f\"0123456789\")"
   ]
  },
  {
   "cell_type": "markdown",
   "id": "342154cc",
   "metadata": {},
   "source": [
    "We can read back the file line by line this way:"
   ]
  },
  {
   "cell_type": "code",
   "execution_count": 20,
   "id": "bd0cf9a0",
   "metadata": {},
   "outputs": [
    {
     "name": "stdout",
     "output_type": "stream",
     "text": [
      "0123456789012345678901234567890123456789012345678901234567890123456789012345678901234567890123456789\n"
     ]
    }
   ],
   "source": [
    "with open(\"test.txt\") as f:\n",
    "    for line in f.readlines():\n",
    "        print(line)"
   ]
  },
  {
   "cell_type": "markdown",
   "id": "dbdab5da",
   "metadata": {},
   "source": [
    "But what if we wanted to read the file in chunks of `12` characters at a time?\n",
    "\n",
    "We could do it this way:"
   ]
  },
  {
   "cell_type": "code",
   "execution_count": 21,
   "id": "1dff2d8d",
   "metadata": {},
   "outputs": [
    {
     "name": "stdout",
     "output_type": "stream",
     "text": [
      "012345678901\n",
      "234567890123\n",
      "456789012345\n",
      "678901234567\n",
      "890123456789\n",
      "012345678901\n",
      "234567890123\n",
      "456789012345\n",
      "6789\n"
     ]
    }
   ],
   "source": [
    "with open(\"test.txt\") as f:\n",
    "    while True:\n",
    "        chunk = f.read(12)\n",
    "        if chunk == \"\":\n",
    "            break\n",
    "        print(chunk)"
   ]
  },
  {
   "cell_type": "markdown",
   "id": "49c8cad8",
   "metadata": {},
   "source": [
    "You'll notice that our sentinel value is an empty string - this means there's nothing to left to read from the file, and we therefore break out of our infinite while loop.\n",
    "\n",
    "A much easier way to write this is using the `iter()` function:"
   ]
  },
  {
   "cell_type": "code",
   "execution_count": 22,
   "id": "a6dcc9d2",
   "metadata": {},
   "outputs": [
    {
     "name": "stdout",
     "output_type": "stream",
     "text": [
      "012345678901\n",
      "234567890123\n",
      "456789012345\n",
      "678901234567\n",
      "890123456789\n",
      "012345678901\n",
      "234567890123\n",
      "456789012345\n",
      "6789\n"
     ]
    }
   ],
   "source": [
    "with open(\"test.txt\") as f:\n",
    "    for chunk in iter(partial(f.read, 12), \"\"):\n",
    "        print(chunk.strip())"
   ]
  },
  {
   "cell_type": "markdown",
   "id": "333eafe8",
   "metadata": {},
   "source": [
    "Or, if you particularly object to using `partial`, you could do the same thing using a lambda:"
   ]
  },
  {
   "cell_type": "code",
   "execution_count": 23,
   "id": "03057616",
   "metadata": {},
   "outputs": [
    {
     "name": "stdout",
     "output_type": "stream",
     "text": [
      "012345678901\n",
      "234567890123\n",
      "456789012345\n",
      "678901234567\n",
      "890123456789\n",
      "012345678901\n",
      "234567890123\n",
      "456789012345\n",
      "6789\n"
     ]
    }
   ],
   "source": [
    "with open(\"test.txt\") as f:\n",
    "    for chunk in iter(lambda: f.read(12), \"\"):\n",
    "        print(chunk.strip())"
   ]
  },
  {
   "cell_type": "markdown",
   "id": "e7641283",
   "metadata": {},
   "source": [
    "So, compare the two approaches:"
   ]
  },
  {
   "cell_type": "markdown",
   "id": "dd208f0d",
   "metadata": {},
   "source": [
    "```python\n",
    "with open(\"test.txt\") as f:\n",
    "    while True:\n",
    "        chunk = f.read(12)\n",
    "        if chunk == \"\":\n",
    "            break\n",
    "        print(chunk)\n",
    "```            "
   ]
  },
  {
   "cell_type": "markdown",
   "id": "bf118f18",
   "metadata": {},
   "source": [
    "vs"
   ]
  },
  {
   "cell_type": "markdown",
   "id": "246c6438",
   "metadata": {},
   "source": [
    "```python\n",
    "with open(\"test.txt\") as f:\n",
    "    for chunk in iter(partial(f.read, 12), \"\"):\n",
    "        print(chunk.strip())\n",
    "```"
   ]
  },
  {
   "cell_type": "markdown",
   "id": "47ea0b0c",
   "metadata": {},
   "source": [
    "or"
   ]
  },
  {
   "cell_type": "markdown",
   "id": "7cd8e76d",
   "metadata": {},
   "source": [
    "```python\n",
    "with open(\"test.txt\") as f:\n",
    "    for chunk in iter(lambda: f.read(12), \"\"):\n",
    "        print(chunk.strip())\n",
    "```"
   ]
  },
  {
   "cell_type": "markdown",
   "id": "ff932ea9",
   "metadata": {},
   "source": [
    "My view is that the second (or third) option is far more Pythonic and expressive than the first option."
   ]
  }
 ],
 "metadata": {
  "kernelspec": {
   "display_name": "Python 3 (ipykernel)",
   "language": "python",
   "name": "python3"
  },
  "language_info": {
   "codemirror_mode": {
    "name": "ipython",
    "version": 3
   },
   "file_extension": ".py",
   "mimetype": "text/x-python",
   "name": "python",
   "nbconvert_exporter": "python",
   "pygments_lexer": "ipython3",
   "version": "3.11.1"
  }
 },
 "nbformat": 4,
 "nbformat_minor": 5
}
