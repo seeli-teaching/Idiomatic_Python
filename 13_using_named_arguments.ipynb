{
 "cells": [
  {
   "cell_type": "markdown",
   "id": "fd184b7a",
   "metadata": {},
   "source": [
    "### Idiomatic Python: Using Named Arguments"
   ]
  },
  {
   "cell_type": "markdown",
   "id": "8dc2f59f",
   "metadata": {},
   "source": [
    "When we write a function in Python, we have the option of creating **positional** arguments as well as **keyword-only** arguments.\n",
    "\n",
    "A recent addition to Python is the ability to also define **positional-only** arguments for our functions, just like the built-ins (which are written in C) always could do, but we couldn't in user defined callables."
   ]
  },
  {
   "cell_type": "markdown",
   "id": "e3a919e6",
   "metadata": {},
   "source": [
    "Let's take a look at an example:"
   ]
  },
  {
   "cell_type": "code",
   "execution_count": 1,
   "id": "282284df",
   "metadata": {},
   "outputs": [],
   "source": [
    "def my_func(a, b, c):\n",
    "    return(f\"{a=}, {b=}, {c=}\")"
   ]
  },
  {
   "cell_type": "markdown",
   "id": "0f4bdf70",
   "metadata": {},
   "source": [
    "In this case `my_func` has three positional arguments, which means we can call the function this way:"
   ]
  },
  {
   "cell_type": "code",
   "execution_count": 2,
   "id": "eb48c12a",
   "metadata": {},
   "outputs": [
    {
     "data": {
      "text/plain": [
       "'a=1, b=2, c=3'"
      ]
     },
     "execution_count": 2,
     "metadata": {},
     "output_type": "execute_result"
    }
   ],
   "source": [
    "my_func(1, 2, 3)"
   ]
  },
  {
   "cell_type": "markdown",
   "id": "a552f979",
   "metadata": {},
   "source": [
    "But, Python also allows us to pass these same arguments by name:"
   ]
  },
  {
   "cell_type": "code",
   "execution_count": 3,
   "id": "602c03c3",
   "metadata": {},
   "outputs": [
    {
     "data": {
      "text/plain": [
       "'a=1, b=2, c=3'"
      ]
     },
     "execution_count": 3,
     "metadata": {},
     "output_type": "execute_result"
    }
   ],
   "source": [
    "my_func(a=1, b=2, c=3)"
   ]
  },
  {
   "cell_type": "markdown",
   "id": "bd145d96",
   "metadata": {},
   "source": [
    "Or even, just some of them by name:"
   ]
  },
  {
   "cell_type": "code",
   "execution_count": 4,
   "id": "45f46cd2",
   "metadata": {},
   "outputs": [
    {
     "data": {
      "text/plain": [
       "'a=1, b=2, c=3'"
      ]
     },
     "execution_count": 4,
     "metadata": {},
     "output_type": "execute_result"
    }
   ],
   "source": [
    "my_func(1, b=2, c=3)"
   ]
  },
  {
   "cell_type": "markdown",
   "id": "05e45e6c",
   "metadata": {},
   "source": [
    "The advantage of using named arguments is that we do not have to worry about the specific order in which the arguments have to be passed."
   ]
  },
  {
   "cell_type": "code",
   "execution_count": 5,
   "id": "be94306f",
   "metadata": {},
   "outputs": [
    {
     "data": {
      "text/plain": [
       "'a=1, b=2, c=3'"
      ]
     },
     "execution_count": 5,
     "metadata": {},
     "output_type": "execute_result"
    }
   ],
   "source": [
    "my_func(b=2, c=3, a=1)"
   ]
  },
  {
   "cell_type": "markdown",
   "id": "0b883357",
   "metadata": {},
   "source": [
    "Not so with positional arguments:"
   ]
  },
  {
   "cell_type": "code",
   "execution_count": 6,
   "id": "6942808c",
   "metadata": {},
   "outputs": [
    {
     "data": {
      "text/plain": [
       "'a=2, b=3, c=1'"
      ]
     },
     "execution_count": 6,
     "metadata": {},
     "output_type": "execute_result"
    }
   ],
   "source": [
    "my_func(2, 3, 1)"
   ]
  },
  {
   "cell_type": "markdown",
   "id": "f00532a7",
   "metadata": {},
   "source": [
    "So, the issue, as we are writing code that calls functions that have many arguments, is that if we pass those arguments positionally, we have to **remember** the specific order in which the arguments need to be passed."
   ]
  },
  {
   "cell_type": "markdown",
   "id": "2f4560ef",
   "metadata": {},
   "source": [
    "This can easily lead to decreased productivity (keep having to go back to your function definition, or docs), and easily introducing bugs in your app."
   ]
  },
  {
   "cell_type": "markdown",
   "id": "93664cac",
   "metadata": {},
   "source": [
    "One of my favorite examples is if a function requires both a longitude and a latitude:"
   ]
  },
  {
   "cell_type": "code",
   "execution_count": 7,
   "id": "c3adadad",
   "metadata": {},
   "outputs": [],
   "source": [
    "def position(longitude, latitude):\n",
    "    return f\"{longitude=}, {latitude=}\""
   ]
  },
  {
   "cell_type": "markdown",
   "id": "6a845449",
   "metadata": {},
   "source": [
    "Now when I call `position`, I have to everytime think \"does longitude come before latitude?\".\n",
    "\n",
    "And if I get it wrong, I have mistakenly swapped the longitude and the latitude."
   ]
  },
  {
   "cell_type": "markdown",
   "id": "ed99b37b",
   "metadata": {},
   "source": [
    "So, even though the function itself does not enforce passing the arguments by name, as a developer I can still choose to do so:"
   ]
  },
  {
   "cell_type": "code",
   "execution_count": 8,
   "id": "837cdaef",
   "metadata": {},
   "outputs": [
    {
     "data": {
      "text/plain": [
       "'longitude=-3, latitude=10'"
      ]
     },
     "execution_count": 8,
     "metadata": {},
     "output_type": "execute_result"
    }
   ],
   "source": [
    "position(latitude=10, longitude=-3)"
   ]
  },
  {
   "cell_type": "markdown",
   "id": "5a95df55",
   "metadata": {},
   "source": [
    "When you are calling a function that has multiple positional arguments, the better, more pythonic way, is to call that function with named arguments."
   ]
  },
  {
   "cell_type": "markdown",
   "id": "f6a0b4b6",
   "metadata": {},
   "source": [
    "In fact, I will often write my own functions this way:"
   ]
  },
  {
   "cell_type": "code",
   "execution_count": 9,
   "id": "166f5817",
   "metadata": {},
   "outputs": [],
   "source": [
    "def position(*, longitude, latitude):\n",
    "    return f\"{longitude=}, {latitude=}\""
   ]
  },
  {
   "cell_type": "markdown",
   "id": "22218fb3",
   "metadata": {},
   "source": [
    "I often get asked \"what does that do?\" by people reviewing my code. \n",
    "\n",
    "They usually just don't understand what that `*,` syntax does - it makes the parameters defined after it **keyword-only** arguments. This way, I can **force** someone who calls my `position` function to used named arguments."
   ]
  },
  {
   "cell_type": "markdown",
   "id": "04e7c497",
   "metadata": {},
   "source": [
    "Why do I do this?\n",
    "\n",
    "I do this to help other developers using my function decrease the odds of introducing a bug. Not every developer is going to use named arguments in these cases, so I force them to. Out of kindness and concern for their well-being (and also so I don't have to sit three months later trying to debug their code when something breaks in production in the middle of the night 😉) "
   ]
  },
  {
   "cell_type": "markdown",
   "id": "eb6bbb0b",
   "metadata": {},
   "source": [
    "> **Bottom line**: when calling a function that has multiple arguments, and the order of these arguments is meaningful, call the function using named arguments if the functions allows it (even if the function does not force you to do so).\n",
    ">\n",
    ">It makes the code far more expressive, and decreases the chances for introducing bugs. It takes just a few extra keystrokes, and does not impact performance in any significant way.\n",
    ">\n",
    ">You'll be a better programmer for it!"
   ]
  },
  {
   "cell_type": "code",
   "execution_count": null,
   "id": "88bb8663",
   "metadata": {},
   "outputs": [],
   "source": []
  }
 ],
 "metadata": {
  "kernelspec": {
   "display_name": "Python 3 (ipykernel)",
   "language": "python",
   "name": "python3"
  },
  "language_info": {
   "codemirror_mode": {
    "name": "ipython",
    "version": 3
   },
   "file_extension": ".py",
   "mimetype": "text/x-python",
   "name": "python",
   "nbconvert_exporter": "python",
   "pygments_lexer": "ipython3",
   "version": "3.11.1"
  }
 },
 "nbformat": 4,
 "nbformat_minor": 5
}
