{
 "cells": [
  {
   "cell_type": "markdown",
   "id": "2e2e6851",
   "metadata": {},
   "source": [
    "### Idiomatic Python - Use Comprehensions"
   ]
  },
  {
   "cell_type": "markdown",
   "id": "f29c66f0",
   "metadata": {},
   "source": [
    "Often I see code to build up a list done this way:"
   ]
  },
  {
   "cell_type": "code",
   "execution_count": 1,
   "id": "9f5310d8",
   "metadata": {},
   "outputs": [
    {
     "data": {
      "text/plain": [
       "[1, 4, 9, 16, 25]"
      ]
     },
     "execution_count": 1,
     "metadata": {},
     "output_type": "execute_result"
    }
   ],
   "source": [
    "numbers = [1, 2, 3, 4, 5]\n",
    "squares = []\n",
    "for number in numbers:\n",
    "    squares.append(number ** 2)\n",
    "squares"
   ]
  },
  {
   "cell_type": "markdown",
   "id": "527b6f23",
   "metadata": {},
   "source": [
    "Or, even worse, this: (see my previous video that shows how Pythonic code avoids using indexing)"
   ]
  },
  {
   "cell_type": "code",
   "execution_count": 2,
   "id": "913c19c0",
   "metadata": {},
   "outputs": [
    {
     "data": {
      "text/plain": [
       "[1, 4, 9, 16, 25]"
      ]
     },
     "execution_count": 2,
     "metadata": {},
     "output_type": "execute_result"
    }
   ],
   "source": [
    "numbers = [1, 2, 3, 4, 5]\n",
    "squares = []\n",
    "for i in range(len(numbers)):\n",
    "    squares.append(numbers[i] ** 2)\n",
    "squares"
   ]
  },
  {
   "cell_type": "markdown",
   "id": "ab66ce82",
   "metadata": {},
   "source": [
    "This code essentially transformed one list into another (in this case by squaring each element)."
   ]
  },
  {
   "cell_type": "markdown",
   "id": "0b84920d",
   "metadata": {},
   "source": [
    "Whenever you find yourself writing code that basically declares an empty list (used for your final results), and builds it up using `append` inside a loop that iterates over another iterable, you should immediately think **list comprehension**."
   ]
  },
  {
   "cell_type": "markdown",
   "id": "44b45b4d",
   "metadata": {},
   "source": [
    "A list comprehension in Python is a very simple and expressive way of transforming one iterable into another list.\n",
    "\n",
    "In this case we would do this:"
   ]
  },
  {
   "cell_type": "code",
   "execution_count": 3,
   "id": "4cff93a4",
   "metadata": {},
   "outputs": [
    {
     "data": {
      "text/plain": [
       "[1, 4, 9, 16, 25]"
      ]
     },
     "execution_count": 3,
     "metadata": {},
     "output_type": "execute_result"
    }
   ],
   "source": [
    "squares = [number ** 2 for number in numbers]\n",
    "squares"
   ]
  },
  {
   "cell_type": "markdown",
   "id": "23f783de",
   "metadata": {},
   "source": [
    "Compare the two approaches:"
   ]
  },
  {
   "cell_type": "code",
   "execution_count": 4,
   "id": "aeb3a26b",
   "metadata": {},
   "outputs": [],
   "source": [
    "squares = []\n",
    "for i in range(len(numbers)):\n",
    "    squares.append(numbers[i] ** 2)"
   ]
  },
  {
   "cell_type": "code",
   "execution_count": 5,
   "id": "bdec4e57",
   "metadata": {},
   "outputs": [],
   "source": [
    "squares = [number ** 2 for number in numbers]"
   ]
  },
  {
   "cell_type": "markdown",
   "id": "3bc21473",
   "metadata": {},
   "source": [
    "As you can see the comprehension syntax is much cleaner, and far more expressive."
   ]
  },
  {
   "cell_type": "markdown",
   "id": "96ae8a58",
   "metadata": {},
   "source": [
    "List comprehensions even support filtering the elements being transformed."
   ]
  },
  {
   "cell_type": "markdown",
   "id": "228ba9ab",
   "metadata": {},
   "source": [
    "For example, we might only want to retain the squares that are even numbers in our `squares` array."
   ]
  },
  {
   "cell_type": "markdown",
   "id": "d607ba75",
   "metadata": {},
   "source": [
    "Doing it the non-Pythonic way first:"
   ]
  },
  {
   "cell_type": "code",
   "execution_count": 6,
   "id": "59937815",
   "metadata": {},
   "outputs": [
    {
     "data": {
      "text/plain": [
       "[4, 16]"
      ]
     },
     "execution_count": 6,
     "metadata": {},
     "output_type": "execute_result"
    }
   ],
   "source": [
    "numbers = [1, 2, 3, 4, 5]\n",
    "squares = []\n",
    "for number in numbers:\n",
    "    sq = number ** 2\n",
    "    if not sq % 2:\n",
    "        squares.append(sq)\n",
    "squares"
   ]
  },
  {
   "cell_type": "markdown",
   "id": "0ec8f5db",
   "metadata": {},
   "source": [
    "And using a comprehnsion:"
   ]
  },
  {
   "cell_type": "code",
   "execution_count": 7,
   "id": "c36a4ec2",
   "metadata": {},
   "outputs": [
    {
     "data": {
      "text/plain": [
       "[4, 16]"
      ]
     },
     "execution_count": 7,
     "metadata": {},
     "output_type": "execute_result"
    }
   ],
   "source": [
    "squares = [number ** 2 for number in numbers if not (number ** 2) % 2]\n",
    "squares"
   ]
  },
  {
   "cell_type": "markdown",
   "id": "4f7181f9",
   "metadata": {},
   "source": [
    "Now, hopefully you had an issue with this code!\n",
    "\n",
    "I hope you noticed that we calculated `number ** 2` **twice** in this example, whereas we only had to calculate it once in the non-Pythonic approach."
   ]
  },
  {
   "cell_type": "markdown",
   "id": "da6a710c",
   "metadata": {},
   "source": [
    "That's a very valid point, but one that is easily addressed using Python's assignment expressions (the *walrus operator* `:=`) - I have a previous video on assignment expressions if you need to learn about them."
   ]
  },
  {
   "cell_type": "markdown",
   "id": "bddc5158",
   "metadata": {},
   "source": [
    "So, let's rewrite our comprehension:"
   ]
  },
  {
   "cell_type": "code",
   "execution_count": 8,
   "id": "7761c575",
   "metadata": {},
   "outputs": [
    {
     "data": {
      "text/plain": [
       "[4, 16]"
      ]
     },
     "execution_count": 8,
     "metadata": {},
     "output_type": "execute_result"
    }
   ],
   "source": [
    "squares = [sq for number in numbers if not (sq := number ** 2) % 2]\n",
    "squares"
   ]
  },
  {
   "cell_type": "markdown",
   "id": "5e33a413",
   "metadata": {},
   "source": [
    "List comprehensions are not the only types of comprehensions available in Python."
   ]
  },
  {
   "cell_type": "markdown",
   "id": "2691a556",
   "metadata": {},
   "source": [
    "You can use comprehensions to create dictionaries (**dictionary** comprehensions):"
   ]
  },
  {
   "cell_type": "code",
   "execution_count": 9,
   "id": "6a7c44a6",
   "metadata": {},
   "outputs": [
    {
     "data": {
      "text/plain": [
       "{'a': 97, 'b': 98, 'c': 99, 'd': 100, 'e': 101, 'f': 102, 'g': 103}"
      ]
     },
     "execution_count": 9,
     "metadata": {},
     "output_type": "execute_result"
    }
   ],
   "source": [
    "d = {\n",
    "    char: ord(char)\n",
    "    for char in \"abcdefg\"\n",
    "}\n",
    "d"
   ]
  },
  {
   "cell_type": "markdown",
   "id": "57b0a8f0",
   "metadata": {},
   "source": [
    "You can create sets the same way (**set** comprehensions):"
   ]
  },
  {
   "cell_type": "code",
   "execution_count": 10,
   "id": "99e7ddd0",
   "metadata": {},
   "outputs": [
    {
     "data": {
      "text/plain": [
       "{97, 98, 99, 100, 101, 102, 103}"
      ]
     },
     "execution_count": 10,
     "metadata": {},
     "output_type": "execute_result"
    }
   ],
   "source": [
    "s = {\n",
    "    ord(char)\n",
    "    for char in \"abcdefg\"\n",
    "}\n",
    "s"
   ]
  },
  {
   "cell_type": "markdown",
   "id": "a442cef1",
   "metadata": {},
   "source": [
    "And lastly you have **generator** expressions, which have comprehension-like syntax, but actually create an iterator that uses lazy evaluation (i.e. it does not compute every element of the comprehension ahead of time and store it in memory, unlike a list comprehension)."
   ]
  },
  {
   "cell_type": "markdown",
   "id": "1f63ba4b",
   "metadata": {},
   "source": [
    "The advantage is that you do not need to generate all the transformed values ahead of time - so far more memory efficient."
   ]
  },
  {
   "cell_type": "markdown",
   "id": "67955fa3",
   "metadata": {},
   "source": [
    "However, the generator expression is an iterator - so one-time use. "
   ]
  },
  {
   "cell_type": "code",
   "execution_count": 11,
   "id": "7ac7344b",
   "metadata": {},
   "outputs": [
    {
     "data": {
      "text/plain": [
       "<generator object <genexpr> at 0x1074c1380>"
      ]
     },
     "execution_count": 11,
     "metadata": {},
     "output_type": "execute_result"
    }
   ],
   "source": [
    "g = (el ** 2 for el in range(5))\n",
    "g"
   ]
  },
  {
   "cell_type": "markdown",
   "id": "87c74c81",
   "metadata": {},
   "source": [
    "And we can iterate over it:"
   ]
  },
  {
   "cell_type": "code",
   "execution_count": 12,
   "id": "d9a6f40d",
   "metadata": {},
   "outputs": [
    {
     "name": "stdout",
     "output_type": "stream",
     "text": [
      "0\n",
      "1\n",
      "4\n",
      "9\n",
      "16\n"
     ]
    }
   ],
   "source": [
    "for el in g:\n",
    "    print(el)"
   ]
  },
  {
   "cell_type": "markdown",
   "id": "dc050001",
   "metadata": {},
   "source": [
    "If you really need to use the same generator twice in your code block, you could easily create a function that you can quickly call to return the generator, make a list out of it (though that means you may well use a list comprehension if you control the generator expression code), or you could even use the `tee` function in the `itertools` module. Very often though, we create generator expressions and only need to use them once. In those cases, you would probably prefer to use a generator expression over a list comprehension, especially if memory efficiency is paramount."
   ]
  },
  {
   "cell_type": "markdown",
   "id": "8de1b2c2",
   "metadata": {},
   "source": [
    "So, use comprehensions - they are highly Pythonic, and make our code so much more expressive."
   ]
  },
  {
   "cell_type": "code",
   "execution_count": null,
   "id": "250e684a",
   "metadata": {},
   "outputs": [],
   "source": []
  }
 ],
 "metadata": {
  "kernelspec": {
   "display_name": "Python 3 (ipykernel)",
   "language": "python",
   "name": "python3"
  },
  "language_info": {
   "codemirror_mode": {
    "name": "ipython",
    "version": 3
   },
   "file_extension": ".py",
   "mimetype": "text/x-python",
   "name": "python",
   "nbconvert_exporter": "python",
   "pygments_lexer": "ipython3",
   "version": "3.10.2"
  }
 },
 "nbformat": 4,
 "nbformat_minor": 5
}
