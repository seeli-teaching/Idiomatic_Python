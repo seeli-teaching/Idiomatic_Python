{
 "cells": [
  {
   "cell_type": "markdown",
   "id": "6e72e3de",
   "metadata": {},
   "source": [
    "### Comparing Lists"
   ]
  },
  {
   "cell_type": "markdown",
   "id": "b9deda6e",
   "metadata": {},
   "source": [
    "There are a few different ways in which we may want to compare lists, depending on what is important in the comparison.\n",
    "\n",
    "Here we'll take a quick peek at four different ways of how we might want to compare lists."
   ]
  },
  {
   "cell_type": "markdown",
   "id": "25c2cc75",
   "metadata": {},
   "source": [
    "#### Identity Matters"
   ]
  },
  {
   "cell_type": "markdown",
   "id": "b0085add",
   "metadata": {},
   "source": [
    "In this situation we just want to know whether two lists objects are the **same object** or not. "
   ]
  },
  {
   "cell_type": "markdown",
   "id": "e73a41bd",
   "metadata": {},
   "source": [
    "For this type of comparison, we want to use the `is` operator."
   ]
  },
  {
   "cell_type": "markdown",
   "id": "6a715a75",
   "metadata": {},
   "source": [
    "For example, if we have these three lists:"
   ]
  },
  {
   "cell_type": "code",
   "execution_count": 1,
   "id": "1643b861",
   "metadata": {},
   "outputs": [],
   "source": [
    "list_1 = [1, 2, 3]\n",
    "list_2 = [1, 2, 3]\n",
    "list_3 = list_1"
   ]
  },
  {
   "cell_type": "markdown",
   "id": "9bd4059a",
   "metadata": {},
   "source": [
    "Then `list_1` and `list_2` are not the same objects, but `list_1` and `list_3` are, so we have:"
   ]
  },
  {
   "cell_type": "code",
   "execution_count": 2,
   "id": "a0e63b14",
   "metadata": {},
   "outputs": [
    {
     "data": {
      "text/plain": [
       "False"
      ]
     },
     "execution_count": 2,
     "metadata": {},
     "output_type": "execute_result"
    }
   ],
   "source": [
    "list_1 is list_2"
   ]
  },
  {
   "cell_type": "code",
   "execution_count": 3,
   "id": "a976b5eb",
   "metadata": {},
   "outputs": [
    {
     "data": {
      "text/plain": [
       "True"
      ]
     },
     "execution_count": 3,
     "metadata": {},
     "output_type": "execute_result"
    }
   ],
   "source": [
    "list_1 is list_3"
   ]
  },
  {
   "cell_type": "markdown",
   "id": "bb3659a1",
   "metadata": {},
   "source": [
    "#### Order and Duplicates Matter"
   ]
  },
  {
   "cell_type": "markdown",
   "id": "7ea775c4",
   "metadata": {},
   "source": [
    "In this case we don't care about whether the two lists objects are the same object, we just want to know if they have the same content, and in particular order matters as well as duplicate objects."
   ]
  },
  {
   "cell_type": "markdown",
   "id": "ca581281",
   "metadata": {},
   "source": [
    "For example these two lists would not be considered equal because the items are not ordered in the same way:\n",
    "```\n",
    "[1, 2, 3, 4]\n",
    "[4, 3, 2, 1]\n",
    "```"
   ]
  },
  {
   "cell_type": "markdown",
   "id": "48499b24",
   "metadata": {},
   "source": [
    "In the same way, these two lists are not considered equal because they do not contain the same repeated elements:\n",
    "```\n",
    "[1, 1, 2, 2]\n",
    "[1, 2]\n",
    "```"
   ]
  },
  {
   "cell_type": "markdown",
   "id": "639457af",
   "metadata": {},
   "source": [
    "For these types of comparisons, we can just use the `==` operator:"
   ]
  },
  {
   "cell_type": "code",
   "execution_count": 4,
   "id": "ab1e5770",
   "metadata": {},
   "outputs": [
    {
     "data": {
      "text/plain": [
       "True"
      ]
     },
     "execution_count": 4,
     "metadata": {},
     "output_type": "execute_result"
    }
   ],
   "source": [
    "[1, 2, 3, 4] == [1, 2, 3, 4]"
   ]
  },
  {
   "cell_type": "code",
   "execution_count": 5,
   "id": "dbae914c",
   "metadata": {},
   "outputs": [
    {
     "data": {
      "text/plain": [
       "False"
      ]
     },
     "execution_count": 5,
     "metadata": {},
     "output_type": "execute_result"
    }
   ],
   "source": [
    "[1, 2, 3, 4] == [4, 3, 2, 1]"
   ]
  },
  {
   "cell_type": "markdown",
   "id": "069f2a95",
   "metadata": {},
   "source": [
    "#### Order Ignored, Duplicates Matter"
   ]
  },
  {
   "cell_type": "markdown",
   "id": "15f5a628",
   "metadata": {},
   "source": [
    "This one is less usual. Here we really want to know if the two lists contain the same elements, including repeated elements, but we don't care about the order of these elements."
   ]
  },
  {
   "cell_type": "markdown",
   "id": "330d1c7b",
   "metadata": {},
   "source": [
    "For example each of these lists would be considered equal:\n",
    "\n",
    "```\n",
    "[1, 2, 3, 4, 4]\n",
    "[1, 4, 3, 2, 4]\n",
    "[4, 4, 3, 2, 1]\n",
    "```"
   ]
  },
  {
   "cell_type": "markdown",
   "id": "765beab0",
   "metadata": {},
   "source": [
    "So what we really want to know here is whether the number of each distinct element matches between the two lists, irrespective of their order in the list."
   ]
  },
  {
   "cell_type": "markdown",
   "id": "886eaa22",
   "metadata": {},
   "source": [
    "The easiest way to do this is to use the `Counter` class in the `collections` module."
   ]
  },
  {
   "cell_type": "markdown",
   "id": "87973743",
   "metadata": {},
   "source": [
    "A `Counter` object is essentially a multi-set - you can think of it as a dictionary with a key for each unique element in the list and a corresponding value of the number of times the element appears in the list. "
   ]
  },
  {
   "cell_type": "markdown",
   "id": "099f86f5",
   "metadata": {},
   "source": [
    "So in the above example, the `Counter` for each list would be the same:\n",
    "\n",
    "```\n",
    "{\n",
    "    1: 1, \n",
    "    2: 1, \n",
    "    3: 1, \n",
    "    4: 2\n",
    "}\n",
    "```"
   ]
  },
  {
   "cell_type": "markdown",
   "id": "5ce21f31",
   "metadata": {},
   "source": [
    "We can implement this type of equality testing as follows:"
   ]
  },
  {
   "cell_type": "code",
   "execution_count": 6,
   "id": "f8069955",
   "metadata": {},
   "outputs": [],
   "source": [
    "from collections import Counter"
   ]
  },
  {
   "cell_type": "code",
   "execution_count": 7,
   "id": "286e08bf",
   "metadata": {},
   "outputs": [],
   "source": [
    "list_1 = [1, 2, 3, 4, 4]\n",
    "list_2 = [1, 4, 3, 2, 4]"
   ]
  },
  {
   "cell_type": "code",
   "execution_count": 8,
   "id": "dacce87b",
   "metadata": {},
   "outputs": [
    {
     "data": {
      "text/plain": [
       "True"
      ]
     },
     "execution_count": 8,
     "metadata": {},
     "output_type": "execute_result"
    }
   ],
   "source": [
    "Counter(list_1) == Counter(list_2)"
   ]
  },
  {
   "cell_type": "markdown",
   "id": "a2a93b89",
   "metadata": {},
   "source": [
    "#### Order Ignored, Duplicates Ignored"
   ]
  },
  {
   "cell_type": "markdown",
   "id": "27aadd76",
   "metadata": {},
   "source": [
    "In this case duplicates can be ignored, and order does not matter. This is basically how **sets** are compared. Sets do not have duplicate elements, and sets have no ordering."
   ]
  },
  {
   "cell_type": "markdown",
   "id": "e794f0fd",
   "metadata": {},
   "source": [
    "For example, the following lists would be considered equal:\n",
    "```\n",
    "[1, 2, 2, 3, 3, 4]\n",
    "[4, 3, 2, 1]\n",
    "```"
   ]
  },
  {
   "cell_type": "markdown",
   "id": "a95fbc92",
   "metadata": {},
   "source": [
    "We can easily do this using Python `sets`, by converting the lists to sets (which will result in duplicate elements being ignored), and comparing the two resulting sets using `==` (where order is ignored since sets do not have ordering):"
   ]
  },
  {
   "cell_type": "code",
   "execution_count": 9,
   "id": "7253dd36",
   "metadata": {},
   "outputs": [],
   "source": [
    "list_1 = [1, 2, 2, 3, 3, 4]\n",
    "list_2 = [4, 3, 2, 1]"
   ]
  },
  {
   "cell_type": "code",
   "execution_count": 10,
   "id": "8c399d3e",
   "metadata": {},
   "outputs": [
    {
     "data": {
      "text/plain": [
       "True"
      ]
     },
     "execution_count": 10,
     "metadata": {},
     "output_type": "execute_result"
    }
   ],
   "source": [
    "set(list_1) == set(list_2)"
   ]
  },
  {
   "cell_type": "markdown",
   "id": "d04bf7cd",
   "metadata": {},
   "source": [
    "And there you go, four different ways of comparing lists! Of course, the same works with (finite) iterables in general, not just lists.\n",
    "\n",
    "The other thing to note is that the comparisons using `Counter` or `set` objects will only work if the list contents are hashable, and support `==` equality."
   ]
  },
  {
   "cell_type": "code",
   "execution_count": null,
   "id": "4757857a",
   "metadata": {},
   "outputs": [],
   "source": []
  }
 ],
 "metadata": {
  "kernelspec": {
   "display_name": "Python 3 (ipykernel)",
   "language": "python",
   "name": "python3"
  },
  "language_info": {
   "codemirror_mode": {
    "name": "ipython",
    "version": 3
   },
   "file_extension": ".py",
   "mimetype": "text/x-python",
   "name": "python",
   "nbconvert_exporter": "python",
   "pygments_lexer": "ipython3",
   "version": "3.10.2"
  }
 },
 "nbformat": 4,
 "nbformat_minor": 5
}
