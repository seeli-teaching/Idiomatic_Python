{
 "cells": [
  {
   "cell_type": "markdown",
   "id": "69a31acd",
   "metadata": {},
   "source": [
    "### Pairwise Iteration using `zip()`"
   ]
  },
  {
   "cell_type": "markdown",
   "id": "300cf8cf",
   "metadata": {},
   "source": [
    "The `zip` function in Python can be used in some really interesting ways."
   ]
  },
  {
   "cell_type": "markdown",
   "id": "c3aee397",
   "metadata": {},
   "source": [
    "One of those ways is for iterating through an iterable in consecutive pairs.\n",
    "\n",
    "Consider this iterable:"
   ]
  },
  {
   "cell_type": "code",
   "execution_count": 1,
   "id": "1fdab4c6",
   "metadata": {},
   "outputs": [],
   "source": [
    "l = [1, 2, 3, 4, 5, 6]"
   ]
  },
  {
   "cell_type": "markdown",
   "id": "c3bc1658",
   "metadata": {},
   "source": [
    "Suppose we need to iterate through this list pairwise as follows:\n",
    "```\n",
    "(1, 2), (2, 3), (3, 4), (4, 5), (5, 6)\n",
    "```"
   ]
  },
  {
   "cell_type": "markdown",
   "id": "df72a112",
   "metadata": {},
   "source": [
    "We could certain set up a loop of indices and do it the \"normal\" way, but a much more Pythonic way of doing this would be to use sequence slicing and the zip function as follows:"
   ]
  },
  {
   "cell_type": "code",
   "execution_count": 2,
   "id": "85a397f1",
   "metadata": {},
   "outputs": [
    {
     "name": "stdout",
     "output_type": "stream",
     "text": [
      "(1, 2)\n",
      "(2, 3)\n",
      "(3, 4)\n",
      "(4, 5)\n",
      "(5, 6)\n"
     ]
    }
   ],
   "source": [
    "for t in zip(l, l[1:]):\n",
    "    print(t)"
   ]
  },
  {
   "cell_type": "markdown",
   "id": "899bff32",
   "metadata": {},
   "source": [
    "We can even tweak this further to allow us to iterate thus:\n",
    "```\n",
    "(1, 2), (3, 4), (5, 6)\n",
    "```\n",
    "by writing it this way:"
   ]
  },
  {
   "cell_type": "code",
   "execution_count": 3,
   "id": "931620c3",
   "metadata": {},
   "outputs": [
    {
     "name": "stdout",
     "output_type": "stream",
     "text": [
      "(1, 2)\n",
      "(3, 4)\n",
      "(5, 6)\n"
     ]
    }
   ],
   "source": [
    "for t in zip(l[::2], l[1::2]):\n",
    "    print(t)"
   ]
  },
  {
   "cell_type": "markdown",
   "id": "98c842db",
   "metadata": {},
   "source": [
    "Of course we can expand on this to iterate in 3-tuple, 4-tuple, etc.\n",
    "\n",
    "For example:"
   ]
  },
  {
   "cell_type": "code",
   "execution_count": 4,
   "id": "f1c7f607",
   "metadata": {
    "scrolled": true
   },
   "outputs": [
    {
     "name": "stdout",
     "output_type": "stream",
     "text": [
      "(0, 1, 2)\n",
      "(1, 2, 3)\n",
      "(2, 3, 4)\n",
      "(3, 4, 5)\n",
      "(4, 5, 6)\n",
      "(5, 6, 7)\n",
      "(6, 7, 8)\n",
      "(7, 8, 9)\n"
     ]
    }
   ],
   "source": [
    "l = range(10)\n",
    "for t in zip(l, l[1::], l[2::]):\n",
    "    print(t)"
   ]
  },
  {
   "cell_type": "markdown",
   "id": "a792f49c",
   "metadata": {},
   "source": [
    "Or, even this way:"
   ]
  },
  {
   "cell_type": "code",
   "execution_count": 5,
   "id": "08881f2c",
   "metadata": {},
   "outputs": [
    {
     "name": "stdout",
     "output_type": "stream",
     "text": [
      "(0, 1, 2)\n",
      "(3, 4, 5)\n",
      "(6, 7, 8)\n",
      "(9, 10, 11)\n",
      "(12, 13, 14)\n"
     ]
    }
   ],
   "source": [
    "l = range(15)\n",
    "for t in zip(l[::3], l[1::3], l[2::3]):\n",
    "    print(t)"
   ]
  },
  {
   "cell_type": "markdown",
   "id": "4839f6ac",
   "metadata": {},
   "source": [
    "Now, in all those examples we created new lists when we used slicing - this may be too wasteful in some circumstances, but we can easily replace list slices with the `islice` function available in the `itertools` module - the advantage is that `islice` is an iterator, and we don't incur the memory cost of creating extra lists."
   ]
  },
  {
   "cell_type": "code",
   "execution_count": 6,
   "id": "1fff82a2",
   "metadata": {},
   "outputs": [],
   "source": [
    "from itertools import islice"
   ]
  },
  {
   "cell_type": "markdown",
   "id": "bfb5bd4d",
   "metadata": {},
   "source": [
    "Let's look at our first example again:"
   ]
  },
  {
   "cell_type": "code",
   "execution_count": 7,
   "id": "3e3e2de6",
   "metadata": {},
   "outputs": [],
   "source": [
    "l = range(1, 7)"
   ]
  },
  {
   "cell_type": "code",
   "execution_count": 8,
   "id": "39e46fe8",
   "metadata": {},
   "outputs": [
    {
     "name": "stdout",
     "output_type": "stream",
     "text": [
      "(1, 2)\n",
      "(2, 3)\n",
      "(3, 4)\n",
      "(4, 5)\n",
      "(5, 6)\n"
     ]
    }
   ],
   "source": [
    "for t in zip(l, islice(l, 1, None)):\n",
    "    print(t)"
   ]
  },
  {
   "cell_type": "markdown",
   "id": "1b6f1ad6",
   "metadata": {},
   "source": [
    "We can similarly change the other examples we saw earlier, for example, we can change:"
   ]
  },
  {
   "cell_type": "code",
   "execution_count": 9,
   "id": "29afb88c",
   "metadata": {},
   "outputs": [
    {
     "name": "stdout",
     "output_type": "stream",
     "text": [
      "(0, 1, 2)\n",
      "(1, 2, 3)\n",
      "(2, 3, 4)\n",
      "(3, 4, 5)\n",
      "(4, 5, 6)\n",
      "(5, 6, 7)\n",
      "(6, 7, 8)\n",
      "(7, 8, 9)\n"
     ]
    }
   ],
   "source": [
    "l = range(10)\n",
    "for t in zip(l, l[1::], l[2::]):\n",
    "    print(t)"
   ]
  },
  {
   "cell_type": "markdown",
   "id": "3cf4318b",
   "metadata": {},
   "source": [
    "to this:"
   ]
  },
  {
   "cell_type": "code",
   "execution_count": 10,
   "id": "8fb0f0a8",
   "metadata": {},
   "outputs": [
    {
     "name": "stdout",
     "output_type": "stream",
     "text": [
      "(0, 1, 2)\n",
      "(1, 2, 3)\n",
      "(2, 3, 4)\n",
      "(3, 4, 5)\n",
      "(4, 5, 6)\n",
      "(5, 6, 7)\n",
      "(6, 7, 8)\n",
      "(7, 8, 9)\n"
     ]
    }
   ],
   "source": [
    "l = range(10)\n",
    "for t in zip(l, islice(l, 1, None), islice(l, 2, None)):\n",
    "    print(t)"
   ]
  },
  {
   "cell_type": "markdown",
   "id": "190c5265",
   "metadata": {},
   "source": [
    "And we can even use `step` if we need to, to change this:"
   ]
  },
  {
   "cell_type": "code",
   "execution_count": 11,
   "id": "07a079cf",
   "metadata": {},
   "outputs": [
    {
     "name": "stdout",
     "output_type": "stream",
     "text": [
      "(0, 1, 2)\n",
      "(3, 4, 5)\n",
      "(6, 7, 8)\n",
      "(9, 10, 11)\n",
      "(12, 13, 14)\n"
     ]
    }
   ],
   "source": [
    "l = range(15)\n",
    "for t in zip(l[::3], l[1::3], l[2::3]):\n",
    "    print(t)"
   ]
  },
  {
   "cell_type": "markdown",
   "id": "e5b64d7a",
   "metadata": {},
   "source": [
    "to this:"
   ]
  },
  {
   "cell_type": "code",
   "execution_count": 12,
   "id": "136334a0",
   "metadata": {},
   "outputs": [
    {
     "name": "stdout",
     "output_type": "stream",
     "text": [
      "(0, 1, 2)\n",
      "(3, 4, 5)\n",
      "(6, 7, 8)\n",
      "(9, 10, 11)\n",
      "(12, 13, 14)\n"
     ]
    }
   ],
   "source": [
    "l = range(15)\n",
    "for t in zip(islice(l, None, None, 3), islice(l, 1, None, 3), islice(l, 2, None, 3)):\n",
    "    print(t)"
   ]
  },
  {
   "cell_type": "markdown",
   "id": "e433db29",
   "metadata": {},
   "source": [
    "Note that for pairwise iteration (the very first example we did, and the modified one using `islice`) is actually available directly in the `itertools` module:"
   ]
  },
  {
   "cell_type": "code",
   "execution_count": 13,
   "id": "f7f5fe8b",
   "metadata": {},
   "outputs": [],
   "source": [
    "from itertools import pairwise"
   ]
  },
  {
   "cell_type": "code",
   "execution_count": 14,
   "id": "e4331ebb",
   "metadata": {},
   "outputs": [
    {
     "name": "stdout",
     "output_type": "stream",
     "text": [
      "(1, 2)\n",
      "(2, 3)\n",
      "(3, 4)\n",
      "(4, 5)\n",
      "(5, 6)\n"
     ]
    }
   ],
   "source": [
    "l = range(1, 7)\n",
    "for t in pairwise(l):\n",
    "    print(t)"
   ]
  },
  {
   "cell_type": "markdown",
   "id": "56124448",
   "metadata": {},
   "source": [
    "We already know that using `islice` will reduce memory utilization, but what about speed?"
   ]
  },
  {
   "cell_type": "markdown",
   "id": "42fbd0ad",
   "metadata": {},
   "source": [
    "We can look at some timings between the two approaches to see how much of an impact using `islice` will have over regular slicing for large lists. "
   ]
  },
  {
   "cell_type": "code",
   "execution_count": 15,
   "id": "a47d9a39",
   "metadata": {},
   "outputs": [],
   "source": [
    "from timeit import timeit"
   ]
  },
  {
   "cell_type": "code",
   "execution_count": 16,
   "id": "761ce7d2",
   "metadata": {},
   "outputs": [],
   "source": [
    "def iterate_slice(l):\n",
    "    for t in zip(l[::3], l[1::3], l[2::3]):\n",
    "        pass\n",
    "    \n",
    "def iterate_islice(l):\n",
    "    for t in zip(islice(l, None, None, 3), islice(l, 1, None, 3), islice(l, 2, None, 3)):\n",
    "        pass"
   ]
  },
  {
   "cell_type": "code",
   "execution_count": 17,
   "id": "d49effa3",
   "metadata": {},
   "outputs": [],
   "source": [
    "l = range(100_000)"
   ]
  },
  {
   "cell_type": "code",
   "execution_count": 18,
   "id": "d025791f",
   "metadata": {},
   "outputs": [
    {
     "data": {
      "text/plain": [
       "1.0256141249992652"
      ]
     },
     "execution_count": 18,
     "metadata": {},
     "output_type": "execute_result"
    }
   ],
   "source": [
    "timeit('iterate_slice(l)', globals=globals(), number=1_000)"
   ]
  },
  {
   "cell_type": "code",
   "execution_count": 19,
   "id": "7f4b431b",
   "metadata": {},
   "outputs": [
    {
     "data": {
      "text/plain": [
       "2.6940667919998305"
      ]
     },
     "execution_count": 19,
     "metadata": {},
     "output_type": "execute_result"
    }
   ],
   "source": [
    "timeit('iterate_islice(l)', globals=globals(), number=1_000)"
   ]
  },
  {
   "cell_type": "markdown",
   "id": "2a7f9b7e",
   "metadata": {},
   "source": [
    "As you can see, `islice` is substantially **slower** than regular slicing, so the advantage here is not speed, but rather memory usage."
   ]
  },
  {
   "cell_type": "code",
   "execution_count": null,
   "id": "71626909",
   "metadata": {},
   "outputs": [],
   "source": []
  }
 ],
 "metadata": {
  "kernelspec": {
   "display_name": "Python 3 (ipykernel)",
   "language": "python",
   "name": "python3"
  },
  "language_info": {
   "codemirror_mode": {
    "name": "ipython",
    "version": 3
   },
   "file_extension": ".py",
   "mimetype": "text/x-python",
   "name": "python",
   "nbconvert_exporter": "python",
   "pygments_lexer": "ipython3",
   "version": "3.10.2"
  }
 },
 "nbformat": 4,
 "nbformat_minor": 5
}
