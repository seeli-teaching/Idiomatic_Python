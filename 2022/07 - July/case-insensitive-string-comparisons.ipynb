{
 "cells": [
  {
   "cell_type": "markdown",
   "id": "cb3e84b3",
   "metadata": {},
   "source": [
    "### Case-Insensitive String Comparisons"
   ]
  },
  {
   "cell_type": "markdown",
   "id": "3ba13b6e",
   "metadata": {},
   "source": [
    "In Python, string comparisons using `==` are case-sensitive."
   ]
  },
  {
   "cell_type": "markdown",
   "id": "316b32ec",
   "metadata": {},
   "source": [
    "For example, the following string are not equal:"
   ]
  },
  {
   "cell_type": "code",
   "execution_count": 1,
   "id": "39c9cf11",
   "metadata": {},
   "outputs": [
    {
     "data": {
      "text/plain": [
       "False"
      ]
     },
     "execution_count": 1,
     "metadata": {},
     "output_type": "execute_result"
    }
   ],
   "source": [
    "'python' == 'PYTHON'"
   ]
  },
  {
   "cell_type": "markdown",
   "id": "1c51cc18",
   "metadata": {},
   "source": [
    "The typical technique for doing a case-insensitive comparison is to use the `lower()` (or `upper()`) method in the `str` class, to compare lower-case (or upper-case) versions of both strings:"
   ]
  },
  {
   "cell_type": "code",
   "execution_count": 2,
   "id": "8d7158b7",
   "metadata": {},
   "outputs": [
    {
     "data": {
      "text/plain": [
       "True"
      ]
     },
     "execution_count": 2,
     "metadata": {},
     "output_type": "execute_result"
    }
   ],
   "source": [
    "'python'.lower() == 'PYTHON'.lower()"
   ]
  },
  {
   "cell_type": "markdown",
   "id": "3b49191c",
   "metadata": {},
   "source": [
    "> But there's a slight problem with that!"
   ]
  },
  {
   "cell_type": "markdown",
   "id": "fdb20c91",
   "metadata": {},
   "source": [
    "The technique above uses something called **case mapping**, or **case conversion**. \n",
    "\n",
    "It is basically a process that converts strings to a particular form, such as lower case, upper case, or title case, and should primarily be used for **display purposes**, **not** for comparison purposes!"
   ]
  },
  {
   "cell_type": "markdown",
   "id": "9324d529",
   "metadata": {},
   "source": [
    "Here's an example where case mapping fails:"
   ]
  },
  {
   "cell_type": "code",
   "execution_count": 3,
   "id": "7144e2c3",
   "metadata": {},
   "outputs": [],
   "source": [
    "s1 = 'STRASSE'\n",
    "s2 = 'Straße'"
   ]
  },
  {
   "cell_type": "markdown",
   "id": "73ea11c5",
   "metadata": {},
   "source": [
    "Technically, from a case insensitive comparison perspective these two strings are equal!"
   ]
  },
  {
   "cell_type": "markdown",
   "id": "7f513788",
   "metadata": {},
   "source": [
    "But look at what happens when we do a lower-case comparison:"
   ]
  },
  {
   "cell_type": "code",
   "execution_count": 4,
   "id": "ff0dfde1",
   "metadata": {},
   "outputs": [
    {
     "data": {
      "text/plain": [
       "('strasse', 'straße', False)"
      ]
     },
     "execution_count": 4,
     "metadata": {},
     "output_type": "execute_result"
    }
   ],
   "source": [
    "s1.lower(), s2.lower(), s1.lower() == s2.lower()"
   ]
  },
  {
   "cell_type": "markdown",
   "id": "afbed69b",
   "metadata": {},
   "source": [
    "If we had done an `uppercase` comparison that would actually have worked:"
   ]
  },
  {
   "cell_type": "code",
   "execution_count": 5,
   "id": "5fb7d85c",
   "metadata": {},
   "outputs": [
    {
     "data": {
      "text/plain": [
       "('STRASSE', 'STRASSE', True)"
      ]
     },
     "execution_count": 5,
     "metadata": {},
     "output_type": "execute_result"
    }
   ],
   "source": [
    "s1.upper(), s2.upper(), s1.upper() == s2.upper()"
   ]
  },
  {
   "cell_type": "markdown",
   "id": "1c9f5c88",
   "metadata": {},
   "source": [
    "The better alternative for case-insensitive comparisons is to use **case folding**."
   ]
  },
  {
   "cell_type": "markdown",
   "id": "88762973",
   "metadata": {},
   "source": [
    "Case folding essentially provides us a more consistent method that we can use to compare two strings:"
   ]
  },
  {
   "cell_type": "code",
   "execution_count": 6,
   "id": "c4df82ee",
   "metadata": {},
   "outputs": [
    {
     "data": {
      "text/plain": [
       "('strasse', 'strasse', True)"
      ]
     },
     "execution_count": 6,
     "metadata": {},
     "output_type": "execute_result"
    }
   ],
   "source": [
    "s1.casefold(), s2.casefold(), s1.casefold() == s2.casefold()"
   ]
  },
  {
   "cell_type": "markdown",
   "id": "458d799f",
   "metadata": {},
   "source": [
    "So `casefold` can address **some** of the issues surrounding case-insensitive comparisons."
   ]
  },
  {
   "cell_type": "markdown",
   "id": "6c1128d7",
   "metadata": {},
   "source": [
    "But not all!"
   ]
  },
  {
   "cell_type": "markdown",
   "id": "768ba2c2",
   "metadata": {},
   "source": [
    "Consider the following two strings:"
   ]
  },
  {
   "cell_type": "code",
   "execution_count": 7,
   "id": "0402c0c1",
   "metadata": {},
   "outputs": [],
   "source": [
    "s1 = 'ê'\n",
    "s2 = 'ê'"
   ]
  },
  {
   "cell_type": "markdown",
   "id": "6b1ff72e",
   "metadata": {},
   "source": [
    "These may **look** like the same character, but:"
   ]
  },
  {
   "cell_type": "code",
   "execution_count": 8,
   "id": "602fed34",
   "metadata": {},
   "outputs": [
    {
     "data": {
      "text/plain": [
       "False"
      ]
     },
     "execution_count": 8,
     "metadata": {},
     "output_type": "execute_result"
    }
   ],
   "source": [
    "s1 == s2"
   ]
  },
  {
   "cell_type": "markdown",
   "id": "e34c5791",
   "metadata": {},
   "source": [
    "Even though these two characters look the same (and we probably would want them to compare equal), `casefold` will not help us here:"
   ]
  },
  {
   "cell_type": "code",
   "execution_count": 9,
   "id": "93c006d4",
   "metadata": {},
   "outputs": [
    {
     "data": {
      "text/plain": [
       "('ê', 'ê', False)"
      ]
     },
     "execution_count": 9,
     "metadata": {},
     "output_type": "execute_result"
    }
   ],
   "source": [
    "s1.casefold(), s2.casefold(), s1.casefold() == s2.casefold()"
   ]
  },
  {
   "cell_type": "markdown",
   "id": "da797bd1",
   "metadata": {},
   "source": [
    "This is happening because these two strings use **different unicode encodings** to define each character."
   ]
  },
  {
   "cell_type": "markdown",
   "id": "b6f852a2",
   "metadata": {},
   "source": [
    "The first one uses a **single** character, whereas the second one is actually **two** characters!"
   ]
  },
  {
   "cell_type": "code",
   "execution_count": 10,
   "id": "d174ccae",
   "metadata": {},
   "outputs": [
    {
     "data": {
      "text/plain": [
       "('ê', 1, 'ê', 2)"
      ]
     },
     "execution_count": 10,
     "metadata": {},
     "output_type": "execute_result"
    }
   ],
   "source": [
    "s1, len(s1), s2, len(s2)"
   ]
  },
  {
   "cell_type": "markdown",
   "id": "53015041",
   "metadata": {},
   "source": [
    "We can see what those two characters are:"
   ]
  },
  {
   "cell_type": "code",
   "execution_count": 11,
   "id": "ba5971f5",
   "metadata": {},
   "outputs": [],
   "source": [
    "import unicodedata"
   ]
  },
  {
   "cell_type": "code",
   "execution_count": 12,
   "id": "e48ab2b0",
   "metadata": {},
   "outputs": [
    {
     "data": {
      "text/plain": [
       "'LATIN SMALL LETTER E WITH CIRCUMFLEX'"
      ]
     },
     "execution_count": 12,
     "metadata": {},
     "output_type": "execute_result"
    }
   ],
   "source": [
    "unicodedata.name(s1)"
   ]
  },
  {
   "cell_type": "code",
   "execution_count": 13,
   "id": "93e77ea5",
   "metadata": {},
   "outputs": [
    {
     "data": {
      "text/plain": [
       "['LATIN SMALL LETTER E', 'COMBINING CIRCUMFLEX ACCENT']"
      ]
     },
     "execution_count": 13,
     "metadata": {},
     "output_type": "execute_result"
    }
   ],
   "source": [
    "[unicodedata.name(c) for c in s2]"
   ]
  },
  {
   "cell_type": "markdown",
   "id": "41ed5950",
   "metadata": {},
   "source": [
    "As you can see, the string `s1` is a single unicode character (the code is `U+00EA`), whereas `s2` consists of the base `e` character (`U+00065`) and a circumflex **modifier** (`U+302`)."
   ]
  },
  {
   "cell_type": "markdown",
   "id": "09416839",
   "metadata": {},
   "source": [
    "We can actually create these two from the unicode codes like this:"
   ]
  },
  {
   "cell_type": "code",
   "execution_count": 14,
   "id": "50c578ab",
   "metadata": {},
   "outputs": [
    {
     "data": {
      "text/plain": [
       "'ê'"
      ]
     },
     "execution_count": 14,
     "metadata": {},
     "output_type": "execute_result"
    }
   ],
   "source": [
    "'\\u00ea'"
   ]
  },
  {
   "cell_type": "code",
   "execution_count": 15,
   "id": "9e20e24a",
   "metadata": {},
   "outputs": [
    {
     "data": {
      "text/plain": [
       "'ê'"
      ]
     },
     "execution_count": 15,
     "metadata": {},
     "output_type": "execute_result"
    }
   ],
   "source": [
    "'\\u0065\\u0302'"
   ]
  },
  {
   "cell_type": "markdown",
   "id": "0b1ba55a",
   "metadata": {},
   "source": [
    "You can refer to this link to see info about ê, where you'll notice an entry called `Decomposition`:\n",
    "https://www.compart.com/en/unicode/U+00EA"
   ]
  },
  {
   "cell_type": "markdown",
   "id": "1f747908",
   "metadata": {},
   "source": [
    "So, they look the same, and in most cases we would want to consider them equal, since as we see from the definition, it's really just two ways od describing the same character"
   ]
  },
  {
   "cell_type": "markdown",
   "id": "7f39ebc8",
   "metadata": {},
   "source": [
    "So, we need to perform an extra step to avoid this pitfall, called **unicode normalization**."
   ]
  },
  {
   "cell_type": "markdown",
   "id": "bafe84e1",
   "metadata": {},
   "source": [
    "In this case we can use something called **NFD** (Normal Form D) normalization \n",
    "\n",
    "(see D145 in the official Unicode documentation here: http://www.unicode.org/versions/Unicode9.0.0/ch03.pdf)"
   ]
  },
  {
   "cell_type": "markdown",
   "id": "702d7005",
   "metadata": {},
   "source": [
    "We can achieve this using Python's `unicodedata.normalize` function:"
   ]
  },
  {
   "cell_type": "code",
   "execution_count": 16,
   "id": "514f050d",
   "metadata": {},
   "outputs": [
    {
     "data": {
      "text/plain": [
       "True"
      ]
     },
     "execution_count": 16,
     "metadata": {},
     "output_type": "execute_result"
    }
   ],
   "source": [
    "unicodedata.normalize('NFD', s1) == unicodedata.normalize('NFD', s2)"
   ]
  },
  {
   "cell_type": "markdown",
   "id": "5f3274fa",
   "metadata": {},
   "source": [
    "So now, we can deal with let's say the following two strings to do a case-insensitive comparison by combining the NFD normalization **and** the case folding."
   ]
  },
  {
   "cell_type": "code",
   "execution_count": 17,
   "id": "6a707ac1",
   "metadata": {},
   "outputs": [
    {
     "data": {
      "text/plain": [
       "('ê', 'Ê')"
      ]
     },
     "execution_count": 17,
     "metadata": {},
     "output_type": "execute_result"
    }
   ],
   "source": [
    "s1 = '\\u0065\\u0302'\n",
    "s2 = '\\u00ca'\n",
    "s1, s2"
   ]
  },
  {
   "cell_type": "markdown",
   "id": "426f83c4",
   "metadata": {},
   "source": [
    "Just case folding will not work:"
   ]
  },
  {
   "cell_type": "code",
   "execution_count": 18,
   "id": "0f1bccf0",
   "metadata": {},
   "outputs": [
    {
     "data": {
      "text/plain": [
       "False"
      ]
     },
     "execution_count": 18,
     "metadata": {},
     "output_type": "execute_result"
    }
   ],
   "source": [
    "s1.casefold() == s2.casefold()"
   ]
  },
  {
   "cell_type": "markdown",
   "id": "482a442d",
   "metadata": {},
   "source": [
    "Just normalization will not work either, since the characters are obviously not the same case:"
   ]
  },
  {
   "cell_type": "code",
   "execution_count": 19,
   "id": "35292e93",
   "metadata": {},
   "outputs": [
    {
     "data": {
      "text/plain": [
       "False"
      ]
     },
     "execution_count": 19,
     "metadata": {},
     "output_type": "execute_result"
    }
   ],
   "source": [
    "unicodedata.normalize('NFD', s1) == unicodedata.normalize('NFD', s2)"
   ]
  },
  {
   "cell_type": "markdown",
   "id": "b0b67fac",
   "metadata": {},
   "source": [
    "But by combining the two, we get the desired result:"
   ]
  },
  {
   "cell_type": "code",
   "execution_count": 20,
   "id": "e6bc64cc",
   "metadata": {},
   "outputs": [
    {
     "data": {
      "text/plain": [
       "True"
      ]
     },
     "execution_count": 20,
     "metadata": {},
     "output_type": "execute_result"
    }
   ],
   "source": [
    "unicodedata.normalize('NFD', s1).casefold() == unicodedata.normalize('NFD', s2).casefold()"
   ]
  },
  {
   "cell_type": "markdown",
   "id": "6f6f505b",
   "metadata": {},
   "source": [
    "I usually end up with a small helper function:"
   ]
  },
  {
   "cell_type": "code",
   "execution_count": 21,
   "id": "30db43b8",
   "metadata": {},
   "outputs": [],
   "source": [
    "def strcomp(a, b, case_insensitive=False):\n",
    "    a = unicodedata.normalize('NFD', a)\n",
    "    b = unicodedata.normalize('NFD', b)\n",
    "    if case_insensitive:\n",
    "        return a.casefold() == b.casefold()\n",
    "    else:\n",
    "        return a == b"
   ]
  },
  {
   "cell_type": "markdown",
   "id": "9e699ff2",
   "metadata": {},
   "source": [
    "And this will work with all our examples so far:"
   ]
  },
  {
   "cell_type": "code",
   "execution_count": 22,
   "id": "5611b09f",
   "metadata": {},
   "outputs": [
    {
     "name": "stdout",
     "output_type": "stream",
     "text": [
      "s1='être', s2='ÊTRE'\n",
      "case sensitive: False\n",
      "case insensitive: True\n"
     ]
    }
   ],
   "source": [
    "s1 = '\\u0065\\u0302tre'\n",
    "s2 = '\\u00caTRE'\n",
    "print(f\"{s1=}, {s2=}\")\n",
    "print('case sensitive:', strcomp(s1, s2))\n",
    "print('case insensitive:', strcomp(s1, s2, True))"
   ]
  },
  {
   "cell_type": "code",
   "execution_count": 23,
   "id": "1af78cfe",
   "metadata": {},
   "outputs": [
    {
     "name": "stdout",
     "output_type": "stream",
     "text": [
      "s1='STRASSE', s2='Straße'\n",
      "case sensitive: False\n",
      "case insensitive: True\n"
     ]
    }
   ],
   "source": [
    "s1 = 'STRASSE'\n",
    "s2 = 'Straße'\n",
    "print(f\"{s1=}, {s2=}\")\n",
    "print('case sensitive:', strcomp(s1, s2))\n",
    "print('case insensitive:', strcomp(s1, s2, True))"
   ]
  },
  {
   "cell_type": "markdown",
   "id": "2063c18d",
   "metadata": {},
   "source": [
    "Case-insensitive comparisons can be quite simple using case folding, as long as the character set you are dealing with is something like the ASCII characters, but once you start considering internationalization issues, things get more complicated very fast! \n",
    "\n",
    "This is just the tip of the iceberg, depending on the particular language you are dealing with, things can get even more complicated."
   ]
  },
  {
   "cell_type": "code",
   "execution_count": null,
   "id": "aa71720f",
   "metadata": {},
   "outputs": [],
   "source": []
  }
 ],
 "metadata": {
  "kernelspec": {
   "display_name": "Python 3 (ipykernel)",
   "language": "python",
   "name": "python3"
  },
  "language_info": {
   "codemirror_mode": {
    "name": "ipython",
    "version": 3
   },
   "file_extension": ".py",
   "mimetype": "text/x-python",
   "name": "python",
   "nbconvert_exporter": "python",
   "pygments_lexer": "ipython3",
   "version": "3.10.2"
  }
 },
 "nbformat": 4,
 "nbformat_minor": 5
}
