{
 "cells": [
  {
   "cell_type": "markdown",
   "id": "e4398d0a",
   "metadata": {},
   "source": [
    "### The 'Faker' Library"
   ]
  },
  {
   "cell_type": "markdown",
   "id": "c8eb76fd",
   "metadata": {},
   "source": [
    "This library can be quite useful when testing your code or needing to generate synthetic data sets.\n",
    "\n",
    "Often our code involves working with data, and we want to test our code using that data. However, sometimes the data we have available is \"real\" data, that may contain actual confidential or even sensitive information ( so called PII information - personal identificable information).\n",
    "\n",
    "We still want to test our code, and usually we include the tests and the data needed to test into the code repository. But putting real client data or sensitive data should be a big no-no. Or maybe we just want to test our code with a variety of data we may not even have in our available \"real\" data (maybe internationalization issues).\n",
    "\n",
    "Instead, we have to build up fake data, that has similar properties to real data, but is completely synthetic.\n",
    "\n",
    "That's where the `Faker` library can be helpful."
   ]
  },
  {
   "cell_type": "markdown",
   "id": "190574eb",
   "metadata": {},
   "source": [
    "> Installation: You can pip install `Faker`, or simply use the `Pipenv` file provided in this repo.\n",
    ">\n",
    "> ```bash\n",
    "> pip install Faker\n",
    "> ```"
   ]
  },
  {
   "cell_type": "markdown",
   "id": "a118563b",
   "metadata": {},
   "source": [
    "In this notebook we'll take a quick look at this library and some of the functionality it offers to construct synthetic datasets."
   ]
  },
  {
   "cell_type": "markdown",
   "id": "2fe3291f",
   "metadata": {},
   "source": [
    "#### Seeding"
   ]
  },
  {
   "cell_type": "markdown",
   "id": "6e25dc61",
   "metadata": {},
   "source": [
    "The `Faker` library uses a random number generator to generate sequences of choices, and we can set the `seed` to obtain repeatable results - especially important when writing unit tests where we may need to rely on the synthetic data remaining consistent from run to run. (although often we generate the synthetic data once, and store it somewhere).\n",
    "\n",
    "`Faker` mostly uses generators to generate those sequences of data."
   ]
  },
  {
   "cell_type": "code",
   "execution_count": 1,
   "id": "6151d91c",
   "metadata": {},
   "outputs": [],
   "source": [
    "from faker import Faker"
   ]
  },
  {
   "cell_type": "code",
   "execution_count": 2,
   "id": "96dfdab3",
   "metadata": {},
   "outputs": [
    {
     "name": "stdout",
     "output_type": "stream",
     "text": [
      "Norma Fisher\n",
      "Jorge Sullivan\n",
      "Elizabeth Woods\n",
      "Susan Wagner\n",
      "Peter Montgomery\n",
      "Theodore Mcgrath\n",
      "Stephanie Collins\n",
      "Stephanie Sutton\n",
      "Brian Hamilton\n",
      "Susan Levy\n"
     ]
    }
   ],
   "source": [
    "Faker.seed(0)\n",
    "\n",
    "fake = Faker()\n",
    "for _ in range(10):\n",
    "    print(fake.name())\n"
   ]
  },
  {
   "cell_type": "markdown",
   "id": "df5e7f16",
   "metadata": {},
   "source": [
    "If we reset the seed, we'll get the same sequence of names:"
   ]
  },
  {
   "cell_type": "code",
   "execution_count": 3,
   "id": "e98f07ba",
   "metadata": {},
   "outputs": [
    {
     "name": "stdout",
     "output_type": "stream",
     "text": [
      "Norma Fisher\n",
      "Jorge Sullivan\n",
      "Elizabeth Woods\n",
      "Susan Wagner\n",
      "Peter Montgomery\n",
      "Theodore Mcgrath\n",
      "Stephanie Collins\n",
      "Stephanie Sutton\n",
      "Brian Hamilton\n",
      "Susan Levy\n"
     ]
    }
   ],
   "source": [
    "Faker.seed(0)\n",
    "\n",
    "fake = Faker()\n",
    "for _ in range(10):\n",
    "    print(fake.name())"
   ]
  },
  {
   "cell_type": "markdown",
   "id": "397f174c",
   "metadata": {},
   "source": [
    "You can find docs for all the various categories of synthetoc data (called \"providers\") [here](https://faker.readthedocs.io/en/master/providers.html)"
   ]
  },
  {
   "cell_type": "markdown",
   "id": "57f7d193",
   "metadata": {},
   "source": [
    "#### Person Names"
   ]
  },
  {
   "cell_type": "markdown",
   "id": "f704f652",
   "metadata": {},
   "source": [
    "Several functions are available to generate synthetic names. \n",
    "\n",
    "We saw `name` in the previous example, but there are many others:\n",
    "- `first_name`\n",
    "- `first_name_female`\n",
    "- `first_name_male`\n",
    "- `last_name`\n",
    "- `name_female`\n",
    "- `name_male`\n",
    "- `prefix`\n",
    "- `prefix_female`\n",
    "- `prefix_male`\n",
    "\n",
    "and more..."
   ]
  },
  {
   "cell_type": "code",
   "execution_count": 4,
   "id": "9da80ca9",
   "metadata": {},
   "outputs": [
    {
     "name": "stdout",
     "output_type": "stream",
     "text": [
      "Dr. Norma Fisher\n",
      "Mrs. Kayla Sullivan\n",
      "Dr. Elizabeth Woods\n",
      "Ms. Susan Wagner\n",
      "Mrs. Nicole Montgomery\n",
      "Mrs. Susan Mcgrath\n",
      "Dr. Stephanie Collins\n",
      "Dr. Stephanie Sutton\n",
      "Mrs. Ashlee Hamilton\n",
      "Miss Susan Levy\n"
     ]
    }
   ],
   "source": [
    "Faker.seed(0)\n",
    "faker = Faker()\n",
    "\n",
    "for _ in range(10):\n",
    "    print(\n",
    "        faker.prefix_female(), \n",
    "        faker.first_name_female(), \n",
    "        faker.last_name()\n",
    "    )"
   ]
  },
  {
   "cell_type": "markdown",
   "id": "0fb00748",
   "metadata": {},
   "source": [
    "#### Addresses"
   ]
  },
  {
   "cell_type": "markdown",
   "id": "17d14758",
   "metadata": {},
   "source": [
    "See [here](https://faker.readthedocs.io/en/master/providers/faker.providers.address.html) for all available generators for addresses."
   ]
  },
  {
   "cell_type": "markdown",
   "id": "7a8a58ff",
   "metadata": {},
   "source": [
    "Lots of ways to generate addresses with lots of granularity, including:\n",
    "\n",
    "- `address` (full address, including newline characters for separate address lines)\n",
    "- `street_address`\n",
    "- `building_number`\n",
    "- `street_name`\n",
    "- `postcode`\n",
    "- `city`\n",
    "- `country` or `country_code`\n",
    "\n",
    "and more..."
   ]
  },
  {
   "cell_type": "code",
   "execution_count": 5,
   "id": "dd379a60",
   "metadata": {},
   "outputs": [
    {
     "name": "stdout",
     "output_type": "stream",
     "text": [
      "48764 Howard Forge Apt. 421\n",
      "Vanessaside, PA 19763\n",
      "====================\n",
      "578 Michael Island\n",
      "New Thomas, NC 34644\n",
      "====================\n",
      "60975 Jessica Squares\n",
      "East Sallybury, FL 71671\n",
      "====================\n",
      "8714 Mann Plaza\n",
      "Lisaside, PA 72227\n",
      "====================\n",
      "96593 White View Apt. 094\n",
      "Jonesberg, FL 05565\n",
      "====================\n",
      "848 Melissa Springs Suite 947\n",
      "Kellerstad, MD 80819\n",
      "====================\n",
      "30413 Norton Isle Suite 012\n",
      "North Lisa, ND 79428\n",
      "====================\n",
      "39916 Mitchell Crescent\n",
      "New Andrewburgh, DE 63315\n",
      "====================\n",
      "086 Mary Cliff\n",
      "North Deborah, NE 24135\n",
      "====================\n",
      "91634 Strong Mountains Apt. 302\n",
      "West Alyssa, PA 58475\n",
      "====================\n"
     ]
    }
   ],
   "source": [
    "Faker.seed(0)\n",
    "for _ in range(10):\n",
    "    print(faker.address())\n",
    "    print('=' * 20)"
   ]
  },
  {
   "cell_type": "markdown",
   "id": "d1043827",
   "metadata": {},
   "source": [
    "You'll notice that all these addresses (at least for me) are US based addresses - more on locales in a bit."
   ]
  },
  {
   "cell_type": "code",
   "execution_count": 6,
   "id": "6bdbf572",
   "metadata": {},
   "outputs": [
    {
     "name": "stdout",
     "output_type": "stream",
     "text": [
      "6048 Sullivan Tunnel Tammystad 76966 Uganda\n",
      "82421 Archer Place West Corey 10166 United Arab Emirates\n",
      "578 Michael Island New Thomas 68835 Eritrea\n",
      "80160 Clayton Isle Lake Mark 08756 Comoros\n",
      "332 Davis Island Rodriguezside 38654 Romania\n",
      "85839 Wallace Ranch Stewartbury 38555 Colombia\n",
      "20947 Christopher Throughway East Sandra 11019 Ukraine\n",
      "868 Boyd Freeway Lake Brittany 55475 Morocco\n",
      "7751 Salazar Oval Meganbury 02625 Saint Martin\n",
      "1352 Simmons Circle Port Dustinbury 06429 Svalbard & Jan Mayen Islands\n"
     ]
    }
   ],
   "source": [
    "Faker.seed(0)\n",
    "\n",
    "for _ in range(10):\n",
    "    print(faker.building_number(), faker.street_name(), faker.city(), faker.postcode(), faker.country())"
   ]
  },
  {
   "cell_type": "markdown",
   "id": "67295288",
   "metadata": {},
   "source": [
    "As you can see, in this case some of this data is not limited to US versions (like countries(, although it does look like the postal codes are US postal codes, and the street names are all in English."
   ]
  },
  {
   "cell_type": "markdown",
   "id": "66f24186",
   "metadata": {},
   "source": [
    "#### Locales"
   ]
  },
  {
   "cell_type": "markdown",
   "id": "cbdeabce",
   "metadata": {},
   "source": [
    "Some of the synthetic data Faker generates can be tied to specific locale(s)."
   ]
  },
  {
   "cell_type": "markdown",
   "id": "decefce4",
   "metadata": {},
   "source": [
    "To to this we need to let Faker know which locale, or locales to use."
   ]
  },
  {
   "cell_type": "markdown",
   "id": "32bfa728",
   "metadata": {},
   "source": [
    "Also, note that not all providers support all locales - to see what locales are available, and what providers are supported for each locale, see [here](https://faker.readthedocs.io/en/master/locales.html)"
   ]
  },
  {
   "cell_type": "markdown",
   "id": "7051ca66",
   "metadata": {},
   "source": [
    "For example, we can see that the `hi_IN` locale supports `address`, `date_time`, `person` and `phone_number`, while the `fr_FR` locale supports a lot more (you can always contribute to the project if you want to!)"
   ]
  },
  {
   "cell_type": "markdown",
   "id": "4944736e",
   "metadata": {},
   "source": [
    "Let's try out the `hi_IN` locale:"
   ]
  },
  {
   "cell_type": "code",
   "execution_count": 7,
   "id": "98059613",
   "metadata": {},
   "outputs": [
    {
     "name": "stdout",
     "output_type": "stream",
     "text": [
      "4876 विकावि\n",
      "फतहपुर-824219\n",
      "====================\n",
      "1/1 लोकनाट्यों\n",
      "बचेली-593877\n",
      "====================\n",
      "1609 ड़ाल\n",
      "देहरा-139332\n",
      "====================\n",
      "587 रतन महादेव\n",
      "असम-858398\n",
      "====================\n",
      "965 प्रणव चौधरी\n",
      "विस्तारण-094711\n",
      "====================\n",
      "1868 मदन\n",
      "लखनऊ 969477\n",
      "====================\n",
      "91/79 चौहान\n",
      "अगरतला-135256\n",
      "====================\n",
      "30 रेयांश बादामी\n",
      "फतेहपुर 615109\n",
      "====================\n",
      "17 अयांश हासन\n",
      "चिपलुन 914131\n",
      "====================\n",
      "20/870 कान्ती छाबरा\n",
      "बचेली-923022\n",
      "====================\n"
     ]
    }
   ],
   "source": [
    "Faker.seed(0)\n",
    "faker = Faker(['hi_IN'])\n",
    "\n",
    "for _ in range(10):\n",
    "    print(faker.address())\n",
    "    print('=' * 20)"
   ]
  },
  {
   "cell_type": "markdown",
   "id": "c720944d",
   "metadata": {},
   "source": [
    "And with the person provider:"
   ]
  },
  {
   "cell_type": "code",
   "execution_count": 8,
   "id": "1fa55630",
   "metadata": {},
   "outputs": [
    {
     "name": "stdout",
     "output_type": "stream",
     "text": [
      "ललित बादामी\n",
      "नाम, अमर\n",
      "सुलभा हुसैन\n",
      "विष्णु कुमार\n",
      "ज्योत्सना मंडल\n",
      "आव्या महाजन\n",
      "शर्मा, शान्ता\n",
      "गावित, अभिलाषा\n",
      "अहलुवालिया, प्रभाकर\n",
      "कालिदास विकावि\n"
     ]
    }
   ],
   "source": [
    "for _ in range(10):\n",
    "    print(faker.name())"
   ]
  },
  {
   "cell_type": "markdown",
   "id": "2ae16721",
   "metadata": {},
   "source": [
    "According to the library's documentation we can specify multiple locales and the sequences of values (as long as they are supported by the locale) should be randomly selected from each locale as a whole.\n",
    "\n",
    "Unfortunately there seems to be a bug in the more recent version of the library, where this is not working (see [issue #1656](https://github.com/joke2k/faker/issues/1656)) which currently remains unresolved."
   ]
  },
  {
   "cell_type": "markdown",
   "id": "625d7d52",
   "metadata": {},
   "source": [
    "Here, I'll show you a workaround to this problem. It's not pretty, but it works!"
   ]
  },
  {
   "cell_type": "markdown",
   "id": "d261a7ec",
   "metadata": {},
   "source": [
    "We can specify multiple locales by just adding them to the args when create an instance of the Faker class:"
   ]
  },
  {
   "cell_type": "code",
   "execution_count": 9,
   "id": "2b23d1ee",
   "metadata": {},
   "outputs": [
    {
     "name": "stdout",
     "output_type": "stream",
     "text": [
      "Alice Poirier\n",
      "Alice Poirier\n",
      "Alice Poirier\n",
      "Alice Poirier\n",
      "Alice Poirier\n",
      "Alice Poirier\n",
      "Alice Poirier\n",
      "Alice Poirier\n",
      "Alice Poirier\n",
      "Alice Poirier\n"
     ]
    }
   ],
   "source": [
    "fake = Faker(['en_US', 'fr_FR', 'es_ES'])\n",
    "Faker.seed(0)\n",
    "for _ in range(10):\n",
    "    print(fake.name())"
   ]
  },
  {
   "cell_type": "markdown",
   "id": "80d5f648",
   "metadata": {},
   "source": [
    "As you can see though, this is not working as expected. So, we have something that works for single locales, but not multiple locales. (It seems that setting the seed produces this bug - if you don't set a seed, or use `Faker.seed()`, then things appear to work fine)"
   ]
  },
  {
   "cell_type": "markdown",
   "id": "7a746291",
   "metadata": {},
   "source": [
    "To get around this, we'll use Python's `random.choices` function to pick the \"next\" value from a choice of possible single-locale providers."
   ]
  },
  {
   "cell_type": "code",
   "execution_count": 10,
   "id": "e15ec86a",
   "metadata": {},
   "outputs": [],
   "source": [
    "locales = ['en_US', 'fr_FR', 'es_ES']\n",
    "providers = [Faker(locale) for locale in locales]"
   ]
  },
  {
   "cell_type": "code",
   "execution_count": 11,
   "id": "02ec6ba9",
   "metadata": {},
   "outputs": [],
   "source": [
    "from random import choice, choices, seed"
   ]
  },
  {
   "cell_type": "code",
   "execution_count": 12,
   "id": "73e06237",
   "metadata": {},
   "outputs": [],
   "source": [
    "provider = lambda: choice(providers)"
   ]
  },
  {
   "cell_type": "markdown",
   "id": "5af98ed5",
   "metadata": {},
   "source": [
    "This `provider` function will give us a random provider, which we can use to get the next value:"
   ]
  },
  {
   "cell_type": "code",
   "execution_count": 13,
   "id": "f6f4da5d",
   "metadata": {},
   "outputs": [
    {
     "name": "stdout",
     "output_type": "stream",
     "text": [
      "Paulette Fournier\n",
      "Pierre-Patrick Lebon\n",
      "Sandra Faulkner\n",
      "Gabrielle Bodin\n",
      "Epifanio Chaves Bustamante\n",
      "Jeannine Rossi de la Ruiz\n",
      "Auguste Pottier\n",
      "Sylvie Vaillant\n",
      "Joseph Gay\n",
      "Emmanuelle Courtois\n"
     ]
    }
   ],
   "source": [
    "Faker.seed(0)\n",
    "seed(0)\n",
    "for _ in range(10):\n",
    "    print(provider().name())"
   ]
  },
  {
   "cell_type": "markdown",
   "id": "a9fe9d0b",
   "metadata": {},
   "source": [
    "We can modify this slightly to gives us the ability to **weigh** the choices of local providers. We simply use Python's `random.choices` function which allows us to specify weights:"
   ]
  },
  {
   "cell_type": "code",
   "execution_count": 14,
   "id": "14da5b31",
   "metadata": {},
   "outputs": [],
   "source": [
    "locales = ['hi_IN', 'en_US']\n",
    "weights = [1, 2]\n",
    "providers = [Faker(locale) for locale in locales]\n",
    "provider = lambda: choices(providers, weights=weights, k=1)[0]"
   ]
  },
  {
   "cell_type": "code",
   "execution_count": 15,
   "id": "781b0a6e",
   "metadata": {},
   "outputs": [
    {
     "name": "stdout",
     "output_type": "stream",
     "text": [
      "Norma Fisher\n",
      "Jorge Sullivan\n",
      "Elizabeth Woods\n",
      "डानी, ज़ोया\n",
      "Charles Davis\n",
      "Victoria Patel\n",
      "Lindsay Thomas\n",
      "किआन हुसैन\n",
      "Justin Gomez\n",
      "Martin Harris\n"
     ]
    }
   ],
   "source": [
    "Faker.seed(0)\n",
    "seed(0)\n",
    "for _ in range(10):\n",
    "    print(provider().name())"
   ]
  },
  {
   "cell_type": "markdown",
   "id": "8290bc28",
   "metadata": {},
   "source": [
    "#### Unique Values"
   ]
  },
  {
   "cell_type": "markdown",
   "id": "79bb48c2",
   "metadata": {},
   "source": [
    "The functions we have used so far do not guarantee that the same value (be they name, address, or any other provider functions) will not be returned more than once. When we generate large data sets this could happen. It may be that you want to guarantee that a particular sequence of values will only contain unique values."
   ]
  },
  {
   "cell_type": "markdown",
   "id": "4d4761c3",
   "metadata": {},
   "source": [
    "Faker provides the ability to do this, by using the `unique` attribute of a Faker instance."
   ]
  },
  {
   "cell_type": "markdown",
   "id": "f1f34366",
   "metadata": {},
   "source": [
    "For example to guarantee unique SSNs:"
   ]
  },
  {
   "cell_type": "code",
   "execution_count": 16,
   "id": "5a889f25",
   "metadata": {},
   "outputs": [
    {
     "name": "stdout",
     "output_type": "stream",
     "text": [
      "865-50-6891\n",
      "042-34-8377\n",
      "498-52-4970\n",
      "489-46-9559\n",
      "224-65-2282\n",
      "289-18-1554\n",
      "634-33-8726\n",
      "723-78-2408\n",
      "318-13-1209\n",
      "871-88-5410\n"
     ]
    }
   ],
   "source": [
    "Faker.seed(0)\n",
    "faker = Faker()\n",
    "for _ in range(10):\n",
    "    print(faker.unique.ssn())"
   ]
  },
  {
   "cell_type": "markdown",
   "id": "320a1506",
   "metadata": {},
   "source": [
    "Now, it may be that the number of values you are building will exceed the available possibilities for a particular provider generator - in which case Faker will raise a `UniquenessException`."
   ]
  },
  {
   "cell_type": "code",
   "execution_count": 17,
   "id": "4c23f571",
   "metadata": {},
   "outputs": [],
   "source": [
    "from faker.exceptions import UniquenessException"
   ]
  },
  {
   "cell_type": "markdown",
   "id": "ebdde40d",
   "metadata": {},
   "source": [
    "We know that there should be a limited number of countries available, so given a sufficiently large number of requests, we should, at some point, expect the unique list of countries to become exhausted:"
   ]
  },
  {
   "cell_type": "code",
   "execution_count": 18,
   "id": "f7992b2d",
   "metadata": {},
   "outputs": [
    {
     "name": "stdout",
     "output_type": "stream",
     "text": [
      "Not enough unique values available\n"
     ]
    }
   ],
   "source": [
    "faker = Faker()\n",
    "try:\n",
    "    for _ in range(244):\n",
    "        faker.unique.country()\n",
    "except UniquenessException:\n",
    "    print('Not enough unique values available')"
   ]
  },
  {
   "cell_type": "markdown",
   "id": "5bcc779f",
   "metadata": {},
   "source": [
    "But it will work just fine with less than 244 cities:"
   ]
  },
  {
   "cell_type": "code",
   "execution_count": 19,
   "id": "5c8a2c7b",
   "metadata": {},
   "outputs": [],
   "source": [
    "faker = Faker()\n",
    "try:\n",
    "    for _ in range(243):\n",
    "        faker.unique.country()\n",
    "except UniquenessException:\n",
    "    print('Not enough unique values available')"
   ]
  },
  {
   "cell_type": "markdown",
   "id": "d0d906fa",
   "metadata": {},
   "source": [
    "And we can easily show the values are indeed unique:"
   ]
  },
  {
   "cell_type": "code",
   "execution_count": 20,
   "id": "ef103481",
   "metadata": {},
   "outputs": [
    {
     "data": {
      "text/plain": [
       "True"
      ]
     },
     "execution_count": 20,
     "metadata": {},
     "output_type": "execute_result"
    }
   ],
   "source": [
    "faker = Faker()\n",
    "countries = [faker.unique.country() for _ in range(243)]\n",
    "len(countries) == len(set(countries))"
   ]
  },
  {
   "cell_type": "markdown",
   "id": "ebbb5924",
   "metadata": {},
   "source": [
    "Since the set and the original list have the same length, the list did not contain any duplicates."
   ]
  },
  {
   "cell_type": "markdown",
   "id": "cbbe76b0",
   "metadata": {},
   "source": [
    "#### Other Providers"
   ]
  },
  {
   "cell_type": "markdown",
   "id": "92fef271",
   "metadata": {},
   "source": [
    "There are many more providers available - just see the docs I linked earlier for more info."
   ]
  },
  {
   "cell_type": "code",
   "execution_count": 21,
   "id": "167e7a83",
   "metadata": {},
   "outputs": [
    {
     "name": "stdout",
     "output_type": "stream",
     "text": [
      "ssn: 865-50-6891\n",
      "color name: BlueViolet\n",
      "isbn-10: 1-64759-382-4\n",
      "company email: donald19@archer-patel.org\n",
      "bank IBAN: GB17EJDX15781565938778\n",
      "User agent: Mozilla/5.0 (compatible; MSIE 5.0; Windows NT 10.0; Trident/5.0)\n"
     ]
    }
   ],
   "source": [
    "Faker.seed(0)\n",
    "faker = Faker()\n",
    "\n",
    "print('ssn:', faker.ssn())\n",
    "print('color name:', faker.color_name())\n",
    "print('isbn-10:', faker.isbn10())\n",
    "print('company email:', faker.company_email())\n",
    "print('bank IBAN:', faker.iban())\n",
    "print('User agent:', faker.user_agent())"
   ]
  },
  {
   "cell_type": "markdown",
   "id": "2bb76e4d",
   "metadata": {},
   "source": [
    "#### The Python Provider"
   ]
  },
  {
   "cell_type": "markdown",
   "id": "653b9d66",
   "metadata": {},
   "source": [
    "There is also one very interesting provider, called the `python` provider - docs for this provider are [here](https://faker.readthedocs.io/en/master/providers/faker.providers.python.html)."
   ]
  },
  {
   "cell_type": "markdown",
   "id": "0b6c4db4",
   "metadata": {},
   "source": [
    "We can use it to generate Python objects, such as lists, dictionaries, etc."
   ]
  },
  {
   "cell_type": "code",
   "execution_count": 22,
   "id": "23a4116c",
   "metadata": {},
   "outputs": [
    {
     "name": "stdout",
     "output_type": "stream",
     "text": [
      "[6890, True, 6634, 7808, 9558, False]\n",
      "[2289, True, True, False, 7735, True]\n",
      "[5180, True, 8541, 1020, False, 18]\n",
      "[5458, True, False, False, True, False]\n",
      "[8322, 1786, 9031, 2044, 8852, True]\n",
      "[1501, 5194, True, False, False, 7807]\n",
      "[False, False, False, 8594, 8549, False]\n",
      "[9497, 7382, 5855, True, True, 3119]\n",
      "[False, 1919, True, True, 1018, False]\n",
      "[False, False, False, True, True, False]\n"
     ]
    }
   ],
   "source": [
    "Faker.seed(0)\n",
    "faker = Faker()\n",
    "\n",
    "for _ in range(10):\n",
    "    data = faker.pylist(\n",
    "        nb_elements=6,\n",
    "        variable_nb_elements=False,\n",
    "        value_types= ['bool', 'int'],\n",
    "    )\n",
    "    print(data)"
   ]
  },
  {
   "cell_type": "markdown",
   "id": "7de9d552",
   "metadata": {},
   "source": [
    "You have other value type choices available as well (also passed as strings), such as `email`, `uri`, `date_time`, `decimal`, etc."
   ]
  },
  {
   "cell_type": "markdown",
   "id": "e8e97b39",
   "metadata": {},
   "source": [
    "In fact, the `value_types` argument can reference other provider functions:"
   ]
  },
  {
   "cell_type": "code",
   "execution_count": 23,
   "id": "12626500",
   "metadata": {},
   "outputs": [
    {
     "data": {
      "text/plain": [
       "['Wesley Robbins',\n",
       " 'srv-00.coleman.com',\n",
       " 'Hayley White',\n",
       " 'db-91.mcneil.info',\n",
       " 'Christina Saunders',\n",
       " 'Gloria King',\n",
       " 'email-20.maldonado-mccullough.net',\n",
       " 'email-56.king.com',\n",
       " 'email-08.taylor-gill.info',\n",
       " 'lt-45.arroyo.com',\n",
       " 'email-61.wheeler.com',\n",
       " 'Mark Gray',\n",
       " 'db-69.barton-fletcher.com']"
      ]
     },
     "execution_count": 23,
     "metadata": {},
     "output_type": "execute_result"
    }
   ],
   "source": [
    "faker.pylist(nb_elements=10, value_types=['name', 'hostname'])"
   ]
  },
  {
   "cell_type": "markdown",
   "id": "360d46fb",
   "metadata": {},
   "source": [
    "Another interesting one is the `pystr_format` function, where we can specify a format of mixed characters and digits."
   ]
  },
  {
   "cell_type": "markdown",
   "id": "4a37315d",
   "metadata": {},
   "source": [
    "We use a template string to indicate the output string format we want, using `#`  for single digit placeholder, and `?` for single character placeholder."
   ]
  },
  {
   "cell_type": "code",
   "execution_count": 24,
   "id": "8d7749be",
   "metadata": {},
   "outputs": [
    {
     "name": "stdout",
     "output_type": "stream",
     "text": [
      "x-Fz66-048-Y\n",
      "x-Gi47-593-s\n",
      "x-TZ21-948-M\n",
      "x-EJ24-115-g\n",
      "x-JE56-593-C\n",
      "x-fU84-080-z\n",
      "x-Uu09-753-T\n",
      "x-Zj13-933-Z\n",
      "x-GF87-115-g\n",
      "x-vI48-418-n\n"
     ]
    }
   ],
   "source": [
    "Faker.seed(0)\n",
    "faker = Faker()\n",
    "\n",
    "template = 'x-??##-###-?'\n",
    "for _ in range(10):\n",
    "    print(faker.pystr_format(template))"
   ]
  },
  {
   "cell_type": "markdown",
   "id": "5b57a72c",
   "metadata": {},
   "source": [
    "We can also limit the character set to choose from:"
   ]
  },
  {
   "cell_type": "code",
   "execution_count": 25,
   "id": "65116987",
   "metadata": {},
   "outputs": [
    {
     "name": "stdout",
     "output_type": "stream",
     "text": [
      "x-dd66-048-g\n",
      "x-eb47-593-c\n",
      "x-fg21-948-e\n",
      "x-de24-115-a\n",
      "x-ed56-593-d\n",
      "x-af84-080-g\n",
      "x-bf60-975-c\n",
      "x-gb13-933-g\n",
      "x-ed87-115-a\n",
      "x-cg48-418-e\n"
     ]
    }
   ],
   "source": [
    "Faker.seed(0)\n",
    "faker = Faker()\n",
    "\n",
    "template = 'x-??##-###-?'\n",
    "for _ in range(10):\n",
    "    print(faker.pystr_format(template, 'abcdefg'))"
   ]
  },
  {
   "cell_type": "markdown",
   "id": "cc4e654c",
   "metadata": {},
   "source": [
    "Note: this `pystr_format` is actually using another function called `bothify`, documented [here](https://faker.readthedocs.io/en/master/providers/baseprovider.html), along with other functions like `hexify`, `lexify`, `numerify`, etc."
   ]
  },
  {
   "cell_type": "code",
   "execution_count": 26,
   "id": "b58d052a",
   "metadata": {},
   "outputs": [
    {
     "name": "stdout",
     "output_type": "stream",
     "text": [
      "x-dd66-048-g\n",
      "x-eb47-593-c\n",
      "x-fg21-948-e\n",
      "x-de24-115-a\n",
      "x-ed56-593-d\n",
      "x-af84-080-g\n",
      "x-bf60-975-c\n",
      "x-gb13-933-g\n",
      "x-ed87-115-a\n",
      "x-cg48-418-e\n"
     ]
    }
   ],
   "source": [
    "Faker.seed(0)\n",
    "faker = Faker()\n",
    "template = 'x-??##-###-?'\n",
    "for _ in range(10):\n",
    "    print(faker.bothify(template, 'abcdefg'))"
   ]
  },
  {
   "cell_type": "markdown",
   "id": "9e05f280",
   "metadata": {},
   "source": [
    "One big difference is that `pystr_format` is slightly more versatile because you can use other provider functions in the template:"
   ]
  },
  {
   "cell_type": "code",
   "execution_count": 27,
   "id": "5827993b",
   "metadata": {},
   "outputs": [
    {
     "name": "stdout",
     "output_type": "stream",
     "text": [
      "Customer: Norma Fisher (tammy766example.com)\n",
      "Customer: Susan Wagner (donald19example.com)\n",
      "Customer: Nicholas Nolan (thomas154example.com)\n",
      "Customer: Karen Grimes (bryan801example.org)\n",
      "Customer: Samantha Cook (jane13example.net)\n",
      "Customer: Walter Pratt (udavis2example.net)\n",
      "Customer: Eddie Martinez (lisa838example.net)\n",
      "Customer: Robert Stewart (kellylopezexample.org)\n",
      "Customer: Mary Alvarez (sheltondavidexample.org)\n",
      "Customer: Stephanie Leblanc (hmasseyexample.com)\n"
     ]
    }
   ],
   "source": [
    "Faker.seed(0)\n",
    "faker = Faker()\n",
    "\n",
    "template = \"Customer: {{name}} ({{email}})\"\n",
    "for _ in range(10):\n",
    "    print(faker.pystr_format(template))"
   ]
  },
  {
   "cell_type": "markdown",
   "id": "c3554281",
   "metadata": {},
   "source": [
    "As you can see there are **lots** of options available!"
   ]
  },
  {
   "cell_type": "markdown",
   "id": "acd09ed5",
   "metadata": {},
   "source": [
    "Note: it looks like there may be another bug here as well - look at those emails, they are not quite correct - they are all missing the `@` character."
   ]
  },
  {
   "cell_type": "markdown",
   "id": "1b127b71",
   "metadata": {},
   "source": [
    "#### Even More Providers"
   ]
  },
  {
   "cell_type": "markdown",
   "id": "032d170d",
   "metadata": {},
   "source": [
    "If the built-in providers are not sufficient, there are also community built providers available."
   ]
  },
  {
   "cell_type": "markdown",
   "id": "3cd8adf4",
   "metadata": {},
   "source": [
    "For example, you can pip install `faker_airtravel` (included in this repo's `Pipfile`) for aitr travel related synthetic data."
   ]
  },
  {
   "cell_type": "code",
   "execution_count": 28,
   "id": "a1c6ac6f",
   "metadata": {},
   "outputs": [],
   "source": [
    "from faker_airtravel import AirTravelProvider"
   ]
  },
  {
   "cell_type": "markdown",
   "id": "572e8dcb",
   "metadata": {},
   "source": [
    "We can use this additional provider by adding it to a Faker instance's providers:"
   ]
  },
  {
   "cell_type": "code",
   "execution_count": 29,
   "id": "7c81ef1e",
   "metadata": {},
   "outputs": [],
   "source": [
    "Faker.seed(0)\n",
    "faker = Faker()\n",
    "faker.add_provider(AirTravelProvider)"
   ]
  },
  {
   "cell_type": "markdown",
   "id": "72ba3f91",
   "metadata": {},
   "source": [
    "And now we can use it like any other provider:"
   ]
  },
  {
   "cell_type": "code",
   "execution_count": 30,
   "id": "89d70ef4",
   "metadata": {},
   "outputs": [
    {
     "data": {
      "text/plain": [
       "{'airport': 'Fort Lauderdale Hollywood International airport',\n",
       " 'iata': 'FLL',\n",
       " 'icao': 'KFLL',\n",
       " 'city': 'Dania Beach',\n",
       " 'state': 'Florida',\n",
       " 'country': 'United states'}"
      ]
     },
     "execution_count": 30,
     "metadata": {},
     "output_type": "execute_result"
    }
   ],
   "source": [
    "faker.airport_object()"
   ]
  },
  {
   "cell_type": "code",
   "execution_count": 31,
   "id": "e38f19ba",
   "metadata": {},
   "outputs": [
    {
     "data": {
      "text/plain": [
       "{'airline': 'Qatar Airways',\n",
       " 'origin': {'airport': 'Pucallpa airport',\n",
       "  'iata': 'PCL',\n",
       "  'icao': 'SPCL',\n",
       "  'city': 'Callaria',\n",
       "  'state': 'Ucayali',\n",
       "  'country': 'Peru'},\n",
       " 'destination': {'airport': 'Tancredo Neves International airport',\n",
       "  'iata': 'CNF',\n",
       "  'icao': 'SBCF',\n",
       "  'city': 'Confins',\n",
       "  'state': 'Minas Gerais',\n",
       "  'country': 'Brazil'},\n",
       " 'stops': 2,\n",
       " 'price': 973}"
      ]
     },
     "execution_count": 31,
     "metadata": {},
     "output_type": "execute_result"
    }
   ],
   "source": [
    "faker.flight()"
   ]
  },
  {
   "cell_type": "markdown",
   "id": "0b9592ad",
   "metadata": {},
   "source": [
    "There is a lot more to the `Faker` library, so feel free to explore it - it is fairly powerful, but documentation can be a bit sketchy at times - I often end looking at the source code (located [here](https://github.com/joke2k/faker)) if I need to dig further in."
   ]
  },
  {
   "cell_type": "markdown",
   "id": "0496f8c1",
   "metadata": {},
   "source": [
    "While producing this video, I ran across another synthetic data library called [Mimesis](https://mimesis.name/en/master/getting_started.html), which I have not used before, but it looks pretty powerful with some features that Faker does not have. Will be interesting to see if that library has less bugs than Faker. So, I'll take a look at it and report back! "
   ]
  }
 ],
 "metadata": {
  "kernelspec": {
   "display_name": "Python 3 (ipykernel)",
   "language": "python",
   "name": "python3"
  },
  "language_info": {
   "codemirror_mode": {
    "name": "ipython",
    "version": 3
   },
   "file_extension": ".py",
   "mimetype": "text/x-python",
   "name": "python",
   "nbconvert_exporter": "python",
   "pygments_lexer": "ipython3",
   "version": "3.10.2"
  }
 },
 "nbformat": 4,
 "nbformat_minor": 5
}
