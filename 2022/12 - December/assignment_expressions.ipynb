{
 "cells": [
  {
   "cell_type": "markdown",
   "id": "68c89586",
   "metadata": {},
   "source": [
    "### Python's Assignment Expressions"
   ]
  },
  {
   "cell_type": "markdown",
   "id": "76e58505",
   "metadata": {},
   "source": [
    "Python 3.8 introduced the `:=` operator (the so-called \"walrus\" operator) for assignment expressions. (see [PEP 572](https://peps.python.org/pep-0572/))"
   ]
  },
  {
   "cell_type": "markdown",
   "id": "2ed60857",
   "metadata": {},
   "source": [
    "What the heck is an assignment expression?"
   ]
  },
  {
   "cell_type": "markdown",
   "id": "9bee7c0d",
   "metadata": {},
   "source": [
    "Basically, it is an expression (so it returns a value when evaluated), just like something like this:"
   ]
  },
  {
   "cell_type": "code",
   "execution_count": 1,
   "id": "7b45632c",
   "metadata": {},
   "outputs": [
    {
     "data": {
      "text/plain": [
       "210"
      ]
     },
     "execution_count": 1,
     "metadata": {},
     "output_type": "execute_result"
    }
   ],
   "source": [
    "10 + (20 * 30) // 3"
   ]
  },
  {
   "cell_type": "markdown",
   "id": "2b8138c3",
   "metadata": {},
   "source": [
    "**And** it is also an assigment at the same time."
   ]
  },
  {
   "cell_type": "markdown",
   "id": "ed3d0565",
   "metadata": {},
   "source": [
    "Now, the walrus operator does not replace the regular assignment operator, we still do assignments the same way, but it allows us to embed assignments **inside** other expressions."
   ]
  },
  {
   "cell_type": "markdown",
   "id": "99c66bde",
   "metadata": {},
   "source": [
    "So, something like this is not allowed:"
   ]
  },
  {
   "cell_type": "markdown",
   "id": "8961eb50",
   "metadata": {},
   "source": [
    "```\n",
    "a := 20 + 30\n",
    "```"
   ]
  },
  {
   "cell_type": "markdown",
   "id": "fb04fc3a",
   "metadata": {},
   "source": [
    "Technically you could write it this way, but this is highly discouraged and should not be done!"
   ]
  },
  {
   "cell_type": "code",
   "execution_count": 2,
   "id": "6caf16f4",
   "metadata": {},
   "outputs": [
    {
     "data": {
      "text/plain": [
       "50"
      ]
     },
     "execution_count": 2,
     "metadata": {},
     "output_type": "execute_result"
    }
   ],
   "source": [
    "(x := 20 + 30)\n",
    "x"
   ]
  },
  {
   "cell_type": "markdown",
   "id": "1ad60780",
   "metadata": {},
   "source": [
    "So we still use regular assignments, but now we can do something like this:"
   ]
  },
  {
   "cell_type": "code",
   "execution_count": 3,
   "id": "de3c4cb6",
   "metadata": {},
   "outputs": [],
   "source": [
    "a = (b := 2 * 3) % 5"
   ]
  },
  {
   "cell_type": "markdown",
   "id": "11db7fb6",
   "metadata": {},
   "source": [
    "Not only do we have a calculated value for `a`:"
   ]
  },
  {
   "cell_type": "code",
   "execution_count": 4,
   "id": "f9ae9f93",
   "metadata": {},
   "outputs": [
    {
     "data": {
      "text/plain": [
       "1"
      ]
     },
     "execution_count": 4,
     "metadata": {},
     "output_type": "execute_result"
    }
   ],
   "source": [
    "a"
   ]
  },
  {
   "cell_type": "markdown",
   "id": "1f280803",
   "metadata": {},
   "source": [
    "But now we also have a new variable `b`:"
   ]
  },
  {
   "cell_type": "code",
   "execution_count": 5,
   "id": "a7e02626",
   "metadata": {},
   "outputs": [
    {
     "data": {
      "text/plain": [
       "6"
      ]
     },
     "execution_count": 5,
     "metadata": {},
     "output_type": "execute_result"
    }
   ],
   "source": [
    "b"
   ]
  },
  {
   "cell_type": "markdown",
   "id": "b7bdacfc",
   "metadata": {},
   "source": [
    "This can be quite useful to define long formulas and extract sub-calculations into variables - either for debugging, or for easily extracting the sub-calculations for further processing."
   ]
  },
  {
   "cell_type": "markdown",
   "id": "ee8f66dd",
   "metadata": {},
   "source": [
    "There are quite a few more contexts where the assignment expression syntax comes in quite useful."
   ]
  },
  {
   "cell_type": "markdown",
   "id": "43cfbcb3",
   "metadata": {},
   "source": [
    "Consider this example, where we have a list of strings, and we want to transform that list into a list of strings that contain all the unique characters of each string but only for cases where the number of unique characters is greater than `1`."
   ]
  },
  {
   "cell_type": "code",
   "execution_count": 6,
   "id": "8e973e97",
   "metadata": {},
   "outputs": [],
   "source": [
    "l = [\"a\", \"aa\", \"aaa\", \"ab\", \"aab\", \"aabb\"]"
   ]
  },
  {
   "cell_type": "markdown",
   "id": "cec65578",
   "metadata": {},
   "source": [
    "We could use a comprehension to do this:"
   ]
  },
  {
   "cell_type": "code",
   "execution_count": 7,
   "id": "3de603a1",
   "metadata": {},
   "outputs": [
    {
     "data": {
      "text/plain": [
       "[{'a', 'b'}, {'a', 'b'}, {'a', 'b'}]"
      ]
     },
     "execution_count": 7,
     "metadata": {},
     "output_type": "execute_result"
    }
   ],
   "source": [
    "result = [set(el) for el in l if len(set(el)) > 1]\n",
    "result"
   ]
  },
  {
   "cell_type": "markdown",
   "id": "7729adc5",
   "metadata": {},
   "source": [
    "But you'll notice that we had to calculate `set(el)` **twice** - once in the `if` clause, and once in the value we want for each resulting element."
   ]
  },
  {
   "cell_type": "markdown",
   "id": "8c9f2abf",
   "metadata": {},
   "source": [
    "Instead, we could use the walrus operator this way:"
   ]
  },
  {
   "cell_type": "code",
   "execution_count": 8,
   "id": "60db5ed4",
   "metadata": {},
   "outputs": [
    {
     "data": {
      "text/plain": [
       "[{'a', 'b'}, {'a', 'b'}, {'a', 'b'}]"
      ]
     },
     "execution_count": 8,
     "metadata": {},
     "output_type": "execute_result"
    }
   ],
   "source": [
    "result = [chars for el in l if len(chars := set(el)) > 1]\n",
    "result"
   ]
  },
  {
   "cell_type": "markdown",
   "id": "5ae1982b",
   "metadata": {},
   "source": [
    "Since the `if` clause gets evaluated first, we can stick our assignment expression there, and then use that variable elsewhere in our comprehension."
   ]
  },
  {
   "cell_type": "markdown",
   "id": "a0750264",
   "metadata": {},
   "source": [
    "Now this simple example probably does not require this approach - we really don't gain much by using the walrus operator here."
   ]
  },
  {
   "cell_type": "markdown",
   "id": "4707cd91",
   "metadata": {},
   "source": [
    "But consider the case where both the `if` clause expression and the elements we want returned are based on some long running function:"
   ]
  },
  {
   "cell_type": "code",
   "execution_count": 9,
   "id": "f6686f77",
   "metadata": {},
   "outputs": [],
   "source": [
    "import time\n",
    "\n",
    "def transform(x):\n",
    "    time.sleep(0.2)\n",
    "    sign = 1 if x % 2 == 0 else -1\n",
    "    return sign *  x ** 2"
   ]
  },
  {
   "cell_type": "code",
   "execution_count": 10,
   "id": "f8ad3d53",
   "metadata": {},
   "outputs": [],
   "source": [
    "l = [1, 2, 3, 4, 5, 6, 7, 8, 10]"
   ]
  },
  {
   "cell_type": "code",
   "execution_count": 11,
   "id": "95f37b74",
   "metadata": {},
   "outputs": [
    {
     "name": "stdout",
     "output_type": "stream",
     "text": [
      "[4, 16, 36, 64, 100]\n",
      "elapsed: 2.9 seconds\n"
     ]
    }
   ],
   "source": [
    "start = time.perf_counter()\n",
    "result = [transform(x) for x in l if transform(x) > 0]\n",
    "end = time.perf_counter()\n",
    "print(result)\n",
    "print(f\"elapsed: {end - start:.1f} seconds\")"
   ]
  },
  {
   "cell_type": "markdown",
   "id": "1ed6dc1a",
   "metadata": {},
   "source": [
    "You'll notice that in this case we had to calculate transform **twice**. Now, let's make this a bit more efficient by using the walrus operator:"
   ]
  },
  {
   "cell_type": "code",
   "execution_count": 12,
   "id": "62baa5e9",
   "metadata": {},
   "outputs": [
    {
     "name": "stdout",
     "output_type": "stream",
     "text": [
      "[4, 16, 36, 64, 100]\n",
      "elapsed: 1.8 seconds\n"
     ]
    }
   ],
   "source": [
    "start = time.perf_counter()\n",
    "result = [val for x in l if (val := transform(x)) > 0]\n",
    "end = time.perf_counter()\n",
    "print(result)\n",
    "print(f\"elapsed: {end - start:.1f} seconds\")"
   ]
  },
  {
   "cell_type": "markdown",
   "id": "0b6e78a6",
   "metadata": {},
   "source": [
    "Here's another scenario where the assignment expression can be useful too, building up a list, or dictionary of values, where one value might be based on a \"previous\" one:"
   ]
  },
  {
   "cell_type": "code",
   "execution_count": 13,
   "id": "4493b7f0",
   "metadata": {},
   "outputs": [
    {
     "data": {
      "text/plain": [
       "[10, 20, 30]"
      ]
     },
     "execution_count": 13,
     "metadata": {},
     "output_type": "execute_result"
    }
   ],
   "source": [
    "l = [\n",
    "    (start := 10),\n",
    "    (intermediate := start + 10),\n",
    "    start + intermediate\n",
    "]\n",
    "l"
   ]
  },
  {
   "cell_type": "markdown",
   "id": "de8710d0",
   "metadata": {},
   "source": [
    "This works with dictionaries too:"
   ]
  },
  {
   "cell_type": "code",
   "execution_count": 14,
   "id": "0a0def60",
   "metadata": {},
   "outputs": [
    {
     "data": {
      "text/plain": [
       "{'start': 10, 'intermediate': 20, 'last': 30}"
      ]
     },
     "execution_count": 14,
     "metadata": {},
     "output_type": "execute_result"
    }
   ],
   "source": [
    "d = {\n",
    "    \"start\": (start := 10),\n",
    "    \"intermediate\": (intermediate := start + 10),\n",
    "    \"last\": start + intermediate\n",
    "}\n",
    "d"
   ]
  },
  {
   "cell_type": "markdown",
   "id": "4669d9cc",
   "metadata": {},
   "source": [
    "Let's look at a slightly more realistic example - suppose we have a deck of cards, and we want to randomly select hands of 5 cards from the deck, but only retain the hands that have at least one card in each suit, and for each hand we want to also calculate the frequency of cards in each suit.\n",
    "\n",
    "Let's do this step by step."
   ]
  },
  {
   "cell_type": "markdown",
   "id": "b31251bf",
   "metadata": {},
   "source": [
    "We build the deck first:"
   ]
  },
  {
   "cell_type": "code",
   "execution_count": 15,
   "id": "d9648f6d",
   "metadata": {},
   "outputs": [],
   "source": [
    "suits = list(\"SHDC\")  # spades, hearts, diamonds, clubs\n",
    "faces = list(\"23456789\") + [\"10\"] + list(\"JQKA\")\n",
    "\n",
    "deck = [(f, s) for s in suits for f in faces]"
   ]
  },
  {
   "cell_type": "code",
   "execution_count": 16,
   "id": "f78481dc",
   "metadata": {},
   "outputs": [
    {
     "data": {
      "text/plain": [
       "[('2', 'S'),\n",
       " ('3', 'S'),\n",
       " ('4', 'S'),\n",
       " ('5', 'S'),\n",
       " ('6', 'S'),\n",
       " ('7', 'S'),\n",
       " ('8', 'S'),\n",
       " ('9', 'S'),\n",
       " ('10', 'S'),\n",
       " ('J', 'S'),\n",
       " ('Q', 'S'),\n",
       " ('K', 'S'),\n",
       " ('A', 'S'),\n",
       " ('2', 'H'),\n",
       " ('3', 'H'),\n",
       " ('4', 'H'),\n",
       " ('5', 'H'),\n",
       " ('6', 'H'),\n",
       " ('7', 'H'),\n",
       " ('8', 'H'),\n",
       " ('9', 'H'),\n",
       " ('10', 'H'),\n",
       " ('J', 'H'),\n",
       " ('Q', 'H'),\n",
       " ('K', 'H'),\n",
       " ('A', 'H'),\n",
       " ('2', 'D'),\n",
       " ('3', 'D'),\n",
       " ('4', 'D'),\n",
       " ('5', 'D'),\n",
       " ('6', 'D'),\n",
       " ('7', 'D'),\n",
       " ('8', 'D'),\n",
       " ('9', 'D'),\n",
       " ('10', 'D'),\n",
       " ('J', 'D'),\n",
       " ('Q', 'D'),\n",
       " ('K', 'D'),\n",
       " ('A', 'D'),\n",
       " ('2', 'C'),\n",
       " ('3', 'C'),\n",
       " ('4', 'C'),\n",
       " ('5', 'C'),\n",
       " ('6', 'C'),\n",
       " ('7', 'C'),\n",
       " ('8', 'C'),\n",
       " ('9', 'C'),\n",
       " ('10', 'C'),\n",
       " ('J', 'C'),\n",
       " ('Q', 'C'),\n",
       " ('K', 'C'),\n",
       " ('A', 'C')]"
      ]
     },
     "execution_count": 16,
     "metadata": {},
     "output_type": "execute_result"
    }
   ],
   "source": [
    "deck"
   ]
  },
  {
   "cell_type": "markdown",
   "id": "971add69",
   "metadata": {},
   "source": [
    "We can select 5 cards randomly from this deck by using the random module's `choices` function:"
   ]
  },
  {
   "cell_type": "code",
   "execution_count": 17,
   "id": "452952aa",
   "metadata": {},
   "outputs": [],
   "source": [
    "import random\n",
    "\n",
    "random.seed(0)  # setting seed for repeatability"
   ]
  },
  {
   "cell_type": "code",
   "execution_count": 18,
   "id": "825adaea",
   "metadata": {},
   "outputs": [
    {
     "data": {
      "text/plain": [
       "[('6', 'C'), ('2', 'C'), ('10', 'H'), ('2', 'H'), ('2', 'D')]"
      ]
     },
     "execution_count": 18,
     "metadata": {},
     "output_type": "execute_result"
    }
   ],
   "source": [
    "hand = random.choices(deck, k=5)\n",
    "hand"
   ]
  },
  {
   "cell_type": "markdown",
   "id": "9403b954",
   "metadata": {},
   "source": [
    "Now, for this \"hand\" we want to count the number of cards for each suit:"
   ]
  },
  {
   "cell_type": "code",
   "execution_count": 19,
   "id": "bdd553f6",
   "metadata": {},
   "outputs": [],
   "source": [
    "from collections import defaultdict"
   ]
  },
  {
   "cell_type": "code",
   "execution_count": 20,
   "id": "73a0b716",
   "metadata": {},
   "outputs": [],
   "source": [
    "def suit_counts(hand):\n",
    "    result = defaultdict(int)\n",
    "    for face, suit in hand:\n",
    "        result[suit] += 1\n",
    "    return dict(result)"
   ]
  },
  {
   "cell_type": "code",
   "execution_count": 21,
   "id": "1bd8b07b",
   "metadata": {},
   "outputs": [
    {
     "data": {
      "text/plain": [
       "{'C': 2, 'H': 2, 'D': 1}"
      ]
     },
     "execution_count": 21,
     "metadata": {},
     "output_type": "execute_result"
    }
   ],
   "source": [
    "suit_counts(hand)"
   ]
  },
  {
   "cell_type": "markdown",
   "id": "36995b19",
   "metadata": {},
   "source": [
    "But what we really want it just to know if the hand has at least one card of each suit:"
   ]
  },
  {
   "cell_type": "code",
   "execution_count": 22,
   "id": "b4c52fa5",
   "metadata": {},
   "outputs": [],
   "source": [
    "def hand_has_all_suits(suit_counts):\n",
    "    return len(suit_counts) == 4"
   ]
  },
  {
   "cell_type": "code",
   "execution_count": 23,
   "id": "b2f1aa81",
   "metadata": {},
   "outputs": [
    {
     "data": {
      "text/plain": [
       "False"
      ]
     },
     "execution_count": 23,
     "metadata": {},
     "output_type": "execute_result"
    }
   ],
   "source": [
    "hand_has_all_suits(suit_counts(hand))"
   ]
  },
  {
   "cell_type": "code",
   "execution_count": 24,
   "id": "2b489876",
   "metadata": {},
   "outputs": [
    {
     "name": "stdout",
     "output_type": "stream",
     "text": [
      "{'S': 1, 'H': 1, 'D': 1, 'C': 1}\n",
      "True\n"
     ]
    }
   ],
   "source": [
    "hand = [('1', 'S'), ('1', 'H'), ('1', 'D'), ('1', 'C')]\n",
    "counts = suit_counts(hand)\n",
    "print(counts)\n",
    "print(hand_has_all_suits(counts))"
   ]
  },
  {
   "cell_type": "markdown",
   "id": "fcab7620",
   "metadata": {},
   "source": [
    "Ok, so now we have everything we need to generate a list of randomly selected hands, filter out the ones that do not contain at least one card from each suit, and also calculate the frequency distribution of the suits in each hand."
   ]
  },
  {
   "cell_type": "markdown",
   "id": "19ced32f",
   "metadata": {},
   "source": [
    "Again, let's built this step by step:"
   ]
  },
  {
   "cell_type": "code",
   "execution_count": 25,
   "id": "2144b373",
   "metadata": {},
   "outputs": [],
   "source": [
    "hands = [\n",
    "    random.choices(deck, k=5)\n",
    "    for _ in range(10)\n",
    "]"
   ]
  },
  {
   "cell_type": "code",
   "execution_count": 26,
   "id": "04f30ee5",
   "metadata": {},
   "outputs": [
    {
     "data": {
      "text/plain": [
       "[[('10', 'H'), ('3', 'C'), ('4', 'H'), ('K', 'H'), ('6', 'D')],\n",
       " [('10', 'C'), ('2', 'D'), ('3', 'H'), ('2', 'C'), ('8', 'D')],\n",
       " [('2', 'H'), ('10', 'C'), ('A', 'C'), ('5', 'C'), ('9', 'C')],\n",
       " [('5', 'H'), ('K', 'D'), ('9', 'C'), ('J', 'D'), ('K', 'H')],\n",
       " [('7', 'S'), ('J', 'H'), ('7', 'D'), ('10', 'C'), ('K', 'C')],\n",
       " [('K', 'H'), ('7', 'C'), ('2', 'H'), ('4', 'C'), ('4', 'D')],\n",
       " [('2', 'S'), ('K', 'D'), ('9', 'H'), ('5', 'C'), ('10', 'D')],\n",
       " [('2', 'S'), ('A', 'H'), ('8', 'C'), ('A', 'S'), ('5', 'H')],\n",
       " [('8', 'C'), ('J', 'S'), ('5', 'D'), ('A', 'S'), ('K', 'C')],\n",
       " [('4', 'C'), ('Q', 'H'), ('6', 'S'), ('5', 'H'), ('2', 'D')]]"
      ]
     },
     "execution_count": 26,
     "metadata": {},
     "output_type": "execute_result"
    }
   ],
   "source": [
    "hands"
   ]
  },
  {
   "cell_type": "markdown",
   "id": "b4f8eefb",
   "metadata": {},
   "source": [
    "Let's add in the filter clause - without using the walrus operator. One thing to note is that for each iteration, we **need** to be using the same hand in every calculation (suit counts, and filter clause), so something like this will simply not work correctly:"
   ]
  },
  {
   "cell_type": "code",
   "execution_count": 27,
   "id": "4aa31685",
   "metadata": {},
   "outputs": [
    {
     "name": "stdout",
     "output_type": "stream",
     "text": [
      "[{'H': 2, 'C': 2, 'D': 1}, {'S': 2, 'H': 2, 'C': 1}, {'C': 1, 'S': 1, 'D': 3}]\n"
     ]
    }
   ],
   "source": [
    "# yes this is wrong, I know!\n",
    "random.seed(0)\n",
    "hands = [\n",
    "    random.choices(deck, k=5)\n",
    "    for _ in range(10)\n",
    "    if hand_has_all_suits(suit_counts(random.choices(deck, k=5)))\n",
    "]\n",
    "print([suit_counts(hand) for hand in hands])"
   ]
  },
  {
   "cell_type": "markdown",
   "id": "5a3e2b84",
   "metadata": {},
   "source": [
    "As you can see, this is not working right - because the hand being returned in each iteration is a different hand than the one we are using in the `if` clause. And the bug would be compounded if we additionaly returned the hand frequency distribution:"
   ]
  },
  {
   "cell_type": "code",
   "execution_count": 28,
   "id": "092af948",
   "metadata": {},
   "outputs": [
    {
     "name": "stdout",
     "output_type": "stream",
     "text": [
      "{'H': 2, 'C': 2, 'D': 1}\n",
      "{'S': 1, 'D': 2, 'H': 1, 'C': 1}\n",
      "--------------------\n",
      "{'C': 1, 'S': 1, 'D': 3}\n",
      "{'C': 2, 'D': 3}\n",
      "--------------------\n"
     ]
    }
   ],
   "source": [
    "random.seed(0)\n",
    "hands = [\n",
    "    (random.choices(deck, k=5), suit_counts(random.choices(deck, k=5)))\n",
    "    for _ in range(10)\n",
    "    if hand_has_all_suits(suit_counts(random.choices(deck, k=5)))\n",
    "]\n",
    "for hand in hands:\n",
    "    print(suit_counts(hand[0]))\n",
    "    print(hand[1])\n",
    "    print('-' * 20)"
   ]
  },
  {
   "cell_type": "markdown",
   "id": "75a8d669",
   "metadata": {},
   "source": [
    "Doing this using a list comprehension without the walrus operator takes a bit more work, and we could do it this way:"
   ]
  },
  {
   "cell_type": "code",
   "execution_count": 29,
   "id": "98a13ab8",
   "metadata": {},
   "outputs": [],
   "source": [
    "from itertools import repeat"
   ]
  },
  {
   "cell_type": "code",
   "execution_count": 30,
   "id": "6c54a8e6",
   "metadata": {},
   "outputs": [
    {
     "data": {
      "text/plain": [
       "[[('6', 'C'), ('2', 'C'), ('10', 'H'), ('2', 'H'), ('2', 'D')],\n",
       " [('10', 'H'), ('3', 'C'), ('4', 'H'), ('K', 'H'), ('6', 'D')],\n",
       " [('10', 'C'), ('2', 'D'), ('3', 'H'), ('2', 'C'), ('8', 'D')],\n",
       " [('2', 'H'), ('10', 'C'), ('A', 'C'), ('5', 'C'), ('9', 'C')],\n",
       " [('5', 'H'), ('K', 'D'), ('9', 'C'), ('J', 'D'), ('K', 'H')],\n",
       " [('7', 'S'), ('J', 'H'), ('7', 'D'), ('10', 'C'), ('K', 'C')],\n",
       " [('K', 'H'), ('7', 'C'), ('2', 'H'), ('4', 'C'), ('4', 'D')],\n",
       " [('2', 'S'), ('K', 'D'), ('9', 'H'), ('5', 'C'), ('10', 'D')],\n",
       " [('2', 'S'), ('A', 'H'), ('8', 'C'), ('A', 'S'), ('5', 'H')],\n",
       " [('8', 'C'), ('J', 'S'), ('5', 'D'), ('A', 'S'), ('K', 'C')]]"
      ]
     },
     "execution_count": 30,
     "metadata": {},
     "output_type": "execute_result"
    }
   ],
   "source": [
    "random.seed(0)\n",
    "hands = [\n",
    "    hand\n",
    "    for hand in [random.choices(deck, k=5) for _ in range(10)]\n",
    "]\n",
    "hands"
   ]
  },
  {
   "cell_type": "markdown",
   "id": "2355c0cf",
   "metadata": {},
   "source": [
    "And we can then add in out other calculations:"
   ]
  },
  {
   "cell_type": "code",
   "execution_count": 31,
   "id": "5baf9f74",
   "metadata": {},
   "outputs": [],
   "source": [
    "random.seed(0)\n",
    "hands = [\n",
    "    (hand, suit_counts(hand))\n",
    "    for hand in [random.choices(deck, k=5) for _ in range(10)]\n",
    "    if hand_has_all_suits(suit_counts(hand))\n",
    "]    "
   ]
  },
  {
   "cell_type": "code",
   "execution_count": 32,
   "id": "515d54bc",
   "metadata": {},
   "outputs": [
    {
     "name": "stdout",
     "output_type": "stream",
     "text": [
      "{'S': 1, 'H': 1, 'D': 1, 'C': 2}\n",
      "{'S': 1, 'H': 1, 'D': 1, 'C': 2}\n",
      "--------------------\n",
      "{'S': 1, 'D': 2, 'H': 1, 'C': 1}\n",
      "{'S': 1, 'D': 2, 'H': 1, 'C': 1}\n",
      "--------------------\n"
     ]
    }
   ],
   "source": [
    "for hand in hands:\n",
    "    print(suit_counts(hand[0]))\n",
    "    print(hand[1])\n",
    "    print('-' * 20)"
   ]
  },
  {
   "cell_type": "markdown",
   "id": "a39746a0",
   "metadata": {},
   "source": [
    "But, you'll notice that we are still calcualting `suit_counts` twice. \n",
    "\n",
    "Instead, we can turn to the walrus operator to help us avoid that, **and** simplify the comprehension:"
   ]
  },
  {
   "cell_type": "code",
   "execution_count": 33,
   "id": "b7be5d61",
   "metadata": {},
   "outputs": [],
   "source": [
    "random.seed(0)\n",
    "hands = [\n",
    "    (hand, counts)\n",
    "    for _ in range(10)\n",
    "    if hand_has_all_suits(counts := suit_counts(hand := random.choices(deck, k=5)))\n",
    "] "
   ]
  },
  {
   "cell_type": "code",
   "execution_count": 34,
   "id": "77f19736",
   "metadata": {},
   "outputs": [
    {
     "name": "stdout",
     "output_type": "stream",
     "text": [
      "{'S': 1, 'H': 1, 'D': 1, 'C': 2}\n",
      "{'S': 1, 'H': 1, 'D': 1, 'C': 2}\n",
      "--------------------\n",
      "{'S': 1, 'D': 2, 'H': 1, 'C': 1}\n",
      "{'S': 1, 'D': 2, 'H': 1, 'C': 1}\n",
      "--------------------\n"
     ]
    }
   ],
   "source": [
    "for hand in hands:\n",
    "    print(suit_counts(hand[0]))\n",
    "    print(hand[1])\n",
    "    print('-' * 20)"
   ]
  },
  {
   "cell_type": "markdown",
   "id": "1870d939",
   "metadata": {},
   "source": [
    "Yet another useful application of an assignment expression is with `while` loops."
   ]
  },
  {
   "cell_type": "markdown",
   "id": "d886ca95",
   "metadata": {},
   "source": [
    "Consider this example where we are receiving user input, and want to keep prompting the user for an input until a valid input has been received."
   ]
  },
  {
   "cell_type": "code",
   "execution_count": 35,
   "id": "176d7797",
   "metadata": {},
   "outputs": [
    {
     "name": "stdout",
     "output_type": "stream",
     "text": [
      "Do you want to abort? (Y/n): n\n",
      "You decided: N\n"
     ]
    }
   ],
   "source": [
    "def validate_flag(x):\n",
    "    return x.casefold() in {'y', 'n'}\n",
    "        \n",
    "is_valid = False\n",
    "while not is_valid:\n",
    "    response = input(\"Do you want to abort? (Y/n): \")\n",
    "    is_valid = validate_flag(response)\n",
    "    if not is_valid:\n",
    "        print(\"Please enter Y/y or N/n\")\n",
    "print(f\"You decided: {response.upper()}\")"
   ]
  },
  {
   "cell_type": "markdown",
   "id": "dfd9032b",
   "metadata": {},
   "source": [
    "We could rewrite this without keeping that `is_valid` flag around altogether, using an assignment expression:"
   ]
  },
  {
   "cell_type": "code",
   "execution_count": 36,
   "id": "6dfbdb09",
   "metadata": {},
   "outputs": [
    {
     "name": "stdout",
     "output_type": "stream",
     "text": [
      "Do you want to abort? (Y/n): n\n",
      "You decided: N\n"
     ]
    }
   ],
   "source": [
    "while not validate_flag(response := input(\"Do you want to abort? (Y/n): \")):\n",
    "    print(\"Please enter Y/y or N/n\")\n",
    "print(f\"You decided: {response.upper()}\")"
   ]
  },
  {
   "cell_type": "markdown",
   "id": "74565f1c",
   "metadata": {},
   "source": [
    "Another area where the assignment operation comes in useful is when using functions such as `any` or `all`.\n",
    "These functions will test whether at least one element or every element of an iterable is `True`:"
   ]
  },
  {
   "cell_type": "code",
   "execution_count": 37,
   "id": "24910166",
   "metadata": {},
   "outputs": [
    {
     "data": {
      "text/plain": [
       "True"
      ]
     },
     "execution_count": 37,
     "metadata": {},
     "output_type": "execute_result"
    }
   ],
   "source": [
    "any([True, False, False])"
   ]
  },
  {
   "cell_type": "code",
   "execution_count": 38,
   "id": "d1cbbe07",
   "metadata": {},
   "outputs": [
    {
     "data": {
      "text/plain": [
       "False"
      ]
     },
     "execution_count": 38,
     "metadata": {},
     "output_type": "execute_result"
    }
   ],
   "source": [
    "all([True, False, False])"
   ]
  },
  {
   "cell_type": "markdown",
   "id": "49acacb1",
   "metadata": {},
   "source": [
    "Let's look at this example where we have a list of strings, and we want to ensure that every string in the list is at least two characters:"
   ]
  },
  {
   "cell_type": "code",
   "execution_count": 39,
   "id": "a9d542cc",
   "metadata": {},
   "outputs": [],
   "source": [
    "l = ['aa', 'bb', 'c', 'dd']"
   ]
  },
  {
   "cell_type": "code",
   "execution_count": 40,
   "id": "31f6a65c",
   "metadata": {},
   "outputs": [
    {
     "data": {
      "text/plain": [
       "False"
      ]
     },
     "execution_count": 40,
     "metadata": {},
     "output_type": "execute_result"
    }
   ],
   "source": [
    "all(len(s) > 1 for s in l)"
   ]
  },
  {
   "cell_type": "markdown",
   "id": "c90baed6",
   "metadata": {},
   "source": [
    "This is great, but what if we actually want to know the first element that caused `all` to return `False`?"
   ]
  },
  {
   "cell_type": "markdown",
   "id": "17a13226",
   "metadata": {},
   "source": [
    "Normally we might go about it this way:"
   ]
  },
  {
   "cell_type": "code",
   "execution_count": 41,
   "id": "99f16766",
   "metadata": {},
   "outputs": [
    {
     "name": "stdout",
     "output_type": "stream",
     "text": [
      "Invalid string found: c\n"
     ]
    }
   ],
   "source": [
    "is_ok = True\n",
    "example = None\n",
    "for s in l:\n",
    "    if len(s) <= 1:\n",
    "        is_ok = False\n",
    "        example = s\n",
    "        break\n",
    "\n",
    "if not is_ok:\n",
    "    print(f\"Invalid string found: {example}\")"
   ]
  },
  {
   "cell_type": "markdown",
   "id": "2b3aba20",
   "metadata": {},
   "source": [
    "But look at how we can leverage the walrus operator:"
   ]
  },
  {
   "cell_type": "code",
   "execution_count": 42,
   "id": "42b6aaba",
   "metadata": {},
   "outputs": [
    {
     "name": "stdout",
     "output_type": "stream",
     "text": [
      "Invalid string found: c\n"
     ]
    }
   ],
   "source": [
    "is_ok = all(len(example := s) > 1 for s in l)\n",
    "\n",
    "if not is_ok:\n",
    "    print(f\"Invalid string found: {example}\")"
   ]
  },
  {
   "cell_type": "markdown",
   "id": "3b423fc4",
   "metadata": {},
   "source": [
    "Here's another fun way to use the walrus operator - for accumulations.\n",
    "\n",
    "Suppose that given a list of numbers, we want to produce a cumulative sum of the squares of each number:\n"
   ]
  },
  {
   "cell_type": "markdown",
   "id": "ac65a58a",
   "metadata": {},
   "source": [
    "We could certainly do it this way:"
   ]
  },
  {
   "cell_type": "code",
   "execution_count": 43,
   "id": "2094e83c",
   "metadata": {},
   "outputs": [
    {
     "data": {
      "text/plain": [
       "[1, 5, 14, 30, 55, 91]"
      ]
     },
     "execution_count": 43,
     "metadata": {},
     "output_type": "execute_result"
    }
   ],
   "source": [
    "data = [1, 2, 3, 4, 5, 6]\n",
    "sums = []\n",
    "sum_ = 0\n",
    "for num in data:\n",
    "    sum_ = sum_ + num ** 2 \n",
    "    sums.append(sum_)\n",
    "\n",
    "sums"
   ]
  },
  {
   "cell_type": "markdown",
   "id": "4af613c6",
   "metadata": {},
   "source": [
    "But we could also use an assignment expression here:"
   ]
  },
  {
   "cell_type": "code",
   "execution_count": 44,
   "id": "fe1836b0",
   "metadata": {},
   "outputs": [
    {
     "data": {
      "text/plain": [
       "[1, 5, 14, 30, 55, 91]"
      ]
     },
     "execution_count": 44,
     "metadata": {},
     "output_type": "execute_result"
    }
   ],
   "source": [
    "sum_ = 0\n",
    "[(sum_ := sum_ + num ** 2) for num in data]"
   ]
  },
  {
   "cell_type": "markdown",
   "id": "49768616",
   "metadata": {},
   "source": [
    "We could even use it to calculate consecutive factorials without using recursion:"
   ]
  },
  {
   "cell_type": "code",
   "execution_count": 45,
   "id": "bc60b9b6",
   "metadata": {},
   "outputs": [
    {
     "data": {
      "text/plain": [
       "[1, 2, 6, 24, 120]"
      ]
     },
     "execution_count": 45,
     "metadata": {},
     "output_type": "execute_result"
    }
   ],
   "source": [
    "prod = 1\n",
    "[(prod := prod * num) for num in range(1, 6)]"
   ]
  },
  {
   "cell_type": "markdown",
   "id": "ef3a30e2",
   "metadata": {},
   "source": [
    "Now there are some limitations to where you can use this new operator."
   ]
  },
  {
   "cell_type": "markdown",
   "id": "345ce0b4",
   "metadata": {},
   "source": [
    "You cannot use it in iterable unpacking:"
   ]
  },
  {
   "cell_type": "code",
   "execution_count": 46,
   "id": "76cd30f7",
   "metadata": {},
   "outputs": [],
   "source": [
    "t = 1, 2, 3\n",
    "\n",
    "a, b, c = t"
   ]
  },
  {
   "cell_type": "markdown",
   "id": "512e4bf7",
   "metadata": {},
   "source": [
    "You also cannot use it in augmented assignments such as `+=`, `*=`, etc. See the example we just did with factorials and sums - we had to use the something like `sum_ := sum_ + x`"
   ]
  },
  {
   "cell_type": "markdown",
   "id": "f97da974",
   "metadata": {},
   "source": [
    "You cannot use it to create an attribute on a class and return that value at the same time:"
   ]
  },
  {
   "cell_type": "code",
   "execution_count": 47,
   "id": "f0844c18",
   "metadata": {},
   "outputs": [],
   "source": [
    "class Person:\n",
    "    pass"
   ]
  },
  {
   "cell_type": "code",
   "execution_count": 48,
   "id": "bdf2c5bd",
   "metadata": {},
   "outputs": [
    {
     "data": {
      "text/plain": [
       "'Fred'"
      ]
     },
     "execution_count": 48,
     "metadata": {},
     "output_type": "execute_result"
    }
   ],
   "source": [
    "p = Person()\n",
    "p.name = 'Fred'\n",
    "p.name"
   ]
  },
  {
   "cell_type": "code",
   "execution_count": 49,
   "id": "b08f33f1",
   "metadata": {},
   "outputs": [
    {
     "ename": "SyntaxError",
     "evalue": "cannot use assignment expressions with attribute (2999376119.py, line 2)",
     "output_type": "error",
     "traceback": [
      "\u001b[0;36m  Cell \u001b[0;32mIn [49], line 2\u001b[0;36m\u001b[0m\n\u001b[0;31m    p.name := 'Fred'\u001b[0m\n\u001b[0m    ^\u001b[0m\n\u001b[0;31mSyntaxError\u001b[0m\u001b[0;31m:\u001b[0m cannot use assignment expressions with attribute\n"
     ]
    }
   ],
   "source": [
    "p = Person()\n",
    "p.name := 'Fred'"
   ]
  },
  {
   "cell_type": "markdown",
   "id": "98e621f3",
   "metadata": {},
   "source": [
    "There are a few more cases where you will not be able to use that operator - but most of the times these are cases where it would not make sense anyway (and hence why those cases are not supported). See the PEP linked above for more details."
   ]
  },
  {
   "cell_type": "markdown",
   "id": "de4a8e2f",
   "metadata": {},
   "source": [
    "In particular I strongly urge you to read the Appendix A section of the PEP for some rational guidelines on when to use assignment expressions - it can be too easy to write code that's hard to understand!\n",
    "\n",
    "[PEP 572 - Appendix A](https://peps.python.org/pep-0572/#appendix-a-tim-peters-s-findings)"
   ]
  },
  {
   "cell_type": "markdown",
   "id": "6fbaf115",
   "metadata": {},
   "source": [
    "As you work with this new operator you will likely run across parts of your code where you'll quickly realize that this new operator could come in handy."
   ]
  },
  {
   "cell_type": "code",
   "execution_count": null,
   "id": "2ea564b4",
   "metadata": {},
   "outputs": [],
   "source": []
  }
 ],
 "metadata": {
  "kernelspec": {
   "display_name": "Python 3 (ipykernel)",
   "language": "python",
   "name": "python3"
  },
  "language_info": {
   "codemirror_mode": {
    "name": "ipython",
    "version": 3
   },
   "file_extension": ".py",
   "mimetype": "text/x-python",
   "name": "python",
   "nbconvert_exporter": "python",
   "pygments_lexer": "ipython3",
   "version": "3.10.2"
  }
 },
 "nbformat": 4,
 "nbformat_minor": 5
}
