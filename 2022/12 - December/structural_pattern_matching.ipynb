{
 "cells": [
  {
   "cell_type": "markdown",
   "id": "c4d4fc49",
   "metadata": {},
   "source": [
    "### Python Structural Pattern Matching"
   ]
  },
  {
   "cell_type": "markdown",
   "id": "d18177a2",
   "metadata": {},
   "source": [
    "One thing I often hear people ask, is, what's the Python equivalent of a `switch` statement."
   ]
  },
  {
   "cell_type": "markdown",
   "id": "36a77514",
   "metadata": {},
   "source": [
    "Until now, the answer has always been: there isn't one. Use `if...elif` constructs."
   ]
  },
  {
   "cell_type": "markdown",
   "id": "56fdb138",
   "metadata": {},
   "source": [
    "Python 3.10 introduces a new language element (`match`) to implement something called **pattern matching**, that can be used to replicate this `switch` behavior you might be used to in other languages."
   ]
  },
  {
   "cell_type": "markdown",
   "id": "e1cf8b9d",
   "metadata": {},
   "source": [
    "I'll cover some of the basics here, but you should refer to the Python [docs](https://docs.python.org/3/reference/compound_stmts.html#the-match-statement) for more information, as well as the [pep](https://peps.python.org/pep-0634/) for this feature and a [tutorial pep](https://peps.python.org/pep-0636/)."
   ]
  },
  {
   "cell_type": "markdown",
   "id": "1417630a",
   "metadata": {},
   "source": [
    "Let's start with a simple `match` statement:"
   ]
  },
  {
   "cell_type": "code",
   "execution_count": 1,
   "id": "bbecc554",
   "metadata": {},
   "outputs": [],
   "source": [
    "def respond(language):\n",
    "    match language:\n",
    "        case \"Java\":\n",
    "            return \"Hmm, coffee!\"\n",
    "        case \"Python\":\n",
    "            return \"I'm not scared of snakes!\"\n",
    "        case \"Rust\":\n",
    "            return \"Don't drink too much water!\"\n",
    "        case \"Go\":\n",
    "            return \"Collect $200\"\n",
    "        case _:\n",
    "            return \"I'm sorry...\""
   ]
  },
  {
   "cell_type": "code",
   "execution_count": 2,
   "id": "d5669e92",
   "metadata": {},
   "outputs": [
    {
     "data": {
      "text/plain": [
       "\"I'm not scared of snakes!\""
      ]
     },
     "execution_count": 2,
     "metadata": {},
     "output_type": "execute_result"
    }
   ],
   "source": [
    "respond(\"Python\")"
   ]
  },
  {
   "cell_type": "code",
   "execution_count": 3,
   "id": "90cecc86",
   "metadata": {},
   "outputs": [
    {
     "data": {
      "text/plain": [
       "'Collect $200'"
      ]
     },
     "execution_count": 3,
     "metadata": {},
     "output_type": "execute_result"
    }
   ],
   "source": [
    "respond(\"Go\")"
   ]
  },
  {
   "cell_type": "code",
   "execution_count": 4,
   "id": "f9feb023",
   "metadata": {},
   "outputs": [
    {
     "data": {
      "text/plain": [
       "\"I'm sorry...\""
      ]
     },
     "execution_count": 4,
     "metadata": {},
     "output_type": "execute_result"
    }
   ],
   "source": [
    "respond(\"COBOL\")"
   ]
  },
  {
   "cell_type": "markdown",
   "id": "ee7c21fb",
   "metadata": {},
   "source": [
    "Here we were able to define a \"default\" match pattern by using the underscore (`_`) as our pattern - this `_` is called a **wildcard**."
   ]
  },
  {
   "cell_type": "markdown",
   "id": "b76575de",
   "metadata": {},
   "source": [
    "So this is very much like the \"plain\" switch statement found in some other languages."
   ]
  },
  {
   "cell_type": "markdown",
   "id": "6e55dd9f",
   "metadata": {},
   "source": [
    "But, this is where things get ineteresting, pattern matching can do much more than the simple example we just saw."
   ]
  },
  {
   "cell_type": "markdown",
   "id": "f8d495f2",
   "metadata": {},
   "source": [
    "For example, you can have multiple pattern matching:"
   ]
  },
  {
   "cell_type": "code",
   "execution_count": 5,
   "id": "6d5fcc0c",
   "metadata": {},
   "outputs": [],
   "source": [
    "def respond(language):\n",
    "    match language:\n",
    "        case \"Java\" | \"Javascript\":\n",
    "            return \"Love those braces!\"\n",
    "        case \"Python\":\n",
    "            return \"I'm a lumberjack and I don't need no braces\"\n",
    "        case _:\n",
    "            return \"I have no clue!\""
   ]
  },
  {
   "cell_type": "code",
   "execution_count": 6,
   "id": "02cf21af",
   "metadata": {},
   "outputs": [
    {
     "data": {
      "text/plain": [
       "'Love those braces!'"
      ]
     },
     "execution_count": 6,
     "metadata": {},
     "output_type": "execute_result"
    }
   ],
   "source": [
    "respond(\"Java\")"
   ]
  },
  {
   "cell_type": "code",
   "execution_count": 7,
   "id": "853368f3",
   "metadata": {},
   "outputs": [
    {
     "data": {
      "text/plain": [
       "'Love those braces!'"
      ]
     },
     "execution_count": 7,
     "metadata": {},
     "output_type": "execute_result"
    }
   ],
   "source": [
    "respond(\"Javascript\")"
   ]
  },
  {
   "cell_type": "code",
   "execution_count": 8,
   "id": "066f985e",
   "metadata": {},
   "outputs": [
    {
     "data": {
      "text/plain": [
       "\"I'm a lumberjack and I don't need no braces\""
      ]
     },
     "execution_count": 8,
     "metadata": {},
     "output_type": "execute_result"
    }
   ],
   "source": [
    "respond(\"Python\")"
   ]
  },
  {
   "cell_type": "markdown",
   "id": "7fc43e7f",
   "metadata": {},
   "source": [
    "We could match against one or more literals by using the OR pattern (`|`)"
   ]
  },
  {
   "cell_type": "markdown",
   "id": "36064a9c",
   "metadata": {},
   "source": [
    "Let's look at one more example, this time matching **multiple values**."
   ]
  },
  {
   "cell_type": "markdown",
   "id": "31978910",
   "metadata": {},
   "source": [
    "Suppose we have some kind of command language for driving a remote controlled robot in a maze, picking up and dropping items as it moves around. Our robot is very simple, it can move in only a few directions, and one step at a time. So to move forward three spaces, we would issue three `move forward` commands.\n",
    "\n",
    "Additional commands are `move backward`, `move left`, `move right`. We also have a few other commands our robot understands: `pick` and `drop` for picking up and dropping objects it might find."
   ]
  },
  {
   "cell_type": "markdown",
   "id": "63944ea5",
   "metadata": {},
   "source": [
    "We might write a command interpreter this way:"
   ]
  },
  {
   "cell_type": "markdown",
   "id": "f9077f13",
   "metadata": {},
   "source": [
    "Let's start by using some symbols to represent the robot's actions:"
   ]
  },
  {
   "cell_type": "code",
   "execution_count": 9,
   "id": "2dde5d86",
   "metadata": {},
   "outputs": [
    {
     "data": {
      "text/plain": [
       "{'F': '→', 'B': '←', 'L': '↑', 'R': '↓', 'pick': '⤣', 'drop': '⤥'}"
      ]
     },
     "execution_count": 9,
     "metadata": {},
     "output_type": "execute_result"
    }
   ],
   "source": [
    "symbols = {\n",
    "    \"F\": \"\\u2192\", \n",
    "    \"B\": \"\\u2190\", \n",
    "    \"L\": \"\\u2191\", \n",
    "    \"R\": \"\\u2193\", \n",
    "    \"pick\": \"\\u2923\", \n",
    "    \"drop\": \"\\u2925\"\n",
    "}\n",
    "\n",
    "symbols"
   ]
  },
  {
   "cell_type": "code",
   "execution_count": 10,
   "id": "faab4c09",
   "metadata": {},
   "outputs": [],
   "source": [
    "def op(command):\n",
    "    match command:\n",
    "        case \"move F\":\n",
    "            return symbols[\"F\"]\n",
    "        case \"move B\":\n",
    "            return symbols[\"B\"]\n",
    "        case \"move L\":\n",
    "            return symbols[\"L\"]\n",
    "        case \"move R\":\n",
    "            return symbols[\"R\"]\n",
    "        case \"pick\":\n",
    "            return symbols[\"pick\"]\n",
    "        case \"drop\":\n",
    "            return symbols[\"drop\"]\n",
    "        case _:\n",
    "            raise ValueError(f\"{command} does not compute!\")"
   ]
  },
  {
   "cell_type": "markdown",
   "id": "24555fab",
   "metadata": {},
   "source": [
    "Then we could issue commands such as:"
   ]
  },
  {
   "cell_type": "code",
   "execution_count": 11,
   "id": "b673a044",
   "metadata": {},
   "outputs": [
    {
     "data": {
      "text/plain": [
       "'↑'"
      ]
     },
     "execution_count": 11,
     "metadata": {},
     "output_type": "execute_result"
    }
   ],
   "source": [
    "op(\"move L\")"
   ]
  },
  {
   "cell_type": "markdown",
   "id": "b411438f",
   "metadata": {},
   "source": [
    "Or multiple sequences by maybe using a list of such commands, effectively creating a sequential program for our robot:"
   ]
  },
  {
   "cell_type": "code",
   "execution_count": 12,
   "id": "cf94014f",
   "metadata": {},
   "outputs": [
    {
     "data": {
      "text/plain": [
       "['→', '→', '↑', '⤣', '↓', '↑', '→', '⤥']"
      ]
     },
     "execution_count": 12,
     "metadata": {},
     "output_type": "execute_result"
    }
   ],
   "source": [
    "[\n",
    "    op(\"move F\"),\n",
    "    op(\"move F\"),\n",
    "    op(\"move L\"),\n",
    "    op(\"pick\"),\n",
    "    op(\"move R\"),\n",
    "    op(\"move L\"),\n",
    "    op(\"move F\"),\n",
    "    op(\"drop\"),\n",
    "]"
   ]
  },
  {
   "cell_type": "markdown",
   "id": "c520053b",
   "metadata": {},
   "source": [
    "We could use something called **capturing** matched sub-patterns to simply our code somewhat:"
   ]
  },
  {
   "cell_type": "code",
   "execution_count": 13,
   "id": "e7da20cf",
   "metadata": {},
   "outputs": [],
   "source": [
    "def op(command):\n",
    "    match command:\n",
    "        case [\"move\", (\"F\" | \"B\" | \"L\" |\"R\") as direction]:\n",
    "            return symbols[direction]\n",
    "        case \"pick\":\n",
    "            return symbols[\"pick\"]\n",
    "        case \"drop\":\n",
    "            return symvols[\"drop\"]\n",
    "        case _:\n",
    "            raise ValueError(f\"{command} does not compute!\")"
   ]
  },
  {
   "cell_type": "code",
   "execution_count": 14,
   "id": "c2a1c617",
   "metadata": {},
   "outputs": [
    {
     "data": {
      "text/plain": [
       "'↑'"
      ]
     },
     "execution_count": 14,
     "metadata": {},
     "output_type": "execute_result"
    }
   ],
   "source": [
    "op([\"move\", \"L\"])"
   ]
  },
  {
   "cell_type": "code",
   "execution_count": 15,
   "id": "4edeb3dc",
   "metadata": {},
   "outputs": [
    {
     "data": {
      "text/plain": [
       "'⤣'"
      ]
     },
     "execution_count": 15,
     "metadata": {},
     "output_type": "execute_result"
    }
   ],
   "source": [
    "op(\"pick\")"
   ]
  },
  {
   "cell_type": "code",
   "execution_count": 16,
   "id": "b13504aa",
   "metadata": {},
   "outputs": [
    {
     "name": "stdout",
     "output_type": "stream",
     "text": [
      "fly does not compute!\n"
     ]
    }
   ],
   "source": [
    "try:\n",
    "    op(\"fly\")\n",
    "except ValueError as ex:\n",
    "    print(ex)"
   ]
  },
  {
   "cell_type": "markdown",
   "id": "6769c228",
   "metadata": {},
   "source": [
    "This is kind of tedious, it would be nicer to write commands such as `move F F L` and `move R L F` instead."
   ]
  },
  {
   "cell_type": "markdown",
   "id": "055d2c60",
   "metadata": {},
   "source": [
    "There are many ways we could solve this, but pattern matching on multiple values can be really useful here."
   ]
  },
  {
   "cell_type": "code",
   "execution_count": 17,
   "id": "372bdb17",
   "metadata": {},
   "outputs": [],
   "source": [
    "\n",
    "def op(command):\n",
    "    match command:\n",
    "        case ['move', *directions]:\n",
    "            return tuple(symbols[direction] for direction in directions)\n",
    "        case \"pick\":\n",
    "            return symbols[\"pick\"]\n",
    "        case \"drop\":\n",
    "            return symbols[\"drop\"]\n",
    "        case _:\n",
    "            raise ValueError(f\"{command} does not compute!\")"
   ]
  },
  {
   "cell_type": "markdown",
   "id": "c77bec44",
   "metadata": {},
   "source": [
    "What happens here is that the pattern matcher will recognize the first word `move` and then interpret the remaining words collection them in the `directions` variable (so this syntax is very similar to unpacking)."
   ]
  },
  {
   "cell_type": "markdown",
   "id": "4ef78058",
   "metadata": {},
   "source": [
    "We can now rewrite our program this way:"
   ]
  },
  {
   "cell_type": "code",
   "execution_count": 18,
   "id": "88c0c024",
   "metadata": {},
   "outputs": [
    {
     "data": {
      "text/plain": [
       "[('→', '→', '↑'), '⤣', ('↓', '↑', '→'), '⤥']"
      ]
     },
     "execution_count": 18,
     "metadata": {},
     "output_type": "execute_result"
    }
   ],
   "source": [
    "[\n",
    "    op([\"move\", \"F\", \"F\", \"L\"]),\n",
    "    op(\"pick\"),\n",
    "    op([\"move\", \"R\", \"L\", \"F\"]),\n",
    "    op(\"drop\"),\n",
    "]"
   ]
  },
  {
   "cell_type": "markdown",
   "id": "1ddc0f2e",
   "metadata": {},
   "source": [
    "But now we have a slight problem:"
   ]
  },
  {
   "cell_type": "code",
   "execution_count": 19,
   "id": "ed30a762",
   "metadata": {},
   "outputs": [
    {
     "name": "stdout",
     "output_type": "stream",
     "text": [
      "<class 'KeyError'> 'up'\n"
     ]
    }
   ],
   "source": [
    "try:\n",
    "    op([\"move\", \"up\"])\n",
    "except Exception as ex:\n",
    "    print(type(ex), ex)"
   ]
  },
  {
   "cell_type": "markdown",
   "id": "f6bbbd53",
   "metadata": {},
   "source": [
    "We would rather just get our custom `ValueError`. To do this we can place a **guard** on our `case` for the `move` command, that will not only do the match but also test an additional condition:"
   ]
  },
  {
   "cell_type": "code",
   "execution_count": 20,
   "id": "8d441175",
   "metadata": {},
   "outputs": [],
   "source": [
    "def op(command):\n",
    "    match command:\n",
    "        case ['move', *directions] if set(directions) < symbols.keys():\n",
    "            return tuple(symbols[direction] for direction in directions)\n",
    "        case \"pick\":\n",
    "            return symbols[\"pick\"]\n",
    "        case \"drop\":\n",
    "            return symbols[\"drop\"]\n",
    "        case _:\n",
    "            raise ValueError(f\"{command} does not compute!\")"
   ]
  },
  {
   "cell_type": "markdown",
   "id": "441a53f6",
   "metadata": {},
   "source": [
    "That `if ` statement (the **guard**) will only let the case block execute if the match is true **and** that `if` expression evaludates to `True`:"
   ]
  },
  {
   "cell_type": "code",
   "execution_count": 21,
   "id": "708c5d16",
   "metadata": {},
   "outputs": [
    {
     "name": "stdout",
     "output_type": "stream",
     "text": [
      "<class 'ValueError'> ['move', 'up'] does not compute!\n"
     ]
    }
   ],
   "source": [
    "try:\n",
    "    op([\"move\", \"up\"])\n",
    "except Exception as ex:\n",
    "    print(type(ex), ex)"
   ]
  },
  {
   "cell_type": "markdown",
   "id": "1ecf5f83",
   "metadata": {},
   "source": [
    "There are many other ways we could have done this - probably better than this, but this was to illustrate how the multiple value matching can work!"
   ]
  },
  {
   "cell_type": "markdown",
   "id": "84bec678",
   "metadata": {},
   "source": [
    "I urge you to read at least this [tutorial (pep 636)](https://peps.python.org/pep-0636/) on pattern matching."
   ]
  }
 ],
 "metadata": {
  "kernelspec": {
   "display_name": "Python 3 (ipykernel)",
   "language": "python",
   "name": "python3"
  },
  "language_info": {
   "codemirror_mode": {
    "name": "ipython",
    "version": 3
   },
   "file_extension": ".py",
   "mimetype": "text/x-python",
   "name": "python",
   "nbconvert_exporter": "python",
   "pygments_lexer": "ipython3",
   "version": "3.10.2"
  }
 },
 "nbformat": 4,
 "nbformat_minor": 5
}
