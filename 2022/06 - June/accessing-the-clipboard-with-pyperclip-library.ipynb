{
 "cells": [
  {
   "cell_type": "markdown",
   "id": "047907d6",
   "metadata": {},
   "source": [
    "## Accessing the Clipboard using the `pyperclip` Library"
   ]
  },
  {
   "cell_type": "markdown",
   "id": "10ddf0c8",
   "metadata": {},
   "source": [
    "Often I find myself needing to copy the contents of some variable into some other application."
   ]
  },
  {
   "cell_type": "markdown",
   "id": "768d9cec",
   "metadata": {},
   "source": [
    "Sure, you can just run the script/app in debug mode, and do some inspection, or you could even add some code to write what you need to some file, but sometimes, especially if the content is plain text, it's much simpler to use the `pyperclip` library."
   ]
  },
  {
   "cell_type": "markdown",
   "id": "375a1542",
   "metadata": {},
   "source": [
    "The `pyperclip` library is a very basic library to access your local clipboard (and it is cross-platform), for storing and retrieving text - you can't use it for things like files, but as long as it is text, it works wonderfully well."
   ]
  },
  {
   "cell_type": "markdown",
   "id": "a6deb678",
   "metadata": {},
   "source": [
    "The library and it's docs are located [here](https://github.com/asweigart/pyperclip)."
   ]
  },
  {
   "cell_type": "markdown",
   "id": "eb5309e2",
   "metadata": {},
   "source": [
    "First you'll need to install `pip` install the library `pyperclip`.\n",
    "\n",
    "It's also included in the `Pipfile` with this repo, so you can just use `pipenv` to install all the libraries needed by this repo."
   ]
  },
  {
   "cell_type": "markdown",
   "id": "504645ed",
   "metadata": {},
   "source": [
    "Now let's try it out."
   ]
  },
  {
   "cell_type": "code",
   "execution_count": 1,
   "id": "808bdbd2",
   "metadata": {},
   "outputs": [],
   "source": [
    "import pyperclip"
   ]
  },
  {
   "cell_type": "code",
   "execution_count": 2,
   "id": "4ef0db41",
   "metadata": {},
   "outputs": [],
   "source": [
    "s = \"Python rocks!\""
   ]
  },
  {
   "cell_type": "code",
   "execution_count": 3,
   "id": "cb290f33",
   "metadata": {},
   "outputs": [],
   "source": [
    "pyperclip.copy(s)"
   ]
  },
  {
   "cell_type": "markdown",
   "id": "649b7242",
   "metadata": {},
   "source": [
    "And that's it, the text has been copied to your clipboard - go paste somewhere else, and you should see `Python rocks!`."
   ]
  },
  {
   "cell_type": "markdown",
   "id": "04bc3a58",
   "metadata": {},
   "source": [
    "You can also grab the current clipboard entry (as long as it's basically text):"
   ]
  },
  {
   "cell_type": "code",
   "execution_count": 4,
   "id": "15e3e0e1",
   "metadata": {},
   "outputs": [
    {
     "name": "stdout",
     "output_type": "stream",
     "text": [
      "Python rocks!\n"
     ]
    }
   ],
   "source": [
    "contents = pyperclip.paste()\n",
    "print(contents)"
   ]
  },
  {
   "cell_type": "markdown",
   "id": "15c05e6a",
   "metadata": {},
   "source": [
    "You cannot use `pyperclip` to push other complex objects onto the clipboard, but there are ways around that."
   ]
  },
  {
   "cell_type": "markdown",
   "id": "d77ba491",
   "metadata": {},
   "source": [
    "Let's say you want to put the contents of a Python dictionary into the clipboard:"
   ]
  },
  {
   "cell_type": "code",
   "execution_count": 5,
   "id": "56e9af9b",
   "metadata": {},
   "outputs": [],
   "source": [
    "d = {\n",
    "    'a': 1,\n",
    "    'b': 2,\n",
    "    'c': 3\n",
    "}"
   ]
  },
  {
   "cell_type": "code",
   "execution_count": 6,
   "id": "44a79969",
   "metadata": {},
   "outputs": [
    {
     "name": "stdout",
     "output_type": "stream",
     "text": [
      "only str, int, float, and bool values can be copied to the clipboard, not dict\n"
     ]
    }
   ],
   "source": [
    "try:\n",
    "    pyperclip.copy(d)\n",
    "except pyperclip.PyperclipException as ex:\n",
    "    print(ex)"
   ]
  },
  {
   "cell_type": "markdown",
   "id": "01353766",
   "metadata": {},
   "source": [
    "We can get around this limitation by serializing the data to a string representation."
   ]
  },
  {
   "cell_type": "markdown",
   "id": "2f3c1364",
   "metadata": {},
   "source": [
    "For example, we could use Python's `pickle` to serialize this object:"
   ]
  },
  {
   "cell_type": "code",
   "execution_count": 7,
   "id": "7b62a585",
   "metadata": {},
   "outputs": [],
   "source": [
    "import pickle"
   ]
  },
  {
   "cell_type": "code",
   "execution_count": 8,
   "id": "420dbf64",
   "metadata": {},
   "outputs": [
    {
     "name": "stdout",
     "output_type": "stream",
     "text": [
      "b'\\x80\\x04\\x95\\x17\\x00\\x00\\x00\\x00\\x00\\x00\\x00}\\x94(\\x8c\\x01a\\x94K\\x01\\x8c\\x01b\\x94K\\x02\\x8c\\x01c\\x94K\\x03u.'\n"
     ]
    }
   ],
   "source": [
    "d_pickled = pickle.dumps(d)\n",
    "print(d_pickled)"
   ]
  },
  {
   "cell_type": "markdown",
   "id": "5631215f",
   "metadata": {},
   "source": [
    "Now, we're not done yet, since pickled data is essentially binary data."
   ]
  },
  {
   "cell_type": "markdown",
   "id": "ef362e7c",
   "metadata": {},
   "source": [
    "One approach here would be to base64 encode this data (so we're only dealing with ASCII characters essentially), and convert that to a regular string:"
   ]
  },
  {
   "cell_type": "code",
   "execution_count": 9,
   "id": "fd55b11f",
   "metadata": {},
   "outputs": [],
   "source": [
    "import base64"
   ]
  },
  {
   "cell_type": "code",
   "execution_count": 10,
   "id": "d63abe34",
   "metadata": {},
   "outputs": [],
   "source": [
    "d_base64 = base64.b64encode(d_pickled)"
   ]
  },
  {
   "cell_type": "code",
   "execution_count": 11,
   "id": "f9446fb4",
   "metadata": {},
   "outputs": [
    {
     "data": {
      "text/plain": [
       "b'gASVFwAAAAAAAAB9lCiMAWGUSwGMAWKUSwKMAWOUSwN1Lg=='"
      ]
     },
     "execution_count": 11,
     "metadata": {},
     "output_type": "execute_result"
    }
   ],
   "source": [
    "d_base64"
   ]
  },
  {
   "cell_type": "markdown",
   "id": "c1a1edba",
   "metadata": {},
   "source": [
    "Now we can take this byte string and convert it to a regular string:"
   ]
  },
  {
   "cell_type": "code",
   "execution_count": 12,
   "id": "dfbadc3c",
   "metadata": {},
   "outputs": [],
   "source": [
    "d_string = d_base64.decode()"
   ]
  },
  {
   "cell_type": "markdown",
   "id": "1b53f06b",
   "metadata": {},
   "source": [
    "Now we can copy this string to our clipboard:"
   ]
  },
  {
   "cell_type": "code",
   "execution_count": 13,
   "id": "36b76f70",
   "metadata": {},
   "outputs": [],
   "source": [
    "pyperclip.copy(d_string)"
   ]
  },
  {
   "cell_type": "markdown",
   "id": "e013ea03",
   "metadata": {},
   "source": [
    "Of course, what's on the clipboard right now is not very useful unless you use Python to deserialize the object back to a Python object, which we can do as follows:"
   ]
  },
  {
   "cell_type": "code",
   "execution_count": 14,
   "id": "f9079475",
   "metadata": {},
   "outputs": [
    {
     "data": {
      "text/plain": [
       "'gASVFwAAAAAAAAB9lCiMAWGUSwGMAWKUSwKMAWOUSwN1Lg=='"
      ]
     },
     "execution_count": 14,
     "metadata": {},
     "output_type": "execute_result"
    }
   ],
   "source": [
    "content = pyperclip.paste()\n",
    "content"
   ]
  },
  {
   "cell_type": "markdown",
   "id": "dbd2d5aa",
   "metadata": {},
   "source": [
    "Which we can now deserialize this way:"
   ]
  },
  {
   "cell_type": "code",
   "execution_count": 15,
   "id": "2febd693",
   "metadata": {},
   "outputs": [
    {
     "data": {
      "text/plain": [
       "{'a': 1, 'b': 2, 'c': 3}"
      ]
     },
     "execution_count": 15,
     "metadata": {},
     "output_type": "execute_result"
    }
   ],
   "source": [
    "new_d = pickle.loads(base64.b64decode(content.encode()))\n",
    "new_d"
   ]
  },
  {
   "cell_type": "markdown",
   "id": "ae1e9e19",
   "metadata": {},
   "source": [
    "We can write some small utility functions to do the serializing and deserializing:"
   ]
  },
  {
   "cell_type": "code",
   "execution_count": 16,
   "id": "c78a9a46",
   "metadata": {},
   "outputs": [],
   "source": [
    "def put_obj_to_clipboard(obj):\n",
    "    pickled = pickle.dumps(obj)\n",
    "    pyperclip.copy(base64.b64encode(pickled).decode())\n",
    "    \n",
    "def get_obj_from_clipboard():\n",
    "    content = pyperclip.paste()\n",
    "    return pickle.loads(base64.b64decode(content.encode()))"
   ]
  },
  {
   "cell_type": "markdown",
   "id": "6bb2dd54",
   "metadata": {},
   "source": [
    "Let's test this out using a custom class:"
   ]
  },
  {
   "cell_type": "code",
   "execution_count": 17,
   "id": "33f43390",
   "metadata": {},
   "outputs": [],
   "source": [
    "class Person:\n",
    "    def __init__(self, name, age):\n",
    "        self.name = name\n",
    "        self.age = age\n",
    "        \n",
    "    def __repr__(self):\n",
    "        return f\"Person(name={self.name}, age={self.age})\""
   ]
  },
  {
   "cell_type": "code",
   "execution_count": 18,
   "id": "fb75f579",
   "metadata": {},
   "outputs": [
    {
     "data": {
      "text/plain": [
       "Person(name=John, age=42)"
      ]
     },
     "execution_count": 18,
     "metadata": {},
     "output_type": "execute_result"
    }
   ],
   "source": [
    "p = Person(\"John\", 42)\n",
    "p"
   ]
  },
  {
   "cell_type": "code",
   "execution_count": 19,
   "id": "561f4c0b",
   "metadata": {},
   "outputs": [],
   "source": [
    "put_obj_to_clipboard(p)"
   ]
  },
  {
   "cell_type": "markdown",
   "id": "37994404",
   "metadata": {},
   "source": [
    "And the contents of the clipboard is:"
   ]
  },
  {
   "cell_type": "code",
   "execution_count": 20,
   "id": "45b596f9",
   "metadata": {},
   "outputs": [
    {
     "data": {
      "text/plain": [
       "'gASVNQAAAAAAAACMCF9fbWFpbl9flIwGUGVyc29ulJOUKYGUfZQojARuYW1llIwESm9obpSMA2FnZZRLKnViLg=='"
      ]
     },
     "execution_count": 20,
     "metadata": {},
     "output_type": "execute_result"
    }
   ],
   "source": [
    "pyperclip.paste()"
   ]
  },
  {
   "cell_type": "markdown",
   "id": "3c3ece4a",
   "metadata": {},
   "source": [
    "Which can deserialize back to a `Person` object:"
   ]
  },
  {
   "cell_type": "code",
   "execution_count": 21,
   "id": "30a13c1d",
   "metadata": {},
   "outputs": [
    {
     "data": {
      "text/plain": [
       "(Person(name=John, age=42), 'John', 42)"
      ]
     },
     "execution_count": 21,
     "metadata": {},
     "output_type": "execute_result"
    }
   ],
   "source": [
    "john = get_obj_from_clipboard()\n",
    "john, john.name, john.age"
   ]
  },
  {
   "cell_type": "markdown",
   "id": "f8311dfc",
   "metadata": {},
   "source": [
    "One thing to note is that using `pickle` is considered \"unsafe\", i.e. only unpickle data you **trust**, as it is very easy to use pickle for various types of attacks."
   ]
  },
  {
   "cell_type": "markdown",
   "id": "263e845a",
   "metadata": {},
   "source": [
    "One safer alternative, could be to use JSON encoding - with something like a dictionary here, it would be relatively simple to do using the `json` module, but you have to be aware that you may have to provide specialized serializers in order to serialize more complex data types such as dates, uuids, etc."
   ]
  },
  {
   "cell_type": "markdown",
   "id": "d05dd513",
   "metadata": {},
   "source": [
    "And there you have it - the `pyperclip` library - very simple to use, but restricted to text."
   ]
  },
  {
   "cell_type": "code",
   "execution_count": null,
   "id": "f14a65bd",
   "metadata": {},
   "outputs": [],
   "source": []
  }
 ],
 "metadata": {
  "kernelspec": {
   "display_name": "Python 3 (ipykernel)",
   "language": "python",
   "name": "python3"
  },
  "language_info": {
   "codemirror_mode": {
    "name": "ipython",
    "version": 3
   },
   "file_extension": ".py",
   "mimetype": "text/x-python",
   "name": "python",
   "nbconvert_exporter": "python",
   "pygments_lexer": "ipython3",
   "version": "3.10.2"
  }
 },
 "nbformat": 4,
 "nbformat_minor": 5
}
