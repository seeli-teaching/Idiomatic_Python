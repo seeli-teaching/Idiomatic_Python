{
 "cells": [
  {
   "cell_type": "markdown",
   "id": "a5b4f219",
   "metadata": {},
   "source": [
    "## Looping N Times"
   ]
  },
  {
   "cell_type": "markdown",
   "id": "ee9babc3",
   "metadata": {},
   "source": [
    "Sometimes we just want to run a loop N times - but without caring about the actual loop variable."
   ]
  },
  {
   "cell_type": "markdown",
   "id": "f87873d6",
   "metadata": {},
   "source": [
    "In Python we do not have the same for-loop construct as languages such as C or Java, we can only iterate over iterables (using iterators)."
   ]
  },
  {
   "cell_type": "markdown",
   "id": "225a0fc4",
   "metadata": {},
   "source": [
    "So, to run a loop N times, we might write something like this:"
   ]
  },
  {
   "cell_type": "code",
   "execution_count": 1,
   "id": "ecd5f55f",
   "metadata": {},
   "outputs": [
    {
     "name": "stdout",
     "output_type": "stream",
     "text": [
      "loop...\n",
      "loop...\n",
      "loop...\n",
      "loop...\n",
      "loop...\n",
      "loop...\n",
      "loop...\n",
      "loop...\n",
      "loop...\n",
      "loop...\n"
     ]
    }
   ],
   "source": [
    "for i in range(10):\n",
    "    print('loop...')"
   ]
  },
  {
   "cell_type": "markdown",
   "id": "133210b9",
   "metadata": {},
   "source": [
    "It is customary to use the variable name `_` to indicate we don't care about the loop variable:"
   ]
  },
  {
   "cell_type": "code",
   "execution_count": 2,
   "id": "4ea21e3e",
   "metadata": {},
   "outputs": [
    {
     "name": "stdout",
     "output_type": "stream",
     "text": [
      "loop...\n",
      "loop...\n",
      "loop...\n",
      "loop...\n",
      "loop...\n",
      "loop...\n",
      "loop...\n",
      "loop...\n",
      "loop...\n",
      "loop...\n"
     ]
    }
   ],
   "source": [
    "for _ in range(10):\n",
    "    print(\"loop...\")"
   ]
  },
  {
   "cell_type": "markdown",
   "id": "180fd296",
   "metadata": {},
   "source": [
    "Note that there's nothing special about `_` here - it is simply a *convention* most Python developers will use to indicate to *humans* reading the code that we don't actually care about the loop variable."
   ]
  },
  {
   "cell_type": "markdown",
   "id": "1c845163",
   "metadata": {},
   "source": [
    "But, there is an alternative, and more efficient method of achieving the same thing, use the `repeat` function from the `itertools` module."
   ]
  },
  {
   "cell_type": "code",
   "execution_count": 3,
   "id": "8f6082d2",
   "metadata": {},
   "outputs": [],
   "source": [
    "from itertools import repeat"
   ]
  },
  {
   "cell_type": "code",
   "execution_count": 5,
   "id": "ca561987",
   "metadata": {},
   "outputs": [
    {
     "name": "stdout",
     "output_type": "stream",
     "text": [
      "loop...\n",
      "loop...\n",
      "loop...\n",
      "loop...\n",
      "loop...\n",
      "loop...\n",
      "loop...\n",
      "loop...\n",
      "loop...\n",
      "loop...\n"
     ]
    }
   ],
   "source": [
    "for _ in repeat(None, 10):\n",
    "    print(\"loop...\")"
   ]
  },
  {
   "cell_type": "markdown",
   "id": "37e46266",
   "metadata": {},
   "source": [
    "Now let's look at some timings for both approaches:"
   ]
  },
  {
   "cell_type": "code",
   "execution_count": 6,
   "id": "ceac1086",
   "metadata": {},
   "outputs": [],
   "source": [
    "from timeit import timeit"
   ]
  },
  {
   "cell_type": "code",
   "execution_count": 7,
   "id": "2dd59927",
   "metadata": {},
   "outputs": [],
   "source": [
    "def loop_range(n):\n",
    "    for _ in range(n):\n",
    "        pass"
   ]
  },
  {
   "cell_type": "code",
   "execution_count": 8,
   "id": "7b969074",
   "metadata": {},
   "outputs": [],
   "source": [
    "def loop_repeat(n):\n",
    "    for _ in repeat(None, n):\n",
    "        pass"
   ]
  },
  {
   "cell_type": "markdown",
   "id": "df80dac8",
   "metadata": {},
   "source": [
    "And let's time this for large loops:"
   ]
  },
  {
   "cell_type": "code",
   "execution_count": 12,
   "id": "cffaf61c",
   "metadata": {},
   "outputs": [
    {
     "data": {
      "text/plain": [
       "1.034368499997072"
      ]
     },
     "execution_count": 12,
     "metadata": {},
     "output_type": "execute_result"
    }
   ],
   "source": [
    "n = 100_000\n",
    "timeit(\"loop_range(n)\", globals=globals(), number=1000)"
   ]
  },
  {
   "cell_type": "code",
   "execution_count": 13,
   "id": "57836783",
   "metadata": {},
   "outputs": [
    {
     "data": {
      "text/plain": [
       "0.4371508750191424"
      ]
     },
     "execution_count": 13,
     "metadata": {},
     "output_type": "execute_result"
    }
   ],
   "source": [
    "n = 100_000\n",
    "timeit(\"loop_repeat(n)\", globals=globals(), number=1000)"
   ]
  },
  {
   "cell_type": "markdown",
   "id": "89235261",
   "metadata": {},
   "source": [
    "As you can see, for large loops this can make a difference."
   ]
  },
  {
   "cell_type": "markdown",
   "id": "d6b27004",
   "metadata": {},
   "source": [
    "Does this mean you should always use `repeat` instead of `range`? Up to you - for large loops I would most likely use `repeat`, but for small loops I may not bother importing the `itertools` module, plus using `repeat` may cause some confusion for beginner Python devs looking at your code."
   ]
  },
  {
   "cell_type": "markdown",
   "id": "41a3007c",
   "metadata": {},
   "source": [
    "The usual caveat I give when I discuss optimizing your code - **do not optimize prematurely**.\n",
    "\n",
    "Write your code in the most readable manner possible (without a total disregard for efficiency of course!) - but don't start optimizing your code and refactoring until you understand **where** your code is slow. In the above example, we saved about less than a second - but if your code takes 10 minutes to run, then shaving off one second might be meaningless (by itself). \n",
    "\n",
    "**First** identify the bottlenecks in your code, **then** optimize your code."
   ]
  },
  {
   "cell_type": "code",
   "execution_count": null,
   "id": "3b95e7eb",
   "metadata": {},
   "outputs": [],
   "source": []
  }
 ],
 "metadata": {
  "kernelspec": {
   "display_name": "Python 3 (ipykernel)",
   "language": "python",
   "name": "python3"
  },
  "language_info": {
   "codemirror_mode": {
    "name": "ipython",
    "version": 3
   },
   "file_extension": ".py",
   "mimetype": "text/x-python",
   "name": "python",
   "nbconvert_exporter": "python",
   "pygments_lexer": "ipython3",
   "version": "3.9.10"
  }
 },
 "nbformat": 4,
 "nbformat_minor": 5
}
