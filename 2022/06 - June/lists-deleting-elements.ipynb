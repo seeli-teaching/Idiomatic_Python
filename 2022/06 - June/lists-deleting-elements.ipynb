{
 "cells": [
  {
   "cell_type": "markdown",
   "id": "24ba8d1b",
   "metadata": {},
   "source": [
    "## Deleting Elements from a List"
   ]
  },
  {
   "cell_type": "markdown",
   "id": "c8cb9ff1",
   "metadata": {},
   "source": [
    "Sometimes we want to remove elements from a list that satisfy some criteria."
   ]
  },
  {
   "cell_type": "markdown",
   "id": "f10ca1f6",
   "metadata": {},
   "source": [
    "In general, we may have some predicate function that determines the match."
   ]
  },
  {
   "cell_type": "markdown",
   "id": "ced643de",
   "metadata": {},
   "source": [
    "Suppose we have the following list:"
   ]
  },
  {
   "cell_type": "code",
   "execution_count": 1,
   "id": "0d3f78d6",
   "metadata": {},
   "outputs": [
    {
     "data": {
      "text/plain": [
       "[0, 1, 2, 3, 4, 5, 6, 7, 8, 9]"
      ]
     },
     "execution_count": 1,
     "metadata": {},
     "output_type": "execute_result"
    }
   ],
   "source": [
    "l = list(range(10))\n",
    "l"
   ]
  },
  {
   "cell_type": "markdown",
   "id": "680ef1d7",
   "metadata": {},
   "source": [
    "Now, we want to remove from this list, all the elements that are odd."
   ]
  },
  {
   "cell_type": "markdown",
   "id": "72717d1b",
   "metadata": {},
   "source": [
    "Let's create a predicate function for that (we really don't need it for this simple case, but just trying to keep things as generic as possible):"
   ]
  },
  {
   "cell_type": "code",
   "execution_count": 2,
   "id": "07d537e3",
   "metadata": {},
   "outputs": [],
   "source": [
    "def include(value):\n",
    "    return value % 2 == 0"
   ]
  },
  {
   "cell_type": "markdown",
   "id": "a5aae0d8",
   "metadata": {},
   "source": [
    "We could actually write it this way too, but it's slightly more confusing to read, so I prefer the above option:"
   ]
  },
  {
   "cell_type": "code",
   "execution_count": 3,
   "id": "be0de3e7",
   "metadata": {},
   "outputs": [],
   "source": [
    "def include(value):\n",
    "    return not value % 2"
   ]
  },
  {
   "cell_type": "markdown",
   "id": "44a60d85",
   "metadata": {},
   "source": [
    "You may be tempted to iterate over the list and delete elements as you encounter the ones that need to be removed from the list."
   ]
  },
  {
   "cell_type": "markdown",
   "id": "d0e066dd",
   "metadata": {},
   "source": [
    "In general you'll run into trouble if you modify a collection you are iterating over.\n",
    "\n",
    "But this can be mitigated in several ways, such as iterating in reverse, something like this:"
   ]
  },
  {
   "cell_type": "code",
   "execution_count": 4,
   "id": "7ff31c5b",
   "metadata": {},
   "outputs": [
    {
     "data": {
      "text/plain": [
       "[0, 2, 4, 6, 8]"
      ]
     },
     "execution_count": 4,
     "metadata": {},
     "output_type": "execute_result"
    }
   ],
   "source": [
    "l = list(range(10))\n",
    "\n",
    "for i in range(len(l)-1, -1, -1):\n",
    "    if not include(l[i]):\n",
    "        del l[i]\n",
    "        \n",
    "l"
   ]
  },
  {
   "cell_type": "markdown",
   "id": "f4bbf9ef",
   "metadata": {},
   "source": [
    "However, this loop approach is actually quite \"slow\" (quadratic behavior when you consider that you are looping over the list, and for each element you remove from the list, the item is deleted and remaining items are shifted left)."
   ]
  },
  {
   "cell_type": "markdown",
   "id": "dea8eaab",
   "metadata": {},
   "source": [
    "While this approach works, it's not optimal, especially for large lists."
   ]
  },
  {
   "cell_type": "markdown",
   "id": "aaf7afda",
   "metadata": {},
   "source": [
    "There are a few more efficient alternatives."
   ]
  },
  {
   "cell_type": "markdown",
   "id": "4a004d07",
   "metadata": {},
   "source": [
    "The first is using the `filter` function Python provides:"
   ]
  },
  {
   "cell_type": "code",
   "execution_count": 5,
   "id": "91b5b07c",
   "metadata": {},
   "outputs": [
    {
     "data": {
      "text/plain": [
       "[0, 2, 4, 6, 8]"
      ]
     },
     "execution_count": 5,
     "metadata": {},
     "output_type": "execute_result"
    }
   ],
   "source": [
    "l = list(range(10))\n",
    "l = list(filter(include, l))\n",
    "l"
   ]
  },
  {
   "cell_type": "markdown",
   "id": "4fc0216e",
   "metadata": {},
   "source": [
    "Another approach is simply to use a comprehension:"
   ]
  },
  {
   "cell_type": "code",
   "execution_count": 6,
   "id": "d8b86c15",
   "metadata": {},
   "outputs": [
    {
     "data": {
      "text/plain": [
       "[0, 2, 4, 6, 8]"
      ]
     },
     "execution_count": 6,
     "metadata": {},
     "output_type": "execute_result"
    }
   ],
   "source": [
    "l = list(range(10))\n",
    "l = [el for el in l if include(el)]\n",
    "l"
   ]
  },
  {
   "cell_type": "markdown",
   "id": "2dff2761",
   "metadata": {},
   "source": [
    "One thing you may have noticed is that the first approach (using `del`) mutated the original list, whereas the last two methods we saw just created a new list, and replaced the reference for the symbol `l`."
   ]
  },
  {
   "cell_type": "code",
   "execution_count": 7,
   "id": "6e679479",
   "metadata": {},
   "outputs": [
    {
     "name": "stdout",
     "output_type": "stream",
     "text": [
      "4395732672\n",
      "4395784512\n",
      "[0, 2, 4, 6, 8]\n"
     ]
    }
   ],
   "source": [
    "l = list(range(10))\n",
    "print(id(l))\n",
    "l = [el for el in l if include(el)]\n",
    "print(id(l))\n",
    "print(l)"
   ]
  },
  {
   "cell_type": "markdown",
   "id": "c0124522",
   "metadata": {},
   "source": [
    "This may not be what you are looking for - you may truly want to mutate your original list (i.e. not change the reference for `l`) at all."
   ]
  },
  {
   "cell_type": "markdown",
   "id": "4aaa9cb8",
   "metadata": {},
   "source": [
    "This is still achievable using slice assignments (although we are still generating a new list, and then mutating our original list, so technically these methods both use more memory than the first one - as is often the case, we trade off speed vs memory)"
   ]
  },
  {
   "cell_type": "code",
   "execution_count": 8,
   "id": "fb1de441",
   "metadata": {},
   "outputs": [
    {
     "name": "stdout",
     "output_type": "stream",
     "text": [
      "4395732800\n",
      "4395732800\n",
      "[0, 2, 4, 6, 8]\n"
     ]
    }
   ],
   "source": [
    "l = list(range(10))\n",
    "print(id(l))\n",
    "l[:] = [el for el in l if include(el)]\n",
    "print(id(l))\n",
    "print(l)"
   ]
  },
  {
   "cell_type": "markdown",
   "id": "8e8fd559",
   "metadata": {},
   "source": [
    "Now let's look at some timings for these approaches."
   ]
  },
  {
   "cell_type": "code",
   "execution_count": 9,
   "id": "eba412fd",
   "metadata": {},
   "outputs": [],
   "source": [
    "from timeit import timeit"
   ]
  },
  {
   "cell_type": "code",
   "execution_count": 10,
   "id": "75f30f18",
   "metadata": {},
   "outputs": [],
   "source": [
    "def remove_loop(l):\n",
    "    for i in range(len(l)-1, -1, -1):\n",
    "        if not include(l[i]):\n",
    "            del l[i]"
   ]
  },
  {
   "cell_type": "code",
   "execution_count": 11,
   "id": "51ed1153",
   "metadata": {},
   "outputs": [],
   "source": [
    "def remove_filter(l):\n",
    "    l[:] = filter(include, l)"
   ]
  },
  {
   "cell_type": "code",
   "execution_count": 12,
   "id": "f7b868c6",
   "metadata": {},
   "outputs": [],
   "source": [
    "def remove_comprehension(l):\n",
    "    l[:] = [el for el in l if include(el)]"
   ]
  },
  {
   "cell_type": "markdown",
   "id": "dae92ae1",
   "metadata": {},
   "source": [
    "Let's test these functions and make sure they work as expected:"
   ]
  },
  {
   "cell_type": "code",
   "execution_count": 13,
   "id": "8eb8b3d7",
   "metadata": {},
   "outputs": [
    {
     "name": "stdout",
     "output_type": "stream",
     "text": [
      "4395737344\n",
      "4395737344\n",
      "[0, 2, 4, 6, 8]\n"
     ]
    }
   ],
   "source": [
    "l = list(range(10))\n",
    "print(id(l))\n",
    "remove_loop(l)\n",
    "print(id(l))\n",
    "print(l)"
   ]
  },
  {
   "cell_type": "code",
   "execution_count": 14,
   "id": "99869e9a",
   "metadata": {},
   "outputs": [
    {
     "name": "stdout",
     "output_type": "stream",
     "text": [
      "4394418496\n",
      "4394418496\n",
      "[0, 2, 4, 6, 8]\n"
     ]
    }
   ],
   "source": [
    "l = list(range(10))\n",
    "print(id(l))\n",
    "remove_filter(l)\n",
    "print(id(l))\n",
    "print(l)"
   ]
  },
  {
   "cell_type": "code",
   "execution_count": 15,
   "id": "9d84a662",
   "metadata": {},
   "outputs": [
    {
     "name": "stdout",
     "output_type": "stream",
     "text": [
      "4395749952\n",
      "4395749952\n",
      "[0, 2, 4, 6, 8]\n"
     ]
    }
   ],
   "source": [
    "l = list(range(10))\n",
    "print(id(l))\n",
    "remove_comprehension(l)\n",
    "print(id(l))\n",
    "print(l)"
   ]
  },
  {
   "cell_type": "markdown",
   "id": "d2e65433",
   "metadata": {},
   "source": [
    "Now let's time them on some large lists - but one thing to be careful with - we need to re-create the original list for every test run, otherwise our first test run will remove half the elements of the list, and the remaining runs will not mutate anything (nothing left to remove from the list).\n",
    "\n",
    "To get around this, I'm going to pass a copy of the original list `l` every time."
   ]
  },
  {
   "cell_type": "code",
   "execution_count": 16,
   "id": "132b9726",
   "metadata": {},
   "outputs": [
    {
     "data": {
      "text/plain": [
       "8.087936125"
      ]
     },
     "execution_count": 16,
     "metadata": {},
     "output_type": "execute_result"
    }
   ],
   "source": [
    "l = list(range(200_000))\n",
    "timeit(\"remove_loop(l.copy())\", globals=globals(), number=10)"
   ]
  },
  {
   "cell_type": "code",
   "execution_count": 17,
   "id": "5b4ec343",
   "metadata": {},
   "outputs": [
    {
     "data": {
      "text/plain": [
       "0.08694020799999969"
      ]
     },
     "execution_count": 17,
     "metadata": {},
     "output_type": "execute_result"
    }
   ],
   "source": [
    "l = list(range(200_000))\n",
    "timeit(\"remove_filter(l.copy())\", globals=globals(), number=10)"
   ]
  },
  {
   "cell_type": "code",
   "execution_count": 18,
   "id": "568c4c07",
   "metadata": {},
   "outputs": [
    {
     "data": {
      "text/plain": [
       "0.12086675000000113"
      ]
     },
     "execution_count": 18,
     "metadata": {},
     "output_type": "execute_result"
    }
   ],
   "source": [
    "l = list(range(200_000))\n",
    "timeit(\"remove_comprehension(l.copy())\", globals=globals(), number=10)"
   ]
  },
  {
   "cell_type": "markdown",
   "id": "4389dcd6",
   "metadata": {},
   "source": [
    "As you can see, the `filter` and `comprehension` approach run quite a bit faster."
   ]
  },
  {
   "cell_type": "markdown",
   "id": "fab5c19d",
   "metadata": {},
   "source": [
    "The usual caveat I give when I discuss optimizing your code - **do not optimize prematurely**.\n",
    "\n",
    "Write your code in the most readable manner possible (without a total disregard for efficiency of course!) - but don't start optimizing your code and refactoring until you understand **where** your code is slow. In the above example, we saved less than 10 seconds - but if your code takes 10 minutes to run, then shaving off 10 seconds might be meaningless (by itself). \n",
    "\n",
    "**First** identify the bottlenecks in your code, **then** optimize your code."
   ]
  },
  {
   "cell_type": "code",
   "execution_count": null,
   "id": "1f484dc1",
   "metadata": {},
   "outputs": [],
   "source": []
  }
 ],
 "metadata": {
  "kernelspec": {
   "display_name": "Python 3 (ipykernel)",
   "language": "python",
   "name": "python3"
  },
  "language_info": {
   "codemirror_mode": {
    "name": "ipython",
    "version": 3
   },
   "file_extension": ".py",
   "mimetype": "text/x-python",
   "name": "python",
   "nbconvert_exporter": "python",
   "pygments_lexer": "ipython3",
   "version": "3.9.10"
  }
 },
 "nbformat": 4,
 "nbformat_minor": 5
}
