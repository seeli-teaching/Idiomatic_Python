{
 "cells": [
  {
   "cell_type": "markdown",
   "id": "86e7ac1e",
   "metadata": {},
   "source": [
    "### A Practical Application of DefaultDict"
   ]
  },
  {
   "cell_type": "markdown",
   "id": "b830384d",
   "metadata": {},
   "source": [
    "This is going to be a really short one."
   ]
  },
  {
   "cell_type": "markdown",
   "id": "4abd3d16",
   "metadata": {},
   "source": [
    "The Python standard library's `collections` module contains the `defaultdict` class."
   ]
  },
  {
   "cell_type": "code",
   "execution_count": 1,
   "id": "2c830b3f",
   "metadata": {},
   "outputs": [],
   "source": [
    "from collections import defaultdict"
   ]
  },
  {
   "cell_type": "markdown",
   "id": "878c7f10",
   "metadata": {},
   "source": [
    "With this class we can create dictionaries that auto-insert a non-existent key when accessed."
   ]
  },
  {
   "cell_type": "markdown",
   "id": "ea3e14f5",
   "metadata": {},
   "source": [
    "This default value is calculated by calling a **callable** (aka factory function) we define when we create the `defaultdict` instance."
   ]
  },
  {
   "cell_type": "markdown",
   "id": "071b189f",
   "metadata": {},
   "source": [
    "For example, the `int()` callable, returns the zero (`0`) integer:"
   ]
  },
  {
   "cell_type": "code",
   "execution_count": 2,
   "id": "409db24e",
   "metadata": {},
   "outputs": [
    {
     "data": {
      "text/plain": [
       "0"
      ]
     },
     "execution_count": 2,
     "metadata": {},
     "output_type": "execute_result"
    }
   ],
   "source": [
    "int()"
   ]
  },
  {
   "cell_type": "markdown",
   "id": "176527e9",
   "metadata": {},
   "source": [
    "So, we can use `int` as the \"factory\" function for a defaultdict, and the default value for a non-existent key will be `0`:"
   ]
  },
  {
   "cell_type": "code",
   "execution_count": 3,
   "id": "53d1342a",
   "metadata": {},
   "outputs": [],
   "source": [
    "dd = defaultdict(int)"
   ]
  },
  {
   "cell_type": "markdown",
   "id": "c02116ae",
   "metadata": {},
   "source": [
    "Now, this behaves like a regular dictionary, where we can insert new keys, or retrieve them as usual:"
   ]
  },
  {
   "cell_type": "code",
   "execution_count": 4,
   "id": "3ed29332",
   "metadata": {},
   "outputs": [],
   "source": [
    "dd['a'] = \"test\""
   ]
  },
  {
   "cell_type": "code",
   "execution_count": 5,
   "id": "ed737d2b",
   "metadata": {},
   "outputs": [
    {
     "data": {
      "text/plain": [
       "'test'"
      ]
     },
     "execution_count": 5,
     "metadata": {},
     "output_type": "execute_result"
    }
   ],
   "source": [
    "dd['a']"
   ]
  },
  {
   "cell_type": "code",
   "execution_count": 6,
   "id": "f58beaad",
   "metadata": {},
   "outputs": [
    {
     "data": {
      "text/plain": [
       "defaultdict(int, {'a': 'test'})"
      ]
     },
     "execution_count": 6,
     "metadata": {},
     "output_type": "execute_result"
    }
   ],
   "source": [
    "dd"
   ]
  },
  {
   "cell_type": "markdown",
   "id": "1b959f34",
   "metadata": {},
   "source": [
    "But watch what happens if we request a non-existent key:"
   ]
  },
  {
   "cell_type": "code",
   "execution_count": 7,
   "id": "4b45eebc",
   "metadata": {},
   "outputs": [
    {
     "data": {
      "text/plain": [
       "0"
      ]
     },
     "execution_count": 7,
     "metadata": {},
     "output_type": "execute_result"
    }
   ],
   "source": [
    "dd['b']"
   ]
  },
  {
   "cell_type": "markdown",
   "id": "648d98e4",
   "metadata": {},
   "source": [
    "As you can see, we got that default value back, **and moreover**, the dictionary was **mutated**:"
   ]
  },
  {
   "cell_type": "code",
   "execution_count": 8,
   "id": "c8b5dd16",
   "metadata": {},
   "outputs": [
    {
     "data": {
      "text/plain": [
       "defaultdict(int, {'a': 'test', 'b': 0})"
      ]
     },
     "execution_count": 8,
     "metadata": {},
     "output_type": "execute_result"
    }
   ],
   "source": [
    "dd"
   ]
  },
  {
   "cell_type": "markdown",
   "id": "04c9113e",
   "metadata": {},
   "source": [
    "This is very different behavior from a regular dictionary and using the `get` method:"
   ]
  },
  {
   "cell_type": "code",
   "execution_count": 9,
   "id": "ecf683d6",
   "metadata": {},
   "outputs": [],
   "source": [
    "d = {'a': 'test'}"
   ]
  },
  {
   "cell_type": "code",
   "execution_count": 10,
   "id": "259ace72",
   "metadata": {},
   "outputs": [
    {
     "data": {
      "text/plain": [
       "0"
      ]
     },
     "execution_count": 10,
     "metadata": {},
     "output_type": "execute_result"
    }
   ],
   "source": [
    "d.get('b', 0)"
   ]
  },
  {
   "cell_type": "markdown",
   "id": "70562822",
   "metadata": {},
   "source": [
    "In this case we still get that default value, but the dictionary was not mutated:"
   ]
  },
  {
   "cell_type": "code",
   "execution_count": 11,
   "id": "56f31a61",
   "metadata": {},
   "outputs": [
    {
     "data": {
      "text/plain": [
       "{'a': 'test'}"
      ]
     },
     "execution_count": 11,
     "metadata": {},
     "output_type": "execute_result"
    }
   ],
   "source": [
    "d"
   ]
  },
  {
   "cell_type": "markdown",
   "id": "7395f991",
   "metadata": {},
   "source": [
    "The `defaultdict` is essentially a subclass of a regular dictionary, and in fact we can easily cast it to a regular `dict`:"
   ]
  },
  {
   "cell_type": "code",
   "execution_count": 12,
   "id": "042ee54d",
   "metadata": {},
   "outputs": [],
   "source": [
    "d = dict(dd)"
   ]
  },
  {
   "cell_type": "code",
   "execution_count": 13,
   "id": "d9076611",
   "metadata": {},
   "outputs": [
    {
     "data": {
      "text/plain": [
       "{'a': 'test', 'b': 0}"
      ]
     },
     "execution_count": 13,
     "metadata": {},
     "output_type": "execute_result"
    }
   ],
   "source": [
    "d"
   ]
  },
  {
   "cell_type": "markdown",
   "id": "ff692e7a",
   "metadata": {},
   "source": [
    "One particularly useful application of the default dict is when we are building up a dictionary, and we would like to avoid writing logic such as the following example."
   ]
  },
  {
   "cell_type": "markdown",
   "id": "dbe21fe8",
   "metadata": {},
   "source": [
    "Suppose we want to use a dictionary to count things, like maybe a frequency distribution of numbers in a list:"
   ]
  },
  {
   "cell_type": "code",
   "execution_count": 14,
   "id": "ba2d0b97",
   "metadata": {},
   "outputs": [],
   "source": [
    "import random"
   ]
  },
  {
   "cell_type": "code",
   "execution_count": 15,
   "id": "ab1b8cc1",
   "metadata": {},
   "outputs": [],
   "source": [
    "d = {}\n",
    "random.seed(0)\n",
    "data = [random.randint(1, 5) for _ in range(10000)]"
   ]
  },
  {
   "cell_type": "code",
   "execution_count": 16,
   "id": "b328bf29",
   "metadata": {},
   "outputs": [],
   "source": [
    "for number in data:\n",
    "    if number in d:\n",
    "        d[number] += 1\n",
    "    else:\n",
    "        d[number] = 1"
   ]
  },
  {
   "cell_type": "code",
   "execution_count": 17,
   "id": "8f2263cc",
   "metadata": {},
   "outputs": [
    {
     "data": {
      "text/plain": [
       "{4: 2001, 1: 2006, 3: 2023, 5: 1956, 2: 2014}"
      ]
     },
     "execution_count": 17,
     "metadata": {},
     "output_type": "execute_result"
    }
   ],
   "source": [
    "d"
   ]
  },
  {
   "cell_type": "markdown",
   "id": "e4a21912",
   "metadata": {},
   "source": [
    "Using a `defaultdict` we can essentially code this same logic this way:"
   ]
  },
  {
   "cell_type": "markdown",
   "id": "b8999f9c",
   "metadata": {},
   "source": [
    "We could use `int` as our factory function, but just to show you another approach that can be expanded to have a default other than `0`."
   ]
  },
  {
   "cell_type": "code",
   "execution_count": 18,
   "id": "18c48745",
   "metadata": {},
   "outputs": [],
   "source": [
    "dd = defaultdict(lambda: 0)"
   ]
  },
  {
   "cell_type": "code",
   "execution_count": 19,
   "id": "eff08891",
   "metadata": {},
   "outputs": [],
   "source": [
    "for number in data:\n",
    "    dd[number] += 1"
   ]
  },
  {
   "cell_type": "code",
   "execution_count": 20,
   "id": "b99174a4",
   "metadata": {},
   "outputs": [
    {
     "data": {
      "text/plain": [
       "defaultdict(<function __main__.<lambda>()>,\n",
       "            {4: 2001, 1: 2006, 3: 2023, 5: 1956, 2: 2014})"
      ]
     },
     "execution_count": 20,
     "metadata": {},
     "output_type": "execute_result"
    }
   ],
   "source": [
    "dd"
   ]
  },
  {
   "cell_type": "markdown",
   "id": "cd28b077",
   "metadata": {},
   "source": [
    "As a side note, there is much easier to do this, using the `Counter` class in the the same `collections` module:"
   ]
  },
  {
   "cell_type": "code",
   "execution_count": 21,
   "id": "7b41d400",
   "metadata": {},
   "outputs": [],
   "source": [
    "from collections import Counter"
   ]
  },
  {
   "cell_type": "code",
   "execution_count": 22,
   "id": "c040d607",
   "metadata": {},
   "outputs": [
    {
     "data": {
      "text/plain": [
       "Counter({4: 2001, 1: 2006, 3: 2023, 5: 1956, 2: 2014})"
      ]
     },
     "execution_count": 22,
     "metadata": {},
     "output_type": "execute_result"
    }
   ],
   "source": [
    "Counter(data)"
   ]
  },
  {
   "cell_type": "markdown",
   "id": "8db56e6f",
   "metadata": {},
   "source": [
    "But, I wanted to show a simple example of how `defaultdict` works."
   ]
  },
  {
   "cell_type": "markdown",
   "id": "493bdbf3",
   "metadata": {},
   "source": [
    "Let's look at a less trivial example."
   ]
  },
  {
   "cell_type": "markdown",
   "id": "a8674aa3",
   "metadata": {},
   "source": [
    "Suppose you have a data set that consists of orders that need to be processed for a variety of clients."
   ]
  },
  {
   "cell_type": "markdown",
   "id": "c1a94a45",
   "metadata": {},
   "source": [
    "We want to generate a new data model that is basically a dictionary whose keys are the clients, and where the associated value is a list of the orders for that client."
   ]
  },
  {
   "cell_type": "markdown",
   "id": "eb8bcfcd",
   "metadata": {},
   "source": [
    "Let's simulate this dataset:"
   ]
  },
  {
   "cell_type": "code",
   "execution_count": 23,
   "id": "0fda21aa",
   "metadata": {},
   "outputs": [],
   "source": [
    "from uuid import uuid4\n",
    "\n",
    "random.seed(0)\n",
    "suppliers = ['AAA', 'BBB', 'CCC', 'DDD', 'EEE']\n",
    "clients = ['ZZZ', 'YYY', 'XXX', 'WWW']\n",
    "orders = [\n",
    "        {\n",
    "            \"supplier\": random.choice(suppliers),\n",
    "            \"client\": random.choice(clients),\n",
    "            \"order_number\": str(uuid4()), \n",
    "            \"item_id\": str(uuid4()), \n",
    "            \"quantity\": random.randint(1, 100)\n",
    "        }\n",
    "    for _ in range(100)\n",
    "]"
   ]
  },
  {
   "cell_type": "code",
   "execution_count": 24,
   "id": "47ee8f67",
   "metadata": {},
   "outputs": [
    {
     "data": {
      "text/plain": [
       "{'supplier': 'DDD',\n",
       " 'client': 'WWW',\n",
       " 'order_number': 'b09f3324-5f76-411d-803c-0615d6039917',\n",
       " 'item_id': '70efc863-cb37-44d0-9497-4c5baafcd5dd',\n",
       " 'quantity': 6}"
      ]
     },
     "execution_count": 24,
     "metadata": {},
     "output_type": "execute_result"
    }
   ],
   "source": [
    "orders[0]"
   ]
  },
  {
   "cell_type": "markdown",
   "id": "e20cfc81",
   "metadata": {},
   "source": [
    "Now let's re-shape this list into a dictionary with the keys corresponding to the clients, and the corresponding values are lists of the orders for each client (key)."
   ]
  },
  {
   "cell_type": "markdown",
   "id": "3a7f4995",
   "metadata": {},
   "source": [
    "Let's use a standard dictionary first:"
   ]
  },
  {
   "cell_type": "code",
   "execution_count": 25,
   "id": "53a45e3e",
   "metadata": {},
   "outputs": [],
   "source": [
    "client_orders = {}\n",
    "for order in orders:\n",
    "    client = order['client']\n",
    "    if client not in client_orders:\n",
    "        client_orders[client] = [order]\n",
    "    else:\n",
    "        client_orders[client].append(order)"
   ]
  },
  {
   "cell_type": "code",
   "execution_count": 26,
   "id": "9171045d",
   "metadata": {},
   "outputs": [
    {
     "data": {
      "text/plain": [
       "{'WWW': [{'supplier': 'DDD',\n",
       "   'client': 'WWW',\n",
       "   'order_number': 'b09f3324-5f76-411d-803c-0615d6039917',\n",
       "   'item_id': '70efc863-cb37-44d0-9497-4c5baafcd5dd',\n",
       "   'quantity': 6},\n",
       "  {'supplier': 'CCC',\n",
       "   'client': 'WWW',\n",
       "   'order_number': 'd0909dbe-c4ed-4c7b-b2ec-80e7bcf60b50',\n",
       "   'item_id': '05e9cf21-76be-4f7f-ba7c-507ae6f7afbc',\n",
       "   'quantity': 52},\n",
       "  {'supplier': 'CCC',\n",
       "   'client': 'WWW',\n",
       "   'order_number': 'd9ea3705-3903-43dc-80b4-8533783c77d1',\n",
       "   'item_id': 'cea5ee6d-51fd-4d39-bf07-d353efa38b37',\n",
       "   'quantity': 46},\n",
       "  {'supplier': 'CCC',\n",
       "   'client': 'WWW',\n",
       "   'order_number': 'dfe4a1cf-c8c1-4359-9913-8e2dcc9c6730',\n",
       "   'item_id': '07ee5f7c-f8e3-47f5-ac01-a328df1e1adf',\n",
       "   'quantity': 72},\n",
       "  {'supplier': 'DDD',\n",
       "   'client': 'WWW',\n",
       "   'order_number': 'cfcbcaf2-9625-42de-bbba-ad73a0eaee51',\n",
       "   'item_id': '2e32f529-5c2d-4ea6-9f8d-eccd0de1f1c3',\n",
       "   'quantity': 67},\n",
       "  {'supplier': 'BBB',\n",
       "   'client': 'WWW',\n",
       "   'order_number': '35240eff-b8f9-4d57-a65b-8936aa0b959b',\n",
       "   'item_id': 'b417ace3-128d-4fdb-af3f-ff4272c6a927',\n",
       "   'quantity': 12},\n",
       "  {'supplier': 'AAA',\n",
       "   'client': 'WWW',\n",
       "   'order_number': 'e1d72244-8808-40d4-b2e6-ca32783d0d48',\n",
       "   'item_id': '4eb2e09d-41b2-4d6e-9f6a-b550e541a8e8',\n",
       "   'quantity': 41},\n",
       "  {'supplier': 'AAA',\n",
       "   'client': 'WWW',\n",
       "   'order_number': 'b6c79299-d82c-4c3b-bb42-7abe8bb4123c',\n",
       "   'item_id': 'e6df6b58-b902-4066-8be3-a924fbbdbf30',\n",
       "   'quantity': 91},\n",
       "  {'supplier': 'EEE',\n",
       "   'client': 'WWW',\n",
       "   'order_number': 'a6e3e131-40e0-4b9f-a557-afd0b73a89a7',\n",
       "   'item_id': 'ad22d607-26f6-4af7-9b7a-0ce1ccb215d0',\n",
       "   'quantity': 75},\n",
       "  {'supplier': 'CCC',\n",
       "   'client': 'WWW',\n",
       "   'order_number': '2ed34923-41e9-4c12-9b68-c67cf767bbca',\n",
       "   'item_id': '2a3ab59d-2e0e-4020-80f4-133319e20012',\n",
       "   'quantity': 64},\n",
       "  {'supplier': 'CCC',\n",
       "   'client': 'WWW',\n",
       "   'order_number': 'b6870ae1-1b65-43fb-8881-76b5a960b909',\n",
       "   'item_id': 'd8e6a52e-126d-40ea-a323-4f89d6ec0726',\n",
       "   'quantity': 8},\n",
       "  {'supplier': 'AAA',\n",
       "   'client': 'WWW',\n",
       "   'order_number': '2f862f96-9926-4032-bf95-05384563a0c5',\n",
       "   'item_id': '7d752ac9-5699-4b07-945e-4f268092f115',\n",
       "   'quantity': 80},\n",
       "  {'supplier': 'AAA',\n",
       "   'client': 'WWW',\n",
       "   'order_number': '4338492d-81e1-4339-85e9-b4f14c99be2e',\n",
       "   'item_id': 'e3d3c738-2fa3-4e45-a487-46cd9aefb0e6',\n",
       "   'quantity': 26},\n",
       "  {'supplier': 'EEE',\n",
       "   'client': 'WWW',\n",
       "   'order_number': '68ed675f-0083-4731-bd71-e1f9a64ac9d5',\n",
       "   'item_id': '15f9dc9f-3276-461a-88b2-9d2ac488e6e8',\n",
       "   'quantity': 86},\n",
       "  {'supplier': 'CCC',\n",
       "   'client': 'WWW',\n",
       "   'order_number': '042b9c12-2bdf-45a9-92c7-f6c583bbe365',\n",
       "   'item_id': '793286f5-7313-4491-ae27-04a7ab35607a',\n",
       "   'quantity': 85},\n",
       "  {'supplier': 'AAA',\n",
       "   'client': 'WWW',\n",
       "   'order_number': 'c3547308-4dc2-4875-b8ed-21ca6a8e5062',\n",
       "   'item_id': '5568cd9a-7ad3-4aff-bc23-a2363fb2c260',\n",
       "   'quantity': 95},\n",
       "  {'supplier': 'BBB',\n",
       "   'client': 'WWW',\n",
       "   'order_number': 'd8f2ad2c-1905-4205-b088-2e8076230cbb',\n",
       "   'item_id': 'b20563f3-f0bf-42af-ae86-b5917fd4cd34',\n",
       "   'quantity': 46},\n",
       "  {'supplier': 'CCC',\n",
       "   'client': 'WWW',\n",
       "   'order_number': 'd8f5be30-a714-488c-a6ed-e3167fef24d9',\n",
       "   'item_id': 'e40f4bff-b32b-4044-8180-a9a2c1a86875',\n",
       "   'quantity': 96},\n",
       "  {'supplier': 'BBB',\n",
       "   'client': 'WWW',\n",
       "   'order_number': 'cf619cc2-2575-4e5d-8a4f-d63fd662139d',\n",
       "   'item_id': 'ee5b0b7e-dbd9-46d1-a503-7643f7530503',\n",
       "   'quantity': 49},\n",
       "  {'supplier': 'EEE',\n",
       "   'client': 'WWW',\n",
       "   'order_number': 'ae2fed82-bef6-4c12-ba02-7c8f6b5ad244',\n",
       "   'item_id': '7c04f2a3-8441-4825-83d6-260c7df2da0a',\n",
       "   'quantity': 5},\n",
       "  {'supplier': 'DDD',\n",
       "   'client': 'WWW',\n",
       "   'order_number': '071ec54d-7809-4038-a15c-af4fe10f14cd',\n",
       "   'item_id': '370a8790-1e44-4b58-888b-e63383e933bc',\n",
       "   'quantity': 99},\n",
       "  {'supplier': 'BBB',\n",
       "   'client': 'WWW',\n",
       "   'order_number': '4c797b68-9829-46e5-9746-e0b657979ce6',\n",
       "   'item_id': '19b97855-fdce-4989-9562-41a062017866',\n",
       "   'quantity': 68},\n",
       "  {'supplier': 'DDD',\n",
       "   'client': 'WWW',\n",
       "   'order_number': '29a8ce56-848d-4234-943c-030cbaf5f576',\n",
       "   'item_id': 'b2e08bc8-6b52-49c8-8ad1-62ee8757e417',\n",
       "   'quantity': 81}],\n",
       " 'YYY': [{'supplier': 'EEE',\n",
       "   'client': 'YYY',\n",
       "   'order_number': '7580a99c-1a7f-4330-856f-04901c16ef44',\n",
       "   'item_id': '3d7da17b-0397-4947-b12c-6b77ab323b42',\n",
       "   'quantity': 65},\n",
       "  {'supplier': 'EEE',\n",
       "   'client': 'YYY',\n",
       "   'order_number': '1002989b-7423-4be0-895c-8e57dbb27270',\n",
       "   'item_id': '988750eb-4641-4378-9139-c3369ece4044',\n",
       "   'quantity': 40},\n",
       "  {'supplier': 'CCC',\n",
       "   'client': 'YYY',\n",
       "   'order_number': '4c34e75e-fa40-47bc-8716-bcf1e2402878',\n",
       "   'item_id': 'a5a6fe61-6deb-452e-abb2-ba26a34be2a5',\n",
       "   'quantity': 71},\n",
       "  {'supplier': 'EEE',\n",
       "   'client': 'YYY',\n",
       "   'order_number': '32b80504-fe9c-4716-a61f-17abf316371e',\n",
       "   'item_id': '993a74bf-37c0-49da-abcc-7c0a2162ba35',\n",
       "   'quantity': 31},\n",
       "  {'supplier': 'EEE',\n",
       "   'client': 'YYY',\n",
       "   'order_number': 'a7be3e07-4b6c-4032-8d8d-ef53837dbf56',\n",
       "   'item_id': 'f3370015-48bd-47d9-b641-ee1aaed1f2b1',\n",
       "   'quantity': 38},\n",
       "  {'supplier': 'BBB',\n",
       "   'client': 'YYY',\n",
       "   'order_number': 'e6466150-cf0a-4edd-8711-0b1d3ebdd904',\n",
       "   'item_id': '4bbaf157-9499-4652-89b8-a202a7733d1d',\n",
       "   'quantity': 24},\n",
       "  {'supplier': 'BBB',\n",
       "   'client': 'YYY',\n",
       "   'order_number': '8653ad83-e68d-40b7-ac29-7b2e64f5d204',\n",
       "   'item_id': '64a2e7d0-9e1f-40a8-815f-d1646352f9d5',\n",
       "   'quantity': 5},\n",
       "  {'supplier': 'BBB',\n",
       "   'client': 'YYY',\n",
       "   'order_number': 'a9e15748-f289-45e4-bf28-fef2dbf05ffc',\n",
       "   'item_id': '32695323-dc1e-43e8-a59d-ec55ba6a80a0',\n",
       "   'quantity': 87},\n",
       "  {'supplier': 'AAA',\n",
       "   'client': 'YYY',\n",
       "   'order_number': 'f4220ba3-ea61-44b8-9322-4e755ae05ca4',\n",
       "   'item_id': '3027cad2-8489-4ef9-801b-b9aadf16a89d',\n",
       "   'quantity': 90},\n",
       "  {'supplier': 'AAA',\n",
       "   'client': 'YYY',\n",
       "   'order_number': '1553bf03-d03c-4ac6-8b1d-dc7aa0efe296',\n",
       "   'item_id': 'fbbbcc7d-d832-457d-b5c3-6032633eda30',\n",
       "   'quantity': 78},\n",
       "  {'supplier': 'DDD',\n",
       "   'client': 'YYY',\n",
       "   'order_number': '68112d2e-dc3b-47a4-8ee3-284fe7b54018',\n",
       "   'item_id': '9154aad6-3404-4cf5-9cab-3cd2919e1a92',\n",
       "   'quantity': 90},\n",
       "  {'supplier': 'BBB',\n",
       "   'client': 'YYY',\n",
       "   'order_number': 'fa6e9931-6a5e-4403-9711-2ec658575edd',\n",
       "   'item_id': '5202fa9a-9238-488b-97f7-8f375969baa9',\n",
       "   'quantity': 44},\n",
       "  {'supplier': 'CCC',\n",
       "   'client': 'YYY',\n",
       "   'order_number': 'e684fcfb-ab38-47fe-8777-6cae113026d7',\n",
       "   'item_id': '2c58d20d-9305-40f2-bd5a-13a7f7f4cd64',\n",
       "   'quantity': 72},\n",
       "  {'supplier': 'CCC',\n",
       "   'client': 'YYY',\n",
       "   'order_number': '261def02-7759-4b49-a4c9-8fb1f1cca9d5',\n",
       "   'item_id': 'b746bd0d-6455-4631-817a-37d7b949e806',\n",
       "   'quantity': 92},\n",
       "  {'supplier': 'EEE',\n",
       "   'client': 'YYY',\n",
       "   'order_number': '49052cf6-8557-4407-87f7-f499cab497bd',\n",
       "   'item_id': 'fd8d1ae3-c3c7-45ce-8ee5-6e25ab8b20a2',\n",
       "   'quantity': 90},\n",
       "  {'supplier': 'CCC',\n",
       "   'client': 'YYY',\n",
       "   'order_number': 'fffb8784-0572-4aa2-825f-4a57fe6ead17',\n",
       "   'item_id': 'f1b209dc-a8ee-4b84-af75-104e29d6c00d',\n",
       "   'quantity': 31},\n",
       "  {'supplier': 'AAA',\n",
       "   'client': 'YYY',\n",
       "   'order_number': '5d80e8fc-6e6c-40c6-9dc1-9068c597fe8c',\n",
       "   'item_id': 'd9f5a993-8823-4532-9cb3-264e170f9a16',\n",
       "   'quantity': 58},\n",
       "  {'supplier': 'AAA',\n",
       "   'client': 'YYY',\n",
       "   'order_number': '24f0e13b-75f9-4d77-9a0e-5595f72c3748',\n",
       "   'item_id': '4c9ae13f-8d1f-44e1-856a-48933f274a54',\n",
       "   'quantity': 39},\n",
       "  {'supplier': 'CCC',\n",
       "   'client': 'YYY',\n",
       "   'order_number': '05177d1e-24f2-4247-aeac-d574d4a118a5',\n",
       "   'item_id': '323fd50e-abc9-4178-be4a-b7e4a1dc897d',\n",
       "   'quantity': 13}],\n",
       " 'XXX': [{'supplier': 'BBB',\n",
       "   'client': 'XXX',\n",
       "   'order_number': '027876a1-52be-449a-8c69-bd834451711c',\n",
       "   'item_id': '0a88712c-2949-4a9b-af50-e881b67e318a',\n",
       "   'quantity': 18},\n",
       "  {'supplier': 'AAA',\n",
       "   'client': 'XXX',\n",
       "   'order_number': 'ac0f5ade-9815-4e6c-be9b-6e5fda7822fb',\n",
       "   'item_id': '0d5a0253-efe5-442a-8467-90688e651318',\n",
       "   'quantity': 69},\n",
       "  {'supplier': 'AAA',\n",
       "   'client': 'XXX',\n",
       "   'order_number': '42bdbad6-71d3-4c8a-903e-59386c97d31a',\n",
       "   'item_id': 'c6b16897-312d-4e82-bbe6-9a7b85c00780',\n",
       "   'quantity': 56},\n",
       "  {'supplier': 'DDD',\n",
       "   'client': 'XXX',\n",
       "   'order_number': '27aa58e7-b814-4b62-88f4-5c47d29fae4b',\n",
       "   'item_id': 'f76c50b6-08e0-444d-9926-9643076e2280',\n",
       "   'quantity': 32},\n",
       "  {'supplier': 'AAA',\n",
       "   'client': 'XXX',\n",
       "   'order_number': '46127b67-52ca-4f8f-a678-783de131e919',\n",
       "   'item_id': '976af45d-29a3-4c1a-8c2d-14f1fa0941e7',\n",
       "   'quantity': 66},\n",
       "  {'supplier': 'EEE',\n",
       "   'client': 'XXX',\n",
       "   'order_number': 'fbc353bb-365b-446c-a481-2a3d047a082d',\n",
       "   'item_id': '00b0766c-daeb-4fef-b843-28ec2a7edbe4',\n",
       "   'quantity': 91},\n",
       "  {'supplier': 'AAA',\n",
       "   'client': 'XXX',\n",
       "   'order_number': 'd9a7e33f-dd6f-4ac5-a275-ce75711193e0',\n",
       "   'item_id': '977604ae-fa08-41ea-96e6-fafea6d638f6',\n",
       "   'quantity': 70},\n",
       "  {'supplier': 'BBB',\n",
       "   'client': 'XXX',\n",
       "   'order_number': '18ea84f4-6d25-4a12-a5ae-5642f50d6b49',\n",
       "   'item_id': 'ce9ebcf8-f78b-4ee6-9222-7d5bff74d90b',\n",
       "   'quantity': 57},\n",
       "  {'supplier': 'AAA',\n",
       "   'client': 'XXX',\n",
       "   'order_number': 'caf44aba-c748-4f11-81e3-5441f99dba15',\n",
       "   'item_id': 'b4765947-1722-4870-974e-d6b6b15adcba',\n",
       "   'quantity': 61},\n",
       "  {'supplier': 'EEE',\n",
       "   'client': 'XXX',\n",
       "   'order_number': '5e41b19f-be9f-47ce-96d6-998812cabaf2',\n",
       "   'item_id': 'a5372578-4266-4732-9195-b36ac299343e',\n",
       "   'quantity': 67},\n",
       "  {'supplier': 'EEE',\n",
       "   'client': 'XXX',\n",
       "   'order_number': '9612bb28-d61b-4ef9-ae35-3b7043c13ab9',\n",
       "   'item_id': 'dc3285d0-2853-4305-b362-7e92abafcb80',\n",
       "   'quantity': 25},\n",
       "  {'supplier': 'BBB',\n",
       "   'client': 'XXX',\n",
       "   'order_number': '00d27a5c-5a26-4fdf-a866-1700da734aa9',\n",
       "   'item_id': 'd4e6b72f-9dc9-4b9d-8040-f118d82f3637',\n",
       "   'quantity': 22},\n",
       "  {'supplier': 'AAA',\n",
       "   'client': 'XXX',\n",
       "   'order_number': '06b19ed1-cc05-4fc5-b85c-2a1d301efbae',\n",
       "   'item_id': '1a609a5a-ea7e-43c9-942e-1986e5afdf57',\n",
       "   'quantity': 15},\n",
       "  {'supplier': 'AAA',\n",
       "   'client': 'XXX',\n",
       "   'order_number': 'c6c76245-d3fd-4cd3-ac87-6a9e043058f2',\n",
       "   'item_id': 'a5f8ae80-f680-486c-a732-6be1ac17b114',\n",
       "   'quantity': 9},\n",
       "  {'supplier': 'CCC',\n",
       "   'client': 'XXX',\n",
       "   'order_number': '7f7cabca-690e-4c94-8f76-a0f4433191e6',\n",
       "   'item_id': '9296a606-4ae4-404d-9bd9-08cfedf61bed',\n",
       "   'quantity': 56},\n",
       "  {'supplier': 'CCC',\n",
       "   'client': 'XXX',\n",
       "   'order_number': 'c2740b5a-21f9-401c-9956-51efc0e10711',\n",
       "   'item_id': 'd1643c39-4004-49fb-b75d-2739b17f9740',\n",
       "   'quantity': 94},\n",
       "  {'supplier': 'EEE',\n",
       "   'client': 'XXX',\n",
       "   'order_number': 'f6b54d94-5107-4457-9b9f-f6310969a831',\n",
       "   'item_id': 'eace19a4-6c9e-4e4b-b603-db99dd9a44da',\n",
       "   'quantity': 16},\n",
       "  {'supplier': 'DDD',\n",
       "   'client': 'XXX',\n",
       "   'order_number': '6f508bce-8c81-4c5b-8e08-47602bb8711b',\n",
       "   'item_id': 'eb1b4d53-4bb1-46ba-b8bb-8b7cc8933ee8',\n",
       "   'quantity': 84},\n",
       "  {'supplier': 'AAA',\n",
       "   'client': 'XXX',\n",
       "   'order_number': 'f03f05c2-1fa3-4d4d-9629-7a01ef690c35',\n",
       "   'item_id': '76481cc8-f683-478a-947e-8a2fd5d59101',\n",
       "   'quantity': 95},\n",
       "  {'supplier': 'AAA',\n",
       "   'client': 'XXX',\n",
       "   'order_number': 'f14d016c-ecae-46aa-bbbb-82f6c65fdcf0',\n",
       "   'item_id': '31ef86cf-ba11-4b21-8ac2-e0c849887958',\n",
       "   'quantity': 18},\n",
       "  {'supplier': 'EEE',\n",
       "   'client': 'XXX',\n",
       "   'order_number': '8a2328e9-497a-4e07-9e19-489d8f50dc78',\n",
       "   'item_id': '871a846e-6263-442a-b54a-32a7a255658a',\n",
       "   'quantity': 87},\n",
       "  {'supplier': 'AAA',\n",
       "   'client': 'XXX',\n",
       "   'order_number': 'a4cb628c-5bf5-486d-9d26-dd9000cde76f',\n",
       "   'item_id': 'c708e186-7051-4ce5-9848-d1e9975e0a6d',\n",
       "   'quantity': 90},\n",
       "  {'supplier': 'DDD',\n",
       "   'client': 'XXX',\n",
       "   'order_number': '5e0d790a-0a08-44b1-92e7-4e3738559b97',\n",
       "   'item_id': 'e281daee-aedd-4637-a5e7-b0dcec0d4b82',\n",
       "   'quantity': 40},\n",
       "  {'supplier': 'DDD',\n",
       "   'client': 'XXX',\n",
       "   'order_number': 'ff958053-e18d-4279-ad16-77bea114c723',\n",
       "   'item_id': 'ea8cdb7c-14e4-4acc-ad65-1c07df61aa71',\n",
       "   'quantity': 1},\n",
       "  {'supplier': 'BBB',\n",
       "   'client': 'XXX',\n",
       "   'order_number': 'b3508803-3828-4d22-aefa-34892dc3f11e',\n",
       "   'item_id': '93e2f3bf-7f3c-4ce0-bdfa-a8226cb08db9',\n",
       "   'quantity': 15},\n",
       "  {'supplier': 'BBB',\n",
       "   'client': 'XXX',\n",
       "   'order_number': 'e13889ef-7b06-4715-bc8b-43d1644e403d',\n",
       "   'item_id': 'd5c61130-66c2-4270-8936-c4509ba5523a',\n",
       "   'quantity': 3}],\n",
       " 'ZZZ': [{'supplier': 'AAA',\n",
       "   'client': 'ZZZ',\n",
       "   'order_number': '7db4bff4-c080-471e-b421-459ba1bb07e9',\n",
       "   'item_id': '130123e9-1825-42e7-b0aa-7a47c9c310ff',\n",
       "   'quantity': 88},\n",
       "  {'supplier': 'CCC',\n",
       "   'client': 'ZZZ',\n",
       "   'order_number': 'cb800f4f-fc19-4a05-82d5-87ba29886574',\n",
       "   'item_id': '6ce3e6f5-a917-4295-b992-53a0cc7e7969',\n",
       "   'quantity': 71},\n",
       "  {'supplier': 'AAA',\n",
       "   'client': 'ZZZ',\n",
       "   'order_number': '99b16a11-fdf8-405a-8e74-5829ada7521e',\n",
       "   'item_id': '48e47b15-d45a-48c2-b81d-5b4238cd112b',\n",
       "   'quantity': 93},\n",
       "  {'supplier': 'DDD',\n",
       "   'client': 'ZZZ',\n",
       "   'order_number': '01a7d54d-e728-49df-94ab-a6743c8f2be2',\n",
       "   'item_id': 'b2a0cfb5-ec7d-4341-96fd-399776636a40',\n",
       "   'quantity': 79},\n",
       "  {'supplier': 'CCC',\n",
       "   'client': 'ZZZ',\n",
       "   'order_number': '84eb467b-3890-434a-94e4-1a56a8125fde',\n",
       "   'item_id': '7a814d3d-8ae1-4920-b276-242d8c34f5c6',\n",
       "   'quantity': 25},\n",
       "  {'supplier': 'DDD',\n",
       "   'client': 'ZZZ',\n",
       "   'order_number': '2de9b6fb-a513-475f-be47-e3087bae9e5c',\n",
       "   'item_id': 'a559ed1c-a878-46da-b2f8-7ae5b110ebc4',\n",
       "   'quantity': 39},\n",
       "  {'supplier': 'AAA',\n",
       "   'client': 'ZZZ',\n",
       "   'order_number': 'cc80a7e7-d929-409b-8a4d-e917a61cf98b',\n",
       "   'item_id': '77e04009-1076-4d93-90e4-bb014a630327',\n",
       "   'quantity': 87},\n",
       "  {'supplier': 'CCC',\n",
       "   'client': 'ZZZ',\n",
       "   'order_number': '1c574dfb-26d1-4902-9718-6b10c3d985fd',\n",
       "   'item_id': '823bdfa6-a9a2-492f-811d-c4629ce7cc8a',\n",
       "   'quantity': 42},\n",
       "  {'supplier': 'EEE',\n",
       "   'client': 'ZZZ',\n",
       "   'order_number': '958cbd9d-64f3-4a11-9bd5-3a0bbee7473e',\n",
       "   'item_id': '45efaab5-0f08-4be7-9fa3-a3ca96e16206',\n",
       "   'quantity': 63},\n",
       "  {'supplier': 'BBB',\n",
       "   'client': 'ZZZ',\n",
       "   'order_number': 'd4310512-5f2e-48b2-b4cc-7302f1683db6',\n",
       "   'item_id': '4a93fa62-bf97-47fc-8b76-1ea011687d97',\n",
       "   'quantity': 94},\n",
       "  {'supplier': 'CCC',\n",
       "   'client': 'ZZZ',\n",
       "   'order_number': 'fbac1286-1db4-439c-934d-e2e877be1ce2',\n",
       "   'item_id': 'e9feb92e-d6fa-4538-a7da-e33063ce44e4',\n",
       "   'quantity': 91},\n",
       "  {'supplier': 'BBB',\n",
       "   'client': 'ZZZ',\n",
       "   'order_number': '078eeac4-25ad-4cb9-8c84-c83c0475854c',\n",
       "   'item_id': '56621f6e-81c2-4e85-9596-489f727283af',\n",
       "   'quantity': 74},\n",
       "  {'supplier': 'EEE',\n",
       "   'client': 'ZZZ',\n",
       "   'order_number': '223d0c5b-a487-47f0-a6c5-8df186d8a09e',\n",
       "   'item_id': 'f80839bb-e043-4d84-ae22-3ec054c9d66b',\n",
       "   'quantity': 4},\n",
       "  {'supplier': 'EEE',\n",
       "   'client': 'ZZZ',\n",
       "   'order_number': 'f1afe0df-6ab0-4b60-b70f-a22b0d24dcce',\n",
       "   'item_id': '6c4071d9-e548-4ec5-9b9a-b2eccad1fbc3',\n",
       "   'quantity': 51},\n",
       "  {'supplier': 'AAA',\n",
       "   'client': 'ZZZ',\n",
       "   'order_number': 'c632c34a-7bb4-48f3-b469-8e00d4ec4146',\n",
       "   'item_id': 'cb1b6924-daa0-4a39-9f38-28fee3da4ce4',\n",
       "   'quantity': 25},\n",
       "  {'supplier': 'BBB',\n",
       "   'client': 'ZZZ',\n",
       "   'order_number': 'cce4c374-43e4-4fc0-835b-502347625d98',\n",
       "   'item_id': '0eada777-6664-45f3-a577-fd39ac7b4ae8',\n",
       "   'quantity': 62},\n",
       "  {'supplier': 'BBB',\n",
       "   'client': 'ZZZ',\n",
       "   'order_number': 'a78e1359-9cfe-4ac2-8419-ed420b2b3013',\n",
       "   'item_id': '404d9511-1a6a-452c-a8de-14b5a04e248b',\n",
       "   'quantity': 87},\n",
       "  {'supplier': 'BBB',\n",
       "   'client': 'ZZZ',\n",
       "   'order_number': '36237412-de17-476f-89e1-43e7f346b95e',\n",
       "   'item_id': '2576595e-293f-4754-a4f8-1b8da54c871d',\n",
       "   'quantity': 83},\n",
       "  {'supplier': 'BBB',\n",
       "   'client': 'ZZZ',\n",
       "   'order_number': 'ae20c574-e8a1-44a9-ad7b-88b5f7c5279a',\n",
       "   'item_id': 'dc7f6121-0dbd-4cf0-ac7e-e087ed83dba5',\n",
       "   'quantity': 65},\n",
       "  {'supplier': 'DDD',\n",
       "   'client': 'ZZZ',\n",
       "   'order_number': 'e61b960e-85bc-45a0-bb27-4c1e322fb33f',\n",
       "   'item_id': '8b074d3f-3d89-425a-bb5f-61ad22ef9ea6',\n",
       "   'quantity': 77},\n",
       "  {'supplier': 'BBB',\n",
       "   'client': 'ZZZ',\n",
       "   'order_number': '0774d421-a0de-4f9e-b852-f0136b184d6f',\n",
       "   'item_id': 'd5eca662-122c-4eb1-9cc2-9d0b9cdb9f30',\n",
       "   'quantity': 87},\n",
       "  {'supplier': 'BBB',\n",
       "   'client': 'ZZZ',\n",
       "   'order_number': '62f406c3-74e1-4f28-92ba-5159c2440131',\n",
       "   'item_id': '2a3ab593-1de4-4d06-a7f9-3924d1f35559',\n",
       "   'quantity': 61},\n",
       "  {'supplier': 'DDD',\n",
       "   'client': 'ZZZ',\n",
       "   'order_number': '2588bb35-4e1b-4b04-a735-0cbe242952ab',\n",
       "   'item_id': 'aae5de0a-2eef-43c3-9c1d-c7cd097d33cf',\n",
       "   'quantity': 1},\n",
       "  {'supplier': 'DDD',\n",
       "   'client': 'ZZZ',\n",
       "   'order_number': 'b5d4fdac-190d-43ca-8c37-61020b83fad3',\n",
       "   'item_id': '531175a2-76d2-4e62-9f52-c7101e105021',\n",
       "   'quantity': 5},\n",
       "  {'supplier': 'DDD',\n",
       "   'client': 'ZZZ',\n",
       "   'order_number': '7d5828b3-1caf-4a75-9597-102601178212',\n",
       "   'item_id': '7984261c-25da-491f-b62c-2dab35d9949c',\n",
       "   'quantity': 54},\n",
       "  {'supplier': 'BBB',\n",
       "   'client': 'ZZZ',\n",
       "   'order_number': 'c6c7a2c6-285e-4787-98f8-a6820caf41a5',\n",
       "   'item_id': 'fe8a920e-fe91-449a-ade6-280b79181fb3',\n",
       "   'quantity': 93},\n",
       "  {'supplier': 'BBB',\n",
       "   'client': 'ZZZ',\n",
       "   'order_number': '72d08592-eaa9-457a-8870-76470bbd9c4f',\n",
       "   'item_id': 'c9e3fa59-b154-49ac-8b6b-cfd79d5bb91c',\n",
       "   'quantity': 52},\n",
       "  {'supplier': 'BBB',\n",
       "   'client': 'ZZZ',\n",
       "   'order_number': '698fe5f0-0776-4a09-bb93-2763ad62c631',\n",
       "   'item_id': '0076a3a3-4b7c-4dd2-bbe5-36a6120ede6a',\n",
       "   'quantity': 92},\n",
       "  {'supplier': 'AAA',\n",
       "   'client': 'ZZZ',\n",
       "   'order_number': 'a7b70f37-690d-48c4-a638-96e30c2baaf8',\n",
       "   'item_id': '8c7be485-a5c0-4597-a959-89faaf242efc',\n",
       "   'quantity': 25},\n",
       "  {'supplier': 'AAA',\n",
       "   'client': 'ZZZ',\n",
       "   'order_number': '534c1481-fabf-499a-8ade-7b63e62bce13',\n",
       "   'item_id': 'cfc513a2-206f-4c21-9fe0-f69966c6cf8d',\n",
       "   'quantity': 36},\n",
       "  {'supplier': 'DDD',\n",
       "   'client': 'ZZZ',\n",
       "   'order_number': '632f598e-9d3b-405a-b579-ec6a714fb749',\n",
       "   'item_id': '6ee50214-fdd7-4d15-86f5-66c3aa2f6add',\n",
       "   'quantity': 33},\n",
       "  {'supplier': 'AAA',\n",
       "   'client': 'ZZZ',\n",
       "   'order_number': '3896c494-684e-4e1b-abf7-f0eb1e7a0465',\n",
       "   'item_id': '70ac1cd1-e352-4097-84ff-264d3e8d2535',\n",
       "   'quantity': 27}]}"
      ]
     },
     "execution_count": 26,
     "metadata": {},
     "output_type": "execute_result"
    }
   ],
   "source": [
    "client_orders"
   ]
  },
  {
   "cell_type": "markdown",
   "id": "e2760154",
   "metadata": {},
   "source": [
    "Now let's do the same thing, but using a `defaultdict` instead, using `list` for our factory function - this means the default will be an empty list."
   ]
  },
  {
   "cell_type": "code",
   "execution_count": 27,
   "id": "acecda44",
   "metadata": {},
   "outputs": [],
   "source": [
    "client_orders_dd = defaultdict(list)\n",
    "for order in orders: \n",
    "    client_orders_dd[order['client']].append(order)"
   ]
  },
  {
   "cell_type": "code",
   "execution_count": 28,
   "id": "af41490b",
   "metadata": {},
   "outputs": [
    {
     "data": {
      "text/plain": [
       "{'WWW': [{'supplier': 'DDD',\n",
       "   'client': 'WWW',\n",
       "   'order_number': 'b09f3324-5f76-411d-803c-0615d6039917',\n",
       "   'item_id': '70efc863-cb37-44d0-9497-4c5baafcd5dd',\n",
       "   'quantity': 6},\n",
       "  {'supplier': 'CCC',\n",
       "   'client': 'WWW',\n",
       "   'order_number': 'd0909dbe-c4ed-4c7b-b2ec-80e7bcf60b50',\n",
       "   'item_id': '05e9cf21-76be-4f7f-ba7c-507ae6f7afbc',\n",
       "   'quantity': 52},\n",
       "  {'supplier': 'CCC',\n",
       "   'client': 'WWW',\n",
       "   'order_number': 'd9ea3705-3903-43dc-80b4-8533783c77d1',\n",
       "   'item_id': 'cea5ee6d-51fd-4d39-bf07-d353efa38b37',\n",
       "   'quantity': 46},\n",
       "  {'supplier': 'CCC',\n",
       "   'client': 'WWW',\n",
       "   'order_number': 'dfe4a1cf-c8c1-4359-9913-8e2dcc9c6730',\n",
       "   'item_id': '07ee5f7c-f8e3-47f5-ac01-a328df1e1adf',\n",
       "   'quantity': 72},\n",
       "  {'supplier': 'DDD',\n",
       "   'client': 'WWW',\n",
       "   'order_number': 'cfcbcaf2-9625-42de-bbba-ad73a0eaee51',\n",
       "   'item_id': '2e32f529-5c2d-4ea6-9f8d-eccd0de1f1c3',\n",
       "   'quantity': 67},\n",
       "  {'supplier': 'BBB',\n",
       "   'client': 'WWW',\n",
       "   'order_number': '35240eff-b8f9-4d57-a65b-8936aa0b959b',\n",
       "   'item_id': 'b417ace3-128d-4fdb-af3f-ff4272c6a927',\n",
       "   'quantity': 12},\n",
       "  {'supplier': 'AAA',\n",
       "   'client': 'WWW',\n",
       "   'order_number': 'e1d72244-8808-40d4-b2e6-ca32783d0d48',\n",
       "   'item_id': '4eb2e09d-41b2-4d6e-9f6a-b550e541a8e8',\n",
       "   'quantity': 41},\n",
       "  {'supplier': 'AAA',\n",
       "   'client': 'WWW',\n",
       "   'order_number': 'b6c79299-d82c-4c3b-bb42-7abe8bb4123c',\n",
       "   'item_id': 'e6df6b58-b902-4066-8be3-a924fbbdbf30',\n",
       "   'quantity': 91},\n",
       "  {'supplier': 'EEE',\n",
       "   'client': 'WWW',\n",
       "   'order_number': 'a6e3e131-40e0-4b9f-a557-afd0b73a89a7',\n",
       "   'item_id': 'ad22d607-26f6-4af7-9b7a-0ce1ccb215d0',\n",
       "   'quantity': 75},\n",
       "  {'supplier': 'CCC',\n",
       "   'client': 'WWW',\n",
       "   'order_number': '2ed34923-41e9-4c12-9b68-c67cf767bbca',\n",
       "   'item_id': '2a3ab59d-2e0e-4020-80f4-133319e20012',\n",
       "   'quantity': 64},\n",
       "  {'supplier': 'CCC',\n",
       "   'client': 'WWW',\n",
       "   'order_number': 'b6870ae1-1b65-43fb-8881-76b5a960b909',\n",
       "   'item_id': 'd8e6a52e-126d-40ea-a323-4f89d6ec0726',\n",
       "   'quantity': 8},\n",
       "  {'supplier': 'AAA',\n",
       "   'client': 'WWW',\n",
       "   'order_number': '2f862f96-9926-4032-bf95-05384563a0c5',\n",
       "   'item_id': '7d752ac9-5699-4b07-945e-4f268092f115',\n",
       "   'quantity': 80},\n",
       "  {'supplier': 'AAA',\n",
       "   'client': 'WWW',\n",
       "   'order_number': '4338492d-81e1-4339-85e9-b4f14c99be2e',\n",
       "   'item_id': 'e3d3c738-2fa3-4e45-a487-46cd9aefb0e6',\n",
       "   'quantity': 26},\n",
       "  {'supplier': 'EEE',\n",
       "   'client': 'WWW',\n",
       "   'order_number': '68ed675f-0083-4731-bd71-e1f9a64ac9d5',\n",
       "   'item_id': '15f9dc9f-3276-461a-88b2-9d2ac488e6e8',\n",
       "   'quantity': 86},\n",
       "  {'supplier': 'CCC',\n",
       "   'client': 'WWW',\n",
       "   'order_number': '042b9c12-2bdf-45a9-92c7-f6c583bbe365',\n",
       "   'item_id': '793286f5-7313-4491-ae27-04a7ab35607a',\n",
       "   'quantity': 85},\n",
       "  {'supplier': 'AAA',\n",
       "   'client': 'WWW',\n",
       "   'order_number': 'c3547308-4dc2-4875-b8ed-21ca6a8e5062',\n",
       "   'item_id': '5568cd9a-7ad3-4aff-bc23-a2363fb2c260',\n",
       "   'quantity': 95},\n",
       "  {'supplier': 'BBB',\n",
       "   'client': 'WWW',\n",
       "   'order_number': 'd8f2ad2c-1905-4205-b088-2e8076230cbb',\n",
       "   'item_id': 'b20563f3-f0bf-42af-ae86-b5917fd4cd34',\n",
       "   'quantity': 46},\n",
       "  {'supplier': 'CCC',\n",
       "   'client': 'WWW',\n",
       "   'order_number': 'd8f5be30-a714-488c-a6ed-e3167fef24d9',\n",
       "   'item_id': 'e40f4bff-b32b-4044-8180-a9a2c1a86875',\n",
       "   'quantity': 96},\n",
       "  {'supplier': 'BBB',\n",
       "   'client': 'WWW',\n",
       "   'order_number': 'cf619cc2-2575-4e5d-8a4f-d63fd662139d',\n",
       "   'item_id': 'ee5b0b7e-dbd9-46d1-a503-7643f7530503',\n",
       "   'quantity': 49},\n",
       "  {'supplier': 'EEE',\n",
       "   'client': 'WWW',\n",
       "   'order_number': 'ae2fed82-bef6-4c12-ba02-7c8f6b5ad244',\n",
       "   'item_id': '7c04f2a3-8441-4825-83d6-260c7df2da0a',\n",
       "   'quantity': 5},\n",
       "  {'supplier': 'DDD',\n",
       "   'client': 'WWW',\n",
       "   'order_number': '071ec54d-7809-4038-a15c-af4fe10f14cd',\n",
       "   'item_id': '370a8790-1e44-4b58-888b-e63383e933bc',\n",
       "   'quantity': 99},\n",
       "  {'supplier': 'BBB',\n",
       "   'client': 'WWW',\n",
       "   'order_number': '4c797b68-9829-46e5-9746-e0b657979ce6',\n",
       "   'item_id': '19b97855-fdce-4989-9562-41a062017866',\n",
       "   'quantity': 68},\n",
       "  {'supplier': 'DDD',\n",
       "   'client': 'WWW',\n",
       "   'order_number': '29a8ce56-848d-4234-943c-030cbaf5f576',\n",
       "   'item_id': 'b2e08bc8-6b52-49c8-8ad1-62ee8757e417',\n",
       "   'quantity': 81}],\n",
       " 'YYY': [{'supplier': 'EEE',\n",
       "   'client': 'YYY',\n",
       "   'order_number': '7580a99c-1a7f-4330-856f-04901c16ef44',\n",
       "   'item_id': '3d7da17b-0397-4947-b12c-6b77ab323b42',\n",
       "   'quantity': 65},\n",
       "  {'supplier': 'EEE',\n",
       "   'client': 'YYY',\n",
       "   'order_number': '1002989b-7423-4be0-895c-8e57dbb27270',\n",
       "   'item_id': '988750eb-4641-4378-9139-c3369ece4044',\n",
       "   'quantity': 40},\n",
       "  {'supplier': 'CCC',\n",
       "   'client': 'YYY',\n",
       "   'order_number': '4c34e75e-fa40-47bc-8716-bcf1e2402878',\n",
       "   'item_id': 'a5a6fe61-6deb-452e-abb2-ba26a34be2a5',\n",
       "   'quantity': 71},\n",
       "  {'supplier': 'EEE',\n",
       "   'client': 'YYY',\n",
       "   'order_number': '32b80504-fe9c-4716-a61f-17abf316371e',\n",
       "   'item_id': '993a74bf-37c0-49da-abcc-7c0a2162ba35',\n",
       "   'quantity': 31},\n",
       "  {'supplier': 'EEE',\n",
       "   'client': 'YYY',\n",
       "   'order_number': 'a7be3e07-4b6c-4032-8d8d-ef53837dbf56',\n",
       "   'item_id': 'f3370015-48bd-47d9-b641-ee1aaed1f2b1',\n",
       "   'quantity': 38},\n",
       "  {'supplier': 'BBB',\n",
       "   'client': 'YYY',\n",
       "   'order_number': 'e6466150-cf0a-4edd-8711-0b1d3ebdd904',\n",
       "   'item_id': '4bbaf157-9499-4652-89b8-a202a7733d1d',\n",
       "   'quantity': 24},\n",
       "  {'supplier': 'BBB',\n",
       "   'client': 'YYY',\n",
       "   'order_number': '8653ad83-e68d-40b7-ac29-7b2e64f5d204',\n",
       "   'item_id': '64a2e7d0-9e1f-40a8-815f-d1646352f9d5',\n",
       "   'quantity': 5},\n",
       "  {'supplier': 'BBB',\n",
       "   'client': 'YYY',\n",
       "   'order_number': 'a9e15748-f289-45e4-bf28-fef2dbf05ffc',\n",
       "   'item_id': '32695323-dc1e-43e8-a59d-ec55ba6a80a0',\n",
       "   'quantity': 87},\n",
       "  {'supplier': 'AAA',\n",
       "   'client': 'YYY',\n",
       "   'order_number': 'f4220ba3-ea61-44b8-9322-4e755ae05ca4',\n",
       "   'item_id': '3027cad2-8489-4ef9-801b-b9aadf16a89d',\n",
       "   'quantity': 90},\n",
       "  {'supplier': 'AAA',\n",
       "   'client': 'YYY',\n",
       "   'order_number': '1553bf03-d03c-4ac6-8b1d-dc7aa0efe296',\n",
       "   'item_id': 'fbbbcc7d-d832-457d-b5c3-6032633eda30',\n",
       "   'quantity': 78},\n",
       "  {'supplier': 'DDD',\n",
       "   'client': 'YYY',\n",
       "   'order_number': '68112d2e-dc3b-47a4-8ee3-284fe7b54018',\n",
       "   'item_id': '9154aad6-3404-4cf5-9cab-3cd2919e1a92',\n",
       "   'quantity': 90},\n",
       "  {'supplier': 'BBB',\n",
       "   'client': 'YYY',\n",
       "   'order_number': 'fa6e9931-6a5e-4403-9711-2ec658575edd',\n",
       "   'item_id': '5202fa9a-9238-488b-97f7-8f375969baa9',\n",
       "   'quantity': 44},\n",
       "  {'supplier': 'CCC',\n",
       "   'client': 'YYY',\n",
       "   'order_number': 'e684fcfb-ab38-47fe-8777-6cae113026d7',\n",
       "   'item_id': '2c58d20d-9305-40f2-bd5a-13a7f7f4cd64',\n",
       "   'quantity': 72},\n",
       "  {'supplier': 'CCC',\n",
       "   'client': 'YYY',\n",
       "   'order_number': '261def02-7759-4b49-a4c9-8fb1f1cca9d5',\n",
       "   'item_id': 'b746bd0d-6455-4631-817a-37d7b949e806',\n",
       "   'quantity': 92},\n",
       "  {'supplier': 'EEE',\n",
       "   'client': 'YYY',\n",
       "   'order_number': '49052cf6-8557-4407-87f7-f499cab497bd',\n",
       "   'item_id': 'fd8d1ae3-c3c7-45ce-8ee5-6e25ab8b20a2',\n",
       "   'quantity': 90},\n",
       "  {'supplier': 'CCC',\n",
       "   'client': 'YYY',\n",
       "   'order_number': 'fffb8784-0572-4aa2-825f-4a57fe6ead17',\n",
       "   'item_id': 'f1b209dc-a8ee-4b84-af75-104e29d6c00d',\n",
       "   'quantity': 31},\n",
       "  {'supplier': 'AAA',\n",
       "   'client': 'YYY',\n",
       "   'order_number': '5d80e8fc-6e6c-40c6-9dc1-9068c597fe8c',\n",
       "   'item_id': 'd9f5a993-8823-4532-9cb3-264e170f9a16',\n",
       "   'quantity': 58},\n",
       "  {'supplier': 'AAA',\n",
       "   'client': 'YYY',\n",
       "   'order_number': '24f0e13b-75f9-4d77-9a0e-5595f72c3748',\n",
       "   'item_id': '4c9ae13f-8d1f-44e1-856a-48933f274a54',\n",
       "   'quantity': 39},\n",
       "  {'supplier': 'CCC',\n",
       "   'client': 'YYY',\n",
       "   'order_number': '05177d1e-24f2-4247-aeac-d574d4a118a5',\n",
       "   'item_id': '323fd50e-abc9-4178-be4a-b7e4a1dc897d',\n",
       "   'quantity': 13}],\n",
       " 'XXX': [{'supplier': 'BBB',\n",
       "   'client': 'XXX',\n",
       "   'order_number': '027876a1-52be-449a-8c69-bd834451711c',\n",
       "   'item_id': '0a88712c-2949-4a9b-af50-e881b67e318a',\n",
       "   'quantity': 18},\n",
       "  {'supplier': 'AAA',\n",
       "   'client': 'XXX',\n",
       "   'order_number': 'ac0f5ade-9815-4e6c-be9b-6e5fda7822fb',\n",
       "   'item_id': '0d5a0253-efe5-442a-8467-90688e651318',\n",
       "   'quantity': 69},\n",
       "  {'supplier': 'AAA',\n",
       "   'client': 'XXX',\n",
       "   'order_number': '42bdbad6-71d3-4c8a-903e-59386c97d31a',\n",
       "   'item_id': 'c6b16897-312d-4e82-bbe6-9a7b85c00780',\n",
       "   'quantity': 56},\n",
       "  {'supplier': 'DDD',\n",
       "   'client': 'XXX',\n",
       "   'order_number': '27aa58e7-b814-4b62-88f4-5c47d29fae4b',\n",
       "   'item_id': 'f76c50b6-08e0-444d-9926-9643076e2280',\n",
       "   'quantity': 32},\n",
       "  {'supplier': 'AAA',\n",
       "   'client': 'XXX',\n",
       "   'order_number': '46127b67-52ca-4f8f-a678-783de131e919',\n",
       "   'item_id': '976af45d-29a3-4c1a-8c2d-14f1fa0941e7',\n",
       "   'quantity': 66},\n",
       "  {'supplier': 'EEE',\n",
       "   'client': 'XXX',\n",
       "   'order_number': 'fbc353bb-365b-446c-a481-2a3d047a082d',\n",
       "   'item_id': '00b0766c-daeb-4fef-b843-28ec2a7edbe4',\n",
       "   'quantity': 91},\n",
       "  {'supplier': 'AAA',\n",
       "   'client': 'XXX',\n",
       "   'order_number': 'd9a7e33f-dd6f-4ac5-a275-ce75711193e0',\n",
       "   'item_id': '977604ae-fa08-41ea-96e6-fafea6d638f6',\n",
       "   'quantity': 70},\n",
       "  {'supplier': 'BBB',\n",
       "   'client': 'XXX',\n",
       "   'order_number': '18ea84f4-6d25-4a12-a5ae-5642f50d6b49',\n",
       "   'item_id': 'ce9ebcf8-f78b-4ee6-9222-7d5bff74d90b',\n",
       "   'quantity': 57},\n",
       "  {'supplier': 'AAA',\n",
       "   'client': 'XXX',\n",
       "   'order_number': 'caf44aba-c748-4f11-81e3-5441f99dba15',\n",
       "   'item_id': 'b4765947-1722-4870-974e-d6b6b15adcba',\n",
       "   'quantity': 61},\n",
       "  {'supplier': 'EEE',\n",
       "   'client': 'XXX',\n",
       "   'order_number': '5e41b19f-be9f-47ce-96d6-998812cabaf2',\n",
       "   'item_id': 'a5372578-4266-4732-9195-b36ac299343e',\n",
       "   'quantity': 67},\n",
       "  {'supplier': 'EEE',\n",
       "   'client': 'XXX',\n",
       "   'order_number': '9612bb28-d61b-4ef9-ae35-3b7043c13ab9',\n",
       "   'item_id': 'dc3285d0-2853-4305-b362-7e92abafcb80',\n",
       "   'quantity': 25},\n",
       "  {'supplier': 'BBB',\n",
       "   'client': 'XXX',\n",
       "   'order_number': '00d27a5c-5a26-4fdf-a866-1700da734aa9',\n",
       "   'item_id': 'd4e6b72f-9dc9-4b9d-8040-f118d82f3637',\n",
       "   'quantity': 22},\n",
       "  {'supplier': 'AAA',\n",
       "   'client': 'XXX',\n",
       "   'order_number': '06b19ed1-cc05-4fc5-b85c-2a1d301efbae',\n",
       "   'item_id': '1a609a5a-ea7e-43c9-942e-1986e5afdf57',\n",
       "   'quantity': 15},\n",
       "  {'supplier': 'AAA',\n",
       "   'client': 'XXX',\n",
       "   'order_number': 'c6c76245-d3fd-4cd3-ac87-6a9e043058f2',\n",
       "   'item_id': 'a5f8ae80-f680-486c-a732-6be1ac17b114',\n",
       "   'quantity': 9},\n",
       "  {'supplier': 'CCC',\n",
       "   'client': 'XXX',\n",
       "   'order_number': '7f7cabca-690e-4c94-8f76-a0f4433191e6',\n",
       "   'item_id': '9296a606-4ae4-404d-9bd9-08cfedf61bed',\n",
       "   'quantity': 56},\n",
       "  {'supplier': 'CCC',\n",
       "   'client': 'XXX',\n",
       "   'order_number': 'c2740b5a-21f9-401c-9956-51efc0e10711',\n",
       "   'item_id': 'd1643c39-4004-49fb-b75d-2739b17f9740',\n",
       "   'quantity': 94},\n",
       "  {'supplier': 'EEE',\n",
       "   'client': 'XXX',\n",
       "   'order_number': 'f6b54d94-5107-4457-9b9f-f6310969a831',\n",
       "   'item_id': 'eace19a4-6c9e-4e4b-b603-db99dd9a44da',\n",
       "   'quantity': 16},\n",
       "  {'supplier': 'DDD',\n",
       "   'client': 'XXX',\n",
       "   'order_number': '6f508bce-8c81-4c5b-8e08-47602bb8711b',\n",
       "   'item_id': 'eb1b4d53-4bb1-46ba-b8bb-8b7cc8933ee8',\n",
       "   'quantity': 84},\n",
       "  {'supplier': 'AAA',\n",
       "   'client': 'XXX',\n",
       "   'order_number': 'f03f05c2-1fa3-4d4d-9629-7a01ef690c35',\n",
       "   'item_id': '76481cc8-f683-478a-947e-8a2fd5d59101',\n",
       "   'quantity': 95},\n",
       "  {'supplier': 'AAA',\n",
       "   'client': 'XXX',\n",
       "   'order_number': 'f14d016c-ecae-46aa-bbbb-82f6c65fdcf0',\n",
       "   'item_id': '31ef86cf-ba11-4b21-8ac2-e0c849887958',\n",
       "   'quantity': 18},\n",
       "  {'supplier': 'EEE',\n",
       "   'client': 'XXX',\n",
       "   'order_number': '8a2328e9-497a-4e07-9e19-489d8f50dc78',\n",
       "   'item_id': '871a846e-6263-442a-b54a-32a7a255658a',\n",
       "   'quantity': 87},\n",
       "  {'supplier': 'AAA',\n",
       "   'client': 'XXX',\n",
       "   'order_number': 'a4cb628c-5bf5-486d-9d26-dd9000cde76f',\n",
       "   'item_id': 'c708e186-7051-4ce5-9848-d1e9975e0a6d',\n",
       "   'quantity': 90},\n",
       "  {'supplier': 'DDD',\n",
       "   'client': 'XXX',\n",
       "   'order_number': '5e0d790a-0a08-44b1-92e7-4e3738559b97',\n",
       "   'item_id': 'e281daee-aedd-4637-a5e7-b0dcec0d4b82',\n",
       "   'quantity': 40},\n",
       "  {'supplier': 'DDD',\n",
       "   'client': 'XXX',\n",
       "   'order_number': 'ff958053-e18d-4279-ad16-77bea114c723',\n",
       "   'item_id': 'ea8cdb7c-14e4-4acc-ad65-1c07df61aa71',\n",
       "   'quantity': 1},\n",
       "  {'supplier': 'BBB',\n",
       "   'client': 'XXX',\n",
       "   'order_number': 'b3508803-3828-4d22-aefa-34892dc3f11e',\n",
       "   'item_id': '93e2f3bf-7f3c-4ce0-bdfa-a8226cb08db9',\n",
       "   'quantity': 15},\n",
       "  {'supplier': 'BBB',\n",
       "   'client': 'XXX',\n",
       "   'order_number': 'e13889ef-7b06-4715-bc8b-43d1644e403d',\n",
       "   'item_id': 'd5c61130-66c2-4270-8936-c4509ba5523a',\n",
       "   'quantity': 3}],\n",
       " 'ZZZ': [{'supplier': 'AAA',\n",
       "   'client': 'ZZZ',\n",
       "   'order_number': '7db4bff4-c080-471e-b421-459ba1bb07e9',\n",
       "   'item_id': '130123e9-1825-42e7-b0aa-7a47c9c310ff',\n",
       "   'quantity': 88},\n",
       "  {'supplier': 'CCC',\n",
       "   'client': 'ZZZ',\n",
       "   'order_number': 'cb800f4f-fc19-4a05-82d5-87ba29886574',\n",
       "   'item_id': '6ce3e6f5-a917-4295-b992-53a0cc7e7969',\n",
       "   'quantity': 71},\n",
       "  {'supplier': 'AAA',\n",
       "   'client': 'ZZZ',\n",
       "   'order_number': '99b16a11-fdf8-405a-8e74-5829ada7521e',\n",
       "   'item_id': '48e47b15-d45a-48c2-b81d-5b4238cd112b',\n",
       "   'quantity': 93},\n",
       "  {'supplier': 'DDD',\n",
       "   'client': 'ZZZ',\n",
       "   'order_number': '01a7d54d-e728-49df-94ab-a6743c8f2be2',\n",
       "   'item_id': 'b2a0cfb5-ec7d-4341-96fd-399776636a40',\n",
       "   'quantity': 79},\n",
       "  {'supplier': 'CCC',\n",
       "   'client': 'ZZZ',\n",
       "   'order_number': '84eb467b-3890-434a-94e4-1a56a8125fde',\n",
       "   'item_id': '7a814d3d-8ae1-4920-b276-242d8c34f5c6',\n",
       "   'quantity': 25},\n",
       "  {'supplier': 'DDD',\n",
       "   'client': 'ZZZ',\n",
       "   'order_number': '2de9b6fb-a513-475f-be47-e3087bae9e5c',\n",
       "   'item_id': 'a559ed1c-a878-46da-b2f8-7ae5b110ebc4',\n",
       "   'quantity': 39},\n",
       "  {'supplier': 'AAA',\n",
       "   'client': 'ZZZ',\n",
       "   'order_number': 'cc80a7e7-d929-409b-8a4d-e917a61cf98b',\n",
       "   'item_id': '77e04009-1076-4d93-90e4-bb014a630327',\n",
       "   'quantity': 87},\n",
       "  {'supplier': 'CCC',\n",
       "   'client': 'ZZZ',\n",
       "   'order_number': '1c574dfb-26d1-4902-9718-6b10c3d985fd',\n",
       "   'item_id': '823bdfa6-a9a2-492f-811d-c4629ce7cc8a',\n",
       "   'quantity': 42},\n",
       "  {'supplier': 'EEE',\n",
       "   'client': 'ZZZ',\n",
       "   'order_number': '958cbd9d-64f3-4a11-9bd5-3a0bbee7473e',\n",
       "   'item_id': '45efaab5-0f08-4be7-9fa3-a3ca96e16206',\n",
       "   'quantity': 63},\n",
       "  {'supplier': 'BBB',\n",
       "   'client': 'ZZZ',\n",
       "   'order_number': 'd4310512-5f2e-48b2-b4cc-7302f1683db6',\n",
       "   'item_id': '4a93fa62-bf97-47fc-8b76-1ea011687d97',\n",
       "   'quantity': 94},\n",
       "  {'supplier': 'CCC',\n",
       "   'client': 'ZZZ',\n",
       "   'order_number': 'fbac1286-1db4-439c-934d-e2e877be1ce2',\n",
       "   'item_id': 'e9feb92e-d6fa-4538-a7da-e33063ce44e4',\n",
       "   'quantity': 91},\n",
       "  {'supplier': 'BBB',\n",
       "   'client': 'ZZZ',\n",
       "   'order_number': '078eeac4-25ad-4cb9-8c84-c83c0475854c',\n",
       "   'item_id': '56621f6e-81c2-4e85-9596-489f727283af',\n",
       "   'quantity': 74},\n",
       "  {'supplier': 'EEE',\n",
       "   'client': 'ZZZ',\n",
       "   'order_number': '223d0c5b-a487-47f0-a6c5-8df186d8a09e',\n",
       "   'item_id': 'f80839bb-e043-4d84-ae22-3ec054c9d66b',\n",
       "   'quantity': 4},\n",
       "  {'supplier': 'EEE',\n",
       "   'client': 'ZZZ',\n",
       "   'order_number': 'f1afe0df-6ab0-4b60-b70f-a22b0d24dcce',\n",
       "   'item_id': '6c4071d9-e548-4ec5-9b9a-b2eccad1fbc3',\n",
       "   'quantity': 51},\n",
       "  {'supplier': 'AAA',\n",
       "   'client': 'ZZZ',\n",
       "   'order_number': 'c632c34a-7bb4-48f3-b469-8e00d4ec4146',\n",
       "   'item_id': 'cb1b6924-daa0-4a39-9f38-28fee3da4ce4',\n",
       "   'quantity': 25},\n",
       "  {'supplier': 'BBB',\n",
       "   'client': 'ZZZ',\n",
       "   'order_number': 'cce4c374-43e4-4fc0-835b-502347625d98',\n",
       "   'item_id': '0eada777-6664-45f3-a577-fd39ac7b4ae8',\n",
       "   'quantity': 62},\n",
       "  {'supplier': 'BBB',\n",
       "   'client': 'ZZZ',\n",
       "   'order_number': 'a78e1359-9cfe-4ac2-8419-ed420b2b3013',\n",
       "   'item_id': '404d9511-1a6a-452c-a8de-14b5a04e248b',\n",
       "   'quantity': 87},\n",
       "  {'supplier': 'BBB',\n",
       "   'client': 'ZZZ',\n",
       "   'order_number': '36237412-de17-476f-89e1-43e7f346b95e',\n",
       "   'item_id': '2576595e-293f-4754-a4f8-1b8da54c871d',\n",
       "   'quantity': 83},\n",
       "  {'supplier': 'BBB',\n",
       "   'client': 'ZZZ',\n",
       "   'order_number': 'ae20c574-e8a1-44a9-ad7b-88b5f7c5279a',\n",
       "   'item_id': 'dc7f6121-0dbd-4cf0-ac7e-e087ed83dba5',\n",
       "   'quantity': 65},\n",
       "  {'supplier': 'DDD',\n",
       "   'client': 'ZZZ',\n",
       "   'order_number': 'e61b960e-85bc-45a0-bb27-4c1e322fb33f',\n",
       "   'item_id': '8b074d3f-3d89-425a-bb5f-61ad22ef9ea6',\n",
       "   'quantity': 77},\n",
       "  {'supplier': 'BBB',\n",
       "   'client': 'ZZZ',\n",
       "   'order_number': '0774d421-a0de-4f9e-b852-f0136b184d6f',\n",
       "   'item_id': 'd5eca662-122c-4eb1-9cc2-9d0b9cdb9f30',\n",
       "   'quantity': 87},\n",
       "  {'supplier': 'BBB',\n",
       "   'client': 'ZZZ',\n",
       "   'order_number': '62f406c3-74e1-4f28-92ba-5159c2440131',\n",
       "   'item_id': '2a3ab593-1de4-4d06-a7f9-3924d1f35559',\n",
       "   'quantity': 61},\n",
       "  {'supplier': 'DDD',\n",
       "   'client': 'ZZZ',\n",
       "   'order_number': '2588bb35-4e1b-4b04-a735-0cbe242952ab',\n",
       "   'item_id': 'aae5de0a-2eef-43c3-9c1d-c7cd097d33cf',\n",
       "   'quantity': 1},\n",
       "  {'supplier': 'DDD',\n",
       "   'client': 'ZZZ',\n",
       "   'order_number': 'b5d4fdac-190d-43ca-8c37-61020b83fad3',\n",
       "   'item_id': '531175a2-76d2-4e62-9f52-c7101e105021',\n",
       "   'quantity': 5},\n",
       "  {'supplier': 'DDD',\n",
       "   'client': 'ZZZ',\n",
       "   'order_number': '7d5828b3-1caf-4a75-9597-102601178212',\n",
       "   'item_id': '7984261c-25da-491f-b62c-2dab35d9949c',\n",
       "   'quantity': 54},\n",
       "  {'supplier': 'BBB',\n",
       "   'client': 'ZZZ',\n",
       "   'order_number': 'c6c7a2c6-285e-4787-98f8-a6820caf41a5',\n",
       "   'item_id': 'fe8a920e-fe91-449a-ade6-280b79181fb3',\n",
       "   'quantity': 93},\n",
       "  {'supplier': 'BBB',\n",
       "   'client': 'ZZZ',\n",
       "   'order_number': '72d08592-eaa9-457a-8870-76470bbd9c4f',\n",
       "   'item_id': 'c9e3fa59-b154-49ac-8b6b-cfd79d5bb91c',\n",
       "   'quantity': 52},\n",
       "  {'supplier': 'BBB',\n",
       "   'client': 'ZZZ',\n",
       "   'order_number': '698fe5f0-0776-4a09-bb93-2763ad62c631',\n",
       "   'item_id': '0076a3a3-4b7c-4dd2-bbe5-36a6120ede6a',\n",
       "   'quantity': 92},\n",
       "  {'supplier': 'AAA',\n",
       "   'client': 'ZZZ',\n",
       "   'order_number': 'a7b70f37-690d-48c4-a638-96e30c2baaf8',\n",
       "   'item_id': '8c7be485-a5c0-4597-a959-89faaf242efc',\n",
       "   'quantity': 25},\n",
       "  {'supplier': 'AAA',\n",
       "   'client': 'ZZZ',\n",
       "   'order_number': '534c1481-fabf-499a-8ade-7b63e62bce13',\n",
       "   'item_id': 'cfc513a2-206f-4c21-9fe0-f69966c6cf8d',\n",
       "   'quantity': 36},\n",
       "  {'supplier': 'DDD',\n",
       "   'client': 'ZZZ',\n",
       "   'order_number': '632f598e-9d3b-405a-b579-ec6a714fb749',\n",
       "   'item_id': '6ee50214-fdd7-4d15-86f5-66c3aa2f6add',\n",
       "   'quantity': 33},\n",
       "  {'supplier': 'AAA',\n",
       "   'client': 'ZZZ',\n",
       "   'order_number': '3896c494-684e-4e1b-abf7-f0eb1e7a0465',\n",
       "   'item_id': '70ac1cd1-e352-4097-84ff-264d3e8d2535',\n",
       "   'quantity': 27}]}"
      ]
     },
     "execution_count": 28,
     "metadata": {},
     "output_type": "execute_result"
    }
   ],
   "source": [
    "dict(client_orders_dd)"
   ]
  },
  {
   "cell_type": "code",
   "execution_count": 29,
   "id": "e07013c3",
   "metadata": {},
   "outputs": [
    {
     "data": {
      "text/plain": [
       "True"
      ]
     },
     "execution_count": 29,
     "metadata": {},
     "output_type": "execute_result"
    }
   ],
   "source": [
    "client_orders == client_orders_dd"
   ]
  },
  {
   "cell_type": "markdown",
   "id": "3162837d",
   "metadata": {},
   "source": [
    "One thing worth mentioning is that `defaultdict` is slower than a plain `dict` - but depending on your use case, the reduced code complexity may outweigh the performance hit."
   ]
  },
  {
   "cell_type": "code",
   "execution_count": null,
   "id": "87e73284",
   "metadata": {},
   "outputs": [],
   "source": []
  }
 ],
 "metadata": {
  "kernelspec": {
   "display_name": "Python 3 (ipykernel)",
   "language": "python",
   "name": "python3"
  },
  "language_info": {
   "codemirror_mode": {
    "name": "ipython",
    "version": 3
   },
   "file_extension": ".py",
   "mimetype": "text/x-python",
   "name": "python",
   "nbconvert_exporter": "python",
   "pygments_lexer": "ipython3",
   "version": "3.10.2"
  }
 },
 "nbformat": 4,
 "nbformat_minor": 5
}
