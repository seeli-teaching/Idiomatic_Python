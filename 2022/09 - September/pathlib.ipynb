{
 "cells": [
  {
   "cell_type": "markdown",
   "id": "e5366bab",
   "metadata": {},
   "source": [
    "### The `pathlib` Module"
   ]
  },
  {
   "cell_type": "markdown",
   "id": "eb92c14c",
   "metadata": {},
   "source": [
    "The Python docs for this module are available [here](https://docs.python.org/3/library/pathlib.html#module-pathlib)"
   ]
  },
  {
   "cell_type": "markdown",
   "id": "2c251360",
   "metadata": {},
   "source": [
    "For working with concrete paths, in a way that will work on both Windows and Unix based systems, the `pathlib` module, part of the standard library will work nicely."
   ]
  },
  {
   "cell_type": "markdown",
   "id": "979ae0ec",
   "metadata": {},
   "source": [
    "We'll first look at some path manipulation techniques, and finish off with creating/deleting directories, and the very important `glob` function to (optionally recursively) find all files matching some pattern."
   ]
  },
  {
   "cell_type": "markdown",
   "id": "5f656351",
   "metadata": {},
   "source": [
    "The classes in this module can be divided into two types:\n",
    "- pure paths\n",
    "- concrete paths"
   ]
  },
  {
   "cell_type": "markdown",
   "id": "19702157",
   "metadata": {},
   "source": [
    "The \"pure paths\" provide ways to manipulate paths, but do not actually access the file system. \n",
    "\n",
    "You have pure paths for both Windows (`PureWindowsPath`) and Posix (like Linux, Mac) (`PurePosixPath`), or a more generic `PurePath` that will decide whether to use Windows or Posix depending on the system it is running on. You can of course always instantiate a `PureWindowsPath` from a script running on a Posix platform to allow manipulating Windows paths, and vice-versa."
   ]
  },
  {
   "cell_type": "markdown",
   "id": "29cf558a",
   "metadata": {},
   "source": [
    "The \"concrete paths\" are used not only to manipulate paths, but also to interact with the file system itself.\n",
    "\n",
    "Again, there are both Windows (`WindowsPath`) and Posix variants (`PosixPath`). And just as with pure paths, there is also a more generic `Path` class which will automatically base itself on the platform the script is running on (i.e. you'll end up either with a `WindowsPath` instance, or a `PosixPath` instance depending on your OS).\n",
    "\n",
    "The concrete classes also inherit from their respective pure classes (so we have not only the pure path methods/properties available to us, but also the concrete ones)."
   ]
  },
  {
   "cell_type": "markdown",
   "id": "34e42672",
   "metadata": {},
   "source": [
    "It is this `Path` class we are going to explore here. It is most commonly used as it essentially provides us, the Python developer, a relatively platform-independent way of dealing with the OS file system."
   ]
  },
  {
   "cell_type": "markdown",
   "id": "64058e4d",
   "metadata": {},
   "source": [
    "First, let's import the `Path` class from the `pathlib` module:"
   ]
  },
  {
   "cell_type": "code",
   "execution_count": 1,
   "id": "03056b4e",
   "metadata": {},
   "outputs": [],
   "source": [
    "from pathlib import Path"
   ]
  },
  {
   "cell_type": "markdown",
   "id": "7d68dbe3",
   "metadata": {},
   "source": [
    "To specify paths, we can use fully qualified (or absolute) paths, as well as relative paths (where `.` denotes the current directory, while `..` is used to denote the parent directory)."
   ]
  },
  {
   "cell_type": "markdown",
   "id": "37ac2b8b",
   "metadata": {},
   "source": [
    "We can get a `Path` object to our current path (that the script is running in) using the concrete `cwd()` method:"
   ]
  },
  {
   "cell_type": "code",
   "execution_count": 2,
   "id": "406ed0a6",
   "metadata": {},
   "outputs": [],
   "source": [
    "curr = Path.cwd()"
   ]
  },
  {
   "cell_type": "markdown",
   "id": "7946da00",
   "metadata": {},
   "source": [
    "The first thing we can look at is the actual class of our path. Since I'm running this on a Mac, I'll get a posix path:"
   ]
  },
  {
   "cell_type": "code",
   "execution_count": 3,
   "id": "63ce5376",
   "metadata": {},
   "outputs": [
    {
     "data": {
      "text/plain": [
       "PosixPath('/Users/fbaptiste/dev/python-blog/pending_release')"
      ]
     },
     "execution_count": 3,
     "metadata": {},
     "output_type": "execute_result"
    }
   ],
   "source": [
    "curr"
   ]
  },
  {
   "cell_type": "markdown",
   "id": "fc2b8ece",
   "metadata": {},
   "source": [
    "If you're running on Windows (not the WSL), you will end up with a `WindowsPath` object."
   ]
  },
  {
   "cell_type": "markdown",
   "id": "7258cb9c",
   "metadata": {},
   "source": [
    "We could also use relative paths to get a Path object to our current path:"
   ]
  },
  {
   "cell_type": "code",
   "execution_count": 4,
   "id": "9fee27ea",
   "metadata": {},
   "outputs": [],
   "source": [
    "curr2 = Path('.')"
   ]
  },
  {
   "cell_type": "markdown",
   "id": "376bedc8",
   "metadata": {},
   "source": [
    "What's interesting is that although both paths are essentially the same absolute path, they are not \"equal\" paths:"
   ]
  },
  {
   "cell_type": "code",
   "execution_count": 5,
   "id": "9a10fe23",
   "metadata": {},
   "outputs": [
    {
     "data": {
      "text/plain": [
       "PosixPath('.')"
      ]
     },
     "execution_count": 5,
     "metadata": {},
     "output_type": "execute_result"
    }
   ],
   "source": [
    "curr2"
   ]
  },
  {
   "cell_type": "code",
   "execution_count": 6,
   "id": "33f43a60",
   "metadata": {},
   "outputs": [
    {
     "data": {
      "text/plain": [
       "False"
      ]
     },
     "execution_count": 6,
     "metadata": {},
     "output_type": "execute_result"
    }
   ],
   "source": [
    "curr == curr2"
   ]
  },
  {
   "cell_type": "markdown",
   "id": "da4e5337",
   "metadata": {},
   "source": [
    "But, the absolute (fully qualified) paths are the same:"
   ]
  },
  {
   "cell_type": "code",
   "execution_count": 7,
   "id": "86741a1b",
   "metadata": {},
   "outputs": [
    {
     "data": {
      "text/plain": [
       "True"
      ]
     },
     "execution_count": 7,
     "metadata": {},
     "output_type": "execute_result"
    }
   ],
   "source": [
    "curr.absolute() == curr2.absolute()"
   ]
  },
  {
   "cell_type": "markdown",
   "id": "ba7c163d",
   "metadata": {},
   "source": [
    "We can also use the `samefile()` method to check if two paths are pointing to the same thing:"
   ]
  },
  {
   "cell_type": "code",
   "execution_count": 8,
   "id": "06be13bb",
   "metadata": {},
   "outputs": [
    {
     "data": {
      "text/plain": [
       "True"
      ]
     },
     "execution_count": 8,
     "metadata": {},
     "output_type": "execute_result"
    }
   ],
   "source": [
    "curr.samefile(curr2)"
   ]
  },
  {
   "cell_type": "markdown",
   "id": "b1f77734",
   "metadata": {},
   "source": [
    "In both Windows and Posix, there is the concept of a \"home\" directory, which we can obtain using the `home()` method:"
   ]
  },
  {
   "cell_type": "code",
   "execution_count": 9,
   "id": "ba35ba9a",
   "metadata": {},
   "outputs": [
    {
     "data": {
      "text/plain": [
       "PosixPath('/Users/fbaptiste')"
      ]
     },
     "execution_count": 9,
     "metadata": {},
     "output_type": "execute_result"
    }
   ],
   "source": [
    "Path.home()"
   ]
  },
  {
   "cell_type": "markdown",
   "id": "5333614e",
   "metadata": {},
   "source": [
    "Now a path does not need to be a directory, it could be a file as well. (In fact, a path could point to other resources too, such as sockets, symlinks, block devices, etc, depending on the OS)"
   ]
  },
  {
   "cell_type": "markdown",
   "id": "1fc17c84",
   "metadata": {},
   "source": [
    "Let's create a quick file and experiment with this:"
   ]
  },
  {
   "cell_type": "code",
   "execution_count": 10,
   "id": "ae60aaeb",
   "metadata": {},
   "outputs": [],
   "source": [
    "with open('test.txt', 'w') as f:\n",
    "    f.write(\"Testing the Python Path object.\")"
   ]
  },
  {
   "cell_type": "markdown",
   "id": "d64f44d6",
   "metadata": {},
   "source": [
    "Now let's get a `Path` object for this file:"
   ]
  },
  {
   "cell_type": "code",
   "execution_count": 11,
   "id": "e894fc1e",
   "metadata": {},
   "outputs": [],
   "source": [
    "file = Path('test.txt')"
   ]
  },
  {
   "cell_type": "code",
   "execution_count": 12,
   "id": "dbd7d6f0",
   "metadata": {},
   "outputs": [
    {
     "data": {
      "text/plain": [
       "PosixPath('test.txt')"
      ]
     },
     "execution_count": 12,
     "metadata": {},
     "output_type": "execute_result"
    }
   ],
   "source": [
    "file"
   ]
  },
  {
   "cell_type": "code",
   "execution_count": 13,
   "id": "b49d19e8",
   "metadata": {},
   "outputs": [
    {
     "data": {
      "text/plain": [
       "PosixPath('/Users/fbaptiste/dev/python-blog/pending_release/test.txt')"
      ]
     },
     "execution_count": 13,
     "metadata": {},
     "output_type": "execute_result"
    }
   ],
   "source": [
    "file.absolute()"
   ]
  },
  {
   "cell_type": "markdown",
   "id": "76c48e93",
   "metadata": {},
   "source": [
    "We can use the `stat()` method to get some meta information about this file:"
   ]
  },
  {
   "cell_type": "code",
   "execution_count": 14,
   "id": "27fe43ee",
   "metadata": {},
   "outputs": [],
   "source": [
    "file_stat = file.stat()"
   ]
  },
  {
   "cell_type": "code",
   "execution_count": 15,
   "id": "dab191fa",
   "metadata": {},
   "outputs": [
    {
     "data": {
      "text/plain": [
       "os.stat_result(st_mode=33188, st_ino=23966961, st_dev=16777232, st_nlink=1, st_uid=501, st_gid=0, st_size=31, st_atime=1662263924, st_mtime=1662263924, st_ctime=1662263924)"
      ]
     },
     "execution_count": 15,
     "metadata": {},
     "output_type": "execute_result"
    }
   ],
   "source": [
    "file_stat"
   ]
  },
  {
   "cell_type": "markdown",
   "id": "3a22e384",
   "metadata": {},
   "source": [
    "Some of this information will be platform dependent, but we can easily recover the file size (in bytes):"
   ]
  },
  {
   "cell_type": "code",
   "execution_count": 16,
   "id": "0480b17b",
   "metadata": {},
   "outputs": [
    {
     "data": {
      "text/plain": [
       "31"
      ]
     },
     "execution_count": 16,
     "metadata": {},
     "output_type": "execute_result"
    }
   ],
   "source": [
    "file_stat.st_size"
   ]
  },
  {
   "cell_type": "markdown",
   "id": "6f0804ec",
   "metadata": {},
   "source": [
    "as well as when the file was last modified:"
   ]
  },
  {
   "cell_type": "code",
   "execution_count": 17,
   "id": "792addf2",
   "metadata": {},
   "outputs": [
    {
     "data": {
      "text/plain": [
       "1662263924.4755654"
      ]
     },
     "execution_count": 17,
     "metadata": {},
     "output_type": "execute_result"
    }
   ],
   "source": [
    "file_stat.st_mtime"
   ]
  },
  {
   "cell_type": "markdown",
   "id": "396c305d",
   "metadata": {},
   "source": [
    "This is is a POSIX time (in seconds) - we can convert this to an actual datetime object:"
   ]
  },
  {
   "cell_type": "code",
   "execution_count": 18,
   "id": "e05dc660",
   "metadata": {},
   "outputs": [],
   "source": [
    "from datetime import datetime"
   ]
  },
  {
   "cell_type": "code",
   "execution_count": 19,
   "id": "5ee0c3a4",
   "metadata": {},
   "outputs": [
    {
     "data": {
      "text/plain": [
       "datetime.datetime(2022, 9, 3, 20, 58, 44, 475565)"
      ]
     },
     "execution_count": 19,
     "metadata": {},
     "output_type": "execute_result"
    }
   ],
   "source": [
    "datetime.fromtimestamp(file_stat.st_mtime)"
   ]
  },
  {
   "cell_type": "markdown",
   "id": "ac428040",
   "metadata": {},
   "source": [
    "Note that this is expressed in **local** time."
   ]
  },
  {
   "cell_type": "markdown",
   "id": "d43e631c",
   "metadata": {},
   "source": [
    "You can find more info on this stat structure [here](https://docs.python.org/3/library/os.html#os.stat_result)."
   ]
  },
  {
   "cell_type": "markdown",
   "id": "650da8d3",
   "metadata": {},
   "source": [
    "You can also easily determine if a path exists or not:"
   ]
  },
  {
   "cell_type": "code",
   "execution_count": 20,
   "id": "eb0230f0",
   "metadata": {},
   "outputs": [
    {
     "data": {
      "text/plain": [
       "True"
      ]
     },
     "execution_count": 20,
     "metadata": {},
     "output_type": "execute_result"
    }
   ],
   "source": [
    "Path('test.txt').exists()"
   ]
  },
  {
   "cell_type": "code",
   "execution_count": 21,
   "id": "10248f90",
   "metadata": {},
   "outputs": [
    {
     "data": {
      "text/plain": [
       "False"
      ]
     },
     "execution_count": 21,
     "metadata": {},
     "output_type": "execute_result"
    }
   ],
   "source": [
    "Path('test2.txt').exists()"
   ]
  },
  {
   "cell_type": "markdown",
   "id": "eb77d237",
   "metadata": {},
   "source": [
    "You probably know that path definitions in Windows and Posix are quite different. For example Windows uses the `\\` as a path delimiter, whereas Posix uses `/`."
   ]
  },
  {
   "cell_type": "markdown",
   "id": "ad17656a",
   "metadata": {},
   "source": [
    "One difficulty is therefore how to define paths that will work on both Windows and Posix, without writing a bunch of conditional statements."
   ]
  },
  {
   "cell_type": "markdown",
   "id": "dd3f4920",
   "metadata": {},
   "source": [
    "The nice thing about the classes in this module is that all paths are specified using the Posix syntax, so `/` only (also saves us having to escape `\\` characters in our strings)."
   ]
  },
  {
   "cell_type": "markdown",
   "id": "21454947",
   "metadata": {},
   "source": [
    "So, for both Windows and Posix, we can define a path this way:"
   ]
  },
  {
   "cell_type": "code",
   "execution_count": 22,
   "id": "6473bca3",
   "metadata": {},
   "outputs": [
    {
     "data": {
      "text/plain": [
       "PosixPath('dir1/dir2')"
      ]
     },
     "execution_count": 22,
     "metadata": {},
     "output_type": "execute_result"
    }
   ],
   "source": [
    "Path('./dir1/dir2')"
   ]
  },
  {
   "cell_type": "markdown",
   "id": "3c888f70",
   "metadata": {},
   "source": [
    "Of course, in Windows you may need to use a drive letter, but you still use `/` for the path:"
   ]
  },
  {
   "cell_type": "code",
   "execution_count": 23,
   "id": "829b09b6",
   "metadata": {},
   "outputs": [
    {
     "data": {
      "text/plain": [
       "PosixPath('c:/dir1/dir2')"
      ]
     },
     "execution_count": 23,
     "metadata": {},
     "output_type": "execute_result"
    }
   ],
   "source": [
    "Path('c:/dir1/dir2')"
   ]
  },
  {
   "cell_type": "markdown",
   "id": "db9e09b9",
   "metadata": {},
   "source": [
    "From this point forward I'll be using Posix paths since I am running on a Mac, so you may need to adjust things for a Windows OS if that happens to be your platform. But things pretty much work the same way."
   ]
  },
  {
   "cell_type": "markdown",
   "id": "d9352eda",
   "metadata": {},
   "source": [
    "Continuing with our `exists()` example, we can also test the existence of a directory, we are not limited to just files:"
   ]
  },
  {
   "cell_type": "code",
   "execution_count": 24,
   "id": "84bec69e",
   "metadata": {},
   "outputs": [
    {
     "data": {
      "text/plain": [
       "True"
      ]
     },
     "execution_count": 24,
     "metadata": {},
     "output_type": "execute_result"
    }
   ],
   "source": [
    "Path('/Users/fbaptiste').exists()"
   ]
  },
  {
   "cell_type": "code",
   "execution_count": 25,
   "id": "2178b595",
   "metadata": {},
   "outputs": [
    {
     "data": {
      "text/plain": [
       "False"
      ]
     },
     "execution_count": 25,
     "metadata": {},
     "output_type": "execute_result"
    }
   ],
   "source": [
    "Path('/Users/isaac-newton').exists()"
   ]
  },
  {
   "cell_type": "markdown",
   "id": "96db762b",
   "metadata": {},
   "source": [
    "So, given a path, you can not only test if it exists or not (as we just saw), but also determine if it is a file path or a directory path, using the `is_dir()` and `is_file()` methods.\n",
    "\n",
    "Beware though, that both these methods will return `False` if the specified path does not exist!"
   ]
  },
  {
   "cell_type": "code",
   "execution_count": 26,
   "id": "540d364e",
   "metadata": {},
   "outputs": [
    {
     "data": {
      "text/plain": [
       "(False, True)"
      ]
     },
     "execution_count": 26,
     "metadata": {},
     "output_type": "execute_result"
    }
   ],
   "source": [
    "Path('test.txt').is_dir(), Path('test.txt').is_file()"
   ]
  },
  {
   "cell_type": "code",
   "execution_count": 27,
   "id": "95c99d7b",
   "metadata": {},
   "outputs": [
    {
     "data": {
      "text/plain": [
       "(True, False)"
      ]
     },
     "execution_count": 27,
     "metadata": {},
     "output_type": "execute_result"
    }
   ],
   "source": [
    "Path('/Users').is_dir(), Path('/Users').is_file()"
   ]
  },
  {
   "cell_type": "markdown",
   "id": "52906e0b",
   "metadata": {},
   "source": [
    "On the other hand, the following two examples use non-existent paths, and all methods simpy return `False`:"
   ]
  },
  {
   "cell_type": "code",
   "execution_count": 28,
   "id": "b43bed18",
   "metadata": {},
   "outputs": [
    {
     "data": {
      "text/plain": [
       "(False, False)"
      ]
     },
     "execution_count": 28,
     "metadata": {},
     "output_type": "execute_result"
    }
   ],
   "source": [
    "Path('test2.txt').is_dir(), Path('test2.txt').is_file()"
   ]
  },
  {
   "cell_type": "code",
   "execution_count": 29,
   "id": "29d9a14a",
   "metadata": {},
   "outputs": [
    {
     "data": {
      "text/plain": [
       "(False, False)"
      ]
     },
     "execution_count": 29,
     "metadata": {},
     "output_type": "execute_result"
    }
   ],
   "source": [
    "Path('/abc').is_dir(), Path('/abc').is_file()"
   ]
  },
  {
   "cell_type": "markdown",
   "id": "3d3cfe42",
   "metadata": {},
   "source": [
    "> Basically don't assume that just because `is_file` returns `False` then the path is therefore a directory. First of all, there are other kinds of path objects (e.g. sockets) that are neither, but it could also be that the specified path simply does not exist."
   ]
  },
  {
   "cell_type": "markdown",
   "id": "2b3ca206",
   "metadata": {},
   "source": [
    "Instead of building a path using a string as we have done so far, we can use the `joinpath()`:"
   ]
  },
  {
   "cell_type": "code",
   "execution_count": 30,
   "id": "5d120dcf",
   "metadata": {},
   "outputs": [
    {
     "data": {
      "text/plain": [
       "PosixPath('Users/dir1/dir2/dir3')"
      ]
     },
     "execution_count": 30,
     "metadata": {},
     "output_type": "execute_result"
    }
   ],
   "source": [
    "p = Path('Users').joinpath('dir1', 'dir2', 'dir3')\n",
    "p"
   ]
  },
  {
   "cell_type": "markdown",
   "id": "59861e00",
   "metadata": {},
   "source": [
    "You can even use Path objects as arguments to `joinpath()`:"
   ]
  },
  {
   "cell_type": "code",
   "execution_count": 31,
   "id": "722bcc73",
   "metadata": {},
   "outputs": [
    {
     "data": {
      "text/plain": [
       "PosixPath('/Users/fbaptiste/dir1/dir2/dir3')"
      ]
     },
     "execution_count": 31,
     "metadata": {},
     "output_type": "execute_result"
    }
   ],
   "source": [
    "p = Path.home().joinpath('dir1', Path('dir2'), 'dir3')\n",
    "p"
   ]
  },
  {
   "cell_type": "markdown",
   "id": "ce83a51f",
   "metadata": {},
   "source": [
    "Alternatively, the `/` operator can be used to join paths as well:"
   ]
  },
  {
   "cell_type": "code",
   "execution_count": 32,
   "id": "c22dc03f",
   "metadata": {},
   "outputs": [
    {
     "data": {
      "text/plain": [
       "PosixPath('/Users/fbaptiste/dir1/dir2/test.txt')"
      ]
     },
     "execution_count": 32,
     "metadata": {},
     "output_type": "execute_result"
    }
   ],
   "source": [
    "p = Path.home() / 'dir1' / Path('dir2') / 'test.txt'\n",
    "p"
   ]
  },
  {
   "cell_type": "markdown",
   "id": "7110bf85",
   "metadata": {},
   "source": [
    "Opposite to combining paths to form new paths, it is also easy to decompose a path into its individual parts. "
   ]
  },
  {
   "cell_type": "code",
   "execution_count": 33,
   "id": "0a1e253b",
   "metadata": {},
   "outputs": [],
   "source": [
    "p = Path.home() / 'dir1' / 'dir2'/ 'test.txt'"
   ]
  },
  {
   "cell_type": "code",
   "execution_count": 34,
   "id": "1bb8f23b",
   "metadata": {},
   "outputs": [
    {
     "data": {
      "text/plain": [
       "('/', 'Users', 'fbaptiste', 'dir1', 'dir2', 'test.txt')"
      ]
     },
     "execution_count": 34,
     "metadata": {},
     "output_type": "execute_result"
    }
   ],
   "source": [
    "p.parts"
   ]
  },
  {
   "cell_type": "markdown",
   "id": "4047cef9",
   "metadata": {},
   "source": [
    "And for a Windows path:"
   ]
  },
  {
   "cell_type": "code",
   "execution_count": 35,
   "id": "727a8ce4",
   "metadata": {},
   "outputs": [],
   "source": [
    "from pathlib import PureWindowsPath"
   ]
  },
  {
   "cell_type": "code",
   "execution_count": 36,
   "id": "7eec683f",
   "metadata": {},
   "outputs": [
    {
     "data": {
      "text/plain": [
       "PureWindowsPath('c:/dir1/dir2/test.txt')"
      ]
     },
     "execution_count": 36,
     "metadata": {},
     "output_type": "execute_result"
    }
   ],
   "source": [
    "windows_p = PureWindowsPath('c:/') / 'dir1' / 'dir2'/ 'test.txt'\n",
    "windows_p"
   ]
  },
  {
   "cell_type": "markdown",
   "id": "4d17efdf",
   "metadata": {},
   "source": [
    "By the way the `str` representation of a Windows path will give you the \"real\" Windows path (notice how the `\\` characters need to be escaped, using `\\\\`):"
   ]
  },
  {
   "cell_type": "code",
   "execution_count": 37,
   "id": "9f3b0dc0",
   "metadata": {},
   "outputs": [
    {
     "data": {
      "text/plain": [
       "'c:\\\\dir1\\\\dir2\\\\test.txt'"
      ]
     },
     "execution_count": 37,
     "metadata": {},
     "output_type": "execute_result"
    }
   ],
   "source": [
    "str(windows_p)"
   ]
  },
  {
   "cell_type": "markdown",
   "id": "33b32bf8",
   "metadata": {},
   "source": [
    "If you do not want to see th escape characters, you can just `print` the string:"
   ]
  },
  {
   "cell_type": "code",
   "execution_count": 38,
   "id": "3170b54e",
   "metadata": {},
   "outputs": [
    {
     "name": "stdout",
     "output_type": "stream",
     "text": [
      "c:\\dir1\\dir2\\test.txt\n"
     ]
    }
   ],
   "source": [
    "print(str(windows_p))"
   ]
  },
  {
   "cell_type": "code",
   "execution_count": 39,
   "id": "88227e14",
   "metadata": {},
   "outputs": [
    {
     "data": {
      "text/plain": [
       "('c:\\\\', 'dir1', 'dir2', 'test.txt')"
      ]
     },
     "execution_count": 39,
     "metadata": {},
     "output_type": "execute_result"
    }
   ],
   "source": [
    "windows_p.parts"
   ]
  },
  {
   "cell_type": "markdown",
   "id": "cdf2de78",
   "metadata": {},
   "source": [
    "Related to this you can get the logical ancestors of a path as a sequence:"
   ]
  },
  {
   "cell_type": "code",
   "execution_count": 40,
   "id": "372f7821",
   "metadata": {},
   "outputs": [
    {
     "data": {
      "text/plain": [
       "PosixPath('/Users/fbaptiste/dir1/dir2/test.txt')"
      ]
     },
     "execution_count": 40,
     "metadata": {},
     "output_type": "execute_result"
    }
   ],
   "source": [
    "p"
   ]
  },
  {
   "cell_type": "code",
   "execution_count": 41,
   "id": "76fd2511",
   "metadata": {},
   "outputs": [
    {
     "name": "stdout",
     "output_type": "stream",
     "text": [
      "0: /Users/fbaptiste/dir1/dir2\n",
      "1: /Users/fbaptiste/dir1\n",
      "2: /Users/fbaptiste\n",
      "3: /Users\n",
      "4: /\n"
     ]
    }
   ],
   "source": [
    "for idx, parent in enumerate(p.parents):\n",
    "    print(f\"{idx}: {parent}\")"
   ]
  },
  {
   "cell_type": "markdown",
   "id": "904c4657",
   "metadata": {},
   "source": [
    "And the same with a Windows path:"
   ]
  },
  {
   "cell_type": "code",
   "execution_count": 42,
   "id": "148ed1ba",
   "metadata": {},
   "outputs": [
    {
     "data": {
      "text/plain": [
       "PureWindowsPath('c:/dir1/dir2/test.txt')"
      ]
     },
     "execution_count": 42,
     "metadata": {},
     "output_type": "execute_result"
    }
   ],
   "source": [
    "windows_p"
   ]
  },
  {
   "cell_type": "code",
   "execution_count": 43,
   "id": "e001f424",
   "metadata": {},
   "outputs": [
    {
     "name": "stdout",
     "output_type": "stream",
     "text": [
      "0: c:\\dir1\\dir2\n",
      "1: c:\\dir1\n",
      "2: c:\\\n"
     ]
    }
   ],
   "source": [
    "for idx, parent in enumerate(windows_p.parents):\n",
    "    print(f\"{idx}: {parent}\")"
   ]
  },
  {
   "cell_type": "markdown",
   "id": "90b3638e",
   "metadata": {},
   "source": [
    "(if you're wondering why you're not seeing `\\\\`, this is because I used the `print` statement which processes the escaped characters before showing the results on the screen - the same way if would process a `\\n`)"
   ]
  },
  {
   "cell_type": "markdown",
   "id": "e55111fb",
   "metadata": {},
   "source": [
    "Or, if you're only interested in the immediate parent, you can just use the `parent` property:"
   ]
  },
  {
   "cell_type": "code",
   "execution_count": 44,
   "id": "d898b0b4",
   "metadata": {},
   "outputs": [
    {
     "data": {
      "text/plain": [
       "(PosixPath('/Users/fbaptiste/dir1/dir2/test.txt'),\n",
       " PosixPath('/Users/fbaptiste/dir1/dir2'))"
      ]
     },
     "execution_count": 44,
     "metadata": {},
     "output_type": "execute_result"
    }
   ],
   "source": [
    "p, p.parent"
   ]
  },
  {
   "cell_type": "markdown",
   "id": "66ce5f53",
   "metadata": {},
   "source": [
    "You can recover the last part of the path, often used for extracting a file name from a file path:"
   ]
  },
  {
   "cell_type": "code",
   "execution_count": 45,
   "id": "7a9a792a",
   "metadata": {},
   "outputs": [
    {
     "data": {
      "text/plain": [
       "PosixPath('/Users/fbaptiste/dir1/dir2/test.txt')"
      ]
     },
     "execution_count": 45,
     "metadata": {},
     "output_type": "execute_result"
    }
   ],
   "source": [
    "p"
   ]
  },
  {
   "cell_type": "code",
   "execution_count": 46,
   "id": "82330f66",
   "metadata": {},
   "outputs": [
    {
     "data": {
      "text/plain": [
       "'test.txt'"
      ]
     },
     "execution_count": 46,
     "metadata": {},
     "output_type": "execute_result"
    }
   ],
   "source": [
    "p.name"
   ]
  },
  {
   "cell_type": "markdown",
   "id": "5cd9ef19",
   "metadata": {},
   "source": [
    "As well as the file extension of the final component (if it is specified):"
   ]
  },
  {
   "cell_type": "code",
   "execution_count": 47,
   "id": "2d13ffbc",
   "metadata": {},
   "outputs": [
    {
     "data": {
      "text/plain": [
       "'.txt'"
      ]
     },
     "execution_count": 47,
     "metadata": {},
     "output_type": "execute_result"
    }
   ],
   "source": [
    "p.suffix"
   ]
  },
  {
   "cell_type": "markdown",
   "id": "143f8a0e",
   "metadata": {},
   "source": [
    "For a directory path:"
   ]
  },
  {
   "cell_type": "code",
   "execution_count": 48,
   "id": "68fea850",
   "metadata": {},
   "outputs": [
    {
     "data": {
      "text/plain": [
       "PosixPath('/Users/fbaptiste/dir1')"
      ]
     },
     "execution_count": 48,
     "metadata": {},
     "output_type": "execute_result"
    }
   ],
   "source": [
    "dir_p = Path.home() / 'dir1'\n",
    "dir_p"
   ]
  },
  {
   "cell_type": "code",
   "execution_count": 49,
   "id": "40a99003",
   "metadata": {},
   "outputs": [
    {
     "data": {
      "text/plain": [
       "'dir1'"
      ]
     },
     "execution_count": 49,
     "metadata": {},
     "output_type": "execute_result"
    }
   ],
   "source": [
    "dir_p.name"
   ]
  },
  {
   "cell_type": "code",
   "execution_count": 50,
   "id": "1dd3bddc",
   "metadata": {},
   "outputs": [
    {
     "data": {
      "text/plain": [
       "''"
      ]
     },
     "execution_count": 50,
     "metadata": {},
     "output_type": "execute_result"
    }
   ],
   "source": [
    "dir_p.suffix"
   ]
  },
  {
   "cell_type": "markdown",
   "id": "a3a60df6",
   "metadata": {},
   "source": [
    "There are many many more methods to manipulate paths, so I urge you to look at the Python docs [here](https://docs.python.org/3/library/pathlib.html#module-pathlib)"
   ]
  },
  {
   "cell_type": "markdown",
   "id": "d07c0d9b",
   "metadata": {},
   "source": [
    "Now let's turn our attention to some interesting concrete path methods."
   ]
  },
  {
   "cell_type": "markdown",
   "id": "5574b4c3",
   "metadata": {},
   "source": [
    "The first thing is that you can open a file from a concrete Path using the `open` function the same way you use it using a string for your path:"
   ]
  },
  {
   "cell_type": "code",
   "execution_count": 51,
   "id": "09d4c440",
   "metadata": {},
   "outputs": [
    {
     "name": "stdout",
     "output_type": "stream",
     "text": [
      "['Testing the Python Path object.']\n"
     ]
    }
   ],
   "source": [
    "with open('test.txt') as f:\n",
    "    print(f.readlines())"
   ]
  },
  {
   "cell_type": "code",
   "execution_count": 52,
   "id": "a5a073e5",
   "metadata": {},
   "outputs": [
    {
     "data": {
      "text/plain": [
       "PosixPath('/Users/fbaptiste/dev/python-blog/pending_release/test.txt')"
      ]
     },
     "execution_count": 52,
     "metadata": {},
     "output_type": "execute_result"
    }
   ],
   "source": [
    "p = Path.cwd() / 'test.txt'\n",
    "p"
   ]
  },
  {
   "cell_type": "code",
   "execution_count": 53,
   "id": "d5b5d769",
   "metadata": {},
   "outputs": [
    {
     "name": "stdout",
     "output_type": "stream",
     "text": [
      "['Testing the Python Path object.']\n"
     ]
    }
   ],
   "source": [
    "with open(p) as f:\n",
    "    print(f.readlines())"
   ]
  },
  {
   "cell_type": "markdown",
   "id": "76d79592",
   "metadata": {},
   "source": [
    "You can also create and delete directories:"
   ]
  },
  {
   "cell_type": "code",
   "execution_count": 54,
   "id": "080bb5cf",
   "metadata": {},
   "outputs": [
    {
     "data": {
      "text/plain": [
       "False"
      ]
     },
     "execution_count": 54,
     "metadata": {},
     "output_type": "execute_result"
    }
   ],
   "source": [
    "p = Path.cwd() / 'dir1'\n",
    "p.exists()"
   ]
  },
  {
   "cell_type": "markdown",
   "id": "f87134b7",
   "metadata": {},
   "source": [
    "As you can see the directory path does not exist, but we can create it using `mkdir`:"
   ]
  },
  {
   "cell_type": "code",
   "execution_count": 55,
   "id": "23002b16",
   "metadata": {},
   "outputs": [
    {
     "data": {
      "text/plain": [
       "True"
      ]
     },
     "execution_count": 55,
     "metadata": {},
     "output_type": "execute_result"
    }
   ],
   "source": [
    "p.mkdir()\n",
    "p.exists()"
   ]
  },
  {
   "cell_type": "markdown",
   "id": "36029a72",
   "metadata": {},
   "source": [
    "Note that you will get an exception if you try to create a directory that already exists:"
   ]
  },
  {
   "cell_type": "code",
   "execution_count": 56,
   "id": "06b446a5",
   "metadata": {},
   "outputs": [
    {
     "name": "stdout",
     "output_type": "stream",
     "text": [
      "[Errno 17] File exists: '/Users/fbaptiste/dev/python-blog/pending_release/dir1'\n"
     ]
    }
   ],
   "source": [
    "try:\n",
    "    p.mkdir()\n",
    "except FileExistsError as ex:\n",
    "    print(ex)"
   ]
  },
  {
   "cell_type": "markdown",
   "id": "deb0dfd5",
   "metadata": {},
   "source": [
    "And we can also delete it (assuming it exists, otherwise we'll get an exception):"
   ]
  },
  {
   "cell_type": "code",
   "execution_count": 57,
   "id": "8fd914dc",
   "metadata": {},
   "outputs": [
    {
     "data": {
      "text/plain": [
       "False"
      ]
     },
     "execution_count": 57,
     "metadata": {},
     "output_type": "execute_result"
    }
   ],
   "source": [
    "p.rmdir()\n",
    "p.exists()"
   ]
  },
  {
   "cell_type": "code",
   "execution_count": 58,
   "id": "aca58d99",
   "metadata": {},
   "outputs": [
    {
     "name": "stdout",
     "output_type": "stream",
     "text": [
      "[Errno 2] No such file or directory: '/Users/fbaptiste/dev/python-blog/pending_release/dir1'\n"
     ]
    }
   ],
   "source": [
    "try:\n",
    "    p.rmdir()\n",
    "except FileNotFoundError as ex:\n",
    "    print(ex)"
   ]
  },
  {
   "cell_type": "markdown",
   "id": "3879615b",
   "metadata": {},
   "source": [
    "Note that `rmdir` will only work on **empty** directories."
   ]
  },
  {
   "cell_type": "markdown",
   "id": "75b731ee",
   "metadata": {},
   "source": [
    "The `mkdir()` method also allows you to create a path, **and** all the necessary parents, but not by default:"
   ]
  },
  {
   "cell_type": "code",
   "execution_count": 59,
   "id": "6dae5386",
   "metadata": {},
   "outputs": [
    {
     "data": {
      "text/plain": [
       "PosixPath('/Users/fbaptiste/dev/python-blog/pending_release/dir1/dir2/dir3')"
      ]
     },
     "execution_count": 59,
     "metadata": {},
     "output_type": "execute_result"
    }
   ],
   "source": [
    "p = Path.cwd() / 'dir1' / 'dir2' / 'dir3'\n",
    "p"
   ]
  },
  {
   "cell_type": "code",
   "execution_count": 60,
   "id": "e786275f",
   "metadata": {},
   "outputs": [
    {
     "name": "stdout",
     "output_type": "stream",
     "text": [
      "[Errno 2] No such file or directory: '/Users/fbaptiste/dev/python-blog/pending_release/dir1/dir2/dir3'\n"
     ]
    }
   ],
   "source": [
    "try:\n",
    "    p.mkdir()\n",
    "except FileNotFoundError as ex:\n",
    "    print(ex)"
   ]
  },
  {
   "cell_type": "markdown",
   "id": "0d968fba",
   "metadata": {},
   "source": [
    "This happens because `dir1` and `dir1/dir2` do not exist.\n",
    "\n",
    "We can instruct Python to create the directories as needed by using the `parents=True` argument:"
   ]
  },
  {
   "cell_type": "code",
   "execution_count": 61,
   "id": "520e0dd7",
   "metadata": {},
   "outputs": [],
   "source": [
    "p.mkdir(parents=True)"
   ]
  },
  {
   "cell_type": "markdown",
   "id": "35bffa79",
   "metadata": {},
   "source": [
    "And now all these directories exist:"
   ]
  },
  {
   "cell_type": "code",
   "execution_count": 62,
   "id": "2179b126",
   "metadata": {},
   "outputs": [
    {
     "data": {
      "text/plain": [
       "True"
      ]
     },
     "execution_count": 62,
     "metadata": {},
     "output_type": "execute_result"
    }
   ],
   "source": [
    "(Path.cwd() / 'dir1').exists()"
   ]
  },
  {
   "cell_type": "code",
   "execution_count": 63,
   "id": "5fa8fbe5",
   "metadata": {},
   "outputs": [
    {
     "data": {
      "text/plain": [
       "True"
      ]
     },
     "execution_count": 63,
     "metadata": {},
     "output_type": "execute_result"
    }
   ],
   "source": [
    "(Path.cwd() / 'dir1' / 'dir2').exists()"
   ]
  },
  {
   "cell_type": "code",
   "execution_count": 64,
   "id": "c6c27f8e",
   "metadata": {},
   "outputs": [
    {
     "data": {
      "text/plain": [
       "True"
      ]
     },
     "execution_count": 64,
     "metadata": {},
     "output_type": "execute_result"
    }
   ],
   "source": [
    "(Path.cwd() / 'dir1' / 'dir2' / 'dir3').exists()"
   ]
  },
  {
   "cell_type": "markdown",
   "id": "7be4bbb6",
   "metadata": {},
   "source": [
    "We cannot simply delete these directories by deleting `dir1`, since `rmdir` only works on empty directories:"
   ]
  },
  {
   "cell_type": "code",
   "execution_count": 65,
   "id": "0a58dd31",
   "metadata": {},
   "outputs": [
    {
     "name": "stdout",
     "output_type": "stream",
     "text": [
      "[Errno 66] Directory not empty: '/Users/fbaptiste/dev/python-blog/pending_release/dir1'\n"
     ]
    }
   ],
   "source": [
    "try:\n",
    "    Path.cwd().joinpath('dir1').rmdir()\n",
    "except OSError as ex:\n",
    "    print(ex)"
   ]
  },
  {
   "cell_type": "markdown",
   "id": "b130fc31",
   "metadata": {},
   "source": [
    "You will have to write code to delete the directories from the bottom up. I won't do that here, since a bug in the code could easily wipe out more than you expect - so use any kind of recursive deletion code with extreme care!"
   ]
  },
  {
   "cell_type": "markdown",
   "id": "f983c8c1",
   "metadata": {},
   "source": [
    "We sometimes want to iterate, or get a list, of all the paths contained in some path in a concrete sense (that is Python examines the file system to come up with that list):\n",
    "\n",
    "For that we can use the `iterdir` generator method (you may need to change the path to suit your particular environment):"
   ]
  },
  {
   "cell_type": "code",
   "execution_count": 66,
   "id": "f07680ec",
   "metadata": {},
   "outputs": [
    {
     "data": {
      "text/plain": [
       "(PosixPath('/Users/fbaptiste/dev/python-blog/pending_release/..'), True)"
      ]
     },
     "execution_count": 66,
     "metadata": {},
     "output_type": "execute_result"
    }
   ],
   "source": [
    "root = Path.cwd().joinpath('..')\n",
    "root, root.exists()"
   ]
  },
  {
   "cell_type": "code",
   "execution_count": 67,
   "id": "7d4f3c96",
   "metadata": {},
   "outputs": [
    {
     "name": "stdout",
     "output_type": "stream",
     "text": [
      "/Users/fbaptiste/dev/python-blog/pending_release/../2022\n",
      "/Users/fbaptiste/dev/python-blog/pending_release/../video.ipynb\n",
      "/Users/fbaptiste/dev/python-blog/pending_release/../.DS_Store\n",
      "/Users/fbaptiste/dev/python-blog/pending_release/../LICENSE\n",
      "/Users/fbaptiste/dev/python-blog/pending_release/../pyproject.toml\n",
      "/Users/fbaptiste/dev/python-blog/pending_release/../todo\n",
      "/Users/fbaptiste/dev/python-blog/pending_release/../README.md\n",
      "/Users/fbaptiste/dev/python-blog/pending_release/../Pipfile\n",
      "/Users/fbaptiste/dev/python-blog/pending_release/../pending_release\n",
      "/Users/fbaptiste/dev/python-blog/pending_release/../.gitignore\n",
      "/Users/fbaptiste/dev/python-blog/pending_release/../.ipynb_checkpoints\n",
      "/Users/fbaptiste/dev/python-blog/pending_release/../.git\n",
      "/Users/fbaptiste/dev/python-blog/pending_release/../Pipfile.lock\n",
      "/Users/fbaptiste/dev/python-blog/pending_release/../.idea\n"
     ]
    }
   ],
   "source": [
    "for path in root.iterdir():\n",
    "    print(path)"
   ]
  },
  {
   "cell_type": "markdown",
   "id": "31dace8e",
   "metadata": {},
   "source": [
    "I may be interested only in the sub directories, in which case we can easily filter directories out, using a `filter` function (to keep the generator aspect), a list comprehension, or even just an `if` statement in a loop:"
   ]
  },
  {
   "cell_type": "code",
   "execution_count": 68,
   "id": "f5fec6cc",
   "metadata": {},
   "outputs": [
    {
     "name": "stdout",
     "output_type": "stream",
     "text": [
      "/Users/fbaptiste/dev/python-blog/pending_release/../2022\n",
      "/Users/fbaptiste/dev/python-blog/pending_release/../todo\n",
      "/Users/fbaptiste/dev/python-blog/pending_release/../pending_release\n",
      "/Users/fbaptiste/dev/python-blog/pending_release/../.ipynb_checkpoints\n",
      "/Users/fbaptiste/dev/python-blog/pending_release/../.git\n",
      "/Users/fbaptiste/dev/python-blog/pending_release/../.idea\n"
     ]
    }
   ],
   "source": [
    "for item in root.iterdir():\n",
    "    if item.is_dir():\n",
    "        print(item)"
   ]
  },
  {
   "cell_type": "code",
   "execution_count": 69,
   "id": "6dde07d4",
   "metadata": {},
   "outputs": [
    {
     "data": {
      "text/plain": [
       "[PosixPath('/Users/fbaptiste/dev/python-blog/pending_release/../2022'),\n",
       " PosixPath('/Users/fbaptiste/dev/python-blog/pending_release/../todo'),\n",
       " PosixPath('/Users/fbaptiste/dev/python-blog/pending_release/../pending_release'),\n",
       " PosixPath('/Users/fbaptiste/dev/python-blog/pending_release/../.ipynb_checkpoints'),\n",
       " PosixPath('/Users/fbaptiste/dev/python-blog/pending_release/../.git'),\n",
       " PosixPath('/Users/fbaptiste/dev/python-blog/pending_release/../.idea')]"
      ]
     },
     "execution_count": 69,
     "metadata": {},
     "output_type": "execute_result"
    }
   ],
   "source": [
    "[item for item in root.iterdir() if item.is_dir()]"
   ]
  },
  {
   "cell_type": "code",
   "execution_count": 70,
   "id": "e31ae849",
   "metadata": {},
   "outputs": [
    {
     "name": "stdout",
     "output_type": "stream",
     "text": [
      "/Users/fbaptiste/dev/python-blog/pending_release/../2022\n",
      "/Users/fbaptiste/dev/python-blog/pending_release/../todo\n",
      "/Users/fbaptiste/dev/python-blog/pending_release/../pending_release\n",
      "/Users/fbaptiste/dev/python-blog/pending_release/../.ipynb_checkpoints\n",
      "/Users/fbaptiste/dev/python-blog/pending_release/../.git\n",
      "/Users/fbaptiste/dev/python-blog/pending_release/../.idea\n"
     ]
    }
   ],
   "source": [
    "for item in filter(lambda item: item.is_dir(), root.iterdir()):\n",
    "    print(item)"
   ]
  },
  {
   "cell_type": "markdown",
   "id": "102e62ae",
   "metadata": {},
   "source": [
    "The `iterdir()` method is **not recursive**, so you would need to write your own recursive code to recursively list all paths starting at some root."
   ]
  },
  {
   "cell_type": "markdown",
   "id": "7afd2f8f",
   "metadata": {},
   "source": [
    "But for this specific scenario, Python gives us the `glob` method - an incredibly useful method to recursively (or not) list paths that match a specific pattern, starting at some root."
   ]
  },
  {
   "cell_type": "markdown",
   "id": "6762bf25",
   "metadata": {},
   "source": [
    "Let's say I want to see all the files in my current project that end with `.py`:"
   ]
  },
  {
   "cell_type": "markdown",
   "id": "c34aee2f",
   "metadata": {},
   "source": [
    "First, I'm going to set my root path (again you may need to tweak this based on your directory structure)"
   ]
  },
  {
   "cell_type": "code",
   "execution_count": 71,
   "id": "eba4d301",
   "metadata": {},
   "outputs": [
    {
     "data": {
      "text/plain": [
       "PosixPath('/Users/fbaptiste/dev/python-blog')"
      ]
     },
     "execution_count": 71,
     "metadata": {},
     "output_type": "execute_result"
    }
   ],
   "source": [
    "root = Path.cwd().parent\n",
    "root.absolute()"
   ]
  },
  {
   "cell_type": "markdown",
   "id": "f3e03009",
   "metadata": {},
   "source": [
    "Now, to list all `.py` paths:"
   ]
  },
  {
   "cell_type": "code",
   "execution_count": 72,
   "id": "8e2476e4",
   "metadata": {},
   "outputs": [],
   "source": [
    "for path in root.glob('*.py'):\n",
    "    print(path)"
   ]
  },
  {
   "cell_type": "markdown",
   "id": "32622e7a",
   "metadata": {},
   "source": [
    "As you can see there are no paths ending in `.py` in that directory - just to make sure this is actually working, let's look for something that I know does exist:"
   ]
  },
  {
   "cell_type": "code",
   "execution_count": 73,
   "id": "b681b6fc",
   "metadata": {},
   "outputs": [
    {
     "name": "stdout",
     "output_type": "stream",
     "text": [
      "/Users/fbaptiste/dev/python-blog/pyproject.toml\n"
     ]
    }
   ],
   "source": [
    "for path in root.glob('*.toml'):\n",
    "    print(path)"
   ]
  },
  {
   "cell_type": "markdown",
   "id": "2e0af0b4",
   "metadata": {},
   "source": [
    "The `*` here basically says *match everything* - but as you can see, this is not recursive."
   ]
  },
  {
   "cell_type": "markdown",
   "id": "f238e8a1",
   "metadata": {},
   "source": [
    "You can see standard path name pattern matching possibilities [here](https://docs.python.org/3/library/fnmatch.html#module-fnmatch)\n",
    "\n",
    "The basics are:\n",
    "- * matches any number of characters\n",
    "- ? matches a single parameter"
   ]
  },
  {
   "cell_type": "markdown",
   "id": "7ae14021",
   "metadata": {},
   "source": [
    "In addition, `glob` also supports the pattern `**` which means **this directory and all subdirectories**."
   ]
  },
  {
   "cell_type": "markdown",
   "id": "8f1d76b2",
   "metadata": {},
   "source": [
    "For example, to find all the `.py` files recursively:"
   ]
  },
  {
   "cell_type": "code",
   "execution_count": 74,
   "id": "ac2c09c8",
   "metadata": {},
   "outputs": [
    {
     "name": "stdout",
     "output_type": "stream",
     "text": [
      "/Users/fbaptiste/dev/python-blog/2022/08 - August/click/setup.py\n",
      "/Users/fbaptiste/dev/python-blog/2022/08 - August/click/main.py\n",
      "/Users/fbaptiste/dev/python-blog/2022/08 - August/click/converters/csv_converter.py\n",
      "/Users/fbaptiste/dev/python-blog/2022/08 - August/click/converters/cli.py\n",
      "/Users/fbaptiste/dev/python-blog/2022/08 - August/click/viewers/enums.py\n",
      "/Users/fbaptiste/dev/python-blog/2022/08 - August/click/viewers/json_viewer.py\n",
      "/Users/fbaptiste/dev/python-blog/2022/08 - August/click/viewers/__init__.py\n",
      "/Users/fbaptiste/dev/python-blog/2022/08 - August/click/viewers/csv_viewer.py\n",
      "/Users/fbaptiste/dev/python-blog/2022/08 - August/black_isort/mod1.py\n",
      "/Users/fbaptiste/dev/python-blog/2022/08 - August/black_isort/mod2.py\n",
      "/Users/fbaptiste/dev/python-blog/2022/08 - August/black_isort/badly_formatted.py\n",
      "/Users/fbaptiste/dev/python-blog/2022/06 - June/async-producer-consumer/controller.py\n",
      "/Users/fbaptiste/dev/python-blog/2022/06 - June/async-producer-consumer/resulthandler.py\n",
      "/Users/fbaptiste/dev/python-blog/2022/06 - June/async-producer-consumer/producer.py\n",
      "/Users/fbaptiste/dev/python-blog/2022/06 - June/async-producer-consumer/consumer.py\n",
      "/Users/fbaptiste/dev/python-blog/2022/06 - June/async-producer-consumer/main.py\n"
     ]
    }
   ],
   "source": [
    "for path in root.glob('**/*.py'):\n",
    "    print(path)"
   ]
  },
  {
   "cell_type": "markdown",
   "id": "a023b7f2",
   "metadata": {},
   "source": [
    "Here's another example, where I want to find all the paths than contain `py` in their extension:"
   ]
  },
  {
   "cell_type": "code",
   "execution_count": 75,
   "id": "bb3f5292",
   "metadata": {},
   "outputs": [
    {
     "name": "stdout",
     "output_type": "stream",
     "text": [
      "/Users/fbaptiste/dev/python-blog/video.ipynb\n",
      "/Users/fbaptiste/dev/python-blog/.ipynb_checkpoints\n",
      "/Users/fbaptiste/dev/python-blog/2022/09 - September/defaultdict.ipynb\n",
      "/Users/fbaptiste/dev/python-blog/2022/07 - July/pydantic.ipynb\n",
      "/Users/fbaptiste/dev/python-blog/2022/07 - July/pairwise-iteration-using-zip.ipynb\n",
      "/Users/fbaptiste/dev/python-blog/2022/07 - July/type-hinting.ipynb\n",
      "/Users/fbaptiste/dev/python-blog/2022/07 - July/case-insensitive-string-comparisons.ipynb\n",
      "/Users/fbaptiste/dev/python-blog/2022/07 - July/.ipynb_checkpoints\n",
      "/Users/fbaptiste/dev/python-blog/2022/07 - July/unicode.ipynb\n",
      "/Users/fbaptiste/dev/python-blog/2022/07 - July/comparing-lists.ipynb\n",
      "/Users/fbaptiste/dev/python-blog/2022/07 - July/concatenating-sequences.ipynb\n",
      "/Users/fbaptiste/dev/python-blog/2022/07 - July/.ipynb_checkpoints/case-insensitive-string-comparisons-checkpoint.ipynb\n",
      "/Users/fbaptiste/dev/python-blog/2022/07 - July/.ipynb_checkpoints/unicode-checkpoint.ipynb\n",
      "/Users/fbaptiste/dev/python-blog/2022/07 - July/.ipynb_checkpoints/type-hinting-checkpoint.ipynb\n",
      "/Users/fbaptiste/dev/python-blog/2022/08 - August/humanize.ipynb\n",
      "/Users/fbaptiste/dev/python-blog/2022/08 - August/click/setup.py\n",
      "/Users/fbaptiste/dev/python-blog/2022/08 - August/click/main.py\n",
      "/Users/fbaptiste/dev/python-blog/2022/08 - August/click/converters/csv_converter.py\n",
      "/Users/fbaptiste/dev/python-blog/2022/08 - August/click/converters/cli.py\n",
      "/Users/fbaptiste/dev/python-blog/2022/08 - August/click/converters/__pycache__/cli.cpython-310.pyc\n",
      "/Users/fbaptiste/dev/python-blog/2022/08 - August/click/viewers/enums.py\n",
      "/Users/fbaptiste/dev/python-blog/2022/08 - August/click/viewers/json_viewer.py\n",
      "/Users/fbaptiste/dev/python-blog/2022/08 - August/click/viewers/__init__.py\n",
      "/Users/fbaptiste/dev/python-blog/2022/08 - August/click/viewers/csv_viewer.py\n",
      "/Users/fbaptiste/dev/python-blog/2022/08 - August/click/viewers/__pycache__/csv_viewer.cpython-310.pyc\n",
      "/Users/fbaptiste/dev/python-blog/2022/08 - August/click/viewers/__pycache__/enums.cpython-310.pyc\n",
      "/Users/fbaptiste/dev/python-blog/2022/08 - August/click/viewers/__pycache__/json_viewer.cpython-310.pyc\n",
      "/Users/fbaptiste/dev/python-blog/2022/08 - August/click/viewers/__pycache__/__init__.cpython-310.pyc\n",
      "/Users/fbaptiste/dev/python-blog/2022/08 - August/black_isort/mod1.py\n",
      "/Users/fbaptiste/dev/python-blog/2022/08 - August/black_isort/mod2.py\n",
      "/Users/fbaptiste/dev/python-blog/2022/08 - August/black_isort/badly_formatted.py\n",
      "/Users/fbaptiste/dev/python-blog/2022/08 - August/tabulate/tabulate.ipynb\n",
      "/Users/fbaptiste/dev/python-blog/2022/08 - August/tabulate/.ipynb_checkpoints\n",
      "/Users/fbaptiste/dev/python-blog/2022/08 - August/tabulate/.ipynb_checkpoints/tabulate-checkpoint.ipynb\n",
      "/Users/fbaptiste/dev/python-blog/2022/06 - June/lists-deleting-elements.ipynb\n",
      "/Users/fbaptiste/dev/python-blog/2022/06 - June/accessing-the-clipboard-with-pyperclip-library.ipynb\n",
      "/Users/fbaptiste/dev/python-blog/2022/06 - June/looping-n-times.ipynb\n",
      "/Users/fbaptiste/dev/python-blog/2022/06 - June/async-producer-consumer/controller.py\n",
      "/Users/fbaptiste/dev/python-blog/2022/06 - June/async-producer-consumer/resulthandler.py\n",
      "/Users/fbaptiste/dev/python-blog/2022/06 - June/async-producer-consumer/producer.py\n",
      "/Users/fbaptiste/dev/python-blog/2022/06 - June/async-producer-consumer/consumer.py\n",
      "/Users/fbaptiste/dev/python-blog/2022/06 - June/async-producer-consumer/main.py\n",
      "/Users/fbaptiste/dev/python-blog/todo/walrus-operator-accumulation.ipynb\n",
      "/Users/fbaptiste/dev/python-blog/todo/turtle-graphics.ipynb\n",
      "/Users/fbaptiste/dev/python-blog/todo/mapping-proxy-type.ipynb\n",
      "/Users/fbaptiste/dev/python-blog/todo/libraries-to-cover.ipynb\n",
      "/Users/fbaptiste/dev/python-blog/todo/emojis.ipynb\n",
      "/Users/fbaptiste/dev/python-blog/todo/rational-float-approximations.ipynb\n",
      "/Users/fbaptiste/dev/python-blog/todo/.ipynb_checkpoints\n",
      "/Users/fbaptiste/dev/python-blog/todo/string-parsing-with-parse-library.ipynb\n",
      "/Users/fbaptiste/dev/python-blog/todo/more-itertools-library.ipynb\n",
      "/Users/fbaptiste/dev/python-blog/todo/integrating-wikipedia.ipynb\n",
      "/Users/fbaptiste/dev/python-blog/todo/.ipynb_checkpoints/pydantic-checkpoint.ipynb\n",
      "/Users/fbaptiste/dev/python-blog/todo/.ipynb_checkpoints/async-publisher-subscriber-checkpoint.ipynb\n",
      "/Users/fbaptiste/dev/python-blog/todo/.ipynb_checkpoints/accessing-the-clipboard-with-pyperclip-library-checkpoint.ipynb\n",
      "/Users/fbaptiste/dev/python-blog/todo/.ipynb_checkpoints/walrus-operator-accumulation-checkpoint.ipynb\n",
      "/Users/fbaptiste/dev/python-blog/pending_release/.ipynb_checkpoints\n",
      "/Users/fbaptiste/dev/python-blog/pending_release/pathlib.ipynb\n",
      "/Users/fbaptiste/dev/python-blog/pending_release/.ipynb_checkpoints/comparing-lists-checkpoint.ipynb\n",
      "/Users/fbaptiste/dev/python-blog/pending_release/.ipynb_checkpoints/pydantic-checkpoint.ipynb\n",
      "/Users/fbaptiste/dev/python-blog/pending_release/.ipynb_checkpoints/pairwise-iteration-using-zip-checkpoint.ipynb\n",
      "/Users/fbaptiste/dev/python-blog/pending_release/.ipynb_checkpoints/pathlib-checkpoint.ipynb\n",
      "/Users/fbaptiste/dev/python-blog/pending_release/.ipynb_checkpoints/case-insensitive-string-comparisons-checkpoint.ipynb\n",
      "/Users/fbaptiste/dev/python-blog/pending_release/.ipynb_checkpoints/concatenating-sequences-checkpoint.ipynb\n",
      "/Users/fbaptiste/dev/python-blog/pending_release/.ipynb_checkpoints/defaultdict-checkpoint.ipynb\n",
      "/Users/fbaptiste/dev/python-blog/pending_release/.ipynb_checkpoints/type-hinting-checkpoint.ipynb\n",
      "/Users/fbaptiste/dev/python-blog/pending_release/.ipynb_checkpoints/accessing-the-clipboard-with-pyperclip-library-checkpoint.ipynb\n",
      "/Users/fbaptiste/dev/python-blog/pending_release/.ipynb_checkpoints/humanize-checkpoint.ipynb\n",
      "/Users/fbaptiste/dev/python-blog/.ipynb_checkpoints/comparing-lists-checkpoint.ipynb\n",
      "/Users/fbaptiste/dev/python-blog/.ipynb_checkpoints/looping-n-times-checkpoint.ipynb\n",
      "/Users/fbaptiste/dev/python-blog/.ipynb_checkpoints/mapping-proxy-type-checkpoint.ipynb\n",
      "/Users/fbaptiste/dev/python-blog/.ipynb_checkpoints/video-checkpoint.ipynb\n",
      "/Users/fbaptiste/dev/python-blog/.ipynb_checkpoints/string-parsing-with-parse-library-checkpoint.ipynb\n",
      "/Users/fbaptiste/dev/python-blog/.ipynb_checkpoints/integrating-wikipedia-checkpoint.ipynb\n",
      "/Users/fbaptiste/dev/python-blog/.ipynb_checkpoints/pairwise-iteration-checkpoint.ipynb\n",
      "/Users/fbaptiste/dev/python-blog/.ipynb_checkpoints/case-insensitive-string-comparisons-checkpoint.ipynb\n",
      "/Users/fbaptiste/dev/python-blog/.ipynb_checkpoints/concatenating-sequences-checkpoint.ipynb\n",
      "/Users/fbaptiste/dev/python-blog/.ipynb_checkpoints/async-publisher-subscriber-checkpoint.ipynb\n",
      "/Users/fbaptiste/dev/python-blog/.ipynb_checkpoints/pretty-print-tabular-data-checkpoint.ipynb\n",
      "/Users/fbaptiste/dev/python-blog/.ipynb_checkpoints/libraries-to-cover-checkpoint.ipynb\n",
      "/Users/fbaptiste/dev/python-blog/.ipynb_checkpoints/lists-deleting-elements-checkpoint.ipynb\n",
      "/Users/fbaptiste/dev/python-blog/.ipynb_checkpoints/creating-a-cli-using-click-library-checkpoint.ipynb\n",
      "/Users/fbaptiste/dev/python-blog/.ipynb_checkpoints/emojis-checkpoint.ipynb\n",
      "/Users/fbaptiste/dev/python-blog/.ipynb_checkpoints/rational-float-approximations-checkpoint.ipynb\n",
      "/Users/fbaptiste/dev/python-blog/.ipynb_checkpoints/accessing-the-clipboard-with-pyperclip-library-checkpoint.ipynb\n",
      "/Users/fbaptiste/dev/python-blog/.ipynb_checkpoints/turtle-graphics-checkpoint.ipynb\n",
      "/Users/fbaptiste/dev/python-blog/.ipynb_checkpoints/more-itertools-library-checkpoint.ipynb\n",
      "/Users/fbaptiste/dev/python-blog/.ipynb_checkpoints/concatenating-strings-checkpoint.ipynb\n"
     ]
    }
   ],
   "source": [
    "for path in root.glob('**/*.*py*'):\n",
    "    print(path)"
   ]
  },
  {
   "cell_type": "markdown",
   "id": "97718b2e",
   "metadata": {},
   "source": [
    "You can see this includes all different kinds of extensions:"
   ]
  },
  {
   "cell_type": "code",
   "execution_count": 76,
   "id": "4d55c259",
   "metadata": {},
   "outputs": [
    {
     "data": {
      "text/plain": [
       "{'.ipynb', '.py', '.pyc'}"
      ]
     },
     "execution_count": 76,
     "metadata": {},
     "output_type": "execute_result"
    }
   ],
   "source": [
    "extensions = {p.suffix for p in root.glob('**/*.*py*') if p.suffix}\n",
    "extensions"
   ]
  },
  {
   "cell_type": "markdown",
   "id": "719e57f2",
   "metadata": {},
   "source": [
    "Note that pattern matching with glob is not like regex - it is mainly intended to be used with \"inclusion\" patterns (e.g. what matches should be included, and to a far lesser extent what not to include). For more advanced filtering you should glob all the things you want to include, and then use secondary logic (possibly even regex) to filter out what you really want."
   ]
  },
  {
   "cell_type": "code",
   "execution_count": null,
   "id": "b14696c5",
   "metadata": {},
   "outputs": [],
   "source": []
  }
 ],
 "metadata": {
  "kernelspec": {
   "display_name": "Python 3 (ipykernel)",
   "language": "python",
   "name": "python3"
  },
  "language_info": {
   "codemirror_mode": {
    "name": "ipython",
    "version": 3
   },
   "file_extension": ".py",
   "mimetype": "text/x-python",
   "name": "python",
   "nbconvert_exporter": "python",
   "pygments_lexer": "ipython3",
   "version": "3.10.2"
  }
 },
 "nbformat": 4,
 "nbformat_minor": 5
}
