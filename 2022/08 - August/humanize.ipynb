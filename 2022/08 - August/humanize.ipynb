{
 "cells": [
  {
   "cell_type": "markdown",
   "id": "ccf1cff7",
   "metadata": {},
   "source": [
    "### The `humanize` Library"
   ]
  },
  {
   "cell_type": "markdown",
   "id": "47a7fb9a",
   "metadata": {},
   "source": [
    "The `humanize` library's documentation can be found [here](https://python-humanize.readthedocs.io/en/latest/)"
   ]
  },
  {
   "cell_type": "markdown",
   "id": "8c553a94",
   "metadata": {},
   "source": [
    "This is a very useful library for displaying times, time intervals and certain quantities in a more human-readable format. It's not widely known, but it can be really useful and helps avoid a lot of tedious code you would have to write to get the same functionality."
   ]
  },
  {
   "cell_type": "markdown",
   "id": "ea7a4021",
   "metadata": {},
   "source": [
    "From a display perspective, would you rather see information given this way:\n",
    "\n",
    "```\n",
    "784620802048 bytes\n",
    "```\n",
    "\n",
    "or this way?\n",
    "\n",
    "```\n",
    "784.6 GB\n",
    "```\n",
    "\n",
    "> Later we'll get into whether K, M, G, etc are factors of `1,000` or `1,024`"
   ]
  },
  {
   "cell_type": "markdown",
   "id": "9863e1d1",
   "metadata": {},
   "source": [
    "You can certainly write code to format this number in that way, but you'll have to account for handling different sizes, such as:\n",
    "```\n",
    "784620802048347 bytes --> 784.6 TB\n",
    "784620802048 bytes --> 784.6GB\n",
    "6208020 bytes --> 6.2 MB\n",
    "1245 --> 1.2kB\n",
    "100 bytes --> 100 bytes\n",
    "```"
   ]
  },
  {
   "cell_type": "markdown",
   "id": "f462d6c2",
   "metadata": {},
   "source": [
    "Similarly, you might want to display large numbers in a more readable, or even abbreviated form, such as:\n",
    "```\n",
    "1456893245 --> 1,456,893,245\n",
    "1456893245 --> 1.5 billion\n",
    "```"
   ]
  },
  {
   "cell_type": "markdown",
   "id": "da45b97e",
   "metadata": {},
   "source": [
    "This is precisely what the `humanize` library can do for us, and a lot more than what we just discussed."
   ]
  },
  {
   "cell_type": "markdown",
   "id": "d7f2d583",
   "metadata": {},
   "source": [
    "So, let's dig in to that library - it's simple to use and very quick to learn."
   ]
  },
  {
   "cell_type": "markdown",
   "id": "6ad18d8b",
   "metadata": {},
   "source": [
    "First, the documentation for this library is OK, but it misses some things."
   ]
  },
  {
   "cell_type": "markdown",
   "id": "a21933e0",
   "metadata": {},
   "source": [
    "For example, nothing in their docs tells you what the package name is you shoudl pip install - you can see this from [pypi](https://pypi.org/project/humanize/), or by looking at the source code [here](https://github.com/python-humanize/humanize/blob/main/setup.cfg) (the `name` setting)."
   ]
  },
  {
   "cell_type": "markdown",
   "id": "bf1a9ee6",
   "metadata": {},
   "source": [
    "Look at that github repo, because you'll likely refer to this to see what the library really can do"
   ]
  },
  {
   "cell_type": "code",
   "execution_count": 1,
   "id": "649f4abb",
   "metadata": {},
   "outputs": [],
   "source": [
    "import humanize"
   ]
  },
  {
   "cell_type": "markdown",
   "id": "8a94b7aa",
   "metadata": {},
   "source": [
    "#### Numbers"
   ]
  },
  {
   "cell_type": "markdown",
   "id": "f4525ca9",
   "metadata": {},
   "source": [
    "We have quite a variery of ways we can format numbers using humanize.\n",
    "\n",
    "Some of those options are included in the [docs](https://python-humanize.readthedocs.io/en/latest/), but many are not, so you'll need to look at the [code](https://github.com/python-humanize/humanize/blob/main/src/humanize/number.py)\n",
    "itself (and don't worry, the code functions are themselves well documented!)"
   ]
  },
  {
   "cell_type": "markdown",
   "id": "5cee7fac",
   "metadata": {},
   "source": [
    "For example, we can add thousand separators to numbers:"
   ]
  },
  {
   "cell_type": "code",
   "execution_count": 2,
   "id": "d4a4e00c",
   "metadata": {},
   "outputs": [
    {
     "data": {
      "text/plain": [
       "'1,234,567,890.45678'"
      ]
     },
     "execution_count": 2,
     "metadata": {},
     "output_type": "execute_result"
    }
   ],
   "source": [
    "humanize.intcomma(1234567890.45678)"
   ]
  },
  {
   "cell_type": "markdown",
   "id": "ead5e3b6",
   "metadata": {},
   "source": [
    "Here's a couple formatting options that are not mentioned in the docs.\n",
    "\n",
    "One is for converting numbers to their \"nth\" version:"
   ]
  },
  {
   "cell_type": "code",
   "execution_count": 3,
   "id": "593caf80",
   "metadata": {},
   "outputs": [
    {
     "name": "stdout",
     "output_type": "stream",
     "text": [
      "0th\n",
      "1st\n",
      "2nd\n",
      "3rd\n",
      "4th\n",
      "5th\n",
      "6th\n",
      "7th\n",
      "8th\n",
      "9th\n",
      "10th\n"
     ]
    }
   ],
   "source": [
    "for i in range(11):\n",
    "    print(humanize.ordinal(i))"
   ]
  },
  {
   "cell_type": "markdown",
   "id": "2bc13d2d",
   "metadata": {},
   "source": [
    "Another one is for limiting the number to between a floor and a ceiling, using the `clamp` function:"
   ]
  },
  {
   "cell_type": "code",
   "execution_count": 4,
   "id": "c34d8201",
   "metadata": {},
   "outputs": [
    {
     "data": {
      "text/plain": [
       "'<100'"
      ]
     },
     "execution_count": 4,
     "metadata": {},
     "output_type": "execute_result"
    }
   ],
   "source": [
    "humanize.clamp(80, floor=100, ceil=200)"
   ]
  },
  {
   "cell_type": "code",
   "execution_count": 5,
   "id": "1ef5de90",
   "metadata": {},
   "outputs": [
    {
     "data": {
      "text/plain": [
       "'>200'"
      ]
     },
     "execution_count": 5,
     "metadata": {},
     "output_type": "execute_result"
    }
   ],
   "source": [
    "humanize.clamp(280, floor=100, ceil=200)"
   ]
  },
  {
   "cell_type": "markdown",
   "id": "3410985c",
   "metadata": {},
   "source": [
    "Another really interesting one (also not documented), is the `metric` function that will humanize values using the standard [SI prefixes](https://physics.nist.gov/cuu/Units/prefixes.html)"
   ]
  },
  {
   "cell_type": "code",
   "execution_count": 6,
   "id": "e012c14d",
   "metadata": {},
   "outputs": [
    {
     "data": {
      "text/plain": [
       "'1.23 kg'"
      ]
     },
     "execution_count": 6,
     "metadata": {},
     "output_type": "execute_result"
    }
   ],
   "source": [
    "humanize.metric(1234, 'g')"
   ]
  },
  {
   "cell_type": "code",
   "execution_count": 7,
   "id": "44873674",
   "metadata": {},
   "outputs": [
    {
     "data": {
      "text/plain": [
       "'100 μF'"
      ]
     },
     "execution_count": 7,
     "metadata": {},
     "output_type": "execute_result"
    }
   ],
   "source": [
    "humanize.metric(0.0001, 'F')"
   ]
  },
  {
   "cell_type": "markdown",
   "id": "b6b8a89d",
   "metadata": {},
   "source": [
    "You can also deal with floats and scientific notation:"
   ]
  },
  {
   "cell_type": "code",
   "execution_count": 8,
   "id": "718d55fe",
   "metadata": {},
   "outputs": [
    {
     "data": {
      "text/plain": [
       "'3 7/50'"
      ]
     },
     "execution_count": 8,
     "metadata": {},
     "output_type": "execute_result"
    }
   ],
   "source": [
    "humanize.fractional(3.14)"
   ]
  },
  {
   "cell_type": "code",
   "execution_count": 9,
   "id": "77577b29",
   "metadata": {},
   "outputs": [
    {
     "data": {
      "text/plain": [
       "'5.00 x 10⁻¹'"
      ]
     },
     "execution_count": 9,
     "metadata": {},
     "output_type": "execute_result"
    }
   ],
   "source": [
    "humanize.scientific(0.5)"
   ]
  },
  {
   "cell_type": "code",
   "execution_count": 10,
   "id": "76eb7ec9",
   "metadata": {},
   "outputs": [
    {
     "data": {
      "text/plain": [
       "'8.6602540378 x 10⁻¹'"
      ]
     },
     "execution_count": 10,
     "metadata": {},
     "output_type": "execute_result"
    }
   ],
   "source": [
    "from math import pi, sin\n",
    "humanize.scientific(sin(pi/3), precision=10)"
   ]
  },
  {
   "cell_type": "markdown",
   "id": "8c62b0d6",
   "metadata": {},
   "source": [
    "There are a few more number related functions that are documented, so check them out in the docs link I have at the top of this notebook."
   ]
  },
  {
   "cell_type": "markdown",
   "id": "ef472a06",
   "metadata": {},
   "source": [
    "#### Dates, Times and Time Deltas"
   ]
  },
  {
   "cell_type": "markdown",
   "id": "e6659273",
   "metadata": {},
   "source": [
    "Humanize is really handy for dealing with datetimes and time deltas."
   ]
  },
  {
   "cell_type": "markdown",
   "id": "deeab74f",
   "metadata": {},
   "source": [
    "Let's take a look at the `naturaltime` function:"
   ]
  },
  {
   "cell_type": "code",
   "execution_count": 11,
   "id": "6c2a42bb",
   "metadata": {},
   "outputs": [],
   "source": [
    "from datetime import datetime"
   ]
  },
  {
   "cell_type": "code",
   "execution_count": 12,
   "id": "095de69b",
   "metadata": {},
   "outputs": [
    {
     "data": {
      "text/plain": [
       "'now'"
      ]
     },
     "execution_count": 12,
     "metadata": {},
     "output_type": "execute_result"
    }
   ],
   "source": [
    "humanize.naturaltime(datetime.now())"
   ]
  },
  {
   "cell_type": "markdown",
   "id": "92e9afc0",
   "metadata": {},
   "source": [
    "You can see that instead of displaying the value of `datetime.now()` (the **local** current time), it displays the string `now`. \n",
    "\n",
    "> Notice that this means that the point in time relative to which this difference is calculated is based, by default, on the **local** time.\n",
    "\n",
    "In fact, this makes it very clear:"
   ]
  },
  {
   "cell_type": "code",
   "execution_count": 13,
   "id": "6ab9a0dc",
   "metadata": {},
   "outputs": [
    {
     "data": {
      "text/plain": [
       "'6 hours from now'"
      ]
     },
     "execution_count": 13,
     "metadata": {},
     "output_type": "execute_result"
    }
   ],
   "source": [
    "humanize.naturaltime(datetime.utcnow())"
   ]
  },
  {
   "cell_type": "markdown",
   "id": "8f1cf907",
   "metadata": {},
   "source": [
    "Obviously this not correct - `utcnow()` should be now, not offset by 6 hours!"
   ]
  },
  {
   "cell_type": "markdown",
   "id": "ec4b79df",
   "metadata": {},
   "source": [
    "We can tell humanize what that relative `now` is:"
   ]
  },
  {
   "cell_type": "code",
   "execution_count": 14,
   "id": "7e466504",
   "metadata": {},
   "outputs": [
    {
     "data": {
      "text/plain": [
       "'now'"
      ]
     },
     "execution_count": 14,
     "metadata": {},
     "output_type": "execute_result"
    }
   ],
   "source": [
    "humanize.naturaltime(datetime.utcnow(), when=datetime.utcnow())"
   ]
  },
  {
   "cell_type": "markdown",
   "id": "e7e36d54",
   "metadata": {},
   "source": [
    "Since we should always be working with UTC times internally in our apps, you'll want to use that `when` option almost always for absolute times."
   ]
  },
  {
   "cell_type": "markdown",
   "id": "fb8272d6",
   "metadata": {},
   "source": [
    "Let's look at a few more examples of how humanize deals with absolute times:"
   ]
  },
  {
   "cell_type": "code",
   "execution_count": 15,
   "id": "22f55506",
   "metadata": {},
   "outputs": [],
   "source": [
    "from datetime import timedelta"
   ]
  },
  {
   "cell_type": "code",
   "execution_count": 16,
   "id": "a9920481",
   "metadata": {},
   "outputs": [],
   "source": [
    "when = datetime.utcnow()\n",
    "d1 = when + timedelta(days=1, minutes=3, seconds=23)\n",
    "d2 = when - timedelta(days=90, hours=3)"
   ]
  },
  {
   "cell_type": "code",
   "execution_count": 17,
   "id": "c8595c74",
   "metadata": {},
   "outputs": [
    {
     "data": {
      "text/plain": [
       "'a day from now'"
      ]
     },
     "execution_count": 17,
     "metadata": {},
     "output_type": "execute_result"
    }
   ],
   "source": [
    "humanize.naturaltime(d1, when=when)"
   ]
  },
  {
   "cell_type": "code",
   "execution_count": 18,
   "id": "eaccd6a9",
   "metadata": {},
   "outputs": [
    {
     "data": {
      "text/plain": [
       "'2 months ago'"
      ]
     },
     "execution_count": 18,
     "metadata": {},
     "output_type": "execute_result"
    }
   ],
   "source": [
    "humanize.naturaltime(d2, when=when)"
   ]
  },
  {
   "cell_type": "markdown",
   "id": "862caf1e",
   "metadata": {},
   "source": [
    "It can humanize time deltas in pretty much the same way, just without the tense (\"from now\", \"ago\"):"
   ]
  },
  {
   "cell_type": "code",
   "execution_count": 19,
   "id": "f6437d94",
   "metadata": {},
   "outputs": [
    {
     "data": {
      "text/plain": [
       "'10 minutes'"
      ]
     },
     "execution_count": 19,
     "metadata": {},
     "output_type": "execute_result"
    }
   ],
   "source": [
    "humanize.naturaldelta(timedelta(minutes=10, seconds=30, milliseconds=200))"
   ]
  },
  {
   "cell_type": "markdown",
   "id": "653c34d0",
   "metadata": {},
   "source": [
    "When we deal with time deltas less than a second:"
   ]
  },
  {
   "cell_type": "code",
   "execution_count": 20,
   "id": "c16512e3",
   "metadata": {},
   "outputs": [
    {
     "data": {
      "text/plain": [
       "'a moment'"
      ]
     },
     "execution_count": 20,
     "metadata": {},
     "output_type": "execute_result"
    }
   ],
   "source": [
    "humanize.naturaldelta(timedelta(microseconds=200))"
   ]
  },
  {
   "cell_type": "markdown",
   "id": "f6bab3c4",
   "metadata": {},
   "source": [
    "We can lower the minimum unit used:"
   ]
  },
  {
   "cell_type": "code",
   "execution_count": 21,
   "id": "468f81d4",
   "metadata": {},
   "outputs": [
    {
     "data": {
      "text/plain": [
       "'0 milliseconds'"
      ]
     },
     "execution_count": 21,
     "metadata": {},
     "output_type": "execute_result"
    }
   ],
   "source": [
    "humanize.naturaldelta(timedelta(microseconds=200), minimum_unit=\"milliseconds\")"
   ]
  },
  {
   "cell_type": "code",
   "execution_count": 22,
   "id": "56651785",
   "metadata": {},
   "outputs": [
    {
     "data": {
      "text/plain": [
       "'200 microseconds'"
      ]
     },
     "execution_count": 22,
     "metadata": {},
     "output_type": "execute_result"
    }
   ],
   "source": [
    "humanize.naturaldelta(timedelta(microseconds=200), minimum_unit=\"microseconds\")"
   ]
  },
  {
   "cell_type": "markdown",
   "id": "ca922514",
   "metadata": {},
   "source": [
    "### File Sizes"
   ]
  },
  {
   "cell_type": "markdown",
   "id": "d2d734d3",
   "metadata": {},
   "source": [
    "These functions are handy for display file sizes in more human readable fashion:"
   ]
  },
  {
   "cell_type": "code",
   "execution_count": 23,
   "id": "99e75d22",
   "metadata": {},
   "outputs": [
    {
     "data": {
      "text/plain": [
       "'1.0 kB'"
      ]
     },
     "execution_count": 23,
     "metadata": {},
     "output_type": "execute_result"
    }
   ],
   "source": [
    "humanize.naturalsize(1024)"
   ]
  },
  {
   "cell_type": "markdown",
   "id": "302fa491",
   "metadata": {},
   "source": [
    "We can specify the precision of the format number:"
   ]
  },
  {
   "cell_type": "code",
   "execution_count": 24,
   "id": "dc6c3fbd",
   "metadata": {},
   "outputs": [
    {
     "data": {
      "text/plain": [
       "'1.024 kB'"
      ]
     },
     "execution_count": 24,
     "metadata": {},
     "output_type": "execute_result"
    }
   ],
   "source": [
    "humanize.naturalsize(1024, format=\"%.3f\")"
   ]
  },
  {
   "cell_type": "markdown",
   "id": "5714a034",
   "metadata": {},
   "source": [
    "One important distinction we have to make is whether a kilo is 1000 (decimal system) or 1024 (binary system)."
   ]
  },
  {
   "cell_type": "markdown",
   "id": "016acc30",
   "metadata": {},
   "source": [
    "Typically memory in a computer is measured in a binary system, so \n",
    "\n",
    "```256MB```\n",
    "\n",
    "of memory means\n",
    "\n",
    "```256 * 1024 * 1024 = 268,435,456 bytes```"
   ]
  },
  {
   "cell_type": "markdown",
   "id": "31771562",
   "metadata": {},
   "source": [
    "On the other hand, hard drive manufacturers use the decimal system, so \n",
    "\n",
    "```256MB``` \n",
    "\n",
    "is equivalent to \n",
    "\n",
    "```256 * 1000 * 1000 = 256,000,000 bytes```"
   ]
  },
  {
   "cell_type": "markdown",
   "id": "87727397",
   "metadata": {},
   "source": [
    "This can be quite confusing, and the IEC (International Electronic Commission) finally set some standards up regarding this:"
   ]
  },
  {
   "cell_type": "markdown",
   "id": "2565699c",
   "metadata": {},
   "source": [
    "The prefixes **k**(ilo), **M**(ega) **G**(iga), **T**(erra), etc are **decimal** based, so factors of `1,000`"
   ]
  },
  {
   "cell_type": "markdown",
   "id": "d79809d9",
   "metadata": {},
   "source": [
    "For a binary system, the symbols are as follows:\n",
    "\n",
    "**Ki**, **Mi**, **Gi**, **Ti**, etc\n",
    "with corresponding names:\n",
    "Kibi, mebi, gibi, Tebi, etc\n",
    "\n",
    "and are therefore factors of `1,024`."
   ]
  },
  {
   "cell_type": "markdown",
   "id": "0b7b156e",
   "metadata": {},
   "source": [
    "For more info you can check out this [wikipedia article](https://en.wikipedia.org/wiki/Kilobyte) on the subject."
   ]
  },
  {
   "cell_type": "markdown",
   "id": "a37b153c",
   "metadata": {},
   "source": [
    "This way, no more ambiguity... as long as folks actually use it :-) "
   ]
  },
  {
   "cell_type": "markdown",
   "id": "9ffbff68",
   "metadata": {},
   "source": [
    "`humanize` is able to humanize bytes into either decimal or binary:"
   ]
  },
  {
   "cell_type": "code",
   "execution_count": 25,
   "id": "3efde7e5",
   "metadata": {},
   "outputs": [],
   "source": [
    "value = 1_000_000_000"
   ]
  },
  {
   "cell_type": "code",
   "execution_count": 26,
   "id": "50e12605",
   "metadata": {},
   "outputs": [
    {
     "data": {
      "text/plain": [
       "'1.0 GB'"
      ]
     },
     "execution_count": 26,
     "metadata": {},
     "output_type": "execute_result"
    }
   ],
   "source": [
    "humanize.naturalsize(value)"
   ]
  },
  {
   "cell_type": "code",
   "execution_count": 27,
   "id": "0472e1bc",
   "metadata": {},
   "outputs": [
    {
     "data": {
      "text/plain": [
       "'953.7 MiB'"
      ]
     },
     "execution_count": 27,
     "metadata": {},
     "output_type": "execute_result"
    }
   ],
   "source": [
    "humanize.naturalsize(value, binary=True)"
   ]
  },
  {
   "cell_type": "markdown",
   "id": "ecab1b21",
   "metadata": {},
   "source": [
    "#### Localization"
   ]
  },
  {
   "cell_type": "markdown",
   "id": "bad0c520",
   "metadata": {},
   "source": [
    "Lastly, `humanize` also supports localization (aka internationalization, usually abbreviated as **i18n**)"
   ]
  },
  {
   "cell_type": "markdown",
   "id": "39def1a6",
   "metadata": {},
   "source": [
    "When we look at certain humanizations, you'll notice that mine were in (US) English - that's because my locale is that, but your locale may be different, and you may get different results."
   ]
  },
  {
   "cell_type": "markdown",
   "id": "51e3efec",
   "metadata": {},
   "source": [
    "`humanize` provides a bunch of local definitions (and you can always add one yourself if you need to). The library does not document what those locales are, but you can find them [here](https://github.com/python-humanize/humanize/tree/main/src/humanize/locale)"
   ]
  },
  {
   "cell_type": "markdown",
   "id": "688a9079",
   "metadata": {},
   "source": [
    "For example, we could set our locale to `fr_FR`:"
   ]
  },
  {
   "cell_type": "code",
   "execution_count": 28,
   "id": "3cd64da7",
   "metadata": {},
   "outputs": [
    {
     "data": {
      "text/plain": [
       "<gettext.GNUTranslations at 0x107d2f550>"
      ]
     },
     "execution_count": 28,
     "metadata": {},
     "output_type": "execute_result"
    }
   ],
   "source": [
    "humanize.i18n.activate('fr_FR')"
   ]
  },
  {
   "cell_type": "markdown",
   "id": "0b76175c",
   "metadata": {},
   "source": [
    "And let's look at some of our previous example:"
   ]
  },
  {
   "cell_type": "code",
   "execution_count": 29,
   "id": "4ef8b04b",
   "metadata": {},
   "outputs": [
    {
     "name": "stdout",
     "output_type": "stream",
     "text": [
      "0e\n",
      "1er\n",
      "2e\n",
      "3e\n",
      "4e\n",
      "5e\n",
      "6e\n",
      "7e\n",
      "8e\n",
      "9e\n",
      "10e\n"
     ]
    }
   ],
   "source": [
    "for i in range(11):\n",
    "    print(humanize.ordinal(i))"
   ]
  },
  {
   "cell_type": "code",
   "execution_count": 30,
   "id": "8374c0d0",
   "metadata": {},
   "outputs": [
    {
     "name": "stdout",
     "output_type": "stream",
     "text": [
      "dans un jour\n",
      "il y a 2 mois\n"
     ]
    }
   ],
   "source": [
    "when = datetime.utcnow()\n",
    "d1 = when + timedelta(days=1, minutes=3, seconds=23)\n",
    "d2 = when - timedelta(days=90, hours=3)\n",
    "\n",
    "print(humanize.naturaltime(d1))\n",
    "print(humanize.naturaltime(d2))"
   ]
  },
  {
   "cell_type": "markdown",
   "id": "d96295df",
   "metadata": {},
   "source": [
    "Let's try another locale:"
   ]
  },
  {
   "cell_type": "code",
   "execution_count": 31,
   "id": "75d18ceb",
   "metadata": {},
   "outputs": [
    {
     "name": "stdout",
     "output_type": "stream",
     "text": [
      "0th\n",
      "1st\n",
      "2nd\n",
      "3rd\n",
      "4th\n",
      "5th\n",
      "6th\n",
      "7th\n",
      "8th\n",
      "9th\n",
      "10th\n",
      "আজ থেকে এক দিন পরে\n",
      "2 মাস আগে\n"
     ]
    }
   ],
   "source": [
    "humanize.i18n.activate('bn_BD')\n",
    "\n",
    "for i in range(11):\n",
    "    print(humanize.ordinal(i))\n",
    "    \n",
    "when = datetime.utcnow()\n",
    "d1 = when + timedelta(days=1, minutes=3, seconds=23)\n",
    "d2 = when - timedelta(days=90, hours=3)\n",
    "\n",
    "print(humanize.naturaltime(d1))\n",
    "print(humanize.naturaltime(d2))"
   ]
  },
  {
   "cell_type": "markdown",
   "id": "7af80398",
   "metadata": {},
   "source": [
    "As you can see, not all locales support everything, so your mileage may vary. And if you're up to it, you can always contribute to that library with your own locale definition. I'm sure the author of the library would appreciate the help!"
   ]
  },
  {
   "cell_type": "code",
   "execution_count": null,
   "id": "2d0f4f05",
   "metadata": {},
   "outputs": [],
   "source": []
  }
 ],
 "metadata": {
  "kernelspec": {
   "display_name": "Python 3 (ipykernel)",
   "language": "python",
   "name": "python3"
  },
  "language_info": {
   "codemirror_mode": {
    "name": "ipython",
    "version": 3
   },
   "file_extension": ".py",
   "mimetype": "text/x-python",
   "name": "python",
   "nbconvert_exporter": "python",
   "pygments_lexer": "ipython3",
   "version": "3.10.2"
  }
 },
 "nbformat": 4,
 "nbformat_minor": 5
}
