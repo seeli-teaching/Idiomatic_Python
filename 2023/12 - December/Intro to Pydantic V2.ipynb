{
 "cells": [
  {
   "cell_type": "markdown",
   "id": "073ca920-e8b5-460f-b874-4d3277839130",
   "metadata": {},
   "source": [
    "# Intro to Pydantic V2"
   ]
  },
  {
   "cell_type": "markdown",
   "id": "6944e351-89e3-4602-9505-f16461572839",
   "metadata": {},
   "source": [
    "I have a full Udemy course if you want in-depth coverage of Pydantic V2. \n",
    "\n",
    "The course is available here: [Pydantic V2: Essentials](https://www.udemy.com/course/pydantic/?referralCode=581AD0DC27E0E1EDB538) \n",
    "\n",
    "See the corresponding YouTube video ([here](https://youtu.be/ok8bF8M7gjk)) to see if there are any ongoing promotional coupons available.\n",
    "\n",
    "The goal of this video is just to get you started using Pydantic V2.\n",
    "\n",
    "(For Pydantic V1, please check this channel for a relatively detailed video on the subject - video available [here](https://www.youtube.com/watch?v=gb3arRysqMo)).\n",
    "\n",
    "You will need to know basic Python type hinting (I have a video on this subject too, in this channel - video available [here](https://www.youtube.com/watch?v=iqhOyZUT1Es))."
   ]
  },
  {
   "cell_type": "markdown",
   "id": "c02c2318-86b7-4378-bad9-ae92a0206a0d",
   "metadata": {},
   "source": [
    "The Pydantic documentation is available [here](https://docs.pydantic.dev/latest/)"
   ]
  },
  {
   "cell_type": "markdown",
   "id": "4a78489d-3cf1-46b5-b30b-8467e06c80d2",
   "metadata": {},
   "source": [
    "First, you'll need to install Pydantic.\n",
    "\n",
    "You can simply use:\n",
    "```bash\n",
    "pip install pydantic\n",
    "```\n",
    "\n",
    "to install the latest version.\n",
    "\n",
    "Installation documentation can be found [here](https://docs.pydantic.dev/latest/install/)"
   ]
  },
  {
   "cell_type": "markdown",
   "id": "1ea2f1b6-3765-4c90-b3d3-76fff46b3d68",
   "metadata": {},
   "source": [
    "Pydantic data models are simply Python classes with extra functionality provided by Pydantic via inheritance.\n",
    "\n",
    "Let's start with a simple model:"
   ]
  },
  {
   "cell_type": "markdown",
   "id": "9abb9427-755c-4caf-86cc-7f36a91de5c5",
   "metadata": {},
   "source": [
    "## Basic Model"
   ]
  },
  {
   "cell_type": "code",
   "execution_count": 1,
   "id": "55a8a2d4-0aa0-4fb4-ab49-60ce628d6ff3",
   "metadata": {},
   "outputs": [],
   "source": [
    "from pydantic import BaseModel"
   ]
  },
  {
   "cell_type": "code",
   "execution_count": 2,
   "id": "a05b79f1-7251-4d38-a218-918c9ece5e67",
   "metadata": {},
   "outputs": [],
   "source": [
    "class Person(BaseModel):\n",
    "    first_name: str\n",
    "    last_name: str\n",
    "    age: int"
   ]
  },
  {
   "cell_type": "markdown",
   "id": "43801c22-64e9-41a8-a4ad-a1d677d708bf",
   "metadata": {},
   "source": [
    "As you can see, we define the data type of the fields in the model using Python type hints, and we inherit from `BaseModel`."
   ]
  },
  {
   "cell_type": "markdown",
   "id": "aa20b350-7970-4fca-a0d3-a565b9e2a93f",
   "metadata": {},
   "source": [
    "We can now create instances of this model in a variety of ways:"
   ]
  },
  {
   "cell_type": "code",
   "execution_count": 3,
   "id": "646f6774-759b-4b58-8ca6-badc30ca5ea1",
   "metadata": {},
   "outputs": [],
   "source": [
    "p = Person(first_name=\"John\", last_name=\"Smith\", age=42)"
   ]
  },
  {
   "cell_type": "code",
   "execution_count": 4,
   "id": "c28b77bf-2ab3-4c5d-b6aa-67b2fac78cc3",
   "metadata": {},
   "outputs": [
    {
     "data": {
      "text/plain": [
       "Person(first_name='John', last_name='Smith', age=42)"
      ]
     },
     "execution_count": 4,
     "metadata": {},
     "output_type": "execute_result"
    }
   ],
   "source": [
    "p"
   ]
  },
  {
   "cell_type": "markdown",
   "id": "0ba295e0-ce64-46eb-8c13-8424f68c42e1",
   "metadata": {},
   "source": [
    "Pydantic will also perform validation on your \"input\" data. In some cases it will attempt to coerce the input data to the proper type - when it cannot do so, it will raise a `pydantic.ValidationError` exception.\n",
    "\n",
    "So, when you have a Pydantic model instance, you are **guaranteed** that the fields will be of the type specified in the model."
   ]
  },
  {
   "cell_type": "code",
   "execution_count": 5,
   "id": "bd9d5c99-6206-4e13-bbcb-ab73cd7ec33d",
   "metadata": {},
   "outputs": [],
   "source": [
    "from pydantic import ValidationError"
   ]
  },
  {
   "cell_type": "code",
   "execution_count": 6,
   "id": "16ac0385-dfe7-48fb-8db7-321904dd8130",
   "metadata": {},
   "outputs": [
    {
     "name": "stdout",
     "output_type": "stream",
     "text": [
      "2 validation errors for Person\n",
      "last_name\n",
      "  Input should be a valid string [type=string_type, input_value=100, input_type=int]\n",
      "    For further information visit https://errors.pydantic.dev/2.4/v/string_type\n",
      "age\n",
      "  Input should be a valid integer, unable to parse string as an integer [type=int_parsing, input_value='junk', input_type=str]\n",
      "    For further information visit https://errors.pydantic.dev/2.4/v/int_parsing\n"
     ]
    }
   ],
   "source": [
    "try:\n",
    "    Person(first_name=\"John\", last_name=100, age=\"junk\")\n",
    "except ValidationError as ex:\n",
    "    print(ex)"
   ]
  },
  {
   "cell_type": "markdown",
   "id": "dac0afaa-68a1-4f43-91e3-0099536d1a04",
   "metadata": {},
   "source": [
    "Fields in model instances can be accessed using object dot notation:"
   ]
  },
  {
   "cell_type": "code",
   "execution_count": 7,
   "id": "ba6211c8-f184-439c-8bdf-2be863ae8e43",
   "metadata": {},
   "outputs": [
    {
     "data": {
      "text/plain": [
       "Person(first_name='John', last_name='Smith', age=42)"
      ]
     },
     "execution_count": 7,
     "metadata": {},
     "output_type": "execute_result"
    }
   ],
   "source": [
    "p = Person(first_name=\"John\", last_name=\"Smith\", age=42)\n",
    "p"
   ]
  },
  {
   "cell_type": "code",
   "execution_count": 8,
   "id": "0853f40b-8b22-44f6-925c-d952e6c4fb3a",
   "metadata": {},
   "outputs": [
    {
     "data": {
      "text/plain": [
       "'John'"
      ]
     },
     "execution_count": 8,
     "metadata": {},
     "output_type": "execute_result"
    }
   ],
   "source": [
    "p.first_name"
   ]
  },
  {
   "cell_type": "markdown",
   "id": "8bd25f0c-01c2-4b1e-b738-0a5fbd8bb00f",
   "metadata": {},
   "source": [
    "We can even mutate these field values:"
   ]
  },
  {
   "cell_type": "code",
   "execution_count": 9,
   "id": "b2d551a2-0ff1-4700-aa6c-b45457897924",
   "metadata": {},
   "outputs": [
    {
     "data": {
      "text/plain": [
       "Person(first_name='James', last_name='Smith', age=42)"
      ]
     },
     "execution_count": 9,
     "metadata": {},
     "output_type": "execute_result"
    }
   ],
   "source": [
    "p.first_name = \"James\"\n",
    "p"
   ]
  },
  {
   "cell_type": "markdown",
   "id": "b3637f42-b58d-4e41-88d8-9f2a6193d330",
   "metadata": {},
   "source": [
    "One ccaution here - by default Pydantic validates the data being deserialized, but does not validate data being changed via assigments (although you can modify Pydantic's behavior):"
   ]
  },
  {
   "cell_type": "code",
   "execution_count": 10,
   "id": "76055b95-f334-4595-a783-b0d2cd0a6e98",
   "metadata": {},
   "outputs": [
    {
     "data": {
      "text/plain": [
       "Person(first_name='James', last_name='Smith', age='unknown')"
      ]
     },
     "execution_count": 10,
     "metadata": {},
     "output_type": "execute_result"
    }
   ],
   "source": [
    "p.age = \"unknown\"\n",
    "p"
   ]
  },
  {
   "cell_type": "markdown",
   "id": "348b64b7-d75c-4ede-b75b-c8a6e2df653e",
   "metadata": {},
   "source": [
    "## Validation Exceptions"
   ]
  },
  {
   "cell_type": "markdown",
   "id": "22799b31-5e95-4fbe-8053-1125db7192be",
   "metadata": {},
   "source": [
    "As we just saw, Pydantic validates all the fields - it does not just stop at the first validation error.\n",
    "\n",
    "So far we have just been printing the error message, but you can also get the list of errors as data using some special methods provided by `ValidationError` exceptions:"
   ]
  },
  {
   "cell_type": "code",
   "execution_count": 11,
   "id": "5467f60c-1602-469d-80b3-aaa533eb9d95",
   "metadata": {},
   "outputs": [],
   "source": [
    "try:\n",
    "    Person(first_name=\"John\", last_name=100, age=\"junk\")\n",
    "except ValidationError as ex:\n",
    "    exceptions = ex"
   ]
  },
  {
   "cell_type": "code",
   "execution_count": 12,
   "id": "b3be3f30-6926-4348-90ac-85dd4e272332",
   "metadata": {},
   "outputs": [
    {
     "data": {
      "text/plain": [
       "[{'type': 'string_type',\n",
       "  'loc': ('last_name',),\n",
       "  'msg': 'Input should be a valid string',\n",
       "  'input': 100,\n",
       "  'url': 'https://errors.pydantic.dev/2.4/v/string_type'},\n",
       " {'type': 'int_parsing',\n",
       "  'loc': ('age',),\n",
       "  'msg': 'Input should be a valid integer, unable to parse string as an integer',\n",
       "  'input': 'junk',\n",
       "  'url': 'https://errors.pydantic.dev/2.4/v/int_parsing'}]"
      ]
     },
     "execution_count": 12,
     "metadata": {},
     "output_type": "execute_result"
    }
   ],
   "source": [
    "exceptions.errors()"
   ]
  },
  {
   "cell_type": "markdown",
   "id": "a18174f1-b721-44b6-970b-dd2f3a82c669",
   "metadata": {},
   "source": [
    "This gave us a Python dictionary, and we can also get it back as JSON:"
   ]
  },
  {
   "cell_type": "code",
   "execution_count": 13,
   "id": "500044a9-db73-497e-9e4c-c8ef7c5112b1",
   "metadata": {},
   "outputs": [
    {
     "data": {
      "text/plain": [
       "'[{\"type\":\"string_type\",\"loc\":[\"last_name\"],\"msg\":\"Input should be a valid string\",\"input\":100,\"url\":\"https://errors.pydantic.dev/2.4/v/string_type\"},{\"type\":\"int_parsing\",\"loc\":[\"age\"],\"msg\":\"Input should be a valid integer, unable to parse string as an integer\",\"input\":\"junk\",\"url\":\"https://errors.pydantic.dev/2.4/v/int_parsing\"}]'"
      ]
     },
     "execution_count": 13,
     "metadata": {},
     "output_type": "execute_result"
    }
   ],
   "source": [
    "exceptions.json()"
   ]
  },
  {
   "cell_type": "markdown",
   "id": "315d5873-7cd6-4900-a3d7-c936a1657705",
   "metadata": {},
   "source": [
    "This is useful when you need to return the exceptions to a caller - for example if you have a REST API that needs to return any validation exceptions for JSON data that was submitted to your endpoints."
   ]
  },
  {
   "cell_type": "markdown",
   "id": "7c62c6f0-6005-4b39-85a7-a78f066e70bc",
   "metadata": {},
   "source": [
    "## Deserializing Data"
   ]
  },
  {
   "cell_type": "markdown",
   "id": "c9ba55b0-ed65-415e-bd97-de9384c4a3a8",
   "metadata": {},
   "source": [
    "We have two additional ways to \"load\" data to generate model instances.\n",
    "\n",
    "This process of taking data in one format and generating a Python object, is called **deserialization**."
   ]
  },
  {
   "cell_type": "markdown",
   "id": "a2ce4aa3-566d-4f5c-9a41-537ca0b530d6",
   "metadata": {},
   "source": [
    "Pydantic supports deserializing from a Python dictionary:"
   ]
  },
  {
   "cell_type": "code",
   "execution_count": 14,
   "id": "0fab4827-4189-46ac-a870-f0023ce9616c",
   "metadata": {},
   "outputs": [
    {
     "data": {
      "text/plain": [
       "Person(first_name='John', last_name='Smith', age=42)"
      ]
     },
     "execution_count": 14,
     "metadata": {},
     "output_type": "execute_result"
    }
   ],
   "source": [
    "data = {\n",
    "    \"first_name\": \"John\",\n",
    "    \"last_name\": \"Smith\",\n",
    "    \"age\": 42\n",
    "}\n",
    "\n",
    "p = Person.model_validate(data)\n",
    "p"
   ]
  },
  {
   "cell_type": "markdown",
   "id": "3e50c57b-53b4-4ca2-9da5-db6ccfe426f0",
   "metadata": {},
   "source": [
    "It also supports deserializing from JSON:"
   ]
  },
  {
   "cell_type": "code",
   "execution_count": 15,
   "id": "1c6f5027-9d69-48b4-bc7c-381409168f0e",
   "metadata": {},
   "outputs": [
    {
     "data": {
      "text/plain": [
       "Person(first_name='John', last_name='Smith', age=42)"
      ]
     },
     "execution_count": 15,
     "metadata": {},
     "output_type": "execute_result"
    }
   ],
   "source": [
    "data_json = '''\n",
    "{\n",
    "    \"first_name\": \"John\",\n",
    "    \"last_name\": \"Smith\",\n",
    "    \"age\": 42\n",
    "}\n",
    "'''\n",
    "\n",
    "p = Person.model_validate_json(data_json)\n",
    "p"
   ]
  },
  {
   "cell_type": "markdown",
   "id": "002a53d5-e8fb-4248-8750-fc37a2679c1f",
   "metadata": {},
   "source": [
    "We can inspect the model's fields this way, to see how they are currently defined:"
   ]
  },
  {
   "cell_type": "code",
   "execution_count": 16,
   "id": "3f1899df-5ed0-45c1-ade4-0c52c3549247",
   "metadata": {},
   "outputs": [
    {
     "data": {
      "text/plain": [
       "{'first_name': FieldInfo(annotation=str, required=True),\n",
       " 'last_name': FieldInfo(annotation=str, required=True),\n",
       " 'age': FieldInfo(annotation=int, required=True)}"
      ]
     },
     "execution_count": 16,
     "metadata": {},
     "output_type": "execute_result"
    }
   ],
   "source": [
    "Person.model_fields"
   ]
  },
  {
   "cell_type": "markdown",
   "id": "315bc555-4600-4c0c-91a7-955e21606088",
   "metadata": {},
   "source": [
    "## Required vs Optional Fields"
   ]
  },
  {
   "cell_type": "markdown",
   "id": "41e2e3d7-0d1b-4218-aaa8-8991c85855db",
   "metadata": {},
   "source": [
    "One thing you'll notice in there, is that the fields are marked as **required**."
   ]
  },
  {
   "cell_type": "markdown",
   "id": "e5f8f338-011a-426e-a398-15498f087cc6",
   "metadata": {},
   "source": [
    "And indeed, if we try to deserialize data that is missing any of those fields, we'll get a `ValidationError` exception:"
   ]
  },
  {
   "cell_type": "code",
   "execution_count": 17,
   "id": "7fa7b916-47dc-4b07-8f5b-f4d97050d762",
   "metadata": {},
   "outputs": [
    {
     "name": "stdout",
     "output_type": "stream",
     "text": [
      "2 validation errors for Person\n",
      "first_name\n",
      "  Field required [type=missing, input_value={'age': 42}, input_type=dict]\n",
      "    For further information visit https://errors.pydantic.dev/2.4/v/missing\n",
      "last_name\n",
      "  Field required [type=missing, input_value={'age': 42}, input_type=dict]\n",
      "    For further information visit https://errors.pydantic.dev/2.4/v/missing\n"
     ]
    }
   ],
   "source": [
    "try:\n",
    "    Person(age=42)\n",
    "except ValidationError as ex:\n",
    "    print(ex)"
   ]
  },
  {
   "cell_type": "code",
   "execution_count": 18,
   "id": "fd1ef536-02e4-42c2-8329-e636174b6630",
   "metadata": {},
   "outputs": [
    {
     "name": "stdout",
     "output_type": "stream",
     "text": [
      "2 validation errors for Person\n",
      "first_name\n",
      "  Field required [type=missing, input_value={'age': 42}, input_type=dict]\n",
      "    For further information visit https://errors.pydantic.dev/2.4/v/missing\n",
      "last_name\n",
      "  Field required [type=missing, input_value={'age': 42}, input_type=dict]\n",
      "    For further information visit https://errors.pydantic.dev/2.4/v/missing\n"
     ]
    }
   ],
   "source": [
    "data = {\"age\": 42}\n",
    "\n",
    "try:\n",
    "    Person.model_validate(data)\n",
    "except ValidationError as ex:\n",
    "    print(ex)"
   ]
  },
  {
   "cell_type": "markdown",
   "id": "7fec7045-2eeb-40a7-a446-6655349f00cb",
   "metadata": {},
   "source": [
    "To make a field optional, we simply specify a default value for it:"
   ]
  },
  {
   "cell_type": "code",
   "execution_count": 19,
   "id": "be26b073-881f-453a-b8b5-3c8d883d18ae",
   "metadata": {},
   "outputs": [],
   "source": [
    "class Person(BaseModel):\n",
    "    first_name: str\n",
    "    last_name: str\n",
    "    age: int = 0"
   ]
  },
  {
   "cell_type": "code",
   "execution_count": 20,
   "id": "84c18595-f51b-46ed-98cd-64123730635b",
   "metadata": {},
   "outputs": [
    {
     "data": {
      "text/plain": [
       "{'first_name': FieldInfo(annotation=str, required=True),\n",
       " 'last_name': FieldInfo(annotation=str, required=True),\n",
       " 'age': FieldInfo(annotation=int, required=False, default=0)}"
      ]
     },
     "execution_count": 20,
     "metadata": {},
     "output_type": "execute_result"
    }
   ],
   "source": [
    "Person.model_fields"
   ]
  },
  {
   "cell_type": "markdown",
   "id": "80142301-3b55-4f97-9a0b-5f9894a9df4e",
   "metadata": {},
   "source": [
    "As you can see, the `age` field is no longer a required field since it has a default value."
   ]
  },
  {
   "cell_type": "code",
   "execution_count": 21,
   "id": "0a22500a-c622-4bb0-898a-daf78e514bc7",
   "metadata": {},
   "outputs": [
    {
     "data": {
      "text/plain": [
       "Person(first_name='John', last_name='Smith', age=0)"
      ]
     },
     "execution_count": 21,
     "metadata": {},
     "output_type": "execute_result"
    }
   ],
   "source": [
    "p = Person(first_name=\"John\", last_name=\"Smith\")\n",
    "p"
   ]
  },
  {
   "cell_type": "markdown",
   "id": "d9ba795a-37c6-4ca8-b8bb-d7acffe0915b",
   "metadata": {},
   "source": [
    "## Nullable Fields"
   ]
  },
  {
   "cell_type": "markdown",
   "id": "ae9202d3-cc80-454a-ac0b-8574fe69d4d1",
   "metadata": {},
   "source": [
    "We can also set defaults to `None`, but there you have to be a bit more careful - the type should technically allow `None`, since the type of `None` is the the same as say `str`. \n",
    "\n",
    "So, we just need to amend our type hint accordingly:"
   ]
  },
  {
   "cell_type": "code",
   "execution_count": 22,
   "id": "1af21612-29d0-4579-8898-40d27122bb1f",
   "metadata": {},
   "outputs": [],
   "source": [
    "class Person(BaseModel):\n",
    "    first_name: str | None = None\n",
    "    last_name: str\n",
    "    age: int | None = None"
   ]
  },
  {
   "cell_type": "code",
   "execution_count": 23,
   "id": "421acd77-28fc-46a0-9001-a98d861f959d",
   "metadata": {},
   "outputs": [
    {
     "data": {
      "text/plain": [
       "{'first_name': FieldInfo(annotation=Union[str, NoneType], required=False),\n",
       " 'last_name': FieldInfo(annotation=str, required=True),\n",
       " 'age': FieldInfo(annotation=Union[int, NoneType], required=False)}"
      ]
     },
     "execution_count": 23,
     "metadata": {},
     "output_type": "execute_result"
    }
   ],
   "source": [
    "Person.model_fields"
   ]
  },
  {
   "cell_type": "markdown",
   "id": "fb73286c-d8d3-47b5-b676-276d7bf8372b",
   "metadata": {},
   "source": [
    "As you can see from the inspection, `first_name` and `age` are **optional** fields (not required), and are **nullable** (can be set to `None`)."
   ]
  },
  {
   "cell_type": "code",
   "execution_count": 24,
   "id": "9eab14fa-2e10-4e13-8079-1202126d22c1",
   "metadata": {},
   "outputs": [
    {
     "data": {
      "text/plain": [
       "Person(first_name=None, last_name='Smith', age=None)"
      ]
     },
     "execution_count": 24,
     "metadata": {},
     "output_type": "execute_result"
    }
   ],
   "source": [
    "p = Person(last_name=\"Smith\")\n",
    "p"
   ]
  },
  {
   "cell_type": "markdown",
   "id": "53cc11d2-be4f-4f9f-80d0-eb67f6f2ad53",
   "metadata": {},
   "source": [
    "The notation `str | None` is just an alternative syntax available in more recent versions of Python - for older versions you can use the canonical way of doing this, using a `Union`:"
   ]
  },
  {
   "cell_type": "code",
   "execution_count": 25,
   "id": "d3fdb12f-77f1-4077-a133-fa495ffda233",
   "metadata": {},
   "outputs": [],
   "source": [
    "from typing import Union\n",
    "\n",
    "class Person(BaseModel):\n",
    "    first_name: Union[str, None] = None\n",
    "    last_name: str\n",
    "    age: Union[int, None] = None"
   ]
  },
  {
   "cell_type": "code",
   "execution_count": 26,
   "id": "27f46bd7-6860-4df7-915b-b44b800764e7",
   "metadata": {},
   "outputs": [
    {
     "data": {
      "text/plain": [
       "{'first_name': FieldInfo(annotation=Union[str, NoneType], required=False),\n",
       " 'last_name': FieldInfo(annotation=str, required=True),\n",
       " 'age': FieldInfo(annotation=Union[int, NoneType], required=False)}"
      ]
     },
     "execution_count": 26,
     "metadata": {},
     "output_type": "execute_result"
    }
   ],
   "source": [
    "Person.model_fields"
   ]
  },
  {
   "cell_type": "code",
   "execution_count": 27,
   "id": "8b8286b5-9551-4c01-b81b-39d7bc22f831",
   "metadata": {},
   "outputs": [
    {
     "data": {
      "text/plain": [
       "Person(first_name=None, last_name='Smith', age=None)"
      ]
     },
     "execution_count": 27,
     "metadata": {},
     "output_type": "execute_result"
    }
   ],
   "source": [
    "Person(last_name=\"Smith\")"
   ]
  },
  {
   "cell_type": "markdown",
   "id": "4a3eaefd-e02b-448a-a3f5-e96cb7fec659",
   "metadata": {},
   "source": [
    "You can also use the `Optional` type annotation - but I never use it with Pydantic as I find that name too easy to mistake for think a field is optional - the `Optional` hint simply means **nullable** (can be `None`), not that the field is optional in the Pydantic sense."
   ]
  },
  {
   "cell_type": "code",
   "execution_count": 28,
   "id": "9fb330b2-4a98-4a39-ab45-df9a61e8340c",
   "metadata": {},
   "outputs": [],
   "source": [
    "from typing import Optional\n",
    "\n",
    "class Person(BaseModel):\n",
    "    first_name: Optional[str] = None\n",
    "    last_name: str\n",
    "    age: Optional[int] = None"
   ]
  },
  {
   "cell_type": "code",
   "execution_count": 29,
   "id": "ea591405-5a36-4363-af59-899e2b25d1c7",
   "metadata": {},
   "outputs": [
    {
     "data": {
      "text/plain": [
       "{'first_name': FieldInfo(annotation=Union[str, NoneType], required=False),\n",
       " 'last_name': FieldInfo(annotation=str, required=True),\n",
       " 'age': FieldInfo(annotation=Union[int, NoneType], required=False)}"
      ]
     },
     "execution_count": 29,
     "metadata": {},
     "output_type": "execute_result"
    }
   ],
   "source": [
    "Person.model_fields"
   ]
  },
  {
   "cell_type": "markdown",
   "id": "8911cf9b-01c1-4f1e-a004-2ad0336b931c",
   "metadata": {},
   "source": [
    "The `Optional` hint here has nothing to do with whether the field is optional or not:"
   ]
  },
  {
   "cell_type": "code",
   "execution_count": 30,
   "id": "f2ec5501-8c8b-42fe-9c04-18da9d7aee12",
   "metadata": {},
   "outputs": [],
   "source": [
    "class Test(BaseModel):\n",
    "    name: Optional[str]\n",
    "    age: int"
   ]
  },
  {
   "cell_type": "code",
   "execution_count": 31,
   "id": "d5f50d05-54b4-430f-ad99-396857a666d7",
   "metadata": {},
   "outputs": [
    {
     "data": {
      "text/plain": [
       "{'name': FieldInfo(annotation=Union[str, NoneType], required=True),\n",
       " 'age': FieldInfo(annotation=int, required=True)}"
      ]
     },
     "execution_count": 31,
     "metadata": {},
     "output_type": "execute_result"
    }
   ],
   "source": [
    "Test.model_fields"
   ]
  },
  {
   "cell_type": "markdown",
   "id": "bf2d8ae5-e083-4fa4-8a9a-339b6e6de06f",
   "metadata": {},
   "source": [
    "As you can see, `name` is a required field, not optional."
   ]
  },
  {
   "cell_type": "code",
   "execution_count": 32,
   "id": "f2b369db-14ab-45d4-8d7e-2445f803b424",
   "metadata": {},
   "outputs": [
    {
     "name": "stdout",
     "output_type": "stream",
     "text": [
      "1 validation error for Test\n",
      "name\n",
      "  Field required [type=missing, input_value={'age': 42}, input_type=dict]\n",
      "    For further information visit https://errors.pydantic.dev/2.4/v/missing\n"
     ]
    }
   ],
   "source": [
    "try:\n",
    "    Test(age=42)\n",
    "except ValidationError as ex:\n",
    "    print(ex)"
   ]
  },
  {
   "cell_type": "markdown",
   "id": "856f8e34-1eef-4d74-8f9a-32abb52a3a41",
   "metadata": {},
   "source": [
    "Pydantic fully supports Python's type hinting system, so you could for example specify a field to be a list of a certain type:"
   ]
  },
  {
   "cell_type": "code",
   "execution_count": 33,
   "id": "ee3160b3-6d7e-4be7-ae94-51d870b15d8c",
   "metadata": {},
   "outputs": [],
   "source": [
    "class Person(BaseModel):\n",
    "    first_name: str | None = None\n",
    "    last_name: str\n",
    "    age: int | None = None\n",
    "    lucky_numbers: list[int] = []"
   ]
  },
  {
   "cell_type": "code",
   "execution_count": 34,
   "id": "efdc9297-cd57-401e-b56a-e3413afafd16",
   "metadata": {},
   "outputs": [
    {
     "data": {
      "text/plain": [
       "{'first_name': FieldInfo(annotation=Union[str, NoneType], required=False),\n",
       " 'last_name': FieldInfo(annotation=str, required=True),\n",
       " 'age': FieldInfo(annotation=Union[int, NoneType], required=False),\n",
       " 'lucky_numbers': FieldInfo(annotation=list[int], required=False, default=[])}"
      ]
     },
     "execution_count": 34,
     "metadata": {},
     "output_type": "execute_result"
    }
   ],
   "source": [
    "Person.model_fields"
   ]
  },
  {
   "cell_type": "markdown",
   "id": "c3686c42-80dd-41a0-9699-4ced7fd1fce0",
   "metadata": {},
   "source": [
    "And the type coercion will apply to the elements of the list as well:"
   ]
  },
  {
   "cell_type": "code",
   "execution_count": 35,
   "id": "fdd85abd-ab0f-4fc7-9598-5254f3d52c06",
   "metadata": {},
   "outputs": [
    {
     "data": {
      "text/plain": [
       "Person(first_name=None, last_name='Smith', age=None, lucky_numbers=[1, 2, 3])"
      ]
     },
     "execution_count": 35,
     "metadata": {},
     "output_type": "execute_result"
    }
   ],
   "source": [
    "p = Person(last_name=\"Smith\", lucky_numbers=[1, \"2\", 3.0])\n",
    "p"
   ]
  },
  {
   "cell_type": "markdown",
   "id": "64b904a5-4081-4217-80fb-e2c976e7e194",
   "metadata": {},
   "source": [
    "As you can see, the elements of the list were all succesfully coerced to integers:"
   ]
  },
  {
   "cell_type": "code",
   "execution_count": 36,
   "id": "835ef044-ed2e-4dc6-a9cd-fadf47622398",
   "metadata": {},
   "outputs": [
    {
     "name": "stdout",
     "output_type": "stream",
     "text": [
      "1 (<class 'int'>)\n",
      "2 (<class 'int'>)\n",
      "3 (<class 'int'>)\n"
     ]
    }
   ],
   "source": [
    "for number in p.lucky_numbers:\n",
    "    print(f\"{number} ({type(number)})\")"
   ]
  },
  {
   "cell_type": "markdown",
   "id": "a233f3ac-fbea-448d-a4a1-966bff67cae8",
   "metadata": {},
   "source": [
    "## Aliases and the Field Class"
   ]
  },
  {
   "cell_type": "markdown",
   "id": "e062a8a4-b7e5-424a-8432-2fb47bfbea5a",
   "metadata": {},
   "source": [
    "Sometimes the data we are attempting to deserialize uses names that we simply do not, or cannot use in our model.\n",
    "\n",
    "For example consider this data we would like to model using Pydantic:"
   ]
  },
  {
   "cell_type": "code",
   "execution_count": 37,
   "id": "ca33648b-42fd-4f19-9ea0-a9cc36f5beab",
   "metadata": {},
   "outputs": [],
   "source": [
    "data = {\n",
    "    \"id\": 100,\n",
    "    \"First Name\": \"John\",\n",
    "    \"LASTNAME\": \"Smith\",\n",
    "    \"age in years\": 42,\n",
    "}"
   ]
  },
  {
   "cell_type": "markdown",
   "id": "0a23d42b-d467-44fc-9d16-737095fb8372",
   "metadata": {},
   "source": [
    "Obviously, some of these field names we cannot even specify in Python (the ones with the spaces in the names).\n",
    "\n",
    "To help with that, Pydantic has a way to define an alternative name to our field names, called **aliases**."
   ]
  },
  {
   "cell_type": "markdown",
   "id": "1dd5dd1c-f800-4ea7-a5b1-651dec336d91",
   "metadata": {},
   "source": [
    "Here's how we would set up a model to handle that data:"
   ]
  },
  {
   "cell_type": "code",
   "execution_count": 38,
   "id": "82a9117e-8685-4179-b688-c21acd031486",
   "metadata": {},
   "outputs": [],
   "source": [
    "from pydantic import Field\n",
    "\n",
    "\n",
    "class Person(BaseModel):\n",
    "    id_: int = Field(alias=\"id\")\n",
    "    first_name: str = Field(alias=\"First Name\")\n",
    "    last_name: str = Field(alias=\"LASTNAME\")\n",
    "    age: int = Field(alias=\"age in years\")"
   ]
  },
  {
   "cell_type": "code",
   "execution_count": 39,
   "id": "2ae92055-bb52-413d-8074-1cbd01f257ec",
   "metadata": {},
   "outputs": [
    {
     "data": {
      "text/plain": [
       "Person(id_=100, first_name='John', last_name='Smith', age=42)"
      ]
     },
     "execution_count": 39,
     "metadata": {},
     "output_type": "execute_result"
    }
   ],
   "source": [
    "p = Person.model_validate(data)\n",
    "p"
   ]
  },
  {
   "cell_type": "markdown",
   "id": "cbdeaf44-321b-44f4-8972-2769d06b1076",
   "metadata": {},
   "source": [
    "## Serialization"
   ]
  },
  {
   "cell_type": "markdown",
   "id": "20483035-52bc-485e-838b-b73499a06f0c",
   "metadata": {},
   "source": [
    "Pydantic models also give us the ability to **serialize** data models - that is, take the Python object and generate either a Python dictionary or a JSON string wityh the data:"
   ]
  },
  {
   "cell_type": "code",
   "execution_count": 40,
   "id": "aa8a62a1-0f63-4ab2-b661-f6ebce154add",
   "metadata": {},
   "outputs": [
    {
     "data": {
      "text/plain": [
       "{'id_': 100, 'first_name': 'John', 'last_name': 'Smith', 'age': 42}"
      ]
     },
     "execution_count": 40,
     "metadata": {},
     "output_type": "execute_result"
    }
   ],
   "source": [
    "p.model_dump()"
   ]
  },
  {
   "cell_type": "code",
   "execution_count": 41,
   "id": "4fa92c00-35dc-4187-b869-4da85cf60ea8",
   "metadata": {},
   "outputs": [
    {
     "data": {
      "text/plain": [
       "'{\"id_\":100,\"first_name\":\"John\",\"last_name\":\"Smith\",\"age\":42}'"
      ]
     },
     "execution_count": 41,
     "metadata": {},
     "output_type": "execute_result"
    }
   ],
   "source": [
    "p.model_dump_json()"
   ]
  },
  {
   "cell_type": "markdown",
   "id": "99292538-fe62-4c13-87b7-f1a4c74c2f83",
   "metadata": {},
   "source": [
    "As you can see, serialization uses the field names, not the aliases to serialize.\n",
    "\n",
    "Since we have aliases, we could, if we wanted to, also serialize using the aliases instead of the field names:"
   ]
  },
  {
   "cell_type": "code",
   "execution_count": 42,
   "id": "5ac6587d-d4a6-4083-91ca-12e2985f4e37",
   "metadata": {},
   "outputs": [
    {
     "data": {
      "text/plain": [
       "{'id': 100, 'First Name': 'John', 'LASTNAME': 'Smith', 'age in years': 42}"
      ]
     },
     "execution_count": 42,
     "metadata": {},
     "output_type": "execute_result"
    }
   ],
   "source": [
    "p.model_dump(by_alias=True)"
   ]
  },
  {
   "cell_type": "code",
   "execution_count": 43,
   "id": "ce1ebf50-37e4-499b-a43f-8c79e74f312b",
   "metadata": {},
   "outputs": [
    {
     "data": {
      "text/plain": [
       "'{\"id\":100,\"First Name\":\"John\",\"LASTNAME\":\"Smith\",\"age in years\":42}'"
      ]
     },
     "execution_count": 43,
     "metadata": {},
     "output_type": "execute_result"
    }
   ],
   "source": [
    "p.model_dump_json(by_alias=True)"
   ]
  },
  {
   "cell_type": "markdown",
   "id": "44281b60-a627-41a0-8b7a-e39acaff96ac",
   "metadata": {},
   "source": [
    "## Field and Defaults"
   ]
  },
  {
   "cell_type": "markdown",
   "id": "09100c64-3b66-440a-bb9c-c41d86a4b04a",
   "metadata": {},
   "source": [
    "When we used the `Field` object to define an alias, we lost the ability to set our fields to some default value.\n",
    "\n",
    "However, we can use an argument in the `Field` object to define the default value:"
   ]
  },
  {
   "cell_type": "code",
   "execution_count": 44,
   "id": "85d3600e-2fca-4be0-9be9-ff936bf5fe50",
   "metadata": {},
   "outputs": [],
   "source": [
    "class Person(BaseModel):\n",
    "    first_name: str | None = Field(alias=\"firstName\", default=None)\n",
    "    last_name: str = Field(alias=\"lastName\")"
   ]
  },
  {
   "cell_type": "code",
   "execution_count": 45,
   "id": "d5325900-1821-4084-afc3-971a653a5419",
   "metadata": {},
   "outputs": [
    {
     "data": {
      "text/plain": [
       "Person(first_name=None, last_name='Smith')"
      ]
     },
     "execution_count": 45,
     "metadata": {},
     "output_type": "execute_result"
    }
   ],
   "source": [
    "data = {\n",
    "    \"lastName\": \"Smith\"\n",
    "}\n",
    "\n",
    "p = Person.model_validate(data)\n",
    "p"
   ]
  },
  {
   "cell_type": "markdown",
   "id": "3e5b9c1b-991e-4d6f-b66b-ee62da97b2dc",
   "metadata": {},
   "source": [
    "When we specify an alias, we **must** use the alias when deserializing data:"
   ]
  },
  {
   "cell_type": "markdown",
   "id": "0aeaf7b9-c71d-4660-bc8c-fe55f3e37bbc",
   "metadata": {},
   "source": [
    "For example, this will not work:"
   ]
  },
  {
   "cell_type": "code",
   "execution_count": 46,
   "id": "469b13a4-5e88-4929-a8f3-7f35967a4983",
   "metadata": {},
   "outputs": [
    {
     "name": "stdout",
     "output_type": "stream",
     "text": [
      "1 validation error for Person\n",
      "lastName\n",
      "  Field required [type=missing, input_value={'last_name': 'Smith'}, input_type=dict]\n",
      "    For further information visit https://errors.pydantic.dev/2.4/v/missing\n"
     ]
    }
   ],
   "source": [
    "try:\n",
    "    Person(last_name=\"Smith\")\n",
    "except ValidationError as ex:\n",
    "    print(ex)"
   ]
  },
  {
   "cell_type": "code",
   "execution_count": 47,
   "id": "f8547fb0-dc2b-4702-add8-24da2126aa91",
   "metadata": {},
   "outputs": [
    {
     "name": "stdout",
     "output_type": "stream",
     "text": [
      "1 validation error for Person\n",
      "lastName\n",
      "  Field required [type=missing, input_value={'last_name': 'Smith'}, input_type=dict]\n",
      "    For further information visit https://errors.pydantic.dev/2.4/v/missing\n"
     ]
    }
   ],
   "source": [
    "data = {\n",
    "    \"last_name\": \"Smith\"\n",
    "}\n",
    "\n",
    "try:\n",
    "    Person.model_validate(data)\n",
    "except ValidationError as ex:\n",
    "    print(ex)"
   ]
  },
  {
   "cell_type": "markdown",
   "id": "46759e6e-b4a3-4262-b608-a0d6dfc6ae88",
   "metadata": {},
   "source": [
    "## Model Config: Populate by Name"
   ]
  },
  {
   "cell_type": "markdown",
   "id": "596bd0a0-2a58-4f6f-be34-80bdef4d0649",
   "metadata": {},
   "source": [
    "We can however, configure our model to allow population by not just the alias, but the field name as well.\n",
    "\n",
    "To do that we have to provide a model configuration. We do this by creating another attribute in our model:"
   ]
  },
  {
   "cell_type": "code",
   "execution_count": 48,
   "id": "6609812d-a620-4701-9c2e-7d632cd3da6d",
   "metadata": {},
   "outputs": [],
   "source": [
    "from pydantic import ConfigDict\n",
    "\n",
    "\n",
    "class Person(BaseModel):\n",
    "    model_config = ConfigDict(populate_by_name=True)\n",
    "    \n",
    "    first_name: str | None = Field(alias=\"firstName\", default=None)\n",
    "    last_name: str = Field(alias=\"lastName\")"
   ]
  },
  {
   "cell_type": "markdown",
   "id": "2e448f99-bea6-4aa0-a402-21141281ba5b",
   "metadata": {},
   "source": [
    "And now we can deserialize using either the alias or the field name:"
   ]
  },
  {
   "cell_type": "code",
   "execution_count": 49,
   "id": "a7ae804f-98e8-4297-8cd4-21ba028b3457",
   "metadata": {},
   "outputs": [
    {
     "data": {
      "text/plain": [
       "Person(first_name='John', last_name='Smith')"
      ]
     },
     "execution_count": 49,
     "metadata": {},
     "output_type": "execute_result"
    }
   ],
   "source": [
    "p = Person(first_name=\"John\", lastName=\"Smith\")\n",
    "p"
   ]
  },
  {
   "cell_type": "code",
   "execution_count": 50,
   "id": "cf37b013-cba7-4b68-b0cb-e4199e0349e8",
   "metadata": {},
   "outputs": [
    {
     "data": {
      "text/plain": [
       "Person(first_name='John', last_name='Smith')"
      ]
     },
     "execution_count": 50,
     "metadata": {},
     "output_type": "execute_result"
    }
   ],
   "source": [
    "data = {\n",
    "    \"first_name\": \"John\",\n",
    "    \"lastName\": \"Smith\"\n",
    "}\n",
    "\n",
    "p = Person.model_validate(data)\n",
    "p"
   ]
  },
  {
   "cell_type": "markdown",
   "id": "d4dfc5d6-aedd-469c-901e-fecc2a6bea4a",
   "metadata": {},
   "source": [
    "## Mutable Defaults"
   ]
  },
  {
   "cell_type": "markdown",
   "id": "e6c6a70d-cb6e-41e0-b023-124ef252c9e7",
   "metadata": {},
   "source": [
    "Returning to defaults, one thing Pydantic can handle is setting default values to mutable objects - something that is usually problematic in Python, and disallowed (by default) in dataclasses."
   ]
  },
  {
   "cell_type": "markdown",
   "id": "22c79d5b-543a-4711-84b5-b106c0a58ebd",
   "metadata": {},
   "source": [
    "So, defining defaults this way is perfectly acceptable in Pydantic (Pydantic basically identifies mutable defaults, and creates a deepcopy of the default when creating new instances of the model):"
   ]
  },
  {
   "cell_type": "code",
   "execution_count": 51,
   "id": "aa6c723c-ed03-46e1-9b33-9c26627c18c3",
   "metadata": {},
   "outputs": [],
   "source": [
    "class Model(BaseModel):\n",
    "    numbers: list[int] = []"
   ]
  },
  {
   "cell_type": "code",
   "execution_count": 52,
   "id": "ebc14401-d744-4ff8-94ca-6138b210090d",
   "metadata": {},
   "outputs": [],
   "source": [
    "m1 = Model()\n",
    "m2 = Model()"
   ]
  },
  {
   "cell_type": "code",
   "execution_count": 53,
   "id": "39552f1b-960a-48c9-9095-65545f948848",
   "metadata": {},
   "outputs": [
    {
     "data": {
      "text/plain": [
       "Model(numbers=[1, 2, 3])"
      ]
     },
     "execution_count": 53,
     "metadata": {},
     "output_type": "execute_result"
    }
   ],
   "source": [
    "m1.numbers.extend([1, 2, 3])\n",
    "m1"
   ]
  },
  {
   "cell_type": "code",
   "execution_count": 54,
   "id": "9616fe93-7af4-4545-a4b3-506a8decad92",
   "metadata": {},
   "outputs": [
    {
     "data": {
      "text/plain": [
       "Model(numbers=[])"
      ]
     },
     "execution_count": 54,
     "metadata": {},
     "output_type": "execute_result"
    }
   ],
   "source": [
    "m2"
   ]
  },
  {
   "cell_type": "markdown",
   "id": "5fe912f1-f6ae-4979-8871-2e46a5bb3488",
   "metadata": {},
   "source": [
    "As, you can see, the default `[]` is not shared by the instances."
   ]
  },
  {
   "cell_type": "markdown",
   "id": "893017bb-68e1-4689-80a9-fcac12d50dcf",
   "metadata": {},
   "source": [
    "## Default Factories"
   ]
  },
  {
   "cell_type": "markdown",
   "id": "85a785f8-db4c-4d0d-ba74-746a6bc23d4d",
   "metadata": {},
   "source": [
    "Sometimes however, we want to generate a default not as a static value, but rather as a value that should be calculated each time an instance is created that needs the default.\n",
    "\n",
    "We can do that using a **default factory**. Basically, we provide a function that Pydantic will call to generate the default value each time a model instance is created that requires that default."
   ]
  },
  {
   "cell_type": "markdown",
   "id": "d4d52a2a-068d-428b-99f9-756cd1bef9cc",
   "metadata": {},
   "source": [
    "For example, suppose we want a default to be the current time at which the instance is created:"
   ]
  },
  {
   "cell_type": "code",
   "execution_count": 55,
   "id": "b0eb44e2-58a2-49c8-873b-76da01b5d767",
   "metadata": {},
   "outputs": [],
   "source": [
    "from datetime import datetime, timezone\n",
    "\n",
    "class Log(BaseModel):\n",
    "    dt: datetime = Field(default_factory=lambda: datetime.now(timezone.utc))\n",
    "    message: str"
   ]
  },
  {
   "cell_type": "code",
   "execution_count": 56,
   "id": "a853e88f-0be9-4052-a248-11c4138594e1",
   "metadata": {},
   "outputs": [],
   "source": [
    "log1 = Log(message=\"message 1\")"
   ]
  },
  {
   "cell_type": "code",
   "execution_count": 57,
   "id": "e241b47b-6f8d-4784-a95c-f59f6fcc7ddb",
   "metadata": {},
   "outputs": [],
   "source": [
    "log2 = Log(message=\"message 2\")"
   ]
  },
  {
   "cell_type": "code",
   "execution_count": 58,
   "id": "eeab9084-9d34-4188-a078-01138f373d2d",
   "metadata": {},
   "outputs": [
    {
     "data": {
      "text/plain": [
       "Log(dt=datetime.datetime(2023, 12, 6, 14, 33, 5, 648812, tzinfo=datetime.timezone.utc), message='message 1')"
      ]
     },
     "execution_count": 58,
     "metadata": {},
     "output_type": "execute_result"
    }
   ],
   "source": [
    "log1"
   ]
  },
  {
   "cell_type": "code",
   "execution_count": 59,
   "id": "c28757d3-4c6d-4710-95e9-30ff282816cb",
   "metadata": {},
   "outputs": [
    {
     "data": {
      "text/plain": [
       "Log(dt=datetime.datetime(2023, 12, 6, 14, 33, 5, 650873, tzinfo=datetime.timezone.utc), message='message 2')"
      ]
     },
     "execution_count": 59,
     "metadata": {},
     "output_type": "execute_result"
    }
   ],
   "source": [
    "log2"
   ]
  },
  {
   "cell_type": "markdown",
   "id": "e97dc11e-1ed5-47be-a86a-11790ed9daea",
   "metadata": {},
   "source": [
    "## Custom Serializers"
   ]
  },
  {
   "cell_type": "markdown",
   "id": "63e8fe53-a043-4721-b215-064da85085f0",
   "metadata": {},
   "source": [
    "Pydantic has a default way of serializing data. For example, serializing floats will result in a certain number of digits after the decimal point being used, dependent on the actual float:"
   ]
  },
  {
   "cell_type": "code",
   "execution_count": 60,
   "id": "79d39c0c-2503-4f2f-811f-c8a4ca95fe67",
   "metadata": {},
   "outputs": [],
   "source": [
    "class Model(BaseModel):\n",
    "    number: float"
   ]
  },
  {
   "cell_type": "code",
   "execution_count": 61,
   "id": "63026d9b-5041-47bf-9ab0-eb308102d45c",
   "metadata": {},
   "outputs": [
    {
     "data": {
      "text/plain": [
       "{'number': 1.0}"
      ]
     },
     "execution_count": 61,
     "metadata": {},
     "output_type": "execute_result"
    }
   ],
   "source": [
    "m = Model(number=1.0)\n",
    "m.model_dump()"
   ]
  },
  {
   "cell_type": "code",
   "execution_count": 62,
   "id": "4b950831-1655-4e71-9f5a-08da5d4c7187",
   "metadata": {},
   "outputs": [
    {
     "data": {
      "text/plain": [
       "{'number': 0.3333333333333333}"
      ]
     },
     "execution_count": 62,
     "metadata": {},
     "output_type": "execute_result"
    }
   ],
   "source": [
    "m = Model(number=1/3)\n",
    "m.model_dump()"
   ]
  },
  {
   "cell_type": "markdown",
   "id": "c50cabf4-e0fc-4d3b-ac53-67ebdce2bcb7",
   "metadata": {},
   "source": [
    "Similarly, datetimes get serialized to JSON using the `isoformat()` method of datetimes:"
   ]
  },
  {
   "cell_type": "code",
   "execution_count": 63,
   "id": "a3895547-b977-46b5-a482-135d87f8ccb6",
   "metadata": {},
   "outputs": [
    {
     "data": {
      "text/plain": [
       "'2023-12-06T14:33:05.667170+00:00'"
      ]
     },
     "execution_count": 63,
     "metadata": {},
     "output_type": "execute_result"
    }
   ],
   "source": [
    "dt = datetime.now(timezone.utc)\n",
    "dt.isoformat()"
   ]
  },
  {
   "cell_type": "code",
   "execution_count": 64,
   "id": "55c9e724-1437-4172-90bc-e6109b60976f",
   "metadata": {},
   "outputs": [],
   "source": [
    "class Model(BaseModel):\n",
    "    dt: datetime"
   ]
  },
  {
   "cell_type": "code",
   "execution_count": 65,
   "id": "ddf1fb00-9f90-4ecb-929d-ee6957ca3b92",
   "metadata": {},
   "outputs": [
    {
     "data": {
      "text/plain": [
       "'{\"dt\":\"2023-12-06T14:33:05.672674Z\"}'"
      ]
     },
     "execution_count": 65,
     "metadata": {},
     "output_type": "execute_result"
    }
   ],
   "source": [
    "m = Model(dt=datetime.now(timezone.utc))\n",
    "m.model_dump_json()"
   ]
  },
  {
   "cell_type": "markdown",
   "id": "915d9622-bb0b-456e-a577-862551c511ca",
   "metadata": {},
   "source": [
    "We can choose to override this serialization.\n",
    "\n",
    "We have to be a bit careful since we actually have tow modes of serialization: to a Python dictionary (so Python objects), and to JSON (so strings).\n",
    "\n",
    "Let's say we want to customzie the float serialization so all floats are rounded to 2 decimal places, in both dictionary and JSON serialization."
   ]
  },
  {
   "cell_type": "code",
   "execution_count": 66,
   "id": "72edcb27-ef5d-4967-b5ba-80c5cf2df287",
   "metadata": {},
   "outputs": [],
   "source": [
    "from pydantic import field_serializer"
   ]
  },
  {
   "cell_type": "code",
   "execution_count": 67,
   "id": "2bee374f-cb53-46d9-af64-5ff9fa566afd",
   "metadata": {},
   "outputs": [],
   "source": [
    "class Model(BaseModel):\n",
    "    number: float\n",
    "\n",
    "    @field_serializer(\"number\")\n",
    "    def serialize_float(self, value):\n",
    "        return round(value, 2)"
   ]
  },
  {
   "cell_type": "code",
   "execution_count": 68,
   "id": "079f164e-c93d-41f4-b11c-c038ae854a44",
   "metadata": {},
   "outputs": [],
   "source": [
    "m = Model(number=1/3)"
   ]
  },
  {
   "cell_type": "code",
   "execution_count": 69,
   "id": "93eda110-0202-4534-849a-248928647653",
   "metadata": {},
   "outputs": [
    {
     "data": {
      "text/plain": [
       "{'number': 0.33}"
      ]
     },
     "execution_count": 69,
     "metadata": {},
     "output_type": "execute_result"
    }
   ],
   "source": [
    "m.model_dump()"
   ]
  },
  {
   "cell_type": "code",
   "execution_count": 70,
   "id": "a62c0d0a-6393-49f7-b6e8-145590d2361d",
   "metadata": {},
   "outputs": [
    {
     "data": {
      "text/plain": [
       "'{\"number\":0.33}'"
      ]
     },
     "execution_count": 70,
     "metadata": {},
     "output_type": "execute_result"
    }
   ],
   "source": [
    "m.model_dump_json()"
   ]
  },
  {
   "cell_type": "markdown",
   "id": "fda537cd-3ff6-49cb-b8b4-de980569dc95",
   "metadata": {},
   "source": [
    "To specify the serializer for our `datetime` however, we only want to affect the JSON serialization. We still want our dictionary serialization to output the actual datetime object.\n",
    "\n",
    "We can do that by specifying that our serializer should onyl apply to JSON serialization. In fact, we'll go one step further and only specify a serializer if serializing to JSON and if the value is not `None` (we can let Pydantic handle serializing `None` objects)"
   ]
  },
  {
   "cell_type": "code",
   "execution_count": 71,
   "id": "c5e8147d-ba8d-46e4-b9b3-aa25b1957f46",
   "metadata": {},
   "outputs": [],
   "source": [
    "class Model(BaseModel):\n",
    "    number: float\n",
    "    dt: datetime = Field(default_factory=lambda: datetime.now(timezone.utc))\n",
    "\n",
    "    @field_serializer(\"number\")\n",
    "    def serialize_float(self, value):\n",
    "        return round(value, 2)\n",
    "\n",
    "    @field_serializer(\"dt\", when_used=\"json-unless-none\")\n",
    "    def serialize_datetime_to_json(self, value):\n",
    "        return value.strftime(\"%Y/%-m/%-d %I:%M %p\")\n",
    "        "
   ]
  },
  {
   "cell_type": "code",
   "execution_count": 72,
   "id": "af914fea-3ce5-40ac-8aa0-ec626238853d",
   "metadata": {},
   "outputs": [
    {
     "data": {
      "text/plain": [
       "Model(number=0.3333333333333333, dt=datetime.datetime(2023, 12, 6, 14, 33, 5, 692861, tzinfo=datetime.timezone.utc))"
      ]
     },
     "execution_count": 72,
     "metadata": {},
     "output_type": "execute_result"
    }
   ],
   "source": [
    "m = Model(number=1/3)\n",
    "m"
   ]
  },
  {
   "cell_type": "code",
   "execution_count": 73,
   "id": "85065430-4aa2-45b5-8234-20ee23887476",
   "metadata": {},
   "outputs": [
    {
     "data": {
      "text/plain": [
       "{'number': 0.33,\n",
       " 'dt': datetime.datetime(2023, 12, 6, 14, 33, 5, 692861, tzinfo=datetime.timezone.utc)}"
      ]
     },
     "execution_count": 73,
     "metadata": {},
     "output_type": "execute_result"
    }
   ],
   "source": [
    "m.model_dump()"
   ]
  },
  {
   "cell_type": "markdown",
   "id": "f5515281-4c4a-442c-9476-0d8aa83d9c00",
   "metadata": {},
   "source": [
    "As you can see, `dt` serialization remained unaffacted, but when we serialize to JSON, our custom serializer is used."
   ]
  },
  {
   "cell_type": "code",
   "execution_count": 74,
   "id": "2f5687fc-6169-4cc0-99e7-2be873485d83",
   "metadata": {},
   "outputs": [
    {
     "data": {
      "text/plain": [
       "'{\"number\":0.33,\"dt\":\"2023/12/6 02:33 PM\"}'"
      ]
     },
     "execution_count": 74,
     "metadata": {},
     "output_type": "execute_result"
    }
   ],
   "source": [
    "m.model_dump_json()"
   ]
  },
  {
   "cell_type": "markdown",
   "id": "2a4c1f3e-4303-467a-baf9-5561dc93508b",
   "metadata": {},
   "source": [
    "## Custom Validators"
   ]
  },
  {
   "cell_type": "markdown",
   "id": "6cd38a3c-4f16-4755-a3f4-d200dfb9a757",
   "metadata": {},
   "source": [
    "There are different types of validators available in Pydantic. One type are **before** validators, that run before Pydantic has a chance to validate and coerce the data according to our field definition. The second type are **after** validators that happen after Pydantic has already processed the raw data, validated it and coerced it to the proper type, as defined by the field definition."
   ]
  },
  {
   "cell_type": "markdown",
   "id": "a20cc44a-83f0-46ef-af60-54f3f0649164",
   "metadata": {},
   "source": [
    "Before validators can be very handy to provide custom parsing of data that Pydantic would otherwise be unable to do. For example deserializing a date provided in a format that Python does not recognize (e.g. `2024/1/1 3:15pm`).\n",
    "\n",
    "Here, I am only going to cover after validators - Pydantic's docs has more information on before validators."
   ]
  },
  {
   "cell_type": "markdown",
   "id": "8dfc5078-e111-403d-9703-ce8297817646",
   "metadata": {},
   "source": [
    "Validators are not just validation functions - they are also **transformation** functions - for example Pydantic's validators can modify the type of the data being deserialized to coerce it into the proper type. Many of Pydantic's pre-defined special types also perform both validation and transformation."
   ]
  },
  {
   "cell_type": "markdown",
   "id": "9c4b0300-10a0-445e-8621-3c8167292cd9",
   "metadata": {},
   "source": [
    "An after validator can therefore be used to transform the data as it is being deserialized.\n",
    "\n",
    "Let's take a look:"
   ]
  },
  {
   "cell_type": "code",
   "execution_count": 75,
   "id": "6c16112f-f46d-439c-92c9-f72a01c67e3a",
   "metadata": {},
   "outputs": [],
   "source": [
    "from pydantic import field_validator"
   ]
  },
  {
   "cell_type": "code",
   "execution_count": 76,
   "id": "051347f2-120b-4746-b8ed-aa5845e72de3",
   "metadata": {},
   "outputs": [],
   "source": [
    "class Model(BaseModel):\n",
    "    absolute: int\n",
    "\n",
    "    @field_validator(\"absolute\")\n",
    "    @classmethod\n",
    "    def make_absolute(cls, value):\n",
    "        return abs(value)"
   ]
  },
  {
   "cell_type": "code",
   "execution_count": 77,
   "id": "6ff5b14c-0651-427d-9a13-ef74cf8aa792",
   "metadata": {},
   "outputs": [
    {
     "data": {
      "text/plain": [
       "Model(absolute=10)"
      ]
     },
     "execution_count": 77,
     "metadata": {},
     "output_type": "execute_result"
    }
   ],
   "source": [
    "Model(absolute=-10)"
   ]
  },
  {
   "cell_type": "markdown",
   "id": "3cb52aba-5590-4b17-b048-9670e6bfbb00",
   "metadata": {},
   "source": [
    "As you can see, our custom validator **transformed** the input value.\n",
    "\n",
    "One thing that's very important to note is that our custom validator, being an **after** validator will get called once Pydantic has had a chance to parse the input data to an int. If that validation fails, our custom validator will not even get called."
   ]
  },
  {
   "cell_type": "code",
   "execution_count": 78,
   "id": "98f36260-272e-45bd-b96e-79ccb0269798",
   "metadata": {},
   "outputs": [],
   "source": [
    "class Model(BaseModel):\n",
    "    absolute: int\n",
    "\n",
    "    @field_validator(\"absolute\")\n",
    "    @classmethod\n",
    "    def make_absolute(cls, value):\n",
    "        print(f\"running custom validator: {value=}, {type(value)=}\")\n",
    "        return abs(value)"
   ]
  },
  {
   "cell_type": "code",
   "execution_count": 79,
   "id": "d5a8a3ee-ebdf-4bda-b79e-1adc49ab6db0",
   "metadata": {},
   "outputs": [
    {
     "name": "stdout",
     "output_type": "stream",
     "text": [
      "running custom validator: value=-10, type(value)=<class 'int'>\n"
     ]
    },
    {
     "data": {
      "text/plain": [
       "Model(absolute=10)"
      ]
     },
     "execution_count": 79,
     "metadata": {},
     "output_type": "execute_result"
    }
   ],
   "source": [
    "Model(absolute=-10)"
   ]
  },
  {
   "cell_type": "markdown",
   "id": "bb5db403-1b11-4cb7-befd-24863e2013a1",
   "metadata": {},
   "source": [
    "Let's pass something that is not an integer, but can be coerced to an integer:"
   ]
  },
  {
   "cell_type": "code",
   "execution_count": 80,
   "id": "27d5d3bb-c3dc-4272-91b6-bc9e95fc26d7",
   "metadata": {},
   "outputs": [
    {
     "name": "stdout",
     "output_type": "stream",
     "text": [
      "running custom validator: value=-10, type(value)=<class 'int'>\n"
     ]
    },
    {
     "data": {
      "text/plain": [
       "Model(absolute=10)"
      ]
     },
     "execution_count": 80,
     "metadata": {},
     "output_type": "execute_result"
    }
   ],
   "source": [
    "Model(absolute=\"-10\")"
   ]
  },
  {
   "cell_type": "markdown",
   "id": "809a3a45-590d-4823-8b79-479678dbbeee",
   "metadata": {},
   "source": [
    "As you can see, our validator received an integer, not a string."
   ]
  },
  {
   "cell_type": "markdown",
   "id": "3c6fcebd-2165-48c4-b482-411cfdaa85a4",
   "metadata": {},
   "source": [
    "And if Pydantic's validation fails, our validator is not called:"
   ]
  },
  {
   "cell_type": "code",
   "execution_count": 81,
   "id": "46f83a68-d3a8-4c60-8173-732dc6271203",
   "metadata": {},
   "outputs": [
    {
     "name": "stdout",
     "output_type": "stream",
     "text": [
      "1 validation error for Model\n",
      "absolute\n",
      "  Input should be a valid integer, unable to parse string as an integer [type=int_parsing, input_value='abc', input_type=str]\n",
      "    For further information visit https://errors.pydantic.dev/2.4/v/int_parsing\n"
     ]
    }
   ],
   "source": [
    "try:\n",
    "    Model(absolute=\"abc\")\n",
    "except ValidationError as ex:\n",
    "    print(ex)"
   ]
  },
  {
   "cell_type": "markdown",
   "id": "a8adb509-8ed1-49a9-8686-3d5dc5be753f",
   "metadata": {},
   "source": [
    "Notice our custom validator's print statement never executed."
   ]
  },
  {
   "cell_type": "markdown",
   "id": "0a35ea9b-8dac-4e0c-a479-adc4e6f0656e",
   "metadata": {},
   "source": [
    "We can of course, also use custom validators to perform validation."
   ]
  },
  {
   "cell_type": "markdown",
   "id": "b85a71e2-8f57-4ffc-ba60-c1c4948c2b03",
   "metadata": {},
   "source": [
    "Let's say we want to define a field that should be a list of unique integers.\n",
    "\n",
    "We can do it this way:"
   ]
  },
  {
   "cell_type": "code",
   "execution_count": 82,
   "id": "b15b9787-3cbc-4bc3-95cd-94ac9de35a42",
   "metadata": {},
   "outputs": [],
   "source": [
    "class Model(BaseModel):\n",
    "    numbers: list[int] = []\n",
    "\n",
    "    @field_validator(\"numbers\")\n",
    "    @classmethod\n",
    "    def ensure_unique(cls, numbers):\n",
    "        if len(set(numbers)) != len(numbers):\n",
    "            raise ValueError(\"elements must be unique\")\n",
    "        return numbers"
   ]
  },
  {
   "cell_type": "code",
   "execution_count": 83,
   "id": "cf3a6dfc-9261-4912-b6c7-916c6f534a33",
   "metadata": {},
   "outputs": [
    {
     "data": {
      "text/plain": [
       "Model(numbers=[1, 2, 3])"
      ]
     },
     "execution_count": 83,
     "metadata": {},
     "output_type": "execute_result"
    }
   ],
   "source": [
    "Model(numbers=[1, 2, 3])"
   ]
  },
  {
   "cell_type": "code",
   "execution_count": 84,
   "id": "58adc3af-da12-4ebd-9f39-829b1ff0395e",
   "metadata": {},
   "outputs": [
    {
     "name": "stdout",
     "output_type": "stream",
     "text": [
      "1 validation error for Model\n",
      "numbers\n",
      "  Value error, elements must be unique [type=value_error, input_value=[1, 1, 2, 3], input_type=list]\n",
      "    For further information visit https://errors.pydantic.dev/2.4/v/value_error\n"
     ]
    }
   ],
   "source": [
    "try:\n",
    "    Model(numbers=[1, 1, 2, 3])\n",
    "except ValidationError as ex:\n",
    "    print(ex)"
   ]
  },
  {
   "cell_type": "markdown",
   "id": "0f523240-c98e-4d71-abc3-ae6987578902",
   "metadata": {},
   "source": [
    "Notice how I raised a `ValueError` error. If you want to raise a Pydantic `ValidationException`, you shoudl raise a `ValueError`. Most of the other exception types (such as `TypeError`, `KeyError`, etc) will bubble up as those exceptions, not a `ValidationError` exception). There are a few other errors you can raise that will result in a `ValidationError` exception, but by far `ValueError` is the easiest and safest way to do so."
   ]
  },
  {
   "cell_type": "markdown",
   "id": "cc614027-bd2d-4443-99af-921f329341be",
   "metadata": {},
   "source": [
    "## Nested Models"
   ]
  },
  {
   "cell_type": "markdown",
   "id": "74f3c1c1-e644-4f22-b18a-43d7eb6d5c02",
   "metadata": {},
   "source": [
    "You can nest Pydantic models, and deserialization and serialization of the sub models will be handled by Pydantic automatically.\n",
    "\n",
    "For example, let's say we want to create a model to deserialize this data:"
   ]
  },
  {
   "cell_type": "code",
   "execution_count": 85,
   "id": "62c402c5-8edf-4419-bc2c-59771b3329b0",
   "metadata": {},
   "outputs": [],
   "source": [
    "data = {\n",
    "    \"firstName\": \"Arthur\",\n",
    "    \"lastName\": \"Clarke\",\n",
    "    \"born\": {\n",
    "        \"place\": {\n",
    "            \"country\": \"Lunar Colony\",\n",
    "            \"city\": \"Central City\",\n",
    "        },\n",
    "        \"date\": \"3001-01-01\",\n",
    "    }\n",
    "}"
   ]
  },
  {
   "cell_type": "markdown",
   "id": "3fc753be-8ce7-4447-900a-3e98b5e1b529",
   "metadata": {},
   "source": [
    "As you can see we have three levels of nested dictionaries - which we can model this way:"
   ]
  },
  {
   "cell_type": "code",
   "execution_count": 86,
   "id": "caf14730-eab1-4a7f-9fca-97f0f2eabaf9",
   "metadata": {},
   "outputs": [],
   "source": [
    "from datetime import date\n",
    "\n",
    "class Place(BaseModel):\n",
    "    country: str\n",
    "    city: str\n",
    "\n",
    "class Born(BaseModel):\n",
    "    place: Place\n",
    "    dt: date = Field(alias=\"date\")\n",
    "    \n",
    "class Person(BaseModel):\n",
    "    first_name: str | None = Field(alias=\"firstName\", default=None)\n",
    "    last_name: str = Field(alias=\"lastName\")\n",
    "    born: Born"
   ]
  },
  {
   "cell_type": "code",
   "execution_count": 87,
   "id": "68d7725d-e534-4c29-b4f4-10057fec4195",
   "metadata": {},
   "outputs": [
    {
     "data": {
      "text/plain": [
       "Person(first_name='Arthur', last_name='Clarke', born=Born(place=Place(country='Lunar Colony', city='Central City'), dt=datetime.date(3001, 1, 1)))"
      ]
     },
     "execution_count": 87,
     "metadata": {},
     "output_type": "execute_result"
    }
   ],
   "source": [
    "arthur = Person.model_validate(data)\n",
    "arthur"
   ]
  },
  {
   "cell_type": "markdown",
   "id": "9b04573f-978a-4d20-881a-d159f2ec43a5",
   "metadata": {},
   "source": [
    "And of course, we can now access all these fields using object dot notation:"
   ]
  },
  {
   "cell_type": "code",
   "execution_count": 88,
   "id": "372d8b21-b22c-48fd-a65f-cd4e7214016b",
   "metadata": {},
   "outputs": [
    {
     "data": {
      "text/plain": [
       "'Lunar Colony'"
      ]
     },
     "execution_count": 88,
     "metadata": {},
     "output_type": "execute_result"
    }
   ],
   "source": [
    "arthur.born.place.country"
   ]
  },
  {
   "cell_type": "markdown",
   "id": "a224bb5c-b607-4fdc-aebd-1fe5f6c605a5",
   "metadata": {},
   "source": [
    "## Conclusion"
   ]
  },
  {
   "cell_type": "markdown",
   "id": "88e2cf13-2027-40f2-b8c5-78ee0fe97701",
   "metadata": {},
   "source": [
    "This was a very quick overview of creating models in Pydantic with some extra functionality such as custom serializers and custom validators.\n",
    "\n",
    "However, there is a whole lot more to Pydantic than just this, an depending on your needs you'll have to dig deeper into the library.\n",
    "\n",
    "For example, instead of defining \"single-use\" custom serializers and validators directly in our models, we can create custom types (using type annotations) that attach custom validators and serializers to the type itself. That type can then be reused for any field in any model. \n",
    "\n",
    "I mentioned that we have before and after validators - and in fact, validation is a pipeline, where we can specify multiple before and after validators (either directly in the model using those decorators we saw, or to types using annotations), and Pydantic will execute the validators one after the other, to arrive at the final result.\n",
    "\n",
    "Pydantic also supports other features such as how to handle extra fields (fields in the data but not in the model), making fields or entire models immutable, auto-generated aliases, calculated fields (i.e. calculated from the data, not ingested), dependent field validation (such as validating that an end date is creater than a start date in our model), enumerations, model inheritance, specialized types (such as email, urls, UUID, etc), and many more features - far more than I can possibly cover here.\n",
    "\n",
    "If you want to go deeper into Pydantic, check out my Udemy course on the subject! (Yes, I know, shameless plug!)"
   ]
  },
  {
   "cell_type": "code",
   "execution_count": null,
   "id": "95360924-ac9a-45e3-8a6a-2071ff30e45b",
   "metadata": {},
   "outputs": [],
   "source": []
  }
 ],
 "metadata": {
  "kernelspec": {
   "display_name": "Python 3 (ipykernel)",
   "language": "python",
   "name": "python3"
  },
  "language_info": {
   "codemirror_mode": {
    "name": "ipython",
    "version": 3
   },
   "file_extension": ".py",
   "mimetype": "text/x-python",
   "name": "python",
   "nbconvert_exporter": "python",
   "pygments_lexer": "ipython3",
   "version": "3.11.1"
  }
 },
 "nbformat": 4,
 "nbformat_minor": 5
}
