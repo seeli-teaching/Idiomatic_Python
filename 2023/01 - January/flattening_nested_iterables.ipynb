{
 "cells": [
  {
   "cell_type": "markdown",
   "id": "df6ea502",
   "metadata": {},
   "source": [
    "### Flattening Nested Iterables"
   ]
  },
  {
   "cell_type": "markdown",
   "id": "75c53559",
   "metadata": {},
   "source": [
    "Often we want to flatten nested sequences (or iterables in general) so we can iterate over all the individual elements.\n",
    "\n",
    "For example, we may want to iterate over all the elements in a sequence that looks like this:\n",
    "\n",
    "```\n",
    "[1, 2, [3, 4, [5, 6, 7, [8, 9, 10]]]\n",
    "```\n",
    "\n",
    "and get the elements\n",
    "\n",
    "```\n",
    "1, 2, 3, 4, 5, 6, 7, 8, 9, 10\n",
    "```"
   ]
  },
  {
   "cell_type": "markdown",
   "id": "71b576d7",
   "metadata": {},
   "source": [
    "One thing we want to be careful with, is with strings (or bytes).\n",
    "\n",
    "For example:\n",
    "\n",
    "```\n",
    "[\"I'm\", \"a\", [\"lumberjack\", [\"and\", \"I'm\", \"OK\"]]]\n",
    "```\n",
    "\n",
    "If we treat these strings as sequences, then our iteration would yield something like this:\n",
    "\n",
    "```\n",
    "I, `, m, a, l, u, m, b, e, r, j, a, c, k, etc\n",
    "```\n",
    "\n",
    "This is generally not how we want to do this, so instead we'll want to treat strings as non-sequence types, and the iteration should yield:\n",
    "\n",
    "```\n",
    "I'm, a, lumberjack, and, I'm, OK\n",
    "```"
   ]
  },
  {
   "cell_type": "markdown",
   "id": "90862470",
   "metadata": {},
   "source": [
    "We'll use recursion for our solution."
   ]
  },
  {
   "cell_type": "markdown",
   "id": "3cb02daa",
   "metadata": {},
   "source": [
    "We're also going to make use of the `Iterable` abstract base class in the `collections` module to determine if an object is iterable or not."
   ]
  },
  {
   "cell_type": "markdown",
   "id": "0cadaf60",
   "metadata": {},
   "source": [
    "In our first approach we are going to build up a list of all the elements we want to return flattened, and return that list."
   ]
  },
  {
   "cell_type": "code",
   "execution_count": 3,
   "id": "50538cc1",
   "metadata": {},
   "outputs": [],
   "source": [
    "from collections.abc import Iterable"
   ]
  },
  {
   "cell_type": "code",
   "execution_count": 37,
   "id": "69785a07",
   "metadata": {},
   "outputs": [],
   "source": [
    "def flatten_std(iterable):\n",
    "    result = []\n",
    "    for element in iterable:\n",
    "        if isinstance(element, Iterable) and not isinstance(element, (str, bytes)):\n",
    "            result.extend(flatten(element))\n",
    "        else:\n",
    "            result.append(element)\n",
    "    return result"
   ]
  },
  {
   "cell_type": "markdown",
   "id": "6bc88de6",
   "metadata": {},
   "source": [
    "Let's try it out and see if it works:"
   ]
  },
  {
   "cell_type": "code",
   "execution_count": 38,
   "id": "08e80a8c",
   "metadata": {},
   "outputs": [
    {
     "data": {
      "text/plain": [
       "[1, 2, 3, 4, 5, 6, 7, 8, 9, 10]"
      ]
     },
     "execution_count": 38,
     "metadata": {},
     "output_type": "execute_result"
    }
   ],
   "source": [
    "l = [1, 2, [3, 4, [5, 6, 7, [8, 9, 10]]]]\n",
    "flatten_std(l)"
   ]
  },
  {
   "cell_type": "markdown",
   "id": "a7ffb007",
   "metadata": {},
   "source": [
    "And with strings:"
   ]
  },
  {
   "cell_type": "code",
   "execution_count": 39,
   "id": "5d389f12",
   "metadata": {},
   "outputs": [
    {
     "data": {
      "text/plain": [
       "[\"I'm\", 'a', 'lumberjack', 'and', \"I'm\", 'OK']"
      ]
     },
     "execution_count": 39,
     "metadata": {},
     "output_type": "execute_result"
    }
   ],
   "source": [
    "l = [\"I'm\", \"a\", [\"lumberjack\", \"and\", [\"I'm\", \"OK\"]]]\n",
    "flatten_std(l)"
   ]
  },
  {
   "cell_type": "markdown",
   "id": "0a347a38",
   "metadata": {},
   "source": [
    "This works fine, but we can actually simplify this code quite a bit by using a generator, and in particular using `yield` and `yield from`.\n",
    "\n",
    "We are going to turn our function into a generator function - that way we do not have to build up that `result` list - not only is the code easier to read, but using a generator will make our function far more memory efficient, since we do not have to store the entire resulting iterable in a list."
   ]
  },
  {
   "cell_type": "code",
   "execution_count": 25,
   "id": "ad233ca7",
   "metadata": {},
   "outputs": [],
   "source": [
    "def flatten(iterable):\n",
    "    for element in iterable:\n",
    "        if isinstance(element, Iterable) and not isinstance(element, (str, bytes)):\n",
    "            yield from flatten(element)\n",
    "        else:\n",
    "            yield element"
   ]
  },
  {
   "cell_type": "markdown",
   "id": "a10f8fce",
   "metadata": {},
   "source": [
    "Our `flatten` function is now a generator function, so we'll have to iterate over it to get all the results:"
   ]
  },
  {
   "cell_type": "code",
   "execution_count": 27,
   "id": "42e9685e",
   "metadata": {},
   "outputs": [
    {
     "data": {
      "text/plain": [
       "[1, 2, 3, 4, 5, 6, 7, 8, 9, 10]"
      ]
     },
     "execution_count": 27,
     "metadata": {},
     "output_type": "execute_result"
    }
   ],
   "source": [
    "l = [1, 2, [3, 4, [5, 6, 7, [8, 9, 10]]]]\n",
    "list(flatten(l))"
   ]
  },
  {
   "cell_type": "code",
   "execution_count": 28,
   "id": "52013ef0",
   "metadata": {},
   "outputs": [
    {
     "data": {
      "text/plain": [
       "[\"I'm\", 'a', 'lumberjack', 'and', \"I'm\", 'OK']"
      ]
     },
     "execution_count": 28,
     "metadata": {},
     "output_type": "execute_result"
    }
   ],
   "source": [
    "l = [\"I'm\", \"a\", [\"lumberjack\", \"and\", [\"I'm\", \"OK\"]]]\n",
    "list(flatten(l))"
   ]
  },
  {
   "cell_type": "markdown",
   "id": "770cd647",
   "metadata": {},
   "source": [
    "The way we have coded our function, it will work with nested iterables in general, not just sequence types:"
   ]
  },
  {
   "cell_type": "code",
   "execution_count": 35,
   "id": "f70918c9",
   "metadata": {},
   "outputs": [
    {
     "name": "stdout",
     "output_type": "stream",
     "text": [
      "<zip object at 0x1092fb940>\n",
      "[(1, 100), (2, 101), (3, 102), (4, 103)]\n"
     ]
    }
   ],
   "source": [
    "x = zip(range(1, 5), range(100, 105)) \n",
    "print(x)\n",
    "print(list(x))"
   ]
  },
  {
   "cell_type": "code",
   "execution_count": 36,
   "id": "3af5c8e5",
   "metadata": {},
   "outputs": [
    {
     "data": {
      "text/plain": [
       "[1, 100, 2, 101, 3, 102, 4, 103]"
      ]
     },
     "execution_count": 36,
     "metadata": {},
     "output_type": "execute_result"
    }
   ],
   "source": [
    "x = zip(range(1, 5), range(100, 105))\n",
    "list(flatten(x))"
   ]
  },
  {
   "cell_type": "markdown",
   "id": "65108f4e",
   "metadata": {},
   "source": [
    "Let's do some timings:"
   ]
  },
  {
   "cell_type": "code",
   "execution_count": 40,
   "id": "86ad8575",
   "metadata": {},
   "outputs": [],
   "source": [
    "from timeit import timeit"
   ]
  },
  {
   "cell_type": "code",
   "execution_count": 42,
   "id": "2ccb623e",
   "metadata": {},
   "outputs": [
    {
     "data": {
      "text/plain": [
       "2.3032115411479026"
      ]
     },
     "execution_count": 42,
     "metadata": {},
     "output_type": "execute_result"
    }
   ],
   "source": [
    "l = [1, 2, [3, 4, [5, 6, 7, [8, 9, 10]]]]\n",
    "timeit(\"flatten_std(l)\", globals=globals(), number=1_000_000)"
   ]
  },
  {
   "cell_type": "code",
   "execution_count": 43,
   "id": "915d4115",
   "metadata": {},
   "outputs": [
    {
     "data": {
      "text/plain": [
       "0.10977479186840355"
      ]
     },
     "execution_count": 43,
     "metadata": {},
     "output_type": "execute_result"
    }
   ],
   "source": [
    "l = [1, 2, [3, 4, [5, 6, 7, [8, 9, 10]]]]\n",
    "timeit(\"flatten(l)\", globals=globals(), number=1_000_000)"
   ]
  },
  {
   "cell_type": "markdown",
   "id": "8c917e80",
   "metadata": {},
   "source": [
    "This looks way faster - but I kind of cheated! Can you spot it?"
   ]
  },
  {
   "cell_type": "markdown",
   "id": "bb997ae1",
   "metadata": {},
   "source": [
    "Since `flatten` is a generator function, it will actually not do any work until we iterate over the results - which I did not do in this case - so let's change it, and see what happens:"
   ]
  },
  {
   "cell_type": "code",
   "execution_count": 44,
   "id": "cf48728f",
   "metadata": {},
   "outputs": [
    {
     "data": {
      "text/plain": [
       "2.3530387501232326"
      ]
     },
     "execution_count": 44,
     "metadata": {},
     "output_type": "execute_result"
    }
   ],
   "source": [
    "l = [1, 2, [3, 4, [5, 6, 7, [8, 9, 10]]]]\n",
    "timeit(\"list(flatten(l))\", globals=globals(), number=1_000_000)"
   ]
  },
  {
   "cell_type": "markdown",
   "id": "9b1e1440",
   "metadata": {},
   "source": [
    "Ok, so now that we are actually iterating over all the elements of the generator, we can see that timeings are about the same.\n",
    "\n",
    "But the generator approach has the advantage that it will be more memory efficient in general, as well as more computationally efficient if we do not actually iterate over the entire result set (maybe we only need the first few elements, in which case we save having to computer everything the way `flatten_std` works)."
   ]
  },
  {
   "cell_type": "markdown",
   "id": "17c2f1e0",
   "metadata": {},
   "source": [
    "And that's it - a nice easy way to flatten nested iterables using recursion and generators!"
   ]
  }
 ],
 "metadata": {
  "kernelspec": {
   "display_name": "Python 3 (ipykernel)",
   "language": "python",
   "name": "python3"
  },
  "language_info": {
   "codemirror_mode": {
    "name": "ipython",
    "version": 3
   },
   "file_extension": ".py",
   "mimetype": "text/x-python",
   "name": "python",
   "nbconvert_exporter": "python",
   "pygments_lexer": "ipython3",
   "version": "3.10.2"
  }
 },
 "nbformat": 4,
 "nbformat_minor": 5
}
