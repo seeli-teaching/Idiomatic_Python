{
 "cells": [
  {
   "cell_type": "markdown",
   "id": "870d6e61-9028-4fea-88c2-995ccf36bbb7",
   "metadata": {},
   "source": [
    "### Migrating from Pydantic V1.x to V2.x"
   ]
  },
  {
   "cell_type": "markdown",
   "id": "02d92f35-a145-4a14-b218-3c3d18d50296",
   "metadata": {},
   "source": [
    "#### Introduction"
   ]
  },
  {
   "cell_type": "markdown",
   "id": "b066930d",
   "metadata": {},
   "source": [
    "Pydantic 2.0 was released in June 2023.\n",
    "\n",
    "This brought along several syntactic changes and enfrom the previous 1.x versions.\n",
    "\n",
    "This video explores some of the main changes and how you can migrate your existing 1.x based Pydantic code to 2.x."
   ]
  },
  {
   "cell_type": "markdown",
   "id": "5c22e779",
   "metadata": {},
   "source": [
    "A full migration guide is provided by Pydantic and is available here:\n",
    "\n",
    "[https://docs.pydantic.dev/latest/migration/](https://docs.pydantic.dev/latest/migration/)"
   ]
  },
  {
   "cell_type": "markdown",
   "id": "23757bac",
   "metadata": {},
   "source": [
    "Pydantic provides a migration tool `bump-pydantic` that can help migrate an existing V1 codebase to V2. To be honest, I do not use it - I much prefer taking the time to review my code and make sure I am not only migrating it to V2 but double-checking everything and formatting things the way **I** want. (I don't usually use code generators for the same reasons), However feel free to try it and see how well it works for you."
   ]
  },
  {
   "cell_type": "markdown",
   "id": "638aabc4",
   "metadata": {},
   "source": [
    "For this video, your Python environment will need the following libraries installed:\n",
    "- `pydantic`\n",
    "- `bump-pydantic` (if you want to try the migration tool on your own)\n",
    "- `pyhumps` (for camel and snake case conversions - feel free to use whatever you prefer)"
   ]
  },
  {
   "cell_type": "markdown",
   "id": "ed117a4d",
   "metadata": {
    "jp-MarkdownHeadingCollapsed": true
   },
   "source": [
    "#### Deserializing Data"
   ]
  },
  {
   "cell_type": "markdown",
   "id": "8206c287",
   "metadata": {},
   "source": [
    "The way we \"load\" (deserialize) Json or dictionary data into a Pydantic model has changed from using methods such as `parse_obj()`, `parse_raw()` to `model_validate()` and `model_validate_json()`."
   ]
  },
  {
   "cell_type": "markdown",
   "id": "6f7f3c1c-6a5c-49b3-bf39-e1a07a673724",
   "metadata": {},
   "source": [
    "We still have access to the V1 BaseModel. You can always use this to make your migrations simpler by using the older V1 BaseModel in conjunction with the new V2 BaseModel."
   ]
  },
  {
   "cell_type": "markdown",
   "id": "5731dfd8-f4e2-4da4-8b33-5a460f597adb",
   "metadata": {},
   "source": [
    "Here, we'll use it to see the differences between the two and how to re-write V1 BaseModels into V2 BaseModels."
   ]
  },
  {
   "cell_type": "code",
   "execution_count": 1,
   "id": "6e91f1aa-c2f9-4222-913e-9547eb9bac8b",
   "metadata": {},
   "outputs": [],
   "source": [
    "import json\n",
    "import humps\n",
    "from pydantic import BaseModel\n",
    "from pydantic.v1 import BaseModel as BaseModelV1"
   ]
  },
  {
   "cell_type": "code",
   "execution_count": 2,
   "id": "9dabfe1e-0046-4e76-affe-1343794384e8",
   "metadata": {},
   "outputs": [],
   "source": [
    "class CarV1(BaseModelV1):\n",
    "    manufacturer: str\n",
    "    model: str\n",
    "    year: int\n",
    "    notes: str | None = None        "
   ]
  },
  {
   "cell_type": "code",
   "execution_count": 3,
   "id": "fdc3501a-57a0-4cf8-a8ac-ec5af0d826e7",
   "metadata": {},
   "outputs": [],
   "source": [
    "class Car(BaseModel):\n",
    "    manufacturer: str\n",
    "    model: str\n",
    "    year: int\n",
    "    notes: str | None = None    "
   ]
  },
  {
   "cell_type": "markdown",
   "id": "3e34da5a-1c05-4aaf-9bde-44dc61a3e4de",
   "metadata": {},
   "source": [
    "Now let's look at how to deserialize data from JSON and a plain `dict`."
   ]
  },
  {
   "cell_type": "code",
   "execution_count": 4,
   "id": "c00c1b0a-7e8a-47f6-a4ca-46102c72a90f",
   "metadata": {},
   "outputs": [],
   "source": [
    "data = {\n",
    "    \"manufacturer\": \"Citroen\",\n",
    "    \"model\": \"2CV\",\n",
    "    \"year\": 1981,\n",
    "    \"notes\": \"Famous James Bond car from 'For Your Eyes Only'\"\n",
    "}"
   ]
  },
  {
   "cell_type": "code",
   "execution_count": 5,
   "id": "469981e3-52c8-40d4-b970-8f7fa0e2c9ea",
   "metadata": {},
   "outputs": [
    {
     "name": "stdout",
     "output_type": "stream",
     "text": [
      "{\"manufacturer\": \"Citroen\", \"model\": \"2CV\", \"year\": 1981, \"notes\": \"Famous James Bond car from 'For Your Eyes Only'\"}\n"
     ]
    }
   ],
   "source": [
    "data_json = json.dumps(data)\n",
    "\n",
    "print(data_json)"
   ]
  },
  {
   "cell_type": "markdown",
   "id": "dd116d8b-31fe-45b3-91ab-dcbba85c9c37",
   "metadata": {},
   "source": [
    "The V1 way of doing it:"
   ]
  },
  {
   "cell_type": "code",
   "execution_count": 6,
   "id": "dd920ee1-d839-4537-8ee9-9de276ebceb0",
   "metadata": {},
   "outputs": [
    {
     "data": {
      "text/plain": [
       "CarV1(manufacturer='Citroen', model='2CV', year=1981, notes=\"Famous James Bond car from 'For Your Eyes Only'\")"
      ]
     },
     "execution_count": 6,
     "metadata": {},
     "output_type": "execute_result"
    }
   ],
   "source": [
    "CarV1.parse_obj(data)"
   ]
  },
  {
   "cell_type": "code",
   "execution_count": 7,
   "id": "5e8df758-d07b-4304-9b8a-58126429e320",
   "metadata": {},
   "outputs": [
    {
     "data": {
      "text/plain": [
       "CarV1(manufacturer='Citroen', model='2CV', year=1981, notes=\"Famous James Bond car from 'For Your Eyes Only'\")"
      ]
     },
     "execution_count": 7,
     "metadata": {},
     "output_type": "execute_result"
    }
   ],
   "source": [
    "CarV1.parse_raw(data_json)"
   ]
  },
  {
   "cell_type": "markdown",
   "id": "72477d97-9ea3-44cf-b999-de72b8f7f01e",
   "metadata": {},
   "source": [
    "And the V2 way of doing it:"
   ]
  },
  {
   "cell_type": "code",
   "execution_count": 8,
   "id": "83848798-9a34-4703-869f-5ed8003c70f7",
   "metadata": {},
   "outputs": [
    {
     "data": {
      "text/plain": [
       "Car(manufacturer='Citroen', model='2CV', year=1981, notes=\"Famous James Bond car from 'For Your Eyes Only'\")"
      ]
     },
     "execution_count": 8,
     "metadata": {},
     "output_type": "execute_result"
    }
   ],
   "source": [
    "Car.model_validate(data)"
   ]
  },
  {
   "cell_type": "code",
   "execution_count": 9,
   "id": "eb64c1a7-7318-4dd9-8e1b-59aa82444d27",
   "metadata": {},
   "outputs": [
    {
     "data": {
      "text/plain": [
       "Car(manufacturer='Citroen', model='2CV', year=1981, notes=\"Famous James Bond car from 'For Your Eyes Only'\")"
      ]
     },
     "execution_count": 9,
     "metadata": {},
     "output_type": "execute_result"
    }
   ],
   "source": [
    "Car.model_validate_json(data_json)"
   ]
  },
  {
   "cell_type": "markdown",
   "id": "1e9d09c9",
   "metadata": {
    "jp-MarkdownHeadingCollapsed": true
   },
   "source": [
    "#### Serializing Data"
   ]
  },
  {
   "cell_type": "markdown",
   "id": "32761fc5",
   "metadata": {},
   "source": [
    "Simiarly, the methods to serialize a Pydantic model to JSON or a plain `dict` have been renamed from `json()` and `dict()` to `model_dump_json()` and `model_dump()` respectively:"
   ]
  },
  {
   "cell_type": "code",
   "execution_count": 10,
   "id": "5868e7e8",
   "metadata": {},
   "outputs": [],
   "source": [
    "cv = CarV1.parse_obj(data)"
   ]
  },
  {
   "cell_type": "code",
   "execution_count": 11,
   "id": "a9514d83",
   "metadata": {},
   "outputs": [
    {
     "data": {
      "text/plain": [
       "{'manufacturer': 'Citroen',\n",
       " 'model': '2CV',\n",
       " 'year': 1981,\n",
       " 'notes': \"Famous James Bond car from 'For Your Eyes Only'\"}"
      ]
     },
     "execution_count": 11,
     "metadata": {},
     "output_type": "execute_result"
    }
   ],
   "source": [
    "cv.dict()"
   ]
  },
  {
   "cell_type": "code",
   "execution_count": 12,
   "id": "8cbc7190",
   "metadata": {},
   "outputs": [
    {
     "data": {
      "text/plain": [
       "'{\"manufacturer\": \"Citroen\", \"model\": \"2CV\", \"year\": 1981, \"notes\": \"Famous James Bond car from \\'For Your Eyes Only\\'\"}'"
      ]
     },
     "execution_count": 12,
     "metadata": {},
     "output_type": "execute_result"
    }
   ],
   "source": [
    "cv.json()"
   ]
  },
  {
   "cell_type": "code",
   "execution_count": 13,
   "id": "f9f3f373",
   "metadata": {},
   "outputs": [],
   "source": [
    "cv = Car.model_validate(data)"
   ]
  },
  {
   "cell_type": "code",
   "execution_count": 14,
   "id": "864770f7",
   "metadata": {},
   "outputs": [
    {
     "data": {
      "text/plain": [
       "{'manufacturer': 'Citroen',\n",
       " 'model': '2CV',\n",
       " 'year': 1981,\n",
       " 'notes': \"Famous James Bond car from 'For Your Eyes Only'\"}"
      ]
     },
     "execution_count": 14,
     "metadata": {},
     "output_type": "execute_result"
    }
   ],
   "source": [
    "cv.model_dump()"
   ]
  },
  {
   "cell_type": "code",
   "execution_count": 15,
   "id": "4f760873",
   "metadata": {},
   "outputs": [
    {
     "data": {
      "text/plain": [
       "'{\"manufacturer\":\"Citroen\",\"model\":\"2CV\",\"year\":1981,\"notes\":\"Famous James Bond car from \\'For Your Eyes Only\\'\"}'"
      ]
     },
     "execution_count": 15,
     "metadata": {},
     "output_type": "execute_result"
    }
   ],
   "source": [
    "cv.model_dump_json()"
   ]
  },
  {
   "cell_type": "markdown",
   "id": "39b4fb5e",
   "metadata": {},
   "source": [
    "The way to use aliases when dumping the data remains the same (albeit with the different methods to serialize the data)."
   ]
  },
  {
   "cell_type": "code",
   "execution_count": 16,
   "id": "db06da9f",
   "metadata": {},
   "outputs": [],
   "source": [
    "from pydantic import Field\n",
    "\n",
    "class Person(BaseModel):\n",
    "    first_name: str = Field(alias=\"firstName\")\n",
    "    last_name: str = Field(alias=\"lastName\")"
   ]
  },
  {
   "cell_type": "code",
   "execution_count": 17,
   "id": "9d84bf17",
   "metadata": {},
   "outputs": [
    {
     "data": {
      "text/plain": [
       "Person(first_name='Isaac', last_name='Newton')"
      ]
     },
     "execution_count": 17,
     "metadata": {},
     "output_type": "execute_result"
    }
   ],
   "source": [
    "p = Person(firstName='Isaac', lastName='Newton')\n",
    "p"
   ]
  },
  {
   "cell_type": "code",
   "execution_count": 18,
   "id": "d8368a5c",
   "metadata": {},
   "outputs": [
    {
     "data": {
      "text/plain": [
       "{'first_name': 'Isaac', 'last_name': 'Newton'}"
      ]
     },
     "execution_count": 18,
     "metadata": {},
     "output_type": "execute_result"
    }
   ],
   "source": [
    "p.model_dump()"
   ]
  },
  {
   "cell_type": "code",
   "execution_count": 19,
   "id": "a8bbe924",
   "metadata": {},
   "outputs": [
    {
     "data": {
      "text/plain": [
       "{'firstName': 'Isaac', 'lastName': 'Newton'}"
      ]
     },
     "execution_count": 19,
     "metadata": {},
     "output_type": "execute_result"
    }
   ],
   "source": [
    "p.model_dump(by_alias=True)"
   ]
  },
  {
   "cell_type": "code",
   "execution_count": 20,
   "id": "67eb192c",
   "metadata": {},
   "outputs": [
    {
     "data": {
      "text/plain": [
       "'{\"first_name\":\"Isaac\",\"last_name\":\"Newton\"}'"
      ]
     },
     "execution_count": 20,
     "metadata": {},
     "output_type": "execute_result"
    }
   ],
   "source": [
    "p.model_dump_json()"
   ]
  },
  {
   "cell_type": "code",
   "execution_count": 21,
   "id": "54f21860",
   "metadata": {},
   "outputs": [
    {
     "data": {
      "text/plain": [
       "'{\"firstName\":\"Isaac\",\"lastName\":\"Newton\"}'"
      ]
     },
     "execution_count": 21,
     "metadata": {},
     "output_type": "execute_result"
    }
   ],
   "source": [
    "p.model_dump_json(by_alias=True)"
   ]
  },
  {
   "cell_type": "markdown",
   "id": "62455d5e",
   "metadata": {
    "jp-MarkdownHeadingCollapsed": true
   },
   "source": [
    "#### Configuring the Model"
   ]
  },
  {
   "cell_type": "markdown",
   "id": "08d66deb",
   "metadata": {},
   "source": [
    "In V1 we could customize our model in various ways.\n",
    "\n",
    "For example, we may have wanted to always use automatically generated aliases for our fields (to account for Python naming conventions, using snake case, and JSON naming conventions, using camel-case). As well as the ability to deserialize data using either the alias or the actual Python field name."
   ]
  },
  {
   "cell_type": "markdown",
   "id": "a18dfad1",
   "metadata": {},
   "source": [
    "In V1, we would have done it this way:"
   ]
  },
  {
   "cell_type": "code",
   "execution_count": 22,
   "id": "741adf3f-b900-4746-8981-6208fef15ad1",
   "metadata": {},
   "outputs": [],
   "source": [
    "class Person(BaseModelV1):\n",
    "    first_name: str\n",
    "    last_name: str\n",
    "\n",
    "    class Config:\n",
    "        allow_population_by_field_name = True\n",
    "        alias_generator = humps.camelize\n",
    "        extra = \"ignore\""
   ]
  },
  {
   "cell_type": "code",
   "execution_count": 23,
   "id": "bdac38ec-4f0c-4335-b19a-8f79483d31d2",
   "metadata": {},
   "outputs": [
    {
     "data": {
      "text/plain": [
       "Person(first_name='Isaac', last_name='Newton')"
      ]
     },
     "execution_count": 23,
     "metadata": {},
     "output_type": "execute_result"
    }
   ],
   "source": [
    "Person(first_name=\"Isaac\", lastName=\"Newton\", year=1643)"
   ]
  },
  {
   "cell_type": "markdown",
   "id": "f7be7305-e605-4308-8c32-0a45de785d89",
   "metadata": {},
   "source": [
    "In V2, a special type of dictionary (`TypedDict`) is defined inside the class with the various configurations (whose names have also potentially changed, or been removed, with extras added - again, see the link I gave above for a definitive list)."
   ]
  },
  {
   "cell_type": "code",
   "execution_count": 24,
   "id": "da36a8c5-137a-4431-a14f-012b37330906",
   "metadata": {},
   "outputs": [],
   "source": [
    "from pydantic import ConfigDict"
   ]
  },
  {
   "cell_type": "code",
   "execution_count": 25,
   "id": "7fcd3a43-8017-4ff7-a833-7ef8991e77c6",
   "metadata": {},
   "outputs": [],
   "source": [
    "class Person(BaseModel):\n",
    "    first_name: str\n",
    "    last_name: str\n",
    "\n",
    "    model_config = ConfigDict(\n",
    "        populate_by_name=True,\n",
    "        alias_generator=humps.camelize,\n",
    "        extra=\"ignore\"\n",
    "    )"
   ]
  },
  {
   "cell_type": "code",
   "execution_count": 26,
   "id": "c62f5485-8abc-4a34-85da-24ad3e1cb7d0",
   "metadata": {},
   "outputs": [
    {
     "data": {
      "text/plain": [
       "Person(first_name='Isaac', last_name='Newton')"
      ]
     },
     "execution_count": 26,
     "metadata": {},
     "output_type": "execute_result"
    }
   ],
   "source": [
    "p = Person(first_name=\"Isaac\", lastName=\"Newton\", year=1643)\n",
    "p"
   ]
  },
  {
   "cell_type": "markdown",
   "id": "fc228034-f18c-42d6-aa11-f2b2aa5afdee",
   "metadata": {},
   "source": [
    "And serializing the data using either field name or the alias works just as we just saw:"
   ]
  },
  {
   "cell_type": "code",
   "execution_count": 27,
   "id": "4c0d0fbc-312c-429a-bf38-abcd22db62fe",
   "metadata": {},
   "outputs": [
    {
     "data": {
      "text/plain": [
       "{'first_name': 'Isaac', 'last_name': 'Newton'}"
      ]
     },
     "execution_count": 27,
     "metadata": {},
     "output_type": "execute_result"
    }
   ],
   "source": [
    "p.model_dump()"
   ]
  },
  {
   "cell_type": "code",
   "execution_count": 28,
   "id": "63682d4f-c0af-40f2-a8cf-77c1f5b69d75",
   "metadata": {},
   "outputs": [
    {
     "data": {
      "text/plain": [
       "{'firstName': 'Isaac', 'lastName': 'Newton'}"
      ]
     },
     "execution_count": 28,
     "metadata": {},
     "output_type": "execute_result"
    }
   ],
   "source": [
    "p.model_dump(by_alias=True)"
   ]
  },
  {
   "cell_type": "code",
   "execution_count": 29,
   "id": "8e8a5ee4-a26a-407d-a497-02918d1bf734",
   "metadata": {},
   "outputs": [
    {
     "data": {
      "text/plain": [
       "'{\"first_name\":\"Isaac\",\"last_name\":\"Newton\"}'"
      ]
     },
     "execution_count": 29,
     "metadata": {},
     "output_type": "execute_result"
    }
   ],
   "source": [
    "p.model_dump_json()"
   ]
  },
  {
   "cell_type": "code",
   "execution_count": 30,
   "id": "5c9508c0-0040-4b5c-a9be-cdacc1846c90",
   "metadata": {},
   "outputs": [
    {
     "data": {
      "text/plain": [
       "'{\"firstName\":\"Isaac\",\"lastName\":\"Newton\"}'"
      ]
     },
     "execution_count": 30,
     "metadata": {},
     "output_type": "execute_result"
    }
   ],
   "source": [
    "p.model_dump_json(by_alias=True)"
   ]
  },
  {
   "cell_type": "markdown",
   "id": "dbfbb007-b42d-4cf8-9d0a-2111b00d4ee8",
   "metadata": {},
   "source": [
    "#### More Complex Field Types"
   ]
  },
  {
   "cell_type": "markdown",
   "id": "ddc1ae94-dc2a-4718-9c38-e3376b34c544",
   "metadata": {},
   "source": [
    "The way in which we define more complex field types has also changed slightly."
   ]
  },
  {
   "cell_type": "markdown",
   "id": "245a463b-2e5d-4d38-947d-6cc7f8688429",
   "metadata": {},
   "source": [
    "Let's look at a V1 model first:"
   ]
  },
  {
   "cell_type": "code",
   "execution_count": 31,
   "id": "97afe844-8647-434c-81d7-b1b5749fd45e",
   "metadata": {},
   "outputs": [],
   "source": [
    "from pydantic.v1 import conint\n",
    "\n",
    "class Person(BaseModelV1):\n",
    "    first_name: str\n",
    "    last_name: str\n",
    "    dob: conint(gt=0, le=3001)\n",
    "\n",
    "    class Config:\n",
    "        allow_population_by_field_name = True\n",
    "        alias_generator = humps.camelize\n",
    "        extra = \"ignore\"\n",
    "    "
   ]
  },
  {
   "cell_type": "code",
   "execution_count": 32,
   "id": "fbe0ca81-ef00-4aa9-87db-046b5abb0ec1",
   "metadata": {},
   "outputs": [
    {
     "name": "stdout",
     "output_type": "stream",
     "text": [
      "first_name='Isaac' last_name='Newton' dob=1643\n"
     ]
    }
   ],
   "source": [
    "try:\n",
    "   p =  Person(first_name='Isaac', last_name='Newton', dob=1643)\n",
    "except Exception as ex:\n",
    "    print(type(ex), ex)\n",
    "else:\n",
    "    print(p)"
   ]
  },
  {
   "cell_type": "code",
   "execution_count": 33,
   "id": "3e1db425-09e3-45d0-ad16-0f1fa2491e75",
   "metadata": {},
   "outputs": [
    {
     "name": "stdout",
     "output_type": "stream",
     "text": [
      "<class 'pydantic.v1.error_wrappers.ValidationError'> 1 validation error for Person\n",
      "dob\n",
      "  ensure this value is greater than 0 (type=value_error.number.not_gt; limit_value=0)\n"
     ]
    }
   ],
   "source": [
    "try:\n",
    "   p =  Person(first_name='Isaac', last_name='Newton', dob=-10)\n",
    "except Exception as ex:\n",
    "    print(type(ex), ex)\n",
    "else:\n",
    "    print(p)"
   ]
  },
  {
   "cell_type": "markdown",
   "id": "39a94b94-9158-4d9d-8cef-39585ed93e7d",
   "metadata": {},
   "source": [
    "We have several alternatives in Pydantic V2."
   ]
  },
  {
   "cell_type": "markdown",
   "id": "5c21c4a7-f910-4276-a72c-e838aeefd6ce",
   "metadata": {},
   "source": [
    "Let's say we want constrain the `dob` integer to be positive only (and not put an upper bound on it).\n",
    "\n",
    "The simplest is to use the Pydantic built-in type `PositiveInt`:"
   ]
  },
  {
   "cell_type": "code",
   "execution_count": 34,
   "id": "a0e9bad0-d158-4c0f-8e77-fa6516858b7a",
   "metadata": {},
   "outputs": [],
   "source": [
    "from pydantic import PositiveInt\n",
    "\n",
    "class Person(BaseModel):\n",
    "    first_name: str\n",
    "    last_name: str\n",
    "    dob: PositiveInt\n",
    "\n",
    "    model_config = ConfigDict(\n",
    "        populate_by_name=True,\n",
    "        alias_generator=humps.camelize,\n",
    "        extra=\"ignore\"\n",
    "    )"
   ]
  },
  {
   "cell_type": "code",
   "execution_count": 35,
   "id": "f955a25a-8482-4fac-921f-718675cfaa1c",
   "metadata": {},
   "outputs": [
    {
     "name": "stdout",
     "output_type": "stream",
     "text": [
      "first_name='Isaac' last_name='Newton' dob=1643\n"
     ]
    }
   ],
   "source": [
    "try:\n",
    "   p =  Person(first_name='Isaac', last_name='Newton', dob=1643)\n",
    "except Exception as ex:\n",
    "    print(type(ex), ex)\n",
    "else:\n",
    "    print(p)"
   ]
  },
  {
   "cell_type": "code",
   "execution_count": 36,
   "id": "2a021286-f60b-4aa6-b165-983647145c44",
   "metadata": {},
   "outputs": [
    {
     "name": "stdout",
     "output_type": "stream",
     "text": [
      "<class 'pydantic_core._pydantic_core.ValidationError'> 1 validation error for Person\n",
      "dob\n",
      "  Input should be greater than 0 [type=greater_than, input_value=0, input_type=int]\n",
      "    For further information visit https://errors.pydantic.dev/2.4/v/greater_than\n"
     ]
    }
   ],
   "source": [
    "try:\n",
    "   p =  Person(first_name='Isaac', last_name='Newton', dob=0)\n",
    "except Exception as ex:\n",
    "    print(type(ex), ex)\n",
    "else:\n",
    "    print(p)"
   ]
  },
  {
   "cell_type": "markdown",
   "id": "bfcd51c3-3706-4437-949a-357ee00edfc5",
   "metadata": {},
   "source": [
    "If we really want to constrain the integer with lower **and** upper bounds, we could technicallty still use `conint`. However this has been deprecated and will be removed from Pydantic at some point (v3 according to the docs), reason being that this approach does not work well with static type checkers (as you may already know if you ever tried running a static type checker on Pydantic V1 models)."
   ]
  },
  {
   "cell_type": "markdown",
   "id": "f770fb5a-7dd7-4ce4-9220-71ce2e5e1ba5",
   "metadata": {},
   "source": [
    "Instead, we should use an `Annotated` type, from Python's standard typing system, and customize it using Pydantic's `Field` object:"
   ]
  },
  {
   "cell_type": "code",
   "execution_count": 37,
   "id": "4f49366b-6343-42a0-9fc3-54dfe3275254",
   "metadata": {},
   "outputs": [],
   "source": [
    "from typing import Annotated"
   ]
  },
  {
   "cell_type": "code",
   "execution_count": 38,
   "id": "42505f98-ef77-4963-9862-7a1be635a5f3",
   "metadata": {},
   "outputs": [],
   "source": [
    "class Person(BaseModel):\n",
    "    first_name: str\n",
    "    last_name: str\n",
    "    dob: Annotated[int, Field(gt=0, le=3000)]\n",
    "\n",
    "    model_config = ConfigDict(\n",
    "        populate_by_name=True,\n",
    "        alias_generator=humps.camelize,\n",
    "        extra=\"ignore\"\n",
    "    )"
   ]
  },
  {
   "cell_type": "code",
   "execution_count": 39,
   "id": "f2359482-6c10-4f7c-bac3-ef1813aef600",
   "metadata": {},
   "outputs": [
    {
     "name": "stdout",
     "output_type": "stream",
     "text": [
      "first_name='Isaac' last_name='Newton' dob=1643\n"
     ]
    }
   ],
   "source": [
    "try:\n",
    "   p =  Person(first_name='Isaac', last_name='Newton', dob=1643)\n",
    "except Exception as ex:\n",
    "    print(type(ex), ex)\n",
    "else:\n",
    "    print(p)"
   ]
  },
  {
   "cell_type": "code",
   "execution_count": 40,
   "id": "4bf82740-81bc-46da-b44e-c5c95643b52b",
   "metadata": {},
   "outputs": [
    {
     "name": "stdout",
     "output_type": "stream",
     "text": [
      "<class 'pydantic_core._pydantic_core.ValidationError'> 1 validation error for Person\n",
      "dob\n",
      "  Input should be greater than 0 [type=greater_than, input_value=0, input_type=int]\n",
      "    For further information visit https://errors.pydantic.dev/2.4/v/greater_than\n"
     ]
    }
   ],
   "source": [
    "try:\n",
    "   p =  Person(first_name='Isaac', last_name='Newton', dob=0)\n",
    "except Exception as ex:\n",
    "    print(type(ex), ex)\n",
    "else:\n",
    "    print(p)"
   ]
  },
  {
   "cell_type": "code",
   "execution_count": 41,
   "id": "6e90a6eb-d69d-4f56-a880-c3a9e8e4f501",
   "metadata": {},
   "outputs": [
    {
     "name": "stdout",
     "output_type": "stream",
     "text": [
      "<class 'pydantic_core._pydantic_core.ValidationError'> 1 validation error for Person\n",
      "dob\n",
      "  Input should be less than or equal to 3000 [type=less_than_equal, input_value=4000, input_type=int]\n",
      "    For further information visit https://errors.pydantic.dev/2.4/v/less_than_equal\n"
     ]
    }
   ],
   "source": [
    "try:\n",
    "   p =  Person(first_name='Isaac', last_name='Newton', dob=4000)\n",
    "except Exception as ex:\n",
    "    print(type(ex), ex)\n",
    "else:\n",
    "    print(p)"
   ]
  },
  {
   "cell_type": "markdown",
   "id": "2a86f3a1-f99e-49df-a8ff-f7c178258a0e",
   "metadata": {},
   "source": [
    "There are however plenty of built-in Pydantic types, which will probably cover most of your needs - however the `Annotated` option is available when you need it."
   ]
  },
  {
   "cell_type": "markdown",
   "id": "3d78db83-c767-4139-9268-fec0895ea21d",
   "metadata": {},
   "source": [
    "You can find a full list of Pydantic types here:\n",
    "\n",
    "[https://docs.pydantic.dev/latest/api/types/](https://docs.pydantic.dev/latest/api/types/)"
   ]
  },
  {
   "cell_type": "markdown",
   "id": "c401544c-7c14-404d-9258-83fd2e27e6fb",
   "metadata": {},
   "source": [
    "`conlist` for constrained lists is still valid for V2:"
   ]
  },
  {
   "cell_type": "code",
   "execution_count": 42,
   "id": "3b5b96cf-70fc-4a1b-a95f-a59f2e37db55",
   "metadata": {},
   "outputs": [],
   "source": [
    "from pydantic import conlist\n",
    "\n",
    "class Test(BaseModel):\n",
    "    items: conlist(item_type=int, min_length=1, max_length=5)"
   ]
  },
  {
   "cell_type": "code",
   "execution_count": 43,
   "id": "cc8cec64-915c-4be2-bbef-697602c63251",
   "metadata": {},
   "outputs": [
    {
     "name": "stdout",
     "output_type": "stream",
     "text": [
      "items=[1, 2]\n"
     ]
    }
   ],
   "source": [
    "try:\n",
    "    p = Test(items=[1, 2])\n",
    "except Exception as ex:\n",
    "    print(type(ex), ex)\n",
    "else:\n",
    "    print(p)"
   ]
  },
  {
   "cell_type": "code",
   "execution_count": 44,
   "id": "4ef5757e-8d9d-4116-8f42-700a4e1caca2",
   "metadata": {},
   "outputs": [
    {
     "name": "stdout",
     "output_type": "stream",
     "text": [
      "<class 'pydantic_core._pydantic_core.ValidationError'> 1 validation error for Test\n",
      "items\n",
      "  List should have at least 1 item after validation, not 0 [type=too_short, input_value=[], input_type=list]\n",
      "    For further information visit https://errors.pydantic.dev/2.4/v/too_short\n"
     ]
    }
   ],
   "source": [
    "try:\n",
    "    p = Test(items=[])\n",
    "except Exception as ex:\n",
    "    print(type(ex), ex)\n",
    "else:\n",
    "    print(p)"
   ]
  },
  {
   "cell_type": "code",
   "execution_count": 45,
   "id": "cb5bd8b9-ce10-4b9f-8cac-e842fee49a87",
   "metadata": {},
   "outputs": [
    {
     "name": "stdout",
     "output_type": "stream",
     "text": [
      "<class 'pydantic_core._pydantic_core.ValidationError'> 1 validation error for Test\n",
      "items.0\n",
      "  Input should be a valid integer, unable to parse string as an integer [type=int_parsing, input_value='a', input_type=str]\n",
      "    For further information visit https://errors.pydantic.dev/2.4/v/int_parsing\n"
     ]
    }
   ],
   "source": [
    "try:\n",
    "    p = Test(items=['a'])\n",
    "except Exception as ex:\n",
    "    print(type(ex), ex)\n",
    "else:\n",
    "    print(p)"
   ]
  },
  {
   "cell_type": "markdown",
   "id": "661e16a8-399e-4f56-82f5-6bf4a7e06d4a",
   "metadata": {},
   "source": [
    "However, you could also use an `Annotated` type if you prefer:"
   ]
  },
  {
   "cell_type": "code",
   "execution_count": 46,
   "id": "82343c79-e040-4411-b8e5-588d2e791473",
   "metadata": {},
   "outputs": [],
   "source": [
    "class Test(BaseModel):\n",
    "    items: Annotated[list[int], Field(min_length=1, max_length=5)]"
   ]
  },
  {
   "cell_type": "code",
   "execution_count": 47,
   "id": "afb03fa4-5258-42d2-9aaa-3b8a091b69b1",
   "metadata": {},
   "outputs": [
    {
     "name": "stdout",
     "output_type": "stream",
     "text": [
      "items=[1, 2]\n"
     ]
    }
   ],
   "source": [
    "try:\n",
    "    p = Test(items=[1, 2])\n",
    "except Exception as ex:\n",
    "    print(type(ex), ex)\n",
    "else:\n",
    "    print(p)"
   ]
  },
  {
   "cell_type": "code",
   "execution_count": 48,
   "id": "136788b2-d532-4033-86d1-8aeaebdf8b60",
   "metadata": {},
   "outputs": [
    {
     "name": "stdout",
     "output_type": "stream",
     "text": [
      "<class 'pydantic_core._pydantic_core.ValidationError'> 1 validation error for Test\n",
      "items\n",
      "  List should have at least 1 item after validation, not 0 [type=too_short, input_value=[], input_type=list]\n",
      "    For further information visit https://errors.pydantic.dev/2.4/v/too_short\n"
     ]
    }
   ],
   "source": [
    "try:\n",
    "    p = Test(items=[])\n",
    "except Exception as ex:\n",
    "    print(type(ex), ex)\n",
    "else:\n",
    "    print(p)"
   ]
  },
  {
   "cell_type": "code",
   "execution_count": 49,
   "id": "17612ec4-9e30-46b2-a99b-881c6d33422a",
   "metadata": {},
   "outputs": [
    {
     "name": "stdout",
     "output_type": "stream",
     "text": [
      "<class 'pydantic_core._pydantic_core.ValidationError'> 1 validation error for Test\n",
      "items.0\n",
      "  Input should be a valid integer, unable to parse string as an integer [type=int_parsing, input_value='a', input_type=str]\n",
      "    For further information visit https://errors.pydantic.dev/2.4/v/int_parsing\n"
     ]
    }
   ],
   "source": [
    "try:\n",
    "    p = Test(items=['a'])\n",
    "except Exception as ex:\n",
    "    print(type(ex), ex)\n",
    "else:\n",
    "    print(p)"
   ]
  },
  {
   "cell_type": "markdown",
   "id": "03b08b5e-6a7c-46e5-8719-ce2919674762",
   "metadata": {},
   "source": [
    "#### Custom Validators"
   ]
  },
  {
   "cell_type": "markdown",
   "id": "ddd7ac63-a9e5-43b2-88f9-30ffe537b669",
   "metadata": {},
   "source": [
    "If Python's type hinting and Pydantic's custom types are not sufficient for your validation, then we can make use of custom validators."
   ]
  },
  {
   "cell_type": "markdown",
   "id": "919ae229-7f2d-448e-9fde-217da9446576",
   "metadata": {},
   "source": [
    "For example, suppose we want a validator that checks that some string field always starts with a hash (`#`)."
   ]
  },
  {
   "cell_type": "markdown",
   "id": "3b824c4a-4bbf-4de2-8ed4-d500a5e5d0dd",
   "metadata": {},
   "source": [
    "In Pydantic V1, we could have done it this way:"
   ]
  },
  {
   "cell_type": "code",
   "execution_count": 50,
   "id": "f4d1e85e-a2d8-4245-b73d-7574781e1ef0",
   "metadata": {},
   "outputs": [],
   "source": [
    "from pydantic.v1 import validator"
   ]
  },
  {
   "cell_type": "code",
   "execution_count": 51,
   "id": "e8aee1fa-c478-4369-9da7-295df9112f05",
   "metadata": {},
   "outputs": [],
   "source": [
    "class Test(BaseModelV1):\n",
    "    hash_tag: str\n",
    "\n",
    "    @validator(\"hash_tag\")\n",
    "    def validate_name(cls, value):\n",
    "        if not value.startswith('#'):\n",
    "            raise ValueError(\"Hash tag must start with a #\")\n",
    "        return value"
   ]
  },
  {
   "cell_type": "code",
   "execution_count": 52,
   "id": "4c4d9d2b-0a3c-4d7f-8e94-bdabf2803b87",
   "metadata": {},
   "outputs": [
    {
     "data": {
      "text/plain": [
       "Test(hash_tag='#python')"
      ]
     },
     "execution_count": 52,
     "metadata": {},
     "output_type": "execute_result"
    }
   ],
   "source": [
    "Test(hash_tag=\"#python\")"
   ]
  },
  {
   "cell_type": "code",
   "execution_count": 53,
   "id": "e6315de8-2313-4132-88eb-be71d0443afd",
   "metadata": {},
   "outputs": [
    {
     "name": "stdout",
     "output_type": "stream",
     "text": [
      "<class 'pydantic.v1.error_wrappers.ValidationError'> 1 validation error for Test\n",
      "hash_tag\n",
      "  Hash tag must start with a # (type=value_error)\n"
     ]
    }
   ],
   "source": [
    "try:\n",
    "    Test(hash_tag=\"python\")\n",
    "except Exception as ex:\n",
    "    print(type(ex), ex)"
   ]
  },
  {
   "cell_type": "markdown",
   "id": "ac8031fe-4085-4ce4-ac1f-76d5111e9fe0",
   "metadata": {},
   "source": [
    "In Pydantic V2, the `@validator` decorator has been deprecated, and instead you should use the new `@field_validator` decorator:"
   ]
  },
  {
   "cell_type": "code",
   "execution_count": 54,
   "id": "c5ceaf33-30c2-4d4c-bee4-a1e1e007756f",
   "metadata": {},
   "outputs": [],
   "source": [
    "from pydantic import field_validator\n",
    "\n",
    "class Test(BaseModel):\n",
    "    hash_tag: str\n",
    "\n",
    "    @field_validator(\"hash_tag\")\n",
    "    def validate_name(cls, value):\n",
    "        if not value.startswith('#'):\n",
    "            raise ValueError(\"Hash tag must start with a #\")\n",
    "        return value"
   ]
  },
  {
   "cell_type": "code",
   "execution_count": 55,
   "id": "c1954a73-d28e-4b42-83aa-b05ce76664f2",
   "metadata": {},
   "outputs": [
    {
     "data": {
      "text/plain": [
       "Test(hash_tag='#python')"
      ]
     },
     "execution_count": 55,
     "metadata": {},
     "output_type": "execute_result"
    }
   ],
   "source": [
    "Test(hash_tag=\"#python\")"
   ]
  },
  {
   "cell_type": "code",
   "execution_count": 56,
   "id": "aea0e156-82d0-4bdf-8aab-ea03962b5043",
   "metadata": {},
   "outputs": [
    {
     "name": "stdout",
     "output_type": "stream",
     "text": [
      "<class 'pydantic_core._pydantic_core.ValidationError'> 1 validation error for Test\n",
      "hash_tag\n",
      "  Value error, Hash tag must start with a # [type=value_error, input_value='python', input_type=str]\n",
      "    For further information visit https://errors.pydantic.dev/2.4/v/value_error\n"
     ]
    }
   ],
   "source": [
    "try:\n",
    "    Test(hash_tag=\"python\")\n",
    "except Exception as ex:\n",
    "    print(type(ex), ex)"
   ]
  },
  {
   "cell_type": "markdown",
   "id": "6c124bfe-49cf-41e2-8b6c-0587779eefec",
   "metadata": {},
   "source": [
    "Note that this validator will, by default, run **after** Pydantic has run its own validation to ensure the field is a string."
   ]
  },
  {
   "cell_type": "markdown",
   "id": "c90b31da-abf3-4df5-bbc6-337145b1e03c",
   "metadata": {},
   "source": [
    "To see this, we could use this example (yes, we could just use Pydantic's built-in functionality to ensure we have a positive integer, but I just want to illustrate the point that our custom validator runs after Pydantic has had first crack at the validation):"
   ]
  },
  {
   "cell_type": "code",
   "execution_count": 57,
   "id": "fc4b8bdd-a2a1-4fe2-a244-ff8efa6b2307",
   "metadata": {},
   "outputs": [],
   "source": [
    "class Circle(BaseModel):\n",
    "    radius: int\n",
    "\n",
    "    @field_validator(\"radius\")\n",
    "    def validate_radius(cls, value):\n",
    "        print(f\"Validating radius: {value=}, {type(value)=}\")\n",
    "        if value <= 0:\n",
    "            raise ValueError(\"radius needs to be a positive integer\")\n",
    "        return value"
   ]
  },
  {
   "cell_type": "code",
   "execution_count": 58,
   "id": "0d0e8674-cf8e-4342-ae30-f9d228d82d9b",
   "metadata": {},
   "outputs": [
    {
     "name": "stdout",
     "output_type": "stream",
     "text": [
      "Validating radius: value=100, type(value)=<class 'int'>\n"
     ]
    },
    {
     "data": {
      "text/plain": [
       "Circle(radius=100)"
      ]
     },
     "execution_count": 58,
     "metadata": {},
     "output_type": "execute_result"
    }
   ],
   "source": [
    "Circle(radius=\"100\")"
   ]
  },
  {
   "cell_type": "markdown",
   "id": "f5578776-09cb-4802-bca2-fb8869e08c3e",
   "metadata": {},
   "source": [
    "As you can see, our validation function received an `int`, not the `str` we supplied when created an instance of our model."
   ]
  },
  {
   "cell_type": "markdown",
   "id": "e685d684-8ea3-4fd8-a185-36052981afaa",
   "metadata": {},
   "source": [
    "Just as in V1, there's a lot more you can do with custom validators in V2, beyond just the new syntax."
   ]
  },
  {
   "cell_type": "markdown",
   "id": "622bc614-4db8-4362-944f-8b978a9f254e",
   "metadata": {},
   "source": [
    "One thing that you'll find in V2, is more reliance on `Annotated` types.\n",
    "\n",
    "This holds true for validators as well."
   ]
  },
  {
   "cell_type": "markdown",
   "id": "1a04ba2c-9189-41c0-ad1a-2eefe58141f5",
   "metadata": {},
   "source": [
    "Although we used the `@field_validator` decorator above, we could also just use an `Annonated` type."
   ]
  },
  {
   "cell_type": "markdown",
   "id": "a8b0a380-d50a-4756-b7f0-3aebe186d75d",
   "metadata": {},
   "source": [
    "Using this approach we can define a validator for a type in general, rather than just a single field in a model - a good way to get reuse out of our validators."
   ]
  },
  {
   "cell_type": "markdown",
   "id": "715e06ae-c64b-4bf0-912e-9531abe6a04c",
   "metadata": {},
   "source": [
    "Pydantic V2 provides a few ways to define **when** the validator runs, with options `BeforeValidator`, `AfterValidator`, `WrapValidator` and `PlainValidator`."
   ]
  },
  {
   "cell_type": "code",
   "execution_count": 59,
   "id": "75771563-6072-413a-8cd1-a2a5aff0f7ee",
   "metadata": {},
   "outputs": [],
   "source": [
    "from pydantic import AfterValidator, BeforeValidator, PlainValidator, WrapValidator"
   ]
  },
  {
   "cell_type": "markdown",
   "id": "d8085586-9b97-480f-ad6b-e406a2fbffbb",
   "metadata": {},
   "source": [
    "The way these validators work are explained in detail [here](https://docs.pydantic.dev/latest/concepts/validators/), but simplistically we have this kind of behavior for each one:"
   ]
  },
  {
   "cell_type": "markdown",
   "id": "74f4a05b-dd85-46f4-bd6a-6f031ea7bb64",
   "metadata": {},
   "source": [
    "- `AfterValidator`: runs after Pydantic's internal parsing and validation (so if your field should be an `int`, then thie after validator(s) will get called once Pydantic has parsed the field value to an `int` - makes writing your validation functions easier, since you can now rely on a precise type for the input value.\n",
    "- `BeforeValidator`: runs before Pydantic's internal parsing and validation. For example if your field shoudl be of type `int` but a string was passed, your validator function will run before Pydantic has a chance to try to coerce that string into an `int`.\n",
    "- `PlainValidator`: this works similarly to `BeforeValidator`, but instead of Pydantic continuing to try to parse the rest of the data (and report back on all the parsing errors found), it stops the validation process immediately.\n",
    "- `WrapValidator`: this is the most versatile (and most complex validator that can run validation code **both** before and after Pydantic's own or your custom validators."
   ]
  },
  {
   "cell_type": "markdown",
   "id": "e941cc53-5bd2-4c9f-8a7c-3d14b229a868",
   "metadata": {},
   "source": [
    "The things with all these validators is you can use multiple of them, and Pydantic will execute each of your validators in a specific order based on whether they are after, before or warp validators. We'll take a look at a simple example of this in a bit."
   ]
  },
  {
   "cell_type": "markdown",
   "id": "879e5dff-c438-4bc0-b787-9b8af2985cb8",
   "metadata": {},
   "source": [
    "Let's rework our `Test` model example using this approach - in this case we'll use an `AfterValidator` since we want our hash tag field to definitely be a string before we check that it starts with a `#`."
   ]
  },
  {
   "cell_type": "code",
   "execution_count": 60,
   "id": "9a7b0b88-8222-45a4-83c1-7e595937ba72",
   "metadata": {},
   "outputs": [],
   "source": [
    "def validate_hash_tag(value: str) -> str:\n",
    "    if not value.startswith('#'):\n",
    "        raise ValueError(\"Hash tag must start with a #\")\n",
    "    return value"
   ]
  },
  {
   "cell_type": "code",
   "execution_count": 61,
   "id": "5d223062-ca4d-4635-9f25-c0d29287c612",
   "metadata": {},
   "outputs": [],
   "source": [
    "HashTagType = Annotated[str, AfterValidator(validate_hash_tag)]"
   ]
  },
  {
   "cell_type": "code",
   "execution_count": 62,
   "id": "096f0c51-5022-4603-bd94-cca3ae51f24e",
   "metadata": {},
   "outputs": [],
   "source": [
    "class Test(BaseModel):\n",
    "    hash_tag: HashTagType"
   ]
  },
  {
   "cell_type": "code",
   "execution_count": 63,
   "id": "5d401ac2-d382-4ab5-9364-60854790d1fa",
   "metadata": {},
   "outputs": [
    {
     "data": {
      "text/plain": [
       "Test(hash_tag='#python')"
      ]
     },
     "execution_count": 63,
     "metadata": {},
     "output_type": "execute_result"
    }
   ],
   "source": [
    "Test(hash_tag=\"#python\")"
   ]
  },
  {
   "cell_type": "code",
   "execution_count": 64,
   "id": "511fa819-a884-4642-93cf-cfa21228732b",
   "metadata": {},
   "outputs": [
    {
     "name": "stdout",
     "output_type": "stream",
     "text": [
      "<class 'pydantic_core._pydantic_core.ValidationError'> 1 validation error for Test\n",
      "hash_tag\n",
      "  Value error, Hash tag must start with a # [type=value_error, input_value='python', input_type=str]\n",
      "    For further information visit https://errors.pydantic.dev/2.4/v/value_error\n"
     ]
    }
   ],
   "source": [
    "try:\n",
    "    Test(hash_tag=\"python\")\n",
    "except Exception as ex:\n",
    "    print(type(ex), ex)"
   ]
  },
  {
   "cell_type": "markdown",
   "id": "9ca2aea3-aa8b-4de4-b097-7d9ccbc1669e",
   "metadata": {},
   "source": [
    "Now let's look at the difference between the before and after validators with our `Circle` model."
   ]
  },
  {
   "cell_type": "code",
   "execution_count": 65,
   "id": "fdbb40dd-846c-4891-8fc9-2b0599fba9c4",
   "metadata": {},
   "outputs": [],
   "source": [
    "def validate_radius(value):\n",
    "    print(f\"Validating radius: {value=}, {type(value)=}\")\n",
    "    if value <= 0:\n",
    "        raise ValueError(\"radius needs to be a positive integer\")\n",
    "    return value"
   ]
  },
  {
   "cell_type": "markdown",
   "id": "240ce242-dbab-4f70-8ab7-c52c2196bcba",
   "metadata": {},
   "source": [
    "Let's use the `AfterValidator` first:"
   ]
  },
  {
   "cell_type": "code",
   "execution_count": 66,
   "id": "b0a03367-8808-4a09-9b7a-7f0e010b512c",
   "metadata": {},
   "outputs": [],
   "source": [
    "RadiusType = Annotated[int, AfterValidator(validate_radius)]"
   ]
  },
  {
   "cell_type": "code",
   "execution_count": 67,
   "id": "51495eb5-c380-4fd9-9ac5-c5eb1302caa3",
   "metadata": {},
   "outputs": [],
   "source": [
    "class Circle(BaseModel):\n",
    "    radius: RadiusType"
   ]
  },
  {
   "cell_type": "code",
   "execution_count": 68,
   "id": "53304850-30a7-441b-8858-270df5a6d556",
   "metadata": {},
   "outputs": [
    {
     "name": "stdout",
     "output_type": "stream",
     "text": [
      "Validating radius: value=100, type(value)=<class 'int'>\n"
     ]
    },
    {
     "data": {
      "text/plain": [
       "Circle(radius=100)"
      ]
     },
     "execution_count": 68,
     "metadata": {},
     "output_type": "execute_result"
    }
   ],
   "source": [
    "Circle(radius=\"100\")"
   ]
  },
  {
   "cell_type": "markdown",
   "id": "2f154dd9-d41e-42f8-b1a4-c3e194e74318",
   "metadata": {},
   "source": [
    "As you can see, our validation function received an `int`."
   ]
  },
  {
   "cell_type": "markdown",
   "id": "7c90f2ba-522f-43bf-931c-d9750771e755",
   "metadata": {},
   "source": [
    "Now, let's make if a `BeforeValidator`:"
   ]
  },
  {
   "cell_type": "code",
   "execution_count": 69,
   "id": "ec689f89-cdca-4dd3-b3b7-6cc19973fdea",
   "metadata": {},
   "outputs": [],
   "source": [
    "RadiusType = Annotated[int, BeforeValidator(validate_radius)]\n",
    "\n",
    "class Circle(BaseModel):\n",
    "    radius: RadiusType"
   ]
  },
  {
   "cell_type": "code",
   "execution_count": 70,
   "id": "c9c0d820-0545-40a5-884a-66128591e7ee",
   "metadata": {},
   "outputs": [
    {
     "name": "stdout",
     "output_type": "stream",
     "text": [
      "Validating radius: value=10, type(value)=<class 'int'>\n"
     ]
    },
    {
     "data": {
      "text/plain": [
       "Circle(radius=10)"
      ]
     },
     "execution_count": 70,
     "metadata": {},
     "output_type": "execute_result"
    }
   ],
   "source": [
    "Circle(radius=10)"
   ]
  },
  {
   "cell_type": "code",
   "execution_count": 71,
   "id": "7abaa5e7-f11f-4edd-8c22-e538f2a00662",
   "metadata": {},
   "outputs": [
    {
     "name": "stdout",
     "output_type": "stream",
     "text": [
      "Validating radius: value='100', type(value)=<class 'str'>\n",
      "<class 'TypeError'> '<=' not supported between instances of 'str' and 'int'\n"
     ]
    }
   ],
   "source": [
    "try:\n",
    "    Circle(radius=\"100\")\n",
    "except Exception as ex:\n",
    "    print(type(ex), ex)"
   ]
  },
  {
   "cell_type": "markdown",
   "id": "1c9e1113-ecd0-4d4b-b11c-eca0c34015db",
   "metadata": {},
   "source": [
    "One thing to note that is different with V2, is that a `TypeError` no longer gets \"transformed\" into a `ValidationError` - so watch out for that if you relied on this in the past when using V1."
   ]
  },
  {
   "cell_type": "code",
   "execution_count": 72,
   "id": "befc151a-ceae-4c56-ab34-0afcdd72ac7a",
   "metadata": {},
   "outputs": [],
   "source": [
    "class Circle(BaseModelV1):\n",
    "    radius: int\n",
    "\n",
    "    @validator(\"radius\", pre=True)\n",
    "    def validate_radius(cls, value):\n",
    "        print(f\"Validating radius: {value=}, {type(value)=}\")\n",
    "        if value <= 0:\n",
    "            raise ValueError(\"radius must be a positive integer\")\n",
    "        return value\n",
    "    "
   ]
  },
  {
   "cell_type": "code",
   "execution_count": 73,
   "id": "0c1107a3-f352-4ea1-8b0e-7d71aabb2c3e",
   "metadata": {},
   "outputs": [
    {
     "name": "stdout",
     "output_type": "stream",
     "text": [
      "Validating radius: value='100', type(value)=<class 'str'>\n",
      "<class 'pydantic.v1.error_wrappers.ValidationError'> 1 validation error for Circle\n",
      "radius\n",
      "  '<=' not supported between instances of 'str' and 'int' (type=type_error)\n"
     ]
    }
   ],
   "source": [
    "try:\n",
    "    Circle(radius=\"100\")\n",
    "except Exception as ex:\n",
    "    print(type(ex), ex)"
   ]
  },
  {
   "cell_type": "markdown",
   "id": "63d84289-ef0d-4b65-baed-9113ce04c650",
   "metadata": {},
   "source": [
    "See? V1 turned that `TypeError` into a model `ValidationError` - no longer the case in V2 as we just saw."
   ]
  },
  {
   "cell_type": "markdown",
   "id": "ad7c309a-71c3-4557-9d0c-63a569410276",
   "metadata": {},
   "source": [
    "#### Multi-Field Custom Validators"
   ]
  },
  {
   "cell_type": "markdown",
   "id": "777e5eb4-17b8-4c40-8fe5-f16ff04950ac",
   "metadata": {},
   "source": [
    "In V1, we have the option to define validators that can \"look back\" at previous validated fields to validate the current field."
   ]
  },
  {
   "cell_type": "markdown",
   "id": "2c181ee3-0485-45d6-9c8b-8ffdce14a0bd",
   "metadata": {},
   "source": [
    "In the video I did on this (in this channel), we used this example:"
   ]
  },
  {
   "cell_type": "code",
   "execution_count": 74,
   "id": "07a60ce9-80b0-4c3e-9faa-a03907beed33",
   "metadata": {},
   "outputs": [],
   "source": [
    "from enum import Enum\n",
    "\n",
    "class PolygonType(Enum):\n",
    "    triangle = 3\n",
    "    tetragon = 4\n",
    "    pentagon = 5\n",
    "    hexagon = 6    \n",
    "\n",
    "class Polygon(BaseModelV1):\n",
    "    polygon_type: PolygonType\n",
    "    vertices: list[tuple[int | float, int | float]]\n",
    "        \n",
    "    @validator('vertices')\n",
    "    @classmethod\n",
    "    def validate_vertices(cls, value, values):\n",
    "        # values has access to fields defined \"above\" itself in the class, and only as\n",
    "        # long as that field also passed its validation\n",
    "        print(type(values))\n",
    "        polygon_type = values.get('polygon_type')\n",
    "        if polygon_type:\n",
    "            num_vertices_required = polygon_type.value\n",
    "            if len(value) != num_vertices_required:\n",
    "                raise ValueError(\n",
    "                    f\"For a {polygon_type.name}, exactly {polygon_type.value} \"\n",
    "                    \"vertices are required.\"\n",
    "                )\n",
    "        return value"
   ]
  },
  {
   "cell_type": "markdown",
   "id": "e56cd1f2-a223-4b7c-a2e7-8982384ebd9a",
   "metadata": {},
   "source": [
    "Doing this we now have more advanced validation of the vertices list based on the value of `polygon_type`:"
   ]
  },
  {
   "cell_type": "code",
   "execution_count": 75,
   "id": "afa62ea9-8140-43af-90cf-bc7dca9d069d",
   "metadata": {},
   "outputs": [
    {
     "name": "stdout",
     "output_type": "stream",
     "text": [
      "<class 'dict'>\n"
     ]
    },
    {
     "data": {
      "text/plain": [
       "Polygon(polygon_type=<PolygonType.triangle: 3>, vertices=[(1, 1), (2, 2), (3, 3)])"
      ]
     },
     "execution_count": 75,
     "metadata": {},
     "output_type": "execute_result"
    }
   ],
   "source": [
    "Polygon(polygon_type=PolygonType.triangle, vertices = [(1, 1), (2, 2), (3, 3)])"
   ]
  },
  {
   "cell_type": "code",
   "execution_count": 76,
   "id": "552db889-4406-45e4-bc13-7e65238381dd",
   "metadata": {},
   "outputs": [
    {
     "name": "stdout",
     "output_type": "stream",
     "text": [
      "<class 'dict'>\n",
      "<class 'pydantic.v1.error_wrappers.ValidationError'> 1 validation error for Polygon\n",
      "vertices\n",
      "  For a pentagon, exactly 5 vertices are required. (type=value_error)\n"
     ]
    }
   ],
   "source": [
    "try:\n",
    "    Polygon(polygon_type=PolygonType.pentagon, vertices=[(1, 1), (2, 2), (3, 3)])\n",
    "except Exception as ex:\n",
    "    print(type(ex), ex)"
   ]
  },
  {
   "cell_type": "markdown",
   "id": "99f2e8d8-9804-4b1b-98ba-b9905d22ce35",
   "metadata": {},
   "source": [
    "In V2, we have similar functionality.\n",
    "\n",
    "Let's look at a field validator first."
   ]
  },
  {
   "cell_type": "markdown",
   "id": "8ae6a1a7-8a6a-4456-bfb1-a04455255b61",
   "metadata": {},
   "source": [
    "Note how the third argument in the validator is a dictionary containing the previous validated fields (previous as determined by the order of the fields in the Pydantic model)."
   ]
  },
  {
   "cell_type": "markdown",
   "id": "b2053f85-cbec-4014-949c-2f49189207d0",
   "metadata": {},
   "source": [
    "We saw that for V1, the validator had three arguments: `cls`, `value` and `values`.\n",
    "\n",
    "The same holds for `@field_validator`, but the type of the third argument has changed:\n",
    "- the first argument is the class (remember that these decorator validators are class methods, not instance methods)\n",
    "- the second argument, like in V1 is the value being validated\n",
    "- the third argument is no longer a dict, but an instance of the `ValidationInfo` class"
   ]
  },
  {
   "cell_type": "markdown",
   "id": "88f06009-16bf-401c-a0f5-71c4dcf8202e",
   "metadata": {},
   "source": [
    "Let's start to rewrite our example in V2:"
   ]
  },
  {
   "cell_type": "code",
   "execution_count": 77,
   "id": "7810dc6f-f04d-4221-939a-1a0575c761d5",
   "metadata": {},
   "outputs": [],
   "source": [
    "from pydantic import ValidationInfo\n",
    "\n",
    "class Polygon(BaseModel):\n",
    "    polygon_type: PolygonType\n",
    "    vertices: list[tuple[int | float, int | float]]\n",
    "        \n",
    "    @field_validator('vertices')\n",
    "    @classmethod\n",
    "    def validate_vertices(cls, value, info: ValidationInfo):\n",
    "        print(value)        \n",
    "        print(type(info))\n",
    "        "
   ]
  },
  {
   "cell_type": "code",
   "execution_count": 78,
   "id": "176a6b5b-f27a-4dcd-a28e-e03588716c5f",
   "metadata": {},
   "outputs": [
    {
     "name": "stdout",
     "output_type": "stream",
     "text": [
      "[(1, 1), (2, 2), (3, 3)]\n",
      "<class 'pydantic_core._pydantic_core.ValidationInfo'>\n"
     ]
    },
    {
     "data": {
      "text/plain": [
       "Polygon(polygon_type=<PolygonType.triangle: 3>, vertices=None)"
      ]
     },
     "execution_count": 78,
     "metadata": {},
     "output_type": "execute_result"
    }
   ],
   "source": [
    "Polygon(polygon_type=PolygonType.triangle, vertices = [(1, 1), (2, 2), (3, 3)])"
   ]
  },
  {
   "cell_type": "markdown",
   "id": "f3335ffb-257a-4274-bb91-47a66c4f6da4",
   "metadata": {},
   "source": [
    "The docs for the `ValidationInfo` class is located [here](https://docs.pydantic.dev/latest/api/pydantic_core_schema/#pydantic_core.core_schema.ValidationInfo)"
   ]
  },
  {
   "cell_type": "markdown",
   "id": "43db7ddd-e5e5-4ab7-aa38-238450898cf8",
   "metadata": {},
   "source": [
    "In particular we are interested in the `.data` attribute of that object - that will be similar to the `values` dictionary we had in V1:"
   ]
  },
  {
   "cell_type": "code",
   "execution_count": 79,
   "id": "f7f262c5-1e7d-4a19-aff8-2fe52bb2198e",
   "metadata": {},
   "outputs": [],
   "source": [
    "from pydantic import ValidationInfo\n",
    "\n",
    "class Polygon(BaseModel):\n",
    "    polygon_type: PolygonType\n",
    "    vertices: list[tuple[int | float, int | float]]\n",
    "        \n",
    "    @field_validator('vertices')\n",
    "    @classmethod\n",
    "    def validate_vertices(cls, value, info: ValidationInfo):\n",
    "        print(f\"{info.data=}\")\n",
    "        "
   ]
  },
  {
   "cell_type": "code",
   "execution_count": 80,
   "id": "430ed5f1-ed0e-4b9f-8308-c07874f6e4a4",
   "metadata": {},
   "outputs": [
    {
     "name": "stdout",
     "output_type": "stream",
     "text": [
      "info.data={'polygon_type': <PolygonType.triangle: 3>}\n"
     ]
    },
    {
     "data": {
      "text/plain": [
       "Polygon(polygon_type=<PolygonType.triangle: 3>, vertices=None)"
      ]
     },
     "execution_count": 80,
     "metadata": {},
     "output_type": "execute_result"
    }
   ],
   "source": [
    "Polygon(polygon_type=PolygonType.triangle, vertices = [(1, 1), (2, 2), (3, 3)])"
   ]
  },
  {
   "cell_type": "markdown",
   "id": "e134283c-ee24-457f-956c-f03a21bd5d5a",
   "metadata": {},
   "source": [
    "Given this, we can now rewrite our field validator this way:"
   ]
  },
  {
   "cell_type": "code",
   "execution_count": 81,
   "id": "1c7ee0e0-d00b-4bd3-966a-730e331223b0",
   "metadata": {},
   "outputs": [],
   "source": [
    "class Polygon(BaseModel):\n",
    "    polygon_type: PolygonType\n",
    "    vertices: list[tuple[int | float, int | float]]\n",
    "        \n",
    "    @field_validator('vertices')\n",
    "    @classmethod\n",
    "    def validate_vertices(cls, value, info:ValidationInfo):\n",
    "        values = info.data\n",
    "        polygon_type = values.get('polygon_type')\n",
    "        if polygon_type:\n",
    "            num_vertices_required = polygon_type.value\n",
    "            if len(value) != num_vertices_required:\n",
    "                raise ValueError(\n",
    "                    f\"For a {polygon_type.name}, exactly {polygon_type.value} \"\n",
    "                    \"vertices are required.\"\n",
    "                )\n",
    "        return value"
   ]
  },
  {
   "cell_type": "markdown",
   "id": "eadf7c1a-d22e-4b00-9420-8a053a6b2c90",
   "metadata": {},
   "source": [
    "And we get the same functionality as before:"
   ]
  },
  {
   "cell_type": "code",
   "execution_count": 82,
   "id": "dcd0a499-9d8d-4415-a536-ca4379b67fd8",
   "metadata": {},
   "outputs": [
    {
     "data": {
      "text/plain": [
       "Polygon(polygon_type=<PolygonType.triangle: 3>, vertices=[(1, 1), (2, 2), (3, 3)])"
      ]
     },
     "execution_count": 82,
     "metadata": {},
     "output_type": "execute_result"
    }
   ],
   "source": [
    "Polygon(polygon_type=PolygonType.triangle, vertices = [(1, 1), (2, 2), (3, 3)])"
   ]
  },
  {
   "cell_type": "code",
   "execution_count": 83,
   "id": "6d1c1252-a36a-4199-8739-53f3a25ad229",
   "metadata": {},
   "outputs": [
    {
     "name": "stdout",
     "output_type": "stream",
     "text": [
      "<class 'pydantic_core._pydantic_core.ValidationError'> 1 validation error for Polygon\n",
      "vertices\n",
      "  Value error, For a pentagon, exactly 5 vertices are required. [type=value_error, input_value=[(1, 1), (2, 2), (3, 3)], input_type=list]\n",
      "    For further information visit https://errors.pydantic.dev/2.4/v/value_error\n"
     ]
    }
   ],
   "source": [
    "try:\n",
    "    Polygon(polygon_type=PolygonType.pentagon, vertices=[(1, 1), (2, 2), (3, 3)])\n",
    "except Exception as ex:\n",
    "    print(type(ex), ex)"
   ]
  },
  {
   "cell_type": "markdown",
   "id": "428c5c91-81b3-4177-97e3-1cf75fe7d844",
   "metadata": {},
   "source": [
    "#### Generating a Model's JSON Schema"
   ]
  },
  {
   "cell_type": "markdown",
   "id": "6cc94706-39dc-4392-ad5c-7933f8a59965",
   "metadata": {},
   "source": [
    "In V1 we could produce the JSON schema for any model:"
   ]
  },
  {
   "cell_type": "code",
   "execution_count": 84,
   "id": "779d5ce5-3bf6-4890-b4b3-8b92e9f6c6c6",
   "metadata": {},
   "outputs": [],
   "source": [
    "class Parent(BaseModelV1):\n",
    "    field_1: str\n",
    "    field_2: int\n",
    "\n",
    "class SubClass(Parent):\n",
    "    field_3: float"
   ]
  },
  {
   "cell_type": "code",
   "execution_count": 85,
   "id": "28fca1e3-69be-460a-8d78-c1ffa53f130e",
   "metadata": {},
   "outputs": [
    {
     "name": "stdout",
     "output_type": "stream",
     "text": [
      "{\n",
      "  \"title\": \"SubClass\",\n",
      "  \"type\": \"object\",\n",
      "  \"properties\": {\n",
      "    \"field_1\": {\n",
      "      \"title\": \"Field 1\",\n",
      "      \"type\": \"string\"\n",
      "    },\n",
      "    \"field_2\": {\n",
      "      \"title\": \"Field 2\",\n",
      "      \"type\": \"integer\"\n",
      "    },\n",
      "    \"field_3\": {\n",
      "      \"title\": \"Field 3\",\n",
      "      \"type\": \"number\"\n",
      "    }\n",
      "  },\n",
      "  \"required\": [\n",
      "    \"field_1\",\n",
      "    \"field_2\",\n",
      "    \"field_3\"\n",
      "  ]\n",
      "}\n"
     ]
    }
   ],
   "source": [
    "print(SubClass.schema_json(indent=2))"
   ]
  },
  {
   "cell_type": "markdown",
   "id": "9cb20ad2-efe4-4038-992f-530602d8b1db",
   "metadata": {},
   "source": [
    "We can also generate a JSON schema in V2, but the way to do it is slightly different. The `schema_json()` method has been deprecated (still works, but will go away), and we should use the `model_schema_json()` method.\n",
    "\n",
    "However, unlike `schema_json()` which returns a string, the `model_schema_json()` method returns a dictionary object (makes it easier to inspect and manipulate the schema object in code, without requiring us to deserialize the JSON string back to a dictionary). \n",
    "\n",
    "This does mean that if we want the dictionary as a string, we need to serialize it to a string ourselves.\n"
   ]
  },
  {
   "cell_type": "code",
   "execution_count": 86,
   "id": "22f7e0b6-b6d8-4671-b954-bf515ff6c6a9",
   "metadata": {},
   "outputs": [],
   "source": [
    "class Parent(BaseModel):\n",
    "    field_1: str\n",
    "    field_2: int\n",
    "\n",
    "class SubClass(Parent):\n",
    "    field_3: float "
   ]
  },
  {
   "cell_type": "code",
   "execution_count": 87,
   "id": "0acf274c-81b5-43d8-9050-14fb9fb03b93",
   "metadata": {},
   "outputs": [],
   "source": [
    "schema = SubClass.model_json_schema()"
   ]
  },
  {
   "cell_type": "code",
   "execution_count": 88,
   "id": "39a644f4-03d5-4f95-9e9e-ef8edccf74df",
   "metadata": {},
   "outputs": [
    {
     "name": "stdout",
     "output_type": "stream",
     "text": [
      "<class 'dict'>\n"
     ]
    }
   ],
   "source": [
    "print(type(schema))"
   ]
  },
  {
   "cell_type": "code",
   "execution_count": 89,
   "id": "84a6d8e2-1650-46b6-9e73-25c736f3c3a9",
   "metadata": {},
   "outputs": [
    {
     "name": "stdout",
     "output_type": "stream",
     "text": [
      "{'properties': {'field_1': {'title': 'Field 1', 'type': 'string'}, 'field_2': {'title': 'Field 2', 'type': 'integer'}, 'field_3': {'title': 'Field 3', 'type': 'number'}}, 'required': ['field_1', 'field_2', 'field_3'], 'title': 'SubClass', 'type': 'object'}\n"
     ]
    }
   ],
   "source": [
    "print(schema)"
   ]
  },
  {
   "cell_type": "markdown",
   "id": "ea427b03-02cc-4a0d-968d-d8a4a3ddb838",
   "metadata": {},
   "source": [
    "And if we want it as a string:"
   ]
  },
  {
   "cell_type": "code",
   "execution_count": 90,
   "id": "02fd85e6-ba7f-4c9b-b7aa-d64af4fe4e49",
   "metadata": {
    "scrolled": true
   },
   "outputs": [
    {
     "name": "stdout",
     "output_type": "stream",
     "text": [
      "{\n",
      "  \"properties\": {\n",
      "    \"field_1\": {\n",
      "      \"title\": \"Field 1\",\n",
      "      \"type\": \"string\"\n",
      "    },\n",
      "    \"field_2\": {\n",
      "      \"title\": \"Field 2\",\n",
      "      \"type\": \"integer\"\n",
      "    },\n",
      "    \"field_3\": {\n",
      "      \"title\": \"Field 3\",\n",
      "      \"type\": \"number\"\n",
      "    }\n",
      "  },\n",
      "  \"required\": [\n",
      "    \"field_1\",\n",
      "    \"field_2\",\n",
      "    \"field_3\"\n",
      "  ],\n",
      "  \"title\": \"SubClass\",\n",
      "  \"type\": \"object\"\n",
      "}\n"
     ]
    }
   ],
   "source": [
    "print(json.dumps(schema, indent=2))"
   ]
  },
  {
   "cell_type": "markdown",
   "id": "211d0e5e-0eaf-42d6-847c-f4f372f9e818",
   "metadata": {},
   "source": [
    "#### Conclusion"
   ]
  },
  {
   "cell_type": "markdown",
   "id": "fb71c59e-d75c-4657-a3ed-776c8031a372",
   "metadata": {},
   "source": [
    "And that covers what are probably the most common usages of Pydantic, and how to transition from V1 to V2."
   ]
  },
  {
   "cell_type": "markdown",
   "id": "13eb0e80-c2f5-472c-8dd1-ef12db5bbb28",
   "metadata": {},
   "source": [
    "In the future, I will create another Pydantic video, like the V1 video I have in this channel, but specific to V2."
   ]
  }
 ],
 "metadata": {
  "kernelspec": {
   "display_name": "Python 3 (ipykernel)",
   "language": "python",
   "name": "python3"
  },
  "language_info": {
   "codemirror_mode": {
    "name": "ipython",
    "version": 3
   },
   "file_extension": ".py",
   "mimetype": "text/x-python",
   "name": "python",
   "nbconvert_exporter": "python",
   "pygments_lexer": "ipython3",
   "version": "3.11.1"
  }
 },
 "nbformat": 4,
 "nbformat_minor": 5
}
