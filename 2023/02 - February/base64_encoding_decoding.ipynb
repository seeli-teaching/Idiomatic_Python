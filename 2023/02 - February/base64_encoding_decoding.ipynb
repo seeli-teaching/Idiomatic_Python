{
 "cells": [
  {
   "cell_type": "markdown",
   "id": "afcd47dd",
   "metadata": {},
   "source": [
    "### Base64 Encoding and Decoding"
   ]
  },
  {
   "cell_type": "markdown",
   "id": "aa2c18fd",
   "metadata": {},
   "source": [
    "There are many situations where we have to deal with base64-encoded data.\n",
    "\n",
    "Using Python, this is pretty straightforward.\n",
    "\n",
    "The only thing is that the base 64 encoding functions Python provides us, work on bytes (or byte arrays), not strings directly."
   ]
  },
  {
   "cell_type": "markdown",
   "id": "52f5bfe4",
   "metadata": {},
   "source": [
    "The first thing we'll likely need is to encode strings to bytes and decode bytes to strings."
   ]
  },
  {
   "cell_type": "markdown",
   "id": "b8c2c605",
   "metadata": {},
   "source": [
    "In Python, strings are basically sequences of Unicode code points, and the string class provides an `encode` method that can be used."
   ]
  },
  {
   "cell_type": "code",
   "execution_count": 1,
   "id": "b1ecd1bd",
   "metadata": {},
   "outputs": [],
   "source": [
    "s = \"ye old cheese shoppe\""
   ]
  },
  {
   "cell_type": "code",
   "execution_count": 2,
   "id": "11250f9a",
   "metadata": {},
   "outputs": [
    {
     "data": {
      "text/plain": [
       "b'ye old cheese shoppe'"
      ]
     },
     "execution_count": 2,
     "metadata": {},
     "output_type": "execute_result"
    }
   ],
   "source": [
    "s.encode(\"ascii\")"
   ]
  },
  {
   "cell_type": "code",
   "execution_count": 3,
   "id": "c606dc60",
   "metadata": {},
   "outputs": [
    {
     "data": {
      "text/plain": [
       "b'ye old cheese shoppe'"
      ]
     },
     "execution_count": 3,
     "metadata": {},
     "output_type": "execute_result"
    }
   ],
   "source": [
    "s.encode(\"utf-8\")"
   ]
  },
  {
   "cell_type": "markdown",
   "id": "7f24b46d",
   "metadata": {},
   "source": [
    "As you can see from the output, the `encode` function returns a byte array - we can also see it this way:"
   ]
  },
  {
   "cell_type": "code",
   "execution_count": 4,
   "id": "ff107e5b",
   "metadata": {},
   "outputs": [
    {
     "data": {
      "text/plain": [
       "bytes"
      ]
     },
     "execution_count": 4,
     "metadata": {},
     "output_type": "execute_result"
    }
   ],
   "source": [
    "type(s.encode(\"utf-8\"))"
   ]
  },
  {
   "cell_type": "markdown",
   "id": "0bcb5a01",
   "metadata": {},
   "source": [
    "Those encoded strings look the same, because the character in `s` were all ASCII characters, but you may not always be dealing with just ASCII characters, so adjust your encoding accordingly (might even be other codecs such as UTF-16, etc)"
   ]
  },
  {
   "cell_type": "markdown",
   "id": "75c2d43f",
   "metadata": {},
   "source": [
    "Let's throw some non-ascii characters and encode things again:"
   ]
  },
  {
   "cell_type": "code",
   "execution_count": 5,
   "id": "83ca0dc0",
   "metadata": {},
   "outputs": [],
   "source": [
    "s = \"Python rocks! 😀\""
   ]
  },
  {
   "cell_type": "code",
   "execution_count": 6,
   "id": "81384cb0",
   "metadata": {},
   "outputs": [
    {
     "data": {
      "text/plain": [
       "b'Python rocks! \\xf0\\x9f\\x98\\x80'"
      ]
     },
     "execution_count": 6,
     "metadata": {},
     "output_type": "execute_result"
    }
   ],
   "source": [
    "s.encode(\"utf-8\")"
   ]
  },
  {
   "cell_type": "markdown",
   "id": "3c82ce7b",
   "metadata": {},
   "source": [
    "But an `ascii` encoding will not work:"
   ]
  },
  {
   "cell_type": "code",
   "execution_count": 7,
   "id": "c6277093",
   "metadata": {},
   "outputs": [
    {
     "name": "stdout",
     "output_type": "stream",
     "text": [
      "'ascii' codec can't encode character '\\U0001f600' in position 14: ordinal not in range(128)\n"
     ]
    }
   ],
   "source": [
    "try:\n",
    "    s.encode(\"ascii\")\n",
    "except UnicodeError as ex:\n",
    "    print(ex)"
   ]
  },
  {
   "cell_type": "markdown",
   "id": "a8de1e75",
   "metadata": {},
   "source": [
    "When we have a byte array, we can convert it back to a string, by using the `decode` methods that the `bytes` class implements:"
   ]
  },
  {
   "cell_type": "code",
   "execution_count": 8,
   "id": "7ff711d7",
   "metadata": {},
   "outputs": [],
   "source": [
    "encoded = s.encode(\"utf-8\")"
   ]
  },
  {
   "cell_type": "code",
   "execution_count": 9,
   "id": "c6b17def",
   "metadata": {},
   "outputs": [
    {
     "data": {
      "text/plain": [
       "'Python rocks! 😀'"
      ]
     },
     "execution_count": 9,
     "metadata": {},
     "output_type": "execute_result"
    }
   ],
   "source": [
    "encoded.decode(\"utf_8\")"
   ]
  },
  {
   "cell_type": "markdown",
   "id": "5457e3a9",
   "metadata": {},
   "source": [
    "The next step to base64 encode a string, is to use the `b64encode` function in the `base64` module."
   ]
  },
  {
   "cell_type": "code",
   "execution_count": 10,
   "id": "128f46f8",
   "metadata": {},
   "outputs": [],
   "source": [
    "import base64"
   ]
  },
  {
   "cell_type": "code",
   "execution_count": 11,
   "id": "cca398af",
   "metadata": {},
   "outputs": [
    {
     "data": {
      "text/plain": [
       "'Python rocks! 😀'"
      ]
     },
     "execution_count": 11,
     "metadata": {},
     "output_type": "execute_result"
    }
   ],
   "source": [
    "s"
   ]
  },
  {
   "cell_type": "markdown",
   "id": "a978f97e",
   "metadata": {},
   "source": [
    "We have to convert our string to a byte string first, and then base64 encode it."
   ]
  },
  {
   "cell_type": "code",
   "execution_count": 12,
   "id": "23b2e526",
   "metadata": {},
   "outputs": [
    {
     "data": {
      "text/plain": [
       "b'UHl0aG9uIHJvY2tzISDwn5iA'"
      ]
     },
     "execution_count": 12,
     "metadata": {},
     "output_type": "execute_result"
    }
   ],
   "source": [
    "encoded = s.encode(\"utf-8\")\n",
    "base64_encoded = base64.b64encode(encoded)\n",
    "base64_encoded"
   ]
  },
  {
   "cell_type": "markdown",
   "id": "6785a4c0",
   "metadata": {},
   "source": [
    "As you can see, we get a byte string back, which we can convert to a string if needed:"
   ]
  },
  {
   "cell_type": "code",
   "execution_count": 13,
   "id": "b2bb3fb7",
   "metadata": {},
   "outputs": [
    {
     "data": {
      "text/plain": [
       "'UHl0aG9uIHJvY2tzISDwn5iA'"
      ]
     },
     "execution_count": 13,
     "metadata": {},
     "output_type": "execute_result"
    }
   ],
   "source": [
    "base64_encoded.decode(\"utf-8\")"
   ]
  },
  {
   "cell_type": "markdown",
   "id": "d53d393d",
   "metadata": {},
   "source": [
    "To decode a base64 encoded string, we just need to reverse the process:\n",
    "\n",
    "1. encode the string into a byte string\n",
    "2. base64 decode the byte string\n",
    "3. encode that result back into a string (if required)"
   ]
  },
  {
   "cell_type": "code",
   "execution_count": 14,
   "id": "965271ac",
   "metadata": {},
   "outputs": [
    {
     "name": "stdout",
     "output_type": "stream",
     "text": [
      "Python rocks! 😀\n"
     ]
    }
   ],
   "source": [
    "b = 'UHl0aG9uIHJvY2tzISDwn5iA'\n",
    "encoded = b.encode(\"utf-8\")\n",
    "b64 = base64.b64decode(encoded)\n",
    "result = b64.decode(\"utf-8\")\n",
    "print(result)"
   ]
  },
  {
   "cell_type": "markdown",
   "id": "76d32614",
   "metadata": {},
   "source": [
    "There's one thing to know about decoding base64 encoded strings - the encoded string length should technically be a multiple of 4. \n",
    "\n",
    "Let's look at this:"
   ]
  },
  {
   "cell_type": "code",
   "execution_count": 15,
   "id": "fc15ecbd",
   "metadata": {},
   "outputs": [
    {
     "name": "stdout",
     "output_type": "stream",
     "text": [
      "b'UHl0aG9uIHJvY2tzISDwn5iA'\t24\n",
      "b'UHl0aG9uIHJvY2tzISDwn5iA8J+YgA=='\t32\n",
      "b'UHl0aG9uIHJvY2tzISDwn5iA8J+YgPCfmIA='\t36\n",
      "b'UHl0aG9uIHJvY2tzISDwn5iA8J+YgPCfmIDwn5iA'\t40\n"
     ]
    }
   ],
   "source": [
    "enc1 = base64.b64encode('Python rocks! 😀'.encode(\"utf-8\"))\n",
    "enc2 = base64.b64encode('Python rocks! 😀😀'.encode(\"utf-8\"))\n",
    "enc3 = base64.b64encode('Python rocks! 😀😀😀'.encode(\"utf-8\"))\n",
    "enc4 = base64.b64encode('Python rocks! 😀😀😀😀'.encode(\"utf-8\"))\n",
    "\n",
    "print(enc1, len(enc1), sep=\"\\t\")\n",
    "print(enc2, len(enc2), sep=\"\\t\")\n",
    "print(enc3, len(enc3), sep=\"\\t\")\n",
    "print(enc4, len(enc4), sep=\"\\t\")"
   ]
  },
  {
   "cell_type": "markdown",
   "id": "7c747e0c",
   "metadata": {},
   "source": [
    "As you can see, all the encoding lenghts are a multiple of 4, and `=` characters are used to pad the lenght as needed."
   ]
  },
  {
   "cell_type": "markdown",
   "id": "2cdd06b6",
   "metadata": {},
   "source": [
    "Python takes care of that for us atutomatically when base64 encoding strings - however not all systems do that. In fact, we often find API tokens that are base64 encoded, but not padded."
   ]
  },
  {
   "cell_type": "code",
   "execution_count": 16,
   "id": "54e290c1",
   "metadata": {},
   "outputs": [],
   "source": [
    "s = 'UHl0aG9uIHJvY2tzISDwn5iA8J+YgA'"
   ]
  },
  {
   "cell_type": "markdown",
   "id": "aa477e65",
   "metadata": {},
   "source": [
    "If we try to decode this string, we'll get an exception:"
   ]
  },
  {
   "cell_type": "code",
   "execution_count": 17,
   "id": "b5c1f8b5",
   "metadata": {},
   "outputs": [
    {
     "name": "stdout",
     "output_type": "stream",
     "text": [
      "Incorrect padding\n"
     ]
    }
   ],
   "source": [
    "try:\n",
    "    base64.b64decode(s.encode(\"utf-8\"))\n",
    "except Exception as ex:\n",
    "    print(ex)"
   ]
  },
  {
   "cell_type": "markdown",
   "id": "df4bce19",
   "metadata": {},
   "source": [
    "The fix is easy, we simply need to check the length of our byte string and pad it appropriately, using `=` characters."
   ]
  },
  {
   "cell_type": "markdown",
   "id": "3c54c104",
   "metadata": {},
   "source": [
    "Let's try it:"
   ]
  },
  {
   "cell_type": "code",
   "execution_count": 18,
   "id": "ac27fe90",
   "metadata": {},
   "outputs": [
    {
     "data": {
      "text/plain": [
       "'Python rocks! 😀😀'"
      ]
     },
     "execution_count": 18,
     "metadata": {},
     "output_type": "execute_result"
    }
   ],
   "source": [
    "s = 'UHl0aG9uIHJvY2tzISDwn5iA8J+YgA'\n",
    "encoded = s.encode(\"utf-8\")\n",
    "encoded += b\"==\"\n",
    "base64.b64decode(encoded).decode(\"utf-8\")"
   ]
  },
  {
   "cell_type": "markdown",
   "id": "f03e25d2",
   "metadata": {},
   "source": [
    "The interesting thing is that if we add extra `=` characters, Python will just ignore them, and we don't need to have a length of a multiple of 4:"
   ]
  },
  {
   "cell_type": "code",
   "execution_count": 19,
   "id": "f86712d6",
   "metadata": {},
   "outputs": [
    {
     "data": {
      "text/plain": [
       "'Python rocks! 😀😀'"
      ]
     },
     "execution_count": 19,
     "metadata": {},
     "output_type": "execute_result"
    }
   ],
   "source": [
    "s = 'UHl0aG9uIHJvY2tzISDwn5iA8J+YgA'\n",
    "encoded = s.encode(\"utf-8\")\n",
    "encoded += b\"=====\"\n",
    "base64.b64decode(encoded).decode(\"utf-8\")"
   ]
  },
  {
   "cell_type": "markdown",
   "id": "ebc3c987",
   "metadata": {},
   "source": [
    "So if we thing about the length of a string, if it is not a multiple of 4, we would need to pad, at most, 3 `=` characters, and so we can always just add three `=` characters without any issues."
   ]
  },
  {
   "cell_type": "markdown",
   "id": "d8e1b04e",
   "metadata": {},
   "source": [
    "So given all this, let's go ahead and write some functions to base64 encode and decode strings:"
   ]
  },
  {
   "cell_type": "code",
   "execution_count": 20,
   "id": "c0416aae",
   "metadata": {},
   "outputs": [],
   "source": [
    "def encode(s: str, encoding: str=\"utf-8\") -> str:\n",
    "    encoded = s.encode(encoding)\n",
    "    b64_encoded = base64.b64encode(encoded)\n",
    "    return b64_encoded.decode(encoding)"
   ]
  },
  {
   "cell_type": "code",
   "execution_count": 21,
   "id": "6b6aebf9",
   "metadata": {},
   "outputs": [],
   "source": [
    "def decode(s: str, encoding: str=\"utf-8\") -> str:\n",
    "    encoded = s.encode(encoding)\n",
    "    b64_decoded = base64.b64decode(encoded + b\"===\")\n",
    "    return b64_decoded.decode(encoding)"
   ]
  },
  {
   "cell_type": "code",
   "execution_count": 22,
   "id": "e529868f",
   "metadata": {},
   "outputs": [
    {
     "data": {
      "text/plain": [
       "'Python rocks! 😀😀'"
      ]
     },
     "execution_count": 22,
     "metadata": {},
     "output_type": "execute_result"
    }
   ],
   "source": [
    "decode('UHl0aG9uIHJvY2tzISDwn5iA8J+YgA')"
   ]
  },
  {
   "cell_type": "code",
   "execution_count": 23,
   "id": "6fd435a0",
   "metadata": {},
   "outputs": [
    {
     "data": {
      "text/plain": [
       "'SSdtIGEgbHVtYmVyamFjaywgYW5kIEknbSBPSw=='"
      ]
     },
     "execution_count": 23,
     "metadata": {},
     "output_type": "execute_result"
    }
   ],
   "source": [
    "encode(\"I'm a lumberjack, and I'm OK\")"
   ]
  },
  {
   "cell_type": "code",
   "execution_count": 24,
   "id": "773b0af6",
   "metadata": {},
   "outputs": [
    {
     "data": {
      "text/plain": [
       "\"I'm a lumberjack, and I'm OK\""
      ]
     },
     "execution_count": 24,
     "metadata": {},
     "output_type": "execute_result"
    }
   ],
   "source": [
    "decode(encode(\"I'm a lumberjack, and I'm OK\"))"
   ]
  },
  {
   "cell_type": "markdown",
   "id": "e2575cfb",
   "metadata": {},
   "source": [
    "And that's it for base 64 encoding!"
   ]
  }
 ],
 "metadata": {
  "kernelspec": {
   "display_name": "Python 3 (ipykernel)",
   "language": "python",
   "name": "python3"
  },
  "language_info": {
   "codemirror_mode": {
    "name": "ipython",
    "version": 3
   },
   "file_extension": ".py",
   "mimetype": "text/x-python",
   "name": "python",
   "nbconvert_exporter": "python",
   "pygments_lexer": "ipython3",
   "version": "3.10.2"
  }
 },
 "nbformat": 4,
 "nbformat_minor": 5
}
