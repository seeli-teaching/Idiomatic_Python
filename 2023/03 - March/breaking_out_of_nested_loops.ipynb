{
 "cells": [
  {
   "cell_type": "markdown",
   "id": "47ca1d7d",
   "metadata": {},
   "source": [
    "### Breaking out of Nested Loops"
   ]
  },
  {
   "cell_type": "markdown",
   "id": "a0264f90",
   "metadata": {},
   "source": [
    "Sometimes, when we have nested loops, we need to break out of the outermost loop while the code is running in the innermost loop."
   ]
  },
  {
   "cell_type": "markdown",
   "id": "095fb738",
   "metadata": {},
   "source": [
    "Unfortunately Python does not provide a language mechanism for doing this, unlike some other languages such as Rust."
   ]
  },
  {
   "cell_type": "markdown",
   "id": "b365192c",
   "metadata": {},
   "source": [
    "Let's look at an example."
   ]
  },
  {
   "cell_type": "markdown",
   "id": "50153aae",
   "metadata": {},
   "source": [
    "Let's say we have a matrix such as this:\n",
    "\n",
    "$$\n",
    "\\begin{bmatrix}\n",
    "0 & 0 & 1 & 2 \\\\\n",
    "0 & 1 & 3 & 4 \\\\\n",
    "0 & 5 & 10 & -2 \\\\\n",
    "-1 & 2 & 12 & -4\n",
    "\\end{bmatrix}\n",
    "$$"
   ]
  },
  {
   "cell_type": "markdown",
   "id": "afb826d6",
   "metadata": {},
   "source": [
    "Our goal is to find the value and row and column index of the first element (moving from left to right and top to bottom), that is negative."
   ]
  },
  {
   "cell_type": "markdown",
   "id": "06596a85",
   "metadata": {},
   "source": [
    "In Python, we might represent such a matrix as list of lists as follows:"
   ]
  },
  {
   "cell_type": "code",
   "execution_count": 1,
   "id": "5aff4411",
   "metadata": {},
   "outputs": [],
   "source": [
    "m = [\n",
    "    [0, 0, 1, 2],\n",
    "    [0, 1, 3, 4],\n",
    "    [0, 5, 10, -2],\n",
    "    [-1, 2, 12, -4]\n",
    "]"
   ]
  },
  {
   "cell_type": "markdown",
   "id": "c4a8be30",
   "metadata": {},
   "source": [
    "In this case, the answer we are looking for would the value -2, located at row index 2, column index 3."
   ]
  },
  {
   "cell_type": "markdown",
   "id": "79dfd908",
   "metadata": {},
   "source": [
    "To find this element we could use a nested loop, but when we find the element in the inner loop, we need to break out of **both** loops - unfortunately, `break` only breaks out of the current loop the code block is running in."
   ]
  },
  {
   "cell_type": "code",
   "execution_count": 2,
   "id": "5b6b9915",
   "metadata": {},
   "outputs": [
    {
     "name": "stdout",
     "output_type": "stream",
     "text": [
      "Found negative element: -2, at position (2,3)\n",
      "Found negative element: -1, at position (3,0)\n"
     ]
    }
   ],
   "source": [
    "for row_index, row in enumerate(m):\n",
    "    for column_index, value in enumerate(row):\n",
    "        if value < 0:\n",
    "            print(f\"Found negative element: {value}, at position ({row_index},{column_index})\")\n",
    "            break"
   ]
  },
  {
   "cell_type": "markdown",
   "id": "96f81ed6",
   "metadata": {},
   "source": [
    "As you can see, we need to break out of both loops."
   ]
  },
  {
   "cell_type": "markdown",
   "id": "c13c57ea",
   "metadata": {},
   "source": [
    "#### Approach 1"
   ]
  },
  {
   "cell_type": "markdown",
   "id": "0a196146",
   "metadata": {},
   "source": [
    "We could use a flag to track if the outer loop needs to break."
   ]
  },
  {
   "cell_type": "code",
   "execution_count": 3,
   "id": "bb4edd46",
   "metadata": {},
   "outputs": [
    {
     "name": "stdout",
     "output_type": "stream",
     "text": [
      "Found negative element: -2, at position (2,3)\n"
     ]
    }
   ],
   "source": [
    "break_out = False\n",
    "for row_index, row in enumerate(m):\n",
    "    if break_out:\n",
    "        break\n",
    "    for column_index, value in enumerate(row):\n",
    "        if value < 0:\n",
    "            print(f\"Found negative element: {value}, at position ({row_index},{column_index})\")\n",
    "            break_out = True\n",
    "            break"
   ]
  },
  {
   "cell_type": "markdown",
   "id": "d824f3bc",
   "metadata": {},
   "source": [
    "While this certainly works, it is not very elegant code - we have that flag we have to keep track of, and someone reading this code is going to have to think a bit to understand what we are doing - that's what I call inelegant."
   ]
  },
  {
   "cell_type": "markdown",
   "id": "be95aa22",
   "metadata": {},
   "source": [
    "#### Approach 2"
   ]
  },
  {
   "cell_type": "markdown",
   "id": "b71ba0a3",
   "metadata": {},
   "source": [
    "Is there a better approach?"
   ]
  },
  {
   "cell_type": "markdown",
   "id": "d58cf118",
   "metadata": {},
   "source": [
    "Maybe.\n",
    "\n",
    "Remember the `else` clause that `for` loops have?"
   ]
  },
  {
   "cell_type": "markdown",
   "id": "a43e0b49",
   "metadata": {},
   "source": [
    "Yeah, if you're like most people, you probably don't use it, and either never learned it, or forgot it!"
   ]
  },
  {
   "cell_type": "markdown",
   "id": "5c7eb3c5",
   "metadata": {},
   "source": [
    "Let's go over how that clause works:"
   ]
  },
  {
   "cell_type": "code",
   "execution_count": 4,
   "id": "2aac161a",
   "metadata": {},
   "outputs": [
    {
     "name": "stdout",
     "output_type": "stream",
     "text": [
      "0\n",
      "1\n",
      "2\n",
      "3\n",
      "4\n"
     ]
    }
   ],
   "source": [
    "for i in range(6):\n",
    "    print(i)\n",
    "    if i > 3:\n",
    "        break\n",
    "else:\n",
    "    print(\"Else clause executed\")\n"
   ]
  },
  {
   "cell_type": "markdown",
   "id": "2a03c42f",
   "metadata": {},
   "source": [
    "As you can see that `else` block attached to the `for` loop never executed.\n",
    "\n",
    "Now let's look at this:"
   ]
  },
  {
   "cell_type": "code",
   "execution_count": 5,
   "id": "d890a756",
   "metadata": {},
   "outputs": [
    {
     "name": "stdout",
     "output_type": "stream",
     "text": [
      "0\n",
      "1\n",
      "2\n",
      "3\n",
      "4\n",
      "5\n",
      "Else clause executed\n"
     ]
    }
   ],
   "source": [
    "for i in range(6):\n",
    "    print(i)\n",
    "else:\n",
    "    print(\"Else clause executed\")"
   ]
  },
  {
   "cell_type": "markdown",
   "id": "38413342",
   "metadata": {},
   "source": [
    "Aha - so the `else` clause executes if the `for` loop **completes without a** `break`.\n",
    "\n",
    "Since that is a bit confusing, I always add a comment this way, which helps me remember how the `else` works:|"
   ]
  },
  {
   "cell_type": "code",
   "execution_count": 6,
   "id": "3d8af274",
   "metadata": {},
   "outputs": [
    {
     "name": "stdout",
     "output_type": "stream",
     "text": [
      "0\n",
      "1\n",
      "2\n",
      "3\n",
      "4\n"
     ]
    }
   ],
   "source": [
    "for i in range(6):\n",
    "    print(i)\n",
    "    if i > 3:\n",
    "        break\n",
    "else:  # nobreak\n",
    "    print(\"Else clause executed\")"
   ]
  },
  {
   "cell_type": "markdown",
   "id": "e4a68b08",
   "metadata": {},
   "source": [
    "So now, we could use this to our advantage in the previous example:"
   ]
  },
  {
   "cell_type": "code",
   "execution_count": 7,
   "id": "e011dfed",
   "metadata": {},
   "outputs": [
    {
     "name": "stdout",
     "output_type": "stream",
     "text": [
      "Found negative element: -2, at position (2,3)\n"
     ]
    }
   ],
   "source": [
    "for row_index, row in enumerate(m):\n",
    "    for column_index, value in enumerate(row):\n",
    "        if value < 0:\n",
    "            print(f\"Found negative element: {value}, at position ({row_index},{column_index})\")\n",
    "            break\n",
    "    else:  # nobreak\n",
    "        # inner loop completed without breaking - so we did not find our element\n",
    "        continue\n",
    "    \n",
    "    # if we reach this line, means that the inner loop **did** break\n",
    "    # so we need to break out of the current loop (the outer loop)\n",
    "    break"
   ]
  },
  {
   "cell_type": "markdown",
   "id": "7d27cafa",
   "metadata": {},
   "source": [
    "Removing all the comments we have:"
   ]
  },
  {
   "cell_type": "code",
   "execution_count": 8,
   "id": "59fde2b7",
   "metadata": {},
   "outputs": [
    {
     "name": "stdout",
     "output_type": "stream",
     "text": [
      "Found negative element: -2, at position (2,3)\n"
     ]
    }
   ],
   "source": [
    "for row_index, row in enumerate(m):\n",
    "    for column_index, value in enumerate(row):\n",
    "        if value < 0:\n",
    "            print(f\"Found negative element: {value}, at position ({row_index},{column_index})\")\n",
    "            break\n",
    "    else:  # nobreak \n",
    "        continue\n",
    "    break"
   ]
  },
  {
   "cell_type": "markdown",
   "id": "00746e76",
   "metadata": {},
   "source": [
    "Ok, so that works too - it is certainly more Pythonic than our first approach, but I still find it somewhat confusing code - I don't particularly like it much either, but I still prefer it to approach #1."
   ]
  },
  {
   "cell_type": "markdown",
   "id": "0f8c0ba1",
   "metadata": {},
   "source": [
    "#### Approach 3"
   ]
  },
  {
   "cell_type": "markdown",
   "id": "e5326c22",
   "metadata": {},
   "source": [
    "Remember these things called **exceptions**?"
   ]
  },
  {
   "cell_type": "markdown",
   "id": "b9091d34",
   "metadata": {},
   "source": [
    "Although you may only think of them as used in case of \"errors\", they are indeed for more useful than that - exceptions are actually a form of **flow control**."
   ]
  },
  {
   "cell_type": "markdown",
   "id": "6ab58cfe",
   "metadata": {},
   "source": [
    "For example, that's how `for` loops know when to stop iterating over an iterator - the iterator raises a `StopIteration` exception when the iterator is done producing results. This is not an error state, simply a statement of the fact that the iterator has been exhausted, and the `for` loop is then informed that iteration is complete - that's flow control!"
   ]
  },
  {
   "cell_type": "markdown",
   "id": "4d452617",
   "metadata": {},
   "source": [
    "So, we could use the same mechanism to indicate to the outer loop that the inner loop found what it needs, and that the outer loop can stop iterating."
   ]
  },
  {
   "cell_type": "markdown",
   "id": "ec82f1ad",
   "metadata": {},
   "source": [
    "We could use a custom exception here:"
   ]
  },
  {
   "cell_type": "code",
   "execution_count": 9,
   "id": "0ccc432d",
   "metadata": {},
   "outputs": [],
   "source": [
    "class FoundElement(Exception):\n",
    "    pass"
   ]
  },
  {
   "cell_type": "markdown",
   "id": "a55e584b",
   "metadata": {},
   "source": [
    "And code it this way:"
   ]
  },
  {
   "cell_type": "code",
   "execution_count": 10,
   "id": "4efcd849",
   "metadata": {},
   "outputs": [
    {
     "name": "stdout",
     "output_type": "stream",
     "text": [
      "Found negative element: -2, at position (2,3)\n"
     ]
    }
   ],
   "source": [
    "for row_index, row in enumerate(m):\n",
    "    try:\n",
    "        for column_index, value in enumerate(row):\n",
    "            if value < 0:\n",
    "                print(f\"Found negative element: {value}, at position ({row_index},{column_index})\")\n",
    "                raise FoundElement\n",
    "    except FoundElement:\n",
    "        break"
   ]
  },
  {
   "cell_type": "markdown",
   "id": "ee943b70",
   "metadata": {},
   "source": [
    "But why create a needless custom exception for this - we can just use one of the built-in exceptions, and `StopIteration` seems like a good choice to me here:"
   ]
  },
  {
   "cell_type": "code",
   "execution_count": 11,
   "id": "eb9538d5",
   "metadata": {},
   "outputs": [
    {
     "name": "stdout",
     "output_type": "stream",
     "text": [
      "Found negative element: -2, at position (2,3)\n"
     ]
    }
   ],
   "source": [
    "for row_index, row in enumerate(m):\n",
    "    try:\n",
    "        for column_index, value in enumerate(row):\n",
    "            if value < 0:\n",
    "                print(f\"Found negative element: {value}, at position ({row_index},{column_index})\")\n",
    "                raise StopIteration\n",
    "    except StopIteration:\n",
    "        break"
   ]
  },
  {
   "cell_type": "markdown",
   "id": "a3c8efe4",
   "metadata": {},
   "source": [
    "So far, this is the solution I like the best. But..."
   ]
  },
  {
   "cell_type": "markdown",
   "id": "ce35607f",
   "metadata": {},
   "source": [
    "#### Approach 4"
   ]
  },
  {
   "cell_type": "markdown",
   "id": "1f8e4267",
   "metadata": {},
   "source": [
    "I still don't particularly love any of the above solutions."
   ]
  },
  {
   "cell_type": "markdown",
   "id": "ab05a47b",
   "metadata": {},
   "source": [
    "When I see coding patterns like the one above, I'm thinking that basically we want to **return** the first element we find that matches the criteria."
   ]
  },
  {
   "cell_type": "markdown",
   "id": "a1404ec8",
   "metadata": {},
   "source": [
    "To me that sounds like exactly what a **function** would do."
   ]
  },
  {
   "cell_type": "markdown",
   "id": "635ecfdb",
   "metadata": {},
   "source": [
    "And, in fact, if the code above were included in some larger chunk of code, we would also be simplifying the larger chunk of code by decomposing our problem further."
   ]
  },
  {
   "cell_type": "markdown",
   "id": "be1aa8da",
   "metadata": {},
   "source": [
    "So now, we're going to write a function to simply return what we need:"
   ]
  },
  {
   "cell_type": "code",
   "execution_count": 12,
   "id": "be3af717",
   "metadata": {},
   "outputs": [],
   "source": [
    "def find_first_negative_element(matrix):\n",
    "    for row_index, row in enumerate(m):\n",
    "        for column_index, value in enumerate(row):\n",
    "            if value < 0:\n",
    "                return row_index, column_index, value\n",
    "    return (None,) * 3  # keeps the return consistent if nothing was found"
   ]
  },
  {
   "cell_type": "markdown",
   "id": "31ff1a93",
   "metadata": {},
   "source": [
    "And then in our code we could use this function:"
   ]
  },
  {
   "cell_type": "code",
   "execution_count": 13,
   "id": "704708b9",
   "metadata": {},
   "outputs": [
    {
     "name": "stdout",
     "output_type": "stream",
     "text": [
      "Found negative element: -2, at position (2,3)\n"
     ]
    }
   ],
   "source": [
    "# larger code block\n",
    "#...\n",
    "row_index, column_index, value = find_first_negative_element(m)\n",
    "if row_index is not None:\n",
    "    print(f\"Found negative element: {value}, at position ({row_index},{column_index})\")"
   ]
  },
  {
   "cell_type": "markdown",
   "id": "acb2808b",
   "metadata": {},
   "source": [
    "And that, to me, is the **best** solution - not only does it avoid all the complexity of breaking out of multiple levels of nested loops, but it also simplifies our code, makes it far more readable, and makes it easier to unit test too!"
   ]
  },
  {
   "cell_type": "markdown",
   "id": "4631f5c8",
   "metadata": {},
   "source": [
    "#### Other Solutions"
   ]
  },
  {
   "cell_type": "markdown",
   "id": "11f2b9bd",
   "metadata": {},
   "source": [
    "I'm sure there are other clever ways of doing this that I haven't though of here, but I doubt their simplicity will be as good as the function approach we saw in #4. Remember too, that you would need to look for a technique that allows you to break out of multiple nested loops in general, not just the two nested loops we used in our example. The function approach will work equally simply for those cases, whereas the other ones just require piling on more and more control code (with the exception of the Exception based approach in #3, where you would just catch the `StopIteration` in the outermost loop, and let the exception propogate from the innermost loop."
   ]
  },
  {
   "cell_type": "code",
   "execution_count": null,
   "id": "3c0ce71b",
   "metadata": {},
   "outputs": [],
   "source": []
  }
 ],
 "metadata": {
  "kernelspec": {
   "display_name": "Python 3 (ipykernel)",
   "language": "python",
   "name": "python3"
  },
  "language_info": {
   "codemirror_mode": {
    "name": "ipython",
    "version": 3
   },
   "file_extension": ".py",
   "mimetype": "text/x-python",
   "name": "python",
   "nbconvert_exporter": "python",
   "pygments_lexer": "ipython3",
   "version": "3.12.0"
  }
 },
 "nbformat": 4,
 "nbformat_minor": 5
}
