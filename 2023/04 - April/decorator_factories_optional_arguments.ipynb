{
 "cells": [
  {
   "cell_type": "markdown",
   "id": "27b3382d",
   "metadata": {},
   "source": [
    "### Decorator Factories and Optional Arguments"
   ]
  },
  {
   "cell_type": "markdown",
   "id": "a414e181",
   "metadata": {},
   "source": [
    "In this video, we're going to look at how we can create decorators that can take optional arguments, and be called with or without the parentheses, much like the `lru_cache` decorator in the Python standard library:"
   ]
  },
  {
   "cell_type": "code",
   "execution_count": 1,
   "id": "c0d9673e",
   "metadata": {},
   "outputs": [],
   "source": [
    "from functools import lru_cache\n",
    "\n",
    "@lru_cache\n",
    "def my_func(a):\n",
    "    pass\n",
    "\n",
    "@lru_cache(maxsize=5)\n",
    "def my_other_func(a):\n",
    "    pass"
   ]
  },
  {
   "cell_type": "markdown",
   "id": "8389d96c",
   "metadata": {},
   "source": [
    "I am going to assume that you already know what closures and decorators are, and how to create simple decorators.\n",
    "\n",
    "Let's review that quickly in case you're a bit rusty, otherwise just skip ahead to the section titled [Decorator Arguments](#decorator_arguments)."
   ]
  },
  {
   "cell_type": "markdown",
   "id": "cd880a9a",
   "metadata": {},
   "source": [
    "#### Simple Decorator"
   ]
  },
  {
   "cell_type": "markdown",
   "id": "50190ab5",
   "metadata": {},
   "source": [
    "For example, this decorator can be used to time any function:"
   ]
  },
  {
   "cell_type": "code",
   "execution_count": 2,
   "id": "b4fb842b",
   "metadata": {},
   "outputs": [],
   "source": [
    "from time import perf_counter\n",
    "\n",
    "def timer(fn):\n",
    "    def inner(*args, **kwargs):\n",
    "        start = perf_counter()\n",
    "        result = fn(*args, **kwargs)\n",
    "        end = perf_counter()\n",
    "        print(f\"{fn.__name__}: {end-start:0.5f} seconds\")\n",
    "        return result\n",
    "    return inner"
   ]
  },
  {
   "cell_type": "markdown",
   "id": "3cb7e391",
   "metadata": {},
   "source": [
    "We can now decorate any function we want to time with it:"
   ]
  },
  {
   "cell_type": "code",
   "execution_count": 3,
   "id": "0b7235fc",
   "metadata": {},
   "outputs": [],
   "source": [
    "from random import random\n",
    "from time import sleep\n",
    "\n",
    "@timer\n",
    "def my_func(a, *, b):\n",
    "    sleep(random())\n",
    "    return a * b"
   ]
  },
  {
   "cell_type": "markdown",
   "id": "9efdc607",
   "metadata": {},
   "source": [
    "We can then call this decorated function:"
   ]
  },
  {
   "cell_type": "code",
   "execution_count": 4,
   "id": "a2584d26",
   "metadata": {},
   "outputs": [
    {
     "name": "stdout",
     "output_type": "stream",
     "text": [
      "my_func: 0.24645 seconds\n"
     ]
    },
    {
     "data": {
      "text/plain": [
       "'********************'"
      ]
     },
     "execution_count": 4,
     "metadata": {},
     "output_type": "execute_result"
    }
   ],
   "source": [
    "my_func(\"*\", b=20)"
   ]
  },
  {
   "cell_type": "markdown",
   "id": "54fba35a",
   "metadata": {},
   "source": [
    "Also remember that the decorator syntax is just syntactic sugar - we could just as easily have decorated our function this way:"
   ]
  },
  {
   "cell_type": "code",
   "execution_count": 5,
   "id": "c75295f0",
   "metadata": {},
   "outputs": [],
   "source": [
    "def my_func(a, *, b):\n",
    "    sleep(random())\n",
    "    return a * b\n",
    "\n",
    "my_func = timer(my_func)"
   ]
  },
  {
   "cell_type": "code",
   "execution_count": 6,
   "id": "49c629bd",
   "metadata": {},
   "outputs": [
    {
     "name": "stdout",
     "output_type": "stream",
     "text": [
      "my_func: 0.58107 seconds\n"
     ]
    },
    {
     "data": {
      "text/plain": [
       "'**********'"
      ]
     },
     "execution_count": 6,
     "metadata": {},
     "output_type": "execute_result"
    }
   ],
   "source": [
    "my_func(\"*\", b=10)"
   ]
  },
  {
   "cell_type": "markdown",
   "id": "b3d1251f",
   "metadata": {},
   "source": [
    "So a decorator is nothing more than a function that receives a function as an argument (the decorated function), \"modifies\" the function's behavior in some way, and returns the modified function. Usually we modify the behavior of the function by adding code before or after calling the original function, and returning the value of the original function call."
   ]
  },
  {
   "cell_type": "markdown",
   "id": "108cc4cd",
   "metadata": {},
   "source": [
    "But there is one small issue - the decorated `my_func` function is no longer the **original** one - and we lose some of its metadata:"
   ]
  },
  {
   "cell_type": "code",
   "execution_count": 7,
   "id": "c0afd08a",
   "metadata": {},
   "outputs": [],
   "source": [
    "def my_func(a, *, b):\n",
    "    \"\"\"A docstring annotation\"\"\"\n",
    "    sleep(random())\n",
    "    return a * b"
   ]
  },
  {
   "cell_type": "code",
   "execution_count": 8,
   "id": "ba9097a9",
   "metadata": {},
   "outputs": [
    {
     "data": {
      "text/plain": [
       "'my_func'"
      ]
     },
     "execution_count": 8,
     "metadata": {},
     "output_type": "execute_result"
    }
   ],
   "source": [
    "my_func.__name__"
   ]
  },
  {
   "cell_type": "code",
   "execution_count": 9,
   "id": "90f53fff",
   "metadata": {},
   "outputs": [
    {
     "data": {
      "text/plain": [
       "'A docstring annotation'"
      ]
     },
     "execution_count": 9,
     "metadata": {},
     "output_type": "execute_result"
    }
   ],
   "source": [
    "my_func.__doc__"
   ]
  },
  {
   "cell_type": "markdown",
   "id": "fe52438b",
   "metadata": {},
   "source": [
    "Now let's decorate it:"
   ]
  },
  {
   "cell_type": "code",
   "execution_count": 10,
   "id": "19b3de72",
   "metadata": {},
   "outputs": [],
   "source": [
    "my_func = timer(my_func)"
   ]
  },
  {
   "cell_type": "code",
   "execution_count": 11,
   "id": "2043c0ad",
   "metadata": {},
   "outputs": [
    {
     "data": {
      "text/plain": [
       "'inner'"
      ]
     },
     "execution_count": 11,
     "metadata": {},
     "output_type": "execute_result"
    }
   ],
   "source": [
    "my_func.__name__"
   ]
  },
  {
   "cell_type": "code",
   "execution_count": 12,
   "id": "1c114025",
   "metadata": {},
   "outputs": [],
   "source": [
    "my_func.__doc__"
   ]
  },
  {
   "cell_type": "markdown",
   "id": "370c2934",
   "metadata": {},
   "source": [
    "As you can see the name and docstring have been replaced by the name and docstring of the `inner` function in our decorator function (which makes sense since that is what we return when calling `timer`."
   ]
  },
  {
   "cell_type": "markdown",
   "id": "16c4f230",
   "metadata": {},
   "source": [
    "And of course, since it is equivalent, the same happens if we use the `@` decorator syntax:"
   ]
  },
  {
   "cell_type": "code",
   "execution_count": 13,
   "id": "c8b0c5cd",
   "metadata": {},
   "outputs": [],
   "source": [
    "@timer\n",
    "def my_func(a, *, b):\n",
    "    \"\"\"A docstring annotation\"\"\"\n",
    "    sleep(random())\n",
    "    return a * b"
   ]
  },
  {
   "cell_type": "code",
   "execution_count": 14,
   "id": "9f257f87",
   "metadata": {},
   "outputs": [
    {
     "data": {
      "text/plain": [
       "'inner'"
      ]
     },
     "execution_count": 14,
     "metadata": {},
     "output_type": "execute_result"
    }
   ],
   "source": [
    "my_func.__name__"
   ]
  },
  {
   "cell_type": "code",
   "execution_count": 15,
   "id": "f02c3ff6",
   "metadata": {},
   "outputs": [],
   "source": [
    "my_func.__doc__"
   ]
  },
  {
   "cell_type": "markdown",
   "id": "37fb3938",
   "metadata": {},
   "source": [
    "#### Using `@wraps` to retain original function metadata"
   ]
  },
  {
   "cell_type": "markdown",
   "id": "9b43bb80",
   "metadata": {},
   "source": [
    "An easy fix is to use the `@wraps` decorator in the `functools` module, which essentially copies some relevant metadata from the source function (`my_func`) to that `inner` function:"
   ]
  },
  {
   "cell_type": "code",
   "execution_count": 16,
   "id": "cc8f4eb6",
   "metadata": {},
   "outputs": [],
   "source": [
    "from functools import wraps"
   ]
  },
  {
   "cell_type": "code",
   "execution_count": 17,
   "id": "9dca2e19",
   "metadata": {},
   "outputs": [],
   "source": [
    "def timer(fn):\n",
    "    @wraps(fn)\n",
    "    def inner(*args, **kwargs):\n",
    "        start = perf_counter()\n",
    "        result = fn(*args, **kwargs)\n",
    "        end = perf_counter()\n",
    "        print(f\"{fn.__name__}: {end-start:0.5f} seconds\")\n",
    "        return result\n",
    "    return inner"
   ]
  },
  {
   "cell_type": "code",
   "execution_count": 18,
   "id": "b897dee5",
   "metadata": {},
   "outputs": [],
   "source": [
    "@timer\n",
    "def my_func(a, *, b):\n",
    "    \"\"\"A docstring annotation\"\"\"\n",
    "    sleep(random())\n",
    "    return a * b"
   ]
  },
  {
   "cell_type": "code",
   "execution_count": 19,
   "id": "0a7a6b82",
   "metadata": {},
   "outputs": [
    {
     "data": {
      "text/plain": [
       "'my_func'"
      ]
     },
     "execution_count": 19,
     "metadata": {},
     "output_type": "execute_result"
    }
   ],
   "source": [
    "my_func.__name__"
   ]
  },
  {
   "cell_type": "code",
   "execution_count": 20,
   "id": "cc6cc8c9",
   "metadata": {},
   "outputs": [
    {
     "data": {
      "text/plain": [
       "'A docstring annotation'"
      ]
     },
     "execution_count": 20,
     "metadata": {},
     "output_type": "execute_result"
    }
   ],
   "source": [
    "my_func.__doc__"
   ]
  },
  {
   "cell_type": "markdown",
   "id": "eac29fa5",
   "metadata": {},
   "source": [
    "So this a common pattern for simple decorators - we use nested functions, and closures, along with `@wraps` to create simple decorators."
   ]
  },
  {
   "cell_type": "markdown",
   "id": "808760f2",
   "metadata": {},
   "source": [
    "\n",
    "<a id=\"decorator_arguments\"></a>\n",
    "#### Decorator Arguments"
   ]
  },
  {
   "cell_type": "markdown",
   "id": "c6560550",
   "metadata": {},
   "source": [
    "But these decorators do not allow the possibility of passing arguments to the decorating function itself."
   ]
  },
  {
   "cell_type": "markdown",
   "id": "9130fcd6",
   "metadata": {},
   "source": [
    "If you look at some built-in decorators in Python, you'll notice that some decorators are **parametrized**."
   ]
  },
  {
   "cell_type": "markdown",
   "id": "f9ed109f",
   "metadata": {},
   "source": [
    "For example the `lru_cache` decorator in the `functools` module:"
   ]
  },
  {
   "cell_type": "code",
   "execution_count": 21,
   "id": "3c1961dd",
   "metadata": {},
   "outputs": [],
   "source": [
    "from functools import lru_cache\n",
    "\n",
    "@lru_cache(5)\n",
    "def my_func(x):\n",
    "    print(f\"Cache miss: {x}\")\n",
    "    return x ** 2"
   ]
  },
  {
   "cell_type": "markdown",
   "id": "2d3f446c",
   "metadata": {},
   "source": [
    "And now we can call this decorated function which will cache the last 5 arguments and the corresponding results:"
   ]
  },
  {
   "cell_type": "markdown",
   "id": "fe1d905c",
   "metadata": {},
   "source": [
    "When we call the function with a previously unseen (and hence uncached) argument, we get:"
   ]
  },
  {
   "cell_type": "code",
   "execution_count": 22,
   "id": "d6a08fea",
   "metadata": {},
   "outputs": [
    {
     "name": "stdout",
     "output_type": "stream",
     "text": [
      "Cache miss: 1\n"
     ]
    },
    {
     "data": {
      "text/plain": [
       "1"
      ]
     },
     "execution_count": 22,
     "metadata": {},
     "output_type": "execute_result"
    }
   ],
   "source": [
    "my_func(1)"
   ]
  },
  {
   "cell_type": "markdown",
   "id": "fcdb402b",
   "metadata": {},
   "source": [
    "If we call it again, you'll notice we do not see the `print` output - the result was retrieved from the cache:"
   ]
  },
  {
   "cell_type": "code",
   "execution_count": 23,
   "id": "65e41a61",
   "metadata": {},
   "outputs": [
    {
     "data": {
      "text/plain": [
       "1"
      ]
     },
     "execution_count": 23,
     "metadata": {},
     "output_type": "execute_result"
    }
   ],
   "source": [
    "my_func(1)"
   ]
  },
  {
   "cell_type": "markdown",
   "id": "eab7b4fe",
   "metadata": {},
   "source": [
    "If we call different arguments, these will be added to the cache, and since our cache is limited to 5, once we add 5 more entries into the cache, that first cache entry for `1` will be lost:"
   ]
  },
  {
   "cell_type": "code",
   "execution_count": 24,
   "id": "3051681e",
   "metadata": {},
   "outputs": [
    {
     "name": "stdout",
     "output_type": "stream",
     "text": [
      "Cache miss: 2\n",
      "Cache miss: 3\n",
      "Cache miss: 4\n",
      "Cache miss: 5\n",
      "Cache miss: 6\n"
     ]
    },
    {
     "data": {
      "text/plain": [
       "36"
      ]
     },
     "execution_count": 24,
     "metadata": {},
     "output_type": "execute_result"
    }
   ],
   "source": [
    "my_func(2)\n",
    "my_func(3)\n",
    "my_func(4)\n",
    "my_func(5)\n",
    "my_func(6)"
   ]
  },
  {
   "cell_type": "markdown",
   "id": "fa16d571",
   "metadata": {},
   "source": [
    "And if we call the function with `1` again:"
   ]
  },
  {
   "cell_type": "code",
   "execution_count": 25,
   "id": "b24c6e3a",
   "metadata": {},
   "outputs": [
    {
     "name": "stdout",
     "output_type": "stream",
     "text": [
      "Cache miss: 1\n"
     ]
    },
    {
     "data": {
      "text/plain": [
       "1"
      ]
     },
     "execution_count": 25,
     "metadata": {},
     "output_type": "execute_result"
    }
   ],
   "source": [
    "my_func(1)"
   ]
  },
  {
   "cell_type": "markdown",
   "id": "a92824e4",
   "metadata": {},
   "source": [
    "So that's the LRU cache decorator - it takes an argument - not something our previous pattern could handle."
   ]
  },
  {
   "cell_type": "markdown",
   "id": "e040ec5a",
   "metadata": {},
   "source": [
    "To get that functionality, we need to create a function that will take in that parameter, and **create** and return a decorator function - hence the term **decorator factory** - we are going to write a function that creates and returns a decorator, not a decorated function like we did previously."
   ]
  },
  {
   "cell_type": "markdown",
   "id": "23ff441a",
   "metadata": {},
   "source": [
    "Let's do a simple example of this - we'll go back to our `timer` example, but somehow we not only want to output the function name and the run time of the function, but also provide some form of categorization that we want included in the output (maybe we are writing these timings to a database, and it would be helpful to group timings under various categories)."
   ]
  },
  {
   "cell_type": "code",
   "execution_count": 26,
   "id": "eb6f04f4",
   "metadata": {},
   "outputs": [],
   "source": [
    "def timer(category = \"null\"):\n",
    "    def decorator(fn):\n",
    "        @wraps(fn)\n",
    "        def inner(*args, **kwargs):\n",
    "            start = perf_counter()\n",
    "            result = fn(*args, **kwargs)\n",
    "            end = perf_counter()\n",
    "            print(f\"{category}: {fn.__name__}: {end-start:0.5f} seconds\")\n",
    "            return result\n",
    "        return inner\n",
    "    return decorator            "
   ]
  },
  {
   "cell_type": "markdown",
   "id": "fb2b9b19",
   "metadata": {},
   "source": [
    "As you can see, our `timer` function is now no longer a decorator, it is a function that **returns** a decorator when called - so in order to use `timer` as a decorator we have to **call** it to get a decorator function, and that return value can then be used as a decorator in the usual way."
   ]
  },
  {
   "cell_type": "markdown",
   "id": "cbcc8e95",
   "metadata": {},
   "source": [
    "Let's break it down:"
   ]
  },
  {
   "cell_type": "code",
   "execution_count": 27,
   "id": "73b7df8f",
   "metadata": {},
   "outputs": [],
   "source": [
    "dec_timer_section_1 = timer(\"section 1\")"
   ]
  },
  {
   "cell_type": "code",
   "execution_count": 28,
   "id": "64ec7aac",
   "metadata": {},
   "outputs": [],
   "source": [
    "def my_func(a, *, b):\n",
    "    sleep(random())\n",
    "    return a * b\n",
    "\n",
    "my_func = dec_timer_section_1(my_func)"
   ]
  },
  {
   "cell_type": "code",
   "execution_count": 29,
   "id": "4262dba1",
   "metadata": {},
   "outputs": [
    {
     "data": {
      "text/plain": [
       "'my_func'"
      ]
     },
     "execution_count": 29,
     "metadata": {},
     "output_type": "execute_result"
    }
   ],
   "source": [
    "my_func.__name__"
   ]
  },
  {
   "cell_type": "code",
   "execution_count": 30,
   "id": "81ffc1e0",
   "metadata": {},
   "outputs": [
    {
     "name": "stdout",
     "output_type": "stream",
     "text": [
      "section 1: my_func: 0.88532 seconds\n"
     ]
    },
    {
     "data": {
      "text/plain": [
       "50"
      ]
     },
     "execution_count": 30,
     "metadata": {},
     "output_type": "execute_result"
    }
   ],
   "source": [
    "my_func(5, b=10)"
   ]
  },
  {
   "cell_type": "markdown",
   "id": "68860f42",
   "metadata": {},
   "source": [
    "And we can collapse all this code using the `@` syntax:"
   ]
  },
  {
   "cell_type": "code",
   "execution_count": 31,
   "id": "432990e8",
   "metadata": {},
   "outputs": [],
   "source": [
    "@timer(\"section 1\")\n",
    "def my_func(a, *, b):\n",
    "    sleep(random())\n",
    "    return a * b"
   ]
  },
  {
   "cell_type": "code",
   "execution_count": 32,
   "id": "2d011a74",
   "metadata": {},
   "outputs": [
    {
     "name": "stdout",
     "output_type": "stream",
     "text": [
      "section 1: my_func: 0.43780 seconds\n"
     ]
    },
    {
     "data": {
      "text/plain": [
       "50"
      ]
     },
     "execution_count": 32,
     "metadata": {},
     "output_type": "execute_result"
    }
   ],
   "source": [
    "my_func(5, b=10)"
   ]
  },
  {
   "cell_type": "markdown",
   "id": "d05314f6",
   "metadata": {},
   "source": [
    "What happens if we do not want to provide a section? We have a default defined, so we can just do this:"
   ]
  },
  {
   "cell_type": "code",
   "execution_count": 33,
   "id": "15eb2c52",
   "metadata": {},
   "outputs": [],
   "source": [
    "@timer()\n",
    "def my_func(a, *, b):\n",
    "    sleep(random())\n",
    "    return a * b"
   ]
  },
  {
   "cell_type": "code",
   "execution_count": 34,
   "id": "031a520f",
   "metadata": {},
   "outputs": [
    {
     "name": "stdout",
     "output_type": "stream",
     "text": [
      "null: my_func: 0.23383 seconds\n"
     ]
    },
    {
     "data": {
      "text/plain": [
       "'*****'"
      ]
     },
     "execution_count": 34,
     "metadata": {},
     "output_type": "execute_result"
    }
   ],
   "source": [
    "my_func('*', b=5)"
   ]
  },
  {
   "cell_type": "markdown",
   "id": "c2bd07c9",
   "metadata": {},
   "source": [
    "#### Optional Arguments"
   ]
  },
  {
   "cell_type": "markdown",
   "id": "5b2b54c8",
   "metadata": {},
   "source": [
    "But the syntax is a bit awkward - we have to remember to use `()` if we do not want to actually pass a value (and thereby use the default value)."
   ]
  },
  {
   "cell_type": "markdown",
   "id": "061bcbbc",
   "metadata": {},
   "source": [
    "If we go back to the `lru_cache` decorator we looked at earlier, the default cache size is `128`."
   ]
  },
  {
   "cell_type": "markdown",
   "id": "277799b2",
   "metadata": {},
   "source": [
    "The way this decorator is implemented, we can simply use the decorator name without passing a size and **without** using the empty `()` - and it will default to a cache size of `128`:"
   ]
  },
  {
   "cell_type": "code",
   "execution_count": 35,
   "id": "1f18dbf6",
   "metadata": {},
   "outputs": [],
   "source": [
    "@lru_cache\n",
    "def my_func(x):\n",
    "    print(f\"Cache miss: {x}\")\n",
    "    return x ** 2"
   ]
  },
  {
   "cell_type": "code",
   "execution_count": 36,
   "id": "989e9158",
   "metadata": {},
   "outputs": [
    {
     "name": "stdout",
     "output_type": "stream",
     "text": [
      "Cache miss: 0\n",
      "Cache miss: 1\n",
      "Cache miss: 2\n",
      "Cache miss: 3\n",
      "Cache miss: 4\n",
      "Cache miss: 5\n",
      "Cache miss: 6\n",
      "Cache miss: 7\n",
      "Cache miss: 8\n",
      "Cache miss: 9\n",
      "Cache miss: 10\n",
      "Cache miss: 11\n",
      "Cache miss: 12\n",
      "Cache miss: 13\n",
      "Cache miss: 14\n",
      "Cache miss: 15\n",
      "Cache miss: 16\n",
      "Cache miss: 17\n",
      "Cache miss: 18\n",
      "Cache miss: 19\n",
      "Cache miss: 20\n",
      "Cache miss: 21\n",
      "Cache miss: 22\n",
      "Cache miss: 23\n",
      "Cache miss: 24\n",
      "Cache miss: 25\n",
      "Cache miss: 26\n",
      "Cache miss: 27\n",
      "Cache miss: 28\n",
      "Cache miss: 29\n",
      "Cache miss: 30\n",
      "Cache miss: 31\n",
      "Cache miss: 32\n",
      "Cache miss: 33\n",
      "Cache miss: 34\n",
      "Cache miss: 35\n",
      "Cache miss: 36\n",
      "Cache miss: 37\n",
      "Cache miss: 38\n",
      "Cache miss: 39\n",
      "Cache miss: 40\n",
      "Cache miss: 41\n",
      "Cache miss: 42\n",
      "Cache miss: 43\n",
      "Cache miss: 44\n",
      "Cache miss: 45\n",
      "Cache miss: 46\n",
      "Cache miss: 47\n",
      "Cache miss: 48\n",
      "Cache miss: 49\n",
      "Cache miss: 50\n",
      "Cache miss: 51\n",
      "Cache miss: 52\n",
      "Cache miss: 53\n",
      "Cache miss: 54\n",
      "Cache miss: 55\n",
      "Cache miss: 56\n",
      "Cache miss: 57\n",
      "Cache miss: 58\n",
      "Cache miss: 59\n",
      "Cache miss: 60\n",
      "Cache miss: 61\n",
      "Cache miss: 62\n",
      "Cache miss: 63\n",
      "Cache miss: 64\n",
      "Cache miss: 65\n",
      "Cache miss: 66\n",
      "Cache miss: 67\n",
      "Cache miss: 68\n",
      "Cache miss: 69\n",
      "Cache miss: 70\n",
      "Cache miss: 71\n",
      "Cache miss: 72\n",
      "Cache miss: 73\n",
      "Cache miss: 74\n",
      "Cache miss: 75\n",
      "Cache miss: 76\n",
      "Cache miss: 77\n",
      "Cache miss: 78\n",
      "Cache miss: 79\n",
      "Cache miss: 80\n",
      "Cache miss: 81\n",
      "Cache miss: 82\n",
      "Cache miss: 83\n",
      "Cache miss: 84\n",
      "Cache miss: 85\n",
      "Cache miss: 86\n",
      "Cache miss: 87\n",
      "Cache miss: 88\n",
      "Cache miss: 89\n",
      "Cache miss: 90\n",
      "Cache miss: 91\n",
      "Cache miss: 92\n",
      "Cache miss: 93\n",
      "Cache miss: 94\n",
      "Cache miss: 95\n",
      "Cache miss: 96\n",
      "Cache miss: 97\n",
      "Cache miss: 98\n",
      "Cache miss: 99\n",
      "Cache miss: 100\n",
      "Cache miss: 101\n",
      "Cache miss: 102\n",
      "Cache miss: 103\n",
      "Cache miss: 104\n",
      "Cache miss: 105\n",
      "Cache miss: 106\n",
      "Cache miss: 107\n",
      "Cache miss: 108\n",
      "Cache miss: 109\n",
      "Cache miss: 110\n",
      "Cache miss: 111\n",
      "Cache miss: 112\n",
      "Cache miss: 113\n",
      "Cache miss: 114\n",
      "Cache miss: 115\n",
      "Cache miss: 116\n",
      "Cache miss: 117\n",
      "Cache miss: 118\n",
      "Cache miss: 119\n",
      "Cache miss: 120\n",
      "Cache miss: 121\n",
      "Cache miss: 122\n",
      "Cache miss: 123\n",
      "Cache miss: 124\n",
      "Cache miss: 125\n",
      "Cache miss: 126\n",
      "Cache miss: 127\n"
     ]
    }
   ],
   "source": [
    "for x in range(128):\n",
    "    my_func(x)"
   ]
  },
  {
   "cell_type": "code",
   "execution_count": 37,
   "id": "b5473afb",
   "metadata": {},
   "outputs": [],
   "source": [
    "for x in range(128):\n",
    "    my_func(x)"
   ]
  },
  {
   "cell_type": "code",
   "execution_count": 38,
   "id": "2a6f1933",
   "metadata": {},
   "outputs": [
    {
     "name": "stdout",
     "output_type": "stream",
     "text": [
      "Cache miss: 128\n"
     ]
    },
    {
     "data": {
      "text/plain": [
       "16384"
      ]
     },
     "execution_count": 38,
     "metadata": {},
     "output_type": "execute_result"
    }
   ],
   "source": [
    "my_func(128)"
   ]
  },
  {
   "cell_type": "code",
   "execution_count": 39,
   "id": "2280da9e",
   "metadata": {},
   "outputs": [
    {
     "name": "stdout",
     "output_type": "stream",
     "text": [
      "Cache miss: 0\n"
     ]
    },
    {
     "data": {
      "text/plain": [
       "0"
      ]
     },
     "execution_count": 39,
     "metadata": {},
     "output_type": "execute_result"
    }
   ],
   "source": [
    "my_func(0)"
   ]
  },
  {
   "cell_type": "markdown",
   "id": "0f7051ad",
   "metadata": {},
   "source": [
    "So, how can we achieve the same with our own decorator? In our previous example, we had to use `()` to use the default `null` value for `section`:"
   ]
  },
  {
   "cell_type": "code",
   "execution_count": 40,
   "id": "ef534318",
   "metadata": {},
   "outputs": [],
   "source": [
    "@timer()\n",
    "def my_func(a, b):\n",
    "    return a * b"
   ]
  },
  {
   "cell_type": "code",
   "execution_count": 41,
   "id": "59cd1af4",
   "metadata": {},
   "outputs": [
    {
     "name": "stdout",
     "output_type": "stream",
     "text": [
      "null: my_func: 0.00000 seconds\n"
     ]
    },
    {
     "data": {
      "text/plain": [
       "50"
      ]
     },
     "execution_count": 41,
     "metadata": {},
     "output_type": "execute_result"
    }
   ],
   "source": [
    "my_func(5, 10)"
   ]
  },
  {
   "cell_type": "markdown",
   "id": "f4a9991d",
   "metadata": {},
   "source": [
    "What we really want is to use something like this:\n",
    "\n",
    "```python\n",
    "@timer\n",
    "def my_func(a, b):\n",
    "    return a * b\n",
    "```\n",
    "\n",
    "as well as \n",
    "\n",
    "```python\n",
    "@timer(\"section 1\")\n",
    "def my_func(a, b):\n",
    "    return a * b\n",
    "```"
   ]
  },
  {
   "cell_type": "markdown",
   "id": "3ac17f2a",
   "metadata": {},
   "source": [
    "To do this, let's deconstruct the decorator syntax first, to see what's going on:"
   ]
  },
  {
   "cell_type": "markdown",
   "id": "83f4be6c",
   "metadata": {},
   "source": [
    "In the first variant (no arguments, no call):"
   ]
  },
  {
   "cell_type": "markdown",
   "id": "2609c90b",
   "metadata": {},
   "source": [
    "```python\n",
    "def my_func(a, b):\n",
    "    return a * b\n",
    "\n",
    "my_func = timer(my_func)\n",
    "```"
   ]
  },
  {
   "cell_type": "markdown",
   "id": "19efcf57",
   "metadata": {},
   "source": [
    "But in the second variant:"
   ]
  },
  {
   "cell_type": "markdown",
   "id": "2341b357",
   "metadata": {},
   "source": [
    "```python\n",
    "def my_func(a, b):\n",
    "    return a * b\n",
    "\n",
    "my_func = timer(\"section 1\")(my_func)\n",
    "```"
   ]
  },
  {
   "cell_type": "markdown",
   "id": "5b73fd96",
   "metadata": {},
   "source": [
    "As you can see, in the first variant, the argument received by `timer` will be the **function** we want to decorate, and in the second variant it will be the category **string**."
   ]
  },
  {
   "cell_type": "markdown",
   "id": "97114cec",
   "metadata": {},
   "source": [
    "So our decorator **factory** will need to differentiate between these two states, and modify what it returns - either the decorated function (with the default category of `null` set in the closure) for the first variant, or the decorator itself for the second variant (but with the specified `category` value set in the closure).\n",
    "\n",
    "We're going to use the built-in function `callable` to determine if that argument is a function (1st variant), or a string (2nd variant):"
   ]
  },
  {
   "cell_type": "code",
   "execution_count": 42,
   "id": "1673ae56",
   "metadata": {},
   "outputs": [],
   "source": [
    "def timer(func_or_category=None):\n",
    "    def decorator(fn):\n",
    "        @wraps(fn)\n",
    "        def inner(*args, **kwargs):\n",
    "            start = perf_counter()\n",
    "            result = fn(*args, **kwargs)\n",
    "            end = perf_counter()\n",
    "            print(f\"{category}: {fn.__name__}: {end-start:0.5f} seconds\")\n",
    "            return result\n",
    "        return inner\n",
    "        \n",
    "    if callable(func_or_category):\n",
    "        # a callable was passed in (1st variant)\n",
    "        func = func_or_category\n",
    "        category = \"null\"  # this will be bound to the decorator closure\n",
    "        return decorator(func)\n",
    "    elif isinstance(func_or_category, str) or func_or_category is None:\n",
    "        # a string (or None) was passed (2nd variant)\n",
    "        category = func_or_category  or \"null\"  # this will be bound to the decorator closure\n",
    "        return decorator\n",
    "    else:\n",
    "        raise ValueError(\"Expected argument to be a string, a callable, or None.\")\n"
   ]
  },
  {
   "cell_type": "markdown",
   "id": "62f07dfd",
   "metadata": {},
   "source": [
    "Let's give it a try:"
   ]
  },
  {
   "cell_type": "code",
   "execution_count": 43,
   "id": "4b1590b7",
   "metadata": {},
   "outputs": [],
   "source": [
    "@timer(\"section 1\")\n",
    "def my_func(a, b):\n",
    "    return a * b"
   ]
  },
  {
   "cell_type": "code",
   "execution_count": 44,
   "id": "096daefc",
   "metadata": {},
   "outputs": [
    {
     "data": {
      "text/plain": [
       "'my_func'"
      ]
     },
     "execution_count": 44,
     "metadata": {},
     "output_type": "execute_result"
    }
   ],
   "source": [
    "my_func.__name__"
   ]
  },
  {
   "cell_type": "code",
   "execution_count": 45,
   "id": "6b0b3bf6",
   "metadata": {},
   "outputs": [
    {
     "name": "stdout",
     "output_type": "stream",
     "text": [
      "section 1: my_func: 0.00000 seconds\n"
     ]
    },
    {
     "data": {
      "text/plain": [
       "6"
      ]
     },
     "execution_count": 45,
     "metadata": {},
     "output_type": "execute_result"
    }
   ],
   "source": [
    "my_func(2, 3)"
   ]
  },
  {
   "cell_type": "code",
   "execution_count": 46,
   "id": "da5e5289",
   "metadata": {},
   "outputs": [],
   "source": [
    "@timer\n",
    "def my_func(a, b):\n",
    "    return a * b"
   ]
  },
  {
   "cell_type": "code",
   "execution_count": 47,
   "id": "4ee73846",
   "metadata": {},
   "outputs": [
    {
     "data": {
      "text/plain": [
       "'my_func'"
      ]
     },
     "execution_count": 47,
     "metadata": {},
     "output_type": "execute_result"
    }
   ],
   "source": [
    "my_func.__name__"
   ]
  },
  {
   "cell_type": "code",
   "execution_count": 48,
   "id": "bc5918e6",
   "metadata": {},
   "outputs": [
    {
     "name": "stdout",
     "output_type": "stream",
     "text": [
      "null: my_func: 0.00000 seconds\n"
     ]
    },
    {
     "data": {
      "text/plain": [
       "12"
      ]
     },
     "execution_count": 48,
     "metadata": {},
     "output_type": "execute_result"
    }
   ],
   "source": [
    "my_func(3, 4)"
   ]
  },
  {
   "cell_type": "markdown",
   "id": "704f7282",
   "metadata": {},
   "source": [
    "And in fact, we can still use the `()` syntax too if we want (but why would we after going to the trouble of not having to? 😀)"
   ]
  },
  {
   "cell_type": "code",
   "execution_count": 49,
   "id": "2e724636",
   "metadata": {},
   "outputs": [
    {
     "name": "stdout",
     "output_type": "stream",
     "text": [
      "null: my_func: 0.00000 seconds\n"
     ]
    },
    {
     "data": {
      "text/plain": [
       "6"
      ]
     },
     "execution_count": 49,
     "metadata": {},
     "output_type": "execute_result"
    }
   ],
   "source": [
    "@timer()\n",
    "def my_func(a, b):\n",
    "    return a * b\n",
    "\n",
    "my_func(2, 3)"
   ]
  },
  {
   "cell_type": "markdown",
   "id": "4106c1e3",
   "metadata": {},
   "source": [
    "As you can see, we achieved a cleaner syntax, and the code to do so is not particularly over-complicated."
   ]
  },
  {
   "cell_type": "markdown",
   "id": "c77b50ba",
   "metadata": {},
   "source": [
    "Is it worth the trouble? That's entirely up to you!"
   ]
  }
 ],
 "metadata": {
  "kernelspec": {
   "display_name": "Python 3 (ipykernel)",
   "language": "python",
   "name": "python3"
  },
  "language_info": {
   "codemirror_mode": {
    "name": "ipython",
    "version": 3
   },
   "file_extension": ".py",
   "mimetype": "text/x-python",
   "name": "python",
   "nbconvert_exporter": "python",
   "pygments_lexer": "ipython3",
   "version": "3.10.2"
  }
 },
 "nbformat": 4,
 "nbformat_minor": 5
}
