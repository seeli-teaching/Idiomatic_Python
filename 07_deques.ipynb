{
 "cells": [
  {
   "cell_type": "markdown",
   "id": "5d33ea3f",
   "metadata": {},
   "source": [
    "### Idiomatic Python: Using a `deque`"
   ]
  },
  {
   "cell_type": "markdown",
   "id": "f856d477",
   "metadata": {},
   "source": [
    "Far too often I see Python code that inserts or deletes elements at the **front** of a list."
   ]
  },
  {
   "cell_type": "markdown",
   "id": "556fab93",
   "metadata": {},
   "source": [
    "For example code that looks like this:"
   ]
  },
  {
   "cell_type": "code",
   "execution_count": 1,
   "id": "ca2afa73",
   "metadata": {},
   "outputs": [],
   "source": [
    "l = [1, 2, 3, 4, 5]"
   ]
  },
  {
   "cell_type": "code",
   "execution_count": 2,
   "id": "a75a1b37",
   "metadata": {},
   "outputs": [
    {
     "data": {
      "text/plain": [
       "['new element', 1, 2, 3, 4, 5]"
      ]
     },
     "execution_count": 2,
     "metadata": {},
     "output_type": "execute_result"
    }
   ],
   "source": [
    "l.insert(0, \"new element\")\n",
    "l"
   ]
  },
  {
   "cell_type": "markdown",
   "id": "386338d9",
   "metadata": {},
   "source": [
    "or"
   ]
  },
  {
   "cell_type": "code",
   "execution_count": 3,
   "id": "4366ed5f",
   "metadata": {},
   "outputs": [
    {
     "data": {
      "text/plain": [
       "[1, 2, 3, 4, 5]"
      ]
     },
     "execution_count": 3,
     "metadata": {},
     "output_type": "execute_result"
    }
   ],
   "source": [
    "del l[0]\n",
    "l"
   ]
  },
  {
   "cell_type": "markdown",
   "id": "13ee318e",
   "metadata": {},
   "source": [
    "or"
   ]
  },
  {
   "cell_type": "code",
   "execution_count": 4,
   "id": "8e047dcf",
   "metadata": {},
   "outputs": [
    {
     "data": {
      "text/plain": [
       "1"
      ]
     },
     "execution_count": 4,
     "metadata": {},
     "output_type": "execute_result"
    }
   ],
   "source": [
    "l.pop(0)"
   ]
  },
  {
   "cell_type": "markdown",
   "id": "86198493",
   "metadata": {},
   "source": [
    "The problem with inserting or deleting elements at the beginning of a list is that it is very inefficient. Sure, if you do in a few times here and there in your app, there is no need to worry about it - but if you find these methods being used repeatedly in your program, you will see definite performance degradation. And the larger the list, the worse it gets."
   ]
  },
  {
   "cell_type": "markdown",
   "id": "def6bfa7",
   "metadata": {},
   "source": [
    "Appending or removing the last element of a list is not an issue, just from the front.\n",
    "\n",
    "Let's timings for both of these:"
   ]
  },
  {
   "cell_type": "code",
   "execution_count": 5,
   "id": "0d2da60f",
   "metadata": {},
   "outputs": [],
   "source": [
    "from timeit import timeit"
   ]
  },
  {
   "cell_type": "code",
   "execution_count": 6,
   "id": "758c8023",
   "metadata": {},
   "outputs": [
    {
     "data": {
      "text/plain": [
       "7.414582791971043"
      ]
     },
     "execution_count": 6,
     "metadata": {},
     "output_type": "execute_result"
    }
   ],
   "source": [
    "l = list(range(100_000))\n",
    "timeit(\"l.insert(0,0)\", globals=globals(), number=100_000)"
   ]
  },
  {
   "cell_type": "code",
   "execution_count": 7,
   "id": "6482158c",
   "metadata": {},
   "outputs": [
    {
     "data": {
      "text/plain": [
       "0.003216374898329377"
      ]
     },
     "execution_count": 7,
     "metadata": {},
     "output_type": "execute_result"
    }
   ],
   "source": [
    "l = list(range(100_000))\n",
    "timeit(\"l.append(0)\", globals=globals(), number=100_000)"
   ]
  },
  {
   "cell_type": "code",
   "execution_count": 8,
   "id": "46b8d889",
   "metadata": {},
   "outputs": [
    {
     "data": {
      "text/plain": [
       "0.7904178330209106"
      ]
     },
     "execution_count": 8,
     "metadata": {},
     "output_type": "execute_result"
    }
   ],
   "source": [
    "l = list(range(100_000))\n",
    "timeit(\"del l[0]\", globals=globals(), number=100_000)"
   ]
  },
  {
   "cell_type": "code",
   "execution_count": 9,
   "id": "75bd9051",
   "metadata": {},
   "outputs": [
    {
     "data": {
      "text/plain": [
       "0.0028052921406924725"
      ]
     },
     "execution_count": 9,
     "metadata": {},
     "output_type": "execute_result"
    }
   ],
   "source": [
    "l = list(range(100_000))\n",
    "timeit(\"del l[-1]\", globals=globals(), number=100_000)"
   ]
  },
  {
   "cell_type": "markdown",
   "id": "801e02e7",
   "metadata": {},
   "source": [
    "As you can see the difference is significant!"
   ]
  },
  {
   "cell_type": "markdown",
   "id": "bf1c6f90",
   "metadata": {},
   "source": [
    "If you find yourself needing to perform those types of operations, then the correct data structure to use is the `deque`, found in the `collections` module.\n",
    "\n",
    "[https://docs.python.org/3/library/collections.html#collections.deque](https://docs.python.org/3/library/collections.html#collections.deque)"
   ]
  },
  {
   "cell_type": "code",
   "execution_count": 10,
   "id": "6d5c483b",
   "metadata": {},
   "outputs": [],
   "source": [
    "from collections import deque"
   ]
  },
  {
   "cell_type": "markdown",
   "id": "c3b51430",
   "metadata": {},
   "source": [
    "A deque is a very efficient list-like structure for adding/removing elements from either side of it."
   ]
  },
  {
   "cell_type": "markdown",
   "id": "2a296c75",
   "metadata": {},
   "source": [
    "Technically, deleting and inserting elements at the start ot a list has **O(n)** complexity, whereas the deque as **O(1)** complexity."
   ]
  },
  {
   "cell_type": "markdown",
   "id": "e24719d4",
   "metadata": {},
   "source": [
    "By default deques have arbitrary size (just like lists), but can also be declared to be of fixed size.\n",
    "\n",
    "Once a fixed-size deque fills up, any append operation on one end will push an element out of the other end.\n",
    "\n",
    "A deque is essentially a double-ended queue (hence the name deque).\n",
    "\n",
    "We can use indexing to access elements directly in the deque, but be aware that this access can be slower than accessing elements by index in a list (especially in the middle of the deque). Accessing the element at the beginning or the end of a deque however is fast.\n",
    "\n",
    "So there are some tradeoffs, but if you find using a list for queue-like behavior, inserting and deleting elements at the beginning of the list, then a deque is usually the better choice."
   ]
  },
  {
   "cell_type": "markdown",
   "id": "0a91b721",
   "metadata": {},
   "source": [
    "#### Infinite Deques"
   ]
  },
  {
   "cell_type": "markdown",
   "id": "5b2179e5",
   "metadata": {},
   "source": [
    "Let's look at an infinite deque first."
   ]
  },
  {
   "cell_type": "markdown",
   "id": "8a3709bc",
   "metadata": {},
   "source": [
    "We can create an empty deque, or initialize it with some values by passing an iterable to its constructor."
   ]
  },
  {
   "cell_type": "code",
   "execution_count": 11,
   "id": "549e47f7",
   "metadata": {},
   "outputs": [
    {
     "data": {
      "text/plain": [
       "deque([1, 2, 3, 4, 5])"
      ]
     },
     "execution_count": 11,
     "metadata": {},
     "output_type": "execute_result"
    }
   ],
   "source": [
    "dq = deque([1, 2, 3, 4, 5])\n",
    "dq"
   ]
  },
  {
   "cell_type": "markdown",
   "id": "6794d253",
   "metadata": {},
   "source": [
    "And we can access elements by index:"
   ]
  },
  {
   "cell_type": "code",
   "execution_count": 12,
   "id": "2e6d5c7d",
   "metadata": {},
   "outputs": [
    {
     "data": {
      "text/plain": [
       "(1, 2)"
      ]
     },
     "execution_count": 12,
     "metadata": {},
     "output_type": "execute_result"
    }
   ],
   "source": [
    "dq[0], dq[1]"
   ]
  },
  {
   "cell_type": "markdown",
   "id": "4b80791e",
   "metadata": {},
   "source": [
    "We can append to the left or the right of the deque:"
   ]
  },
  {
   "cell_type": "code",
   "execution_count": 13,
   "id": "ac6c0e7d",
   "metadata": {},
   "outputs": [
    {
     "data": {
      "text/plain": [
       "deque([1, 2, 3, 4, 5, 6])"
      ]
     },
     "execution_count": 13,
     "metadata": {},
     "output_type": "execute_result"
    }
   ],
   "source": [
    "dq.append(6)\n",
    "dq"
   ]
  },
  {
   "cell_type": "code",
   "execution_count": 14,
   "id": "d087c173",
   "metadata": {},
   "outputs": [
    {
     "data": {
      "text/plain": [
       "deque([0, 1, 2, 3, 4, 5, 6])"
      ]
     },
     "execution_count": 14,
     "metadata": {},
     "output_type": "execute_result"
    }
   ],
   "source": [
    "dq.appendleft(0)\n",
    "dq"
   ]
  },
  {
   "cell_type": "markdown",
   "id": "f7533117",
   "metadata": {},
   "source": [
    "We can pop elements from the left or the right:"
   ]
  },
  {
   "cell_type": "code",
   "execution_count": 15,
   "id": "21a74de3",
   "metadata": {},
   "outputs": [
    {
     "data": {
      "text/plain": [
       "deque([1, 2, 3, 4, 5, 6])"
      ]
     },
     "execution_count": 15,
     "metadata": {},
     "output_type": "execute_result"
    }
   ],
   "source": [
    "dq.popleft()\n",
    "dq"
   ]
  },
  {
   "cell_type": "code",
   "execution_count": 16,
   "id": "32554cb6",
   "metadata": {},
   "outputs": [
    {
     "data": {
      "text/plain": [
       "deque([1, 2, 3, 4, 5])"
      ]
     },
     "execution_count": 16,
     "metadata": {},
     "output_type": "execute_result"
    }
   ],
   "source": [
    "dq.pop()\n",
    "dq"
   ]
  },
  {
   "cell_type": "markdown",
   "id": "866a9148",
   "metadata": {},
   "source": [
    "We can also extend a deque (just like lists), but we can extend either at the left or the right of the deque:"
   ]
  },
  {
   "cell_type": "code",
   "execution_count": 17,
   "id": "37806ffa",
   "metadata": {},
   "outputs": [
    {
     "data": {
      "text/plain": [
       "deque([1, 2, 3, 4, 5, 'y', 'z'])"
      ]
     },
     "execution_count": 17,
     "metadata": {},
     "output_type": "execute_result"
    }
   ],
   "source": [
    "dq.extend(['y', 'z'])\n",
    "dq"
   ]
  },
  {
   "cell_type": "code",
   "execution_count": 18,
   "id": "852578f1",
   "metadata": {},
   "outputs": [
    {
     "data": {
      "text/plain": [
       "deque(['b', 'a', 1, 2, 3, 4, 5, 'y', 'z'])"
      ]
     },
     "execution_count": 18,
     "metadata": {},
     "output_type": "execute_result"
    }
   ],
   "source": [
    "dq.extendleft(['a', 'b'])\n",
    "dq"
   ]
  },
  {
   "cell_type": "markdown",
   "id": "ab421e07",
   "metadata": {},
   "source": [
    "> Note how the `extendleft` process the iterable we are extending the deque with - each element is added to the left of the list, so the final ordering of the elements in the deque is in reverse order from the order of the elements in the iterable"
   ]
  },
  {
   "cell_type": "markdown",
   "id": "75cbc2f6",
   "metadata": {},
   "source": [
    "You can get the number of elements in a deque using the usual `len()` function:"
   ]
  },
  {
   "cell_type": "code",
   "execution_count": 19,
   "id": "0e28a77f",
   "metadata": {},
   "outputs": [
    {
     "data": {
      "text/plain": [
       "9"
      ]
     },
     "execution_count": 19,
     "metadata": {},
     "output_type": "execute_result"
    }
   ],
   "source": [
    "len(dq)"
   ]
  },
  {
   "cell_type": "markdown",
   "id": "53ed132c",
   "metadata": {},
   "source": [
    "Deques have many other functions available, so check out the Python docs in the link I provided above."
   ]
  },
  {
   "cell_type": "markdown",
   "id": "c07f0ed0",
   "metadata": {},
   "source": [
    "#### Finite Deques"
   ]
  },
  {
   "cell_type": "markdown",
   "id": "da1da0ae",
   "metadata": {},
   "source": [
    "Next, let's look at bounded deques - the methods available are the same, but the behavior is slightly different because the deque now has a max size, after which inserting elements at the left/right of the deque will cause elements to drop off from the other end (so very much like a bounded queue, except the dequeue works in both directions)."
   ]
  },
  {
   "cell_type": "code",
   "execution_count": 20,
   "id": "23938530",
   "metadata": {},
   "outputs": [
    {
     "data": {
      "text/plain": [
       "deque([1, 2, 3, 4, 5], maxlen=5)"
      ]
     },
     "execution_count": 20,
     "metadata": {},
     "output_type": "execute_result"
    }
   ],
   "source": [
    "dq = deque([1, 2, 3, 4, 5], maxlen=5)\n",
    "dq"
   ]
  },
  {
   "cell_type": "code",
   "execution_count": 21,
   "id": "0ce1b66f",
   "metadata": {},
   "outputs": [
    {
     "data": {
      "text/plain": [
       "deque([0, 1, 2, 3, 4], maxlen=5)"
      ]
     },
     "execution_count": 21,
     "metadata": {},
     "output_type": "execute_result"
    }
   ],
   "source": [
    "dq.appendleft(0)\n",
    "dq"
   ]
  },
  {
   "cell_type": "markdown",
   "id": "1f4ab0ff",
   "metadata": {},
   "source": [
    "As you can see, the element `5` dropped off the right of the deque."
   ]
  },
  {
   "cell_type": "code",
   "execution_count": 22,
   "id": "7405a7d7",
   "metadata": {},
   "outputs": [
    {
     "data": {
      "text/plain": [
       "deque([1, 2, 3, 4, 5], maxlen=5)"
      ]
     },
     "execution_count": 22,
     "metadata": {},
     "output_type": "execute_result"
    }
   ],
   "source": [
    "dq.append(5)\n",
    "dq"
   ]
  },
  {
   "cell_type": "markdown",
   "id": "b3f5559f",
   "metadata": {},
   "source": [
    "As you can see, the first element dropped off when we added `5` to the right of the deque."
   ]
  },
  {
   "cell_type": "markdown",
   "id": "cc946a2e",
   "metadata": {},
   "source": [
    "#### Timings"
   ]
  },
  {
   "cell_type": "markdown",
   "id": "31719b04",
   "metadata": {},
   "source": [
    "Let's look at some timings to compare the operations on the left/right ends of a deque and a list."
   ]
  },
  {
   "cell_type": "code",
   "execution_count": 23,
   "id": "edc95e09",
   "metadata": {},
   "outputs": [
    {
     "data": {
      "text/plain": [
       "0.5150752498302609"
      ]
     },
     "execution_count": 23,
     "metadata": {},
     "output_type": "execute_result"
    }
   ],
   "source": [
    "l = list(range(100_000))\n",
    "timeit(\"l.insert(0,0)\", globals=globals(), number=10_000)"
   ]
  },
  {
   "cell_type": "code",
   "execution_count": 24,
   "id": "cf0ff9d0",
   "metadata": {},
   "outputs": [
    {
     "data": {
      "text/plain": [
       "0.00041258311830461025"
      ]
     },
     "execution_count": 24,
     "metadata": {},
     "output_type": "execute_result"
    }
   ],
   "source": [
    "dq = deque(range(100_000))\n",
    "timeit(\"dq.appendleft(0)\", globals=globals(), number=10_000)"
   ]
  },
  {
   "cell_type": "markdown",
   "id": "84888646",
   "metadata": {},
   "source": [
    "As you can see, a dequeue is substantially better for inserting at the left than a list.\n",
    "\n",
    "For appending to the right, there is no difference:"
   ]
  },
  {
   "cell_type": "code",
   "execution_count": 25,
   "id": "1c7625d5",
   "metadata": {},
   "outputs": [
    {
     "data": {
      "text/plain": [
       "0.0003307501319795847"
      ]
     },
     "execution_count": 25,
     "metadata": {},
     "output_type": "execute_result"
    }
   ],
   "source": [
    "l = list(range(100_000))\n",
    "timeit(\"l.append(0)\", globals=globals(), number=10_000)"
   ]
  },
  {
   "cell_type": "code",
   "execution_count": 26,
   "id": "6566c0b1",
   "metadata": {},
   "outputs": [
    {
     "data": {
      "text/plain": [
       "0.00040837517008185387"
      ]
     },
     "execution_count": 26,
     "metadata": {},
     "output_type": "execute_result"
    }
   ],
   "source": [
    "dq = deque(range(100_000))\n",
    "timeit(\"dq.append(0)\", globals=globals(), number=10_000)"
   ]
  },
  {
   "cell_type": "markdown",
   "id": "cd71206b",
   "metadata": {},
   "source": [
    "And same happens with deleting an element from the left and the right:"
   ]
  },
  {
   "cell_type": "code",
   "execution_count": 27,
   "id": "327ffe78",
   "metadata": {},
   "outputs": [
    {
     "data": {
      "text/plain": [
       "0.15366895799525082"
      ]
     },
     "execution_count": 27,
     "metadata": {},
     "output_type": "execute_result"
    }
   ],
   "source": [
    "l = list(range(100_000))\n",
    "timeit(\"l.pop(0)\", globals=globals(), number=10_000)"
   ]
  },
  {
   "cell_type": "code",
   "execution_count": 28,
   "id": "35083769",
   "metadata": {},
   "outputs": [
    {
     "data": {
      "text/plain": [
       "0.0004180839750915766"
      ]
     },
     "execution_count": 28,
     "metadata": {},
     "output_type": "execute_result"
    }
   ],
   "source": [
    "dq = deque(range(100_000))\n",
    "timeit(\"dq.popleft()\", globals=globals(), number=10_000)"
   ]
  },
  {
   "cell_type": "code",
   "execution_count": 29,
   "id": "8e031604",
   "metadata": {},
   "outputs": [
    {
     "data": {
      "text/plain": [
       "0.00037158397026360035"
      ]
     },
     "execution_count": 29,
     "metadata": {},
     "output_type": "execute_result"
    }
   ],
   "source": [
    "l = list(range(100_000))\n",
    "timeit(\"l.pop(-1)\", globals=globals(), number=10_000)"
   ]
  },
  {
   "cell_type": "code",
   "execution_count": 30,
   "id": "2391abfb",
   "metadata": {},
   "outputs": [
    {
     "data": {
      "text/plain": [
       "0.0004200420808047056"
      ]
     },
     "execution_count": 30,
     "metadata": {},
     "output_type": "execute_result"
    }
   ],
   "source": [
    "dq = deque(range(100_000))\n",
    "timeit(\"dq.pop()\", globals=globals(), number=10_000)"
   ]
  },
  {
   "cell_type": "markdown",
   "id": "180a0d5f",
   "metadata": {},
   "source": [
    "#### Conclusion"
   ]
  },
  {
   "cell_type": "markdown",
   "id": "bb12ef1d",
   "metadata": {},
   "source": [
    "The takeaway here is to always use the most appropriate data structure for your particular circumstance. And if you need to continuously insert/delete elements from the left of a list, you should really look at using a deque instead - the performance improvements can be substantial.\n",
    "\n",
    "If you find that you really need slicing or direct access to elements inside the deque (not the left or right elements), then you should careful time your code and see which structure will perform better. Or you could even have hybrid approaches, where you can perform the insertions/deletions on your deque in a first phase, then, assuming the dequeue is not stable, extract the dequeue elements as a list, and in a second phase do your slicing and index lookups."
   ]
  },
  {
   "cell_type": "markdown",
   "id": "9671c1cf",
   "metadata": {},
   "source": [
    "Getting a list from deque elements is simple - since a dequeu is an iterable is you can simply pass the deque to the `list()` constructor:"
   ]
  },
  {
   "cell_type": "code",
   "execution_count": 31,
   "id": "50467121",
   "metadata": {},
   "outputs": [
    {
     "data": {
      "text/plain": [
       "(list, [1, 2, 3, 4, 5])"
      ]
     },
     "execution_count": 31,
     "metadata": {},
     "output_type": "execute_result"
    }
   ],
   "source": [
    "dq = deque([1, 2, 3, 4, 5])\n",
    "l = list(dq)\n",
    "type(l), l"
   ]
  },
  {
   "cell_type": "code",
   "execution_count": null,
   "id": "d936b729",
   "metadata": {},
   "outputs": [],
   "source": []
  }
 ],
 "metadata": {
  "kernelspec": {
   "display_name": "Python 3 (ipykernel)",
   "language": "python",
   "name": "python3"
  },
  "language_info": {
   "codemirror_mode": {
    "name": "ipython",
    "version": 3
   },
   "file_extension": ".py",
   "mimetype": "text/x-python",
   "name": "python",
   "nbconvert_exporter": "python",
   "pygments_lexer": "ipython3",
   "version": "3.10.2"
  }
 },
 "nbformat": 4,
 "nbformat_minor": 5
}
