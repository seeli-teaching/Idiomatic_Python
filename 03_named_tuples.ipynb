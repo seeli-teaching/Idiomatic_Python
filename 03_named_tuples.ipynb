{
 "cells": [
  {
   "cell_type": "markdown",
   "id": "38036fa5",
   "metadata": {},
   "source": [
    "### Idiomatic Python - Using Named Tuples for Function Return Values"
   ]
  },
  {
   "cell_type": "markdown",
   "id": "d2e92f9a",
   "metadata": {},
   "source": [
    "Remember that although tuples are often explained as \"immutable lists\", I think they are in fact more appropriately defined as data structures."
   ]
  },
  {
   "cell_type": "markdown",
   "id": "dcb61d25",
   "metadata": {},
   "source": [
    "What I mean is that we often use tuples as a way to group a certain number of related objects together, each of which have a specific meaning, not just a list of values. And often we use the same structure with multiple \"instances\" of that structure. And that's where named tuples come in."
   ]
  },
  {
   "cell_type": "markdown",
   "id": "fbd9bb9e",
   "metadata": {},
   "source": [
    "The `namedtuple` is essentially a  little code generator that gives us the ability to combine the efficiency of tuples, along with the ease of naming the elements of the tuple - which is exactly in line with the structure view of tuples."
   ]
  },
  {
   "cell_type": "markdown",
   "id": "b2e07afe",
   "metadata": {},
   "source": [
    "Before I show you the Pythonic way of returning multiple variables from a function, let's do a quick refresher on `namedtuple`."
   ]
  },
  {
   "cell_type": "markdown",
   "id": "645d8f03",
   "metadata": {},
   "source": [
    "To use named tuples, we first have to define the structure of the tuple:"
   ]
  },
  {
   "cell_type": "code",
   "execution_count": 1,
   "id": "666ec451",
   "metadata": {},
   "outputs": [],
   "source": [
    "from collections import namedtuple\n",
    "\n",
    "Coordinates = namedtuple(\"Coordinates\", \"latitude, longitude\")"
   ]
  },
  {
   "cell_type": "markdown",
   "id": "a7dc43dd",
   "metadata": {},
   "source": [
    "Now, we can create as many instances of that structure this way:"
   ]
  },
  {
   "cell_type": "code",
   "execution_count": 2,
   "id": "5e892cde",
   "metadata": {},
   "outputs": [],
   "source": [
    "london = Coordinates(51.51, -0.12)"
   ]
  },
  {
   "cell_type": "markdown",
   "id": "fb47ea53",
   "metadata": {},
   "source": [
    "or, better yet, using named arguments:"
   ]
  },
  {
   "cell_type": "code",
   "execution_count": 3,
   "id": "bfe7ab1c",
   "metadata": {},
   "outputs": [],
   "source": [
    "paris = Coordinates(latitude=48.86, longitude=2.35)"
   ]
  },
  {
   "cell_type": "markdown",
   "id": "05a54947",
   "metadata": {},
   "source": [
    "The additional benefit of using named arguments is that we lower the risk of introducing a bug if we inadvertently switch the position of latitude and longitude:"
   ]
  },
  {
   "cell_type": "code",
   "execution_count": 4,
   "id": "2637e186",
   "metadata": {},
   "outputs": [],
   "source": [
    "paris = Coordinates(longitude=2.35, latitude=48.86)"
   ]
  },
  {
   "cell_type": "markdown",
   "id": "b3c78e14",
   "metadata": {},
   "source": [
    "Now, these namedtuple instances behave like regular tuples:"
   ]
  },
  {
   "cell_type": "code",
   "execution_count": 5,
   "id": "bcbff157",
   "metadata": {},
   "outputs": [
    {
     "data": {
      "text/plain": [
       "(48.86, -0.12)"
      ]
     },
     "execution_count": 5,
     "metadata": {},
     "output_type": "execute_result"
    }
   ],
   "source": [
    "paris[0], london[1]"
   ]
  },
  {
   "cell_type": "markdown",
   "id": "fdae3b52",
   "metadata": {},
   "source": [
    "And in fact they **are** tuples (the namedtuples inherit from the `tuple` class):"
   ]
  },
  {
   "cell_type": "code",
   "execution_count": 6,
   "id": "ff7f9e8d",
   "metadata": {},
   "outputs": [
    {
     "data": {
      "text/plain": [
       "True"
      ]
     },
     "execution_count": 6,
     "metadata": {},
     "output_type": "execute_result"
    }
   ],
   "source": [
    "isinstance(paris, tuple)"
   ]
  },
  {
   "cell_type": "markdown",
   "id": "918727f2",
   "metadata": {},
   "source": [
    "But, they also allow accessing the structure based on the names we specified:"
   ]
  },
  {
   "cell_type": "code",
   "execution_count": 7,
   "id": "4d674b01",
   "metadata": {},
   "outputs": [
    {
     "data": {
      "text/plain": [
       "(48.86, -0.12)"
      ]
     },
     "execution_count": 7,
     "metadata": {},
     "output_type": "execute_result"
    }
   ],
   "source": [
    "paris.latitude, london.longitude"
   ]
  },
  {
   "cell_type": "markdown",
   "id": "59f6fc61",
   "metadata": {},
   "source": [
    "Again, this helps reduce the risk of reading the wrong value (is latitude the first or second element of the tuple?)"
   ]
  },
  {
   "cell_type": "markdown",
   "id": "13a05443",
   "metadata": {},
   "source": [
    "So, the point I am trying to make here, is that named tuples are an efficient way of creating small data structures that allow us to use names to both specify and read back the values in the structure - reduces the risk of making mistakes for both reading and writing the data, and also allows IDEs to provide auto-completion."
   ]
  },
  {
   "cell_type": "markdown",
   "id": "26c03da2",
   "metadata": {},
   "source": [
    "Try this, even in Jupyter:\n",
    "\n",
    "```python\n",
    "london.\n",
    "```\n",
    "\n",
    "then press the `Tab` key, and you get the properties of the named tuple, including our field names."
   ]
  },
  {
   "cell_type": "markdown",
   "id": "eb3dc71f",
   "metadata": {},
   "source": [
    "One of the main benefits of using named tuples is when returning multiple values from a function."
   ]
  },
  {
   "cell_type": "markdown",
   "id": "a0bc43a2",
   "metadata": {},
   "source": [
    "In Python, functions can return multiple values by returning a tuple of these values."
   ]
  },
  {
   "cell_type": "markdown",
   "id": "cbd2e348",
   "metadata": {},
   "source": [
    "Let's take a look at this example, which calculates and returns the minimum and maximum values in a list:"
   ]
  },
  {
   "cell_type": "code",
   "execution_count": 8,
   "id": "9654b2f2",
   "metadata": {},
   "outputs": [],
   "source": [
    "def min_max(lst: list[int]) -> tuple:\n",
    "    min_ = min(lst)\n",
    "    max_ = max(lst)\n",
    "    return min_, max_"
   ]
  },
  {
   "cell_type": "markdown",
   "id": "d58e6399",
   "metadata": {},
   "source": [
    "When we call this function:"
   ]
  },
  {
   "cell_type": "code",
   "execution_count": 9,
   "id": "7b4ef43a",
   "metadata": {},
   "outputs": [
    {
     "name": "stdout",
     "output_type": "stream",
     "text": [
      "(-5, 20)\n"
     ]
    }
   ],
   "source": [
    "l = [1, 3, 2, 0, 20, -5]\n",
    "results = min_max(l)\n",
    "print(results)"
   ]
  },
  {
   "cell_type": "markdown",
   "id": "e7ed5c21",
   "metadata": {},
   "source": [
    "we get the result back as a tuple, which we could just unpack directly:"
   ]
  },
  {
   "cell_type": "code",
   "execution_count": 10,
   "id": "f3bb5b5a",
   "metadata": {},
   "outputs": [
    {
     "name": "stdout",
     "output_type": "stream",
     "text": [
      "max=-5, min=20\n"
     ]
    }
   ],
   "source": [
    "max_, min_ = min_max(l)\n",
    "print(f\"max={max_}, min={min_}\")"
   ]
  },
  {
   "cell_type": "markdown",
   "id": "dc984a0a",
   "metadata": {},
   "source": [
    "Ah, so I unpacked the results into the wrong variable names - and that's always the problem - every time we unpack the results of a regular tuple returned by a call, we need to know the specific order in which the values are assembled into teh returned tuple."
   ]
  },
  {
   "cell_type": "markdown",
   "id": "c76bae17",
   "metadata": {},
   "source": [
    "The Pythonic way of solving this potential issue, is to use a named tuple:"
   ]
  },
  {
   "cell_type": "code",
   "execution_count": 11,
   "id": "275704e8",
   "metadata": {},
   "outputs": [],
   "source": [
    "MinMax = namedtuple(\"MinMax\", \"min, max\")\n",
    "\n",
    "def min_max(lst: list[int]) -> MinMax:\n",
    "    min_ = min(lst)\n",
    "    max_ = max(lst)\n",
    "    return MinMax(min=min_, max=max_)"
   ]
  },
  {
   "cell_type": "markdown",
   "id": "a65212e9",
   "metadata": {},
   "source": [
    "And now we can use field names when retrieving the values (and even use auto completion):"
   ]
  },
  {
   "cell_type": "code",
   "execution_count": 12,
   "id": "dabcf20d",
   "metadata": {},
   "outputs": [
    {
     "name": "stdout",
     "output_type": "stream",
     "text": [
      "min=-5, max=20\n"
     ]
    }
   ],
   "source": [
    "minmax = min_max(l)\n",
    "\n",
    "print(f\"min={minmax.min}, max={minmax.max}\")"
   ]
  },
  {
   "cell_type": "markdown",
   "id": "3bf0548a",
   "metadata": {},
   "source": [
    "Which is much more readable, and reduces the risk of swapping the results than this:"
   ]
  },
  {
   "cell_type": "code",
   "execution_count": 13,
   "id": "f4e77473",
   "metadata": {},
   "outputs": [
    {
     "name": "stdout",
     "output_type": "stream",
     "text": [
      "min=-5, max=20\n"
     ]
    }
   ],
   "source": [
    "minmax = min_max(l)\n",
    "\n",
    "print(f\"min={minmax[0]}, max={minmax[1]}\")"
   ]
  },
  {
   "cell_type": "markdown",
   "id": "b7fad863",
   "metadata": {},
   "source": [
    "So, use named tuples when returning multiple values from a function - reduces the risk of introducing bugs, and makes the code much clearer and explicit."
   ]
  },
  {
   "cell_type": "markdown",
   "id": "636b8dc4",
   "metadata": {},
   "source": [
    "A question you are probably asking yourself, is whether there is a performance penalty, and if so, how large. (just a reminder, don't fall into the premature optimization trap!!).\n",
    "\n",
    "So, let's investigate."
   ]
  },
  {
   "cell_type": "code",
   "execution_count": 14,
   "id": "b2f6ab09",
   "metadata": {},
   "outputs": [],
   "source": [
    "import random\n",
    "from timeit import timeit"
   ]
  },
  {
   "cell_type": "code",
   "execution_count": 15,
   "id": "8efaf5e7",
   "metadata": {},
   "outputs": [],
   "source": [
    "def min_max(lst):\n",
    "    return min(lst), max(lst)\n",
    "\n",
    "def min_max_named(lst):\n",
    "    return MinMax(min=min(lst), max=max(lst))\n",
    "\n",
    "def generate_lists(row_count, col_count):\n",
    "    random.seed(0)\n",
    "    return [\n",
    "        [\n",
    "            random.randint(-5_000, 5_000) for _ in range(col_count)\n",
    "        ] for _ in range(row_count)\n",
    "    ]"
   ]
  },
  {
   "cell_type": "code",
   "execution_count": 16,
   "id": "f72be09d",
   "metadata": {},
   "outputs": [
    {
     "name": "stdout",
     "output_type": "stream",
     "text": [
      "[[1311, 1890, -4337, -758, 3376],\n",
      " [2961, 1634, -31, 2808, 866],\n",
      " [4558, -1422, 3268, -2719, -383],\n",
      " [-2711, -3447, -896, 3725, 4861],\n",
      " [-2593, 81, -3382, -3792, 409]]\n"
     ]
    }
   ],
   "source": [
    "from pprint import pprint\n",
    "\n",
    "lists = generate_lists(5, 5)\n",
    "pprint(lists)"
   ]
  },
  {
   "cell_type": "markdown",
   "id": "1ffcf5cb",
   "metadata": {},
   "source": [
    "Next, let's define some code that will call `min_max` and `min_max_named`:"
   ]
  },
  {
   "cell_type": "code",
   "execution_count": 17,
   "id": "81446adc",
   "metadata": {},
   "outputs": [],
   "source": [
    "def all_min_max(lists):\n",
    "    for lst in lists:\n",
    "        yield min_max(lst)"
   ]
  },
  {
   "cell_type": "code",
   "execution_count": 18,
   "id": "8b03b2e4",
   "metadata": {},
   "outputs": [],
   "source": [
    "def all_min_max_named(lists):\n",
    "    for lst in lists:\n",
    "        yield min_max_named(lst)"
   ]
  },
  {
   "cell_type": "code",
   "execution_count": 19,
   "id": "2e9ff306",
   "metadata": {},
   "outputs": [
    {
     "data": {
      "text/plain": [
       "[(-4337, 3376), (-31, 2961), (-2719, 4558), (-3447, 4861), (-3792, 409)]"
      ]
     },
     "execution_count": 19,
     "metadata": {},
     "output_type": "execute_result"
    }
   ],
   "source": [
    "list(all_min_max(lists))"
   ]
  },
  {
   "cell_type": "code",
   "execution_count": 20,
   "id": "94a2c0af",
   "metadata": {},
   "outputs": [
    {
     "data": {
      "text/plain": [
       "[MinMax(min=-4337, max=3376),\n",
       " MinMax(min=-31, max=2961),\n",
       " MinMax(min=-2719, max=4558),\n",
       " MinMax(min=-3447, max=4861),\n",
       " MinMax(min=-3792, max=409)]"
      ]
     },
     "execution_count": 20,
     "metadata": {},
     "output_type": "execute_result"
    }
   ],
   "source": [
    "list(all_min_max_named(lists))"
   ]
  },
  {
   "cell_type": "markdown",
   "id": "48591235",
   "metadata": {},
   "source": [
    "Now let's time using a named tuple vs a regular tuple for the function return value:"
   ]
  },
  {
   "cell_type": "code",
   "execution_count": 21,
   "id": "59506089",
   "metadata": {},
   "outputs": [],
   "source": [
    "lists = generate_lists(row_count=100, col_count=10_000)"
   ]
  },
  {
   "cell_type": "code",
   "execution_count": 22,
   "id": "f55853a4",
   "metadata": {},
   "outputs": [
    {
     "data": {
      "text/plain": [
       "1.9665906250011176"
      ]
     },
     "execution_count": 22,
     "metadata": {},
     "output_type": "execute_result"
    }
   ],
   "source": [
    "timeit(\"list(all_min_max(lists))\", globals=globals(), number=100)"
   ]
  },
  {
   "cell_type": "code",
   "execution_count": 23,
   "id": "2b4165e0",
   "metadata": {},
   "outputs": [
    {
     "data": {
      "text/plain": [
       "1.9606279579456896"
      ]
     },
     "execution_count": 23,
     "metadata": {},
     "output_type": "execute_result"
    }
   ],
   "source": [
    "timeit(\"list(all_min_max_named(lists))\", globals=globals(), number=100)"
   ]
  },
  {
   "cell_type": "markdown",
   "id": "5868b452",
   "metadata": {},
   "source": [
    "So, looks like there isn't much of a performance hit."
   ]
  },
  {
   "cell_type": "markdown",
   "id": "3d70bed6",
   "metadata": {},
   "source": [
    "What about reading the values?"
   ]
  },
  {
   "cell_type": "code",
   "execution_count": 24,
   "id": "1049ebde",
   "metadata": {},
   "outputs": [],
   "source": [
    "def read_values_by_index(min_max_results: list[tuple | MinMax]):\n",
    "    for result in min_max_results:\n",
    "        yield result[0], result[1]\n",
    "        \n",
    "def read_values_unpacking(min_max_results: list[tuple | MinMax]):\n",
    "    for min_, max_ in min_max_results:\n",
    "        yield min_, max_\n",
    "        \n",
    "def read_values_by_name(min_max_named_results: list[MinMax]):\n",
    "    for result in min_max_named_results:\n",
    "        yield result.min, result.max\n"
   ]
  },
  {
   "cell_type": "markdown",
   "id": "5d885461",
   "metadata": {},
   "source": [
    "Let's create our results lists first:"
   ]
  },
  {
   "cell_type": "code",
   "execution_count": 25,
   "id": "126feb1d",
   "metadata": {},
   "outputs": [],
   "source": [
    "lists = generate_lists(row_count=1, col_count=100)\n",
    "results = list(all_min_max(lists))\n",
    "results_named = list(all_min_max_named(lists))"
   ]
  },
  {
   "cell_type": "code",
   "execution_count": 26,
   "id": "52f7b91b",
   "metadata": {},
   "outputs": [
    {
     "data": {
      "text/plain": [
       "[(-4982, 4882)]"
      ]
     },
     "execution_count": 26,
     "metadata": {},
     "output_type": "execute_result"
    }
   ],
   "source": [
    "results"
   ]
  },
  {
   "cell_type": "markdown",
   "id": "6c899f1f",
   "metadata": {},
   "source": [
    "And let's time things:"
   ]
  },
  {
   "cell_type": "code",
   "execution_count": 27,
   "id": "d0ffedb5",
   "metadata": {},
   "outputs": [],
   "source": [
    "number = 10_000_000"
   ]
  },
  {
   "cell_type": "code",
   "execution_count": 28,
   "id": "e7257eed",
   "metadata": {},
   "outputs": [],
   "source": [
    "standard_tuple_by_index = timeit(\n",
    "    \"list(read_values_by_index(results))\", \n",
    "    globals=globals(), \n",
    "    number=number\n",
    ")\n",
    "\n",
    "named_tuple_by_index = timeit(\n",
    "    \"list(read_values_by_index(results_named))\", \n",
    "    globals=globals(), \n",
    "    number=number\n",
    ")\n",
    "\n",
    "standard_tuple_unpacking = timeit(\n",
    "    \"list(read_values_unpacking(results))\", \n",
    "    globals=globals(), \n",
    "    number=number\n",
    ")\n",
    "\n",
    "named_tuple_unpacking = timeit(\n",
    "    \"list(read_values_unpacking(results_named))\", \n",
    "    globals=globals(), \n",
    "    number=number\n",
    ")\n",
    "\n",
    "named_tuple_by_name = timeit(\n",
    "    \"list(read_values_by_name(results_named))\", \n",
    "    globals=globals(), \n",
    "    number=number\n",
    ")"
   ]
  },
  {
   "cell_type": "code",
   "execution_count": 29,
   "id": "eacb3f0c",
   "metadata": {},
   "outputs": [
    {
     "name": "stdout",
     "output_type": "stream",
     "text": [
      "standard_tuple_by_index=1.735\n",
      "named_tuple_by_index=1.772\n",
      "standard_tuple_unpacking=1.693\n",
      "named_tuple_unpacking=1.844\n",
      "named_tuple_by_name=1.990\n"
     ]
    }
   ],
   "source": [
    "print(f\"{standard_tuple_by_index=:.3f}\")\n",
    "print(f\"{named_tuple_by_index=:.3f}\")\n",
    "print(f\"{standard_tuple_unpacking=:.3f}\")\n",
    "print(f\"{named_tuple_unpacking=:.3f}\")\n",
    "print(f\"{named_tuple_by_name=:.3f}\")"
   ]
  },
  {
   "cell_type": "markdown",
   "id": "07b13a99",
   "metadata": {},
   "source": [
    "As you can see, over `10_000_000` iterations, although we see using named tuples to read information back is slower, it is relatively negligible."
   ]
  },
  {
   "cell_type": "markdown",
   "id": "7d4dbbb6",
   "metadata": {},
   "source": [
    "So, yes, named tuples do have a slight performance penalty, but unless that area of the code is bottlenecked by the use of named tuple over standard tuples, prefer named tuples for readability and reducing the risk of bugs."
   ]
  },
  {
   "cell_type": "code",
   "execution_count": null,
   "id": "eafc6b8b",
   "metadata": {},
   "outputs": [],
   "source": []
  }
 ],
 "metadata": {
  "kernelspec": {
   "display_name": "Python 3 (ipykernel)",
   "language": "python",
   "name": "python3"
  },
  "language_info": {
   "codemirror_mode": {
    "name": "ipython",
    "version": 3
   },
   "file_extension": ".py",
   "mimetype": "text/x-python",
   "name": "python",
   "nbconvert_exporter": "python",
   "pygments_lexer": "ipython3",
   "version": "3.10.2"
  }
 },
 "nbformat": 4,
 "nbformat_minor": 5
}
