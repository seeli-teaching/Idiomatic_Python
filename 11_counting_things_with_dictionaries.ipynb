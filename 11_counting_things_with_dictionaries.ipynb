{
 "cells": [
  {
   "cell_type": "markdown",
   "id": "8ad261cb",
   "metadata": {},
   "source": [
    "### Idiomatic Python - Counting Things with Dictionaries"
   ]
  },
  {
   "cell_type": "markdown",
   "id": "3f884b6c",
   "metadata": {},
   "source": [
    "Often we have to count things up, and we use a dictionary to store the name of what we are counting (as the key), and the number of times we counted it (as the value)."
   ]
  },
  {
   "cell_type": "markdown",
   "id": "5aa7fa0a",
   "metadata": {},
   "source": [
    "For example, suppose we have some text, and we want to count the number of times each character occurs in that text.\n",
    "\n",
    "I'll be using the `faker` library to generate some random text (I cover `faker` in another video in this channel)."
   ]
  },
  {
   "cell_type": "code",
   "execution_count": 1,
   "id": "1cf8f9bd",
   "metadata": {},
   "outputs": [
    {
     "data": {
      "text/plain": [
       "'Aliquam vitae laborum ullam rerum voluptas. Nesciunt tenetur magnam eligendi quidem nulla. Voluptates minus provident nobis corporis. Quas tempore placeat iusto. Explicabo et odit dignissimos. Labore sint ea rem molestias accusamus quaerat. Quae quos numquam nostrum repudiandae ex. Provident aperiam totam dolore rem consequuntur. Ipsum aspernatur eum magni ut autem mollitia. Molestias repellendus molestiae vitae. Molestias enim at reiciendis et doloribus delectus reprehenderit. Nostrum omnis labore. Perspiciatis consectetur corrupti aliquam. Tempore unde molestiae hic. Eius repellat sed tempora nihil veniam neque. Laudantium odit praesentium voluptatem facere eveniet beatae. Occaecati sapiente doloribus quasi blanditiis dolore recusandae ex. Aut corporis possimus aliquid. Odio vel nobis asperiores commodi deleniti rerum. Hic fuga voluptatem alias. Deserunt voluptas quaerat.'"
      ]
     },
     "execution_count": 1,
     "metadata": {},
     "output_type": "execute_result"
    }
   ],
   "source": [
    "from faker import Faker\n",
    "\n",
    "Faker.seed(0)\n",
    "faker = Faker(['la'])\n",
    "\n",
    "text = faker.paragraph(nb_sentences=20)\n",
    "text"
   ]
  },
  {
   "cell_type": "markdown",
   "id": "13f4241f",
   "metadata": {},
   "source": [
    "So how can we approach this?"
   ]
  },
  {
   "cell_type": "markdown",
   "id": "7a72f2d5",
   "metadata": {},
   "source": [
    "Here's one way I sometimes see it done:"
   ]
  },
  {
   "cell_type": "code",
   "execution_count": 2,
   "id": "f0f67c24",
   "metadata": {},
   "outputs": [
    {
     "data": {
      "text/plain": [
       "{'A': 2,\n",
       " 'l': 38,\n",
       " 'i': 69,\n",
       " 'q': 11,\n",
       " 'u': 56,\n",
       " 'a': 68,\n",
       " 'm': 41,\n",
       " ' ': 113,\n",
       " 'v': 11,\n",
       " 't': 58,\n",
       " 'e': 92,\n",
       " 'b': 10,\n",
       " 'o': 51,\n",
       " 'r': 48,\n",
       " 'p': 26,\n",
       " 's': 54,\n",
       " '.': 21,\n",
       " 'N': 2,\n",
       " 'c': 22,\n",
       " 'n': 37,\n",
       " 'g': 5,\n",
       " 'd': 26,\n",
       " 'V': 1,\n",
       " 'Q': 2,\n",
       " 'E': 2,\n",
       " 'x': 3,\n",
       " 'L': 2,\n",
       " 'P': 2,\n",
       " 'I': 1,\n",
       " 'M': 2,\n",
       " 'h': 3,\n",
       " 'T': 1,\n",
       " 'f': 2,\n",
       " 'O': 2,\n",
       " 'H': 1,\n",
       " 'D': 1}"
      ]
     },
     "execution_count": 2,
     "metadata": {},
     "output_type": "execute_result"
    }
   ],
   "source": [
    "count_1 = {}\n",
    "for ch in text:\n",
    "    if ch in count_1:\n",
    "        count_1[ch] += 1\n",
    "    else:\n",
    "        count_1[ch] = 1\n",
    "count_1"
   ]
  },
  {
   "cell_type": "markdown",
   "id": "3a9354f5",
   "metadata": {},
   "source": [
    "Now let's work on improving this and making the code more Pythonic."
   ]
  },
  {
   "cell_type": "markdown",
   "id": "26d60945",
   "metadata": {},
   "source": [
    "First let's get rid of that `if` statement."
   ]
  },
  {
   "cell_type": "code",
   "execution_count": 3,
   "id": "5774a972",
   "metadata": {},
   "outputs": [],
   "source": [
    "count_2 = {}\n",
    "for ch in text:\n",
    "    count_2[ch] = count_2.setdefault(ch, 0) + 1"
   ]
  },
  {
   "cell_type": "markdown",
   "id": "d584af3d",
   "metadata": {},
   "source": [
    "And let's make sure our results match:"
   ]
  },
  {
   "cell_type": "code",
   "execution_count": 4,
   "id": "94dab42d",
   "metadata": {},
   "outputs": [
    {
     "data": {
      "text/plain": [
       "True"
      ]
     },
     "execution_count": 4,
     "metadata": {},
     "output_type": "execute_result"
    }
   ],
   "source": [
    "count_1 == count_2"
   ]
  },
  {
   "cell_type": "markdown",
   "id": "7b927a35",
   "metadata": {},
   "source": [
    "Ok, so this is maybe a bit better, but when was the last time you used `setdefault` - ever heard of it before even? And in this case there is absolutely no need to create that first entry with a value of `0` (which is what `setdefault` does)."
   ]
  },
  {
   "cell_type": "markdown",
   "id": "1fa81e8b",
   "metadata": {},
   "source": [
    "So, maybe a slight improvement would be to use the `get()` method with a default value - that's at least a bit more common:"
   ]
  },
  {
   "cell_type": "code",
   "execution_count": 5,
   "id": "ca012b23",
   "metadata": {},
   "outputs": [],
   "source": [
    "count_3 = {}\n",
    "for ch in text:\n",
    "    count_3[ch] = count_3.get(ch, 0) + 1"
   ]
  },
  {
   "cell_type": "code",
   "execution_count": 6,
   "id": "29f2381a",
   "metadata": {},
   "outputs": [
    {
     "data": {
      "text/plain": [
       "True"
      ]
     },
     "execution_count": 6,
     "metadata": {},
     "output_type": "execute_result"
    }
   ],
   "source": [
    "count_3 == count_1"
   ]
  },
  {
   "cell_type": "markdown",
   "id": "13bfcb55",
   "metadata": {},
   "source": [
    "We can turn to Python's `defaultdict` for an even better solution:"
   ]
  },
  {
   "cell_type": "code",
   "execution_count": 7,
   "id": "7b015956",
   "metadata": {},
   "outputs": [],
   "source": [
    "from collections import defaultdict"
   ]
  },
  {
   "cell_type": "code",
   "execution_count": 8,
   "id": "9bfa6706",
   "metadata": {},
   "outputs": [],
   "source": [
    "count_4 = defaultdict(int)\n",
    "for ch in text:\n",
    "    count_4[ch] += 1"
   ]
  },
  {
   "cell_type": "code",
   "execution_count": 9,
   "id": "52970067",
   "metadata": {},
   "outputs": [
    {
     "data": {
      "text/plain": [
       "True"
      ]
     },
     "execution_count": 9,
     "metadata": {},
     "output_type": "execute_result"
    }
   ],
   "source": [
    "count_4 == count_1"
   ]
  },
  {
   "cell_type": "markdown",
   "id": "942048da",
   "metadata": {},
   "source": [
    "But the **best** solution, is to actually use Python's `Counter`:"
   ]
  },
  {
   "cell_type": "code",
   "execution_count": 10,
   "id": "beabcd66",
   "metadata": {},
   "outputs": [],
   "source": [
    "from collections import Counter"
   ]
  },
  {
   "cell_type": "code",
   "execution_count": 11,
   "id": "6d0202ef",
   "metadata": {},
   "outputs": [],
   "source": [
    "count_5 = Counter(text)"
   ]
  },
  {
   "cell_type": "code",
   "execution_count": 12,
   "id": "f51df971",
   "metadata": {},
   "outputs": [
    {
     "data": {
      "text/plain": [
       "True"
      ]
     },
     "execution_count": 12,
     "metadata": {},
     "output_type": "execute_result"
    }
   ],
   "source": [
    "count_5 == count_1"
   ]
  },
  {
   "cell_type": "markdown",
   "id": "85ba2555",
   "metadata": {},
   "source": [
    "Technically a `Counter` object is a subclass of `dict`:"
   ]
  },
  {
   "cell_type": "code",
   "execution_count": 13,
   "id": "e02d8c41",
   "metadata": {},
   "outputs": [
    {
     "data": {
      "text/plain": [
       "True"
      ]
     },
     "execution_count": 13,
     "metadata": {},
     "output_type": "execute_result"
    }
   ],
   "source": [
    "issubclass(Counter, dict)"
   ]
  },
  {
   "cell_type": "markdown",
   "id": "590981a6",
   "metadata": {},
   "source": [
    "So, we can easily recover a \"regular\" `dict` from a `Counter` object:"
   ]
  },
  {
   "cell_type": "code",
   "execution_count": 14,
   "id": "dcdaa388",
   "metadata": {},
   "outputs": [
    {
     "data": {
      "text/plain": [
       "Counter({'A': 2,\n",
       "         'l': 38,\n",
       "         'i': 69,\n",
       "         'q': 11,\n",
       "         'u': 56,\n",
       "         'a': 68,\n",
       "         'm': 41,\n",
       "         ' ': 113,\n",
       "         'v': 11,\n",
       "         't': 58,\n",
       "         'e': 92,\n",
       "         'b': 10,\n",
       "         'o': 51,\n",
       "         'r': 48,\n",
       "         'p': 26,\n",
       "         's': 54,\n",
       "         '.': 21,\n",
       "         'N': 2,\n",
       "         'c': 22,\n",
       "         'n': 37,\n",
       "         'g': 5,\n",
       "         'd': 26,\n",
       "         'V': 1,\n",
       "         'Q': 2,\n",
       "         'E': 2,\n",
       "         'x': 3,\n",
       "         'L': 2,\n",
       "         'P': 2,\n",
       "         'I': 1,\n",
       "         'M': 2,\n",
       "         'h': 3,\n",
       "         'T': 1,\n",
       "         'f': 2,\n",
       "         'O': 2,\n",
       "         'H': 1,\n",
       "         'D': 1})"
      ]
     },
     "execution_count": 14,
     "metadata": {},
     "output_type": "execute_result"
    }
   ],
   "source": [
    "count_5"
   ]
  },
  {
   "cell_type": "code",
   "execution_count": 15,
   "id": "ad764e33",
   "metadata": {},
   "outputs": [
    {
     "data": {
      "text/plain": [
       "{'A': 2,\n",
       " 'l': 38,\n",
       " 'i': 69,\n",
       " 'q': 11,\n",
       " 'u': 56,\n",
       " 'a': 68,\n",
       " 'm': 41,\n",
       " ' ': 113,\n",
       " 'v': 11,\n",
       " 't': 58,\n",
       " 'e': 92,\n",
       " 'b': 10,\n",
       " 'o': 51,\n",
       " 'r': 48,\n",
       " 'p': 26,\n",
       " 's': 54,\n",
       " '.': 21,\n",
       " 'N': 2,\n",
       " 'c': 22,\n",
       " 'n': 37,\n",
       " 'g': 5,\n",
       " 'd': 26,\n",
       " 'V': 1,\n",
       " 'Q': 2,\n",
       " 'E': 2,\n",
       " 'x': 3,\n",
       " 'L': 2,\n",
       " 'P': 2,\n",
       " 'I': 1,\n",
       " 'M': 2,\n",
       " 'h': 3,\n",
       " 'T': 1,\n",
       " 'f': 2,\n",
       " 'O': 2,\n",
       " 'H': 1,\n",
       " 'D': 1}"
      ]
     },
     "execution_count": 15,
     "metadata": {},
     "output_type": "execute_result"
    }
   ],
   "source": [
    "dict(count_5)"
   ]
  },
  {
   "cell_type": "markdown",
   "id": "016f4b7d",
   "metadata": {},
   "source": [
    "Let's take a quick look at the various timings for these 5 approaches."
   ]
  },
  {
   "cell_type": "code",
   "execution_count": 16,
   "id": "f0326791",
   "metadata": {},
   "outputs": [],
   "source": [
    "def count_1(text: str) -> dict[str, int]:\n",
    "    count = {}\n",
    "    for ch in text:\n",
    "        if ch in count:\n",
    "            count[ch] += 1\n",
    "        else:\n",
    "            count[ch] = 1\n",
    "    return count\n",
    "\n",
    "def count_2(text: str) -> dict[str, int]:\n",
    "    count = {}\n",
    "    for ch in text:\n",
    "        count[ch] = count.setdefault(ch, 0) + 1\n",
    "    return count\n",
    "\n",
    "def count_3(text: str) -> dict[str, int]:\n",
    "    count = {}\n",
    "    for ch in text:\n",
    "        count[ch] = count.get(ch, 0) + 1\n",
    "    return count\n",
    "\n",
    "def count_4(text: str) -> dict[str, int]:\n",
    "    count = defaultdict(int)\n",
    "    for ch in text:\n",
    "        count[ch] += 1\n",
    "    return dict(count)\n",
    "\n",
    "def count_5(text: str) -> dict[str, int]:\n",
    "    return dict(Counter(text))"
   ]
  },
  {
   "cell_type": "code",
   "execution_count": 17,
   "id": "b74b78f8",
   "metadata": {},
   "outputs": [],
   "source": [
    "from timeit import timeit"
   ]
  },
  {
   "cell_type": "code",
   "execution_count": 18,
   "id": "7bfc6f99",
   "metadata": {},
   "outputs": [
    {
     "name": "stdout",
     "output_type": "stream",
     "text": [
      "time_1=0.410\n",
      "time_2=0.351\n",
      "time_3=0.343\n",
      "time_4=0.399\n",
      "time_5=0.198\n"
     ]
    }
   ],
   "source": [
    "time_1 = timeit(\"count_1(text)\", globals=globals(), number=10_000)\n",
    "time_2 = timeit(\"count_2(text)\", globals=globals(), number=10_000)\n",
    "time_3 = timeit(\"count_3(text)\", globals=globals(), number=10_000)\n",
    "time_4 = timeit(\"count_4(text)\", globals=globals(), number=10_000)\n",
    "time_5 = timeit(\"count_5(text)\", globals=globals(), number=10_000)\n",
    "\n",
    "print(f\"{time_1=:.3f}\")\n",
    "print(f\"{time_2=:.3f}\")\n",
    "print(f\"{time_3=:.3f}\")\n",
    "print(f\"{time_4=:.3f}\")\n",
    "print(f\"{time_5=:.3f}\")"
   ]
  },
  {
   "cell_type": "markdown",
   "id": "4714a0e9",
   "metadata": {},
   "source": [
    "As you can see, using `Counter` is the fastest - it is also the simplest code.\n",
    "\n",
    "Note that using a `defaultdict` incurs a performance penalty over a regular dict, so this:"
   ]
  },
  {
   "cell_type": "markdown",
   "id": "3132535b",
   "metadata": {},
   "source": [
    "```python\n",
    "count = {}\n",
    "for ch in text:\n",
    "    count[ch] = count.get(ch, 0) + 1\n",
    "```"
   ]
  },
  {
   "cell_type": "markdown",
   "id": "817b3fa9",
   "metadata": {},
   "source": [
    "is more efficient than this:"
   ]
  },
  {
   "cell_type": "markdown",
   "id": "1fc90f4d",
   "metadata": {},
   "source": [
    "```python\n",
    "count = defaultdict(int)\n",
    "for ch in text:\n",
    "    count[ch] += 1\n",
    "```"
   ]
  },
  {
   "cell_type": "markdown",
   "id": "601dd57d",
   "metadata": {},
   "source": [
    "But that slight performance increase comes at the cost of code clarity - your choice."
   ]
  },
  {
   "cell_type": "markdown",
   "id": "679d0641",
   "metadata": {},
   "source": [
    "At the end of the day, use `Counter` to count elements of an iterable - that is the most Pythonic.\n",
    "\n",
    "Counters are sometimes referred to as [multisets](https://en.wikipedia.org/wiki/Multiset) (sets whose elements are not necessarily unique)"
   ]
  },
  {
   "cell_type": "code",
   "execution_count": null,
   "id": "3bbb2deb",
   "metadata": {},
   "outputs": [],
   "source": []
  }
 ],
 "metadata": {
  "kernelspec": {
   "display_name": "Python 3 (ipykernel)",
   "language": "python",
   "name": "python3"
  },
  "language_info": {
   "codemirror_mode": {
    "name": "ipython",
    "version": 3
   },
   "file_extension": ".py",
   "mimetype": "text/x-python",
   "name": "python",
   "nbconvert_exporter": "python",
   "pygments_lexer": "ipython3",
   "version": "3.11.1"
  }
 },
 "nbformat": 4,
 "nbformat_minor": 5
}
