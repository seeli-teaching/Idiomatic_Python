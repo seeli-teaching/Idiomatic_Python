{
 "cells": [
  {
   "cell_type": "markdown",
   "id": "2e773a6a",
   "metadata": {},
   "source": [
    "### Idiomatic Python: Iterating Dictionaries"
   ]
  },
  {
   "cell_type": "markdown",
   "id": "044bc06a",
   "metadata": {},
   "source": [
    "This Pythonic tip is very similar in nature to the video I did on Pythonic iteration of sequence types - we typically do not use indexing to iterate over elements of a sequence (there may be cases where we want to, but generally it is rarely needed).\n",
    "\n",
    "When iterating over the elements of a Python `dict` we also have several Pythonic techniques."
   ]
  },
  {
   "cell_type": "markdown",
   "id": "399313d2",
   "metadata": {},
   "source": [
    "Let's say you need to iterate over the keys of a Python dictionary - that is completely straightforward, as the default in Python is to iterate over the keys only:"
   ]
  },
  {
   "cell_type": "code",
   "execution_count": 1,
   "id": "848f8341",
   "metadata": {},
   "outputs": [
    {
     "data": {
      "text/plain": [
       "{'a': 97, 'b': 98, 'c': 99, 'd': 100, 'e': 101, 'f': 102, 'g': 103, 'h': 104}"
      ]
     },
     "execution_count": 1,
     "metadata": {},
     "output_type": "execute_result"
    }
   ],
   "source": [
    "characters = 'abcdefgh'\n",
    "d = dict(zip(characters, (ord(ch) for ch in characters)))\n",
    "d"
   ]
  },
  {
   "cell_type": "code",
   "execution_count": 2,
   "id": "e28e76e6",
   "metadata": {},
   "outputs": [
    {
     "name": "stdout",
     "output_type": "stream",
     "text": [
      "a\n",
      "b\n",
      "c\n",
      "d\n",
      "e\n",
      "f\n",
      "g\n",
      "h\n"
     ]
    }
   ],
   "source": [
    "for k in d:\n",
    "    print(k)"
   ]
  },
  {
   "cell_type": "markdown",
   "id": "a8204e99",
   "metadata": {},
   "source": [
    "We can also get a list of all the keys this way:"
   ]
  },
  {
   "cell_type": "code",
   "execution_count": 3,
   "id": "79c4d445",
   "metadata": {},
   "outputs": [
    {
     "data": {
      "text/plain": [
       "['a', 'b', 'c', 'd', 'e', 'f', 'g', 'h']"
      ]
     },
     "execution_count": 3,
     "metadata": {},
     "output_type": "execute_result"
    }
   ],
   "source": [
    "list(d)"
   ]
  },
  {
   "cell_type": "markdown",
   "id": "c0121bf2",
   "metadata": {},
   "source": [
    "But what about iterating over the values in the dictionary?"
   ]
  },
  {
   "cell_type": "markdown",
   "id": "69b3f146",
   "metadata": {},
   "source": [
    "I often see people essentially taking the access-by-index approach you can take (but shoudl avoid if possible) for sequence types:"
   ]
  },
  {
   "cell_type": "code",
   "execution_count": 4,
   "id": "ef72112e",
   "metadata": {},
   "outputs": [
    {
     "name": "stdout",
     "output_type": "stream",
     "text": [
      "97\n",
      "98\n",
      "99\n",
      "100\n",
      "101\n",
      "102\n",
      "103\n",
      "104\n"
     ]
    }
   ],
   "source": [
    "for k in d:\n",
    "    print(d[k])"
   ]
  },
  {
   "cell_type": "markdown",
   "id": "3dbc02ba",
   "metadata": {},
   "source": [
    "And if we just want a list of all the values we could do this (but don't!):"
   ]
  },
  {
   "cell_type": "code",
   "execution_count": 5,
   "id": "6dbe9426",
   "metadata": {},
   "outputs": [
    {
     "data": {
      "text/plain": [
       "[97, 98, 99, 100, 101, 102, 103, 104]"
      ]
     },
     "execution_count": 5,
     "metadata": {},
     "output_type": "execute_result"
    }
   ],
   "source": [
    "[d[k] for k in d]"
   ]
  },
  {
   "cell_type": "markdown",
   "id": "9035a8d1",
   "metadata": {},
   "source": [
    "Instead we can use the **dictionary view**, obtained by using the dictionary's `values()` method:"
   ]
  },
  {
   "cell_type": "code",
   "execution_count": 6,
   "id": "82020e8e",
   "metadata": {},
   "outputs": [
    {
     "data": {
      "text/plain": [
       "dict_values([97, 98, 99, 100, 101, 102, 103, 104])"
      ]
     },
     "execution_count": 6,
     "metadata": {},
     "output_type": "execute_result"
    }
   ],
   "source": [
    "d.values()"
   ]
  },
  {
   "cell_type": "markdown",
   "id": "1b4039ce",
   "metadata": {},
   "source": [
    "Now, `d.values()` is a view object, not a list, but it **is** an **iterable**:"
   ]
  },
  {
   "cell_type": "code",
   "execution_count": 7,
   "id": "f9270e31",
   "metadata": {},
   "outputs": [
    {
     "data": {
      "text/plain": [
       "[97, 98, 99, 100, 101, 102, 103, 104]"
      ]
     },
     "execution_count": 7,
     "metadata": {},
     "output_type": "execute_result"
    }
   ],
   "source": [
    "list(d.values())"
   ]
  },
  {
   "cell_type": "code",
   "execution_count": 8,
   "id": "2f74007b",
   "metadata": {},
   "outputs": [
    {
     "name": "stdout",
     "output_type": "stream",
     "text": [
      "97\n",
      "98\n",
      "99\n",
      "100\n",
      "101\n",
      "102\n",
      "103\n",
      "104\n"
     ]
    }
   ],
   "source": [
    "for val in d.values():\n",
    "    print(val)"
   ]
  },
  {
   "cell_type": "markdown",
   "id": "d3693043",
   "metadata": {},
   "source": [
    "As you can see we can iterate over the values of a dictionary **without using key lookups**."
   ]
  },
  {
   "cell_type": "markdown",
   "id": "b7cfa18c",
   "metadata": {},
   "source": [
    "Sometimes we need to iterate over the both the key and the value at the same time - and again there is a temptation to revert to using key lookups:"
   ]
  },
  {
   "cell_type": "code",
   "execution_count": 9,
   "id": "cb68be5a",
   "metadata": {},
   "outputs": [
    {
     "name": "stdout",
     "output_type": "stream",
     "text": [
      "a = 97\n",
      "b = 98\n",
      "c = 99\n",
      "d = 100\n",
      "e = 101\n",
      "f = 102\n",
      "g = 103\n",
      "h = 104\n"
     ]
    }
   ],
   "source": [
    "for k in d:\n",
    "    print(f\"{k} = {d[k]}\")"
   ]
  },
  {
   "cell_type": "markdown",
   "id": "351a09f8",
   "metadata": {},
   "source": [
    "But Python provides another dictionary view that yields back **both** the key and the value, as a **tuple**:"
   ]
  },
  {
   "cell_type": "code",
   "execution_count": 10,
   "id": "45af50df",
   "metadata": {},
   "outputs": [
    {
     "name": "stdout",
     "output_type": "stream",
     "text": [
      "tuple ('a', 97)\n",
      "tuple ('b', 98)\n",
      "tuple ('c', 99)\n",
      "tuple ('d', 100)\n",
      "tuple ('e', 101)\n",
      "tuple ('f', 102)\n",
      "tuple ('g', 103)\n",
      "tuple ('h', 104)\n"
     ]
    }
   ],
   "source": [
    "for item in d.items():\n",
    "    print(item.__class__.__name__, item)"
   ]
  },
  {
   "cell_type": "markdown",
   "id": "e4b3ad18",
   "metadata": {},
   "source": [
    "Since we are iterating over 2 element tuples, we can easily **unpack** them as well:"
   ]
  },
  {
   "cell_type": "code",
   "execution_count": 11,
   "id": "f217b203",
   "metadata": {},
   "outputs": [
    {
     "name": "stdout",
     "output_type": "stream",
     "text": [
      "a = 97\n",
      "b = 98\n",
      "c = 99\n",
      "d = 100\n",
      "e = 101\n",
      "f = 102\n",
      "g = 103\n",
      "h = 104\n"
     ]
    }
   ],
   "source": [
    "for key, value in d.items():\n",
    "    print(f\"{key} = {value}\")"
   ]
  },
  {
   "cell_type": "markdown",
   "id": "7eaf9c34",
   "metadata": {},
   "source": [
    "So this is the more Pythonic way of iterating over both the keys and the the values of dictionaries."
   ]
  },
  {
   "cell_type": "markdown",
   "id": "d4a53af3",
   "metadata": {},
   "source": [
    "Let's take a look at a more practical example."
   ]
  },
  {
   "cell_type": "markdown",
   "id": "4fc23df2",
   "metadata": {},
   "source": [
    "Suppose we have a list of widgets for sale on our web site.\n",
    "\n",
    "These widgets have a few attributes:\n",
    "- unique internal identifier (some uuid, the way we normally identify widgets)\n",
    "- widget name (may not be unique)\n",
    "- some kind of bar code (also unique)\n",
    "\n",
    "Suppose we already have a dictionary that contains this data, keyd by the unique internal identifier.\n",
    "\n",
    "But our app also needs to do quick lookups based on the bar code - this means we want a new dictionary whose keys are the barcodes, and whose values will be the uuid and the widget name)."
   ]
  },
  {
   "cell_type": "markdown",
   "id": "92b3a2b7",
   "metadata": {},
   "source": [
    "Let's build a sample data set. \n",
    "\n",
    "I'll use the faker library that I've covered in a previous video."
   ]
  },
  {
   "cell_type": "code",
   "execution_count": 12,
   "id": "fcdaa392",
   "metadata": {},
   "outputs": [],
   "source": [
    "from random import randint, seed\n",
    "from faker import Faker\n",
    "\n",
    "seed(0)\n",
    "Faker.seed(0)\n",
    "fake = Faker()\n",
    "\n",
    "widgets = {\n",
    "    str(fake.uuid4(cast_to=str)): (fake.ean13(), f\"widget-{randint(1, 5)}\")\n",
    "    for _ in range(6)\n",
    "}"
   ]
  },
  {
   "cell_type": "code",
   "execution_count": 13,
   "id": "954504f2",
   "metadata": {},
   "outputs": [
    {
     "data": {
      "text/plain": [
       "{'e3e70682-c209-4cac-a29f-6fbed82c07cd': ('6048764759387', 'widget-4'),\n",
       " 'c17c6279-23c6-412f-8826-867323a7711a': ('1948924115785', 'widget-4'),\n",
       " '50f24455-6f25-42a2-9a92-118719c78df4': ('9387784080161', 'widget-1'),\n",
       " 'ab0c1681-c8f8-43d0-9329-0a4cb5d32b16': ('0975351393326', 'widget-3'),\n",
       " '1759edc3-72ae-4244-8b01-63c1cd9d2b7d': ('1587148418588', 'widget-5'),\n",
       " '9a6a5f92-cca7-4147-b6be-1f723405095c': ('8947196593423', 'widget-4')}"
      ]
     },
     "execution_count": 13,
     "metadata": {},
     "output_type": "execute_result"
    }
   ],
   "source": [
    "widgets"
   ]
  },
  {
   "cell_type": "markdown",
   "id": "89954e68",
   "metadata": {},
   "source": [
    "So with this dictionary we can quickly lookup a widget by it's UUID, but not by its ean13 code.\n",
    "\n",
    "So, let's create a new dict that gives us this quick lookup:"
   ]
  },
  {
   "cell_type": "markdown",
   "id": "a176b74e",
   "metadata": {},
   "source": [
    "We can do it this way, but don't!"
   ]
  },
  {
   "cell_type": "code",
   "execution_count": 14,
   "id": "fbb39ee6",
   "metadata": {},
   "outputs": [],
   "source": [
    "widget_ean_lookup = {}\n",
    "for uuid in widgets:\n",
    "    widget_ean_lookup[widgets[uuid][0]] = uuid, widgets[uuid][1]"
   ]
  },
  {
   "cell_type": "code",
   "execution_count": 15,
   "id": "5e966085",
   "metadata": {},
   "outputs": [
    {
     "data": {
      "text/plain": [
       "{'6048764759387': ('e3e70682-c209-4cac-a29f-6fbed82c07cd', 'widget-4'),\n",
       " '1948924115785': ('c17c6279-23c6-412f-8826-867323a7711a', 'widget-4'),\n",
       " '9387784080161': ('50f24455-6f25-42a2-9a92-118719c78df4', 'widget-1'),\n",
       " '0975351393326': ('ab0c1681-c8f8-43d0-9329-0a4cb5d32b16', 'widget-3'),\n",
       " '1587148418588': ('1759edc3-72ae-4244-8b01-63c1cd9d2b7d', 'widget-5'),\n",
       " '8947196593423': ('9a6a5f92-cca7-4147-b6be-1f723405095c', 'widget-4')}"
      ]
     },
     "execution_count": 15,
     "metadata": {},
     "output_type": "execute_result"
    }
   ],
   "source": [
    "widget_ean_lookup"
   ]
  },
  {
   "cell_type": "markdown",
   "id": "8fb96676",
   "metadata": {},
   "source": [
    "Let's re-write this so we aren't doing these key lookups (especially since we are doing that twice in each loop iteration - we could fix that by using a temporary variable, but we really don't need to do that):"
   ]
  },
  {
   "cell_type": "code",
   "execution_count": 16,
   "id": "cb216e59",
   "metadata": {},
   "outputs": [],
   "source": [
    "widgets_ean = {}\n",
    "for uuid, (ean, name) in widgets.items():\n",
    "    widgets_ean[ean] = uuid, name"
   ]
  },
  {
   "cell_type": "code",
   "execution_count": 17,
   "id": "b1dfeb00",
   "metadata": {},
   "outputs": [
    {
     "data": {
      "text/plain": [
       "{'6048764759387': ('e3e70682-c209-4cac-a29f-6fbed82c07cd', 'widget-4'),\n",
       " '1948924115785': ('c17c6279-23c6-412f-8826-867323a7711a', 'widget-4'),\n",
       " '9387784080161': ('50f24455-6f25-42a2-9a92-118719c78df4', 'widget-1'),\n",
       " '0975351393326': ('ab0c1681-c8f8-43d0-9329-0a4cb5d32b16', 'widget-3'),\n",
       " '1587148418588': ('1759edc3-72ae-4244-8b01-63c1cd9d2b7d', 'widget-5'),\n",
       " '8947196593423': ('9a6a5f92-cca7-4147-b6be-1f723405095c', 'widget-4')}"
      ]
     },
     "execution_count": 17,
     "metadata": {},
     "output_type": "execute_result"
    }
   ],
   "source": [
    "widgets_ean"
   ]
  },
  {
   "cell_type": "markdown",
   "id": "9539c536",
   "metadata": {},
   "source": [
    "And let's take this one step further by using a comprehension instead:"
   ]
  },
  {
   "cell_type": "code",
   "execution_count": 18,
   "id": "0630dd25",
   "metadata": {},
   "outputs": [],
   "source": [
    "widgets_ean = {\n",
    "    ean: (uuid, name) \n",
    "    for uuid, (ean, name) in widgets.items()\n",
    "}"
   ]
  },
  {
   "cell_type": "code",
   "execution_count": 19,
   "id": "40937f71",
   "metadata": {},
   "outputs": [
    {
     "data": {
      "text/plain": [
       "{'6048764759387': ('e3e70682-c209-4cac-a29f-6fbed82c07cd', 'widget-4'),\n",
       " '1948924115785': ('c17c6279-23c6-412f-8826-867323a7711a', 'widget-4'),\n",
       " '9387784080161': ('50f24455-6f25-42a2-9a92-118719c78df4', 'widget-1'),\n",
       " '0975351393326': ('ab0c1681-c8f8-43d0-9329-0a4cb5d32b16', 'widget-3'),\n",
       " '1587148418588': ('1759edc3-72ae-4244-8b01-63c1cd9d2b7d', 'widget-5'),\n",
       " '8947196593423': ('9a6a5f92-cca7-4147-b6be-1f723405095c', 'widget-4')}"
      ]
     },
     "execution_count": 19,
     "metadata": {},
     "output_type": "execute_result"
    }
   ],
   "source": [
    "widgets_ean"
   ]
  },
  {
   "cell_type": "markdown",
   "id": "85bbf008",
   "metadata": {},
   "source": [
    "So this:"
   ]
  },
  {
   "cell_type": "code",
   "execution_count": 20,
   "id": "3b9ce031",
   "metadata": {},
   "outputs": [],
   "source": [
    "widget_ean_lookup = {}\n",
    "for uuid in widgets:\n",
    "    widget_ean_lookup[widgets[uuid][0]] = uuid, widgets[uuid][1]"
   ]
  },
  {
   "cell_type": "markdown",
   "id": "9cbe7402",
   "metadata": {},
   "source": [
    "vs this:"
   ]
  },
  {
   "cell_type": "code",
   "execution_count": 21,
   "id": "8d0f600a",
   "metadata": {},
   "outputs": [],
   "source": [
    "widgets_ean = {\n",
    "    ean: (uuid, name) \n",
    "    for uuid, (ean, name) in widgets.items()\n",
    "}"
   ]
  },
  {
   "cell_type": "markdown",
   "id": "f637f67f",
   "metadata": {},
   "source": [
    "As an added bonus in this video, how about if we want the ability to lookup by widget name - and given that it's not unique, we'll need to return a list of ean/uuid matches for the particular widget name."
   ]
  },
  {
   "cell_type": "markdown",
   "id": "43166bdd",
   "metadata": {},
   "source": [
    "We can't use the same technique we just did, since dictionary keys need to be unique, so we can't just add the same widget name multiple times into the dictionary.\n",
    "\n",
    "What we need is the ability to store each widget name only once in the dictionary, and set the value to a **sequence** of possible values."
   ]
  },
  {
   "cell_type": "markdown",
   "id": "8fe3587d",
   "metadata": {},
   "source": [
    "To do this, we'll make use of Python's `defaultdict`:"
   ]
  },
  {
   "cell_type": "code",
   "execution_count": 22,
   "id": "1c043e88",
   "metadata": {},
   "outputs": [],
   "source": [
    "from collections import defaultdict"
   ]
  },
  {
   "cell_type": "code",
   "execution_count": 23,
   "id": "c76a996d",
   "metadata": {},
   "outputs": [],
   "source": [
    "widgets_name = defaultdict(list)\n",
    "\n",
    "for uuid, (ean, name) in widgets.items():\n",
    "    widgets_name[name].append((uuid, ean))"
   ]
  },
  {
   "cell_type": "code",
   "execution_count": 24,
   "id": "57f0539e",
   "metadata": {},
   "outputs": [
    {
     "data": {
      "text/plain": [
       "{'widget-4': [('e3e70682-c209-4cac-a29f-6fbed82c07cd', '6048764759387'),\n",
       "  ('c17c6279-23c6-412f-8826-867323a7711a', '1948924115785'),\n",
       "  ('9a6a5f92-cca7-4147-b6be-1f723405095c', '8947196593423')],\n",
       " 'widget-1': [('50f24455-6f25-42a2-9a92-118719c78df4', '9387784080161')],\n",
       " 'widget-3': [('ab0c1681-c8f8-43d0-9329-0a4cb5d32b16', '0975351393326')],\n",
       " 'widget-5': [('1759edc3-72ae-4244-8b01-63c1cd9d2b7d', '1587148418588')]}"
      ]
     },
     "execution_count": 24,
     "metadata": {},
     "output_type": "execute_result"
    }
   ],
   "source": [
    "dict(widgets_name)"
   ]
  },
  {
   "cell_type": "markdown",
   "id": "c2adf83a",
   "metadata": {},
   "source": [
    "You'll notice by the way that we can't really use a comprehension approach here."
   ]
  },
  {
   "cell_type": "markdown",
   "id": "b317b240",
   "metadata": {},
   "source": [
    "So does this mean that you should never key lookups when iterating over a dictionary?\n",
    "\n",
    "Of course not, you may be in a situation where you can't, or your code might be more efficient - just be aware of the dictionary view objects, and know when to use them for more Pythonic code."
   ]
  },
  {
   "cell_type": "code",
   "execution_count": null,
   "id": "3051b0b7",
   "metadata": {},
   "outputs": [],
   "source": []
  }
 ],
 "metadata": {
  "kernelspec": {
   "display_name": "Python 3 (ipykernel)",
   "language": "python",
   "name": "python3"
  },
  "language_info": {
   "codemirror_mode": {
    "name": "ipython",
    "version": 3
   },
   "file_extension": ".py",
   "mimetype": "text/x-python",
   "name": "python",
   "nbconvert_exporter": "python",
   "pygments_lexer": "ipython3",
   "version": "3.11.1"
  }
 },
 "nbformat": 4,
 "nbformat_minor": 5
}
