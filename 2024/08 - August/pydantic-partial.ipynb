{
 "cells": [
  {
   "cell_type": "markdown",
   "id": "95600790-ac01-4f30-92cb-b5ad619fc930",
   "metadata": {},
   "source": [
    "# Partially Validated Pydantic Models"
   ]
  },
  {
   "cell_type": "markdown",
   "id": "83aff308-b45d-4e22-bfb4-565153549faa",
   "metadata": {},
   "source": [
    "In one of my Udemy classes, someone posed a really interesting question. \n",
    "\n",
    "> I wish to ingest JSON API data that sometimes will fail validation (for whatever reason e.g. allowing mistakes to be made on their end) instead of effectively throwing that response away.\n",
    ">\n",
    ">I want the model to still be instantiated with just the fields that pass validation, i.e. a partially validated model, but with missing/failed validation fields set to some special sentinel value or perhaps None\n",
    ">\n",
    ">My intention is to insert this into Postgres, and have an errors JSONB column which contains the ValidationError.json(). How can I achieve this?\n",
    "\n",
    "\n",
    "My immediate reaction was, no, this is unlikely as Pydantic V2 does not support that natively (V1 kind of did in some fashion), and I could not see a way of getting around taking over **all** of the validation to achieve something like this, which essentially negated the built-in validation usefulness of Pydantic.\n",
    "\n",
    "Undetered by my response, the person continued working on the problem and eventually came up with a really neat solution to this. \n",
    "\n",
    "Here is a link to the person's Git repo that presents that solution:\n",
    "\n",
    "[https://github.com/linktoad/pydantic-partial/tree/main](https://github.com/linktoad/pydantic-partial/tree/main)\n",
    "\n",
    "as well as the currently open Pydantic issue:\n",
    "\n",
    "[https://github.com/pydantic/pydantic/issues/7140](https://github.com/pydantic/pydantic/issues/7140)\n",
    "\n",
    "This is also the first real practical use I have seen for wrap validators in Pydantic, so it's a really good example of how those work and where they can be useful. I'm sure there other examples of uses for wrap validators, I just have never found a need for one before, so this is a great example.\n",
    "\n",
    "It also shows how model validators can be useful, and how to use them."
   ]
  },
  {
   "cell_type": "markdown",
   "id": "cd6a8ce4-9932-4dde-b7dc-30399ddd7366",
   "metadata": {},
   "source": [
    "Let's go through the solution step by step."
   ]
  },
  {
   "cell_type": "code",
   "execution_count": 1,
   "id": "540da51a-dd41-4a63-a491-83697aeac8b6",
   "metadata": {},
   "outputs": [],
   "source": [
    "from __future__ import annotations\n",
    "from typing import Any\n",
    "\n",
    "from pydantic import (\n",
    "    BaseModel,\n",
    "    ValidationError,\n",
    "    field_validator,\n",
    "    model_validator,\n",
    "    computed_field,\n",
    "    ValidatorFunctionWrapHandler,\n",
    "    ValidationInfo,\n",
    "    Field,\n",
    ")"
   ]
  },
  {
   "cell_type": "markdown",
   "id": "89a4b223-0e97-47c2-9be0-25b6ed9aa03b",
   "metadata": {},
   "source": [
    "The `__future__` import is needed because we will be using a type hint in a class that specifies that class itself as a return value. For Python 3.12 and above this will not be needed, but this code is compatible with earlier versions of Python as well, hence the use of `__future__` `annotations`.\n",
    "\n",
    "See [here](https://docs.python.org/3/library/typing.html#typing.Self) for more details."
   ]
  },
  {
   "cell_type": "markdown",
   "id": "88845145-efab-4843-be4a-980997ce841b",
   "metadata": {},
   "source": [
    "Since the idea is to include some attribute on the Pydantic model that will contain the validation errors, a structure will be needed. This was accomplished using a Pydantic model to \"describe\" those errors."
   ]
  },
  {
   "cell_type": "code",
   "execution_count": 2,
   "id": "aa7332fd-3dda-40f2-a1cf-62236ebdd73d",
   "metadata": {},
   "outputs": [],
   "source": [
    "class Error(BaseModel):\n",
    "    field: str\n",
    "    type: str = \"missing\"\n",
    "    msg: str = \"Field required\"\n",
    "    input: Any = Field(default=None, exclude=True)"
   ]
  },
  {
   "cell_type": "markdown",
   "id": "8ac9ea92-1a32-4612-9162-47183c1460b7",
   "metadata": {},
   "source": [
    "We'll want to identify an invalid field somehow - using `None` is not really an option since `None` could be a valid field value, so we'll need to just have some other object take on that role. This is often called a **sentinel** value, and the usual trick in Python is to define it this way:"
   ]
  },
  {
   "cell_type": "code",
   "execution_count": 3,
   "id": "81dc2b81-3226-4bd9-a108-770ca02d8ed2",
   "metadata": {},
   "outputs": [],
   "source": [
    "SENTINEL = object()"
   ]
  },
  {
   "cell_type": "markdown",
   "id": "4c93c579-da94-4d6d-814f-3e55358c7778",
   "metadata": {},
   "source": [
    "Now we can get to the actual implementation. This was done by define a new Pydantic base model that can be be used for your own models."
   ]
  },
  {
   "cell_type": "markdown",
   "id": "06c6b71e-0524-446d-b5ce-069cdb18b5b0",
   "metadata": {},
   "source": [
    "The author called this class `MissingOrInvalidAsNone`, so I'll stick with that name for the base model."
   ]
  },
  {
   "cell_type": "markdown",
   "id": "2fdf52d0-0483-4335-b938-c69800254bd0",
   "metadata": {},
   "source": [
    "The first thing is we'll need some \"private\" variable (i.e. one that is not part of the model fields, where we can store the errors).\n",
    "\n",
    "In Pydantic, this is achieved by prefixing field names with an underscore:"
   ]
  },
  {
   "cell_type": "code",
   "execution_count": 4,
   "id": "35a2ca05-02ed-43f8-90a6-8024d1009d39",
   "metadata": {},
   "outputs": [],
   "source": [
    "class MissingOrInvalidAsNone(BaseModel):\n",
    "    _errors: list[Error] = []"
   ]
  },
  {
   "cell_type": "markdown",
   "id": "8be5de02-6de1-44c5-abaa-1b7fb25dbd57",
   "metadata": {},
   "source": [
    "There are now two cases we need to distinguish for invalid fields: the field might be required but missing, or the field is present but fails further validation."
   ]
  },
  {
   "cell_type": "markdown",
   "id": "9e86ed0c-f915-462a-8be7-8c0d89e7a498",
   "metadata": {},
   "source": [
    "To identify missing fields, we can use a **model validator**. Model validators in Pydantic gives you a way to access all the fields in the instance, and perform some validation that can reference any of the model fields. By making it a **before** validator, this will happen before the individual field validators will run, and is the perfect place to check for missing required fields.\n",
    "\n",
    "See Pydantic's [docs](https://docs.pydantic.dev/latest/concepts/validators/#model-validators) for more info on model validators, and specifically on some of the caveats with `before` model validators."
   ]
  },
  {
   "cell_type": "code",
   "execution_count": 5,
   "id": "49c64a2f-ec2f-4bde-9377-5120218849c7",
   "metadata": {},
   "outputs": [],
   "source": [
    "class MissingOrInvalidAsNone(BaseModel):\n",
    "    _errors: list[Error] = []\n",
    "\n",
    "    @model_validator(mode=\"before\")\n",
    "    @classmethod\n",
    "    def missing_fields_as_sentinels(cls, data: Any) -> Any:\n",
    "        if not isinstance(data, dict):\n",
    "            return data\n",
    "        return data | {\n",
    "            field: SENTINEL\n",
    "            for field, field_info in cls.model_fields.items()\n",
    "            if field_info.is_required() and field not in data\n",
    "        }"
   ]
  },
  {
   "cell_type": "markdown",
   "id": "deeee4e5-84bc-4690-8a29-c36c9ed3816c",
   "metadata": {},
   "source": [
    "The model validator receives a dictionary containing all the fields with their raw values. The idea is to identify all the missing, but required fields, and set their value to that `SENTINEL` we defined (this will dindicate later that the field is missing, and is therefore distinguishable from `None`)."
   ]
  },
  {
   "cell_type": "markdown",
   "id": "291e7180-99c7-4031-bec0-dbf624c6eeb2",
   "metadata": {},
   "source": [
    "Let's break this down:"
   ]
  },
  {
   "cell_type": "markdown",
   "id": "ad35c40e-0d34-452d-8123-4c6ddb4a6003",
   "metadata": {},
   "source": [
    "```python\n",
    "{\n",
    "    field: SENTINEL\n",
    "    for field, field_info in cls.model_fields.items()\n",
    "    if field_info.is_required() and field not in data\n",
    "}\n",
    "```"
   ]
  },
  {
   "cell_type": "markdown",
   "id": "f6180041-350b-4f60-8ec5-76c614fae0a6",
   "metadata": {},
   "source": [
    "Basically this is a dictionary comprehension that loops through all the model fields, and for those fields that are required but not present in the data dictionary, produces a key/value pair with the field name as the key, and the `SENTINEL` object as the value - other fields are now included in this comprehension.\n",
    "\n",
    "Then the original data dictionary is unioned with this new dictionry, with the end result being a new data dictionary that now has the original data along with missing required fields set to `SENTINEL`."
   ]
  },
  {
   "cell_type": "markdown",
   "id": "434aa8f9-d48b-4187-b0c1-96984a7870f6",
   "metadata": {},
   "source": [
    "The next step is to create a field validator (that will apply to every field).\n",
    "\n",
    "But what we want here is to \"inject\" this validator without losing the rest of the model's and Pydantic's validation logic. \n",
    "\n",
    "This is where a **wrap** validator comes into play. \n",
    "\n",
    "We can insert ourselves into the validation flow, and set the failing fields to an instance of that `Error` class that was created earlier. Later, another model validator (an `after` model validator) will handle fields set to those `Error` instances. But for now, we just want to replace any field that is missing, or fails validation with our custom `Error` instance, and then **let Pydantic continue the validation flow**."
   ]
  },
  {
   "cell_type": "code",
   "execution_count": 6,
   "id": "27f55e2a-271a-44ac-8607-0b283286b562",
   "metadata": {},
   "outputs": [],
   "source": [
    "class MissingOrInvalidAsNone(BaseModel):\n",
    "    _errors: list[Error] = []\n",
    "\n",
    "    @model_validator(mode=\"before\")\n",
    "    @classmethod\n",
    "    def missing_fields_as_sentinels(cls, data: Any) -> Any:\n",
    "        if not isinstance(data, dict):\n",
    "            return data\n",
    "        return data | {\n",
    "            field: SENTINEL\n",
    "            for field, field_info in cls.model_fields.items()\n",
    "            if field_info.is_required() and field not in data\n",
    "        }\n",
    "\n",
    "    @field_validator(\"*\", mode=\"wrap\")\n",
    "    @classmethod\n",
    "    def gracefully_handle_validation_errors(\n",
    "        cls, v: Any, handler: ValidatorFunctionWrapHandler, info: ValidationInfo\n",
    "    ) -> Any:\n",
    "        if v is SENTINEL:\n",
    "            return Error(field=info.field_name)\n",
    "        try:\n",
    "            return handler(v)\n",
    "        except ValidationError as ex:\n",
    "            return Error(field=info.field_name, **ex.errors()[0])"
   ]
  },
  {
   "cell_type": "markdown",
   "id": "d3a3fc67-cc13-4c01-bae2-b06d11c5d2be",
   "metadata": {},
   "source": [
    "The arguments for a wrap validator include the field value itself, a reference to the \"next\" validator, and some information on the field itself (in particular we need the field name).\n",
    "\n",
    "So here, as you can see, if the value is `SENTINEL` we return a new value for the field (set to an `Error` instance), and stop the validation (returning the value in a wrap validator essentially sets the field to whatever return value you provide, and since it does not call the next step in the validation sequence, validation effectively stops there)."
   ]
  },
  {
   "cell_type": "markdown",
   "id": "37297805-a568-4010-97e1-d879400865b6",
   "metadata": {},
   "source": [
    "If the field was not a missing field, then the code attempts to continue the validation by calling the `handler` argument. This is now the \"normal\" field validation for a non-missing field.\n",
    "\n",
    "However, instead of just letting this run and let Pydantic raise any validation errors, that would result in your model validation failing, we want the validation to continue running in spite of any validation errors (that was the whole intent to start off with).\n",
    "\n",
    "So, this call is wrapped in a try/except block. If a validation exception occurs, then instead of letting this exception bubble up, again the field value is replaced with an instance of this `Error` object. So validation \"passes\", but we now have a field with that special value."
   ]
  },
  {
   "cell_type": "markdown",
   "id": "f9e29a88-c0c9-43a9-bc93-4a3e2364fafa",
   "metadata": {},
   "source": [
    "At this point, we now have a valida Pydantic object, with some fields set to those `Error` values.\n",
    "\n",
    "Let's try it out and see:"
   ]
  },
  {
   "cell_type": "code",
   "execution_count": 7,
   "id": "3e510091-3127-4e68-8940-e32963ea8c58",
   "metadata": {},
   "outputs": [],
   "source": [
    "class Model(MissingOrInvalidAsNone):\n",
    "    a: int\n",
    "    b: bool\n",
    "    c: str\n",
    "    d: float\n",
    "\n",
    "json_data = \"\"\"\n",
    "{\n",
    "    \"a\": \"3\",\n",
    "    \"b\": \"something\",\n",
    "    \"c\": null\n",
    "}\n",
    "\"\"\"\n",
    "\n",
    "m = Model.model_validate_json(json_data)"
   ]
  },
  {
   "cell_type": "code",
   "execution_count": 8,
   "id": "f3c9e80d-a228-487d-b1ad-b16943b38b0e",
   "metadata": {},
   "outputs": [
    {
     "name": "stdout",
     "output_type": "stream",
     "text": [
      "('a', 3)\n",
      "\n",
      "('b', Error(field='b', type='bool_parsing', msg='Input should be a valid boolean, unable to interpret input', input='something'))\n",
      "\n",
      "('c', Error(field='c', type='string_type', msg='Input should be a valid string', input=None))\n",
      "\n",
      "('d', Error(field='d', type='missing', msg='Field required', input=None))\n",
      "\n"
     ]
    }
   ],
   "source": [
    "for field in m:\n",
    "    print(field, end=\"\\n\\n\")"
   ]
  },
  {
   "cell_type": "markdown",
   "id": "3df36e5b-b2b1-4717-a8a9-5d33fa537d9d",
   "metadata": {},
   "source": [
    "In the final step, we want to replace those `Error` values with some other default, in this case the author decided to use `None`. We also want to populate that `_errors` list with all the validation errors.\n",
    "\n",
    "To do this, a model validator is once again used, but this time as an **after** validator, so it will run after all the other validators have taken place."
   ]
  },
  {
   "cell_type": "code",
   "execution_count": 9,
   "id": "72d90c8f-aae9-41d1-9d1e-f63b58d79834",
   "metadata": {},
   "outputs": [],
   "source": [
    "class MissingOrInvalidAsNone(BaseModel):\n",
    "    _errors: list[Error] = []\n",
    "\n",
    "    @model_validator(mode=\"before\")\n",
    "    @classmethod\n",
    "    def missing_fields_as_sentinels(cls, data: Any) -> Any:\n",
    "        if not isinstance(data, dict):\n",
    "            return data\n",
    "        return data | {\n",
    "            field: SENTINEL\n",
    "            for field, field_info in cls.model_fields.items()\n",
    "            if field_info.is_required() and field not in data\n",
    "        }\n",
    "\n",
    "    @field_validator(\"*\", mode=\"wrap\")\n",
    "    @classmethod\n",
    "    def gracefully_handle_validation_errors(\n",
    "        cls, v: Any, handler: ValidatorFunctionWrapHandler, info: ValidationInfo\n",
    "    ) -> Any:\n",
    "        if v is SENTINEL:\n",
    "            return Error(field=info.field_name)\n",
    "        try:\n",
    "            return handler(v)\n",
    "        except ValidationError as ex:\n",
    "            return Error(field=info.field_name, **ex.errors()[0])\n",
    "\n",
    "    @model_validator(mode=\"after\")\n",
    "    def save_errors_and_set_none(self) -> MissingOrInvalidAsNone:\n",
    "        for field in self.model_fields:\n",
    "            value = getattr(self, field)\n",
    "            if isinstance(value, Error):\n",
    "                self._errors.append(value)\n",
    "                setattr(self, field, None)  # Could set it to anything you want for your app\n",
    "        return self"
   ]
  },
  {
   "cell_type": "markdown",
   "id": "97542f7d-e252-4117-b41c-a8b6817a9f49",
   "metadata": {},
   "source": [
    "As you can see, the after model validator just iterates through all the model fields, and, if the field value is an `Error` adds that error to the `_errors` list and replaces the field value with `None`."
   ]
  },
  {
   "cell_type": "code",
   "execution_count": 10,
   "id": "39252177-9662-49b4-94e1-8a41e4e21740",
   "metadata": {},
   "outputs": [],
   "source": [
    "class Model(MissingOrInvalidAsNone):\n",
    "    a: int\n",
    "    b: bool\n",
    "    c: str\n",
    "    d: float\n",
    "\n",
    "json_data = \"\"\"\n",
    "{\n",
    "    \"a\": \"3\",\n",
    "    \"b\": \"something\",\n",
    "    \"c\": null\n",
    "}\n",
    "\"\"\"\n",
    "\n",
    "m = Model.model_validate_json(json_data)"
   ]
  },
  {
   "cell_type": "code",
   "execution_count": 11,
   "id": "f5179be1-1fe6-4af5-84fd-30734b1bfcbf",
   "metadata": {},
   "outputs": [
    {
     "data": {
      "text/plain": [
       "Model(a=3, b=None, c=None, d=None)"
      ]
     },
     "execution_count": 11,
     "metadata": {},
     "output_type": "execute_result"
    }
   ],
   "source": [
    "m"
   ]
  },
  {
   "cell_type": "code",
   "execution_count": 12,
   "id": "212bdc63-50b4-4acf-afa9-3af724a4024d",
   "metadata": {},
   "outputs": [
    {
     "data": {
      "text/plain": [
       "[Error(field='b', type='bool_parsing', msg='Input should be a valid boolean, unable to interpret input', input='something'),\n",
       " Error(field='c', type='string_type', msg='Input should be a valid string', input=None),\n",
       " Error(field='d', type='missing', msg='Field required', input=None)]"
      ]
     },
     "execution_count": 12,
     "metadata": {},
     "output_type": "execute_result"
    }
   ],
   "source": [
    "m._errors"
   ]
  },
  {
   "cell_type": "markdown",
   "id": "e5b73f8c-34d8-4c30-a306-1f882452678e",
   "metadata": {},
   "source": [
    "Only thing left is to maybe make access to this \"private\" `_errors` field \"public\", by using a computed field:"
   ]
  },
  {
   "cell_type": "code",
   "execution_count": 13,
   "id": "89358798-2822-4998-b97a-3db9266def20",
   "metadata": {},
   "outputs": [],
   "source": [
    "class MissingOrInvalidAsNone(BaseModel):\n",
    "    _errors: list[Error] = []\n",
    "\n",
    "    @model_validator(mode=\"before\")\n",
    "    @classmethod\n",
    "    def missing_fields_as_sentinels(cls, data: Any) -> Any:\n",
    "        if not isinstance(data, dict):\n",
    "            return data\n",
    "        return data | {\n",
    "            field: SENTINEL\n",
    "            for field, field_info in cls.model_fields.items()\n",
    "            if field_info.is_required() and field not in data\n",
    "        }\n",
    "\n",
    "    @field_validator(\"*\", mode=\"wrap\")\n",
    "    @classmethod\n",
    "    def gracefully_handle_validation_errors(\n",
    "        cls, v: Any, handler: ValidatorFunctionWrapHandler, info: ValidationInfo\n",
    "    ) -> Any:\n",
    "        if v is SENTINEL:\n",
    "            return Error(field=info.field_name)\n",
    "        try:\n",
    "            return handler(v)\n",
    "        except ValidationError as ex:\n",
    "            return Error(field=info.field_name, **ex.errors()[0])\n",
    "\n",
    "    @model_validator(mode=\"after\")\n",
    "    def save_errors_and_set_none(self) -> MissingOrInvalidAsNone:\n",
    "        for field in self.model_fields:\n",
    "            value = getattr(self, field)\n",
    "            if isinstance(value, Error):\n",
    "                self._errors.append(value)\n",
    "                setattr(self, field, None)  # Could set it to anything you want for your app\n",
    "        return self\n",
    "\n",
    "    @computed_field\n",
    "    @property\n",
    "    def errors(self) -> list[Error]:\n",
    "        return self._errors"
   ]
  },
  {
   "cell_type": "markdown",
   "id": "3a92375c-2b6a-4fb3-a75a-b1a8d71d60d0",
   "metadata": {},
   "source": [
    "Let's try out this final solution:"
   ]
  },
  {
   "cell_type": "code",
   "execution_count": 14,
   "id": "888a3b48-8046-421c-a122-3ba72fb7040e",
   "metadata": {},
   "outputs": [],
   "source": [
    "class Model(MissingOrInvalidAsNone):\n",
    "    a: int\n",
    "    b: bool\n",
    "    c: str\n",
    "    d: float\n",
    "\n",
    "json_data = \"\"\"\n",
    "{\n",
    "    \"a\": \"3\",\n",
    "    \"b\": \"something\",\n",
    "    \"c\": null\n",
    "}\n",
    "\"\"\"\n",
    "\n",
    "m = Model.model_validate_json(json_data)"
   ]
  },
  {
   "cell_type": "code",
   "execution_count": 15,
   "id": "5040fa1c-f9df-4f1a-8d74-3b07f27a6207",
   "metadata": {},
   "outputs": [
    {
     "name": "stdout",
     "output_type": "stream",
     "text": [
      "('a', 3)\n",
      "\n",
      "('b', None)\n",
      "\n",
      "('c', None)\n",
      "\n",
      "('d', None)\n",
      "\n"
     ]
    }
   ],
   "source": [
    "for field in m:\n",
    "    print(field, end=\"\\n\\n\")"
   ]
  },
  {
   "cell_type": "code",
   "execution_count": 16,
   "id": "ab250871-1a75-4443-a971-c1441584262c",
   "metadata": {},
   "outputs": [
    {
     "data": {
      "text/plain": [
       "[Error(field='b', type='bool_parsing', msg='Input should be a valid boolean, unable to interpret input', input='something'),\n",
       " Error(field='c', type='string_type', msg='Input should be a valid string', input=None),\n",
       " Error(field='d', type='missing', msg='Field required', input=None)]"
      ]
     },
     "execution_count": 16,
     "metadata": {},
     "output_type": "execute_result"
    }
   ],
   "source": [
    "m.errors"
   ]
  },
  {
   "cell_type": "code",
   "execution_count": 17,
   "id": "0ab9494c-cf3a-47c1-894b-34d4e3941150",
   "metadata": {},
   "outputs": [
    {
     "name": "stdout",
     "output_type": "stream",
     "text": [
      "{\n",
      "  \"a\": 3,\n",
      "  \"b\": null,\n",
      "  \"c\": null,\n",
      "  \"d\": null,\n",
      "  \"errors\": [\n",
      "    {\n",
      "      \"field\": \"b\",\n",
      "      \"type\": \"bool_parsing\",\n",
      "      \"msg\": \"Input should be a valid boolean, unable to interpret input\"\n",
      "    },\n",
      "    {\n",
      "      \"field\": \"c\",\n",
      "      \"type\": \"string_type\",\n",
      "      \"msg\": \"Input should be a valid string\"\n",
      "    },\n",
      "    {\n",
      "      \"field\": \"d\",\n",
      "      \"type\": \"missing\",\n",
      "      \"msg\": \"Field required\"\n",
      "    }\n",
      "  ]\n",
      "}\n"
     ]
    }
   ],
   "source": [
    "print(m.model_dump_json(indent=2))"
   ]
  },
  {
   "cell_type": "markdown",
   "id": "14f60315-ec93-4c85-bbed-d5b8b65c4f8b",
   "metadata": {},
   "source": [
    "And there you have it, a really interesting and elegant solution to the original problem of \"partially validated\" Pydantic models.\n",
    "\n",
    "Big thanks to the author for coming up with this and sharing it on GitHub!"
   ]
  }
 ],
 "metadata": {
  "kernelspec": {
   "display_name": "Python 3 (ipykernel)",
   "language": "python",
   "name": "python3"
  },
  "language_info": {
   "codemirror_mode": {
    "name": "ipython",
    "version": 3
   },
   "file_extension": ".py",
   "mimetype": "text/x-python",
   "name": "python",
   "nbconvert_exporter": "python",
   "pygments_lexer": "ipython3",
   "version": "3.12.0"
  }
 },
 "nbformat": 4,
 "nbformat_minor": 5
}
