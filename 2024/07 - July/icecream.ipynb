{
 "cells": [
  {
   "cell_type": "markdown",
   "id": "6d745741-4b2c-4459-a17e-95dd7162e81c",
   "metadata": {},
   "source": [
    "# Quick Debugging using `icecream`"
   ]
  },
  {
   "cell_type": "markdown",
   "id": "02749ab9-d0a0-475a-8e07-c0dbcf0cee1f",
   "metadata": {},
   "source": [
    "If you've been writing Python code, then at some point you've probably used some `print()` statements to help you either debug your code or understand the code flow. Sure, we have several debugging tools at our disposal, but sometimes it's just easier to print things out, maybe inside a loop to quickly examine the values of various variables as the code is running without having to break and inspect variables."
   ]
  },
  {
   "cell_type": "markdown",
   "id": "1bca1921-f40b-41c8-805e-279e3175e950",
   "metadata": {},
   "source": [
    "The `icecream` library can be very useful as a more advanced, flexible replacement of `print()` while typing less code:\n",
    "\n",
    "Library documentation can be found [here](https://github.com/gruns/icecream)."
   ]
  },
  {
   "cell_type": "markdown",
   "id": "28968909-6be3-424f-a2b0-17ee4a85eebe",
   "metadata": {},
   "source": [
    "First thing is you'll need to install `icecream` in your virtual env, which can be done using:\n",
    "```bash\n",
    "pip install icecream\n",
    "```"
   ]
  },
  {
   "cell_type": "markdown",
   "id": "7772df8b-73c5-4a23-aab6-5a70b18fa15b",
   "metadata": {},
   "source": [
    "> Note: If you plan on running `icecream` in a Python REPL (such as a Jupyter notebook), then you will likely need to ensure that the `executing` dependency `icecream` depends on, uses the latest version. To do so you can use:\n",
    ">```bash\n",
    ">pip install executing>=2.0.0\n",
    ">```"
   ]
  },
  {
   "cell_type": "markdown",
   "id": "0d2cc689-8ff3-4061-9db5-f2ec2bfda644",
   "metadata": {},
   "source": [
    "Next, we need to import it:"
   ]
  },
  {
   "cell_type": "code",
   "execution_count": 1,
   "id": "c1f14585-c742-4137-bd6f-938ab91391eb",
   "metadata": {},
   "outputs": [],
   "source": [
    "from icecream import ic"
   ]
  },
  {
   "cell_type": "markdown",
   "id": "e99cc67f-db11-4d5a-929b-b736ce360776",
   "metadata": {},
   "source": [
    "At it's simplest, we can just use `ic` as a replacement for `print`:"
   ]
  },
  {
   "cell_type": "code",
   "execution_count": 2,
   "id": "7ca1be10-34bd-498e-b62e-1c97991b8726",
   "metadata": {},
   "outputs": [
    {
     "name": "stderr",
     "output_type": "stream",
     "text": [
      "ic| i: 0\n",
      "ic| i: 1\n",
      "ic| i: 2\n",
      "ic| i: 3\n",
      "ic| i: 4\n"
     ]
    }
   ],
   "source": [
    "for i in range(5):\n",
    "    ic(i)"
   ]
  },
  {
   "cell_type": "markdown",
   "id": "8af520c7-5a1b-4421-a313-9abb4a6addb4",
   "metadata": {},
   "source": [
    "If you've ever used `print` statements to indentify what parts of your code are running using something like this:"
   ]
  },
  {
   "cell_type": "code",
   "execution_count": 3,
   "id": "7a7e625c-b758-402b-8b54-dc2e739a149b",
   "metadata": {},
   "outputs": [
    {
     "name": "stdout",
     "output_type": "stream",
     "text": [
      "num=149\n",
      "1\n",
      "num=197\n",
      "2\n",
      "num=153\n",
      "2\n",
      "num=105\n",
      "1\n",
      "num=133\n",
      "1\n",
      "num=165\n",
      "2\n",
      "num=162\n",
      "2\n",
      "num=151\n",
      "2\n",
      "num=200\n",
      "2\n",
      "num=138\n",
      "1\n"
     ]
    }
   ],
   "source": [
    "import random\n",
    "\n",
    "min_ = 100\n",
    "max_ = 200\n",
    "mean = (min_ + max_) / 2\n",
    "sample_size = 10\n",
    "below_or_at_mean = []\n",
    "above_mean = []\n",
    "\n",
    "random.seed(0)\n",
    "for i in range(sample_size):\n",
    "    num = random.randint(min_, max_)\n",
    "    print(f\"{num=}\")\n",
    "    if num <= mean:\n",
    "        print(1)\n",
    "        below_or_at_mean.append(num)\n",
    "    else:\n",
    "        print(2)\n",
    "        above_mean.append(num)\n",
    "        "
   ]
  },
  {
   "cell_type": "markdown",
   "id": "22a1afec-a7d8-4170-b90d-77a81c89a932",
   "metadata": {},
   "source": [
    "Using `icecream` you can do this instead:"
   ]
  },
  {
   "cell_type": "code",
   "execution_count": 4,
   "id": "e7bb00a2-f5af-434d-8f8f-3329a84c960d",
   "metadata": {},
   "outputs": [
    {
     "name": "stderr",
     "output_type": "stream",
     "text": [
      "ic| num: 149\n",
      "ic| 377800592.py:15 in <module> at 14:19:21.626\n",
      "ic| num: 197\n",
      "ic| 377800592.py:18 in <module> at 14:19:21.635\n",
      "ic| num: 153\n",
      "ic| 377800592.py:18 in <module> at 14:19:21.643\n",
      "ic| num: 105\n",
      "ic| 377800592.py:15 in <module> at 14:19:21.653\n",
      "ic| num: 133\n",
      "ic| 377800592.py:15 in <module> at 14:19:21.662\n",
      "ic| num: 165\n",
      "ic| 377800592.py:18 in <module> at 14:19:21.670\n",
      "ic| num: 162\n",
      "ic| 377800592.py:18 in <module> at 14:19:21.679\n",
      "ic| num: 151\n",
      "ic| 377800592.py:18 in <module> at 14:19:21.688\n",
      "ic| num: 200\n",
      "ic| 377800592.py:18 in <module> at 14:19:21.696\n",
      "ic| num: 138\n",
      "ic| 377800592.py:15 in <module> at 14:19:21.705\n"
     ]
    }
   ],
   "source": [
    "import random\n",
    "\n",
    "min_ = 100\n",
    "max_ = 200\n",
    "mean = (min_ + max_) / 2\n",
    "sample_size = 10\n",
    "below_or_at_mean = []\n",
    "above_mean = []\n",
    "\n",
    "random.seed(0)\n",
    "for i in range(sample_size):\n",
    "    num = random.randint(min_, max_)\n",
    "    ic(num)\n",
    "    if num <= mean:\n",
    "        ic()\n",
    "        below_or_at_mean.append(num)\n",
    "    else:\n",
    "        ic()\n",
    "        above_mean.append(num)"
   ]
  },
  {
   "cell_type": "markdown",
   "id": "63481253-12d9-4ac0-9e0f-bc620b0ffbbf",
   "metadata": {},
   "source": [
    "Maybe not very useful in a Jupyter notebook, but can come in handy in a Python app, where the `ic` output will tell you the module, enclosing function (if any), and the line number in the module file - that way you can easily tell the path your code execution is taking."
   ]
  },
  {
   "cell_type": "markdown",
   "id": "cea15847-f8ee-4d0c-8717-8288fe72b8c1",
   "metadata": {},
   "source": [
    "The nice thing about `ic` is that, unlike `print`, not only will it provide the print output, but it also **returns** the value of the expression.\n",
    "\n",
    "This means you can easily add these prints without having to add lines of code:"
   ]
  },
  {
   "cell_type": "code",
   "execution_count": 5,
   "id": "44978a6d-dda8-4d62-9620-0b7c82220ee0",
   "metadata": {},
   "outputs": [
    {
     "name": "stderr",
     "output_type": "stream",
     "text": [
      "ic| random.randint(min_, max_): 149\n",
      "ic| random.randint(min_, max_): 197\n",
      "ic| random.randint(min_, max_): 153\n",
      "ic| random.randint(min_, max_): 105\n",
      "ic| random.randint(min_, max_): 133\n",
      "ic| random.randint(min_, max_): 165\n",
      "ic| random.randint(min_, max_): 162\n",
      "ic| random.randint(min_, max_): 151\n",
      "ic| random.randint(min_, max_): 200\n",
      "ic| random.randint(min_, max_): 138\n"
     ]
    }
   ],
   "source": [
    "import random\n",
    "\n",
    "min_ = 100\n",
    "max_ = 200\n",
    "mean = (min_ + max_) / 2\n",
    "sample_size = 10\n",
    "below_or_at_mean = []\n",
    "above_mean = []\n",
    "\n",
    "random.seed(0)\n",
    "for i in range(sample_size):\n",
    "    num = ic(random.randint(min_, max_))\n",
    "    if num <= mean:\n",
    "        below_or_at_mean.append(num)\n",
    "    else:\n",
    "        above_mean.append(num)"
   ]
  },
  {
   "cell_type": "code",
   "execution_count": 6,
   "id": "012d873f-5816-455e-aa5e-510375ee7d32",
   "metadata": {},
   "outputs": [
    {
     "data": {
      "text/plain": [
       "[149, 105, 133, 138]"
      ]
     },
     "execution_count": 6,
     "metadata": {},
     "output_type": "execute_result"
    }
   ],
   "source": [
    "below_or_at_mean"
   ]
  },
  {
   "cell_type": "code",
   "execution_count": 7,
   "id": "310a90e5-c87c-4bd3-9e44-5d388866ccdf",
   "metadata": {},
   "outputs": [
    {
     "data": {
      "text/plain": [
       "[197, 153, 165, 162, 151, 200]"
      ]
     },
     "execution_count": 7,
     "metadata": {},
     "output_type": "execute_result"
    }
   ],
   "source": [
    "above_mean"
   ]
  },
  {
   "cell_type": "markdown",
   "id": "cc5634ff-a193-480f-97c7-24b53cc6cdf0",
   "metadata": {},
   "source": [
    "Or possibly in cases such as this:"
   ]
  },
  {
   "cell_type": "code",
   "execution_count": 8,
   "id": "227f65ad-9eb4-47b2-8d8e-96d355a8e6f2",
   "metadata": {},
   "outputs": [
    {
     "name": "stderr",
     "output_type": "stream",
     "text": [
      "ic| my_func(10, 20): 30\n"
     ]
    },
    {
     "data": {
      "text/plain": [
       "30"
      ]
     },
     "execution_count": 8,
     "metadata": {},
     "output_type": "execute_result"
    }
   ],
   "source": [
    "def my_func(a, b):\n",
    "    return a + b\n",
    "\n",
    "sum_ = ic(my_func(10, 20))\n",
    "sum_"
   ]
  },
  {
   "cell_type": "markdown",
   "id": "9d6f92fe-3270-4eab-8732-298f8a018075",
   "metadata": {},
   "source": [
    "In fact, since `ic` returns any results, you can even inject it into your code this way:"
   ]
  },
  {
   "cell_type": "code",
   "execution_count": 9,
   "id": "621508c2-8930-44f8-acff-5192531a2d52",
   "metadata": {},
   "outputs": [],
   "source": [
    "def my_func(a, b):\n",
    "    return ic(a) + ic(b)"
   ]
  },
  {
   "cell_type": "code",
   "execution_count": 10,
   "id": "acc5d6c7-7ffe-4584-98cd-ba932790cc09",
   "metadata": {},
   "outputs": [
    {
     "name": "stderr",
     "output_type": "stream",
     "text": [
      "ic| a: 10\n",
      "ic| b: 20\n"
     ]
    },
    {
     "data": {
      "text/plain": [
       "30"
      ]
     },
     "execution_count": 10,
     "metadata": {},
     "output_type": "execute_result"
    }
   ],
   "source": [
    "my_func(10, 20)"
   ]
  },
  {
   "cell_type": "code",
   "execution_count": 11,
   "id": "ba7d9de3-355e-4956-ae62-beaf6827c2b5",
   "metadata": {},
   "outputs": [
    {
     "name": "stderr",
     "output_type": "stream",
     "text": [
      "ic| a: 10\n",
      "ic| b: 20\n",
      "ic| my_func(10, 20): 30\n"
     ]
    },
    {
     "data": {
      "text/plain": [
       "30"
      ]
     },
     "execution_count": 11,
     "metadata": {},
     "output_type": "execute_result"
    }
   ],
   "source": [
    "ic(my_func(10, 20))"
   ]
  },
  {
   "cell_type": "markdown",
   "id": "3b317f55-f796-4cb7-b1dd-9c33a3c0e6d7",
   "metadata": {},
   "source": [
    "The nice thing also about `ic` is that you can entirely enable or disable it's functionality without having to rewrite any code (unlike print statement that you then have to pull out of your final code)."
   ]
  },
  {
   "cell_type": "code",
   "execution_count": 12,
   "id": "5396fb60-c494-402b-9508-ee8ca562a74b",
   "metadata": {},
   "outputs": [
    {
     "name": "stderr",
     "output_type": "stream",
     "text": [
      "ic| a: 10\n",
      "ic| b: 20\n"
     ]
    },
    {
     "data": {
      "text/plain": [
       "30"
      ]
     },
     "execution_count": 12,
     "metadata": {},
     "output_type": "execute_result"
    }
   ],
   "source": [
    "my_func(10, 20)"
   ]
  },
  {
   "cell_type": "code",
   "execution_count": 13,
   "id": "f15a878e-50a2-4078-849a-d8c6c7fe947d",
   "metadata": {},
   "outputs": [],
   "source": [
    "ic.disable()"
   ]
  },
  {
   "cell_type": "code",
   "execution_count": 14,
   "id": "e8bee0f1-6bf3-4c57-9f1e-adee36387f2f",
   "metadata": {},
   "outputs": [
    {
     "data": {
      "text/plain": [
       "30"
      ]
     },
     "execution_count": 14,
     "metadata": {},
     "output_type": "execute_result"
    }
   ],
   "source": [
    "my_func(10, 20)"
   ]
  },
  {
   "cell_type": "markdown",
   "id": "ac2ea01c-a20f-4f68-891f-28cf98754f84",
   "metadata": {},
   "source": [
    "We can also reenable it:"
   ]
  },
  {
   "cell_type": "code",
   "execution_count": 15,
   "id": "132eb84f-05b1-4e84-a47b-eaf3289a88f1",
   "metadata": {},
   "outputs": [],
   "source": [
    "ic.enable()"
   ]
  },
  {
   "cell_type": "code",
   "execution_count": 16,
   "id": "f9603a92-bd44-4c91-b609-778e86c43069",
   "metadata": {},
   "outputs": [
    {
     "name": "stderr",
     "output_type": "stream",
     "text": [
      "ic| a: 10\n",
      "ic| b: 20\n"
     ]
    },
    {
     "data": {
      "text/plain": [
       "30"
      ]
     },
     "execution_count": 16,
     "metadata": {},
     "output_type": "execute_result"
    }
   ],
   "source": [
    "my_func(10, 20)"
   ]
  },
  {
   "cell_type": "markdown",
   "id": "ad289c41-dd66-4f82-adbc-4a41a3051f93",
   "metadata": {},
   "source": [
    "Later, I'll also show you some of the configuration options available for `ic`."
   ]
  },
  {
   "cell_type": "markdown",
   "id": "eaf8fd1c-203c-4e7c-93f0-3cb8fec10d15",
   "metadata": {},
   "source": [
    "Let's implement a merge sort algorithm, and we'll use `ic` to get insight into what's happening."
   ]
  },
  {
   "cell_type": "markdown",
   "id": "f8d8faff-63e4-48ed-bba0-4c0c4d25d638",
   "metadata": {},
   "source": [
    "Now, this video is not about merge sorts, so I won't spend a lot of time explaining how merge sorts work.\n",
    "\n",
    "Basically, mrge sort is a recursive algorithm. \n",
    "\n",
    "Our initial problem is how to sort a list containing N elements.\n",
    "\n",
    "We certainly don't know how to do that easily, but what if the list is a **single** element? Can we sort that?\n",
    "\n",
    "Of course, the answer is **yes**, the list, if it contains a single element is already sorted.\n",
    "\n",
    "So, the merge sort approach is to reduce sorting to just sorting a single element array.\n",
    "\n",
    "To do that we keep splitting the array into smaller and smaller parts until we reach arrays of single elements. The trick then becomes how to reassemble these now sorted sub-arrays into a single sorted array - this is the **merge** step of the MergeSort algorithm."
   ]
  },
  {
   "cell_type": "markdown",
   "id": "6c517dc6-f260-4a08-adcc-7a69b1b23b83",
   "metadata": {},
   "source": [
    "Let's look at a simple example and do the work manually, step by step:"
   ]
  },
  {
   "cell_type": "markdown",
   "id": "c85ca919-92bc-4fc4-bd1e-fab21e9c78ba",
   "metadata": {},
   "source": [
    "Start with a list `[4, 3]`"
   ]
  },
  {
   "cell_type": "markdown",
   "id": "4990bdb5-e54a-4b78-9444-0dad887f27d2",
   "metadata": {},
   "source": [
    "Since that list has size `2`, we split into two separate lists, which will end up being lists of size `1`:\n",
    "```\n",
    "l1 = [4]\n",
    "l2 = [3]\n",
    "```\n",
    "\n",
    "We have now two **sorted** lists - we just need to merge then back (maintaining the sort order).\n",
    "\n",
    "To do that we iterate through both lists - at each iteration we look at both lists and pick the smalles (or largest, depending on what ordering you want), and add that to our final sorted list.\n",
    "\n",
    "Here, we start with an empty results list:\n",
    "\n",
    "```results = []```\n",
    "\n",
    "Next, we look at the first element of both lists: `4` and `3`. We pick `3` and that to our results (and now \"discard\" the element we just \"took\" from `l2` - in practice we don't delete anything, we just maintain an index value which tells us which element to look at in each list). So now we end up with:\n",
    "\n",
    "```\n",
    "results = [3]\n",
    "l1 = [4]\n",
    "l2 = []\n",
    "```\n",
    "\n",
    "We iterate again, this time `l2` is \"empty\", and the only value we have is from `l1`, so we pick that number (it's the smallest), and we end up with:\n",
    "\n",
    "```results = [3, 4]\n",
    "l1 = []\n",
    "l2 = []\n",
    "```\n",
    "\n",
    "Since both `l1` and `l2` are \"empty\", we are done with the sort."
   ]
  },
  {
   "cell_type": "markdown",
   "id": "a225d084-27a7-474e-8f99-afd288ac7169",
   "metadata": {},
   "source": [
    "Let's do this again, but this time with `5` elements:"
   ]
  },
  {
   "cell_type": "markdown",
   "id": "e91b4a4d-5ab0-4403-8dbd-f755739be679",
   "metadata": {},
   "source": [
    "```\n",
    "data = [2, 1, 4, 3, 5]\n",
    "results = []\n",
    "```\n",
    "\n",
    "**Step 1:**\n",
    "```\n",
    "l1 = [2, 1, 4]\n",
    "l2 = [3, 5]\n",
    "```\n",
    "\n",
    "**Step 2:**:\n",
    "```\n",
    "l1_1 = [2, 1]\n",
    "l1_2 = [4]\n",
    "```\n",
    "\n",
    "**Step 3:**\n",
    "```\n",
    "l1_1_1 = [2]\n",
    "l1_1_2 = [1]\n",
    "```\n",
    "merging -> `l1_1_sorted` is the sorted list for `l1_1` --> `[1, 2]`\n",
    "\n",
    "**Step 4:**\n",
    "`l1_1` has been sorted, and `l1_2` is already sorted, so merge!\n",
    "merge `sorted_l1_1` with `l1_2`. This means we have now sorted `l1`, let's call that list `l1_sorted` --> `[1, 2, 4]`\n",
    "\n",
    "**Step 5:**\n",
    "We still have to sort `l2` before we can merge it with `l1_sorted`. \n",
    "l2_1 = [3]\n",
    "l2_2 = [5]\n",
    "\n",
    "**Step 6:**\n",
    "`l2_1` is already sorted (`1` element), no more work needed here.\n",
    "`l2_2` is already sorted(`1` element), no more work needed here.\n",
    "Merge --> `l2_sorted` --> `[3, 5]`\n",
    "\n",
    "**Step 7:**\n",
    "We now have `sorted_l1` and `sorted_l2`, and we can now merge them to obtain our final sorted array:\n",
    "```\n",
    "sorted_l1 = [1, 2, 4]\n",
    "sorted_l2 = [3, 5]\n",
    "```\n",
    "\n",
    "merge --> `[1, 2, 3, 4, 5]`\n",
    "\n"
   ]
  },
  {
   "cell_type": "markdown",
   "id": "45638c58-1e32-47e7-8394-ca21ae112404",
   "metadata": {},
   "source": [
    "So now let's implement our merge sort algorithm in Python - we know we'll need a separate function for merging two **already sorted** lists. Let's start there. I am actually going to use generators here - makes the code a bit simpler - we can let the caller of `merge()` make a list if needed.\n",
    "\n",
    "(I've intentionally made a mistake in the code)."
   ]
  },
  {
   "cell_type": "code",
   "execution_count": 17,
   "id": "95b4be4a-9cd8-4c32-88bb-20135c840d0e",
   "metadata": {},
   "outputs": [],
   "source": [
    "def merge(l1, l2):\n",
    "    # assumptions is that both l1 and l2 are sorted\n",
    "    l1_index = 0\n",
    "    l2_index = 0\n",
    "\n",
    "    while l1_index < len(l1) and l2_index < len(l2):\n",
    "        l1_value = l1[l1_index]\n",
    "        l2_value = l2[l2_index]\n",
    "        if l1_value < l2_value:\n",
    "            l1_index = l1_index + 1\n",
    "            yield l1_value\n",
    "        else:\n",
    "            l2_index = l2_index + 1\n",
    "            yield l2_value\n",
    "    # At this point one (or both) of the lists are \"empty\". If one is non-empty (and \n",
    "    # only one can be non-empty), just yield those values (they're already sorted)\n",
    "    if l1_index < len(l1):\n",
    "        yield from l1[l1_index+1:]\n",
    "    if l2_index < len(l2):\n",
    "        yield from l2[l2_index+1:]"
   ]
  },
  {
   "cell_type": "markdown",
   "id": "3bb589a4-3550-4869-8bc1-3d79346c5c61",
   "metadata": {},
   "source": [
    "Let's test our merge algorithm with two sorted lists:"
   ]
  },
  {
   "cell_type": "code",
   "execution_count": 18,
   "id": "3bfcee9d-2f82-46e3-92bd-ab874cf0d16c",
   "metadata": {},
   "outputs": [
    {
     "data": {
      "text/plain": [
       "[1, 2, 3, 4, 6, 9]"
      ]
     },
     "execution_count": 18,
     "metadata": {},
     "output_type": "execute_result"
    }
   ],
   "source": [
    "list(merge([1, 4, 6], [2, 3, 8, 9]))"
   ]
  },
  {
   "cell_type": "markdown",
   "id": "949cec18-a448-46c3-8ed2-a0c73598903a",
   "metadata": {},
   "source": [
    "Well, that's obviously not working, what happened to `8`?"
   ]
  },
  {
   "cell_type": "markdown",
   "id": "45952975-4f71-4020-9453-d9f4d24eae73",
   "metadata": {},
   "source": [
    "Normally, I'd either move this to something like PyCharm and use the debugger, or just add print statements - but let's use `ic`:"
   ]
  },
  {
   "cell_type": "code",
   "execution_count": 19,
   "id": "7be9f522-69be-461c-896a-6d658360ac9e",
   "metadata": {},
   "outputs": [],
   "source": [
    "def merge(l1, l2):\n",
    "    # assumptions is that both l1 and l2 are sorted\n",
    "    l1_index = 0\n",
    "    l2_index = 0\n",
    "\n",
    "    while l1_index < len(l1) and l2_index < len(l2):\n",
    "        l1_value = ic(l1[l1_index])\n",
    "        l2_value = ic(l2[l2_index])\n",
    "        if l1_value < l2_value:\n",
    "            l1_index = ic(l1_index + 1)\n",
    "            yield ic(l1_value)\n",
    "        else:\n",
    "            l2_index = ic(l2_index + 1)\n",
    "            yield ic(l2_value)\n",
    "    # At this point one (or both) of the lists are \"empty\". If one is non-empty (and \n",
    "    # only one can be non-empty), just yield those values (they're already sorted)\n",
    "    ic(\"At least one list is now empty\")\n",
    "    if l1_index < len(l1):\n",
    "        ic(\"l1 non-empty\")\n",
    "        yield from ic(l1[l1_index+1:])\n",
    "    if l2_index < len(l2):\n",
    "        ic(\"l2 non-empty\")\n",
    "        yield from ic(l2[l2_index+1:])"
   ]
  },
  {
   "cell_type": "code",
   "execution_count": 20,
   "id": "978256f0-858a-46e9-9b68-c1d6bb48bd06",
   "metadata": {},
   "outputs": [
    {
     "name": "stderr",
     "output_type": "stream",
     "text": [
      "ic| l1[l1_index]: 1\n",
      "ic| l2[l2_index]: 2\n",
      "ic| l1_index + 1: 1\n",
      "ic| l1_value: 1\n",
      "ic| l1[l1_index]: 4\n",
      "ic| l2[l2_index]: 2\n",
      "ic| l2_index + 1: 1\n",
      "ic| l2_value: 2\n",
      "ic| l1[l1_index]: 4\n",
      "ic| l2[l2_index]: 3\n",
      "ic| l2_index + 1: 2\n",
      "ic| l2_value: 3\n",
      "ic| l1[l1_index]: 4\n",
      "ic| l2[l2_index]: 8\n",
      "ic| l1_index + 1: 2\n",
      "ic| l1_value: 4\n",
      "ic| l1[l1_index]: 6\n",
      "ic| l2[l2_index]: 8\n",
      "ic| l1_index + 1: 3\n",
      "ic| l1_value: 6\n",
      "ic| 'At least one list is now empty'\n",
      "ic| 'l2 non-empty'\n",
      "ic| l2[l2_index+1:]: [9]\n"
     ]
    },
    {
     "data": {
      "text/plain": [
       "[1, 2, 3, 4, 6, 9]"
      ]
     },
     "execution_count": 20,
     "metadata": {},
     "output_type": "execute_result"
    }
   ],
   "source": [
    "list(merge([1, 4, 6], [2, 3, 8, 9]))"
   ]
  },
  {
   "cell_type": "markdown",
   "id": "64ccbeb7-6e7c-4243-9dbf-fe8d4bbf96ba",
   "metadata": {},
   "source": [
    "As we can see, most of the algorithm seems to be working - we are pulling off values `1`, then `2`, `3`, `4` and `6`.\n",
    "\n",
    "Then we see that `l2` is non-empty, and it \"contains\" just a single element `9` - that's wrong, we know that it shoudl also contain `8` (it was never yielded before), so our issue is in the code there.\n",
    "\n",
    "Easy fix, we just have the indexing wrong:"
   ]
  },
  {
   "cell_type": "code",
   "execution_count": 21,
   "id": "50f5cb24-5ea1-46d0-a020-8bfac2f6825a",
   "metadata": {},
   "outputs": [],
   "source": [
    "def merge(l1, l2):\n",
    "    # assumptions is that both l1 and l2 are sorted\n",
    "    l1_index = 0\n",
    "    l2_index = 0\n",
    "\n",
    "    while l1_index < len(l1) and l2_index < len(l2):\n",
    "        l1_value = ic(l1[l1_index])\n",
    "        l2_value = ic(l2[l2_index])\n",
    "        if l1_value < l2_value:\n",
    "            l1_index = ic(l1_index + 1)\n",
    "            yield ic(l1_value)\n",
    "        else:\n",
    "            l2_index = ic(l2_index + 1)\n",
    "            yield ic(l2_value)\n",
    "    # At this point one (or both) of the lists are \"empty\". If one is non-empty (and \n",
    "    # only one can be non-empty), just yield those values (they're already sorted)\n",
    "    ic(\"At least one list is now empty\")\n",
    "    if l1_index < len(l1):\n",
    "        ic(\"l1 non-empty\")\n",
    "        yield from ic(l1[l1_index:])\n",
    "    if l2_index < len(l2):\n",
    "        ic(\"l2 non-empty\")\n",
    "        yield from ic(l2[l2_index:])"
   ]
  },
  {
   "cell_type": "code",
   "execution_count": 22,
   "id": "80b3a7b3-4151-486a-ac4e-105f403aa13c",
   "metadata": {},
   "outputs": [
    {
     "name": "stderr",
     "output_type": "stream",
     "text": [
      "ic| l1[l1_index]: 1\n",
      "ic| l2[l2_index]: 2\n",
      "ic| l1_index + 1: 1\n",
      "ic| l1_value: 1\n",
      "ic| l1[l1_index]: 4\n",
      "ic| l2[l2_index]: 2\n",
      "ic| l2_index + 1: 1\n",
      "ic| l2_value: 2\n",
      "ic| l1[l1_index]: 4\n",
      "ic| l2[l2_index]: 3\n",
      "ic| l2_index + 1: 2\n",
      "ic| l2_value: 3\n",
      "ic| l1[l1_index]: 4\n",
      "ic| l2[l2_index]: 8\n",
      "ic| l1_index + 1: 2\n",
      "ic| l1_value: 4\n",
      "ic| l1[l1_index]: 6\n",
      "ic| l2[l2_index]: 8\n",
      "ic| l1_index + 1: 3\n",
      "ic| l1_value: 6\n",
      "ic| 'At least one list is now empty'\n",
      "ic| 'l2 non-empty'\n",
      "ic| l2[l2_index:]: [8, 9]\n"
     ]
    },
    {
     "data": {
      "text/plain": [
       "[1, 2, 3, 4, 6, 8, 9]"
      ]
     },
     "execution_count": 22,
     "metadata": {},
     "output_type": "execute_result"
    }
   ],
   "source": [
    "list(merge([1, 4, 6], [2, 3, 8, 9]))"
   ]
  },
  {
   "cell_type": "markdown",
   "id": "1a985b31-09b7-44a0-896a-575e855e4a4a",
   "metadata": {},
   "source": [
    "Now everything seems correct.\n",
    "\n",
    "Let's go ahead and now write the sort function itself. This is the recursive function that will keep splitting the unsorted lists, until they reach a single element, then merge the results as the recursion unwinds. (Note that the approach I use here could be improved substantially by not having to actually split lists into sub lists, but rather maintain pointers to start/stop locations - but that's more complex, so I'm taking the \"easy\" way out, for clarity)"
   ]
  },
  {
   "cell_type": "code",
   "execution_count": 23,
   "id": "b08e0cec-fab8-4b58-81b2-484b94e5ee19",
   "metadata": {},
   "outputs": [],
   "source": [
    "def sort(data):\n",
    "    if len(data) > 1:\n",
    "        left = data[:len(data)//2]\n",
    "        right = data[len(data)//2+1:]\n",
    "    else:\n",
    "        return data"
   ]
  },
  {
   "cell_type": "markdown",
   "id": "90160e6e-4cc5-4a08-a18d-0985f1896650",
   "metadata": {},
   "source": [
    "Now, I'm not sure about whether the way I am splitting the array is correct, so let's use `ic` to view what's happening:"
   ]
  },
  {
   "cell_type": "code",
   "execution_count": 24,
   "id": "615f3a40-1dcd-4ad4-a7dc-f6290535dc48",
   "metadata": {},
   "outputs": [],
   "source": [
    "def sort(data):\n",
    "    if len(data) > 1:\n",
    "        left = ic(data[:len(data)//2])\n",
    "        right = ic(data[len(data)//2+1:])\n",
    "    else:\n",
    "        return data"
   ]
  },
  {
   "cell_type": "code",
   "execution_count": 25,
   "id": "b836b1ba-c5f9-4ec5-845b-bc5ef8afff9e",
   "metadata": {},
   "outputs": [
    {
     "name": "stderr",
     "output_type": "stream",
     "text": [
      "ic| data[:len(data)//2]: [5, 4]\n",
      "ic| data[len(data)//2+1:]: [2, 1]\n"
     ]
    }
   ],
   "source": [
    "sort([5, 4, 3, 2, 1])"
   ]
  },
  {
   "cell_type": "markdown",
   "id": "89ae066e-01b3-45c4-a237-d0c485da1afd",
   "metadata": {},
   "source": [
    "Ah, as you can see there's a mistake, let's fix that:"
   ]
  },
  {
   "cell_type": "code",
   "execution_count": 26,
   "id": "6f61f3bb-ac3c-4741-bdd6-84b8f682ac8c",
   "metadata": {},
   "outputs": [],
   "source": [
    "def sort(data):\n",
    "    if len(data) > 1:\n",
    "        left = ic(data[:len(data)//2])\n",
    "        right = ic(data[len(data)//2:])\n",
    "    else:\n",
    "        return data"
   ]
  },
  {
   "cell_type": "code",
   "execution_count": 27,
   "id": "41c450ba-c08c-4330-bd23-92015842071b",
   "metadata": {},
   "outputs": [
    {
     "name": "stderr",
     "output_type": "stream",
     "text": [
      "ic| data[:len(data)//2]: [1, 2, 3]\n",
      "ic| data[len(data)//2:]: [4, 5, 6]\n"
     ]
    }
   ],
   "source": [
    "sort([1, 2, 3, 4, 5, 6])"
   ]
  },
  {
   "cell_type": "code",
   "execution_count": 28,
   "id": "abcadadf-5840-4b4f-a1aa-c6c1a254df4c",
   "metadata": {},
   "outputs": [
    {
     "name": "stderr",
     "output_type": "stream",
     "text": [
      "ic| data[:len(data)//2]: [1]\n",
      "ic| data[len(data)//2:]: [2, 3]\n"
     ]
    }
   ],
   "source": [
    "sort([1, 2, 3])"
   ]
  },
  {
   "cell_type": "code",
   "execution_count": 29,
   "id": "4dc75d5c-c877-421c-bd80-9e6a5ef0d64f",
   "metadata": {},
   "outputs": [
    {
     "data": {
      "text/plain": [
       "[1]"
      ]
     },
     "execution_count": 29,
     "metadata": {},
     "output_type": "execute_result"
    }
   ],
   "source": [
    "sort([1])"
   ]
  },
  {
   "cell_type": "markdown",
   "id": "8dcf7061-976b-4247-a531-7993540ec6d5",
   "metadata": {},
   "source": [
    "Ok, seems to be working, so let's continue implementing the sort:"
   ]
  },
  {
   "cell_type": "code",
   "execution_count": 30,
   "id": "e7445cd4-198b-4101-b51f-8d912773ec19",
   "metadata": {},
   "outputs": [],
   "source": [
    "def sort(data):\n",
    "    if len(data) > 1:\n",
    "        left = ic(data[:len(data)//2])\n",
    "        right = ic(data[len(data)//2:])\n",
    "        left_sorted = ic(sort(left))\n",
    "        right_sorted = ic(sort(right))\n",
    "        return list(merge(left_sorted, right_sorted))\n",
    "    else:\n",
    "        return data"
   ]
  },
  {
   "cell_type": "code",
   "execution_count": 31,
   "id": "6eb4b082-77bb-466b-a844-58d63a0b15fb",
   "metadata": {},
   "outputs": [
    {
     "data": {
      "text/plain": [
       "[1]"
      ]
     },
     "execution_count": 31,
     "metadata": {},
     "output_type": "execute_result"
    }
   ],
   "source": [
    "sort([1])"
   ]
  },
  {
   "cell_type": "code",
   "execution_count": 32,
   "id": "7fdfe024-f3f9-4d2e-82f9-915a6270760e",
   "metadata": {},
   "outputs": [
    {
     "name": "stderr",
     "output_type": "stream",
     "text": [
      "ic| data[:len(data)//2]: [2]\n",
      "ic| data[len(data)//2:]: [1]\n",
      "ic| sort(left): [2]\n",
      "ic| sort(right): [1]\n",
      "ic| l1[l1_index]: 2\n",
      "ic| l2[l2_index]: 1\n",
      "ic| l2_index + 1: 1\n",
      "ic| l2_value: 1\n",
      "ic| 'At least one list is now empty'\n",
      "ic| 'l1 non-empty'\n",
      "ic| l1[l1_index:]: [2]\n"
     ]
    },
    {
     "data": {
      "text/plain": [
       "[1, 2]"
      ]
     },
     "execution_count": 32,
     "metadata": {},
     "output_type": "execute_result"
    }
   ],
   "source": [
    "sort([2, 1])"
   ]
  },
  {
   "cell_type": "code",
   "execution_count": 33,
   "id": "ce590c58-3ce7-44c8-b655-9255dabc92b8",
   "metadata": {},
   "outputs": [
    {
     "name": "stderr",
     "output_type": "stream",
     "text": [
      "ic| data[:len(data)//2]: [5, 4, 6, 2]\n",
      "ic| data[len(data)//2:]: [3, 1, 8, 7, 9]\n",
      "ic| data[:len(data)//2]: [5, 4]\n",
      "ic| data[len(data)//2:]: [6, 2]\n",
      "ic| data[:len(data)//2]: [5]\n",
      "ic| data[len(data)//2:]: [4]\n",
      "ic| sort(left): [5]\n",
      "ic| sort(right): [4]\n",
      "ic| l1[l1_index]: 5\n",
      "ic| l2[l2_index]: 4\n",
      "ic| l2_index + 1: 1\n",
      "ic| l2_value: 4\n",
      "ic| 'At least one list is now empty'\n",
      "ic| 'l1 non-empty'\n",
      "ic| l1[l1_index:]: [5]\n",
      "ic| sort(left): [4, 5]\n",
      "ic| data[:len(data)//2]: [6]\n",
      "ic| data[len(data)//2:]: [2]\n",
      "ic| sort(left): [6]\n",
      "ic| sort(right): [2]\n",
      "ic| l1[l1_index]: 6\n",
      "ic| l2[l2_index]: 2\n",
      "ic| l2_index + 1: 1\n",
      "ic| l2_value: 2\n",
      "ic| 'At least one list is now empty'\n",
      "ic| 'l1 non-empty'\n",
      "ic| l1[l1_index:]: [6]\n",
      "ic| sort(right): [2, 6]\n",
      "ic| l1[l1_index]: 4\n",
      "ic| l2[l2_index]: 2\n",
      "ic| l2_index + 1: 1\n",
      "ic| l2_value: 2\n",
      "ic| l1[l1_index]: 4\n",
      "ic| l2[l2_index]: 6\n",
      "ic| l1_index + 1: 1\n",
      "ic| l1_value: 4\n",
      "ic| l1[l1_index]: 5\n",
      "ic| l2[l2_index]: 6\n",
      "ic| l1_index + 1: 2\n",
      "ic| l1_value: 5\n",
      "ic| 'At least one list is now empty'\n",
      "ic| 'l2 non-empty'\n",
      "ic| l2[l2_index:]: [6]\n",
      "ic| sort(left): [2, 4, 5, 6]\n",
      "ic| data[:len(data)//2]: [3, 1]\n",
      "ic| data[len(data)//2:]: [8, 7, 9]\n",
      "ic| data[:len(data)//2]: [3]\n",
      "ic| data[len(data)//2:]: [1]\n",
      "ic| sort(left): [3]\n",
      "ic| sort(right): [1]\n",
      "ic| l1[l1_index]: 3\n",
      "ic| l2[l2_index]: 1\n",
      "ic| l2_index + 1: 1\n",
      "ic| l2_value: 1\n",
      "ic| 'At least one list is now empty'\n",
      "ic| 'l1 non-empty'\n",
      "ic| l1[l1_index:]: [3]\n",
      "ic| sort(left): [1, 3]\n",
      "ic| data[:len(data)//2]: [8]\n",
      "ic| data[len(data)//2:]: [7, 9]\n",
      "ic| sort(left): [8]\n",
      "ic| data[:len(data)//2]: [7]\n",
      "ic| data[len(data)//2:]: [9]\n",
      "ic| sort(left): [7]\n",
      "ic| sort(right): [9]\n",
      "ic| l1[l1_index]: 7\n",
      "ic| l2[l2_index]: 9\n",
      "ic| l1_index + 1: 1\n",
      "ic| l1_value: 7\n",
      "ic| 'At least one list is now empty'\n",
      "ic| 'l2 non-empty'\n",
      "ic| l2[l2_index:]: [9]\n",
      "ic| sort(right): [7, 9]\n",
      "ic| l1[l1_index]: 8\n",
      "ic| l2[l2_index]: 7\n",
      "ic| l2_index + 1: 1\n",
      "ic| l2_value: 7\n",
      "ic| l1[l1_index]: 8\n",
      "ic| l2[l2_index]: 9\n",
      "ic| l1_index + 1: 1\n",
      "ic| l1_value: 8\n",
      "ic| 'At least one list is now empty'\n",
      "ic| 'l2 non-empty'\n",
      "ic| l2[l2_index:]: [9]\n",
      "ic| sort(right): [7, 8, 9]\n",
      "ic| l1[l1_index]: 1\n",
      "ic| l2[l2_index]: 7\n",
      "ic| l1_index + 1: 1\n",
      "ic| l1_value: 1\n",
      "ic| l1[l1_index]: 3\n",
      "ic| l2[l2_index]: 7\n",
      "ic| l1_index + 1: 2\n",
      "ic| l1_value: 3\n",
      "ic| 'At least one list is now empty'\n",
      "ic| 'l2 non-empty'\n",
      "ic| l2[l2_index:]: [7, 8, 9]\n",
      "ic| sort(right): [1, 3, 7, 8, 9]\n",
      "ic| l1[l1_index]: 2\n",
      "ic| l2[l2_index]: 1\n",
      "ic| l2_index + 1: 1\n",
      "ic| l2_value: 1\n",
      "ic| l1[l1_index]: 2\n",
      "ic| l2[l2_index]: 3\n",
      "ic| l1_index + 1: 1\n",
      "ic| l1_value: 2\n",
      "ic| l1[l1_index]: 4\n",
      "ic| l2[l2_index]: 3\n",
      "ic| l2_index + 1: 2\n",
      "ic| l2_value: 3\n",
      "ic| l1[l1_index]: 4\n",
      "ic| l2[l2_index]: 7\n",
      "ic| l1_index + 1: 2\n",
      "ic| l1_value: 4\n",
      "ic| l1[l1_index]: 5\n",
      "ic| l2[l2_index]: 7\n",
      "ic| l1_index + 1: 3\n",
      "ic| l1_value: 5\n",
      "ic| l1[l1_index]: 6\n",
      "ic| l2[l2_index]: 7\n",
      "ic| l1_index + 1: 4\n",
      "ic| l1_value: 6\n",
      "ic| 'At least one list is now empty'\n",
      "ic| 'l2 non-empty'\n",
      "ic| l2[l2_index:]: [7, 8, 9]\n"
     ]
    },
    {
     "data": {
      "text/plain": [
       "[1, 2, 3, 4, 5, 6, 7, 8, 9]"
      ]
     },
     "execution_count": 33,
     "metadata": {},
     "output_type": "execute_result"
    }
   ],
   "source": [
    "sort([5, 4, 6, 2, 3, 1, 8, 7, 9])"
   ]
  },
  {
   "cell_type": "markdown",
   "id": "79522b31-049d-4d81-878b-040157eca1c0",
   "metadata": {},
   "source": [
    "Now, I can simply turn of all my \"debugging\" code, either by pulling the `ic` code out (which I probably would do once I have fully developed and tested my code, before putting into production), or, while I'm in the process of development turn it off (I can always turn it on in later parts of my code)."
   ]
  },
  {
   "cell_type": "code",
   "execution_count": 34,
   "id": "292ba234-cc80-454c-932f-686dd84688db",
   "metadata": {},
   "outputs": [],
   "source": [
    "ic.disable()"
   ]
  },
  {
   "cell_type": "code",
   "execution_count": 35,
   "id": "7f87875b-d033-4b15-9e05-af159377db17",
   "metadata": {},
   "outputs": [
    {
     "data": {
      "text/plain": [
       "[1, 2, 3, 4, 5, 6, 7, 8, 9]"
      ]
     },
     "execution_count": 35,
     "metadata": {},
     "output_type": "execute_result"
    }
   ],
   "source": [
    "sort([5, 4, 6, 2, 3, 1, 8, 7, 9])"
   ]
  },
  {
   "cell_type": "markdown",
   "id": "c9131d95-b42c-4af1-9dac-10e09207f09f",
   "metadata": {},
   "source": [
    "You can also customize `ic`, and you'll find all of these in the library docs, but one I want to point out that can prove useful is configuring a `prefix`:"
   ]
  },
  {
   "cell_type": "code",
   "execution_count": 36,
   "id": "0d3d43e1-ba40-436e-b7f2-6abb9c97214d",
   "metadata": {},
   "outputs": [],
   "source": [
    "ic.enable()"
   ]
  },
  {
   "cell_type": "code",
   "execution_count": 37,
   "id": "cdcbc269-116e-40e0-a140-0a1c627a0d53",
   "metadata": {},
   "outputs": [
    {
     "name": "stderr",
     "output_type": "stream",
     "text": [
      "ic| 10 + 20: 30\n"
     ]
    },
    {
     "data": {
      "text/plain": [
       "30"
      ]
     },
     "execution_count": 37,
     "metadata": {},
     "output_type": "execute_result"
    }
   ],
   "source": [
    "ic(10 + 20)"
   ]
  },
  {
   "cell_type": "code",
   "execution_count": 38,
   "id": "4d7543eb-b1ce-4127-9f29-5cea2fade9fa",
   "metadata": {},
   "outputs": [],
   "source": [
    "ic.configureOutput(prefix='jupyter| ')"
   ]
  },
  {
   "cell_type": "code",
   "execution_count": 39,
   "id": "dff1ff21-9b94-4f25-b4ba-a6368a84bc24",
   "metadata": {},
   "outputs": [
    {
     "name": "stderr",
     "output_type": "stream",
     "text": [
      "jupyter| 10+20: 30\n"
     ]
    },
    {
     "data": {
      "text/plain": [
       "30"
      ]
     },
     "execution_count": 39,
     "metadata": {},
     "output_type": "execute_result"
    }
   ],
   "source": [
    "ic(10+20)"
   ]
  },
  {
   "cell_type": "markdown",
   "id": "94c649a6-be24-4ae9-a6d4-6416917e271d",
   "metadata": {},
   "source": [
    "And the prefix can even be a callable, maybe to output the current datetime, or even just the perf_counter:"
   ]
  },
  {
   "cell_type": "code",
   "execution_count": 40,
   "id": "8ee397f9-914e-4278-9a42-132db3fa4649",
   "metadata": {},
   "outputs": [],
   "source": [
    "from time import perf_counter"
   ]
  },
  {
   "cell_type": "code",
   "execution_count": 41,
   "id": "b53917c2-4497-4e0e-9796-65c85c41f6d4",
   "metadata": {},
   "outputs": [],
   "source": [
    "ic.configureOutput(prefix=lambda: f\"debug| {perf_counter():.4f}s| \")"
   ]
  },
  {
   "cell_type": "code",
   "execution_count": 42,
   "id": "ed284a10-2222-4674-9e1e-d1a9c920b2af",
   "metadata": {},
   "outputs": [
    {
     "name": "stderr",
     "output_type": "stream",
     "text": [
      "debug| 2375948.2419s| data[:len(data)//2]: [5, 4, 6, 2]\n",
      "debug| 2375948.2501s| data[len(data)//2:]: [3, 1, 8, 7, 9]\n",
      "debug| 2375948.2573s| data[:len(data)//2]: [5, 4]\n",
      "debug| 2375948.2639s| data[len(data)//2:]: [6, 2]\n",
      "debug| 2375948.2703s| data[:len(data)//2]: [5]\n",
      "debug| 2375948.2769s| data[len(data)//2:]: [4]\n",
      "debug| 2375948.2829s| sort(left): [5]\n",
      "debug| 2375948.2869s| sort(right): [4]\n",
      "debug| 2375948.3312s| l1[l1_index]: 5\n",
      "debug| 2375948.3356s| l2[l2_index]: 4\n",
      "debug| 2375948.3398s| l2_index + 1: 1\n",
      "debug| 2375948.3446s| l2_value: 4\n",
      "debug| 2375948.3483s| 'At least one list is now empty'\n",
      "debug| 2375948.3512s| 'l1 non-empty'\n",
      "debug| 2375948.3543s| l1[l1_index:]: [5]\n",
      "debug| 2375948.3581s| sort(left): [4, 5]\n",
      "debug| 2375948.3623s| data[:len(data)//2]: [6]\n",
      "debug| 2375948.3667s| data[len(data)//2:]: [2]\n",
      "debug| 2375948.3718s| sort(left): [6]\n",
      "debug| 2375948.3762s| sort(right): [2]\n",
      "debug| 2375948.3800s| l1[l1_index]: 6\n",
      "debug| 2375948.3838s| l2[l2_index]: 2\n",
      "debug| 2375948.3874s| l2_index + 1: 1\n",
      "debug| 2375948.3913s| l2_value: 2\n",
      "debug| 2375948.3940s| 'At least one list is now empty'\n",
      "debug| 2375948.3969s| 'l1 non-empty'\n",
      "debug| 2375948.4592s| l1[l1_index:]: [6]\n",
      "debug| 2375948.4691s| sort(right): [2, 6]\n",
      "debug| 2375948.4738s| l1[l1_index]: 4\n",
      "debug| 2375948.5280s| l2[l2_index]: 2\n",
      "debug| 2375948.5319s| l2_index + 1: 1\n",
      "debug| 2375948.5353s| l2_value: 2\n",
      "debug| 2375948.5380s| l1[l1_index]: 4\n",
      "debug| 2375948.5414s| l2[l2_index]: 6\n",
      "debug| 2375948.5451s| l1_index + 1: 1\n",
      "debug| 2375948.5489s| l1_value: 4\n",
      "debug| 2375948.5522s| l1[l1_index]: 5\n",
      "debug| 2375948.5558s| l2[l2_index]: 6\n",
      "debug| 2375948.5596s| l1_index + 1: 2\n",
      "debug| 2375948.5635s| l1_value: 5\n",
      "debug| 2375948.5666s| 'At least one list is now empty'\n",
      "debug| 2375948.5698s| 'l2 non-empty'\n",
      "debug| 2375948.5733s| l2[l2_index:]: [6]\n",
      "debug| 2375948.5779s| sort(left): [2, 4, 5, 6]\n",
      "debug| 2375948.5833s| data[:len(data)//2]: [3, 1]\n",
      "debug| 2375948.5891s| data[len(data)//2:]: [8, 7, 9]\n",
      "debug| 2375948.5961s| data[:len(data)//2]: [3]\n",
      "debug| 2375948.6014s| data[len(data)//2:]: [1]\n",
      "debug| 2375948.6563s| sort(left): [3]\n",
      "debug| 2375948.6605s| sort(right): [1]\n",
      "debug| 2375948.6650s| l1[l1_index]: 3\n",
      "debug| 2375948.6686s| l2[l2_index]: 1\n",
      "debug| 2375948.6722s| l2_index + 1: 1\n",
      "debug| 2375948.6761s| l2_value: 1\n",
      "debug| 2375948.6790s| 'At least one list is now empty'\n",
      "debug| 2375948.6821s| 'l1 non-empty'\n",
      "debug| 2375948.6847s| l1[l1_index:]: [3]\n",
      "debug| 2375948.6884s| sort(left): [1, 3]\n",
      "debug| 2375948.6930s| data[:len(data)//2]: [8]\n",
      "debug| 2375948.6979s| data[len(data)//2:]: [7, 9]\n",
      "debug| 2375948.7034s| sort(left): [8]\n",
      "debug| 2375948.7077s| data[:len(data)//2]: [7]\n",
      "debug| 2375948.7138s| data[len(data)//2:]: [9]\n",
      "debug| 2375948.7189s| sort(left): [7]\n",
      "debug| 2375948.7229s| sort(right): [9]\n",
      "debug| 2375948.7271s| l1[l1_index]: 7\n",
      "debug| 2375948.7302s| l2[l2_index]: 9\n",
      "debug| 2375948.7831s| l1_index + 1: 1\n",
      "debug| 2375948.7875s| l1_value: 7\n",
      "debug| 2375948.7909s| 'At least one list is now empty'\n",
      "debug| 2375948.7944s| 'l2 non-empty'\n",
      "debug| 2375948.7975s| l2[l2_index:]: [9]\n",
      "debug| 2375948.8017s| sort(right): [7, 9]\n",
      "debug| 2375948.8064s| l1[l1_index]: 8\n",
      "debug| 2375948.8099s| l2[l2_index]: 7\n",
      "debug| 2375948.8142s| l2_index + 1: 1\n",
      "debug| 2375948.8178s| l2_value: 7\n",
      "debug| 2375948.8207s| l1[l1_index]: 8\n",
      "debug| 2375948.8247s| l2[l2_index]: 9\n",
      "debug| 2375948.8283s| l1_index + 1: 1\n",
      "debug| 2375948.8321s| l1_value: 8\n",
      "debug| 2375948.8353s| 'At least one list is now empty'\n",
      "debug| 2375948.8382s| 'l2 non-empty'\n",
      "debug| 2375948.8413s| l2[l2_index:]: [9]\n",
      "debug| 2375948.8452s| sort(right): [7, 8, 9]\n",
      "debug| 2375948.8499s| l1[l1_index]: 1\n",
      "debug| 2375948.8537s| l2[l2_index]: 7\n",
      "debug| 2375948.8576s| l1_index + 1: 1\n",
      "debug| 2375948.8621s| l1_value: 1\n",
      "debug| 2375948.8655s| l1[l1_index]: 3\n",
      "debug| 2375948.9165s| l2[l2_index]: 7\n",
      "debug| 2375948.9204s| l1_index + 1: 2\n",
      "debug| 2375948.9244s| l1_value: 3\n",
      "debug| 2375948.9275s| 'At least one list is now empty'\n",
      "debug| 2375948.9311s| 'l2 non-empty'\n",
      "debug| 2375948.9341s| l2[l2_index:]: [7, 8, 9]\n",
      "debug| 2375948.9394s| sort(right): [1, 3, 7, 8, 9]\n",
      "debug| 2375948.9456s| l1[l1_index]: 2\n",
      "debug| 2375948.9490s| l2[l2_index]: 1\n",
      "debug| 2375948.9525s| l2_index + 1: 1\n",
      "debug| 2375948.9561s| l2_value: 1\n",
      "debug| 2375948.9588s| l1[l1_index]: 2\n",
      "debug| 2375948.9632s| l2[l2_index]: 3\n",
      "debug| 2375948.9668s| l1_index + 1: 1\n",
      "debug| 2375948.9703s| l1_value: 2\n",
      "debug| 2375948.9732s| l1[l1_index]: 4\n",
      "debug| 2375948.9771s| l2[l2_index]: 3\n",
      "debug| 2375948.9805s| l2_index + 1: 2\n",
      "debug| 2375948.9841s| l2_value: 3\n",
      "debug| 2375948.9870s| l1[l1_index]: 4\n",
      "debug| 2375948.9905s| l2[l2_index]: 7\n",
      "debug| 2375948.9939s| l1_index + 1: 2\n",
      "debug| 2375949.0452s| l1_value: 4\n",
      "debug| 2375949.0482s| l1[l1_index]: 5\n",
      "debug| 2375949.0518s| l2[l2_index]: 7\n",
      "debug| 2375949.0551s| l1_index + 1: 3\n",
      "debug| 2375949.0585s| l1_value: 5\n",
      "debug| 2375949.0619s| l1[l1_index]: 6\n",
      "debug| 2375949.0654s| l2[l2_index]: 7\n",
      "debug| 2375949.0691s| l1_index + 1: 4\n",
      "debug| 2375949.0725s| l1_value: 6\n",
      "debug| 2375949.0757s| 'At least one list is now empty'\n",
      "debug| 2375949.0782s| 'l2 non-empty'\n",
      "debug| 2375949.0814s| l2[l2_index:]: [7, 8, 9]\n"
     ]
    },
    {
     "data": {
      "text/plain": [
       "[1, 2, 3, 4, 5, 6, 7, 8, 9]"
      ]
     },
     "execution_count": 42,
     "metadata": {},
     "output_type": "execute_result"
    }
   ],
   "source": [
    "sort([5, 4, 6, 2, 3, 1, 8, 7, 9])"
   ]
  },
  {
   "cell_type": "markdown",
   "id": "923428c4-cbc9-4a50-849a-e9700b398466",
   "metadata": {},
   "source": [
    "Since you can use any callable for the prefix, you could even use a closure - maybe you just want a counter that increments every time you output something with `ic`:"
   ]
  },
  {
   "cell_type": "code",
   "execution_count": 43,
   "id": "7a17113f-5571-4086-a4f6-1365c860b42b",
   "metadata": {},
   "outputs": [],
   "source": [
    "from datetime import datetime\n",
    "\n",
    "def create_counter():\n",
    "    count = -1\n",
    "\n",
    "    def counter():\n",
    "        nonlocal count\n",
    "        count += 1\n",
    "        return f\"debug| {count} | {datetime.now().isoformat()} | \"\n",
    "\n",
    "    return counter"
   ]
  },
  {
   "cell_type": "markdown",
   "id": "ca81cb2a-916e-4f30-9821-bb125a77893e",
   "metadata": {},
   "source": [
    "You can then use counter this way:"
   ]
  },
  {
   "cell_type": "code",
   "execution_count": 44,
   "id": "2dc50703-91c9-4736-a2b1-39d8d43a3e8a",
   "metadata": {},
   "outputs": [],
   "source": [
    "counter = create_counter()"
   ]
  },
  {
   "cell_type": "code",
   "execution_count": 45,
   "id": "b720bc10-b8a1-4a44-9362-091dd9ca1074",
   "metadata": {},
   "outputs": [
    {
     "data": {
      "text/plain": [
       "'debug| 0 | 2024-06-22T14:19:23.718279 | '"
      ]
     },
     "execution_count": 45,
     "metadata": {},
     "output_type": "execute_result"
    }
   ],
   "source": [
    "counter()"
   ]
  },
  {
   "cell_type": "code",
   "execution_count": 46,
   "id": "5afd681f-1492-4ce7-9f1d-102bc6857cf5",
   "metadata": {},
   "outputs": [
    {
     "data": {
      "text/plain": [
       "'debug| 1 | 2024-06-22T14:19:23.720791 | '"
      ]
     },
     "execution_count": 46,
     "metadata": {},
     "output_type": "execute_result"
    }
   ],
   "source": [
    "counter()"
   ]
  },
  {
   "cell_type": "code",
   "execution_count": 47,
   "id": "c3ed665a-08e1-4da3-8a89-584aa3926165",
   "metadata": {},
   "outputs": [
    {
     "data": {
      "text/plain": [
       "'debug| 2 | 2024-06-22T14:19:23.723809 | '"
      ]
     },
     "execution_count": 47,
     "metadata": {},
     "output_type": "execute_result"
    }
   ],
   "source": [
    "counter()"
   ]
  },
  {
   "cell_type": "markdown",
   "id": "f970f5ef-9fe5-43f7-953c-a98a100eeb41",
   "metadata": {},
   "source": [
    "And we can then use this counter with `ic` this way:"
   ]
  },
  {
   "cell_type": "code",
   "execution_count": 48,
   "id": "f21eafdb-8cfd-4fce-9b64-392385e056d4",
   "metadata": {},
   "outputs": [],
   "source": [
    "ic.configureOutput(prefix=create_counter())"
   ]
  },
  {
   "cell_type": "code",
   "execution_count": 49,
   "id": "7f7d1a95-d8aa-4ddc-a5a9-2ff60b36809b",
   "metadata": {},
   "outputs": [
    {
     "name": "stderr",
     "output_type": "stream",
     "text": [
      "debug| 0 | 2024-06-22T14:19:23.728496 | data[:len(data)//2]: [5, 3]\n",
      "debug| 1 | 2024-06-22T14:19:23.736186 | data[len(data)//2:]: [1, 2, 4]\n",
      "debug| 2 | 2024-06-22T14:19:23.744001 | data[:len(data)//2]: [5]\n",
      "debug| 3 | 2024-06-22T14:19:23.790455 | data[len(data)//2:]: [3]\n",
      "debug| 4 | 2024-06-22T14:19:23.797813 | sort(left): [5]\n",
      "debug| 5 | 2024-06-22T14:19:23.803860 | sort(right): [3]\n",
      "debug| 6 | 2024-06-22T14:19:23.809359 | l1[l1_index]: 5\n",
      "debug| 7 | 2024-06-22T14:19:23.815403 | l2[l2_index]: 3\n",
      "debug| 8 | 2024-06-22T14:19:23.821891 | l2_index + 1: 1\n",
      "debug| 9 | 2024-06-22T14:19:23.827558 | l2_value: 3\n",
      "debug| 10 | 2024-06-22T14:19:23.832918 | \"At least one list is now empty\": 'At least one list is now empty'\n",
      "debug| 11 | 2024-06-22T14:19:23.838869 | 'l1 non-empty'\n",
      "debug| 12 | 2024-06-22T14:19:23.844132 | l1[l1_index:]: [5]\n",
      "debug| 13 | 2024-06-22T14:19:23.851353 | sort(left): [3, 5]\n",
      "debug| 14 | 2024-06-22T14:19:23.858346 | data[:len(data)//2]: [1]\n",
      "debug| 15 | 2024-06-22T14:19:23.917447 | data[len(data)//2:]: [2, 4]\n",
      "debug| 16 | 2024-06-22T14:19:23.924922 | sort(left): [1]\n",
      "debug| 17 | 2024-06-22T14:19:23.931248 | data[:len(data)//2]: [2]\n",
      "debug| 18 | 2024-06-22T14:19:23.938582 | data[len(data)//2:]: [4]\n",
      "debug| 19 | 2024-06-22T14:19:23.946765 | sort(left): [2]\n",
      "debug| 20 | 2024-06-22T14:19:23.953081 | sort(right): [4]\n",
      "debug| 21 | 2024-06-22T14:19:23.959550 | l1[l1_index]: 2\n",
      "debug| 22 | 2024-06-22T14:19:23.965321 | l2[l2_index]: 4\n",
      "debug| 23 | 2024-06-22T14:19:23.971549 | l1_index + 1: 1\n",
      "debug| 24 | 2024-06-22T14:19:23.977990 | l1_value: 2\n",
      "debug| 25 | 2024-06-22T14:19:24.035771 | \"At least one list is now empty\": 'At least one list is now empty'\n",
      "debug| 26 | 2024-06-22T14:19:24.042025 | 'l2 non-empty'\n",
      "debug| 27 | 2024-06-22T14:19:24.047311 | l2[l2_index:]: [4]\n",
      "debug| 28 | 2024-06-22T14:19:24.054133 | sort(right): [2, 4]\n",
      "debug| 29 | 2024-06-22T14:19:24.061040 | l1[l1_index]: 1\n",
      "debug| 30 | 2024-06-22T14:19:24.066873 | l2[l2_index]: 2\n",
      "debug| 31 | 2024-06-22T14:19:24.072905 | l1_index + 1: 1\n",
      "debug| 32 | 2024-06-22T14:19:24.078707 | l1_value: 1\n",
      "debug| 33 | 2024-06-22T14:19:24.085004 | \"At least one list is now empty\": 'At least one list is now empty'\n",
      "debug| 34 | 2024-06-22T14:19:24.091330 | 'l2 non-empty'\n",
      "debug| 35 | 2024-06-22T14:19:24.096092 | l2[l2_index:]: [2, 4]\n",
      "debug| 36 | 2024-06-22T14:19:24.102707 | sort(right): [1, 2, 4]\n",
      "debug| 37 | 2024-06-22T14:19:24.161010 | l1[l1_index]: 3\n",
      "debug| 38 | 2024-06-22T14:19:24.166781 | l2[l2_index]: 1\n",
      "debug| 39 | 2024-06-22T14:19:24.172791 | l2_index + 1: 1\n",
      "debug| 40 | 2024-06-22T14:19:24.178774 | l2_value: 1\n",
      "debug| 41 | 2024-06-22T14:19:24.184341 | l1[l1_index]: 3\n",
      "debug| 42 | 2024-06-22T14:19:24.190316 | l2[l2_index]: 2\n",
      "debug| 43 | 2024-06-22T14:19:24.196596 | l2_index + 1: 2\n",
      "debug| 44 | 2024-06-22T14:19:24.203295 | l2_value: 2\n",
      "debug| 45 | 2024-06-22T14:19:24.208505 | l1[l1_index]: 3\n",
      "debug| 46 | 2024-06-22T14:19:24.214301 | l2[l2_index]: 4\n",
      "debug| 47 | 2024-06-22T14:19:24.220511 | l1_index + 1: 1\n",
      "debug| 48 | 2024-06-22T14:19:24.278489 | l1_value: 3\n",
      "debug| 49 | 2024-06-22T14:19:24.285249 | l1[l1_index]: 5\n",
      "debug| 50 | 2024-06-22T14:19:24.292721 | l2[l2_index]: 4\n",
      "debug| 51 | 2024-06-22T14:19:24.299728 | l2_index + 1: 3\n",
      "debug| 52 | 2024-06-22T14:19:24.307665 | l2_value: 4\n",
      "debug| 53 | 2024-06-22T14:19:24.314632 | \"At least one list is now empty\": 'At least one list is now empty'\n",
      "debug| 54 | 2024-06-22T14:19:24.322379 | 'l1 non-empty'\n",
      "debug| 55 | 2024-06-22T14:19:24.329077 | l1[l1_index:]: [5]\n"
     ]
    },
    {
     "data": {
      "text/plain": [
       "[1, 2, 3, 4, 5]"
      ]
     },
     "execution_count": 49,
     "metadata": {},
     "output_type": "execute_result"
    }
   ],
   "source": [
    "sort([5, 3, 1, 2, 4])"
   ]
  },
  {
   "cell_type": "code",
   "execution_count": null,
   "id": "94852849-2541-416a-9ac0-86d4d5583ae2",
   "metadata": {},
   "outputs": [],
   "source": []
  },
  {
   "cell_type": "markdown",
   "id": "ac2925fb-3fb8-40ba-9dd7-33e65f3506ff",
   "metadata": {},
   "source": [
    "Last customization I want to touch on is specifying custom representations."
   ]
  },
  {
   "cell_type": "markdown",
   "id": "e66799a8-1ccb-452c-a3f0-670e2245ad0e",
   "metadata": {},
   "source": [
    "Suppose we have this JSON:"
   ]
  },
  {
   "cell_type": "code",
   "execution_count": 50,
   "id": "0fc0ab87-27ab-4ef6-b342-6bad13360476",
   "metadata": {},
   "outputs": [],
   "source": [
    "json_data = '''{\n",
    "    \"a\": [1, 2, 3],\n",
    "    \"b\": {\n",
    "        \"b_1\": 100,\n",
    "        \"b_2\": {\n",
    "            \"b_2_1\": 1000,\n",
    "            \"b_2_2\": 2000\n",
    "        }\n",
    "    }\n",
    "}'''"
   ]
  },
  {
   "cell_type": "code",
   "execution_count": 51,
   "id": "461e2680-13f4-4861-b405-eae4ccf02742",
   "metadata": {},
   "outputs": [
    {
     "name": "stderr",
     "output_type": "stream",
     "text": [
      "debug| 56 | 2024-06-22T14:19:24.342447 | json_data: ('{\n",
      "                                                    '\n",
      "                                                     '    \"a\": [1, 2, 3],\n",
      "                                                    '\n",
      "                                                     '    \"b\": {\n",
      "                                                    '\n",
      "                                                     '        \"b_1\": 100,\n",
      "                                                    '\n",
      "                                                     '        \"b_2\": {\n",
      "                                                    '\n",
      "                                                     '            \"b_2_1\": 1000,\n",
      "                                                    '\n",
      "                                                     '            \"b_2_2\": 2000\n",
      "                                                    '\n",
      "                                                     '        }\n",
      "                                                    '\n",
      "                                                     '    }\n",
      "                                                    '\n",
      "                                                     '}')\n"
     ]
    },
    {
     "data": {
      "text/plain": [
       "'{\\n    \"a\": [1, 2, 3],\\n    \"b\": {\\n        \"b_1\": 100,\\n        \"b_2\": {\\n            \"b_2_1\": 1000,\\n            \"b_2_2\": 2000\\n        }\\n    }\\n}'"
      ]
     },
     "execution_count": 51,
     "metadata": {},
     "output_type": "execute_result"
    }
   ],
   "source": [
    "ic(json_data)"
   ]
  },
  {
   "cell_type": "markdown",
   "id": "b57b62db-1a7b-4aec-869d-ed886121d872",
   "metadata": {},
   "source": [
    "As you can see the output works, but is far from being very readable. \n",
    "\n",
    "If i were using a print statement, I would do something like this:"
   ]
  },
  {
   "cell_type": "code",
   "execution_count": 52,
   "id": "30b877a2-d078-4dbb-abdd-11e73e655b93",
   "metadata": {},
   "outputs": [
    {
     "name": "stdout",
     "output_type": "stream",
     "text": [
      "{\n",
      "  \"a\": [\n",
      "    1,\n",
      "    2,\n",
      "    3\n",
      "  ],\n",
      "  \"b\": {\n",
      "    \"b_1\": 100,\n",
      "    \"b_2\": {\n",
      "      \"b_2_1\": 1000,\n",
      "      \"b_2_2\": 2000\n",
      "    }\n",
      "  }\n",
      "}\n"
     ]
    }
   ],
   "source": [
    "import json\n",
    "\n",
    "repr_ = json.dumps(json.loads(json_data), indent=2)\n",
    "print(repr_)"
   ]
  },
  {
   "cell_type": "markdown",
   "id": "f6987eae-3f0a-4578-b927-5da8800e1c2c",
   "metadata": {},
   "source": [
    "Now, let's basically hook this up to `ic`. Now, `ic` can handle all kinds of different objects, and they each need to get serialized differently. We do this by **registering** functions for a specific data type that `ic` will then be able to use (it uses the single dispatch functionality in Python that I cover in my Python 3: Deep Dive - Part 1 Udemy course).\n",
    "\n",
    "One minor problem here is that we already have a function used to represent regular strings - although JSON is also just an ordinary string, we do want to register our custom display function only for these JSON strings, not for arbitrary strings - that would break the existing string representations in `ic`."
   ]
  },
  {
   "cell_type": "markdown",
   "id": "9644eeda-144d-4900-aa7f-24dab561109e",
   "metadata": {},
   "source": [
    "We could bypas the issue altogether, without involving `ic` by creating a new type, that basically just inherits from `str` and implement a custom representation:"
   ]
  },
  {
   "cell_type": "code",
   "execution_count": 53,
   "id": "e0b55eaf-fa39-454e-9c8f-4f0b8b30d420",
   "metadata": {},
   "outputs": [],
   "source": [
    "class JSON(str):\n",
    "    def __repr__(self):\n",
    "        return json.dumps(json.loads(self), indent=2)"
   ]
  },
  {
   "cell_type": "code",
   "execution_count": 54,
   "id": "07409e99-523b-4657-8ddb-d2c0ea8426e9",
   "metadata": {},
   "outputs": [
    {
     "data": {
      "text/plain": [
       "{\n",
       "  \"a\": [\n",
       "    1,\n",
       "    2,\n",
       "    3\n",
       "  ],\n",
       "  \"b\": {\n",
       "    \"b_1\": 100,\n",
       "    \"b_2\": {\n",
       "      \"b_2_1\": 1000,\n",
       "      \"b_2_2\": 2000\n",
       "    }\n",
       "  }\n",
       "}"
      ]
     },
     "execution_count": 54,
     "metadata": {},
     "output_type": "execute_result"
    }
   ],
   "source": [
    "JSON(json_data)"
   ]
  },
  {
   "cell_type": "markdown",
   "id": "6c468c60-2609-4d39-af27-ecbf11f09a4e",
   "metadata": {},
   "source": [
    "And of course `ic` will simply use the new type's `__repr__`:"
   ]
  },
  {
   "cell_type": "code",
   "execution_count": 55,
   "id": "9e6beab3-b430-4403-9887-f4f57c067f64",
   "metadata": {},
   "outputs": [
    {
     "name": "stderr",
     "output_type": "stream",
     "text": [
      "debug| 57 | 2024-06-22T14:19:24.409577 | JSON(json_data): {\n",
      "                                                            \"a\": [\n",
      "                                                              1,\n",
      "                                                              2,\n",
      "                                                              3\n",
      "                                                            ],\n",
      "                                                            \"b\": {\n",
      "                                                              \"b_1\": 100,\n",
      "                                                              \"b_2\": {\n",
      "                                                                \"b_2_1\": 1000,\n",
      "                                                                \"b_2_2\": 2000\n",
      "                                                              }\n",
      "                                                            }\n",
      "                                                          }\n"
     ]
    },
    {
     "data": {
      "text/plain": [
       "{\n",
       "  \"a\": [\n",
       "    1,\n",
       "    2,\n",
       "    3\n",
       "  ],\n",
       "  \"b\": {\n",
       "    \"b_1\": 100,\n",
       "    \"b_2\": {\n",
       "      \"b_2_1\": 1000,\n",
       "      \"b_2_2\": 2000\n",
       "    }\n",
       "  }\n",
       "}"
      ]
     },
     "execution_count": 55,
     "metadata": {},
     "output_type": "execute_result"
    }
   ],
   "source": [
    "ic(JSON(json_data))"
   ]
  },
  {
   "cell_type": "markdown",
   "id": "d069ec6a-a2c5-41e6-bd1f-52c999b4f3b1",
   "metadata": {},
   "source": [
    "But what if we want the actual representation to be one thing, and the output from `ic` to be another?\n",
    "\n",
    "Easy enough, let's try it:"
   ]
  },
  {
   "cell_type": "code",
   "execution_count": 56,
   "id": "142b9600-ef9c-4c38-9223-45af2af2ed2d",
   "metadata": {},
   "outputs": [],
   "source": [
    "class JSON(str):\n",
    "    def __repr__(self):\n",
    "        return json.dumps(json.loads(self), indent=None, separators=(\",\", \":\"))"
   ]
  },
  {
   "cell_type": "code",
   "execution_count": 57,
   "id": "7297f45c-789f-4721-b16a-08735654f02d",
   "metadata": {},
   "outputs": [
    {
     "data": {
      "text/plain": [
       "{\"a\":[1,2,3],\"b\":{\"b_1\":100,\"b_2\":{\"b_2_1\":1000,\"b_2_2\":2000}}}"
      ]
     },
     "execution_count": 57,
     "metadata": {},
     "output_type": "execute_result"
    }
   ],
   "source": [
    "JSON(json_data)"
   ]
  },
  {
   "cell_type": "code",
   "execution_count": 58,
   "id": "8ef82d88-5037-443d-b971-6b0a65cb6bc9",
   "metadata": {},
   "outputs": [],
   "source": [
    "from icecream import argumentToString"
   ]
  },
  {
   "cell_type": "code",
   "execution_count": 59,
   "id": "a1cf65ac-82b4-4493-ad9c-10654087c79b",
   "metadata": {},
   "outputs": [],
   "source": [
    "@argumentToString.register(JSON)\n",
    "def JSON_pretty_print(json_str):\n",
    "    return json.dumps(json.loads(json_str), indent=2)"
   ]
  },
  {
   "cell_type": "markdown",
   "id": "18e5975b-2867-4692-ae89-ab4dd3c3441b",
   "metadata": {},
   "source": [
    "And now, if we use `ic` to print the value of the object:"
   ]
  },
  {
   "cell_type": "code",
   "execution_count": 60,
   "id": "84406d30-8ba0-4b5e-84db-5dd98ecc5d79",
   "metadata": {},
   "outputs": [
    {
     "name": "stderr",
     "output_type": "stream",
     "text": [
      "debug| 58 | 2024-06-22T14:19:24.444496 | JSON(json_data): {\n",
      "                                                            \"a\": [\n",
      "                                                              1,\n",
      "                                                              2,\n",
      "                                                              3\n",
      "                                                            ],\n",
      "                                                            \"b\": {\n",
      "                                                              \"b_1\": 100,\n",
      "                                                              \"b_2\": {\n",
      "                                                                \"b_2_1\": 1000,\n",
      "                                                                \"b_2_2\": 2000\n",
      "                                                              }\n",
      "                                                            }\n",
      "                                                          }\n"
     ]
    },
    {
     "data": {
      "text/plain": [
       "{\"a\":[1,2,3],\"b\":{\"b_1\":100,\"b_2\":{\"b_2_1\":1000,\"b_2_2\":2000}}}"
      ]
     },
     "execution_count": 60,
     "metadata": {},
     "output_type": "execute_result"
    }
   ],
   "source": [
    "ic(JSON(json_data))"
   ]
  },
  {
   "cell_type": "markdown",
   "id": "24a56adc-a54a-4a8c-9fe2-73f14fa2bbb1",
   "metadata": {},
   "source": [
    "yet still retaining the default representation:"
   ]
  },
  {
   "cell_type": "code",
   "execution_count": 61,
   "id": "bc9f99b0-a7b6-46d3-9f5d-c3317824c764",
   "metadata": {},
   "outputs": [
    {
     "data": {
      "text/plain": [
       "{\"a\":[1,2,3],\"b\":{\"b_1\":100,\"b_2\":{\"b_2_1\":1000,\"b_2_2\":2000}}}"
      ]
     },
     "execution_count": 61,
     "metadata": {},
     "output_type": "execute_result"
    }
   ],
   "source": [
    "JSON(json_data)"
   ]
  },
  {
   "cell_type": "markdown",
   "id": "c90c538d-62c1-455b-98ca-69d5c9c202e6",
   "metadata": {},
   "source": [
    "And there you go, a simple library that can be quite handy at times for quickly adding debugging \"print\" statements to your code."
   ]
  },
  {
   "cell_type": "code",
   "execution_count": null,
   "id": "706f1e80-7269-4be7-a6ff-3de54063dd67",
   "metadata": {},
   "outputs": [],
   "source": []
  }
 ],
 "metadata": {
  "kernelspec": {
   "display_name": "Python 3 (ipykernel)",
   "language": "python",
   "name": "python3"
  },
  "language_info": {
   "codemirror_mode": {
    "name": "ipython",
    "version": 3
   },
   "file_extension": ".py",
   "mimetype": "text/x-python",
   "name": "python",
   "nbconvert_exporter": "python",
   "pygments_lexer": "ipython3",
   "version": "3.11.1"
  }
 },
 "nbformat": 4,
 "nbformat_minor": 5
}
