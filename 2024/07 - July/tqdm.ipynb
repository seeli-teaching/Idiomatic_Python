{
 "cells": [
  {
   "cell_type": "markdown",
   "id": "eb4e4509-ad1a-44ed-92c0-e25a160b56db",
   "metadata": {},
   "source": [
    "# Add Progress Bars to Jupyter and Python Apps Using `tqdm`"
   ]
  },
  {
   "cell_type": "markdown",
   "id": "8f8763a5-44a1-41b2-b5f0-130cc8eb9c71",
   "metadata": {},
   "source": [
    "The `tqdm` library provides a simple and intuitive way of adding progress bars, not only to your CLIs or Python console outputs, but also to Jupyter notebooks.\n",
    "\n",
    "The library and documentation can be found [here](https://github.com/tqdm/tqdm)\n",
    "\n",
    "To install the library: `pip install tqdm`\n",
    "\n",
    "To use `tqdm` we just need to import the `tdqm` callable (it's actually a class): "
   ]
  },
  {
   "cell_type": "code",
   "execution_count": 1,
   "id": "84a17e49-5221-45ee-a4dd-98bdc28460a7",
   "metadata": {},
   "outputs": [],
   "source": [
    "from tqdm import tqdm"
   ]
  },
  {
   "cell_type": "markdown",
   "id": "eb3efd54-1dc5-49d5-84a0-5d0b60f4c4ba",
   "metadata": {},
   "source": [
    "If you plan to use this in a Jupyter notebook (as we are here), then although most of the examples I show you here will work fine, you really should be using the Jupyter specific `tqdm` object. \n",
    "\n",
    "To do so we should import the various objects we'll be using in this notebook from `tqdm.notebook` instead, for example:"
   ]
  },
  {
   "cell_type": "code",
   "execution_count": 2,
   "id": "87af145d-ac4f-4a75-858a-f4f0d54dafde",
   "metadata": {},
   "outputs": [],
   "source": [
    "from tqdm.notebook import tqdm"
   ]
  },
  {
   "cell_type": "markdown",
   "id": "7dbcf15c-7f52-471b-92f1-fe66b4e024f2",
   "metadata": {},
   "source": [
    "In addition, when using the Juptytrer version of these components, you will likely need to also install the `ipywidgets` library in your virtual environment:\n",
    "\n",
    "```bash\n",
    "pip install ipywidgets\n",
    "```"
   ]
  },
  {
   "cell_type": "markdown",
   "id": "0981ad66-13d1-40a5-aef8-53d4db3cdec8",
   "metadata": {},
   "source": [
    "So we have two \"flavors\" of these progress bar  components.\n",
    "\n",
    "I'll refer to the components imported from `tqdm` as \"console\" variants, and those imported from `tqdm.notebook` as the Jupyter variants.\n",
    "\n",
    "As we'll see in this video, you can use either variant in a Jupyter notebook, except in a few cases (one of which I'll point out later in the video).\n",
    "\n",
    "The objects we use, whether from `tqdm` or `tqdm.notebook`, are instantiated and configured the same way - the Jupyter variant simply changes how the progress bar is rendered inside Jupyter."
   ]
  },
  {
   "cell_type": "markdown",
   "id": "4105d564-6f11-4eeb-9001-c58f205b07d2",
   "metadata": {},
   "source": [
    "## Out of the Box Functionality\n",
    "\n",
    "Let's first look at some simple ways to use the default functionality."
   ]
  },
  {
   "cell_type": "markdown",
   "id": "7a4f90df-f3f5-4a5e-bea5-f1f44e087854",
   "metadata": {},
   "source": [
    "The simplest way to use `tqdm` is to wrap it around an iterable - `tqdm` will return the iterable so you can still perform your iteration, but now the progress bar has been \"inserted\" by `tqdm`:"
   ]
  },
  {
   "cell_type": "code",
   "execution_count": 3,
   "id": "7d7e3b10-aa24-4cb3-b98e-b1bfa5e930d2",
   "metadata": {},
   "outputs": [
    {
     "data": {
      "application/vnd.jupyter.widget-view+json": {
       "model_id": "638e023eaaf44e9bbd412e4e0f274941",
       "version_major": 2,
       "version_minor": 0
      },
      "text/plain": [
       "  0%|          | 0/13 [00:00<?, ?it/s]"
      ]
     },
     "metadata": {},
     "output_type": "display_data"
    }
   ],
   "source": [
    "from tqdm.notebook import tqdm\n",
    "\n",
    "from time import sleep\n",
    "\n",
    "for x in tqdm(\"Python rocks!\"):\n",
    "    sleep(0.25)"
   ]
  },
  {
   "cell_type": "markdown",
   "id": "a942f558-8846-4d5d-867b-87583cf4ddb7",
   "metadata": {},
   "source": [
    "As you can see `tqdm` provides a lot of functionality out of the box. It knows how many elements are in the iterable, the elapsed time, the average iterations per second, and even tries to estimate the remaining time."
   ]
  },
  {
   "cell_type": "markdown",
   "id": "698bae09-c01e-418a-95a8-c87a6f71252b",
   "metadata": {},
   "source": [
    "One thing to note here, is that `tqdm` basically queried our iterable to find out how many elements are in it. \n",
    "\n",
    "So what about iterators, where doing so would consume the iterator?\n",
    "\n",
    "Let's try it using the console version of `tqdm` first:"
   ]
  },
  {
   "cell_type": "code",
   "execution_count": 4,
   "id": "05ede965-a58a-4e2e-b430-d3db05d76c75",
   "metadata": {},
   "outputs": [
    {
     "name": "stderr",
     "output_type": "stream",
     "text": [
      "10it [00:02,  3.91it/s]\n"
     ]
    }
   ],
   "source": [
    "from tqdm import tqdm\n",
    "\n",
    "g = (i**2 for i in range(10))\n",
    "\n",
    "for x in tqdm(g):\n",
    "    sleep(0.25)"
   ]
  },
  {
   "cell_type": "markdown",
   "id": "2095125c-c94e-4583-860c-1b34760fabc9",
   "metadata": {},
   "source": [
    "As you can see, given an iterator the behavior is slightly different: `tqdm` only displays the number of iterations, the elapsed time, and the average number of iterations per second."
   ]
  },
  {
   "cell_type": "markdown",
   "id": "ee83fe95-6af6-411c-b754-90acbe270e20",
   "metadata": {},
   "source": [
    "We would expect the Jupyter version to behave similarly, but it does not (I assume this is an issue in the library, not by design). I'll show you how you can customize the output later in this video, so this is not a big deal."
   ]
  },
  {
   "cell_type": "code",
   "execution_count": 5,
   "id": "a2832b8a-8d97-42c8-adde-2fd304a2d9f7",
   "metadata": {},
   "outputs": [],
   "source": [
    "from tqdm.notebook import tqdm"
   ]
  },
  {
   "cell_type": "code",
   "execution_count": 6,
   "id": "11e513fe-bc05-40f9-99c1-431cea49e447",
   "metadata": {},
   "outputs": [
    {
     "data": {
      "application/vnd.jupyter.widget-view+json": {
       "model_id": "8900a19276c24c49b954c777f4a5616a",
       "version_major": 2,
       "version_minor": 0
      },
      "text/plain": [
       "0it [00:00, ?it/s]"
      ]
     },
     "metadata": {},
     "output_type": "display_data"
    }
   ],
   "source": [
    "g = (i**2 for i in range(10))\n",
    "\n",
    "for x in tqdm(g):\n",
    "    sleep(0.25)"
   ]
  },
  {
   "cell_type": "markdown",
   "id": "df744332-6e9a-4c97-a6dd-dcfd21b70576",
   "metadata": {},
   "source": [
    "If you are just looping over a range, `tqdm` has a slightly more optimised way of dealing with this:"
   ]
  },
  {
   "cell_type": "code",
   "execution_count": 7,
   "id": "018886cc-3a25-4959-94f5-dbdfc9a83ae5",
   "metadata": {},
   "outputs": [
    {
     "name": "stderr",
     "output_type": "stream",
     "text": [
      "100%|███████████████████████████████████████████| 33/33 [00:08<00:00,  3.91it/s]\n"
     ]
    }
   ],
   "source": [
    "from tqdm import trange\n",
    "\n",
    "for x in trange(3, 100, 3):\n",
    "    sleep(0.25)"
   ]
  },
  {
   "cell_type": "code",
   "execution_count": 8,
   "id": "95a3702f-32a6-47ae-a5ef-a29d65d29782",
   "metadata": {},
   "outputs": [
    {
     "data": {
      "application/vnd.jupyter.widget-view+json": {
       "model_id": "7d622b5ed2414126b90d3cbc35a623e9",
       "version_major": 2,
       "version_minor": 0
      },
      "text/plain": [
       "  0%|          | 0/33 [00:00<?, ?it/s]"
      ]
     },
     "metadata": {},
     "output_type": "display_data"
    }
   ],
   "source": [
    "from tqdm.notebook import trange\n",
    "\n",
    "for x in trange(3, 100, 3):\n",
    "    sleep(0.25)"
   ]
  },
  {
   "cell_type": "markdown",
   "id": "0514689a-b80c-473e-bfbb-a032d218095f",
   "metadata": {},
   "source": [
    "And lastly we can also just manually update the progress bar - to do so we use a context manager to \"open\" a new progress bar (technically you could bypass the context manager, but this is just like opening files - if you bypass the context manager you need to make sure you close the progress bar yourself - so I don't recommend that approach unless something in your code structure requires it)."
   ]
  },
  {
   "cell_type": "code",
   "execution_count": 9,
   "id": "1f6da403-81db-4d9e-9f74-9874562b6b98",
   "metadata": {},
   "outputs": [
    {
     "name": "stderr",
     "output_type": "stream",
     "text": [
      "13it [00:03,  3.93it/s]\n"
     ]
    }
   ],
   "source": [
    "from tqdm import tqdm\n",
    "\n",
    "with tqdm() as pbar:\n",
    "    for x in \"Python rocks!\":\n",
    "        sleep(0.25)\n",
    "        pbar.update(1)\n",
    "    "
   ]
  },
  {
   "cell_type": "markdown",
   "id": "e66b00c8-929b-45aa-88c3-1ad9d93e17f0",
   "metadata": {},
   "source": [
    "As we can see, this behaves very similar to the way it behaves for iterators. This is because `tqdm` does not have any knowledge of the \"total size\" of the progress bar. We can easily specify this value (if we know it):"
   ]
  },
  {
   "cell_type": "code",
   "execution_count": 10,
   "id": "cc9d9203-8e8d-4bd4-bc28-2dc74718094a",
   "metadata": {},
   "outputs": [
    {
     "name": "stderr",
     "output_type": "stream",
     "text": [
      "100%|███████████████████████████████████████████| 13/13 [00:03<00:00,  3.90it/s]\n"
     ]
    }
   ],
   "source": [
    "from tqdm import tqdm\n",
    "\n",
    "iterable = \"Python rocks!\"\n",
    "\n",
    "with tqdm(total=len(iterable)) as pbar:\n",
    "    for x in iterable:\n",
    "        sleep(0.25)\n",
    "        pbar.update(1)"
   ]
  },
  {
   "cell_type": "code",
   "execution_count": 11,
   "id": "210c5752-1b45-4414-b967-be72d0f40b3f",
   "metadata": {},
   "outputs": [
    {
     "data": {
      "application/vnd.jupyter.widget-view+json": {
       "model_id": "a8060ef2170744aeb7189a2eb395f8fd",
       "version_major": 2,
       "version_minor": 0
      },
      "text/plain": [
       "  0%|          | 0/13 [00:00<?, ?it/s]"
      ]
     },
     "metadata": {},
     "output_type": "display_data"
    }
   ],
   "source": [
    "from tqdm.notebook import tqdm\n",
    "\n",
    "iterable = \"Python rocks!\"\n",
    "\n",
    "with tqdm(total=len(iterable)) as pbar:\n",
    "    for x in iterable:\n",
    "        sleep(0.25)\n",
    "        pbar.update(1)"
   ]
  },
  {
   "cell_type": "markdown",
   "id": "506d0788-43fb-476d-ae38-7592180c4121",
   "metadata": {},
   "source": [
    "When using this manual approach, we can also set the description in the progress bar ourselves:"
   ]
  },
  {
   "cell_type": "code",
   "execution_count": 12,
   "id": "a14961a1-0277-47a4-830e-6361193a986d",
   "metadata": {},
   "outputs": [
    {
     "data": {
      "application/vnd.jupyter.widget-view+json": {
       "model_id": "52d084aa36e542a7b46ad6733c65abbb",
       "version_major": 2,
       "version_minor": 0
      },
      "text/plain": [
       "  0%|          | 0/13 [00:00<?, ?it/s]"
      ]
     },
     "metadata": {},
     "output_type": "display_data"
    }
   ],
   "source": [
    "from tqdm.notebook import tqdm\n",
    "\n",
    "iterable = \"Python rocks!\"\n",
    "\n",
    "with tqdm(total=len(iterable)) as pbar:\n",
    "    for x in iterable:\n",
    "        sleep(0.25)\n",
    "        pbar.set_description(f\"processing {x}\")\n",
    "        pbar.update(1)"
   ]
  },
  {
   "cell_type": "markdown",
   "id": "7491b66e-4cfa-41e0-addc-4897e3503713",
   "metadata": {},
   "source": [
    "Here is I was using a loop, so using a manual progress bar wasn't really required. But this manual approach can be really useful in other cases where you're not hooking up a progress bar to a `for` loop.\n",
    "\n",
    "Like in this example:"
   ]
  },
  {
   "cell_type": "code",
   "execution_count": 18,
   "id": "9a1f2bc8-fc5c-4dd7-a161-e252e91de412",
   "metadata": {},
   "outputs": [
    {
     "data": {
      "application/vnd.jupyter.widget-view+json": {
       "model_id": "ec38ab1aa5414ab9b92479f5b141a695",
       "version_major": 2,
       "version_minor": 0
      },
      "text/plain": [
       "  0%|          | 0/80 [00:00<?, ?it/s]"
      ]
     },
     "metadata": {},
     "output_type": "display_data"
    },
    {
     "name": "stdout",
     "output_type": "stream",
     "text": [
      "1...2...3...4...5...6...7...8...9...10...11...12...13...14...15...16...17...18...19...20...21...22...23...24...25...26...27...28...29...30...31...32...33...34...35...36...37...38...39...40...41...42...43...44...45...46...47...48...49...50...51...52...53...54...55...56...57...58...59...60...61...62...63...64...65...66...67...68...69...70...71...72...73...74...75...76...77...78...79...80..."
     ]
    }
   ],
   "source": [
    "\n",
    "def get_page(url):\n",
    "    # retrieves a web page and does some processing\n",
    "    sleep(0.1)\n",
    "\n",
    "max_iter = 80\n",
    "i = 1\n",
    "\n",
    "with tqdm(total=max_iter) as pbar:\n",
    "    while True:\n",
    "        url = f\"some_url?{i}\"\n",
    "        print(f\"{i}...\", end=\"\")\n",
    "        get_page(f\"some_url?{i}\")\n",
    "        if not i % 5:\n",
    "            pbar.update(5)\n",
    "        i += 1\n",
    "        if i > max_iter:\n",
    "            break"
   ]
  },
  {
   "cell_type": "markdown",
   "id": "ab078ad1-0313-4c7f-98e1-97a2523c04d7",
   "metadata": {},
   "source": [
    "## Customizing Things"
   ]
  },
  {
   "cell_type": "markdown",
   "id": "d87000f9-09b4-4aa9-a9df-6590d225fb0e",
   "metadata": {},
   "source": [
    "The behavior and display of progress bar can be customized in many different ways (see docs for full range of options).\n",
    "\n",
    "You can customize things like the width of the bar, change the scale of the iteration count, how the progress bar displays the various sub-parts of it (like the stats, timings, etc), and a slew of other settings.  See [here](https://github.com/tqdm/tqdm?tab=readme-ov-file#parameters)."
   ]
  },
  {
   "cell_type": "markdown",
   "id": "7a88de06-8b65-4339-85d2-aa4dfa74016e",
   "metadata": {},
   "source": [
    "Let's first look at the scaling. I'll use the \"console version\", but you can of course use the \"notebook version\"."
   ]
  },
  {
   "cell_type": "code",
   "execution_count": 19,
   "id": "a6fd116f-aca6-467b-8b87-3905c83a197b",
   "metadata": {},
   "outputs": [],
   "source": [
    "from tqdm import tqdm"
   ]
  },
  {
   "cell_type": "code",
   "execution_count": 20,
   "id": "c6c14294-4710-4a97-a9b3-05a2945f4d77",
   "metadata": {},
   "outputs": [
    {
     "name": "stderr",
     "output_type": "stream",
     "text": [
      "100%|█████████████████████████| 50000000/50000000 [00:04<00:00, 11751121.33it/s]\n"
     ]
    }
   ],
   "source": [
    "for i in tqdm(range(50_000_000)):\n",
    "    pass   "
   ]
  },
  {
   "cell_type": "markdown",
   "id": "ff160927-e94c-41e4-9cba-7170b211eeda",
   "metadata": {},
   "source": [
    "Now lets ask `tqdm` to scale the iteration count:"
   ]
  },
  {
   "cell_type": "code",
   "execution_count": 21,
   "id": "07a189a5-7679-42a1-a924-b50a27ae48f1",
   "metadata": {},
   "outputs": [
    {
     "name": "stderr",
     "output_type": "stream",
     "text": [
      "100%|█████████████████████████████████████| 50.0M/50.0M [00:04<00:00, 11.7Mit/s]\n"
     ]
    }
   ],
   "source": [
    "for i in tqdm(range(50_000_000), unit_scale=True):\n",
    "    pass  "
   ]
  },
  {
   "cell_type": "markdown",
   "id": "61b063a7-2311-4184-8d3b-ae78676ae69b",
   "metadata": {},
   "source": [
    "While we're at it, let's change that `it` label used as the unit:"
   ]
  },
  {
   "cell_type": "code",
   "execution_count": 22,
   "id": "9085afb1-5798-4175-9100-407c39a51b96",
   "metadata": {},
   "outputs": [
    {
     "name": "stderr",
     "output_type": "stream",
     "text": [
      "100%|████████████████████████████████████| 50.0M/50.0M [00:04<00:00, 11.6Mrec/s]\n"
     ]
    }
   ],
   "source": [
    "for i in tqdm(range(50_000_000), unit_scale=True, unit=\"rec\"):\n",
    "    pass  "
   ]
  },
  {
   "cell_type": "markdown",
   "id": "fbb78d32-9a33-4b9e-a071-7a0d82dfd202",
   "metadata": {},
   "source": [
    "And change the bar color:"
   ]
  },
  {
   "cell_type": "code",
   "execution_count": 23,
   "id": "4d539875-ad8a-4d24-8a62-c6d21db76c29",
   "metadata": {},
   "outputs": [
    {
     "name": "stderr",
     "output_type": "stream",
     "text": [
      "100%|\u001b[34m████████████████████████████████████\u001b[0m| 50.0M/50.0M [00:04<00:00, 11.8Mrec/s]\u001b[0m\n"
     ]
    }
   ],
   "source": [
    "for i in tqdm(range(50_000_000), unit_scale=True, unit=\"rec\", colour=\"blue\"):\n",
    "    pass  "
   ]
  },
  {
   "cell_type": "markdown",
   "id": "60169f35-d6dc-4f2e-9a6d-78d4d9baa25d",
   "metadata": {},
   "source": [
    "You can also specify colors using hex: "
   ]
  },
  {
   "cell_type": "code",
   "execution_count": 24,
   "id": "ec6771a6-3137-445e-af85-25f3243690e4",
   "metadata": {},
   "outputs": [
    {
     "name": "stderr",
     "output_type": "stream",
     "text": [
      "100%|\u001b[38;2;255;0;0m████████████████████████████████████\u001b[0m| 50.0M/50.0M [00:04<00:00, 11.8Mrec/s]\u001b[0m\n"
     ]
    }
   ],
   "source": [
    "for i in tqdm(range(50_000_000), unit_scale=True, unit=\"rec\", colour=\"#FF0000\"):\n",
    "    pass  "
   ]
  },
  {
   "cell_type": "markdown",
   "id": "277dcc5a-5cd1-40f3-b2f2-081afd067943",
   "metadata": {},
   "source": [
    "Next let's look at how we can format the bar display itself, using several built-in \"fields\" `tdqm` provides us.\n",
    "\n",
    "- `l_bar`\n",
    "- `r_bar`\n",
    "- `n`\n",
    "- `n_fmt`\n",
    "- `total`\n",
    "- `total_fmt`\n",
    "- `percentage`\n",
    "- `elapsed`\n",
    "- `elapsed_s`\n",
    "- `ncols`\n",
    "- `nrows`\n",
    "- `desc`\n",
    "- `unit`\n",
    "- `rate`\n",
    "- `rate_fmt`\n",
    "- `rate_noinv`\n",
    "- `rate_noinv_fmt`\n",
    "- `rate_inv`\n",
    "- `rate_inv_fmt`\n",
    "- `postfix`\n",
    "- `unit_divisor`\n",
    "- `remaining`\n",
    "- `remaining_s`\n",
    "- `eta`"
   ]
  },
  {
   "cell_type": "markdown",
   "id": "f3844379-dcd9-4232-b8a0-168342c2e5c2",
   "metadata": {},
   "source": [
    "The default display for `tdqm` is:\n",
    "```python\n",
    "{l_bar}{bar}{r_bar}\n",
    "```\n",
    "where \n",
    "```python\n",
    "l_bar --> {desc}: {percentage:3.0f}%|\n",
    "```\n",
    "and\n",
    "```python\n",
    "r_bar --> | {n_fmt}/{total_fmt} [{elapsed}<{remaining}, {rate_fmt}{postfix}]\n",
    "```"
   ]
  },
  {
   "cell_type": "markdown",
   "id": "d14c14c0-640f-40ab-a1b8-413cad2c319e",
   "metadata": {},
   "source": [
    "We specify the exact progress bar definition using the `bar_format` argument, and we can also specify a custom prefix:"
   ]
  },
  {
   "cell_type": "code",
   "execution_count": 25,
   "id": "8b97b5ae-47e7-4132-876a-d308d3c3379f",
   "metadata": {},
   "outputs": [
    {
     "name": "stderr",
     "output_type": "stream",
     "text": [
      "Importing data: 100%|\u001b[34m███████████████████████████████████████████████████████████\u001b[0m\n"
     ]
    }
   ],
   "source": [
    "for x in tqdm(\n",
    "    range(10_000_000),\n",
    "    desc=\"Importing data\",\n",
    "    colour=\"blue\",\n",
    "    bar_format=\"{l_bar}{bar}\"\n",
    "):\n",
    "    pass"
   ]
  },
  {
   "cell_type": "markdown",
   "id": "473edc46-12e5-4f58-a602-4bf1bee4d8c3",
   "metadata": {},
   "source": [
    "Let's get a bit more fancy:"
   ]
  },
  {
   "cell_type": "code",
   "execution_count": 26,
   "id": "2d00894c-31be-40b2-a20a-023c2f602083",
   "metadata": {},
   "outputs": [
    {
     "name": "stderr",
     "output_type": "stream",
     "text": [
      "Importing data| processing 50.0M of 50.0M recs [100.0%]|\u001b[34m█████████████████\u001b[0m|00:04s\u001b[0m\n"
     ]
    }
   ],
   "source": [
    "for x in tqdm(\n",
    "    range(50_000_000),\n",
    "    desc=\"Importing data\",\n",
    "    colour=\"blue\",\n",
    "    unit_scale=True,\n",
    "    unit=\"recs\",\n",
    "    bar_format=\"{desc}| processing {n_fmt} of {total_fmt} {unit} [{percentage:.1f}%]|{bar}|{elapsed}s\"\n",
    "):\n",
    "    pass"
   ]
  },
  {
   "cell_type": "markdown",
   "id": "e2133120-ad34-49b0-95d1-b12358436ef0",
   "metadata": {},
   "source": [
    "And just to make sure, let's use the Jupyter specific output:"
   ]
  },
  {
   "cell_type": "code",
   "execution_count": 27,
   "id": "4f9d3055-a747-462c-be2d-ef071605f8fc",
   "metadata": {},
   "outputs": [
    {
     "data": {
      "application/vnd.jupyter.widget-view+json": {
       "model_id": "9a6cc2d30eb349a696d8fcb5d4b4bebc",
       "version_major": 2,
       "version_minor": 0
      },
      "text/plain": [
       "Importing data| processing 0.00 of 50.0M recs [0.0%]|          |00:00s"
      ]
     },
     "metadata": {},
     "output_type": "display_data"
    }
   ],
   "source": [
    "from tqdm.notebook import tqdm\n",
    "\n",
    "for x in tqdm(\n",
    "    range(50_000_000),\n",
    "    desc=\"Importing data\",\n",
    "    colour=\"blue\",\n",
    "    unit_scale=True,\n",
    "    unit=\"recs\",\n",
    "    bar_format=\"{desc}| processing {n_fmt} of {total_fmt} {unit} [{percentage:.1f}%]|{bar}|{elapsed}s\"\n",
    "):\n",
    "    pass"
   ]
  },
  {
   "cell_type": "markdown",
   "id": "d1afaf9d-58a0-43a7-9c22-281ccd2a0948",
   "metadata": {},
   "source": [
    "You'll probably have noticed that the progress bar keeps shifting around a bit, unlike the \"console version\".\n",
    "\n",
    "This is because the text display font I chose for my Jupyter notebooks uses a non-monospaced font, unlike my console which uses a monospaced font.\n",
    "\n",
    "Another thing to note is that may want to define a custom \"base\" `tqdm` object with your display settings, without having to redefine it everywhere else.\n",
    "\n",
    "A simple way to do this would be to use `partial`. Something like this:"
   ]
  },
  {
   "cell_type": "code",
   "execution_count": 28,
   "id": "a4335d12-fa70-4d6d-8845-86c257f6ff99",
   "metadata": {},
   "outputs": [],
   "source": [
    "from functools import partial"
   ]
  },
  {
   "cell_type": "code",
   "execution_count": 29,
   "id": "3cd9cede-76a3-41f7-8588-569ea0388868",
   "metadata": {},
   "outputs": [],
   "source": [
    "import_pbar = partial(\n",
    "    tqdm, \n",
    "    desc=\"Importing data\",\n",
    "    colour=\"blue\",\n",
    "    unit_scale=True,\n",
    "    unit=\"recs\",\n",
    "    bar_format=\"{desc}| processing {n_fmt} of {total_fmt} {unit} [{percentage:.1f}%]|{bar}|{elapsed}s\"\n",
    ")"
   ]
  },
  {
   "cell_type": "markdown",
   "id": "d29bcaf6-37ed-442d-a693-844695183e77",
   "metadata": {},
   "source": [
    "And now we can use it this way:"
   ]
  },
  {
   "cell_type": "code",
   "execution_count": 30,
   "id": "a720b67c-240f-4043-a2b5-3b447ce1192e",
   "metadata": {},
   "outputs": [
    {
     "data": {
      "application/vnd.jupyter.widget-view+json": {
       "model_id": "1c7d14aff99e4475a38c30fa82b82ad8",
       "version_major": 2,
       "version_minor": 0
      },
      "text/plain": [
       "Importing data| processing 0.00 of 50.0M recs [0.0%]|          |00:00s"
      ]
     },
     "metadata": {},
     "output_type": "display_data"
    }
   ],
   "source": [
    "for x in import_pbar(range(50_000_000)):\n",
    "    pass"
   ]
  },
  {
   "cell_type": "markdown",
   "id": "52365ff3-d5c3-497e-b34a-19a1ad0c58ac",
   "metadata": {},
   "source": [
    "## Nested Progress Bars"
   ]
  },
  {
   "cell_type": "markdown",
   "id": "1ca075ae-3e5c-4fa2-9a6f-8f3aa4ba58a5",
   "metadata": {},
   "source": [
    "All the examples I just showed you appeared to work fine in a REPL (such as this Jupyter notebook). However, not everything that would work fine in a standard console output (what we did above), will work quite as expected in Jupyter."
   ]
  },
  {
   "cell_type": "markdown",
   "id": "bcbb23e4-fbc2-4876-9d78-2ccc6299798d",
   "metadata": {},
   "source": [
    "For example, we can do nested progress bars this way:"
   ]
  },
  {
   "cell_type": "code",
   "execution_count": 31,
   "id": "dfd02b41-1e07-4705-8dc6-7199a80dfd1a",
   "metadata": {},
   "outputs": [
    {
     "name": "stderr",
     "output_type": "stream",
     "text": [
      "i:   0%|                                                  | 0/2 [00:00<?, ?it/s]\n",
      "j (i=0):   0%|                                            | 0/2 [00:00<?, ?it/s]\u001b[A\n",
      "\n",
      "k (i=0 j=0):   0%|                                        | 0/2 [00:00<?, ?it/s]\u001b[A\u001b[A\n",
      "\n",
      "k (i=0 j=0):  50%|████████████████                | 1/2 [00:00<00:00,  9.64it/s]\u001b[A\u001b[A\n",
      "\n",
      "k (i=0 j=0): 100%|████████████████████████████████| 2/2 [00:00<00:00,  9.45it/s]\u001b[A\u001b[A\n",
      "\n",
      "                                                                                \u001b[A\u001b[A\n",
      "j (i=0):  50%|██████████████████                  | 1/2 [00:00<00:00,  4.46it/s]\u001b[A\n",
      "\n",
      "k (i=0 j=1):   0%|                                        | 0/2 [00:00<?, ?it/s]\u001b[A\u001b[A\n",
      "\n",
      "k (i=0 j=1):  50%|████████████████                | 1/2 [00:00<00:00,  9.51it/s]\u001b[A\u001b[A\n",
      "\n",
      "k (i=0 j=1): 100%|████████████████████████████████| 2/2 [00:00<00:00,  9.36it/s]\u001b[A\u001b[A\n",
      "\n",
      "                                                                                \u001b[A\u001b[A\n",
      "j (i=0): 100%|████████████████████████████████████| 2/2 [00:00<00:00,  4.39it/s]\u001b[A\n",
      "i:  50%|█████████████████████                     | 1/2 [00:00<00:00,  2.16it/s]\u001b[A\n",
      "j (i=1):   0%|                                            | 0/2 [00:00<?, ?it/s]\u001b[A\n",
      "\n",
      "k (i=1 j=0):   0%|                                        | 0/2 [00:00<?, ?it/s]\u001b[A\u001b[A\n",
      "\n",
      "k (i=1 j=0):  50%|████████████████                | 1/2 [00:00<00:00,  9.92it/s]\u001b[A\u001b[A\n",
      "\n",
      "k (i=1 j=0): 100%|████████████████████████████████| 2/2 [00:00<00:00,  9.67it/s]\u001b[A\u001b[A\n",
      "\n",
      "                                                                                \u001b[A\u001b[A\n",
      "j (i=1):  50%|██████████████████                  | 1/2 [00:00<00:00,  4.61it/s]\u001b[A\n",
      "\n",
      "k (i=1 j=1):   0%|                                        | 0/2 [00:00<?, ?it/s]\u001b[A\u001b[A\n",
      "\n",
      "k (i=1 j=1):  50%|████████████████                | 1/2 [00:00<00:00,  9.81it/s]\u001b[A\u001b[A\n",
      "\n",
      "k (i=1 j=1): 100%|████████████████████████████████| 2/2 [00:00<00:00,  9.54it/s]\u001b[A\u001b[A\n",
      "\n",
      "                                                                                \u001b[A\u001b[A\n",
      "j (i=1): 100%|████████████████████████████████████| 2/2 [00:00<00:00,  4.54it/s]\u001b[A\n",
      "i: 100%|██████████████████████████████████████████| 2/2 [00:00<00:00,  2.20it/s]\u001b[A\n"
     ]
    }
   ],
   "source": [
    "from tqdm import trange\n",
    "\n",
    "for i in trange(2, desc=\"i\"):\n",
    "    for j in trange(2, desc=f\"j ({i=})\", leave=False):\n",
    "        for k in trange(2, desc=f\"k ({i=} {j=})\", leave=False):\n",
    "            sleep(0.1)"
   ]
  },
  {
   "cell_type": "markdown",
   "id": "95f31f59-b7c7-4adb-901e-cb0620716950",
   "metadata": {},
   "source": [
    "As you can see, the output just kept adding to the preceding output, and that's obviously not what we want here (it will work just fine in a console output)."
   ]
  },
  {
   "cell_type": "markdown",
   "id": "23ef0855-cd59-4924-9ab7-81117d502573",
   "metadata": {},
   "source": [
    "So, we definitely have to use the Jupyter specific object here:"
   ]
  },
  {
   "cell_type": "code",
   "execution_count": 32,
   "id": "48fb4e74-3543-46e3-b6b5-cba81e9b84e9",
   "metadata": {},
   "outputs": [
    {
     "data": {
      "application/vnd.jupyter.widget-view+json": {
       "model_id": "b2aafe5f33304c72a3ddd1589d786594",
       "version_major": 2,
       "version_minor": 0
      },
      "text/plain": [
       "i:   0%|          | 0/5 [00:00<?, ?it/s]"
      ]
     },
     "metadata": {},
     "output_type": "display_data"
    },
    {
     "data": {
      "application/vnd.jupyter.widget-view+json": {
       "model_id": "",
       "version_major": 2,
       "version_minor": 0
      },
      "text/plain": [
       "j (i=0):   0%|          | 0/5 [00:00<?, ?it/s]"
      ]
     },
     "metadata": {},
     "output_type": "display_data"
    },
    {
     "data": {
      "application/vnd.jupyter.widget-view+json": {
       "model_id": "",
       "version_major": 2,
       "version_minor": 0
      },
      "text/plain": [
       "k (i=0 j=0):   0%|          | 0/5 [00:00<?, ?it/s]"
      ]
     },
     "metadata": {},
     "output_type": "display_data"
    },
    {
     "data": {
      "application/vnd.jupyter.widget-view+json": {
       "model_id": "",
       "version_major": 2,
       "version_minor": 0
      },
      "text/plain": [
       "k (i=0 j=1):   0%|          | 0/5 [00:00<?, ?it/s]"
      ]
     },
     "metadata": {},
     "output_type": "display_data"
    },
    {
     "data": {
      "application/vnd.jupyter.widget-view+json": {
       "model_id": "",
       "version_major": 2,
       "version_minor": 0
      },
      "text/plain": [
       "k (i=0 j=2):   0%|          | 0/5 [00:00<?, ?it/s]"
      ]
     },
     "metadata": {},
     "output_type": "display_data"
    },
    {
     "data": {
      "application/vnd.jupyter.widget-view+json": {
       "model_id": "",
       "version_major": 2,
       "version_minor": 0
      },
      "text/plain": [
       "k (i=0 j=3):   0%|          | 0/5 [00:00<?, ?it/s]"
      ]
     },
     "metadata": {},
     "output_type": "display_data"
    },
    {
     "data": {
      "application/vnd.jupyter.widget-view+json": {
       "model_id": "",
       "version_major": 2,
       "version_minor": 0
      },
      "text/plain": [
       "k (i=0 j=4):   0%|          | 0/5 [00:00<?, ?it/s]"
      ]
     },
     "metadata": {},
     "output_type": "display_data"
    },
    {
     "data": {
      "application/vnd.jupyter.widget-view+json": {
       "model_id": "",
       "version_major": 2,
       "version_minor": 0
      },
      "text/plain": [
       "j (i=1):   0%|          | 0/5 [00:00<?, ?it/s]"
      ]
     },
     "metadata": {},
     "output_type": "display_data"
    },
    {
     "data": {
      "application/vnd.jupyter.widget-view+json": {
       "model_id": "",
       "version_major": 2,
       "version_minor": 0
      },
      "text/plain": [
       "k (i=1 j=0):   0%|          | 0/5 [00:00<?, ?it/s]"
      ]
     },
     "metadata": {},
     "output_type": "display_data"
    },
    {
     "data": {
      "application/vnd.jupyter.widget-view+json": {
       "model_id": "",
       "version_major": 2,
       "version_minor": 0
      },
      "text/plain": [
       "k (i=1 j=1):   0%|          | 0/5 [00:00<?, ?it/s]"
      ]
     },
     "metadata": {},
     "output_type": "display_data"
    },
    {
     "data": {
      "application/vnd.jupyter.widget-view+json": {
       "model_id": "",
       "version_major": 2,
       "version_minor": 0
      },
      "text/plain": [
       "k (i=1 j=2):   0%|          | 0/5 [00:00<?, ?it/s]"
      ]
     },
     "metadata": {},
     "output_type": "display_data"
    },
    {
     "data": {
      "application/vnd.jupyter.widget-view+json": {
       "model_id": "",
       "version_major": 2,
       "version_minor": 0
      },
      "text/plain": [
       "k (i=1 j=3):   0%|          | 0/5 [00:00<?, ?it/s]"
      ]
     },
     "metadata": {},
     "output_type": "display_data"
    },
    {
     "data": {
      "application/vnd.jupyter.widget-view+json": {
       "model_id": "",
       "version_major": 2,
       "version_minor": 0
      },
      "text/plain": [
       "k (i=1 j=4):   0%|          | 0/5 [00:00<?, ?it/s]"
      ]
     },
     "metadata": {},
     "output_type": "display_data"
    },
    {
     "data": {
      "application/vnd.jupyter.widget-view+json": {
       "model_id": "",
       "version_major": 2,
       "version_minor": 0
      },
      "text/plain": [
       "j (i=2):   0%|          | 0/5 [00:00<?, ?it/s]"
      ]
     },
     "metadata": {},
     "output_type": "display_data"
    },
    {
     "data": {
      "application/vnd.jupyter.widget-view+json": {
       "model_id": "",
       "version_major": 2,
       "version_minor": 0
      },
      "text/plain": [
       "k (i=2 j=0):   0%|          | 0/5 [00:00<?, ?it/s]"
      ]
     },
     "metadata": {},
     "output_type": "display_data"
    },
    {
     "data": {
      "application/vnd.jupyter.widget-view+json": {
       "model_id": "",
       "version_major": 2,
       "version_minor": 0
      },
      "text/plain": [
       "k (i=2 j=1):   0%|          | 0/5 [00:00<?, ?it/s]"
      ]
     },
     "metadata": {},
     "output_type": "display_data"
    },
    {
     "data": {
      "application/vnd.jupyter.widget-view+json": {
       "model_id": "",
       "version_major": 2,
       "version_minor": 0
      },
      "text/plain": [
       "k (i=2 j=2):   0%|          | 0/5 [00:00<?, ?it/s]"
      ]
     },
     "metadata": {},
     "output_type": "display_data"
    },
    {
     "data": {
      "application/vnd.jupyter.widget-view+json": {
       "model_id": "",
       "version_major": 2,
       "version_minor": 0
      },
      "text/plain": [
       "k (i=2 j=3):   0%|          | 0/5 [00:00<?, ?it/s]"
      ]
     },
     "metadata": {},
     "output_type": "display_data"
    },
    {
     "data": {
      "application/vnd.jupyter.widget-view+json": {
       "model_id": "",
       "version_major": 2,
       "version_minor": 0
      },
      "text/plain": [
       "k (i=2 j=4):   0%|          | 0/5 [00:00<?, ?it/s]"
      ]
     },
     "metadata": {},
     "output_type": "display_data"
    },
    {
     "data": {
      "application/vnd.jupyter.widget-view+json": {
       "model_id": "",
       "version_major": 2,
       "version_minor": 0
      },
      "text/plain": [
       "j (i=3):   0%|          | 0/5 [00:00<?, ?it/s]"
      ]
     },
     "metadata": {},
     "output_type": "display_data"
    },
    {
     "data": {
      "application/vnd.jupyter.widget-view+json": {
       "model_id": "",
       "version_major": 2,
       "version_minor": 0
      },
      "text/plain": [
       "k (i=3 j=0):   0%|          | 0/5 [00:00<?, ?it/s]"
      ]
     },
     "metadata": {},
     "output_type": "display_data"
    },
    {
     "data": {
      "application/vnd.jupyter.widget-view+json": {
       "model_id": "",
       "version_major": 2,
       "version_minor": 0
      },
      "text/plain": [
       "k (i=3 j=1):   0%|          | 0/5 [00:00<?, ?it/s]"
      ]
     },
     "metadata": {},
     "output_type": "display_data"
    },
    {
     "data": {
      "application/vnd.jupyter.widget-view+json": {
       "model_id": "",
       "version_major": 2,
       "version_minor": 0
      },
      "text/plain": [
       "k (i=3 j=2):   0%|          | 0/5 [00:00<?, ?it/s]"
      ]
     },
     "metadata": {},
     "output_type": "display_data"
    },
    {
     "data": {
      "application/vnd.jupyter.widget-view+json": {
       "model_id": "",
       "version_major": 2,
       "version_minor": 0
      },
      "text/plain": [
       "k (i=3 j=3):   0%|          | 0/5 [00:00<?, ?it/s]"
      ]
     },
     "metadata": {},
     "output_type": "display_data"
    },
    {
     "data": {
      "application/vnd.jupyter.widget-view+json": {
       "model_id": "",
       "version_major": 2,
       "version_minor": 0
      },
      "text/plain": [
       "k (i=3 j=4):   0%|          | 0/5 [00:00<?, ?it/s]"
      ]
     },
     "metadata": {},
     "output_type": "display_data"
    },
    {
     "data": {
      "application/vnd.jupyter.widget-view+json": {
       "model_id": "",
       "version_major": 2,
       "version_minor": 0
      },
      "text/plain": [
       "j (i=4):   0%|          | 0/5 [00:00<?, ?it/s]"
      ]
     },
     "metadata": {},
     "output_type": "display_data"
    },
    {
     "data": {
      "application/vnd.jupyter.widget-view+json": {
       "model_id": "",
       "version_major": 2,
       "version_minor": 0
      },
      "text/plain": [
       "k (i=4 j=0):   0%|          | 0/5 [00:00<?, ?it/s]"
      ]
     },
     "metadata": {},
     "output_type": "display_data"
    },
    {
     "data": {
      "application/vnd.jupyter.widget-view+json": {
       "model_id": "",
       "version_major": 2,
       "version_minor": 0
      },
      "text/plain": [
       "k (i=4 j=1):   0%|          | 0/5 [00:00<?, ?it/s]"
      ]
     },
     "metadata": {},
     "output_type": "display_data"
    },
    {
     "data": {
      "application/vnd.jupyter.widget-view+json": {
       "model_id": "",
       "version_major": 2,
       "version_minor": 0
      },
      "text/plain": [
       "k (i=4 j=2):   0%|          | 0/5 [00:00<?, ?it/s]"
      ]
     },
     "metadata": {},
     "output_type": "display_data"
    },
    {
     "data": {
      "application/vnd.jupyter.widget-view+json": {
       "model_id": "",
       "version_major": 2,
       "version_minor": 0
      },
      "text/plain": [
       "k (i=4 j=3):   0%|          | 0/5 [00:00<?, ?it/s]"
      ]
     },
     "metadata": {},
     "output_type": "display_data"
    },
    {
     "data": {
      "application/vnd.jupyter.widget-view+json": {
       "model_id": "",
       "version_major": 2,
       "version_minor": 0
      },
      "text/plain": [
       "k (i=4 j=4):   0%|          | 0/5 [00:00<?, ?it/s]"
      ]
     },
     "metadata": {},
     "output_type": "display_data"
    }
   ],
   "source": [
    "from tqdm.notebook import tqdm\n",
    "\n",
    "for i in tqdm(range(5), desc=\"i\"):\n",
    "    for j in tqdm(range(5), desc=f\"j ({i=})\", leave=False):\n",
    "        for k in tqdm(range(5), desc=f\"k ({i=} {j=})\", leave=False):\n",
    "            sleep(0.1)"
   ]
  },
  {
   "cell_type": "markdown",
   "id": "c5ad88e0-0838-4049-a3e0-2634b2711ab1",
   "metadata": {},
   "source": [
    "or, using the notebook variant of `trange`, we have the same exact code as before:"
   ]
  },
  {
   "cell_type": "code",
   "execution_count": 33,
   "id": "8d65b063-fc5d-4f9d-bfa4-ca102b3583f2",
   "metadata": {},
   "outputs": [
    {
     "data": {
      "application/vnd.jupyter.widget-view+json": {
       "model_id": "77ee98f7b36a4a24a8554ff2e85cbed9",
       "version_major": 2,
       "version_minor": 0
      },
      "text/plain": [
       "i:   0%|          | 0/5 [00:00<?, ?it/s]"
      ]
     },
     "metadata": {},
     "output_type": "display_data"
    },
    {
     "data": {
      "application/vnd.jupyter.widget-view+json": {
       "model_id": "",
       "version_major": 2,
       "version_minor": 0
      },
      "text/plain": [
       "j (i=0):   0%|          | 0/5 [00:00<?, ?it/s]"
      ]
     },
     "metadata": {},
     "output_type": "display_data"
    },
    {
     "data": {
      "application/vnd.jupyter.widget-view+json": {
       "model_id": "",
       "version_major": 2,
       "version_minor": 0
      },
      "text/plain": [
       "k (i=0 j=0):   0%|          | 0/5 [00:00<?, ?it/s]"
      ]
     },
     "metadata": {},
     "output_type": "display_data"
    },
    {
     "data": {
      "application/vnd.jupyter.widget-view+json": {
       "model_id": "",
       "version_major": 2,
       "version_minor": 0
      },
      "text/plain": [
       "k (i=0 j=1):   0%|          | 0/5 [00:00<?, ?it/s]"
      ]
     },
     "metadata": {},
     "output_type": "display_data"
    },
    {
     "data": {
      "application/vnd.jupyter.widget-view+json": {
       "model_id": "",
       "version_major": 2,
       "version_minor": 0
      },
      "text/plain": [
       "k (i=0 j=2):   0%|          | 0/5 [00:00<?, ?it/s]"
      ]
     },
     "metadata": {},
     "output_type": "display_data"
    },
    {
     "data": {
      "application/vnd.jupyter.widget-view+json": {
       "model_id": "",
       "version_major": 2,
       "version_minor": 0
      },
      "text/plain": [
       "k (i=0 j=3):   0%|          | 0/5 [00:00<?, ?it/s]"
      ]
     },
     "metadata": {},
     "output_type": "display_data"
    },
    {
     "data": {
      "application/vnd.jupyter.widget-view+json": {
       "model_id": "",
       "version_major": 2,
       "version_minor": 0
      },
      "text/plain": [
       "k (i=0 j=4):   0%|          | 0/5 [00:00<?, ?it/s]"
      ]
     },
     "metadata": {},
     "output_type": "display_data"
    },
    {
     "data": {
      "application/vnd.jupyter.widget-view+json": {
       "model_id": "",
       "version_major": 2,
       "version_minor": 0
      },
      "text/plain": [
       "j (i=1):   0%|          | 0/5 [00:00<?, ?it/s]"
      ]
     },
     "metadata": {},
     "output_type": "display_data"
    },
    {
     "data": {
      "application/vnd.jupyter.widget-view+json": {
       "model_id": "",
       "version_major": 2,
       "version_minor": 0
      },
      "text/plain": [
       "k (i=1 j=0):   0%|          | 0/5 [00:00<?, ?it/s]"
      ]
     },
     "metadata": {},
     "output_type": "display_data"
    },
    {
     "data": {
      "application/vnd.jupyter.widget-view+json": {
       "model_id": "",
       "version_major": 2,
       "version_minor": 0
      },
      "text/plain": [
       "k (i=1 j=1):   0%|          | 0/5 [00:00<?, ?it/s]"
      ]
     },
     "metadata": {},
     "output_type": "display_data"
    },
    {
     "data": {
      "application/vnd.jupyter.widget-view+json": {
       "model_id": "",
       "version_major": 2,
       "version_minor": 0
      },
      "text/plain": [
       "k (i=1 j=2):   0%|          | 0/5 [00:00<?, ?it/s]"
      ]
     },
     "metadata": {},
     "output_type": "display_data"
    },
    {
     "data": {
      "application/vnd.jupyter.widget-view+json": {
       "model_id": "",
       "version_major": 2,
       "version_minor": 0
      },
      "text/plain": [
       "k (i=1 j=3):   0%|          | 0/5 [00:00<?, ?it/s]"
      ]
     },
     "metadata": {},
     "output_type": "display_data"
    },
    {
     "data": {
      "application/vnd.jupyter.widget-view+json": {
       "model_id": "",
       "version_major": 2,
       "version_minor": 0
      },
      "text/plain": [
       "k (i=1 j=4):   0%|          | 0/5 [00:00<?, ?it/s]"
      ]
     },
     "metadata": {},
     "output_type": "display_data"
    },
    {
     "data": {
      "application/vnd.jupyter.widget-view+json": {
       "model_id": "",
       "version_major": 2,
       "version_minor": 0
      },
      "text/plain": [
       "j (i=2):   0%|          | 0/5 [00:00<?, ?it/s]"
      ]
     },
     "metadata": {},
     "output_type": "display_data"
    },
    {
     "data": {
      "application/vnd.jupyter.widget-view+json": {
       "model_id": "",
       "version_major": 2,
       "version_minor": 0
      },
      "text/plain": [
       "k (i=2 j=0):   0%|          | 0/5 [00:00<?, ?it/s]"
      ]
     },
     "metadata": {},
     "output_type": "display_data"
    },
    {
     "data": {
      "application/vnd.jupyter.widget-view+json": {
       "model_id": "",
       "version_major": 2,
       "version_minor": 0
      },
      "text/plain": [
       "k (i=2 j=1):   0%|          | 0/5 [00:00<?, ?it/s]"
      ]
     },
     "metadata": {},
     "output_type": "display_data"
    },
    {
     "data": {
      "application/vnd.jupyter.widget-view+json": {
       "model_id": "",
       "version_major": 2,
       "version_minor": 0
      },
      "text/plain": [
       "k (i=2 j=2):   0%|          | 0/5 [00:00<?, ?it/s]"
      ]
     },
     "metadata": {},
     "output_type": "display_data"
    },
    {
     "data": {
      "application/vnd.jupyter.widget-view+json": {
       "model_id": "",
       "version_major": 2,
       "version_minor": 0
      },
      "text/plain": [
       "k (i=2 j=3):   0%|          | 0/5 [00:00<?, ?it/s]"
      ]
     },
     "metadata": {},
     "output_type": "display_data"
    },
    {
     "data": {
      "application/vnd.jupyter.widget-view+json": {
       "model_id": "",
       "version_major": 2,
       "version_minor": 0
      },
      "text/plain": [
       "k (i=2 j=4):   0%|          | 0/5 [00:00<?, ?it/s]"
      ]
     },
     "metadata": {},
     "output_type": "display_data"
    },
    {
     "data": {
      "application/vnd.jupyter.widget-view+json": {
       "model_id": "",
       "version_major": 2,
       "version_minor": 0
      },
      "text/plain": [
       "j (i=3):   0%|          | 0/5 [00:00<?, ?it/s]"
      ]
     },
     "metadata": {},
     "output_type": "display_data"
    },
    {
     "data": {
      "application/vnd.jupyter.widget-view+json": {
       "model_id": "",
       "version_major": 2,
       "version_minor": 0
      },
      "text/plain": [
       "k (i=3 j=0):   0%|          | 0/5 [00:00<?, ?it/s]"
      ]
     },
     "metadata": {},
     "output_type": "display_data"
    },
    {
     "data": {
      "application/vnd.jupyter.widget-view+json": {
       "model_id": "",
       "version_major": 2,
       "version_minor": 0
      },
      "text/plain": [
       "k (i=3 j=1):   0%|          | 0/5 [00:00<?, ?it/s]"
      ]
     },
     "metadata": {},
     "output_type": "display_data"
    },
    {
     "data": {
      "application/vnd.jupyter.widget-view+json": {
       "model_id": "",
       "version_major": 2,
       "version_minor": 0
      },
      "text/plain": [
       "k (i=3 j=2):   0%|          | 0/5 [00:00<?, ?it/s]"
      ]
     },
     "metadata": {},
     "output_type": "display_data"
    },
    {
     "data": {
      "application/vnd.jupyter.widget-view+json": {
       "model_id": "",
       "version_major": 2,
       "version_minor": 0
      },
      "text/plain": [
       "k (i=3 j=3):   0%|          | 0/5 [00:00<?, ?it/s]"
      ]
     },
     "metadata": {},
     "output_type": "display_data"
    },
    {
     "data": {
      "application/vnd.jupyter.widget-view+json": {
       "model_id": "",
       "version_major": 2,
       "version_minor": 0
      },
      "text/plain": [
       "k (i=3 j=4):   0%|          | 0/5 [00:00<?, ?it/s]"
      ]
     },
     "metadata": {},
     "output_type": "display_data"
    },
    {
     "data": {
      "application/vnd.jupyter.widget-view+json": {
       "model_id": "",
       "version_major": 2,
       "version_minor": 0
      },
      "text/plain": [
       "j (i=4):   0%|          | 0/5 [00:00<?, ?it/s]"
      ]
     },
     "metadata": {},
     "output_type": "display_data"
    },
    {
     "data": {
      "application/vnd.jupyter.widget-view+json": {
       "model_id": "",
       "version_major": 2,
       "version_minor": 0
      },
      "text/plain": [
       "k (i=4 j=0):   0%|          | 0/5 [00:00<?, ?it/s]"
      ]
     },
     "metadata": {},
     "output_type": "display_data"
    },
    {
     "data": {
      "application/vnd.jupyter.widget-view+json": {
       "model_id": "",
       "version_major": 2,
       "version_minor": 0
      },
      "text/plain": [
       "k (i=4 j=1):   0%|          | 0/5 [00:00<?, ?it/s]"
      ]
     },
     "metadata": {},
     "output_type": "display_data"
    },
    {
     "data": {
      "application/vnd.jupyter.widget-view+json": {
       "model_id": "",
       "version_major": 2,
       "version_minor": 0
      },
      "text/plain": [
       "k (i=4 j=2):   0%|          | 0/5 [00:00<?, ?it/s]"
      ]
     },
     "metadata": {},
     "output_type": "display_data"
    },
    {
     "data": {
      "application/vnd.jupyter.widget-view+json": {
       "model_id": "",
       "version_major": 2,
       "version_minor": 0
      },
      "text/plain": [
       "k (i=4 j=3):   0%|          | 0/5 [00:00<?, ?it/s]"
      ]
     },
     "metadata": {},
     "output_type": "display_data"
    },
    {
     "data": {
      "application/vnd.jupyter.widget-view+json": {
       "model_id": "",
       "version_major": 2,
       "version_minor": 0
      },
      "text/plain": [
       "k (i=4 j=4):   0%|          | 0/5 [00:00<?, ?it/s]"
      ]
     },
     "metadata": {},
     "output_type": "display_data"
    }
   ],
   "source": [
    "from tqdm.notebook import trange\n",
    "\n",
    "for i in trange(5, desc=\"i\"):\n",
    "    for j in trange(5, desc=f\"j ({i=})\", leave=False):\n",
    "        for k in trange(5, desc=f\"k ({i=} {j=})\", leave=False):\n",
    "            sleep(0.1)"
   ]
  },
  {
   "cell_type": "markdown",
   "id": "23be318a-23d4-4161-b3fe-c3800bb5205b",
   "metadata": {},
   "source": [
    "I should also explain the `leave` argument. That argument defaults to `True`, and means that `tqdm` will leave the completed bar on the screen. By setting it to `False` it will remove it - and that's precisely what we want for the nested bars - remember that a bar is created for each of the inner loop iterations - once the loop has finished we want to remove the completed bar so it will be replaced by the new one from the next iteration. \n",
    "\n",
    "Let's see what happens if we don't remove the bars:"
   ]
  },
  {
   "cell_type": "code",
   "execution_count": 34,
   "id": "f513a59f-9886-4614-a897-c45250a20796",
   "metadata": {},
   "outputs": [
    {
     "data": {
      "application/vnd.jupyter.widget-view+json": {
       "model_id": "9e104840aa24487ead4dd25d9916668c",
       "version_major": 2,
       "version_minor": 0
      },
      "text/plain": [
       "i:   0%|          | 0/5 [00:00<?, ?it/s]"
      ]
     },
     "metadata": {},
     "output_type": "display_data"
    },
    {
     "data": {
      "application/vnd.jupyter.widget-view+json": {
       "model_id": "3da810ec65a44739a2d7b9e0590c2ef3",
       "version_major": 2,
       "version_minor": 0
      },
      "text/plain": [
       "j (i=0):   0%|          | 0/5 [00:00<?, ?it/s]"
      ]
     },
     "metadata": {},
     "output_type": "display_data"
    },
    {
     "data": {
      "application/vnd.jupyter.widget-view+json": {
       "model_id": "04afbb3825c4486bac44d8eb15c16330",
       "version_major": 2,
       "version_minor": 0
      },
      "text/plain": [
       "k (i=0 j=0):   0%|          | 0/5 [00:00<?, ?it/s]"
      ]
     },
     "metadata": {},
     "output_type": "display_data"
    },
    {
     "data": {
      "application/vnd.jupyter.widget-view+json": {
       "model_id": "c3589a767025438582118a64d724d800",
       "version_major": 2,
       "version_minor": 0
      },
      "text/plain": [
       "k (i=0 j=1):   0%|          | 0/5 [00:00<?, ?it/s]"
      ]
     },
     "metadata": {},
     "output_type": "display_data"
    },
    {
     "data": {
      "application/vnd.jupyter.widget-view+json": {
       "model_id": "567428c95c174ccb8133012a16d87455",
       "version_major": 2,
       "version_minor": 0
      },
      "text/plain": [
       "k (i=0 j=2):   0%|          | 0/5 [00:00<?, ?it/s]"
      ]
     },
     "metadata": {},
     "output_type": "display_data"
    },
    {
     "data": {
      "application/vnd.jupyter.widget-view+json": {
       "model_id": "b594a8e713fc4cb482f909059ddbc687",
       "version_major": 2,
       "version_minor": 0
      },
      "text/plain": [
       "k (i=0 j=3):   0%|          | 0/5 [00:00<?, ?it/s]"
      ]
     },
     "metadata": {},
     "output_type": "display_data"
    },
    {
     "data": {
      "application/vnd.jupyter.widget-view+json": {
       "model_id": "6290e3b264ff48f3b4feda113cdcd927",
       "version_major": 2,
       "version_minor": 0
      },
      "text/plain": [
       "k (i=0 j=4):   0%|          | 0/5 [00:00<?, ?it/s]"
      ]
     },
     "metadata": {},
     "output_type": "display_data"
    },
    {
     "data": {
      "application/vnd.jupyter.widget-view+json": {
       "model_id": "68eee815f4784732b8fe0300fa7b738a",
       "version_major": 2,
       "version_minor": 0
      },
      "text/plain": [
       "j (i=1):   0%|          | 0/5 [00:00<?, ?it/s]"
      ]
     },
     "metadata": {},
     "output_type": "display_data"
    },
    {
     "data": {
      "application/vnd.jupyter.widget-view+json": {
       "model_id": "7ce3b0b7854742ae9a3732411e5eab17",
       "version_major": 2,
       "version_minor": 0
      },
      "text/plain": [
       "k (i=1 j=0):   0%|          | 0/5 [00:00<?, ?it/s]"
      ]
     },
     "metadata": {},
     "output_type": "display_data"
    },
    {
     "data": {
      "application/vnd.jupyter.widget-view+json": {
       "model_id": "b8566a8af7a64e3ea777b38d97901a3f",
       "version_major": 2,
       "version_minor": 0
      },
      "text/plain": [
       "k (i=1 j=1):   0%|          | 0/5 [00:00<?, ?it/s]"
      ]
     },
     "metadata": {},
     "output_type": "display_data"
    },
    {
     "data": {
      "application/vnd.jupyter.widget-view+json": {
       "model_id": "84b6d05e8dd643f5b0a4a6a17c229b38",
       "version_major": 2,
       "version_minor": 0
      },
      "text/plain": [
       "k (i=1 j=2):   0%|          | 0/5 [00:00<?, ?it/s]"
      ]
     },
     "metadata": {},
     "output_type": "display_data"
    },
    {
     "data": {
      "application/vnd.jupyter.widget-view+json": {
       "model_id": "ef9f45d01c814cc4a5c7e53d2eb6af5c",
       "version_major": 2,
       "version_minor": 0
      },
      "text/plain": [
       "k (i=1 j=3):   0%|          | 0/5 [00:00<?, ?it/s]"
      ]
     },
     "metadata": {},
     "output_type": "display_data"
    },
    {
     "data": {
      "application/vnd.jupyter.widget-view+json": {
       "model_id": "5e48d073b17c432f8e656a752348b23d",
       "version_major": 2,
       "version_minor": 0
      },
      "text/plain": [
       "k (i=1 j=4):   0%|          | 0/5 [00:00<?, ?it/s]"
      ]
     },
     "metadata": {},
     "output_type": "display_data"
    },
    {
     "data": {
      "application/vnd.jupyter.widget-view+json": {
       "model_id": "2a9a95b20e01416e987e86bf3e3f0782",
       "version_major": 2,
       "version_minor": 0
      },
      "text/plain": [
       "j (i=2):   0%|          | 0/5 [00:00<?, ?it/s]"
      ]
     },
     "metadata": {},
     "output_type": "display_data"
    },
    {
     "data": {
      "application/vnd.jupyter.widget-view+json": {
       "model_id": "0b6f45e44bb24fce9964ef8c41edc8d5",
       "version_major": 2,
       "version_minor": 0
      },
      "text/plain": [
       "k (i=2 j=0):   0%|          | 0/5 [00:00<?, ?it/s]"
      ]
     },
     "metadata": {},
     "output_type": "display_data"
    },
    {
     "data": {
      "application/vnd.jupyter.widget-view+json": {
       "model_id": "dde0bae3fae54c7980b34b39c137928a",
       "version_major": 2,
       "version_minor": 0
      },
      "text/plain": [
       "k (i=2 j=1):   0%|          | 0/5 [00:00<?, ?it/s]"
      ]
     },
     "metadata": {},
     "output_type": "display_data"
    },
    {
     "data": {
      "application/vnd.jupyter.widget-view+json": {
       "model_id": "995496888a164ece9b75e0e8188a7017",
       "version_major": 2,
       "version_minor": 0
      },
      "text/plain": [
       "k (i=2 j=2):   0%|          | 0/5 [00:00<?, ?it/s]"
      ]
     },
     "metadata": {},
     "output_type": "display_data"
    },
    {
     "data": {
      "application/vnd.jupyter.widget-view+json": {
       "model_id": "62a0fb3963fb443d90d33205fbccf303",
       "version_major": 2,
       "version_minor": 0
      },
      "text/plain": [
       "k (i=2 j=3):   0%|          | 0/5 [00:00<?, ?it/s]"
      ]
     },
     "metadata": {},
     "output_type": "display_data"
    },
    {
     "data": {
      "application/vnd.jupyter.widget-view+json": {
       "model_id": "40a8ccef39b748bd958756de5deb39cc",
       "version_major": 2,
       "version_minor": 0
      },
      "text/plain": [
       "k (i=2 j=4):   0%|          | 0/5 [00:00<?, ?it/s]"
      ]
     },
     "metadata": {},
     "output_type": "display_data"
    },
    {
     "data": {
      "application/vnd.jupyter.widget-view+json": {
       "model_id": "6bc4557c786a4a2ba83443b7104390de",
       "version_major": 2,
       "version_minor": 0
      },
      "text/plain": [
       "j (i=3):   0%|          | 0/5 [00:00<?, ?it/s]"
      ]
     },
     "metadata": {},
     "output_type": "display_data"
    },
    {
     "data": {
      "application/vnd.jupyter.widget-view+json": {
       "model_id": "e15c1698b97b416cb8253c5af5266836",
       "version_major": 2,
       "version_minor": 0
      },
      "text/plain": [
       "k (i=3 j=0):   0%|          | 0/5 [00:00<?, ?it/s]"
      ]
     },
     "metadata": {},
     "output_type": "display_data"
    },
    {
     "data": {
      "application/vnd.jupyter.widget-view+json": {
       "model_id": "9f57e7600aa4486d9f8879bca0afb2aa",
       "version_major": 2,
       "version_minor": 0
      },
      "text/plain": [
       "k (i=3 j=1):   0%|          | 0/5 [00:00<?, ?it/s]"
      ]
     },
     "metadata": {},
     "output_type": "display_data"
    },
    {
     "data": {
      "application/vnd.jupyter.widget-view+json": {
       "model_id": "95f0135343cf441580bab6adc9e24495",
       "version_major": 2,
       "version_minor": 0
      },
      "text/plain": [
       "k (i=3 j=2):   0%|          | 0/5 [00:00<?, ?it/s]"
      ]
     },
     "metadata": {},
     "output_type": "display_data"
    },
    {
     "data": {
      "application/vnd.jupyter.widget-view+json": {
       "model_id": "6a695fc1a99b40109882b4a636a13b11",
       "version_major": 2,
       "version_minor": 0
      },
      "text/plain": [
       "k (i=3 j=3):   0%|          | 0/5 [00:00<?, ?it/s]"
      ]
     },
     "metadata": {},
     "output_type": "display_data"
    },
    {
     "data": {
      "application/vnd.jupyter.widget-view+json": {
       "model_id": "18966bc0a5014d828db4a0a723337321",
       "version_major": 2,
       "version_minor": 0
      },
      "text/plain": [
       "k (i=3 j=4):   0%|          | 0/5 [00:00<?, ?it/s]"
      ]
     },
     "metadata": {},
     "output_type": "display_data"
    },
    {
     "data": {
      "application/vnd.jupyter.widget-view+json": {
       "model_id": "0bb8702e9692464b82a275f478cd9793",
       "version_major": 2,
       "version_minor": 0
      },
      "text/plain": [
       "j (i=4):   0%|          | 0/5 [00:00<?, ?it/s]"
      ]
     },
     "metadata": {},
     "output_type": "display_data"
    },
    {
     "data": {
      "application/vnd.jupyter.widget-view+json": {
       "model_id": "bc89887a53f743979dd93216ac92db4f",
       "version_major": 2,
       "version_minor": 0
      },
      "text/plain": [
       "k (i=4 j=0):   0%|          | 0/5 [00:00<?, ?it/s]"
      ]
     },
     "metadata": {},
     "output_type": "display_data"
    },
    {
     "data": {
      "application/vnd.jupyter.widget-view+json": {
       "model_id": "106bc017a21d4b65b47b89d9432b2e4e",
       "version_major": 2,
       "version_minor": 0
      },
      "text/plain": [
       "k (i=4 j=1):   0%|          | 0/5 [00:00<?, ?it/s]"
      ]
     },
     "metadata": {},
     "output_type": "display_data"
    },
    {
     "data": {
      "application/vnd.jupyter.widget-view+json": {
       "model_id": "908234ab2dbf45b6bc0f51cdb9bb34b0",
       "version_major": 2,
       "version_minor": 0
      },
      "text/plain": [
       "k (i=4 j=2):   0%|          | 0/5 [00:00<?, ?it/s]"
      ]
     },
     "metadata": {},
     "output_type": "display_data"
    },
    {
     "data": {
      "application/vnd.jupyter.widget-view+json": {
       "model_id": "860a65076a204d0fbb84e117d6b1e4bb",
       "version_major": 2,
       "version_minor": 0
      },
      "text/plain": [
       "k (i=4 j=3):   0%|          | 0/5 [00:00<?, ?it/s]"
      ]
     },
     "metadata": {},
     "output_type": "display_data"
    },
    {
     "data": {
      "application/vnd.jupyter.widget-view+json": {
       "model_id": "762db408df31418086e13f22dbeb913d",
       "version_major": 2,
       "version_minor": 0
      },
      "text/plain": [
       "k (i=4 j=4):   0%|          | 0/5 [00:00<?, ?it/s]"
      ]
     },
     "metadata": {},
     "output_type": "display_data"
    }
   ],
   "source": [
    "for i in trange(5, desc=\"i\"):\n",
    "    for j in trange(5, desc=f\"j ({i=})\", leave=True):\n",
    "        for k in trange(5, desc=f\"k ({i=} {j=})\", leave=True):\n",
    "            sleep(0.01)"
   ]
  },
  {
   "cell_type": "markdown",
   "id": "8b1e6b84-5478-4d54-8d44-dd57ffebf348",
   "metadata": {},
   "source": [
    "## Conclusion"
   ]
  },
  {
   "cell_type": "markdown",
   "id": "38a4f4e3-a50f-455b-8c3d-fe4c19da8230",
   "metadata": {},
   "source": [
    "This is a very neat and easy to use library, giving a lot of functionality out of the box, along with a slew of customization options.\n",
    "\n",
    "It has much more functionality than I presented here - it will work fine with multi-threading, is async aware, and of course CLI style apps.\n",
    "\n",
    "It even supports more advanced features such as callbacks, hooks, Pandas integration, Keras and Dask integration and much much more."
   ]
  },
  {
   "cell_type": "code",
   "execution_count": null,
   "id": "1bd8c3e5-0562-451a-8714-5ca473473554",
   "metadata": {},
   "outputs": [],
   "source": []
  }
 ],
 "metadata": {
  "kernelspec": {
   "display_name": "Python 3 (ipykernel)",
   "language": "python",
   "name": "python3"
  },
  "language_info": {
   "codemirror_mode": {
    "name": "ipython",
    "version": 3
   },
   "file_extension": ".py",
   "mimetype": "text/x-python",
   "name": "python",
   "nbconvert_exporter": "python",
   "pygments_lexer": "ipython3",
   "version": "3.12.0"
  }
 },
 "nbformat": 4,
 "nbformat_minor": 5
}
