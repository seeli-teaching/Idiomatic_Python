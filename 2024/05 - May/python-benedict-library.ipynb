{
 "cells": [
  {
   "cell_type": "markdown",
   "id": "8b1c6818-5ef8-42b9-aa71-16ca12224959",
   "metadata": {},
   "source": [
    "# The `python-benedict` Library"
   ]
  },
  {
   "cell_type": "markdown",
   "id": "2b63ba6f-d306-4159-81b6-36b5f28df405",
   "metadata": {},
   "source": [
    "I actually ran across this library by accident recently, and it is an interesting library that makes accessing and traversing nested dictionaries quite simple, so I thought I'd cover some of its functionality here.\n",
    "\n",
    "This library is called `python-benedict`, with documentation here:\n",
    "[https://github.com/fabiocaccamo/python-benedict](https://github.com/fabiocaccamo/python-benedict)\n",
    "\n",
    "I assume that since the author is Italian, `benedict` must mean something like well-behaved dictionary. If someone knows, leave a comment!\n",
    "\n",
    "To install the full library, use pip this way:\n",
    "`pip install \"python-benedict[all]\"`\n",
    "\n",
    "This installs the full library. It is possible to only install a subset of the library depending on your needs. This relates to the fact that this library can retrieve dictionary-like objects from various sources, such as CSV, JSON, http requests, S3, and more.\n",
    "\n",
    "The library seems to be under active development with 1.3k stars, although it seems this is a single developer supporting this, so take that into consideration."
   ]
  },
  {
   "cell_type": "markdown",
   "id": "4a587d48-b25a-4856-93ab-44a84d6292a1",
   "metadata": {},
   "source": [
    "Let's jump right in.\n",
    "\n",
    "We're going to cover these features:\n",
    "- instantiating `benedict` objects, from dictionaries, HTTP requests and JSON - it has plenty other options too\n",
    "- accessing and mutating these `benedict` objects (which are `dict` subclasses) in a variey of ways\n",
    "- making the objects immutable\n",
    "- a few traversal and filtering methods - this is where I think this library shines - not just easier element access, but a slew of utility functions for traversing, filtering, grouping, finding, and a whole lot more.\n",
    "\n",
    "We'll start by defining a nested dictionary:"
   ]
  },
  {
   "cell_type": "code",
   "execution_count": 1,
   "id": "7ff9632b-e7a9-4586-8e3b-67cf5f262778",
   "metadata": {},
   "outputs": [],
   "source": [
    "rectangle = {\n",
    "    \"dimensions\": {\n",
    "        \"length\": 100,\n",
    "        \"width\": 50,\n",
    "    },\n",
    "    \"center\": {\n",
    "        \"x\": 10, \n",
    "        \"y\": 5,\n",
    "    },\n",
    "    \"colors\": {\n",
    "        \"edge\": {\n",
    "            \"rgb\": (100, 100, 0),\n",
    "            \"thickness\": 50,\n",
    "        },\n",
    "        \"interior\": {\n",
    "            \"rgb\": (0, 255, 255),\n",
    "            \"alpha\": 50,\n",
    "        },\n",
    "    },\n",
    "}\n",
    " "
   ]
  },
  {
   "cell_type": "markdown",
   "id": "7ce2c521-87e5-42bc-91f4-180b5f3139a1",
   "metadata": {},
   "source": [
    "Now let's say we want to get the `alpha` value for the interior.\n",
    "\n",
    "Using straight Python, we could do something like this:"
   ]
  },
  {
   "cell_type": "code",
   "execution_count": 2,
   "id": "c2997694-825b-4ec9-95bc-714961938a24",
   "metadata": {},
   "outputs": [
    {
     "data": {
      "text/plain": [
       "50"
      ]
     },
     "execution_count": 2,
     "metadata": {},
     "output_type": "execute_result"
    }
   ],
   "source": [
    "rectangle[\"colors\"][\"interior\"][\"alpha\"]"
   ]
  },
  {
   "cell_type": "markdown",
   "id": "f594a38e-c66e-430c-afad-e5699243a578",
   "metadata": {},
   "source": [
    "Let's use `python-benedict` to do the same thing."
   ]
  },
  {
   "cell_type": "code",
   "execution_count": 3,
   "id": "126d0551-00a3-4b4a-9081-98ad20e99f6b",
   "metadata": {},
   "outputs": [],
   "source": [
    "from benedict import benedict"
   ]
  },
  {
   "cell_type": "markdown",
   "id": "4859600b-8a3f-4f7d-83ea-602b41af14c5",
   "metadata": {},
   "source": [
    "The `benedict` object is a subclass of Python's `dict`, so you can simply case a regular dictionary:"
   ]
  },
  {
   "cell_type": "code",
   "execution_count": 4,
   "id": "9125ddb0-ea0e-45e2-9118-091d8cce9d07",
   "metadata": {},
   "outputs": [],
   "source": [
    "rect = benedict(rectangle)"
   ]
  },
  {
   "cell_type": "code",
   "execution_count": 5,
   "id": "cb72babc-6f10-4bde-aa03-6dfcfa27d312",
   "metadata": {},
   "outputs": [
    {
     "data": {
      "text/plain": [
       "benedict.dicts.benedict"
      ]
     },
     "execution_count": 5,
     "metadata": {},
     "output_type": "execute_result"
    }
   ],
   "source": [
    "type(rect)"
   ]
  },
  {
   "cell_type": "code",
   "execution_count": 6,
   "id": "c8c1853d-2138-4a29-9e1e-6946301fba59",
   "metadata": {},
   "outputs": [
    {
     "name": "stdout",
     "output_type": "stream",
     "text": [
      "{'dimensions': {'length': 100, 'width': 50}, 'center': {'x': 10, 'y': 5}, 'colors': {'edge': {'rgb': (100, 100, 0), 'thickness': 50}, 'interior': {'rgb': (0, 255, 255), 'alpha': 50}}}\n"
     ]
    }
   ],
   "source": [
    "print(rect)"
   ]
  },
  {
   "cell_type": "markdown",
   "id": "2dbb9e89-cb28-4c18-9270-98f9769aa4c3",
   "metadata": {},
   "source": [
    "It is now possible to access keys in the nested dictionary in a variety of ways."
   ]
  },
  {
   "cell_type": "markdown",
   "id": "693971d4-7faa-4d93-a8b4-423806770d7f",
   "metadata": {},
   "source": [
    "The simplest is probably just using dot notation:"
   ]
  },
  {
   "cell_type": "code",
   "execution_count": 7,
   "id": "815b9613-48d2-416f-a9b9-98b5ab36e801",
   "metadata": {},
   "outputs": [
    {
     "data": {
      "text/plain": [
       "50"
      ]
     },
     "execution_count": 7,
     "metadata": {},
     "output_type": "execute_result"
    }
   ],
   "source": [
    "rect.colors.interior.alpha"
   ]
  },
  {
   "cell_type": "markdown",
   "id": "9eb8c07d-beb6-4ddc-af1a-193825770229",
   "metadata": {},
   "source": [
    "We can actually also use this to set values in the `benedict` object:"
   ]
  },
  {
   "cell_type": "code",
   "execution_count": 8,
   "id": "8f93faf0-24b7-4639-a5c8-96e17680d50d",
   "metadata": {},
   "outputs": [],
   "source": [
    "rect.colors.interior.alpha = 60"
   ]
  },
  {
   "cell_type": "code",
   "execution_count": 9,
   "id": "e183d87b-a4a0-4767-b48c-e529a0ec729f",
   "metadata": {},
   "outputs": [
    {
     "data": {
      "text/plain": [
       "{'dimensions': {'length': 100, 'width': 50}, 'center': {'x': 10, 'y': 5}, 'colors': {'edge': {'rgb': (100, 100, 0), 'thickness': 50}, 'interior': {'rgb': (0, 255, 255), 'alpha': 60}}}"
      ]
     },
     "execution_count": 9,
     "metadata": {},
     "output_type": "execute_result"
    }
   ],
   "source": [
    "rect"
   ]
  },
  {
   "cell_type": "markdown",
   "id": "0c31f8f5-069b-47ae-b83d-b0c77d98974e",
   "metadata": {},
   "source": [
    "Note that it \"mutated\" our original dictionary!"
   ]
  },
  {
   "cell_type": "code",
   "execution_count": 10,
   "id": "0abdd2ad-ea79-46f9-aacc-a94b707ec901",
   "metadata": {},
   "outputs": [
    {
     "data": {
      "text/plain": [
       "{'dimensions': {'length': 100, 'width': 50},\n",
       " 'center': {'x': 10, 'y': 5},\n",
       " 'colors': {'edge': {'rgb': (100, 100, 0), 'thickness': 50},\n",
       "  'interior': {'rgb': (0, 255, 255), 'alpha': 60}}}"
      ]
     },
     "execution_count": 10,
     "metadata": {},
     "output_type": "execute_result"
    }
   ],
   "source": [
    "rectangle"
   ]
  },
  {
   "cell_type": "markdown",
   "id": "380da66b-e930-4129-a8f4-86c02d6ce4aa",
   "metadata": {},
   "source": [
    "So, the original dictionary and the `benedict` object are \"linked\" - keep that in mind.\n",
    "\n",
    "You could always create a deepcopy of your original dict and use that instead if you do not want this."
   ]
  },
  {
   "cell_type": "markdown",
   "id": "4d295078-8566-4b0a-ad0b-5d85cd6cfc96",
   "metadata": {},
   "source": [
    "Of course, since these objects are `dict` objects:"
   ]
  },
  {
   "cell_type": "code",
   "execution_count": 11,
   "id": "a53888ad-3fb8-4641-a035-6816d2d14ccf",
   "metadata": {},
   "outputs": [
    {
     "data": {
      "text/plain": [
       "True"
      ]
     },
     "execution_count": 11,
     "metadata": {},
     "output_type": "execute_result"
    }
   ],
   "source": [
    "isinstance(rect, dict)"
   ]
  },
  {
   "cell_type": "markdown",
   "id": "08673450-9d15-4e74-8803-36d8f2de189f",
   "metadata": {},
   "source": [
    "this means they also support the standard dictionary access:"
   ]
  },
  {
   "cell_type": "code",
   "execution_count": 12,
   "id": "57a9cc59-c34f-4966-ba86-eea2765593d6",
   "metadata": {},
   "outputs": [
    {
     "data": {
      "text/plain": [
       "60"
      ]
     },
     "execution_count": 12,
     "metadata": {},
     "output_type": "execute_result"
    }
   ],
   "source": [
    "rect[\"colors\"][\"interior\"][\"alpha\"]"
   ]
  },
  {
   "cell_type": "markdown",
   "id": "2f525070-70b6-4e76-ad5f-d89939f46d09",
   "metadata": {},
   "source": [
    "But, with `benedict` objects, you can also specify a path using a variable arg list of string keys:"
   ]
  },
  {
   "cell_type": "code",
   "execution_count": 13,
   "id": "c15d382c-8cf8-4c84-99ac-cd78a8b93905",
   "metadata": {},
   "outputs": [
    {
     "data": {
      "text/plain": [
       "60"
      ]
     },
     "execution_count": 13,
     "metadata": {},
     "output_type": "execute_result"
    }
   ],
   "source": [
    "rect[\"colors\", \"interior\", \"alpha\"]"
   ]
  },
  {
   "cell_type": "markdown",
   "id": "95f4359c-30e1-41a9-94c2-e5247ee8eaae",
   "metadata": {},
   "source": [
    "You can also use a string path, similar to the dot notation, but as a single string:"
   ]
  },
  {
   "cell_type": "code",
   "execution_count": 14,
   "id": "06e9ea9e-bce6-46a9-a165-00fb2c01d8c3",
   "metadata": {},
   "outputs": [
    {
     "data": {
      "text/plain": [
       "60"
      ]
     },
     "execution_count": 14,
     "metadata": {},
     "output_type": "execute_result"
    }
   ],
   "source": [
    "rect[\"colors.interior.alpha\"]"
   ]
  },
  {
   "cell_type": "markdown",
   "id": "f1e38ab1-0be4-4c3d-ab41-0675c381a58e",
   "metadata": {},
   "source": [
    "These variants allow you quite a bit of flexibility when building up paths programmatically to search for objects in your dictionaries."
   ]
  },
  {
   "cell_type": "markdown",
   "id": "6500e3e8-8351-4720-ad62-dfb4a3600f1e",
   "metadata": {},
   "source": [
    "But of course, this begs the question, what if the dictionary keys contain periods (`.`) in them?"
   ]
  },
  {
   "cell_type": "markdown",
   "id": "faef1fcd-05cd-4b11-9fb4-ce3ea0be7976",
   "metadata": {},
   "source": [
    "Let's try it out:"
   ]
  },
  {
   "cell_type": "code",
   "execution_count": 15,
   "id": "75b4dba8-bbce-4af6-8a74-311109abc118",
   "metadata": {},
   "outputs": [],
   "source": [
    "data = {\n",
    "    \"a\": {\n",
    "        \"a.1\": 100,\n",
    "        \"a.2\": 200,\n",
    "    },\n",
    "    \"b\": {\n",
    "        \"b.2\": 10,\n",
    "        \"b.3\": 20,\n",
    "    }\n",
    "}"
   ]
  },
  {
   "cell_type": "code",
   "execution_count": 16,
   "id": "f224327b-100b-4161-aaab-60156182243f",
   "metadata": {},
   "outputs": [
    {
     "name": "stdout",
     "output_type": "stream",
     "text": [
      "Key should not contain keypath separator '.', found: 'a.1'.\n"
     ]
    }
   ],
   "source": [
    "try:\n",
    "    benedict(data)\n",
    "except ValueError as ex:\n",
    "    print(ex)"
   ]
  },
  {
   "cell_type": "markdown",
   "id": "c0fbec1b-49d8-4019-9673-a5f5f2ee3b97",
   "metadata": {},
   "source": [
    "So, we can't load the dictionary - however, we could specify a different keypath separator.\n",
    "\n",
    "In this case for example, we could choose to use a pipe character (`|`):"
   ]
  },
  {
   "cell_type": "code",
   "execution_count": 17,
   "id": "8fdf3a8e-d194-4753-90e3-7f0e62a77e95",
   "metadata": {},
   "outputs": [],
   "source": [
    "d = benedict(data, keypath_separator=\"|\")"
   ]
  },
  {
   "cell_type": "markdown",
   "id": "7ccd47ac-a134-4458-b5c0-753642d2e232",
   "metadata": {},
   "source": [
    "And now we can use this separator when dealing with string paths:"
   ]
  },
  {
   "cell_type": "code",
   "execution_count": 18,
   "id": "8a66507e-e0bd-4d0b-87f9-31232ec5d64b",
   "metadata": {},
   "outputs": [
    {
     "data": {
      "text/plain": [
       "200"
      ]
     },
     "execution_count": 18,
     "metadata": {},
     "output_type": "execute_result"
    }
   ],
   "source": [
    "d[\"a|a.2\"]"
   ]
  },
  {
   "cell_type": "code",
   "execution_count": 19,
   "id": "2882a21e-96b9-460f-9c6a-07acf8c22062",
   "metadata": {},
   "outputs": [
    {
     "data": {
      "text/plain": [
       "200"
      ]
     },
     "execution_count": 19,
     "metadata": {},
     "output_type": "execute_result"
    }
   ],
   "source": [
    "d[\"a\", \"a.2\"]"
   ]
  },
  {
   "cell_type": "markdown",
   "id": "524dbd00-be07-441d-9799-c256e6d1fe7d",
   "metadata": {},
   "source": [
    "but what about accessing using attributes?"
   ]
  },
  {
   "cell_type": "code",
   "execution_count": 20,
   "id": "46267444-1561-417e-abd9-072d5567e35f",
   "metadata": {},
   "outputs": [
    {
     "data": {
      "text/plain": [
       "{'a.1': 100, 'a.2': 200}"
      ]
     },
     "execution_count": 20,
     "metadata": {},
     "output_type": "execute_result"
    }
   ],
   "source": [
    "d.a"
   ]
  },
  {
   "cell_type": "markdown",
   "id": "b025e6d9-2501-406d-984a-666cb7a5becd",
   "metadata": {},
   "source": [
    "Of course, we seem to lose the ability to access the elements using attributes.\n",
    "\n",
    "This would not make a while lot of sense:\n",
    "```python\n",
    "d.a.a.1\n",
    "```"
   ]
  },
  {
   "cell_type": "markdown",
   "id": "4b9197b7-c8ec-48b4-b0de-d73f6456f2b2",
   "metadata": {},
   "source": [
    "Although you could certainly use something like this:"
   ]
  },
  {
   "cell_type": "code",
   "execution_count": 21,
   "id": "e279156a-ad79-4f30-8aba-a6599ed7a228",
   "metadata": {},
   "outputs": [
    {
     "data": {
      "text/plain": [
       "100"
      ]
     },
     "execution_count": 21,
     "metadata": {},
     "output_type": "execute_result"
    }
   ],
   "source": [
    "d.a[\"a.1\"]"
   ]
  },
  {
   "cell_type": "markdown",
   "id": "3c482ebd-0825-48fe-bb8c-6581474551ff",
   "metadata": {},
   "source": [
    "Lists are also supported, and as expected we simply use `[i]` to sepcify the element of the list we want:"
   ]
  },
  {
   "cell_type": "code",
   "execution_count": 22,
   "id": "490f9716-4dd9-4eb9-8f9b-bd0ab32d8835",
   "metadata": {},
   "outputs": [],
   "source": [
    "data = {\n",
    "    \"a\": {\n",
    "        \"a_1\": [1, 2, 3],\n",
    "    }\n",
    "}"
   ]
  },
  {
   "cell_type": "code",
   "execution_count": 23,
   "id": "2a888d29-c01a-4da1-958d-cb8481cd4e73",
   "metadata": {},
   "outputs": [],
   "source": [
    "d = benedict(data)"
   ]
  },
  {
   "cell_type": "code",
   "execution_count": 24,
   "id": "86881d3a-4d66-496e-81d7-bccd73c79fee",
   "metadata": {},
   "outputs": [
    {
     "data": {
      "text/plain": [
       "3"
      ]
     },
     "execution_count": 24,
     "metadata": {},
     "output_type": "execute_result"
    }
   ],
   "source": [
    "d.a.a_1[-1]"
   ]
  },
  {
   "cell_type": "markdown",
   "id": "48213915-4a95-4261-be58-cf1a66ae3c38",
   "metadata": {},
   "source": [
    "This library allows us to \"load\" the data from a variety of data sources. For example, we could specify a URL to get some JSON data back from some API.\n",
    "\n",
    "Here I'll use the Starwars API (SWAPI) as an example:"
   ]
  },
  {
   "cell_type": "code",
   "execution_count": 25,
   "id": "86ad06d9-cb53-429b-8e1f-6e48bef94fe1",
   "metadata": {},
   "outputs": [],
   "source": [
    "luke = benedict(\"https://swapi.dev/api/people/1/\", format=\"json\")"
   ]
  },
  {
   "cell_type": "code",
   "execution_count": 26,
   "id": "98abc605-e380-447f-8747-4edc0675fb28",
   "metadata": {},
   "outputs": [
    {
     "data": {
      "text/plain": [
       "{'name': 'Luke Skywalker', 'height': '172', 'mass': '77', 'hair_color': 'blond', 'skin_color': 'fair', 'eye_color': 'blue', 'birth_year': '19BBY', 'gender': 'male', 'homeworld': 'https://swapi.dev/api/planets/1/', 'films': ['https://swapi.dev/api/films/1/', 'https://swapi.dev/api/films/2/', 'https://swapi.dev/api/films/3/', 'https://swapi.dev/api/films/6/'], 'species': [], 'vehicles': ['https://swapi.dev/api/vehicles/14/', 'https://swapi.dev/api/vehicles/30/'], 'starships': ['https://swapi.dev/api/starships/12/', 'https://swapi.dev/api/starships/22/'], 'created': '2014-12-09T13:50:51.644000Z', 'edited': '2014-12-20T21:17:56.891000Z', 'url': 'https://swapi.dev/api/people/1/'}"
      ]
     },
     "execution_count": 26,
     "metadata": {},
     "output_type": "execute_result"
    }
   ],
   "source": [
    "luke"
   ]
  },
  {
   "cell_type": "markdown",
   "id": "1be17f6d-fcb6-4977-bff0-87c7b137c987",
   "metadata": {},
   "source": [
    "And we can retrieve (or set) elements via attributes or paths:"
   ]
  },
  {
   "cell_type": "code",
   "execution_count": 27,
   "id": "41189594-9ba4-46a9-a172-6ff92eb071dd",
   "metadata": {},
   "outputs": [
    {
     "data": {
      "text/plain": [
       "'https://swapi.dev/api/films/1/'"
      ]
     },
     "execution_count": 27,
     "metadata": {},
     "output_type": "execute_result"
    }
   ],
   "source": [
    "luke.films[0]"
   ]
  },
  {
   "cell_type": "code",
   "execution_count": 28,
   "id": "3c6d1422-fec4-4468-8138-2159eb59a765",
   "metadata": {},
   "outputs": [
    {
     "data": {
      "text/plain": [
       "'https://swapi.dev/api/films/1/'"
      ]
     },
     "execution_count": 28,
     "metadata": {},
     "output_type": "execute_result"
    }
   ],
   "source": [
    "luke[\"films[0]\"]"
   ]
  },
  {
   "cell_type": "markdown",
   "id": "6cea1313-e459-4ff9-8c3c-2c28e0b0fe89",
   "metadata": {},
   "source": [
    "Since I am unsure of how this is http call is implemented, especially as far as timeouts, headers, authentication, I would probably not use this, but instead run the HTTP request myself using `requests` so i can fully control what is happening, then use the `from_json()` method provided by `benedict`:"
   ]
  },
  {
   "cell_type": "code",
   "execution_count": 29,
   "id": "991445fb-96ee-4c76-8cd2-c2bd08c66b76",
   "metadata": {},
   "outputs": [
    {
     "data": {
      "text/plain": [
       "'{\"name\":\"Luke Skywalker\",\"height\":\"172\",\"mass\":\"77\",\"hair_color\":\"blond\",\"skin_color\":\"fair\",\"eye_color\":\"blue\",\"birth_year\":\"19BBY\",\"gender\":\"male\",\"homeworld\":\"https://swapi.dev/api/planets/1/\",\"films\":[\"https://swapi.dev/api/films/1/\",\"https://swapi.dev/api/films/2/\",\"https://swapi.dev/api/films/3/\",\"https://swapi.dev/api/films/6/\"],\"species\":[],\"vehicles\":[\"https://swapi.dev/api/vehicles/14/\",\"https://swapi.dev/api/vehicles/30/\"],\"starships\":[\"https://swapi.dev/api/starships/12/\",\"https://swapi.dev/api/starships/22/\"],\"created\":\"2014-12-09T13:50:51.644000Z\",\"edited\":\"2014-12-20T21:17:56.891000Z\",\"url\":\"https://swapi.dev/api/people/1/\"}'"
      ]
     },
     "execution_count": 29,
     "metadata": {},
     "output_type": "execute_result"
    }
   ],
   "source": [
    "import requests\n",
    "\n",
    "result = requests.get(\"https://swapi.dev/api/people/1/\")\n",
    "result.raise_for_status()\n",
    "\n",
    "data = result.text\n",
    "data"
   ]
  },
  {
   "cell_type": "code",
   "execution_count": 30,
   "id": "d137cafa-06c2-49e2-841c-1018e3157b78",
   "metadata": {},
   "outputs": [
    {
     "data": {
      "text/plain": [
       "{'name': 'Luke Skywalker', 'height': '172', 'mass': '77', 'hair_color': 'blond', 'skin_color': 'fair', 'eye_color': 'blue', 'birth_year': '19BBY', 'gender': 'male', 'homeworld': 'https://swapi.dev/api/planets/1/', 'films': ['https://swapi.dev/api/films/1/', 'https://swapi.dev/api/films/2/', 'https://swapi.dev/api/films/3/', 'https://swapi.dev/api/films/6/'], 'species': [], 'vehicles': ['https://swapi.dev/api/vehicles/14/', 'https://swapi.dev/api/vehicles/30/'], 'starships': ['https://swapi.dev/api/starships/12/', 'https://swapi.dev/api/starships/22/'], 'created': '2014-12-09T13:50:51.644000Z', 'edited': '2014-12-20T21:17:56.891000Z', 'url': 'https://swapi.dev/api/people/1/'}"
      ]
     },
     "execution_count": 30,
     "metadata": {},
     "output_type": "execute_result"
    }
   ],
   "source": [
    "luke = benedict.from_json(data)\n",
    "luke"
   ]
  },
  {
   "cell_type": "markdown",
   "id": "21006504-5b10-426c-ae24-df401b63e7a6",
   "metadata": {},
   "source": [
    "Or you could of course just use the `json()` method available in `requests` and cast the resulting `dict` to `benedict`."
   ]
  },
  {
   "cell_type": "code",
   "execution_count": 31,
   "id": "f5f102be-840d-4740-b717-d39089e8356d",
   "metadata": {},
   "outputs": [
    {
     "data": {
      "text/plain": [
       "{'name': 'Luke Skywalker', 'height': '172', 'mass': '77', 'hair_color': 'blond', 'skin_color': 'fair', 'eye_color': 'blue', 'birth_year': '19BBY', 'gender': 'male', 'homeworld': 'https://swapi.dev/api/planets/1/', 'films': ['https://swapi.dev/api/films/1/', 'https://swapi.dev/api/films/2/', 'https://swapi.dev/api/films/3/', 'https://swapi.dev/api/films/6/'], 'species': [], 'vehicles': ['https://swapi.dev/api/vehicles/14/', 'https://swapi.dev/api/vehicles/30/'], 'starships': ['https://swapi.dev/api/starships/12/', 'https://swapi.dev/api/starships/22/'], 'created': '2014-12-09T13:50:51.644000Z', 'edited': '2014-12-20T21:17:56.891000Z', 'url': 'https://swapi.dev/api/people/1/'}"
      ]
     },
     "execution_count": 31,
     "metadata": {},
     "output_type": "execute_result"
    }
   ],
   "source": [
    "luke = benedict(result.json())\n",
    "luke"
   ]
  },
  {
   "cell_type": "markdown",
   "id": "ecd8cb06-425a-47c3-88f5-67a58dc2f5d3",
   "metadata": {},
   "source": [
    "As we saw earlier, the `benedict` objects are mutable. What we did not see is how we **add** elements to the dictionary:"
   ]
  },
  {
   "cell_type": "code",
   "execution_count": 32,
   "id": "8ea015c0-d072-4b3a-92fe-58d72588cc66",
   "metadata": {},
   "outputs": [
    {
     "data": {
      "text/plain": [
       "{'dimensions': {'length': 100, 'width': 50},\n",
       " 'center': {'x': 10, 'y': 5},\n",
       " 'colors': {'edge': {'rgb': (100, 100, 0), 'thickness': 50},\n",
       "  'interior': {'rgb': (0, 255, 255), 'alpha': 60}}}"
      ]
     },
     "execution_count": 32,
     "metadata": {},
     "output_type": "execute_result"
    }
   ],
   "source": [
    "rectangle"
   ]
  },
  {
   "cell_type": "code",
   "execution_count": 33,
   "id": "8f668c26-429f-4794-83c3-80f20d1412e7",
   "metadata": {},
   "outputs": [],
   "source": [
    "rect = benedict(rectangle).clone()"
   ]
  },
  {
   "cell_type": "markdown",
   "id": "2937b5a7-60dc-481f-b58b-995dc77469dc",
   "metadata": {},
   "source": [
    "Using standard Python notation wil work just fine:"
   ]
  },
  {
   "cell_type": "code",
   "execution_count": 34,
   "id": "f78e5f5d-38cc-4d8b-bdc7-385fd301a11e",
   "metadata": {},
   "outputs": [
    {
     "data": {
      "text/plain": [
       "{'dimensions': {'length': 100, 'width': 50}, 'center': {'x': 10, 'y': 5}, 'colors': {'edge': {'rgb': (100, 100, 0), 'thickness': 50, 'alpha': 10}, 'interior': {'rgb': (0, 255, 255), 'alpha': 60}}}"
      ]
     },
     "execution_count": 34,
     "metadata": {},
     "output_type": "execute_result"
    }
   ],
   "source": [
    "rect[\"colors\"][\"edge\"][\"alpha\"] = 10\n",
    "rect"
   ]
  },
  {
   "cell_type": "markdown",
   "id": "7df91605-097f-41bf-b1c3-b3985ec7b3f6",
   "metadata": {},
   "source": [
    "> Side note: since we made a `clone` of the benedict object, we are no longer \"tied\" to the original dictionary. We coudl also just have deep copied the original dictionary, and then created a `benedict` object from it."
   ]
  },
  {
   "cell_type": "code",
   "execution_count": 35,
   "id": "3b081c84-df26-45f7-b78d-dfb91a6e825f",
   "metadata": {},
   "outputs": [
    {
     "data": {
      "text/plain": [
       "{'dimensions': {'length': 100, 'width': 50},\n",
       " 'center': {'x': 10, 'y': 5},\n",
       " 'colors': {'edge': {'rgb': (100, 100, 0), 'thickness': 50},\n",
       "  'interior': {'rgb': (0, 255, 255), 'alpha': 60}}}"
      ]
     },
     "execution_count": 35,
     "metadata": {},
     "output_type": "execute_result"
    }
   ],
   "source": [
    "rectangle"
   ]
  },
  {
   "cell_type": "markdown",
   "id": "e0e7bd6a-c784-4a3f-ac53-8c38874f261f",
   "metadata": {},
   "source": [
    "But what about using the other access notations?"
   ]
  },
  {
   "cell_type": "code",
   "execution_count": 36,
   "id": "de07916e-4c34-405e-a9a0-4839a1d73ed5",
   "metadata": {},
   "outputs": [],
   "source": [
    "rect = benedict(rectangle).clone()"
   ]
  },
  {
   "cell_type": "code",
   "execution_count": 37,
   "id": "8d38d6b6-1c84-491d-a1a8-e3bb092b90ef",
   "metadata": {},
   "outputs": [],
   "source": [
    "rect.colors.edge.alpha = 10"
   ]
  },
  {
   "cell_type": "code",
   "execution_count": 38,
   "id": "f0baa61a-78a5-44c5-b9f7-19bd9397536e",
   "metadata": {},
   "outputs": [
    {
     "data": {
      "text/plain": [
       "{'dimensions': {'length': 100, 'width': 50}, 'center': {'x': 10, 'y': 5}, 'colors': {'edge': {'rgb': (100, 100, 0), 'thickness': 50, 'alpha': 10}, 'interior': {'rgb': (0, 255, 255), 'alpha': 60}}}"
      ]
     },
     "execution_count": 38,
     "metadata": {},
     "output_type": "execute_result"
    }
   ],
   "source": [
    "rect"
   ]
  },
  {
   "cell_type": "markdown",
   "id": "7fb9f257-2039-4caa-9080-30b9f6ac0bb4",
   "metadata": {},
   "source": [
    "## Dictionary Methods"
   ]
  },
  {
   "cell_type": "markdown",
   "id": "2ead4df3-1e69-4e7c-882a-a7045c01937c",
   "metadata": {},
   "source": [
    "Now let's look at some of the really interesting aspects of this library."
   ]
  },
  {
   "cell_type": "markdown",
   "id": "aa6da48b-b8e0-428f-ac48-c9e225700684",
   "metadata": {},
   "source": [
    "Let's load some data of all the people in the Star Wars API:"
   ]
  },
  {
   "cell_type": "code",
   "execution_count": 39,
   "id": "dd897dd8-ec87-4901-a177-c901f0654c35",
   "metadata": {},
   "outputs": [
    {
     "data": {
      "text/plain": [
       "{'count': 82, 'next': 'https://swapi.dev/api/people/?page=2', 'previous': None, 'results': [{'name': 'Luke Skywalker', 'height': '172', 'mass': '77', 'hair_color': 'blond', 'skin_color': 'fair', 'eye_color': 'blue', 'birth_year': '19BBY', 'gender': 'male', 'homeworld': 'https://swapi.dev/api/planets/1/', 'films': ['https://swapi.dev/api/films/1/', 'https://swapi.dev/api/films/2/', 'https://swapi.dev/api/films/3/', 'https://swapi.dev/api/films/6/'], 'species': [], 'vehicles': ['https://swapi.dev/api/vehicles/14/', 'https://swapi.dev/api/vehicles/30/'], 'starships': ['https://swapi.dev/api/starships/12/', 'https://swapi.dev/api/starships/22/'], 'created': '2014-12-09T13:50:51.644000Z', 'edited': '2014-12-20T21:17:56.891000Z', 'url': 'https://swapi.dev/api/people/1/'}, {'name': 'C-3PO', 'height': '167', 'mass': '75', 'hair_color': 'n/a', 'skin_color': 'gold', 'eye_color': 'yellow', 'birth_year': '112BBY', 'gender': 'n/a', 'homeworld': 'https://swapi.dev/api/planets/1/', 'films': ['https://swapi.dev/api/films/1/', 'https://swapi.dev/api/films/2/', 'https://swapi.dev/api/films/3/', 'https://swapi.dev/api/films/4/', 'https://swapi.dev/api/films/5/', 'https://swapi.dev/api/films/6/'], 'species': ['https://swapi.dev/api/species/2/'], 'vehicles': [], 'starships': [], 'created': '2014-12-10T15:10:51.357000Z', 'edited': '2014-12-20T21:17:50.309000Z', 'url': 'https://swapi.dev/api/people/2/'}, {'name': 'R2-D2', 'height': '96', 'mass': '32', 'hair_color': 'n/a', 'skin_color': 'white, blue', 'eye_color': 'red', 'birth_year': '33BBY', 'gender': 'n/a', 'homeworld': 'https://swapi.dev/api/planets/8/', 'films': ['https://swapi.dev/api/films/1/', 'https://swapi.dev/api/films/2/', 'https://swapi.dev/api/films/3/', 'https://swapi.dev/api/films/4/', 'https://swapi.dev/api/films/5/', 'https://swapi.dev/api/films/6/'], 'species': ['https://swapi.dev/api/species/2/'], 'vehicles': [], 'starships': [], 'created': '2014-12-10T15:11:50.376000Z', 'edited': '2014-12-20T21:17:50.311000Z', 'url': 'https://swapi.dev/api/people/3/'}, {'name': 'Darth Vader', 'height': '202', 'mass': '136', 'hair_color': 'none', 'skin_color': 'white', 'eye_color': 'yellow', 'birth_year': '41.9BBY', 'gender': 'male', 'homeworld': 'https://swapi.dev/api/planets/1/', 'films': ['https://swapi.dev/api/films/1/', 'https://swapi.dev/api/films/2/', 'https://swapi.dev/api/films/3/', 'https://swapi.dev/api/films/6/'], 'species': [], 'vehicles': [], 'starships': ['https://swapi.dev/api/starships/13/'], 'created': '2014-12-10T15:18:20.704000Z', 'edited': '2014-12-20T21:17:50.313000Z', 'url': 'https://swapi.dev/api/people/4/'}, {'name': 'Leia Organa', 'height': '150', 'mass': '49', 'hair_color': 'brown', 'skin_color': 'light', 'eye_color': 'brown', 'birth_year': '19BBY', 'gender': 'female', 'homeworld': 'https://swapi.dev/api/planets/2/', 'films': ['https://swapi.dev/api/films/1/', 'https://swapi.dev/api/films/2/', 'https://swapi.dev/api/films/3/', 'https://swapi.dev/api/films/6/'], 'species': [], 'vehicles': ['https://swapi.dev/api/vehicles/30/'], 'starships': [], 'created': '2014-12-10T15:20:09.791000Z', 'edited': '2014-12-20T21:17:50.315000Z', 'url': 'https://swapi.dev/api/people/5/'}, {'name': 'Owen Lars', 'height': '178', 'mass': '120', 'hair_color': 'brown, grey', 'skin_color': 'light', 'eye_color': 'blue', 'birth_year': '52BBY', 'gender': 'male', 'homeworld': 'https://swapi.dev/api/planets/1/', 'films': ['https://swapi.dev/api/films/1/', 'https://swapi.dev/api/films/5/', 'https://swapi.dev/api/films/6/'], 'species': [], 'vehicles': [], 'starships': [], 'created': '2014-12-10T15:52:14.024000Z', 'edited': '2014-12-20T21:17:50.317000Z', 'url': 'https://swapi.dev/api/people/6/'}, {'name': 'Beru Whitesun lars', 'height': '165', 'mass': '75', 'hair_color': 'brown', 'skin_color': 'light', 'eye_color': 'blue', 'birth_year': '47BBY', 'gender': 'female', 'homeworld': 'https://swapi.dev/api/planets/1/', 'films': ['https://swapi.dev/api/films/1/', 'https://swapi.dev/api/films/5/', 'https://swapi.dev/api/films/6/'], 'species': [], 'vehicles': [], 'starships': [], 'created': '2014-12-10T15:53:41.121000Z', 'edited': '2014-12-20T21:17:50.319000Z', 'url': 'https://swapi.dev/api/people/7/'}, {'name': 'R5-D4', 'height': '97', 'mass': '32', 'hair_color': 'n/a', 'skin_color': 'white, red', 'eye_color': 'red', 'birth_year': 'unknown', 'gender': 'n/a', 'homeworld': 'https://swapi.dev/api/planets/1/', 'films': ['https://swapi.dev/api/films/1/'], 'species': ['https://swapi.dev/api/species/2/'], 'vehicles': [], 'starships': [], 'created': '2014-12-10T15:57:50.959000Z', 'edited': '2014-12-20T21:17:50.321000Z', 'url': 'https://swapi.dev/api/people/8/'}, {'name': 'Biggs Darklighter', 'height': '183', 'mass': '84', 'hair_color': 'black', 'skin_color': 'light', 'eye_color': 'brown', 'birth_year': '24BBY', 'gender': 'male', 'homeworld': 'https://swapi.dev/api/planets/1/', 'films': ['https://swapi.dev/api/films/1/'], 'species': [], 'vehicles': [], 'starships': ['https://swapi.dev/api/starships/12/'], 'created': '2014-12-10T15:59:50.509000Z', 'edited': '2014-12-20T21:17:50.323000Z', 'url': 'https://swapi.dev/api/people/9/'}, {'name': 'Obi-Wan Kenobi', 'height': '182', 'mass': '77', 'hair_color': 'auburn, white', 'skin_color': 'fair', 'eye_color': 'blue-gray', 'birth_year': '57BBY', 'gender': 'male', 'homeworld': 'https://swapi.dev/api/planets/20/', 'films': ['https://swapi.dev/api/films/1/', 'https://swapi.dev/api/films/2/', 'https://swapi.dev/api/films/3/', 'https://swapi.dev/api/films/4/', 'https://swapi.dev/api/films/5/', 'https://swapi.dev/api/films/6/'], 'species': [], 'vehicles': ['https://swapi.dev/api/vehicles/38/'], 'starships': ['https://swapi.dev/api/starships/48/', 'https://swapi.dev/api/starships/59/', 'https://swapi.dev/api/starships/64/', 'https://swapi.dev/api/starships/65/', 'https://swapi.dev/api/starships/74/'], 'created': '2014-12-10T16:16:29.192000Z', 'edited': '2014-12-20T21:17:50.325000Z', 'url': 'https://swapi.dev/api/people/10/'}]}"
      ]
     },
     "execution_count": 39,
     "metadata": {},
     "output_type": "execute_result"
    }
   ],
   "source": [
    "response = requests.get(\"https://swapi.dev/api/people\")\n",
    "response.raise_for_status()\n",
    "data = response.json()\n",
    "\n",
    "people = benedict(data)\n",
    "people"
   ]
  },
  {
   "cell_type": "markdown",
   "id": "4e5798ee-f3f6-4fbf-a25a-bc570a8f8a4b",
   "metadata": {},
   "source": [
    "### Traversals"
   ]
  },
  {
   "cell_type": "markdown",
   "id": "4b1f69bc-0d81-420a-aa46-6a233ad621b8",
   "metadata": {},
   "source": [
    "As you can see we have some nested dictionaries here.\n",
    "\n",
    "We can easily traverse each entry of the dictionary using the `traverse()` method. This method needs to be provided a **callable** that will receive three arguments: the (possibly nested) dictionary, and within that dictionary the key and the corresponding value."
   ]
  },
  {
   "cell_type": "code",
   "execution_count": 40,
   "id": "94d2d6cc-ac80-483a-91f7-557771f89d7e",
   "metadata": {},
   "outputs": [],
   "source": [
    "def process_item(d, key, val):\n",
    "    print(f\"{key} -> {val}\")"
   ]
  },
  {
   "cell_type": "code",
   "execution_count": 41,
   "id": "8875f889-adcd-4d86-8077-9d5fc7857ff8",
   "metadata": {},
   "outputs": [
    {
     "name": "stdout",
     "output_type": "stream",
     "text": [
      "count -> 82\n",
      "next -> https://swapi.dev/api/people/?page=2\n",
      "previous -> None\n",
      "results -> [{'name': 'Luke Skywalker', 'height': '172', 'mass': '77', 'hair_color': 'blond', 'skin_color': 'fair', 'eye_color': 'blue', 'birth_year': '19BBY', 'gender': 'male', 'homeworld': 'https://swapi.dev/api/planets/1/', 'films': ['https://swapi.dev/api/films/1/', 'https://swapi.dev/api/films/2/', 'https://swapi.dev/api/films/3/', 'https://swapi.dev/api/films/6/'], 'species': [], 'vehicles': ['https://swapi.dev/api/vehicles/14/', 'https://swapi.dev/api/vehicles/30/'], 'starships': ['https://swapi.dev/api/starships/12/', 'https://swapi.dev/api/starships/22/'], 'created': '2014-12-09T13:50:51.644000Z', 'edited': '2014-12-20T21:17:56.891000Z', 'url': 'https://swapi.dev/api/people/1/'}, {'name': 'C-3PO', 'height': '167', 'mass': '75', 'hair_color': 'n/a', 'skin_color': 'gold', 'eye_color': 'yellow', 'birth_year': '112BBY', 'gender': 'n/a', 'homeworld': 'https://swapi.dev/api/planets/1/', 'films': ['https://swapi.dev/api/films/1/', 'https://swapi.dev/api/films/2/', 'https://swapi.dev/api/films/3/', 'https://swapi.dev/api/films/4/', 'https://swapi.dev/api/films/5/', 'https://swapi.dev/api/films/6/'], 'species': ['https://swapi.dev/api/species/2/'], 'vehicles': [], 'starships': [], 'created': '2014-12-10T15:10:51.357000Z', 'edited': '2014-12-20T21:17:50.309000Z', 'url': 'https://swapi.dev/api/people/2/'}, {'name': 'R2-D2', 'height': '96', 'mass': '32', 'hair_color': 'n/a', 'skin_color': 'white, blue', 'eye_color': 'red', 'birth_year': '33BBY', 'gender': 'n/a', 'homeworld': 'https://swapi.dev/api/planets/8/', 'films': ['https://swapi.dev/api/films/1/', 'https://swapi.dev/api/films/2/', 'https://swapi.dev/api/films/3/', 'https://swapi.dev/api/films/4/', 'https://swapi.dev/api/films/5/', 'https://swapi.dev/api/films/6/'], 'species': ['https://swapi.dev/api/species/2/'], 'vehicles': [], 'starships': [], 'created': '2014-12-10T15:11:50.376000Z', 'edited': '2014-12-20T21:17:50.311000Z', 'url': 'https://swapi.dev/api/people/3/'}, {'name': 'Darth Vader', 'height': '202', 'mass': '136', 'hair_color': 'none', 'skin_color': 'white', 'eye_color': 'yellow', 'birth_year': '41.9BBY', 'gender': 'male', 'homeworld': 'https://swapi.dev/api/planets/1/', 'films': ['https://swapi.dev/api/films/1/', 'https://swapi.dev/api/films/2/', 'https://swapi.dev/api/films/3/', 'https://swapi.dev/api/films/6/'], 'species': [], 'vehicles': [], 'starships': ['https://swapi.dev/api/starships/13/'], 'created': '2014-12-10T15:18:20.704000Z', 'edited': '2014-12-20T21:17:50.313000Z', 'url': 'https://swapi.dev/api/people/4/'}, {'name': 'Leia Organa', 'height': '150', 'mass': '49', 'hair_color': 'brown', 'skin_color': 'light', 'eye_color': 'brown', 'birth_year': '19BBY', 'gender': 'female', 'homeworld': 'https://swapi.dev/api/planets/2/', 'films': ['https://swapi.dev/api/films/1/', 'https://swapi.dev/api/films/2/', 'https://swapi.dev/api/films/3/', 'https://swapi.dev/api/films/6/'], 'species': [], 'vehicles': ['https://swapi.dev/api/vehicles/30/'], 'starships': [], 'created': '2014-12-10T15:20:09.791000Z', 'edited': '2014-12-20T21:17:50.315000Z', 'url': 'https://swapi.dev/api/people/5/'}, {'name': 'Owen Lars', 'height': '178', 'mass': '120', 'hair_color': 'brown, grey', 'skin_color': 'light', 'eye_color': 'blue', 'birth_year': '52BBY', 'gender': 'male', 'homeworld': 'https://swapi.dev/api/planets/1/', 'films': ['https://swapi.dev/api/films/1/', 'https://swapi.dev/api/films/5/', 'https://swapi.dev/api/films/6/'], 'species': [], 'vehicles': [], 'starships': [], 'created': '2014-12-10T15:52:14.024000Z', 'edited': '2014-12-20T21:17:50.317000Z', 'url': 'https://swapi.dev/api/people/6/'}, {'name': 'Beru Whitesun lars', 'height': '165', 'mass': '75', 'hair_color': 'brown', 'skin_color': 'light', 'eye_color': 'blue', 'birth_year': '47BBY', 'gender': 'female', 'homeworld': 'https://swapi.dev/api/planets/1/', 'films': ['https://swapi.dev/api/films/1/', 'https://swapi.dev/api/films/5/', 'https://swapi.dev/api/films/6/'], 'species': [], 'vehicles': [], 'starships': [], 'created': '2014-12-10T15:53:41.121000Z', 'edited': '2014-12-20T21:17:50.319000Z', 'url': 'https://swapi.dev/api/people/7/'}, {'name': 'R5-D4', 'height': '97', 'mass': '32', 'hair_color': 'n/a', 'skin_color': 'white, red', 'eye_color': 'red', 'birth_year': 'unknown', 'gender': 'n/a', 'homeworld': 'https://swapi.dev/api/planets/1/', 'films': ['https://swapi.dev/api/films/1/'], 'species': ['https://swapi.dev/api/species/2/'], 'vehicles': [], 'starships': [], 'created': '2014-12-10T15:57:50.959000Z', 'edited': '2014-12-20T21:17:50.321000Z', 'url': 'https://swapi.dev/api/people/8/'}, {'name': 'Biggs Darklighter', 'height': '183', 'mass': '84', 'hair_color': 'black', 'skin_color': 'light', 'eye_color': 'brown', 'birth_year': '24BBY', 'gender': 'male', 'homeworld': 'https://swapi.dev/api/planets/1/', 'films': ['https://swapi.dev/api/films/1/'], 'species': [], 'vehicles': [], 'starships': ['https://swapi.dev/api/starships/12/'], 'created': '2014-12-10T15:59:50.509000Z', 'edited': '2014-12-20T21:17:50.323000Z', 'url': 'https://swapi.dev/api/people/9/'}, {'name': 'Obi-Wan Kenobi', 'height': '182', 'mass': '77', 'hair_color': 'auburn, white', 'skin_color': 'fair', 'eye_color': 'blue-gray', 'birth_year': '57BBY', 'gender': 'male', 'homeworld': 'https://swapi.dev/api/planets/20/', 'films': ['https://swapi.dev/api/films/1/', 'https://swapi.dev/api/films/2/', 'https://swapi.dev/api/films/3/', 'https://swapi.dev/api/films/4/', 'https://swapi.dev/api/films/5/', 'https://swapi.dev/api/films/6/'], 'species': [], 'vehicles': ['https://swapi.dev/api/vehicles/38/'], 'starships': ['https://swapi.dev/api/starships/48/', 'https://swapi.dev/api/starships/59/', 'https://swapi.dev/api/starships/64/', 'https://swapi.dev/api/starships/65/', 'https://swapi.dev/api/starships/74/'], 'created': '2014-12-10T16:16:29.192000Z', 'edited': '2014-12-20T21:17:50.325000Z', 'url': 'https://swapi.dev/api/people/10/'}]\n",
      "0 -> {'name': 'Luke Skywalker', 'height': '172', 'mass': '77', 'hair_color': 'blond', 'skin_color': 'fair', 'eye_color': 'blue', 'birth_year': '19BBY', 'gender': 'male', 'homeworld': 'https://swapi.dev/api/planets/1/', 'films': ['https://swapi.dev/api/films/1/', 'https://swapi.dev/api/films/2/', 'https://swapi.dev/api/films/3/', 'https://swapi.dev/api/films/6/'], 'species': [], 'vehicles': ['https://swapi.dev/api/vehicles/14/', 'https://swapi.dev/api/vehicles/30/'], 'starships': ['https://swapi.dev/api/starships/12/', 'https://swapi.dev/api/starships/22/'], 'created': '2014-12-09T13:50:51.644000Z', 'edited': '2014-12-20T21:17:56.891000Z', 'url': 'https://swapi.dev/api/people/1/'}\n",
      "name -> Luke Skywalker\n",
      "height -> 172\n",
      "mass -> 77\n",
      "hair_color -> blond\n",
      "skin_color -> fair\n",
      "eye_color -> blue\n",
      "birth_year -> 19BBY\n",
      "gender -> male\n",
      "homeworld -> https://swapi.dev/api/planets/1/\n",
      "films -> ['https://swapi.dev/api/films/1/', 'https://swapi.dev/api/films/2/', 'https://swapi.dev/api/films/3/', 'https://swapi.dev/api/films/6/']\n",
      "0 -> https://swapi.dev/api/films/1/\n",
      "1 -> https://swapi.dev/api/films/2/\n",
      "2 -> https://swapi.dev/api/films/3/\n",
      "3 -> https://swapi.dev/api/films/6/\n",
      "species -> []\n",
      "vehicles -> ['https://swapi.dev/api/vehicles/14/', 'https://swapi.dev/api/vehicles/30/']\n",
      "0 -> https://swapi.dev/api/vehicles/14/\n",
      "1 -> https://swapi.dev/api/vehicles/30/\n",
      "starships -> ['https://swapi.dev/api/starships/12/', 'https://swapi.dev/api/starships/22/']\n",
      "0 -> https://swapi.dev/api/starships/12/\n",
      "1 -> https://swapi.dev/api/starships/22/\n",
      "created -> 2014-12-09T13:50:51.644000Z\n",
      "edited -> 2014-12-20T21:17:56.891000Z\n",
      "url -> https://swapi.dev/api/people/1/\n",
      "1 -> {'name': 'C-3PO', 'height': '167', 'mass': '75', 'hair_color': 'n/a', 'skin_color': 'gold', 'eye_color': 'yellow', 'birth_year': '112BBY', 'gender': 'n/a', 'homeworld': 'https://swapi.dev/api/planets/1/', 'films': ['https://swapi.dev/api/films/1/', 'https://swapi.dev/api/films/2/', 'https://swapi.dev/api/films/3/', 'https://swapi.dev/api/films/4/', 'https://swapi.dev/api/films/5/', 'https://swapi.dev/api/films/6/'], 'species': ['https://swapi.dev/api/species/2/'], 'vehicles': [], 'starships': [], 'created': '2014-12-10T15:10:51.357000Z', 'edited': '2014-12-20T21:17:50.309000Z', 'url': 'https://swapi.dev/api/people/2/'}\n",
      "name -> C-3PO\n",
      "height -> 167\n",
      "mass -> 75\n",
      "hair_color -> n/a\n",
      "skin_color -> gold\n",
      "eye_color -> yellow\n",
      "birth_year -> 112BBY\n",
      "gender -> n/a\n",
      "homeworld -> https://swapi.dev/api/planets/1/\n",
      "films -> ['https://swapi.dev/api/films/1/', 'https://swapi.dev/api/films/2/', 'https://swapi.dev/api/films/3/', 'https://swapi.dev/api/films/4/', 'https://swapi.dev/api/films/5/', 'https://swapi.dev/api/films/6/']\n",
      "0 -> https://swapi.dev/api/films/1/\n",
      "1 -> https://swapi.dev/api/films/2/\n",
      "2 -> https://swapi.dev/api/films/3/\n",
      "3 -> https://swapi.dev/api/films/4/\n",
      "4 -> https://swapi.dev/api/films/5/\n",
      "5 -> https://swapi.dev/api/films/6/\n",
      "species -> ['https://swapi.dev/api/species/2/']\n",
      "0 -> https://swapi.dev/api/species/2/\n",
      "vehicles -> []\n",
      "starships -> []\n",
      "created -> 2014-12-10T15:10:51.357000Z\n",
      "edited -> 2014-12-20T21:17:50.309000Z\n",
      "url -> https://swapi.dev/api/people/2/\n",
      "2 -> {'name': 'R2-D2', 'height': '96', 'mass': '32', 'hair_color': 'n/a', 'skin_color': 'white, blue', 'eye_color': 'red', 'birth_year': '33BBY', 'gender': 'n/a', 'homeworld': 'https://swapi.dev/api/planets/8/', 'films': ['https://swapi.dev/api/films/1/', 'https://swapi.dev/api/films/2/', 'https://swapi.dev/api/films/3/', 'https://swapi.dev/api/films/4/', 'https://swapi.dev/api/films/5/', 'https://swapi.dev/api/films/6/'], 'species': ['https://swapi.dev/api/species/2/'], 'vehicles': [], 'starships': [], 'created': '2014-12-10T15:11:50.376000Z', 'edited': '2014-12-20T21:17:50.311000Z', 'url': 'https://swapi.dev/api/people/3/'}\n",
      "name -> R2-D2\n",
      "height -> 96\n",
      "mass -> 32\n",
      "hair_color -> n/a\n",
      "skin_color -> white, blue\n",
      "eye_color -> red\n",
      "birth_year -> 33BBY\n",
      "gender -> n/a\n",
      "homeworld -> https://swapi.dev/api/planets/8/\n",
      "films -> ['https://swapi.dev/api/films/1/', 'https://swapi.dev/api/films/2/', 'https://swapi.dev/api/films/3/', 'https://swapi.dev/api/films/4/', 'https://swapi.dev/api/films/5/', 'https://swapi.dev/api/films/6/']\n",
      "0 -> https://swapi.dev/api/films/1/\n",
      "1 -> https://swapi.dev/api/films/2/\n",
      "2 -> https://swapi.dev/api/films/3/\n",
      "3 -> https://swapi.dev/api/films/4/\n",
      "4 -> https://swapi.dev/api/films/5/\n",
      "5 -> https://swapi.dev/api/films/6/\n",
      "species -> ['https://swapi.dev/api/species/2/']\n",
      "0 -> https://swapi.dev/api/species/2/\n",
      "vehicles -> []\n",
      "starships -> []\n",
      "created -> 2014-12-10T15:11:50.376000Z\n",
      "edited -> 2014-12-20T21:17:50.311000Z\n",
      "url -> https://swapi.dev/api/people/3/\n",
      "3 -> {'name': 'Darth Vader', 'height': '202', 'mass': '136', 'hair_color': 'none', 'skin_color': 'white', 'eye_color': 'yellow', 'birth_year': '41.9BBY', 'gender': 'male', 'homeworld': 'https://swapi.dev/api/planets/1/', 'films': ['https://swapi.dev/api/films/1/', 'https://swapi.dev/api/films/2/', 'https://swapi.dev/api/films/3/', 'https://swapi.dev/api/films/6/'], 'species': [], 'vehicles': [], 'starships': ['https://swapi.dev/api/starships/13/'], 'created': '2014-12-10T15:18:20.704000Z', 'edited': '2014-12-20T21:17:50.313000Z', 'url': 'https://swapi.dev/api/people/4/'}\n",
      "name -> Darth Vader\n",
      "height -> 202\n",
      "mass -> 136\n",
      "hair_color -> none\n",
      "skin_color -> white\n",
      "eye_color -> yellow\n",
      "birth_year -> 41.9BBY\n",
      "gender -> male\n",
      "homeworld -> https://swapi.dev/api/planets/1/\n",
      "films -> ['https://swapi.dev/api/films/1/', 'https://swapi.dev/api/films/2/', 'https://swapi.dev/api/films/3/', 'https://swapi.dev/api/films/6/']\n",
      "0 -> https://swapi.dev/api/films/1/\n",
      "1 -> https://swapi.dev/api/films/2/\n",
      "2 -> https://swapi.dev/api/films/3/\n",
      "3 -> https://swapi.dev/api/films/6/\n",
      "species -> []\n",
      "vehicles -> []\n",
      "starships -> ['https://swapi.dev/api/starships/13/']\n",
      "0 -> https://swapi.dev/api/starships/13/\n",
      "created -> 2014-12-10T15:18:20.704000Z\n",
      "edited -> 2014-12-20T21:17:50.313000Z\n",
      "url -> https://swapi.dev/api/people/4/\n",
      "4 -> {'name': 'Leia Organa', 'height': '150', 'mass': '49', 'hair_color': 'brown', 'skin_color': 'light', 'eye_color': 'brown', 'birth_year': '19BBY', 'gender': 'female', 'homeworld': 'https://swapi.dev/api/planets/2/', 'films': ['https://swapi.dev/api/films/1/', 'https://swapi.dev/api/films/2/', 'https://swapi.dev/api/films/3/', 'https://swapi.dev/api/films/6/'], 'species': [], 'vehicles': ['https://swapi.dev/api/vehicles/30/'], 'starships': [], 'created': '2014-12-10T15:20:09.791000Z', 'edited': '2014-12-20T21:17:50.315000Z', 'url': 'https://swapi.dev/api/people/5/'}\n",
      "name -> Leia Organa\n",
      "height -> 150\n",
      "mass -> 49\n",
      "hair_color -> brown\n",
      "skin_color -> light\n",
      "eye_color -> brown\n",
      "birth_year -> 19BBY\n",
      "gender -> female\n",
      "homeworld -> https://swapi.dev/api/planets/2/\n",
      "films -> ['https://swapi.dev/api/films/1/', 'https://swapi.dev/api/films/2/', 'https://swapi.dev/api/films/3/', 'https://swapi.dev/api/films/6/']\n",
      "0 -> https://swapi.dev/api/films/1/\n",
      "1 -> https://swapi.dev/api/films/2/\n",
      "2 -> https://swapi.dev/api/films/3/\n",
      "3 -> https://swapi.dev/api/films/6/\n",
      "species -> []\n",
      "vehicles -> ['https://swapi.dev/api/vehicles/30/']\n",
      "0 -> https://swapi.dev/api/vehicles/30/\n",
      "starships -> []\n",
      "created -> 2014-12-10T15:20:09.791000Z\n",
      "edited -> 2014-12-20T21:17:50.315000Z\n",
      "url -> https://swapi.dev/api/people/5/\n",
      "5 -> {'name': 'Owen Lars', 'height': '178', 'mass': '120', 'hair_color': 'brown, grey', 'skin_color': 'light', 'eye_color': 'blue', 'birth_year': '52BBY', 'gender': 'male', 'homeworld': 'https://swapi.dev/api/planets/1/', 'films': ['https://swapi.dev/api/films/1/', 'https://swapi.dev/api/films/5/', 'https://swapi.dev/api/films/6/'], 'species': [], 'vehicles': [], 'starships': [], 'created': '2014-12-10T15:52:14.024000Z', 'edited': '2014-12-20T21:17:50.317000Z', 'url': 'https://swapi.dev/api/people/6/'}\n",
      "name -> Owen Lars\n",
      "height -> 178\n",
      "mass -> 120\n",
      "hair_color -> brown, grey\n",
      "skin_color -> light\n",
      "eye_color -> blue\n",
      "birth_year -> 52BBY\n",
      "gender -> male\n",
      "homeworld -> https://swapi.dev/api/planets/1/\n",
      "films -> ['https://swapi.dev/api/films/1/', 'https://swapi.dev/api/films/5/', 'https://swapi.dev/api/films/6/']\n",
      "0 -> https://swapi.dev/api/films/1/\n",
      "1 -> https://swapi.dev/api/films/5/\n",
      "2 -> https://swapi.dev/api/films/6/\n",
      "species -> []\n",
      "vehicles -> []\n",
      "starships -> []\n",
      "created -> 2014-12-10T15:52:14.024000Z\n",
      "edited -> 2014-12-20T21:17:50.317000Z\n",
      "url -> https://swapi.dev/api/people/6/\n",
      "6 -> {'name': 'Beru Whitesun lars', 'height': '165', 'mass': '75', 'hair_color': 'brown', 'skin_color': 'light', 'eye_color': 'blue', 'birth_year': '47BBY', 'gender': 'female', 'homeworld': 'https://swapi.dev/api/planets/1/', 'films': ['https://swapi.dev/api/films/1/', 'https://swapi.dev/api/films/5/', 'https://swapi.dev/api/films/6/'], 'species': [], 'vehicles': [], 'starships': [], 'created': '2014-12-10T15:53:41.121000Z', 'edited': '2014-12-20T21:17:50.319000Z', 'url': 'https://swapi.dev/api/people/7/'}\n",
      "name -> Beru Whitesun lars\n",
      "height -> 165\n",
      "mass -> 75\n",
      "hair_color -> brown\n",
      "skin_color -> light\n",
      "eye_color -> blue\n",
      "birth_year -> 47BBY\n",
      "gender -> female\n",
      "homeworld -> https://swapi.dev/api/planets/1/\n",
      "films -> ['https://swapi.dev/api/films/1/', 'https://swapi.dev/api/films/5/', 'https://swapi.dev/api/films/6/']\n",
      "0 -> https://swapi.dev/api/films/1/\n",
      "1 -> https://swapi.dev/api/films/5/\n",
      "2 -> https://swapi.dev/api/films/6/\n",
      "species -> []\n",
      "vehicles -> []\n",
      "starships -> []\n",
      "created -> 2014-12-10T15:53:41.121000Z\n",
      "edited -> 2014-12-20T21:17:50.319000Z\n",
      "url -> https://swapi.dev/api/people/7/\n",
      "7 -> {'name': 'R5-D4', 'height': '97', 'mass': '32', 'hair_color': 'n/a', 'skin_color': 'white, red', 'eye_color': 'red', 'birth_year': 'unknown', 'gender': 'n/a', 'homeworld': 'https://swapi.dev/api/planets/1/', 'films': ['https://swapi.dev/api/films/1/'], 'species': ['https://swapi.dev/api/species/2/'], 'vehicles': [], 'starships': [], 'created': '2014-12-10T15:57:50.959000Z', 'edited': '2014-12-20T21:17:50.321000Z', 'url': 'https://swapi.dev/api/people/8/'}\n",
      "name -> R5-D4\n",
      "height -> 97\n",
      "mass -> 32\n",
      "hair_color -> n/a\n",
      "skin_color -> white, red\n",
      "eye_color -> red\n",
      "birth_year -> unknown\n",
      "gender -> n/a\n",
      "homeworld -> https://swapi.dev/api/planets/1/\n",
      "films -> ['https://swapi.dev/api/films/1/']\n",
      "0 -> https://swapi.dev/api/films/1/\n",
      "species -> ['https://swapi.dev/api/species/2/']\n",
      "0 -> https://swapi.dev/api/species/2/\n",
      "vehicles -> []\n",
      "starships -> []\n",
      "created -> 2014-12-10T15:57:50.959000Z\n",
      "edited -> 2014-12-20T21:17:50.321000Z\n",
      "url -> https://swapi.dev/api/people/8/\n",
      "8 -> {'name': 'Biggs Darklighter', 'height': '183', 'mass': '84', 'hair_color': 'black', 'skin_color': 'light', 'eye_color': 'brown', 'birth_year': '24BBY', 'gender': 'male', 'homeworld': 'https://swapi.dev/api/planets/1/', 'films': ['https://swapi.dev/api/films/1/'], 'species': [], 'vehicles': [], 'starships': ['https://swapi.dev/api/starships/12/'], 'created': '2014-12-10T15:59:50.509000Z', 'edited': '2014-12-20T21:17:50.323000Z', 'url': 'https://swapi.dev/api/people/9/'}\n",
      "name -> Biggs Darklighter\n",
      "height -> 183\n",
      "mass -> 84\n",
      "hair_color -> black\n",
      "skin_color -> light\n",
      "eye_color -> brown\n",
      "birth_year -> 24BBY\n",
      "gender -> male\n",
      "homeworld -> https://swapi.dev/api/planets/1/\n",
      "films -> ['https://swapi.dev/api/films/1/']\n",
      "0 -> https://swapi.dev/api/films/1/\n",
      "species -> []\n",
      "vehicles -> []\n",
      "starships -> ['https://swapi.dev/api/starships/12/']\n",
      "0 -> https://swapi.dev/api/starships/12/\n",
      "created -> 2014-12-10T15:59:50.509000Z\n",
      "edited -> 2014-12-20T21:17:50.323000Z\n",
      "url -> https://swapi.dev/api/people/9/\n",
      "9 -> {'name': 'Obi-Wan Kenobi', 'height': '182', 'mass': '77', 'hair_color': 'auburn, white', 'skin_color': 'fair', 'eye_color': 'blue-gray', 'birth_year': '57BBY', 'gender': 'male', 'homeworld': 'https://swapi.dev/api/planets/20/', 'films': ['https://swapi.dev/api/films/1/', 'https://swapi.dev/api/films/2/', 'https://swapi.dev/api/films/3/', 'https://swapi.dev/api/films/4/', 'https://swapi.dev/api/films/5/', 'https://swapi.dev/api/films/6/'], 'species': [], 'vehicles': ['https://swapi.dev/api/vehicles/38/'], 'starships': ['https://swapi.dev/api/starships/48/', 'https://swapi.dev/api/starships/59/', 'https://swapi.dev/api/starships/64/', 'https://swapi.dev/api/starships/65/', 'https://swapi.dev/api/starships/74/'], 'created': '2014-12-10T16:16:29.192000Z', 'edited': '2014-12-20T21:17:50.325000Z', 'url': 'https://swapi.dev/api/people/10/'}\n",
      "name -> Obi-Wan Kenobi\n",
      "height -> 182\n",
      "mass -> 77\n",
      "hair_color -> auburn, white\n",
      "skin_color -> fair\n",
      "eye_color -> blue-gray\n",
      "birth_year -> 57BBY\n",
      "gender -> male\n",
      "homeworld -> https://swapi.dev/api/planets/20/\n",
      "films -> ['https://swapi.dev/api/films/1/', 'https://swapi.dev/api/films/2/', 'https://swapi.dev/api/films/3/', 'https://swapi.dev/api/films/4/', 'https://swapi.dev/api/films/5/', 'https://swapi.dev/api/films/6/']\n",
      "0 -> https://swapi.dev/api/films/1/\n",
      "1 -> https://swapi.dev/api/films/2/\n",
      "2 -> https://swapi.dev/api/films/3/\n",
      "3 -> https://swapi.dev/api/films/4/\n",
      "4 -> https://swapi.dev/api/films/5/\n",
      "5 -> https://swapi.dev/api/films/6/\n",
      "species -> []\n",
      "vehicles -> ['https://swapi.dev/api/vehicles/38/']\n",
      "0 -> https://swapi.dev/api/vehicles/38/\n",
      "starships -> ['https://swapi.dev/api/starships/48/', 'https://swapi.dev/api/starships/59/', 'https://swapi.dev/api/starships/64/', 'https://swapi.dev/api/starships/65/', 'https://swapi.dev/api/starships/74/']\n",
      "0 -> https://swapi.dev/api/starships/48/\n",
      "1 -> https://swapi.dev/api/starships/59/\n",
      "2 -> https://swapi.dev/api/starships/64/\n",
      "3 -> https://swapi.dev/api/starships/65/\n",
      "4 -> https://swapi.dev/api/starships/74/\n",
      "created -> 2014-12-10T16:16:29.192000Z\n",
      "edited -> 2014-12-20T21:17:50.325000Z\n",
      "url -> https://swapi.dev/api/people/10/\n"
     ]
    }
   ],
   "source": [
    "people.traverse(process_item)"
   ]
  },
  {
   "cell_type": "markdown",
   "id": "9d6e09fe-31c0-42d7-b89b-2f3266c0dfbe",
   "metadata": {},
   "source": [
    "### Filtering"
   ]
  },
  {
   "cell_type": "markdown",
   "id": "627b5036-730e-43df-ae09-e15d45d3acaa",
   "metadata": {},
   "source": [
    "We can also easily filter the dictionary, all we need is to pass the `filter()` method a **predicate** function (a function that returns `True` to include the item, `False` otherwise, that receives the key and value as arguments. Basically this means we can look for specific key and/or value combinations in the dictionary."
   ]
  },
  {
   "cell_type": "markdown",
   "id": "93b04e77-a893-4441-8e51-6425047ea15a",
   "metadata": {},
   "source": [
    "Let's say we just want to see the names of the people in our data set:"
   ]
  },
  {
   "cell_type": "code",
   "execution_count": 42,
   "id": "2265ebfc-a561-40a8-9f29-3699c9c61a63",
   "metadata": {},
   "outputs": [],
   "source": [
    "data = people.results"
   ]
  },
  {
   "cell_type": "code",
   "execution_count": 43,
   "id": "3d8e7ae9-edbe-42f7-bec7-5c6ef2975263",
   "metadata": {},
   "outputs": [
    {
     "data": {
      "text/plain": [
       "{'name': 'Luke Skywalker', 'height': '172', 'mass': '77', 'hair_color': 'blond', 'skin_color': 'fair', 'eye_color': 'blue', 'birth_year': '19BBY', 'gender': 'male', 'homeworld': 'https://swapi.dev/api/planets/1/', 'films': ['https://swapi.dev/api/films/1/', 'https://swapi.dev/api/films/2/', 'https://swapi.dev/api/films/3/', 'https://swapi.dev/api/films/6/'], 'species': [], 'vehicles': ['https://swapi.dev/api/vehicles/14/', 'https://swapi.dev/api/vehicles/30/'], 'starships': ['https://swapi.dev/api/starships/12/', 'https://swapi.dev/api/starships/22/'], 'created': '2014-12-09T13:50:51.644000Z', 'edited': '2014-12-20T21:17:56.891000Z', 'url': 'https://swapi.dev/api/people/1/'}"
      ]
     },
     "execution_count": 43,
     "metadata": {},
     "output_type": "execute_result"
    }
   ],
   "source": [
    "data[0]"
   ]
  },
  {
   "cell_type": "code",
   "execution_count": 44,
   "id": "f904ae24-c7f5-4134-a092-af4d1ea47666",
   "metadata": {},
   "outputs": [
    {
     "data": {
      "text/plain": [
       "[{'name': 'Luke Skywalker'},\n",
       " {'name': 'C-3PO'},\n",
       " {'name': 'R2-D2'},\n",
       " {'name': 'Darth Vader'},\n",
       " {'name': 'Leia Organa'},\n",
       " {'name': 'Owen Lars'},\n",
       " {'name': 'Beru Whitesun lars'},\n",
       " {'name': 'R5-D4'},\n",
       " {'name': 'Biggs Darklighter'},\n",
       " {'name': 'Obi-Wan Kenobi'}]"
      ]
     },
     "execution_count": 44,
     "metadata": {},
     "output_type": "execute_result"
    }
   ],
   "source": [
    "[d.filter(lambda k, v: k == \"name\") for d in data]"
   ]
  },
  {
   "cell_type": "markdown",
   "id": "b0092a5e-9b06-45fb-a2e2-d7b1f34b2648",
   "metadata": {},
   "source": [
    "Do note that this filter method is not recursive, i.e. the keys and values received apply only to the top level of the object being filtered."
   ]
  },
  {
   "cell_type": "markdown",
   "id": "0eca49bf-043d-4a6d-81a8-fe7f7d9567ce",
   "metadata": {},
   "source": [
    "## Matching"
   ]
  },
  {
   "cell_type": "markdown",
   "id": "43353482-f4e8-476f-90a0-c8fb71a1ff8f",
   "metadata": {},
   "source": [
    "For a nested approach, to find something of interest, we can use the `match()` method with a wildcard (`*`) to indicate we want any path:"
   ]
  },
  {
   "cell_type": "code",
   "execution_count": 45,
   "id": "9962df32-2ab1-4e40-84a2-030bfc22e8ce",
   "metadata": {},
   "outputs": [
    {
     "data": {
      "text/plain": [
       "['Luke Skywalker',\n",
       " 'C-3PO',\n",
       " 'R2-D2',\n",
       " 'Darth Vader',\n",
       " 'Leia Organa',\n",
       " 'Owen Lars',\n",
       " 'Beru Whitesun lars',\n",
       " 'R5-D4',\n",
       " 'Biggs Darklighter',\n",
       " 'Obi-Wan Kenobi']"
      ]
     },
     "execution_count": 45,
     "metadata": {},
     "output_type": "execute_result"
    }
   ],
   "source": [
    "people.match(\"*.name\")"
   ]
  },
  {
   "cell_type": "markdown",
   "id": "42364ee3-c4ef-40d2-91ca-add867fabdc8",
   "metadata": {},
   "source": [
    "You can even use the wildcard for list indexes - here we are going to match against every element of the `results` key:"
   ]
  },
  {
   "cell_type": "code",
   "execution_count": 46,
   "id": "e468222e-6fe8-4ef8-8a52-d13a62189091",
   "metadata": {},
   "outputs": [
    {
     "data": {
      "text/plain": [
       "['Luke Skywalker',\n",
       " 'C-3PO',\n",
       " 'R2-D2',\n",
       " 'Darth Vader',\n",
       " 'Leia Organa',\n",
       " 'Owen Lars',\n",
       " 'Beru Whitesun lars',\n",
       " 'R5-D4',\n",
       " 'Biggs Darklighter',\n",
       " 'Obi-Wan Kenobi']"
      ]
     },
     "execution_count": 46,
     "metadata": {},
     "output_type": "execute_result"
    }
   ],
   "source": [
    "people.match(\"results[*].name\")"
   ]
  },
  {
   "cell_type": "markdown",
   "id": "f9ecb135-51f7-4f41-83c2-cfc03d92f64b",
   "metadata": {},
   "source": [
    "## Flattening Dictionaries"
   ]
  },
  {
   "cell_type": "markdown",
   "id": "bd635c99-2126-4faa-9408-2743b51ae969",
   "metadata": {},
   "source": [
    "Something that is sometimes of interest, is flattening the dictionary. We can use the `flatten()` method to do this:"
   ]
  },
  {
   "cell_type": "code",
   "execution_count": 47,
   "id": "425c2a0c-45c1-4263-bfcf-b1b6082875b2",
   "metadata": {},
   "outputs": [
    {
     "data": {
      "text/plain": [
       "{'dimensions': {'length': 100, 'width': 50}, 'center': {'x': 10, 'y': 5}, 'colors': {'edge': {'rgb': (100, 100, 0), 'thickness': 50, 'alpha': 10}, 'interior': {'rgb': (0, 255, 255), 'alpha': 60}}}"
      ]
     },
     "execution_count": 47,
     "metadata": {},
     "output_type": "execute_result"
    }
   ],
   "source": [
    " rect"
   ]
  },
  {
   "cell_type": "code",
   "execution_count": 48,
   "id": "cc432b3c-f029-4164-a35f-c938a52b09d5",
   "metadata": {},
   "outputs": [
    {
     "data": {
      "text/plain": [
       "{'dimensions_length': 100, 'dimensions_width': 50, 'center_x': 10, 'center_y': 5, 'colors_edge_rgb': (100, 100, 0), 'colors_edge_thickness': 50, 'colors_edge_alpha': 10, 'colors_interior_rgb': (0, 255, 255), 'colors_interior_alpha': 60}"
      ]
     },
     "execution_count": 48,
     "metadata": {},
     "output_type": "execute_result"
    }
   ],
   "source": [
    "rect.flatten()"
   ]
  },
  {
   "cell_type": "markdown",
   "id": "f4c48269-de14-49ed-93c9-836e6ec83412",
   "metadata": {},
   "source": [
    "We can make this a bit more readable by using the `dump()` method:"
   ]
  },
  {
   "cell_type": "code",
   "execution_count": 49,
   "id": "bdebba99-9f72-4f9f-9bf9-0db5b5d56a86",
   "metadata": {},
   "outputs": [
    {
     "name": "stdout",
     "output_type": "stream",
     "text": [
      "{\n",
      "    \"center:x\": 10,\n",
      "    \"center:y\": 5,\n",
      "    \"colors:edge:alpha\": 10,\n",
      "    \"colors:edge:rgb\": [\n",
      "        100,\n",
      "        100,\n",
      "        0\n",
      "    ],\n",
      "    \"colors:edge:thickness\": 50,\n",
      "    \"colors:interior:alpha\": 60,\n",
      "    \"colors:interior:rgb\": [\n",
      "        0,\n",
      "        255,\n",
      "        255\n",
      "    ],\n",
      "    \"dimensions:length\": 100,\n",
      "    \"dimensions:width\": 50\n",
      "}\n"
     ]
    }
   ],
   "source": [
    "print(rect.flatten(separator=\":\").dump())"
   ]
  },
  {
   "cell_type": "markdown",
   "id": "3eadd79a-d036-45be-8904-64481d07cdcd",
   "metadata": {},
   "source": [
    "## Key paths"
   ]
  },
  {
   "cell_type": "markdown",
   "id": "4eac7555-8c2e-4cce-a9fb-0e61e66b646b",
   "metadata": {},
   "source": [
    "We can also get a list of all the key paths in our dictionary (so, without the values):"
   ]
  },
  {
   "cell_type": "code",
   "execution_count": 50,
   "id": "1eee539b-02fc-4479-ac0f-1d0bcbf9b55f",
   "metadata": {},
   "outputs": [
    {
     "data": {
      "text/plain": [
       "['center',\n",
       " 'center.x',\n",
       " 'center.y',\n",
       " 'colors',\n",
       " 'colors.edge',\n",
       " 'colors.edge.alpha',\n",
       " 'colors.edge.rgb',\n",
       " 'colors.edge.thickness',\n",
       " 'colors.interior',\n",
       " 'colors.interior.alpha',\n",
       " 'colors.interior.rgb',\n",
       " 'dimensions',\n",
       " 'dimensions.length',\n",
       " 'dimensions.width']"
      ]
     },
     "execution_count": 50,
     "metadata": {},
     "output_type": "execute_result"
    }
   ],
   "source": [
    "rect.keypaths()"
   ]
  },
  {
   "cell_type": "markdown",
   "id": "ded413b3-f898-469f-9cb2-9ca536b97789",
   "metadata": {},
   "source": [
    "We can even have it report back on any indexes from iterables:"
   ]
  },
  {
   "cell_type": "code",
   "execution_count": 51,
   "id": "86ecf43e-8212-450a-ac47-e3f732484193",
   "metadata": {},
   "outputs": [
    {
     "data": {
      "text/plain": [
       "['birth_year',\n",
       " 'created',\n",
       " 'edited',\n",
       " 'eye_color',\n",
       " 'films',\n",
       " 'films[0]',\n",
       " 'films[1]',\n",
       " 'films[2]',\n",
       " 'films[3]',\n",
       " 'gender',\n",
       " 'hair_color',\n",
       " 'height',\n",
       " 'homeworld',\n",
       " 'mass',\n",
       " 'name',\n",
       " 'skin_color',\n",
       " 'species',\n",
       " 'starships',\n",
       " 'starships[0]',\n",
       " 'starships[1]',\n",
       " 'url',\n",
       " 'vehicles',\n",
       " 'vehicles[0]',\n",
       " 'vehicles[1]']"
      ]
     },
     "execution_count": 51,
     "metadata": {},
     "output_type": "execute_result"
    }
   ],
   "source": [
    "people.results[0].keypaths(indexes=True)"
   ]
  },
  {
   "cell_type": "markdown",
   "id": "b2f945a5-5d60-406b-9d92-cc40907f25e2",
   "metadata": {},
   "source": [
    "## Conclusion\n",
    "\n",
    "As you can see this library has some really interesting functionality, along with quite a bit more I have not covered here. So, give it a try, read the docs, and see if there's something you might find useful in your projects.\n",
    "\n",
    "Happy Pythoning!"
   ]
  },
  {
   "cell_type": "code",
   "execution_count": null,
   "id": "d6b8b2be-ea2c-48e7-97a8-4424c84f17a2",
   "metadata": {},
   "outputs": [],
   "source": []
  }
 ],
 "metadata": {
  "kernelspec": {
   "display_name": "Python 3 (ipykernel)",
   "language": "python",
   "name": "python3"
  },
  "language_info": {
   "codemirror_mode": {
    "name": "ipython",
    "version": 3
   },
   "file_extension": ".py",
   "mimetype": "text/x-python",
   "name": "python",
   "nbconvert_exporter": "python",
   "pygments_lexer": "ipython3",
   "version": "3.12.0"
  }
 },
 "nbformat": 4,
 "nbformat_minor": 5
}
