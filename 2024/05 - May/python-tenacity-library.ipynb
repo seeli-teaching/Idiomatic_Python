{
 "cells": [
  {
   "cell_type": "markdown",
   "id": "6b755115-3b55-4056-af5f-bfbf103ee560",
   "metadata": {},
   "source": [
    "# The `tenacity` Library"
   ]
  },
  {
   "cell_type": "markdown",
   "id": "74397d59-c121-4082-83ca-3cc4c4f0dc13",
   "metadata": {},
   "source": [
    "This library is used to retry code under certain conditions.\n",
    "\n",
    "There are many times we need to retry some code that failed to execute as expected.\n",
    "\n",
    "For example, you might be querying an API and hit a timeout, or a rate limit - in those cases you usually want to retry the call, possibly with some delay, and often we want to retry more than once.\n",
    "\n",
    "In a previous video I showed how to write a custom decorator to implement retries on API calls.\n",
    "\n",
    "This library greatly simplifies the process with many additional features, and of course applies to many other use cases too."
   ]
  },
  {
   "cell_type": "markdown",
   "id": "eb9edd96-9507-45bf-bcbf-dc91d509477d",
   "metadata": {},
   "source": [
    "The `tenacity` library can be pip installed using:\n",
    "```bash\n",
    "pip install tenacity\n",
    "```\n",
    "\n",
    "The docs for this library are available [here](https://tenacity.readthedocs.io/en/latest/)"
   ]
  },
  {
   "cell_type": "code",
   "execution_count": 1,
   "id": "7117a606-2f6e-4dd8-85cb-415612fd35b5",
   "metadata": {},
   "outputs": [],
   "source": [
    "import tenacity"
   ]
  },
  {
   "cell_type": "markdown",
   "id": "a0ed2a7c-b7dd-4547-8d70-626a28bf3231",
   "metadata": {},
   "source": [
    "Let's start with a simple example.\n",
    "\n",
    "By the way, before anyone flames me in the comments, I know this is a **terrible** design for this problem (at the very least I would use an auto incrementing default row id, a UUID, and probably a dozen other ways). I am just trying to show how this `tenacity` library works, for applications beyond calling APIs (which I'll show later).\n",
    "\n",
    "Suppose we have a system that maintains records for companies. Each company has it's own unique ID, but that ID needs to be a random integer, not a UUID. The problem is then how to generate a new ID that does not already exist.\n",
    "\n",
    "To simulate sych a system, I'm going to create a sqlite table, add a few records in there. To make the example easier to reproduce, I'm going to limit the range of random IDs to 1-100, and pre-populate our database with some records."
   ]
  },
  {
   "cell_type": "markdown",
   "id": "4c985655-ad3b-4981-9176-af3b32a076d6",
   "metadata": {},
   "source": [
    "First we establish a connection to a database (which I will set up as an in-memory-only database), and get a \"cursor\" (an object we use to communicate with the database)."
   ]
  },
  {
   "cell_type": "code",
   "execution_count": 2,
   "id": "a44a0314-b63d-40f8-a6da-12b19726ce11",
   "metadata": {},
   "outputs": [],
   "source": [
    "import sqlite3\n",
    "\n",
    "db_conn = sqlite3.connect(\":memory:\")\n",
    "db_cur = db_conn.cursor()"
   ]
  },
  {
   "cell_type": "markdown",
   "id": "83e4bc5a-efee-44c3-86b1-2ca8a0aad777",
   "metadata": {},
   "source": [
    "> Note: if you want an actual persistent database, just specify a file name instead of `:memory:`, e.g. : `sqlite3.connect(\"some/path/my_database.db\")`"
   ]
  },
  {
   "cell_type": "markdown",
   "id": "1ec48599-d5ea-493e-8eb8-257341f6b351",
   "metadata": {},
   "source": [
    "Next, we create a simple table with an ID and a name for our widgets:"
   ]
  },
  {
   "cell_type": "code",
   "execution_count": 3,
   "id": "4cd2847f-87b8-43d8-b906-703d5c8bbf00",
   "metadata": {},
   "outputs": [
    {
     "data": {
      "text/plain": [
       "<sqlite3.Cursor at 0x1076a1ec0>"
      ]
     },
     "execution_count": 3,
     "metadata": {},
     "output_type": "execute_result"
    }
   ],
   "source": [
    "db_cur.execute(\"\"\"\n",
    "create table companies(id int primary key, name text);\n",
    "\"\"\")"
   ]
  },
  {
   "cell_type": "markdown",
   "id": "148fbedc-14fa-47f4-be9c-520bdd9a8e2c",
   "metadata": {},
   "source": [
    "We can easily query for records in this table like this:"
   ]
  },
  {
   "cell_type": "code",
   "execution_count": 4,
   "id": "b11a6371-279d-4f72-821a-77950a42fa37",
   "metadata": {},
   "outputs": [
    {
     "name": "stdout",
     "output_type": "stream",
     "text": [
      "[]\n"
     ]
    }
   ],
   "source": [
    "results = db_cur.execute(\"select * from companies;\")\n",
    "\n",
    "print(results.fetchall())"
   ]
  },
  {
   "cell_type": "markdown",
   "id": "131c8e1f-3ff9-4daa-8264-8a46e42bcc72",
   "metadata": {},
   "source": [
    "As expected our table is empty, but we at least can see that the table now exists.\n",
    "\n",
    "Let's add some data to it. To do this I'm going to generate 50 company records by using random integers between 1 and 100 as the ID, and using the [Faker](https://faker.readthedocs.io/en/master/) library I covered in a previous video."
   ]
  },
  {
   "cell_type": "code",
   "execution_count": 5,
   "id": "d35e83c2-1dbe-40d0-9fcf-9c76b591351b",
   "metadata": {},
   "outputs": [
    {
     "name": "stdout",
     "output_type": "stream",
     "text": [
      "[{'id': 50, 'name': 'Chang-Fisher'}, {'id': 98, 'name': 'Sheppard-Tucker'}, {'id': 54, 'name': 'Faulkner-Howard'}, {'id': 6, 'name': 'Wagner LLC'}, {'id': 34, 'name': 'Campos PLC'}]\n"
     ]
    }
   ],
   "source": [
    "import random\n",
    "\n",
    "from faker import Faker\n",
    "from faker.providers import company\n",
    "\n",
    "\n",
    "def generate_fake_companies(n=50):\n",
    "    fake = Faker()\n",
    "    fake.add_provider(company)\n",
    "\n",
    "    company_ids = range(1, 101)\n",
    "    return [\n",
    "        {\n",
    "            \"id\": company_id,\n",
    "            \"name\": fake.company()\n",
    "        }\n",
    "        for company_id in random.sample(company_ids, n)\n",
    "    ]\n",
    "\n",
    "random.seed(0)\n",
    "Faker.seed(0)\n",
    "companies = generate_fake_companies(50)\n",
    "print(companies[:5])"
   ]
  },
  {
   "cell_type": "markdown",
   "id": "a2e3c3aa-3588-4743-b20b-a86db8321a7a",
   "metadata": {},
   "source": [
    "Ok, so now it's time to save these companies to our database."
   ]
  },
  {
   "cell_type": "code",
   "execution_count": 6,
   "id": "079c729a-19d4-419c-b0e8-79704967eb6f",
   "metadata": {},
   "outputs": [
    {
     "data": {
      "text/plain": [
       "<sqlite3.Cursor at 0x1076a1ec0>"
      ]
     },
     "execution_count": 6,
     "metadata": {},
     "output_type": "execute_result"
    }
   ],
   "source": [
    "db_cur.executemany(\"insert into companies(id, name) values(:id, :name);\", companies)"
   ]
  },
  {
   "cell_type": "markdown",
   "id": "84e41bb3-0d83-482d-95cd-93853fc8cf20",
   "metadata": {},
   "source": [
    "And let's make sure the data was written to our database:"
   ]
  },
  {
   "cell_type": "code",
   "execution_count": 7,
   "id": "6a4898f8-ad50-46b4-b180-bf5fdc37ea34",
   "metadata": {},
   "outputs": [
    {
     "name": "stdout",
     "output_type": "stream",
     "text": [
      "(50,)\n"
     ]
    }
   ],
   "source": [
    "result = db_cur.execute(\"select count(*) from companies;\")\n",
    "print(result.fetchone())"
   ]
  },
  {
   "cell_type": "markdown",
   "id": "d6b4ac7b-8eee-40e6-a0d4-b52aa8c13c25",
   "metadata": {},
   "source": [
    "And to retrieve a single record we can do it this way (there are other ways, but let's keep it simple so we can focus on `tenacity` instead of sqlite)."
   ]
  },
  {
   "cell_type": "code",
   "execution_count": 8,
   "id": "713fdfe4-fb62-450f-910a-c38458db5ea0",
   "metadata": {},
   "outputs": [
    {
     "name": "stdout",
     "output_type": "stream",
     "text": [
      "(50, 'Chang-Fisher')\n"
     ]
    }
   ],
   "source": [
    "result = db_cur.execute(\"select * from companies where id = ?;\", (50, ))\n",
    "print(result.fetchone())"
   ]
  },
  {
   "cell_type": "markdown",
   "id": "3f3e9ca6-ee30-418e-af20-45009a71879f",
   "metadata": {},
   "source": [
    "One thing to note is that we made `id` a primary key, which means the database will reject an insert if there is a conflict:"
   ]
  },
  {
   "cell_type": "code",
   "execution_count": 9,
   "id": "1158a76b-83db-44fb-880c-eb81c95868da",
   "metadata": {},
   "outputs": [
    {
     "name": "stdout",
     "output_type": "stream",
     "text": [
      "UNIQUE constraint failed: companies.id\n"
     ]
    }
   ],
   "source": [
    "try:\n",
    "    db_cur.execute(\"insert into companies (id, name) values(50, 'test');\")\n",
    "except sqlite3.IntegrityError as ex:\n",
    "    print(ex)"
   ]
  },
  {
   "cell_type": "markdown",
   "id": "f6acf5e6-db4e-41d1-a20a-917747e0307d",
   "metadata": {},
   "source": [
    "Now that we have our database and some pre-populated data, let's write a function that will create a new company and insert it into the database. The catch, is we want the function to assign a random ID between 1 and 100 to the new record."
   ]
  },
  {
   "cell_type": "code",
   "execution_count": 10,
   "id": "779adf80-017f-4f33-b83e-06431583cd3f",
   "metadata": {},
   "outputs": [],
   "source": [
    "def create_company(cur, company_name):\n",
    "    company_id = random.randint(1, 100)\n",
    "    print(f\"creating company with id: {company_id}...\")\n",
    "    cur.execute(\"insert into companies (id, name) values(?, ?);\", (company_id, company_name))\n",
    "    \n",
    "    return company_id, company_name"
   ]
  },
  {
   "cell_type": "code",
   "execution_count": 11,
   "id": "2f0b1d42-0dd0-478c-a5cc-d7a54968c3a9",
   "metadata": {},
   "outputs": [
    {
     "name": "stdout",
     "output_type": "stream",
     "text": [
      "creating company with id: 50...\n"
     ]
    },
    {
     "ename": "IntegrityError",
     "evalue": "UNIQUE constraint failed: companies.id",
     "output_type": "error",
     "traceback": [
      "\u001b[0;31m---------------------------------------------------------------------------\u001b[0m",
      "\u001b[0;31mIntegrityError\u001b[0m                            Traceback (most recent call last)",
      "Cell \u001b[0;32mIn[11], line 2\u001b[0m\n\u001b[1;32m      1\u001b[0m random\u001b[38;5;241m.\u001b[39mseed(\u001b[38;5;241m0\u001b[39m)\n\u001b[0;32m----> 2\u001b[0m create_company(db_cur, \u001b[38;5;124m\"\u001b[39m\u001b[38;5;124mtest\u001b[39m\u001b[38;5;124m\"\u001b[39m)\n",
      "Cell \u001b[0;32mIn[10], line 4\u001b[0m, in \u001b[0;36mcreate_company\u001b[0;34m(cur, company_name)\u001b[0m\n\u001b[1;32m      2\u001b[0m company_id \u001b[38;5;241m=\u001b[39m random\u001b[38;5;241m.\u001b[39mrandint(\u001b[38;5;241m1\u001b[39m, \u001b[38;5;241m100\u001b[39m)\n\u001b[1;32m      3\u001b[0m \u001b[38;5;28mprint\u001b[39m(\u001b[38;5;124mf\u001b[39m\u001b[38;5;124m\"\u001b[39m\u001b[38;5;124mcreating company with id: \u001b[39m\u001b[38;5;132;01m{\u001b[39;00mcompany_id\u001b[38;5;132;01m}\u001b[39;00m\u001b[38;5;124m...\u001b[39m\u001b[38;5;124m\"\u001b[39m)\n\u001b[0;32m----> 4\u001b[0m cur\u001b[38;5;241m.\u001b[39mexecute(\u001b[38;5;124m\"\u001b[39m\u001b[38;5;124minsert into companies (id, name) values(?, ?);\u001b[39m\u001b[38;5;124m\"\u001b[39m, (company_id, company_name))\n\u001b[1;32m      6\u001b[0m \u001b[38;5;28;01mreturn\u001b[39;00m company_id, company_name\n",
      "\u001b[0;31mIntegrityError\u001b[0m: UNIQUE constraint failed: companies.id"
     ]
    }
   ],
   "source": [
    "random.seed(0)\n",
    "create_company(db_cur, \"test\")"
   ]
  },
  {
   "cell_type": "code",
   "execution_count": 12,
   "id": "a4949f65-ed7f-4af4-bb6b-8e36ad90bfb4",
   "metadata": {},
   "outputs": [
    {
     "name": "stdout",
     "output_type": "stream",
     "text": [
      "creating company with id: 98...\n"
     ]
    },
    {
     "ename": "IntegrityError",
     "evalue": "UNIQUE constraint failed: companies.id",
     "output_type": "error",
     "traceback": [
      "\u001b[0;31m---------------------------------------------------------------------------\u001b[0m",
      "\u001b[0;31mIntegrityError\u001b[0m                            Traceback (most recent call last)",
      "Cell \u001b[0;32mIn[12], line 1\u001b[0m\n\u001b[0;32m----> 1\u001b[0m create_company(db_cur, \u001b[38;5;124m\"\u001b[39m\u001b[38;5;124mtest\u001b[39m\u001b[38;5;124m\"\u001b[39m)\n",
      "Cell \u001b[0;32mIn[10], line 4\u001b[0m, in \u001b[0;36mcreate_company\u001b[0;34m(cur, company_name)\u001b[0m\n\u001b[1;32m      2\u001b[0m company_id \u001b[38;5;241m=\u001b[39m random\u001b[38;5;241m.\u001b[39mrandint(\u001b[38;5;241m1\u001b[39m, \u001b[38;5;241m100\u001b[39m)\n\u001b[1;32m      3\u001b[0m \u001b[38;5;28mprint\u001b[39m(\u001b[38;5;124mf\u001b[39m\u001b[38;5;124m\"\u001b[39m\u001b[38;5;124mcreating company with id: \u001b[39m\u001b[38;5;132;01m{\u001b[39;00mcompany_id\u001b[38;5;132;01m}\u001b[39;00m\u001b[38;5;124m...\u001b[39m\u001b[38;5;124m\"\u001b[39m)\n\u001b[0;32m----> 4\u001b[0m cur\u001b[38;5;241m.\u001b[39mexecute(\u001b[38;5;124m\"\u001b[39m\u001b[38;5;124minsert into companies (id, name) values(?, ?);\u001b[39m\u001b[38;5;124m\"\u001b[39m, (company_id, company_name))\n\u001b[1;32m      6\u001b[0m \u001b[38;5;28;01mreturn\u001b[39;00m company_id, company_name\n",
      "\u001b[0;31mIntegrityError\u001b[0m: UNIQUE constraint failed: companies.id"
     ]
    }
   ],
   "source": [
    "create_company(db_cur, \"test\")"
   ]
  },
  {
   "cell_type": "markdown",
   "id": "aeaf5638-7367-4217-a8b3-6157f1077007",
   "metadata": {},
   "source": [
    "As you can see, we keep failing because the ID we are attempting to use already exists in the database.\n",
    "\n",
    "So, how do we find a \"free\" ID? \n",
    "\n",
    "There are many ways to do this, but since I'm trying to demonstrate the usefulness of `tenacity` we'll take a brute force approach. We just want to keep repeating our attempts to create a new company (with a random ID) until it actually works.\n",
    "\n",
    "We could certainly use a `while` loop or other mechanism to do that directly in the code. And if we only need this kind of retry in a single place in our code, maybe that's the simplest.\n",
    "\n",
    "But consider how you can do this using `tenacity` and think of where it might be useful in other scenarios."
   ]
  },
  {
   "cell_type": "markdown",
   "id": "991cbc08-fb7a-4d10-ad4f-e6d8b0237107",
   "metadata": {},
   "source": [
    "We could simply retry based on any exception, like this:"
   ]
  },
  {
   "cell_type": "markdown",
   "id": "a8c9a67e-bf93-4fc1-84cd-343eb306be36",
   "metadata": {},
   "source": [
    "## Basic Retry"
   ]
  },
  {
   "cell_type": "code",
   "execution_count": 13,
   "id": "3fb76191-1b48-42b2-ad5f-13129c8812d6",
   "metadata": {
    "tags": []
   },
   "outputs": [],
   "source": [
    "@tenacity.retry\n",
    "def create_company(cur, company_name):\n",
    "    company_id = random.randint(1, 100)\n",
    "    print(f\"creating company with id: {company_id}...\")\n",
    "    cur.execute(\"insert into companies (id, name) values(?, ?);\", (company_id, company_name))\n",
    "    \n",
    "    return company_id, company_name"
   ]
  },
  {
   "cell_type": "code",
   "execution_count": 14,
   "id": "cbc7c463-b202-416b-b0af-368d1a795cb3",
   "metadata": {},
   "outputs": [
    {
     "name": "stdout",
     "output_type": "stream",
     "text": [
      "creating company with id: 50...\n",
      "creating company with id: 98...\n",
      "creating company with id: 54...\n",
      "creating company with id: 6...\n",
      "creating company with id: 34...\n",
      "creating company with id: 66...\n",
      "creating company with id: 63...\n",
      "creating company with id: 52...\n",
      "creating company with id: 39...\n",
      "creating company with id: 62...\n",
      "creating company with id: 46...\n",
      "creating company with id: 75...\n",
      "creating company with id: 28...\n",
      "creating company with id: 65...\n",
      "creating company with id: 18...\n",
      "creating company with id: 37...\n",
      "creating company with id: 18...\n",
      "creating company with id: 97...\n",
      "creating company with id: 13...\n",
      "creating company with id: 80...\n",
      "creating company with id: 33...\n",
      "creating company with id: 69...\n",
      "creating company with id: 91...\n",
      "creating company with id: 78...\n",
      "creating company with id: 19...\n",
      "creating company with id: 40...\n",
      "creating company with id: 13...\n",
      "creating company with id: 94...\n"
     ]
    },
    {
     "data": {
      "text/plain": [
       "(94, 'test')"
      ]
     },
     "execution_count": 14,
     "metadata": {},
     "output_type": "execute_result"
    }
   ],
   "source": [
    "random.seed(0)\n",
    "create_company(db_cur, \"test\")"
   ]
  },
  {
   "cell_type": "markdown",
   "id": "fc1b8ea9-0994-410d-9e48-eef3d9c9bf31",
   "metadata": {},
   "source": [
    "You can see how the function was retried until it found an \"available\" ID."
   ]
  },
  {
   "cell_type": "markdown",
   "id": "742f54f7-af37-46e1-9a21-1f707a315b8f",
   "metadata": {},
   "source": [
    "## Retrying Based on Specific Exception Types"
   ]
  },
  {
   "cell_type": "markdown",
   "id": "dbced501-d4ff-4adf-9fd8-b730ed0ffbe6",
   "metadata": {},
   "source": [
    "But what if other exceptions in our function, that have nothing to do with the `IntegrityError` exception - maybe we don't want to retry those, and would instead want to let the exception bubble through and let the caller handle other exceptions."
   ]
  },
  {
   "cell_type": "markdown",
   "id": "4db73884-1cb8-4434-a47d-24fad854c8f0",
   "metadata": {},
   "source": [
    "To do this, we need to specify a retry exception.\n",
    "\n",
    "Let's try it:"
   ]
  },
  {
   "cell_type": "code",
   "execution_count": 15,
   "id": "1afc37f2-86c3-4a32-bed0-c83a06d962c1",
   "metadata": {},
   "outputs": [],
   "source": [
    "@tenacity.retry(retry=tenacity.retry_if_exception_type(sqlite3.IntegrityError))\n",
    "def create_company(cur, company_name):\n",
    "    company_id = random.randint(1, 100)\n",
    "    print(f\"creating company with id: {company_id}...\")\n",
    "\n",
    "    # let's raise a ValueError exception if the ID is odd\n",
    "    if company_id % 2:\n",
    "        raise ValueError(\"An odd number was used for an ID\")\n",
    "\n",
    "    cur.execute(\"insert into companies (id, name) values(?, ?);\", (company_id, company_name))\n",
    "    \n",
    "    return company_id, company_name"
   ]
  },
  {
   "cell_type": "code",
   "execution_count": 16,
   "id": "847d211c-0659-469b-8fef-2e97c571733e",
   "metadata": {},
   "outputs": [
    {
     "name": "stdout",
     "output_type": "stream",
     "text": [
      "creating company with id: 50...\n",
      "creating company with id: 98...\n",
      "creating company with id: 54...\n",
      "creating company with id: 6...\n",
      "creating company with id: 34...\n",
      "creating company with id: 66...\n",
      "creating company with id: 63...\n",
      "An odd number was used for an ID\n"
     ]
    }
   ],
   "source": [
    "try:\n",
    "    random.seed(0)\n",
    "    create_company(db_cur, \"test\")\n",
    "except ValueError as ex:\n",
    "    print(ex)"
   ]
  },
  {
   "cell_type": "markdown",
   "id": "4fa1ba4b-7562-41a8-ab78-d844d565f9fc",
   "metadata": {},
   "source": [
    "As you can see, as long as the exception in our function was an `IntegrityError` the function was retried, but as soon as another exception was encountered (a `ValueError` in this case), the retry stopped, and the exception bubbled up to us (the caller of `create_company()`."
   ]
  },
  {
   "cell_type": "markdown",
   "id": "98db1ed6-fa85-4273-85db-32291c1405c7",
   "metadata": {},
   "source": [
    "## Setting Retry Delays and Limits"
   ]
  },
  {
   "cell_type": "markdown",
   "id": "23119321-169b-4b47-9a40-38eea72c3b65",
   "metadata": {},
   "source": [
    "Another thing you may have noticed is that the retries happened one after the other without any delay.\n",
    "\n",
    "We sometimes want to introduce a delay between retries (usually to give time for some state somewhere to change, maybe a rate limit to reset, a network connection to be restored, etc).\n",
    "\n",
    "Tenacity has us covered there as well, with many different types of retry waits.\n",
    "\n",
    "The simplest is just a fixed time (specified in seconds):"
   ]
  },
  {
   "cell_type": "code",
   "execution_count": 17,
   "id": "df6867df-3448-44ca-93bf-b7f69ca58667",
   "metadata": {
    "tags": []
   },
   "outputs": [],
   "source": [
    "@tenacity.retry(\n",
    "    retry=tenacity.retry_if_exception_type(sqlite3.IntegrityError),\n",
    "    wait=tenacity.wait_fixed(1)\n",
    ")\n",
    "def create_company(cur, company_name):\n",
    "    company_id = random.randint(1, 100)\n",
    "    print(f\"creating company with id: {company_id}...\")\n",
    "\n",
    "    # let's raise a ValueError exception if the ID is odd\n",
    "    if company_id % 2:\n",
    "        raise ValueError(\"An odd number was used for an ID\")\n",
    "\n",
    "    cur.execute(\"insert into companies (id, name) values(?, ?);\", (company_id, company_name))\n",
    "    \n",
    "    return company_id, company_name"
   ]
  },
  {
   "cell_type": "code",
   "execution_count": 18,
   "id": "504762c0-66fe-4bc4-9f00-7deb405d4ee8",
   "metadata": {},
   "outputs": [
    {
     "name": "stdout",
     "output_type": "stream",
     "text": [
      "creating company with id: 50...\n",
      "creating company with id: 98...\n",
      "creating company with id: 54...\n",
      "creating company with id: 6...\n",
      "creating company with id: 34...\n",
      "creating company with id: 66...\n",
      "creating company with id: 63...\n",
      "An odd number was used for an ID\n"
     ]
    }
   ],
   "source": [
    "try:\n",
    "    random.seed(0)\n",
    "    create_company(db_cur, \"test\")\n",
    "except ValueError as ex:\n",
    "    print(ex)"
   ]
  },
  {
   "cell_type": "markdown",
   "id": "b80d0c56-5863-4717-9997-a86aecbcfcdb",
   "metadata": {},
   "source": [
    "Other wait specifications include random times (within specified limits):"
   ]
  },
  {
   "cell_type": "code",
   "execution_count": 19,
   "id": "d6127a68-905c-4876-b7b0-19fcfec0efb1",
   "metadata": {},
   "outputs": [],
   "source": [
    "@tenacity.retry(\n",
    "    retry=tenacity.retry_if_exception_type(sqlite3.IntegrityError),\n",
    "    wait=tenacity.wait_random(min=0.5, max=2)\n",
    ")\n",
    "def create_company(cur, company_name):\n",
    "    company_id = random.randint(1, 100)\n",
    "    print(f\"creating company with id: {company_id}...\")\n",
    "\n",
    "    # let's raise a ValueError exception if the ID is odd\n",
    "    if company_id % 2:\n",
    "        raise ValueError(\"An odd number was used for an ID\")\n",
    "\n",
    "    cur.execute(\"insert into companies (id, name) values(?, ?);\", (company_id, company_name))\n",
    "    \n",
    "    return company_id, company_name"
   ]
  },
  {
   "cell_type": "code",
   "execution_count": 20,
   "id": "853a32ad-e644-4f50-9054-fe3e0865594f",
   "metadata": {},
   "outputs": [
    {
     "name": "stdout",
     "output_type": "stream",
     "text": [
      "creating company with id: 50...\n",
      "creating company with id: 54...\n",
      "creating company with id: 66...\n",
      "creating company with id: 39...\n",
      "An odd number was used for an ID\n"
     ]
    }
   ],
   "source": [
    "try:\n",
    "    random.seed(0)\n",
    "    create_company(db_cur, \"test\")\n",
    "except ValueError as ex:\n",
    "    print(ex)"
   ]
  },
  {
   "cell_type": "markdown",
   "id": "05eb98ed-1a22-49a0-87cc-565807aafda9",
   "metadata": {},
   "source": [
    "(If you're wondering why the sequence of id's generated here is different from the one above even though I reset the seed to `0`, that's because that `wait_random` is also using Python's random generator)"
   ]
  },
  {
   "cell_type": "markdown",
   "id": "0d407f9b-3c52-486e-ae77-4bb0cf6136d6",
   "metadata": {},
   "source": [
    "When dealing with rate limited APIs, we often use exponential backoffs - this is where the wait times increase exponentially. We usually also limit the number of times we want to retry things.\n",
    "\n",
    "So let's implement both here:"
   ]
  },
  {
   "cell_type": "code",
   "execution_count": 21,
   "id": "602c2da3-b232-4cc6-9e30-3c13297000eb",
   "metadata": {},
   "outputs": [],
   "source": [
    "@tenacity.retry(\n",
    "    retry=tenacity.retry_if_exception_type(sqlite3.IntegrityError),\n",
    "    wait=tenacity.wait_exponential(multiplier=1, min=1, max=10),\n",
    "    stop=tenacity.stop_after_attempt(6)\n",
    ")\n",
    "def create_company(cur, company_name):\n",
    "    company_id = random.randint(1, 100)\n",
    "    print(f\"creating company with id: {company_id}...\")\n",
    "\n",
    "    # let's raise a ValueError exception if the ID is odd\n",
    "    if company_id % 2:\n",
    "        raise ValueError(\"An odd number was used for an ID\")\n",
    "\n",
    "    cur.execute(\"insert into companies (id, name) values(?, ?);\", (company_id, company_name))\n",
    "    \n",
    "    return company_id, company_name"
   ]
  },
  {
   "cell_type": "markdown",
   "id": "8a056e8d-03d8-49d3-a46a-fa7a3ac6add3",
   "metadata": {},
   "source": [
    "The way the exponential backoff works here, is that the first retry waits `min` seconds, the second retry waits `2^1 * 1`, then `2^2 * 1`, up to a maximum wait of `max` seconds.\n",
    "\n",
    "And we limit the number of retries using `stop_after_attempt`, but we could also use `stop_after_delay` where we basically retry, increasing our delay, until it reaches some value at which we want to stop trying."
   ]
  },
  {
   "cell_type": "code",
   "execution_count": 22,
   "id": "3d78f99d-0580-469a-9050-ea2ddad843f2",
   "metadata": {},
   "outputs": [
    {
     "name": "stdout",
     "output_type": "stream",
     "text": [
      "creating company with id: 50...\n",
      "creating company with id: 98...\n",
      "creating company with id: 54...\n",
      "creating company with id: 6...\n",
      "creating company with id: 34...\n",
      "creating company with id: 66...\n"
     ]
    },
    {
     "ename": "RetryError",
     "evalue": "RetryError[<Future at 0x11073ed10 state=finished raised IntegrityError>]",
     "output_type": "error",
     "traceback": [
      "\u001b[0;31m---------------------------------------------------------------------------\u001b[0m",
      "\u001b[0;31mIntegrityError\u001b[0m                            Traceback (most recent call last)",
      "File \u001b[0;32m~/.local/share/virtualenvs/notebooks-quyxCJTD/lib/python3.11/site-packages/tenacity/__init__.py:470\u001b[0m, in \u001b[0;36mRetrying.__call__\u001b[0;34m(self, fn, *args, **kwargs)\u001b[0m\n\u001b[1;32m    469\u001b[0m \u001b[38;5;28;01mtry\u001b[39;00m:\n\u001b[0;32m--> 470\u001b[0m     result \u001b[38;5;241m=\u001b[39m fn(\u001b[38;5;241m*\u001b[39margs, \u001b[38;5;241m*\u001b[39m\u001b[38;5;241m*\u001b[39mkwargs)\n\u001b[1;32m    471\u001b[0m \u001b[38;5;28;01mexcept\u001b[39;00m \u001b[38;5;167;01mBaseException\u001b[39;00m:  \u001b[38;5;66;03m# noqa: B902\u001b[39;00m\n",
      "Cell \u001b[0;32mIn[21], line 14\u001b[0m, in \u001b[0;36mcreate_company\u001b[0;34m(cur, company_name)\u001b[0m\n\u001b[1;32m     12\u001b[0m     \u001b[38;5;28;01mraise\u001b[39;00m \u001b[38;5;167;01mValueError\u001b[39;00m(\u001b[38;5;124m\"\u001b[39m\u001b[38;5;124mAn odd number was used for an ID\u001b[39m\u001b[38;5;124m\"\u001b[39m)\n\u001b[0;32m---> 14\u001b[0m cur\u001b[38;5;241m.\u001b[39mexecute(\u001b[38;5;124m\"\u001b[39m\u001b[38;5;124minsert into companies (id, name) values(?, ?);\u001b[39m\u001b[38;5;124m\"\u001b[39m, (company_id, company_name))\n\u001b[1;32m     16\u001b[0m \u001b[38;5;28;01mreturn\u001b[39;00m company_id, company_name\n",
      "\u001b[0;31mIntegrityError\u001b[0m: UNIQUE constraint failed: companies.id",
      "\nThe above exception was the direct cause of the following exception:\n",
      "\u001b[0;31mRetryError\u001b[0m                                Traceback (most recent call last)",
      "Cell \u001b[0;32mIn[22], line 3\u001b[0m\n\u001b[1;32m      1\u001b[0m \u001b[38;5;28;01mtry\u001b[39;00m:\n\u001b[1;32m      2\u001b[0m     random\u001b[38;5;241m.\u001b[39mseed(\u001b[38;5;241m0\u001b[39m)\n\u001b[0;32m----> 3\u001b[0m     create_company(db_cur, \u001b[38;5;124m\"\u001b[39m\u001b[38;5;124mtest\u001b[39m\u001b[38;5;124m\"\u001b[39m)\n\u001b[1;32m      4\u001b[0m \u001b[38;5;28;01mexcept\u001b[39;00m \u001b[38;5;167;01mValueError\u001b[39;00m \u001b[38;5;28;01mas\u001b[39;00m ex:\n\u001b[1;32m      5\u001b[0m     \u001b[38;5;28mprint\u001b[39m(ex)\n",
      "File \u001b[0;32m~/.local/share/virtualenvs/notebooks-quyxCJTD/lib/python3.11/site-packages/tenacity/__init__.py:330\u001b[0m, in \u001b[0;36mBaseRetrying.wraps.<locals>.wrapped_f\u001b[0;34m(*args, **kw)\u001b[0m\n\u001b[1;32m    326\u001b[0m \u001b[38;5;129m@functools\u001b[39m\u001b[38;5;241m.\u001b[39mwraps(\n\u001b[1;32m    327\u001b[0m     f, functools\u001b[38;5;241m.\u001b[39mWRAPPER_ASSIGNMENTS \u001b[38;5;241m+\u001b[39m (\u001b[38;5;124m\"\u001b[39m\u001b[38;5;124m__defaults__\u001b[39m\u001b[38;5;124m\"\u001b[39m, \u001b[38;5;124m\"\u001b[39m\u001b[38;5;124m__kwdefaults__\u001b[39m\u001b[38;5;124m\"\u001b[39m)\n\u001b[1;32m    328\u001b[0m )\n\u001b[1;32m    329\u001b[0m \u001b[38;5;28;01mdef\u001b[39;00m \u001b[38;5;21mwrapped_f\u001b[39m(\u001b[38;5;241m*\u001b[39margs: t\u001b[38;5;241m.\u001b[39mAny, \u001b[38;5;241m*\u001b[39m\u001b[38;5;241m*\u001b[39mkw: t\u001b[38;5;241m.\u001b[39mAny) \u001b[38;5;241m-\u001b[39m\u001b[38;5;241m>\u001b[39m t\u001b[38;5;241m.\u001b[39mAny:\n\u001b[0;32m--> 330\u001b[0m     \u001b[38;5;28;01mreturn\u001b[39;00m \u001b[38;5;28mself\u001b[39m(f, \u001b[38;5;241m*\u001b[39margs, \u001b[38;5;241m*\u001b[39m\u001b[38;5;241m*\u001b[39mkw)\n",
      "File \u001b[0;32m~/.local/share/virtualenvs/notebooks-quyxCJTD/lib/python3.11/site-packages/tenacity/__init__.py:467\u001b[0m, in \u001b[0;36mRetrying.__call__\u001b[0;34m(self, fn, *args, **kwargs)\u001b[0m\n\u001b[1;32m    465\u001b[0m retry_state \u001b[38;5;241m=\u001b[39m RetryCallState(retry_object\u001b[38;5;241m=\u001b[39m\u001b[38;5;28mself\u001b[39m, fn\u001b[38;5;241m=\u001b[39mfn, args\u001b[38;5;241m=\u001b[39margs, kwargs\u001b[38;5;241m=\u001b[39mkwargs)\n\u001b[1;32m    466\u001b[0m \u001b[38;5;28;01mwhile\u001b[39;00m \u001b[38;5;28;01mTrue\u001b[39;00m:\n\u001b[0;32m--> 467\u001b[0m     do \u001b[38;5;241m=\u001b[39m \u001b[38;5;28mself\u001b[39m\u001b[38;5;241m.\u001b[39miter(retry_state\u001b[38;5;241m=\u001b[39mretry_state)\n\u001b[1;32m    468\u001b[0m     \u001b[38;5;28;01mif\u001b[39;00m \u001b[38;5;28misinstance\u001b[39m(do, DoAttempt):\n\u001b[1;32m    469\u001b[0m         \u001b[38;5;28;01mtry\u001b[39;00m:\n",
      "File \u001b[0;32m~/.local/share/virtualenvs/notebooks-quyxCJTD/lib/python3.11/site-packages/tenacity/__init__.py:368\u001b[0m, in \u001b[0;36mBaseRetrying.iter\u001b[0;34m(self, retry_state)\u001b[0m\n\u001b[1;32m    366\u001b[0m result \u001b[38;5;241m=\u001b[39m \u001b[38;5;28;01mNone\u001b[39;00m\n\u001b[1;32m    367\u001b[0m \u001b[38;5;28;01mfor\u001b[39;00m action \u001b[38;5;129;01min\u001b[39;00m \u001b[38;5;28mself\u001b[39m\u001b[38;5;241m.\u001b[39miter_state\u001b[38;5;241m.\u001b[39mactions:\n\u001b[0;32m--> 368\u001b[0m     result \u001b[38;5;241m=\u001b[39m action(retry_state)\n\u001b[1;32m    369\u001b[0m \u001b[38;5;28;01mreturn\u001b[39;00m result\n",
      "File \u001b[0;32m~/.local/share/virtualenvs/notebooks-quyxCJTD/lib/python3.11/site-packages/tenacity/__init__.py:411\u001b[0m, in \u001b[0;36mBaseRetrying._post_stop_check_actions.<locals>.exc_check\u001b[0;34m(rs)\u001b[0m\n\u001b[1;32m    409\u001b[0m \u001b[38;5;28;01mif\u001b[39;00m \u001b[38;5;28mself\u001b[39m\u001b[38;5;241m.\u001b[39mreraise:\n\u001b[1;32m    410\u001b[0m     \u001b[38;5;28;01mraise\u001b[39;00m retry_exc\u001b[38;5;241m.\u001b[39mreraise()\n\u001b[0;32m--> 411\u001b[0m \u001b[38;5;28;01mraise\u001b[39;00m retry_exc \u001b[38;5;28;01mfrom\u001b[39;00m \u001b[38;5;21;01mfut\u001b[39;00m\u001b[38;5;21;01m.\u001b[39;00m\u001b[38;5;21;01mexception\u001b[39;00m()\n",
      "\u001b[0;31mRetryError\u001b[0m: RetryError[<Future at 0x11073ed10 state=finished raised IntegrityError>]"
     ]
    }
   ],
   "source": [
    "try:\n",
    "    random.seed(0)\n",
    "    create_company(db_cur, \"test\")\n",
    "except ValueError as ex:\n",
    "    print(ex)"
   ]
  },
  {
   "cell_type": "markdown",
   "id": "e66ac2ff-7377-440a-ad74-631397b53582",
   "metadata": {},
   "source": [
    "As you can see the wait times increased until it reached 10seconds, and finally we received a `RetryError` because we reached the maximum number of attempts. "
   ]
  },
  {
   "cell_type": "markdown",
   "id": "124b51cc-5a73-4bc5-a50b-64683bcbb661",
   "metadata": {},
   "source": [
    "To stop after the delay reaches a certain value, we could do this:"
   ]
  },
  {
   "cell_type": "code",
   "execution_count": 23,
   "id": "c87c3977-50f0-41aa-b3b6-4bc32d6dcf81",
   "metadata": {},
   "outputs": [],
   "source": [
    "@tenacity.retry(\n",
    "    retry=tenacity.retry_if_exception_type(sqlite3.IntegrityError),\n",
    "    wait=tenacity.wait_exponential(multiplier=1, min=1, max=10),\n",
    "    stop=tenacity.stop_after_delay(10)\n",
    ")\n",
    "def create_company(cur, company_name):\n",
    "    company_id = random.randint(1, 100)\n",
    "    print(f\"creating company with id: {company_id}...\")\n",
    "\n",
    "    # let's raise a ValueError exception if the ID is odd\n",
    "    if company_id % 2:\n",
    "        raise ValueError(\"An odd number was used for an ID\")\n",
    "\n",
    "    cur.execute(\"insert into companies (id, name) values(?, ?);\", (company_id, company_name))\n",
    "    \n",
    "    return company_id, company_name"
   ]
  },
  {
   "cell_type": "code",
   "execution_count": 24,
   "id": "7e5cab1b-18a4-43e5-91e0-a6daa3b9bb65",
   "metadata": {},
   "outputs": [
    {
     "name": "stdout",
     "output_type": "stream",
     "text": [
      "creating company with id: 50...\n",
      "creating company with id: 98...\n",
      "creating company with id: 54...\n",
      "creating company with id: 6...\n",
      "creating company with id: 34...\n",
      "Retry Error: RetryError[<Future at 0x110702690 state=finished raised IntegrityError>]\n",
      "15.023358792008366\n"
     ]
    }
   ],
   "source": [
    "from time import perf_counter\n",
    "\n",
    "start = perf_counter()\n",
    "try:\n",
    "    random.seed(0)\n",
    "    create_company(db_cur, \"test\")\n",
    "except ValueError as ex:\n",
    "    print('ValueError:', ex)\n",
    "except tenacity.RetryError as ex:\n",
    "    print('Retry Error:', ex)\n",
    "end = perf_counter()\n",
    "print(end - start)"
   ]
  },
  {
   "cell_type": "markdown",
   "id": "352895cb-cc15-46d2-a4f0-666c6bc26226",
   "metadata": {},
   "source": [
    "## Viewing Retry Stats"
   ]
  },
  {
   "cell_type": "markdown",
   "id": "48f0b1ed-8c81-40f0-8c04-ce8bda395333",
   "metadata": {},
   "source": [
    "As you can see we got our retry error because the total retry time reached over `10` seconds.\n",
    "\n",
    "We can actually inspect the retry statistics:"
   ]
  },
  {
   "cell_type": "code",
   "execution_count": 25,
   "id": "08f01517-1401-495a-b779-b11d321e6069",
   "metadata": {},
   "outputs": [
    {
     "data": {
      "text/plain": [
       "{'start_time': 96407.2631565,\n",
       " 'attempt_number': 5,\n",
       " 'idle_for': 15.0,\n",
       " 'delay_since_first_attempt': 15.02236937500129}"
      ]
     },
     "execution_count": 25,
     "metadata": {},
     "output_type": "execute_result"
    }
   ],
   "source": [
    "create_company.retry.statistics"
   ]
  },
  {
   "cell_type": "markdown",
   "id": "55a49dc7-18d1-4597-b060-73efacf14dd9",
   "metadata": {},
   "source": [
    "## Retrying Based on Function Return Value"
   ]
  },
  {
   "cell_type": "markdown",
   "id": "5862529c-2288-46c1-832f-8465e486921c",
   "metadata": {},
   "source": [
    "There are other retry definitions beyond just the exception based one we just saw.\n",
    "\n",
    "We can use things like the return value of the called function, and retry until some condition is met.\n",
    "\n",
    "To do so, we specify a predicate function that will receive the function's return value and decide whether to retry (by returning `True`), or not retry (by returning `False`)\n",
    "\n",
    "For example:"
   ]
  },
  {
   "cell_type": "code",
   "execution_count": 26,
   "id": "753720b1-52b8-4cff-b3be-c1be0f567f0c",
   "metadata": {},
   "outputs": [],
   "source": [
    "@tenacity.retry(\n",
    "    retry=tenacity.retry_if_result(lambda result: result is None),\n",
    ")\n",
    "def create_company(cur, company_name):\n",
    "    company_id = random.randint(1, 100)\n",
    "    print(f\"creating company with id: {company_id}...\")\n",
    "\n",
    "    try:\n",
    "        cur.execute(\"insert into companies (id, name) values(?, ?);\", (company_id, company_name))\n",
    "    except sqlite3.IntegrityError:\n",
    "        return None\n",
    "    \n",
    "    return company_id, company_name"
   ]
  },
  {
   "cell_type": "markdown",
   "id": "4939d78f-f57b-49f5-b2ce-df83732e6108",
   "metadata": {},
   "source": [
    "And yes, again, before I get flamed for writing bad exception handling like this, I know, don't use a special return value to indicate an exception - that's what exceptions are for!"
   ]
  },
  {
   "cell_type": "code",
   "execution_count": 27,
   "id": "0107c7fd-ec32-440a-824d-46108da57d72",
   "metadata": {},
   "outputs": [
    {
     "name": "stdout",
     "output_type": "stream",
     "text": [
      "creating company with id: 50...\n",
      "creating company with id: 98...\n",
      "creating company with id: 54...\n",
      "creating company with id: 6...\n",
      "creating company with id: 34...\n",
      "creating company with id: 66...\n",
      "creating company with id: 63...\n",
      "creating company with id: 52...\n",
      "creating company with id: 39...\n",
      "creating company with id: 62...\n",
      "creating company with id: 46...\n",
      "creating company with id: 75...\n",
      "creating company with id: 28...\n",
      "creating company with id: 65...\n",
      "creating company with id: 18...\n",
      "creating company with id: 37...\n",
      "creating company with id: 18...\n",
      "creating company with id: 97...\n",
      "creating company with id: 13...\n",
      "creating company with id: 80...\n",
      "creating company with id: 33...\n",
      "creating company with id: 69...\n",
      "creating company with id: 91...\n",
      "creating company with id: 78...\n",
      "creating company with id: 19...\n",
      "creating company with id: 40...\n",
      "creating company with id: 13...\n",
      "creating company with id: 94...\n",
      "creating company with id: 10...\n",
      "creating company with id: 88...\n"
     ]
    },
    {
     "data": {
      "text/plain": [
       "(88, 'test')"
      ]
     },
     "execution_count": 27,
     "metadata": {},
     "output_type": "execute_result"
    }
   ],
   "source": [
    "random.seed(0)\n",
    "create_company(db_cur, \"test\")"
   ]
  },
  {
   "cell_type": "markdown",
   "id": "0a598618-8bd0-4e20-a953-0f13a904573d",
   "metadata": {},
   "source": [
    "As you can see, the function was retried (indefinitely, and with no delay) until it returned something other than `None`."
   ]
  },
  {
   "cell_type": "markdown",
   "id": "ae48f8d5-b6a5-4b28-a941-eecec6a79b80",
   "metadata": {},
   "source": [
    "## Customizing Retry Conditions"
   ]
  },
  {
   "cell_type": "markdown",
   "id": "41fbb46e-d9b8-4eda-9a1a-47b372ec7711",
   "metadata": {},
   "source": [
    "Obviously everything I have shown you here can be applied to other situations, such as retrying API calls that fail due to rate limites, timeouts, etc."
   ]
  },
  {
   "cell_type": "markdown",
   "id": "2ea033c2-67bd-44a0-8ccd-80a93b33d550",
   "metadata": {},
   "source": [
    "I do not have access to a public API with a low rate limit to show you an example, but basically the idea is that your function making the API call will raise an HTTP exception. You can then specify the exact HTTP exception you want to perform retries with.\n",
    "\n",
    "In general, rate limit HTTP exceptions are `429`, but various APIs may choose to report back a different error code, so you'll have to check the specific API you are working with.\n",
    "\n",
    "The thing here, is that raising an http exception from your requests (using `raise_for_status`) will raise an HTTP exception for **any** HTTP error, not just a specific code, such as `429`.\n",
    "\n",
    "To handle this you could either trap that exception and raise your own, and then retry based on that exception, or you could use Tenacity's setting to examine the exception message.\n",
    "\n",
    "Let's see what an `HTTPError` in `requests` looks like."
   ]
  },
  {
   "cell_type": "code",
   "execution_count": 29,
   "id": "3d87eb3a-98d6-4ed0-a232-4df8a6c4b0e7",
   "metadata": {},
   "outputs": [
    {
     "name": "stdout",
     "output_type": "stream",
     "text": [
      "404 Client Error: Not Found for url: https://www.google.com/junk\n",
      "404\n"
     ]
    }
   ],
   "source": [
    "import requests\n",
    "\n",
    "try:\n",
    "    result = requests.get(\"https://www.google.com/junk\")\n",
    "    result.raise_for_status()\n",
    "except requests.HTTPError as ex:\n",
    "    print(ex)\n",
    "    print(ex.response.status_code)"
   ]
  },
  {
   "cell_type": "markdown",
   "id": "52b7b852-8518-48d8-9efe-da416891c23e",
   "metadata": {},
   "source": [
    "So, we basically want to do a retry based on the specific code found in the exception's `response.status_code` property.\n",
    "\n",
    "This does not seem to be a pre-made option (to inspect the exception's properties to determine a retry), but it is easily achievable by creating a custom retry testing class for Tenacity, based on the `retry_base` abstract class. We just need to implement the `__call__` method that needs to return a boolean (`True` for retry, `False` otherwise.)\n",
    "\n",
    "You can see the source code for `retry_base` [here](https://github.com/jd/tenacity/blob/main/tenacity/retry.py).\n",
    "\n",
    "Let's see how to do that to handle a 429 specifically."
   ]
  },
  {
   "cell_type": "code",
   "execution_count": 31,
   "id": "8a3d76a2-4c42-4902-b892-c4d485220f34",
   "metadata": {},
   "outputs": [],
   "source": [
    "from tenacity.retry import retry_base\n",
    "\n",
    "class retry_if_rate_limited(retry_base):\n",
    "    def __call__(self, retry_state) -> bool:\n",
    "        if retry_state.outcome.failed:\n",
    "            ex = retry_state.outcome.exception()\n",
    "            return isinstance(ex, requests.HTTPError) and ex.response.status_code == requests.codes.too_many_requests"
   ]
  },
  {
   "cell_type": "markdown",
   "id": "96729348-5a8a-44dd-b05c-65244bf956e4",
   "metadata": {},
   "source": [
    "For our function I'm going to simulate an HTTP 429 error:"
   ]
  },
  {
   "cell_type": "code",
   "execution_count": 32,
   "id": "52bf8f64-e41a-4a08-bdef-b91cebb8d866",
   "metadata": {},
   "outputs": [],
   "source": [
    "@tenacity.retry(retry=retry_if_rate_limited(), stop=tenacity.stop_after_attempt(3))\n",
    "def make_call():\n",
    "    print(\"Trying API call...\")\n",
    "    ex = requests.models.Response()\n",
    "    ex.status_code = requests.codes.too_many_requests\n",
    "    raise requests.HTTPError(response=ex)"
   ]
  },
  {
   "cell_type": "markdown",
   "id": "41cfdbb1-21d2-4c9a-8e9b-ce0d42ddda23",
   "metadata": {},
   "source": [
    "And let's try it out:"
   ]
  },
  {
   "cell_type": "code",
   "execution_count": 34,
   "id": "6842c2e6-9837-46c8-9f01-538dc68ce12a",
   "metadata": {},
   "outputs": [
    {
     "name": "stdout",
     "output_type": "stream",
     "text": [
      "Trying API call...\n",
      "Trying API call...\n",
      "Trying API call...\n",
      "RetryError[<Future at 0x110dbd1d0 state=finished raised HTTPError>]\n",
      "429\n"
     ]
    }
   ],
   "source": [
    "random.seed(0)\n",
    "\n",
    "try:\n",
    "    make_call()\n",
    "except tenacity.RetryError as ex:\n",
    "    print(ex)\n",
    "    last_ex = ex.last_attempt.exception()\n",
    "    print(last_ex.response.status_code)"
   ]
  },
  {
   "cell_type": "markdown",
   "id": "a75df3de-577c-41f0-85be-d036bab025d6",
   "metadata": {},
   "source": [
    "## Direct Retries without Decorators"
   ]
  },
  {
   "cell_type": "markdown",
   "id": "08c35ddf-1fc8-4e55-a5f7-e7752624966c",
   "metadata": {},
   "source": [
    "There's plenty more you can do with the Tenacity library.\n",
    "\n",
    "For example you don't need to wrap a function to retry code, you can do it right in the middle of your code using a context manager:"
   ]
  },
  {
   "cell_type": "code",
   "execution_count": 35,
   "id": "0ef5f74d-ee45-408f-80c0-6dbb7d7face8",
   "metadata": {},
   "outputs": [
    {
     "name": "stdout",
     "output_type": "stream",
     "text": [
      "Attempt #1\n",
      "Attempt #2\n",
      "Attempt #3\n",
      "Success!\n"
     ]
    }
   ],
   "source": [
    "counter = 0\n",
    "\n",
    "try:\n",
    "    for attempt in tenacity.Retrying(\n",
    "        retry=tenacity.retry_if_exception_type(ValueError), \n",
    "        stop=tenacity.stop_after_attempt(5)\n",
    "    ):\n",
    "        with attempt:\n",
    "            counter += 1\n",
    "            print(f\"Attempt #{counter}\")\n",
    "            if counter < 3:\n",
    "                raise ValueError()\n",
    "            print(\"Success!\")\n",
    "except RetryError as ex:\n",
    "    print(ex.last_attempt.exception())"
   ]
  },
  {
   "cell_type": "code",
   "execution_count": 36,
   "id": "86fe707b-0954-4fa6-880e-be311819c8c1",
   "metadata": {},
   "outputs": [
    {
     "name": "stdout",
     "output_type": "stream",
     "text": [
      "Attempt #1\n",
      "Attempt #2\n",
      "Attempt #3\n",
      "<class 'TypeError'>\n"
     ]
    }
   ],
   "source": [
    "counter = 0\n",
    "\n",
    "try:\n",
    "    for attempt in tenacity.Retrying(\n",
    "        retry=tenacity.retry_if_exception_type(ValueError), \n",
    "        stop=tenacity.stop_after_attempt(5)\n",
    "    ):\n",
    "        with attempt:\n",
    "            counter += 1\n",
    "            print(f\"Attempt #{counter}\")\n",
    "            if counter < 3:\n",
    "                raise ValueError()\n",
    "            raise TypeError()\n",
    "except Exception as ex:\n",
    "    print(type(ex))"
   ]
  },
  {
   "cell_type": "markdown",
   "id": "5af735a6-bf0c-46a0-944e-a5326a43c66b",
   "metadata": {},
   "source": [
    "## Conclusion"
   ]
  },
  {
   "cell_type": "markdown",
   "id": "1e00785c-6704-49dc-acaa-88bc2704899d",
   "metadata": {},
   "source": [
    "Tenacity also allows you to hook up loggers for both before and after retry, as well as more options for retry conditions, delays (including jitter), and more.\n",
    "\n",
    "In conclusion, this library is **extremely** handy, very **easy** to use, and offers a lot of **functionality**.\n",
    "\n",
    "Happy Pythoning!"
   ]
  }
 ],
 "metadata": {
  "kernelspec": {
   "display_name": "Python 3 (ipykernel)",
   "language": "python",
   "name": "python3"
  },
  "language_info": {
   "codemirror_mode": {
    "name": "ipython",
    "version": 3
   },
   "file_extension": ".py",
   "mimetype": "text/x-python",
   "name": "python",
   "nbconvert_exporter": "python",
   "pygments_lexer": "ipython3",
   "version": "3.12.0"
  }
 },
 "nbformat": 4,
 "nbformat_minor": 5
}
