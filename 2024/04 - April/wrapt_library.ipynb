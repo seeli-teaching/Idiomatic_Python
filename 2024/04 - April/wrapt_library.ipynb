{
 "cells": [
  {
   "cell_type": "markdown",
   "id": "5ff6ea4d-2a69-45e4-9a38-b2709047be4a",
   "metadata": {},
   "source": [
    "# The `wrapt` Library"
   ]
  },
  {
   "cell_type": "markdown",
   "id": "81350707-b6a1-49be-8554-2e91b6e19175",
   "metadata": {},
   "source": [
    "This is a super useful library for easily writing decorators in Python, with a whole slew of additional functionality.\n",
    "\n",
    "If you find yourself writing a lot of decorators in Python (or maybe even just a few!), you ought to give this library a try. It's very easy to get started with it, and in the longer term you can increase your utilization of it with its more advanced functionality.\n",
    "\n",
    "Let's see how we would create a simple decorator to maybe log function calls."
   ]
  },
  {
   "cell_type": "markdown",
   "id": "2421cac5-f4ea-4394-a40e-88cf27d6724b",
   "metadata": {},
   "source": [
    "## Setting up Python's Logger"
   ]
  },
  {
   "cell_type": "markdown",
   "id": "083fd9f7-9fbf-4380-ad18-2122ef67fc6f",
   "metadata": {},
   "source": [
    "Instead of using print statements, we'll actually use Python's logger - but we just to set things up a little differently than you would with a regular Python app since Jupyter itself has already configured a logger."
   ]
  },
  {
   "cell_type": "markdown",
   "id": "b4041c01-9979-4a9a-bcb2-1a4f72f2e1c2",
   "metadata": {},
   "source": [
    "First we create a custom handler:"
   ]
  },
  {
   "cell_type": "code",
   "execution_count": 1,
   "id": "fea5473e-a50a-437b-a1e8-7ac83b7e6f0f",
   "metadata": {},
   "outputs": [],
   "source": [
    "import logging"
   ]
  },
  {
   "cell_type": "code",
   "execution_count": 2,
   "id": "e60745f0-de01-49cc-aa45-5aa6de24389a",
   "metadata": {},
   "outputs": [],
   "source": [
    "handler = logging.StreamHandler()\n",
    "formatter = logging.Formatter(\n",
    "    fmt='{asctime} - {levelname} - {message}',\n",
    "    datefmt=\"%Y-%m-%d %H:%M:%S\",\n",
    "    style=\"{\"\n",
    ")\n",
    "handler.setFormatter(formatter)                              "
   ]
  },
  {
   "cell_type": "markdown",
   "id": "ac0e4dbf-87c2-4978-8dd3-d293d93cc371",
   "metadata": {},
   "source": [
    "If you're curious about the attributes I used in the formatter, you can find a complete list here:\n",
    "[https://docs.python.org/3/library/logging.html#logrecord-attributes](https://docs.python.org/3/library/logging.html#logrecord-attributes)"
   ]
  },
  {
   "cell_type": "markdown",
   "id": "d912c3e6-ecd6-43a7-9a19-f2839350a077",
   "metadata": {},
   "source": [
    "Next, we add this handler to the existing root handler:"
   ]
  },
  {
   "cell_type": "code",
   "execution_count": 3,
   "id": "1fed3d55-56e7-4911-a7c1-6b4f7775123e",
   "metadata": {},
   "outputs": [],
   "source": [
    "logging.getLogger().addHandler(handler)"
   ]
  },
  {
   "cell_type": "markdown",
   "id": "62e8fcc5-80b0-472d-9f46-e1dffdee2dfe",
   "metadata": {},
   "source": [
    "Finally, we need to get to the logger for this particular notebook, and we'll set the logging level too while we're at it:"
   ]
  },
  {
   "cell_type": "code",
   "execution_count": 4,
   "id": "76449c45-74a4-4ac2-b555-81c734da6eee",
   "metadata": {},
   "outputs": [],
   "source": [
    "logger = logging.getLogger(__name__)\n",
    "logger.setLevel(logging.DEBUG)"
   ]
  },
  {
   "cell_type": "markdown",
   "id": "0cf9b495-236f-4f25-917e-4899ddbcd7d4",
   "metadata": {},
   "source": [
    "Now we can see our logging in our notebook instead of just in the Jupyter log window (accessed via the `View` menu.)"
   ]
  },
  {
   "cell_type": "code",
   "execution_count": 5,
   "id": "8ae026ce-81c8-4a85-8d91-207799eff38d",
   "metadata": {},
   "outputs": [
    {
     "name": "stderr",
     "output_type": "stream",
     "text": [
      "2024-03-23 22:13:55 - CRITICAL - this is a test\n"
     ]
    }
   ],
   "source": [
    "logger.critical(\"this is a test\")"
   ]
  },
  {
   "cell_type": "markdown",
   "id": "d05f9975-383d-4bb0-8d31-d6070b096ca1",
   "metadata": {},
   "source": [
    "## Standard Decorator Approach"
   ]
  },
  {
   "cell_type": "code",
   "execution_count": 6,
   "id": "71be423b-e66f-42c1-9be5-5f448c96a911",
   "metadata": {},
   "outputs": [],
   "source": [
    "from functools import wraps\n",
    "\n",
    "def log(fn):\n",
    "    @wraps(fn)\n",
    "    def inner(*args, **kwargs):\n",
    "        try:\n",
    "            result = fn(*args, **kwargs)\n",
    "            logger.info(f\"called with: {args=}, {kwargs=}\")\n",
    "            return result\n",
    "        except Exception as ex:\n",
    "            logger.error(f\"called with: {args=}, {kwargs=}, ex={str(ex)}\")\n",
    "            raise\n",
    "        \n",
    "    return inner"
   ]
  },
  {
   "cell_type": "code",
   "execution_count": 7,
   "id": "f8b20159-d2ec-4ac4-8b32-6293ebc7aad1",
   "metadata": {},
   "outputs": [],
   "source": [
    "@log\n",
    "def add(a, b):\n",
    "    return a + b"
   ]
  },
  {
   "cell_type": "code",
   "execution_count": 8,
   "id": "a542a0f9-3315-47c9-98d9-421b8c3e8a56",
   "metadata": {},
   "outputs": [
    {
     "name": "stderr",
     "output_type": "stream",
     "text": [
      "2024-03-23 22:13:55 - INFO - called with: args=(1, 2), kwargs={}\n"
     ]
    },
    {
     "data": {
      "text/plain": [
       "3"
      ]
     },
     "execution_count": 8,
     "metadata": {},
     "output_type": "execute_result"
    }
   ],
   "source": [
    "add(1, 2)"
   ]
  },
  {
   "cell_type": "code",
   "execution_count": 9,
   "id": "a6757cab-52dd-45e5-8be7-48eecad231b9",
   "metadata": {},
   "outputs": [
    {
     "name": "stderr",
     "output_type": "stream",
     "text": [
      "2024-03-23 22:13:55 - ERROR - called with: args=('a', 1), kwargs={}, ex=can only concatenate str (not \"int\") to str\n"
     ]
    },
    {
     "name": "stdout",
     "output_type": "stream",
     "text": [
      "Exception was raised: <class 'TypeError'> can only concatenate str (not \"int\") to str\n"
     ]
    }
   ],
   "source": [
    "try:\n",
    "    add(\"a\", 1)\n",
    "except Exception as ex:\n",
    "    print(\"Exception was raised:\", type(ex), str(ex))"
   ]
  },
  {
   "cell_type": "markdown",
   "id": "50839512-447a-46f9-ad1f-a6c3b25e8996",
   "metadata": {},
   "source": [
    "Maybe, we want the option to silence exceptions, just log the exception, return None, and continue.\n",
    "\n",
    "We can do that by creating a decorator that can take an argument to control that"
   ]
  },
  {
   "cell_type": "code",
   "execution_count": 10,
   "id": "01f5f68a-451e-4027-b6c7-33c23fb5e720",
   "metadata": {},
   "outputs": [],
   "source": [
    "def log(*, silence=False):\n",
    "    def decorator(fn):\n",
    "        @wraps(fn)\n",
    "        def inner(*args, **kwargs):\n",
    "            try:\n",
    "                result = fn(*args, **kwargs)\n",
    "                logger.info(f\"called with: {args=}, {kwargs=}\")\n",
    "                return result\n",
    "            except Exception as ex:\n",
    "                logger.error(f\"called with: {args=}, {kwargs=}, ex={str(ex)}\")\n",
    "                if not silence:\n",
    "                    raise\n",
    "            \n",
    "        return inner\n",
    "    return decorator"
   ]
  },
  {
   "cell_type": "code",
   "execution_count": 11,
   "id": "aa5334aa-15bd-4aea-8cd1-e5d371a937be",
   "metadata": {},
   "outputs": [],
   "source": [
    "@log()\n",
    "def add(a, b):\n",
    "    return a + b"
   ]
  },
  {
   "cell_type": "code",
   "execution_count": 12,
   "id": "54fa33cd-fee2-4bf6-9138-8d259d97bc2c",
   "metadata": {},
   "outputs": [
    {
     "name": "stderr",
     "output_type": "stream",
     "text": [
      "2024-03-23 22:13:55 - INFO - called with: args=(1, 2), kwargs={}\n"
     ]
    },
    {
     "data": {
      "text/plain": [
       "3"
      ]
     },
     "execution_count": 12,
     "metadata": {},
     "output_type": "execute_result"
    }
   ],
   "source": [
    "add(1, 2)"
   ]
  },
  {
   "cell_type": "code",
   "execution_count": 13,
   "id": "fcd1367e-4184-43cc-b20b-990ae76b2965",
   "metadata": {},
   "outputs": [
    {
     "name": "stderr",
     "output_type": "stream",
     "text": [
      "2024-03-23 22:13:55 - ERROR - called with: args=('a', 1), kwargs={}, ex=can only concatenate str (not \"int\") to str\n"
     ]
    },
    {
     "name": "stdout",
     "output_type": "stream",
     "text": [
      "Exception was raised: <class 'TypeError'> can only concatenate str (not \"int\") to str\n"
     ]
    }
   ],
   "source": [
    "try:\n",
    "    add(\"a\", 1)\n",
    "except Exception as ex:\n",
    "    print(\"Exception was raised:\", type(ex), str(ex))"
   ]
  },
  {
   "cell_type": "markdown",
   "id": "4277c1e5-474e-4ef7-b51b-05bb3b268565",
   "metadata": {},
   "source": [
    "And if we want it silenced:"
   ]
  },
  {
   "cell_type": "code",
   "execution_count": 14,
   "id": "43ff87b2-ea71-4f3c-ae9f-fbedadd99e22",
   "metadata": {},
   "outputs": [],
   "source": [
    "@log(silence=True)\n",
    "def add(a, b):\n",
    "    return a + b"
   ]
  },
  {
   "cell_type": "code",
   "execution_count": 15,
   "id": "dfd46df5-5f04-45d3-8b77-020890990ede",
   "metadata": {},
   "outputs": [
    {
     "name": "stderr",
     "output_type": "stream",
     "text": [
      "2024-03-23 22:13:55 - ERROR - called with: args=('a', 1), kwargs={}, ex=can only concatenate str (not \"int\") to str\n"
     ]
    }
   ],
   "source": [
    "try:\n",
    "    add(\"a\", 1)\n",
    "except Exception as ex:\n",
    "    print(\"Exception was raised:\", str(ex))"
   ]
  },
  {
   "cell_type": "markdown",
   "id": "29a176c6-c62e-482c-b0f8-b05554b05086",
   "metadata": {},
   "source": [
    "## The `wrapt` Approach"
   ]
  },
  {
   "cell_type": "code",
   "execution_count": 16,
   "id": "f4dbe735-797e-4502-92e4-5e9ad863c831",
   "metadata": {},
   "outputs": [],
   "source": [
    "import wrapt"
   ]
  },
  {
   "cell_type": "markdown",
   "id": "7f946c12-b5d1-441c-8276-525110543b85",
   "metadata": {},
   "source": [
    "Let's start by re-writing the first decorator we had:"
   ]
  },
  {
   "cell_type": "code",
   "execution_count": 17,
   "id": "63f35d02-b517-4e67-8171-195e8667c554",
   "metadata": {},
   "outputs": [],
   "source": [
    "def log(fn):\n",
    "    @wraps(fn)\n",
    "    def inner(*args, **kwargs):\n",
    "        try:\n",
    "            result = fn(*args, **kwargs)\n",
    "            logger.info(f\"called with: {args=}, {kwargs=}\")\n",
    "            return result\n",
    "        except Exception as ex:\n",
    "            logger.error(f\"called with: {args=}, {kwargs=}, ex={str(ex)}\")\n",
    "            raise\n",
    "        \n",
    "    return inner"
   ]
  },
  {
   "cell_type": "markdown",
   "id": "9766dfed-3e9c-489d-a99f-a20eed3eee7e",
   "metadata": {},
   "source": [
    "Using `wrapt`, we do this instead:"
   ]
  },
  {
   "cell_type": "code",
   "execution_count": 18,
   "id": "6bf54f1e-33d3-4d2c-b18c-7895a1e6f920",
   "metadata": {},
   "outputs": [],
   "source": [
    "@wrapt.decorator\n",
    "def log(fn, instance, args, kwargs):\n",
    "    try:\n",
    "        result = fn(*args, **kwargs)\n",
    "        logger.info(f\"called with: {args=}, {kwargs=}\")\n",
    "        return result\n",
    "    except Exception as ex:\n",
    "        logger.error(f\"called with: {args=}, {kwargs=}, ex={str(ex)}\")\n",
    "        raise"
   ]
  },
  {
   "cell_type": "code",
   "execution_count": 19,
   "id": "92657643-9bb2-47f1-bcff-5f9cd13125c3",
   "metadata": {},
   "outputs": [],
   "source": [
    "@log\n",
    "def add(a, b):\n",
    "    return a + b"
   ]
  },
  {
   "cell_type": "code",
   "execution_count": 20,
   "id": "e392092d-093f-4a85-b85a-4428af01a515",
   "metadata": {},
   "outputs": [
    {
     "name": "stderr",
     "output_type": "stream",
     "text": [
      "2024-03-23 22:13:55 - INFO - called with: args=(1, 2), kwargs={}\n"
     ]
    },
    {
     "data": {
      "text/plain": [
       "3"
      ]
     },
     "execution_count": 20,
     "metadata": {},
     "output_type": "execute_result"
    }
   ],
   "source": [
    "add(1, 2)"
   ]
  },
  {
   "cell_type": "code",
   "execution_count": 21,
   "id": "b327f5d3-2d29-4641-96a3-8545391741dd",
   "metadata": {},
   "outputs": [
    {
     "name": "stderr",
     "output_type": "stream",
     "text": [
      "2024-03-23 22:13:55 - ERROR - called with: args=('a', 1), kwargs={}, ex=can only concatenate str (not \"int\") to str\n"
     ]
    },
    {
     "name": "stdout",
     "output_type": "stream",
     "text": [
      "Exception was raised: <class 'TypeError'> can only concatenate str (not \"int\") to str\n"
     ]
    }
   ],
   "source": [
    "try:\n",
    "    add(\"a\", 1)\n",
    "except Exception as ex:\n",
    "    print(\"Exception was raised:\", type(ex), str(ex))"
   ]
  },
  {
   "cell_type": "markdown",
   "id": "8956923b-7936-4c14-859c-971fb2b024fa",
   "metadata": {},
   "source": [
    "Next, let's see how we implement the second version we wrote:"
   ]
  },
  {
   "cell_type": "code",
   "execution_count": 22,
   "id": "cb42bd14-4ee5-4d4a-93b8-cee33923c4c7",
   "metadata": {},
   "outputs": [],
   "source": [
    "def log(*, silence=False):\n",
    "    def decorator(fn):\n",
    "        @wraps(fn)\n",
    "        def inner(*args, **kwargs):\n",
    "            try:\n",
    "                result = fn(*args, **kwargs)\n",
    "                logger.info(f\"called with: {args=}, {kwargs=}\")\n",
    "                return result\n",
    "            except Exception as ex:\n",
    "                logger.error(f\"called with: {args=}, {kwargs=}, ex={str(ex)}\")\n",
    "                if not silence:\n",
    "                    raise\n",
    "            \n",
    "        return inner\n",
    "    return decorator"
   ]
  },
  {
   "cell_type": "markdown",
   "id": "d5e871ad-9a12-425c-a5be-2e5d9b2d4710",
   "metadata": {},
   "source": [
    "Using `wrapt` we can re-write it this way:"
   ]
  },
  {
   "cell_type": "code",
   "execution_count": 23,
   "id": "96ce4173-6aac-4fac-aff6-63541e790fd4",
   "metadata": {},
   "outputs": [],
   "source": [
    "def log(*, silence=False):\n",
    "    @wrapt.decorator\n",
    "    def inner(fn, instance, args, kwargs):\n",
    "        try:\n",
    "            result = fn(*args, **kwargs)\n",
    "            logger.info(f\"called with: {args=}, {kwargs=}\")\n",
    "            return result\n",
    "        except Exception as ex:\n",
    "            logger.error(f\"called with: {args=}, {kwargs=}, ex={str(ex)}\")\n",
    "            if not silence:\n",
    "                raise\n",
    "\n",
    "    return inner"
   ]
  },
  {
   "cell_type": "code",
   "execution_count": 24,
   "id": "7b047845-6802-4811-b401-48640908ed08",
   "metadata": {},
   "outputs": [],
   "source": [
    "@log()\n",
    "def add(a, b):\n",
    "    return a + b"
   ]
  },
  {
   "cell_type": "code",
   "execution_count": 25,
   "id": "a01f895d-9bad-4229-a4a8-85d950a3e3e5",
   "metadata": {},
   "outputs": [
    {
     "name": "stderr",
     "output_type": "stream",
     "text": [
      "2024-03-23 22:13:55 - ERROR - called with: args=('a', 1), kwargs={}, ex=can only concatenate str (not \"int\") to str\n"
     ]
    },
    {
     "name": "stdout",
     "output_type": "stream",
     "text": [
      "Exception was raised: <class 'TypeError'> can only concatenate str (not \"int\") to str\n"
     ]
    }
   ],
   "source": [
    "try:\n",
    "    add(\"a\", 1)\n",
    "except Exception as ex:\n",
    "    print(\"Exception was raised:\", type(ex), str(ex))"
   ]
  },
  {
   "cell_type": "code",
   "execution_count": 26,
   "id": "4b1dc3ec-cb1e-47f8-930d-ee6dbe5244c1",
   "metadata": {},
   "outputs": [],
   "source": [
    "@log(silence=True)\n",
    "def add(a, b):\n",
    "    return a + b"
   ]
  },
  {
   "cell_type": "markdown",
   "id": "977fd07a-f6f5-4d49-88bc-1ac652fbfb8e",
   "metadata": {},
   "source": [
    "## Enabling and Disabling Decorators"
   ]
  },
  {
   "cell_type": "markdown",
   "id": "50de3858-27f0-4f92-a4af-d135a6cb3e99",
   "metadata": {},
   "source": [
    "We very well could have a scenario where we want to enable or disable our log decorator depending on circumstances."
   ]
  },
  {
   "cell_type": "markdown",
   "id": "e4217b36-2aed-49af-9f78-9752482bbfab",
   "metadata": {},
   "source": [
    "Although we can do that in plain Python, it would take a little bit of work to do this, and we're not going to attempt it (though certainly give it a try on your own!)"
   ]
  },
  {
   "cell_type": "markdown",
   "id": "73d5c084-2e5d-4ae3-8167-5f5f16b0bb23",
   "metadata": {},
   "source": [
    "Instead, let's use `wrapts` built-in functionality to do so."
   ]
  },
  {
   "cell_type": "markdown",
   "id": "9165a6cc-ea21-4c31-b33e-2d6fc8c97e1a",
   "metadata": {},
   "source": [
    "Suppose, we have some module level variable (or we read it from some config) that sets a flag to enable or disable the logging decorator."
   ]
  },
  {
   "cell_type": "code",
   "execution_count": 27,
   "id": "b8f01c68-91a2-4cfc-b25b-e10994e3996c",
   "metadata": {},
   "outputs": [],
   "source": [
    "LOG_ENABLED = True"
   ]
  },
  {
   "cell_type": "markdown",
   "id": "ab2dfd48-5cd2-45ef-890d-ab5bda695761",
   "metadata": {},
   "source": [
    "Then, when we define our decorator we can use the special argument `enabled` to set that state:"
   ]
  },
  {
   "cell_type": "code",
   "execution_count": 28,
   "id": "e37984ac-2b95-4cfe-a12b-a5542c8a0ee8",
   "metadata": {},
   "outputs": [],
   "source": [
    "def log(*, silence=False):\n",
    "    @wrapt.decorator(enabled=LOG_ENABLED)\n",
    "    def inner(fn, instance, args, kwargs):\n",
    "        try:\n",
    "            result = fn(*args, **kwargs)\n",
    "            logger.info(f\"called with: {args=}, {kwargs=}\")\n",
    "            return result\n",
    "        except Exception as ex:\n",
    "            logger.error(f\"called with: {args=}, {kwargs=}, ex={str(ex)}\")\n",
    "            if not silence:\n",
    "                raise\n",
    "\n",
    "    return inner"
   ]
  },
  {
   "cell_type": "code",
   "execution_count": 29,
   "id": "19c0adad-c8c4-401c-8e03-b22f8f7c03ba",
   "metadata": {},
   "outputs": [
    {
     "name": "stderr",
     "output_type": "stream",
     "text": [
      "2024-03-23 22:13:55 - INFO - called with: args=(1, 2), kwargs={}\n"
     ]
    },
    {
     "data": {
      "text/plain": [
       "3"
      ]
     },
     "execution_count": 29,
     "metadata": {},
     "output_type": "execute_result"
    }
   ],
   "source": [
    "add(1, 2)"
   ]
  },
  {
   "cell_type": "markdown",
   "id": "b99e75b1-a1b8-473f-b01e-ebbf68b205b3",
   "metadata": {},
   "source": [
    "Now let's turn the functionality off. We can't just do this:"
   ]
  },
  {
   "cell_type": "code",
   "execution_count": 30,
   "id": "d4683ec2-4276-47cb-889c-d752d51f8bf0",
   "metadata": {},
   "outputs": [],
   "source": [
    "LOG_ENABLED = False"
   ]
  },
  {
   "cell_type": "code",
   "execution_count": 31,
   "id": "55425fdf-c91c-4548-bc08-599e27277637",
   "metadata": {},
   "outputs": [
    {
     "name": "stderr",
     "output_type": "stream",
     "text": [
      "2024-03-23 22:13:55 - INFO - called with: args=(1, 2), kwargs={}\n"
     ]
    },
    {
     "data": {
      "text/plain": [
       "3"
      ]
     },
     "execution_count": 31,
     "metadata": {},
     "output_type": "execute_result"
    }
   ],
   "source": [
    "add(1, 2)"
   ]
  },
  {
   "cell_type": "markdown",
   "id": "5e6f6cdb-cea8-4009-affd-613115f2fea9",
   "metadata": {},
   "source": [
    "This approach only works when our application starts up, and the enabling/disabling of the decorator is essentially set the first time the code is compiled.\n",
    "\n",
    "So, to mimic this here without restarting out Jupyter notebook, we can do this:"
   ]
  },
  {
   "cell_type": "code",
   "execution_count": 32,
   "id": "32be34e7-50f9-4813-8144-85275d78e8d6",
   "metadata": {},
   "outputs": [],
   "source": [
    "LOG_ENABLED = False\n",
    "\n",
    "def log(*, silence=False):\n",
    "    @wrapt.decorator(enabled=LOG_ENABLED)\n",
    "    def inner(fn, instance, args, kwargs):\n",
    "        try:\n",
    "            result = fn(*args, **kwargs)\n",
    "            logger.info(f\"called with: {args=}, {kwargs=}\")\n",
    "            return result\n",
    "        except Exception as ex:\n",
    "            logger.error(f\"called with: {args=}, {kwargs=}, ex={str(ex)}\")\n",
    "            if not silence:\n",
    "                raise\n",
    "\n",
    "    return inner"
   ]
  },
  {
   "cell_type": "code",
   "execution_count": 33,
   "id": "9a2cb2a3-1787-41fd-8880-56957358d144",
   "metadata": {},
   "outputs": [],
   "source": [
    "@log(silence=True)\n",
    "def add(a, b):\n",
    "    return a + b"
   ]
  },
  {
   "cell_type": "code",
   "execution_count": 34,
   "id": "f42fa2be-f27d-44ea-802a-8d0c90d3a335",
   "metadata": {},
   "outputs": [
    {
     "data": {
      "text/plain": [
       "3"
      ]
     },
     "execution_count": 34,
     "metadata": {},
     "output_type": "execute_result"
    }
   ],
   "source": [
    "add(1, 2)"
   ]
  },
  {
   "cell_type": "markdown",
   "id": "9bc35f91-d3b4-4e6b-8f61-a6502bbba82e",
   "metadata": {},
   "source": [
    "So this approach works great, and is good as long as we want that enabled/disabled state to be set at app startup."
   ]
  },
  {
   "cell_type": "markdown",
   "id": "4300278c-02db-480d-860d-80ab700b6a15",
   "metadata": {},
   "source": [
    "But what about when we want it to be dynamic while our application is running - i.e. we may want to turn the logger on sometimes, and turn it off other times.\n",
    "\n",
    "Well, `wrapt` has that covered too!!! All we need to do is specify a **callable** that returns a boolean.\n",
    "\n",
    "here, we'll just use a lambda that returns that global variable:"
   ]
  },
  {
   "cell_type": "code",
   "execution_count": 35,
   "id": "15cf387d-d1c6-4c25-a28c-57ce896bca10",
   "metadata": {},
   "outputs": [],
   "source": [
    "LOGGER_ENABLED = True"
   ]
  },
  {
   "cell_type": "code",
   "execution_count": 36,
   "id": "fc4b5f52-30a2-4130-b10d-3486e3b6c269",
   "metadata": {},
   "outputs": [],
   "source": [
    "def log(*, silence=False):\n",
    "    @wrapt.decorator(enabled=lambda: LOGGER_ENABLED)\n",
    "    def inner(fn, instance, args, kwargs):\n",
    "        try:\n",
    "            result = fn(*args, **kwargs)\n",
    "            logger.info(f\"called with: {args=}, {kwargs=}\")\n",
    "            return result\n",
    "        except Exception as ex:\n",
    "            logger.error(f\"called with: {args=}, {kwargs=}, ex={str(ex)}\")\n",
    "            if not silence:\n",
    "                raise\n",
    "\n",
    "    return inner"
   ]
  },
  {
   "cell_type": "code",
   "execution_count": 37,
   "id": "4f6c3528-52a9-424d-ac82-a3996b29b0de",
   "metadata": {},
   "outputs": [],
   "source": [
    "@log()\n",
    "def add(a, b):\n",
    "    return a + b\n",
    "\n",
    "@log()\n",
    "def mult(a, b):\n",
    "    return a * b"
   ]
  },
  {
   "cell_type": "code",
   "execution_count": 38,
   "id": "2fc53791-8623-488e-b6a1-6e3d1fed8159",
   "metadata": {},
   "outputs": [
    {
     "name": "stderr",
     "output_type": "stream",
     "text": [
      "2024-03-23 22:13:55 - INFO - called with: args=(1, 2), kwargs={}\n"
     ]
    },
    {
     "data": {
      "text/plain": [
       "3"
      ]
     },
     "execution_count": 38,
     "metadata": {},
     "output_type": "execute_result"
    }
   ],
   "source": [
    "add(1, 2)"
   ]
  },
  {
   "cell_type": "code",
   "execution_count": 39,
   "id": "9aefad08-3f43-4b01-ad43-ebb5c986109b",
   "metadata": {},
   "outputs": [
    {
     "name": "stderr",
     "output_type": "stream",
     "text": [
      "2024-03-23 22:13:55 - INFO - called with: args=(1, 2), kwargs={}\n"
     ]
    },
    {
     "data": {
      "text/plain": [
       "2"
      ]
     },
     "execution_count": 39,
     "metadata": {},
     "output_type": "execute_result"
    }
   ],
   "source": [
    "mult(1, 2)"
   ]
  },
  {
   "cell_type": "markdown",
   "id": "4954d094-22d1-4967-9bf5-15ccc9890ef5",
   "metadata": {},
   "source": [
    "Now, let's change that global:"
   ]
  },
  {
   "cell_type": "code",
   "execution_count": 40,
   "id": "1881c255-63ac-4933-829e-40be4d16e35f",
   "metadata": {},
   "outputs": [],
   "source": [
    "LOGGER_ENABLED = False"
   ]
  },
  {
   "cell_type": "code",
   "execution_count": 41,
   "id": "3120fd0b-b5ae-47f4-9747-65915c1beb62",
   "metadata": {},
   "outputs": [
    {
     "data": {
      "text/plain": [
       "3"
      ]
     },
     "execution_count": 41,
     "metadata": {},
     "output_type": "execute_result"
    }
   ],
   "source": [
    "add(1, 2)"
   ]
  },
  {
   "cell_type": "code",
   "execution_count": 42,
   "id": "a295d450-0b57-48cd-bf0d-e5198d9ecb83",
   "metadata": {},
   "outputs": [
    {
     "data": {
      "text/plain": [
       "2"
      ]
     },
     "execution_count": 42,
     "metadata": {},
     "output_type": "execute_result"
    }
   ],
   "source": [
    "mult(1, 2)"
   ]
  },
  {
   "cell_type": "markdown",
   "id": "dcbe1edd-11d6-4372-a8ed-0c1e97598d98",
   "metadata": {},
   "source": [
    "You can think that you may have some decorators that need to be enabled or disabled based on the results of some function calling into a database, a \"live\" config, an API result, etc. Possibilities are endless and `wrapts` makes it super easy to do."
   ]
  },
  {
   "cell_type": "markdown",
   "id": "8dd97d1c-779c-4423-9972-8c25f2047a71",
   "metadata": {},
   "source": [
    "## Introspection"
   ]
  },
  {
   "cell_type": "markdown",
   "id": "d5261f58-aa26-4c31-bfca-f7223fd35001",
   "metadata": {},
   "source": [
    "Under the hood, `wrapts` also provides much better support for introspection, far more than Python's `wraps` itself."
   ]
  },
  {
   "cell_type": "markdown",
   "id": "f76487c8-1cba-46a8-925b-52b3205c93d8",
   "metadata": {},
   "source": [
    "Let's go back to a basic Python decorator:"
   ]
  },
  {
   "cell_type": "code",
   "execution_count": 43,
   "id": "6caf3310-411f-4374-81d8-383626df0e5e",
   "metadata": {},
   "outputs": [],
   "source": [
    "def my_dec(fn):\n",
    "    def inner(*args, **kwargs):\n",
    "        return fn(*args, **kwargs)\n",
    "\n",
    "    return inner"
   ]
  },
  {
   "cell_type": "code",
   "execution_count": 44,
   "id": "e6c9d21f-ace9-480b-a43b-38c9fabd5619",
   "metadata": {},
   "outputs": [],
   "source": [
    "@my_dec\n",
    "def add(a, b, *, extras=None):\n",
    "    \"\"\"This functions adds two objects, as long as they support addition.\n",
    "        extras: just for demonstrating something\n",
    "    \"\"\"\n",
    "    return a + b"
   ]
  },
  {
   "cell_type": "code",
   "execution_count": 45,
   "id": "2aa803c3-25ae-42de-8f92-433870d60831",
   "metadata": {},
   "outputs": [
    {
     "data": {
      "text/plain": [
       "3"
      ]
     },
     "execution_count": 45,
     "metadata": {},
     "output_type": "execute_result"
    }
   ],
   "source": [
    "add(1, 2)"
   ]
  },
  {
   "cell_type": "code",
   "execution_count": 46,
   "id": "99f37726-1a71-4a44-8a45-48e775d6ee9b",
   "metadata": {},
   "outputs": [
    {
     "name": "stdout",
     "output_type": "stream",
     "text": [
      "Help on function inner in module __main__:\n",
      "\n",
      "inner(*args, **kwargs)\n",
      "\n"
     ]
    }
   ],
   "source": [
    "help(add)"
   ]
  },
  {
   "cell_type": "markdown",
   "id": "1a293bb4-e01a-4323-9efd-ba91eda44d69",
   "metadata": {},
   "source": [
    "Hmm... We are getting the docs for the `inner` function, not the `add` function. As we know, we should use `@wraps` to fix that:"
   ]
  },
  {
   "cell_type": "code",
   "execution_count": 47,
   "id": "d1f1421a-be07-43b6-b46d-7ff943da10d6",
   "metadata": {},
   "outputs": [],
   "source": [
    "def my_dec(fn):\n",
    "    @wraps(fn)\n",
    "    def inner(*args, **kwargs):\n",
    "        return fn(*args, **kwargs)\n",
    "\n",
    "    return inner"
   ]
  },
  {
   "cell_type": "code",
   "execution_count": 48,
   "id": "2cea6954-77a8-4596-a970-3451f59f6add",
   "metadata": {},
   "outputs": [],
   "source": [
    "@my_dec\n",
    "def add(a, b, *, extras=None):\n",
    "    \"\"\"This functions adds two objects, as long as they support addition.\n",
    "        extras: just for demonstrating something\n",
    "    \"\"\"\n",
    "    return a + b"
   ]
  },
  {
   "cell_type": "code",
   "execution_count": 49,
   "id": "2b9c03e6-f9be-4e07-a1e8-1faf6cc9adfe",
   "metadata": {},
   "outputs": [
    {
     "name": "stdout",
     "output_type": "stream",
     "text": [
      "Help on function add in module __main__:\n",
      "\n",
      "add(a, b, *, extras=None)\n",
      "    This functions adds two objects, as long as they support addition.\n",
      "    extras: just for demonstrating something\n",
      "\n"
     ]
    }
   ],
   "source": [
    "help(add)"
   ]
  },
  {
   "cell_type": "markdown",
   "id": "07c1b106-1a58-4590-97e5-43f8440b7a4e",
   "metadata": {},
   "source": [
    "Next, let's see how the introspection module `inspect` works with our decorated function:"
   ]
  },
  {
   "cell_type": "code",
   "execution_count": 50,
   "id": "f0cc0866-fd7d-4a8a-be74-d1c42d23531a",
   "metadata": {},
   "outputs": [],
   "source": [
    "import inspect"
   ]
  },
  {
   "cell_type": "code",
   "execution_count": 51,
   "id": "e72bd532-451f-4d96-85cd-9074df04b92d",
   "metadata": {},
   "outputs": [
    {
     "data": {
      "text/plain": [
       "'This functions adds two objects, as long as they support addition.\\nextras: just for demonstrating something'"
      ]
     },
     "execution_count": 51,
     "metadata": {},
     "output_type": "execute_result"
    }
   ],
   "source": [
    "inspect.getdoc(add)"
   ]
  },
  {
   "cell_type": "markdown",
   "id": "73841a79-79b2-4fdc-a5d8-5360c48b1dd3",
   "metadata": {},
   "source": [
    "That worked, but what about inspecting code and args?"
   ]
  },
  {
   "cell_type": "code",
   "execution_count": 52,
   "id": "d14c32e4-a919-47b2-b0d8-613fba5b587e",
   "metadata": {},
   "outputs": [
    {
     "name": "stdout",
     "output_type": "stream",
     "text": [
      "@my_dec\n",
      "def add(a, b, *, extras=None):\n",
      "    \"\"\"This functions adds two objects, as long as they support addition.\n",
      "        extras: just for demonstrating something\n",
      "    \"\"\"\n",
      "    return a + b\n",
      "\n"
     ]
    }
   ],
   "source": [
    "print(inspect.getsource(add))"
   ]
  },
  {
   "cell_type": "code",
   "execution_count": 53,
   "id": "fe7097f8-2410-4752-be2f-d3b5507ed422",
   "metadata": {},
   "outputs": [
    {
     "data": {
      "text/plain": [
       "FullArgSpec(args=[], varargs='args', varkw='kwargs', defaults=None, kwonlyargs=[], kwonlydefaults=None, annotations={})"
      ]
     },
     "execution_count": 53,
     "metadata": {},
     "output_type": "execute_result"
    }
   ],
   "source": [
    "inspect.getfullargspec(add)"
   ]
  },
  {
   "cell_type": "markdown",
   "id": "7f1801b1-111d-4ff9-b80a-abc1721b51a9",
   "metadata": {},
   "source": [
    "As you can see, inspecting the args is clearly not returning the args for `add`, but rather for the `inner` function."
   ]
  },
  {
   "cell_type": "markdown",
   "id": "a58f5fc3-72f1-4f10-bc72-4c6b7af974d6",
   "metadata": {},
   "source": [
    "So, let's see how `wrapts` handles that:"
   ]
  },
  {
   "cell_type": "code",
   "execution_count": 54,
   "id": "d399edee-dcc7-4d65-80aa-d6dc1d96813a",
   "metadata": {},
   "outputs": [],
   "source": [
    "@wrapt.decorator\n",
    "def my_dec(fn, instance, args, kwargs):\n",
    "    return fn(*args, **kwargs)\n",
    "    "
   ]
  },
  {
   "cell_type": "code",
   "execution_count": 55,
   "id": "9cb05a89-6cb4-4440-80db-a64e795b1d47",
   "metadata": {},
   "outputs": [],
   "source": [
    "@my_dec\n",
    "def add(a, b, *, extras=None):\n",
    "    \"\"\"This functions adds two objects, as long as they support addition.\n",
    "        extras: just for demonstrating something\n",
    "    \"\"\"\n",
    "    return a + b"
   ]
  },
  {
   "cell_type": "code",
   "execution_count": 56,
   "id": "d83ffd00-51cc-46bf-8f18-d432dd60f5c4",
   "metadata": {},
   "outputs": [
    {
     "data": {
      "text/plain": [
       "3"
      ]
     },
     "execution_count": 56,
     "metadata": {},
     "output_type": "execute_result"
    }
   ],
   "source": [
    "add(1, 2)"
   ]
  },
  {
   "cell_type": "code",
   "execution_count": 57,
   "id": "a3a103c0-debe-43c5-b213-8fbb6764d5f6",
   "metadata": {},
   "outputs": [
    {
     "name": "stdout",
     "output_type": "stream",
     "text": [
      "Help on function add in module __main__:\n",
      "\n",
      "add(a, b, *, extras=None)\n",
      "    This functions adds two objects, as long as they support addition.\n",
      "    extras: just for demonstrating something\n",
      "\n"
     ]
    }
   ],
   "source": [
    "help(add)"
   ]
  },
  {
   "cell_type": "code",
   "execution_count": 58,
   "id": "0bf2c2fc-2969-4edd-b1de-a6d2714f206b",
   "metadata": {},
   "outputs": [
    {
     "name": "stdout",
     "output_type": "stream",
     "text": [
      "@my_dec\n",
      "def add(a, b, *, extras=None):\n",
      "    \"\"\"This functions adds two objects, as long as they support addition.\n",
      "        extras: just for demonstrating something\n",
      "    \"\"\"\n",
      "    return a + b\n",
      "\n"
     ]
    }
   ],
   "source": [
    "print(inspect.getsource(add))"
   ]
  },
  {
   "cell_type": "code",
   "execution_count": 59,
   "id": "813192e0-c5ff-4cc0-ad71-90bca2d07bb8",
   "metadata": {},
   "outputs": [
    {
     "data": {
      "text/plain": [
       "FullArgSpec(args=['a', 'b'], varargs=None, varkw=None, defaults=None, kwonlyargs=['extras'], kwonlydefaults={'extras': None}, annotations={})"
      ]
     },
     "execution_count": 59,
     "metadata": {},
     "output_type": "execute_result"
    }
   ],
   "source": [
    "inspect.getfullargspec(add)"
   ]
  },
  {
   "cell_type": "markdown",
   "id": "37cc6c3e-d0fe-4003-8dee-76cc1bf21a93",
   "metadata": {},
   "source": [
    "As you can see, the inspection of args now works as well."
   ]
  },
  {
   "cell_type": "markdown",
   "id": "a252da1c-c51d-4ee7-b016-94ab953592f0",
   "metadata": {},
   "source": [
    "## Conclusion"
   ]
  },
  {
   "cell_type": "markdown",
   "id": "c3c359e6-ecee-495d-ac17-57ff608dded0",
   "metadata": {},
   "source": [
    "The `wrapt` library has a number of other tricks up its sleeve, including straightforward ways to decorate class instance methods, class methods, static methods, and even decorating classes themselves.\n",
    "\n",
    "So, give the `wrapt` library a try, and see how you like it!"
   ]
  },
  {
   "cell_type": "code",
   "execution_count": null,
   "id": "6512999e-499f-4ffe-8734-b64a030b89e9",
   "metadata": {},
   "outputs": [],
   "source": []
  }
 ],
 "metadata": {
  "kernelspec": {
   "display_name": "Python 3 (ipykernel)",
   "language": "python",
   "name": "python3"
  },
  "language_info": {
   "codemirror_mode": {
    "name": "ipython",
    "version": 3
   },
   "file_extension": ".py",
   "mimetype": "text/x-python",
   "name": "python",
   "nbconvert_exporter": "python",
   "pygments_lexer": "ipython3",
   "version": "3.12.0"
  }
 },
 "nbformat": 4,
 "nbformat_minor": 5
}
