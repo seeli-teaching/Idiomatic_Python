{
 "cells": [
  {
   "cell_type": "markdown",
   "id": "67df633f-d8c6-498e-afa2-5fee97ed5128",
   "metadata": {},
   "source": [
    "# Arrow Library"
   ]
  },
  {
   "cell_type": "markdown",
   "id": "3450acc0-4658-4762-a6ce-e2b4a04da7b5",
   "metadata": {},
   "source": [
    "In previous videos (or in my Python Fundamentals course) I covered libraries such as `humanize` and `pytz` as well as Python's built-in datetime functionality."
   ]
  },
  {
   "cell_type": "markdown",
   "id": "13a27acd-d55f-4604-8204-8942be8fa98a",
   "metadata": {},
   "source": [
    "Those libraries are great and can be used independently, but the `Arrow` library kind of puts all that together in a much simpler and powerful way."
   ]
  },
  {
   "cell_type": "markdown",
   "id": "887a4b3f-e3cf-4548-9beb-ff029050ef97",
   "metadata": {},
   "source": [
    "I highly recommend this library - it will make your life much easier."
   ]
  },
  {
   "cell_type": "markdown",
   "id": "0d98edfd-1670-4eee-adfa-6b57649f65bc",
   "metadata": {},
   "source": [
    "Let's dive into some of the main features of the Arrow library."
   ]
  },
  {
   "cell_type": "markdown",
   "id": "24b4946e-8d64-42f9-aff4-5e0a86e253b0",
   "metadata": {},
   "source": [
    "## Installation"
   ]
  },
  {
   "cell_type": "markdown",
   "id": "f8ec5f24-3616-42db-895a-b4fd94e8bf96",
   "metadata": {},
   "source": [
    "The library is available [here](https://github.com/arrow-py/arrow) and their very good documentation is available [here](https://arrow.readthedocs.io/en/latest/index.html)"
   ]
  },
  {
   "cell_type": "markdown",
   "id": "f3ec0af6-8b2d-4c93-8e41-135f25410394",
   "metadata": {},
   "source": [
    "You can pip install it in your virtual env using:\n",
    "```bash\n",
    "pip install arrow\n",
    "```"
   ]
  },
  {
   "cell_type": "markdown",
   "id": "b4059019-6ce2-40be-addf-8d9a4313cfca",
   "metadata": {},
   "source": [
    "## Constructing Naive and Aware Datetimes"
   ]
  },
  {
   "cell_type": "code",
   "execution_count": 1,
   "id": "6d19e928-71f2-40c1-9de5-64c1a4b4c0c9",
   "metadata": {},
   "outputs": [],
   "source": [
    "import datetime\n",
    "\n",
    "import arrow\n",
    "import pytz"
   ]
  },
  {
   "cell_type": "markdown",
   "id": "3025c69a-300d-4708-ab98-54c3b456e92e",
   "metadata": {},
   "source": [
    "Arrow can create aware and naive datetimes easily:"
   ]
  },
  {
   "cell_type": "code",
   "execution_count": 2,
   "id": "3ca7ccdc-1cf6-4faa-829d-66c7bc2ed7d5",
   "metadata": {},
   "outputs": [
    {
     "data": {
      "text/plain": [
       "<Arrow [2024-03-19T05:23:49.309104+00:00]>"
      ]
     },
     "execution_count": 2,
     "metadata": {},
     "output_type": "execute_result"
    }
   ],
   "source": [
    "arrow.utcnow()"
   ]
  },
  {
   "cell_type": "markdown",
   "id": "40cbdee1-df1e-47b6-bf47-069c4533c30d",
   "metadata": {},
   "source": [
    "As you can see, this is slightly different from Python's built-in `utcnow()` function:"
   ]
  },
  {
   "cell_type": "code",
   "execution_count": 3,
   "id": "21452a88-6be1-4c76-81a6-40e9cd508a62",
   "metadata": {},
   "outputs": [
    {
     "name": "stderr",
     "output_type": "stream",
     "text": [
      "/var/folders/kg/20pf1n8j6pjg09bwxz6cgw0r0000gn/T/ipykernel_4475/194642955.py:1: DeprecationWarning: datetime.datetime.utcnow() is deprecated and scheduled for removal in a future version. Use timezone-aware objects to represent datetimes in UTC: datetime.datetime.now(datetime.UTC).\n",
      "  datetime.datetime.utcnow()\n"
     ]
    },
    {
     "data": {
      "text/plain": [
       "datetime.datetime(2024, 3, 19, 5, 23, 49, 315457)"
      ]
     },
     "execution_count": 3,
     "metadata": {},
     "output_type": "execute_result"
    }
   ],
   "source": [
    "datetime.datetime.utcnow()"
   ]
  },
  {
   "cell_type": "markdown",
   "id": "159ba43f-e19f-4c18-a80f-11ff769929bb",
   "metadata": {},
   "source": [
    "As you can see Python's `utcnow()` function generates a naive datetime object, while, Arrow generates an aware datetime object."
   ]
  },
  {
   "cell_type": "markdown",
   "id": "2585249d-b382-420f-9177-d890e338e8fb",
   "metadata": {},
   "source": [
    "By the way, Python's `utcnow()` function has been deprecated, and you should instead use this:"
   ]
  },
  {
   "cell_type": "code",
   "execution_count": 4,
   "id": "e11bb9ee-9fdb-4a97-8b59-723218c79e6e",
   "metadata": {},
   "outputs": [
    {
     "data": {
      "text/plain": [
       "datetime.datetime(2024, 3, 19, 5, 23, 49, 319434, tzinfo=datetime.timezone.utc)"
      ]
     },
     "execution_count": 4,
     "metadata": {},
     "output_type": "execute_result"
    }
   ],
   "source": [
    "datetime.datetime.now(datetime.UTC)"
   ]
  },
  {
   "cell_type": "markdown",
   "id": "ace5bc38-8fe5-45c8-88cb-97f99eece640",
   "metadata": {},
   "source": [
    "And this function does return an aware datetime object.\n",
    "\n",
    "I don't know about you, but I find writing\n",
    "```python\n",
    "arrow.utcnow()\n",
    "```\n",
    "\n",
    "much simpler than writing\n",
    "```python\n",
    "datetime.datetime.now(datetime.UTC)\n",
    "```"
   ]
  },
  {
   "cell_type": "markdown",
   "id": "37d83370-7215-487e-b85a-e9bbc47bc0dd",
   "metadata": {},
   "source": [
    "Now, Arrow objects can easily be converted to regular datetime objects:"
   ]
  },
  {
   "cell_type": "code",
   "execution_count": 5,
   "id": "ee9a835a-3bd0-4932-b104-3d2f2813d77b",
   "metadata": {},
   "outputs": [
    {
     "data": {
      "text/plain": [
       "datetime.datetime(2024, 3, 19, 5, 23, 49, 322622, tzinfo=tzutc())"
      ]
     },
     "execution_count": 5,
     "metadata": {},
     "output_type": "execute_result"
    }
   ],
   "source": [
    "now = arrow.utcnow()\n",
    "now.datetime"
   ]
  },
  {
   "cell_type": "markdown",
   "id": "502667f1-1a21-438d-9aac-06714292dcad",
   "metadata": {},
   "source": [
    "And to get a naive datetime (i.e. dropping the timezone info), we use the `.naive` property:"
   ]
  },
  {
   "cell_type": "code",
   "execution_count": 6,
   "id": "013d9731-be0e-4b54-bc61-f5c4ba73e654",
   "metadata": {},
   "outputs": [
    {
     "data": {
      "text/plain": [
       "datetime.datetime(2024, 3, 19, 5, 23, 49, 322622)"
      ]
     },
     "execution_count": 6,
     "metadata": {},
     "output_type": "execute_result"
    }
   ],
   "source": [
    "now.naive"
   ]
  },
  {
   "cell_type": "markdown",
   "id": "aca96bc1-c71e-4494-969e-86fd47e16501",
   "metadata": {},
   "source": [
    "You can also easily extract just the timezone info from an Arrow object:"
   ]
  },
  {
   "cell_type": "code",
   "execution_count": 7,
   "id": "91f168de-81c1-45ed-8b8b-8524e68473b3",
   "metadata": {},
   "outputs": [
    {
     "data": {
      "text/plain": [
       "tzutc()"
      ]
     },
     "execution_count": 7,
     "metadata": {},
     "output_type": "execute_result"
    }
   ],
   "source": [
    "now.tzinfo"
   ]
  },
  {
   "cell_type": "markdown",
   "id": "9575f9b3-5042-4184-aa2b-24a4af4eddcc",
   "metadata": {},
   "source": [
    "You can also create Arrow objects using the same arguments as you would with `datetime`:"
   ]
  },
  {
   "cell_type": "code",
   "execution_count": 8,
   "id": "61030381-a51d-42bb-9f31-4de991ff83f8",
   "metadata": {},
   "outputs": [
    {
     "data": {
      "text/plain": [
       "<Arrow [2024-03-18T22:00:00+00:00]>"
      ]
     },
     "execution_count": 8,
     "metadata": {},
     "output_type": "execute_result"
    }
   ],
   "source": [
    "dt = arrow.Arrow(2024, 3, 18, 22, 0, 0)\n",
    "dt"
   ]
  },
  {
   "cell_type": "markdown",
   "id": "2481e4b1-21a2-4032-92d1-df6f7ffeb6e7",
   "metadata": {},
   "source": [
    "As you can see, Arrow will assume that a datetime created without specifying a timezone is in UTC."
   ]
  },
  {
   "cell_type": "markdown",
   "id": "75565f0a-3598-4ec3-a2da-59097d3c502c",
   "metadata": {},
   "source": [
    "Speaking of timezones..."
   ]
  },
  {
   "cell_type": "markdown",
   "id": "1b42fecd-e84d-437c-8e87-a2a4580cef76",
   "metadata": {},
   "source": [
    "# Dealing With Timezones"
   ]
  },
  {
   "cell_type": "markdown",
   "id": "f38a154e-d063-486b-9385-8afa857cd044",
   "metadata": {},
   "source": [
    "Arrow can easily deal with timezones as well, in a more straightforward fashion than `pytz`."
   ]
  },
  {
   "cell_type": "code",
   "execution_count": 9,
   "id": "9396a068-7254-4e94-9337-b6221d09bced",
   "metadata": {},
   "outputs": [
    {
     "data": {
      "text/plain": [
       "<Arrow [2024-03-19T00:23:49.337257-05:00]>"
      ]
     },
     "execution_count": 9,
     "metadata": {},
     "output_type": "execute_result"
    }
   ],
   "source": [
    "dt = arrow.now(\"US/Central\")\n",
    "dt"
   ]
  },
  {
   "cell_type": "markdown",
   "id": "fcf1b041-703b-4a76-9992-d32b65d3eb1b",
   "metadata": {},
   "source": [
    "Converting from one timezone to another is just as easy:"
   ]
  },
  {
   "cell_type": "code",
   "execution_count": 10,
   "id": "40b2bc3e-d331-4c46-af88-783bfc264353",
   "metadata": {},
   "outputs": [
    {
     "data": {
      "text/plain": [
       "<Arrow [2024-03-18T22:23:49.337257-07:00]>"
      ]
     },
     "execution_count": 10,
     "metadata": {},
     "output_type": "execute_result"
    }
   ],
   "source": [
    "dt.to(\"US/Pacific\")"
   ]
  },
  {
   "cell_type": "markdown",
   "id": "8e3db696-1b21-4eee-beb4-bd0a6553f739",
   "metadata": {},
   "source": [
    "If you've watched my videos or my courses, you now that my preferred approach to dealing with datetimes is to always transform any \"incoming\" datetimes into naive UTC datetimes, and only convert to some other timezone for \"outgoing\" data."
   ]
  },
  {
   "cell_type": "markdown",
   "id": "fbdbd9a3-efbd-46bd-b905-20d59ca2d88b",
   "metadata": {},
   "source": [
    "Doing this with Arrow is dead easy."
   ]
  },
  {
   "cell_type": "markdown",
   "id": "90d9fa8d-7123-4f4d-a78f-0fcf8d5c5adf",
   "metadata": {},
   "source": [
    "Let's say our \"incoming\" data is a string such as this:"
   ]
  },
  {
   "cell_type": "code",
   "execution_count": 11,
   "id": "7ac71995-a129-4aba-9e75-88d134380ab5",
   "metadata": {},
   "outputs": [],
   "source": [
    "dt_input = \"2024-03-18T20:30:00-07:00\""
   ]
  },
  {
   "cell_type": "markdown",
   "id": "bf46af1f-43f1-473d-a985-4fef123f3bd7",
   "metadata": {},
   "source": [
    "We can convert that into a naive UTC datetime this way:"
   ]
  },
  {
   "cell_type": "code",
   "execution_count": 12,
   "id": "762737fe-aa11-4182-b0a3-57c49d3bc66a",
   "metadata": {},
   "outputs": [
    {
     "data": {
      "text/plain": [
       "datetime.datetime(2024, 3, 19, 3, 30)"
      ]
     },
     "execution_count": 12,
     "metadata": {},
     "output_type": "execute_result"
    }
   ],
   "source": [
    "dt = arrow.get(dt_input).to(\"UTC\").naive\n",
    "dt"
   ]
  },
  {
   "cell_type": "markdown",
   "id": "21302e99-9b3e-4fb5-8658-0652642ed0b7",
   "metadata": {},
   "source": [
    "## Formatting Datetimes"
   ]
  },
  {
   "cell_type": "markdown",
   "id": "8c4dd27d-365b-420a-9c8d-cd61f848ca4b",
   "metadata": {},
   "source": [
    "As we know, Python's datetime objects support the `strftime` method, where we can supply a specific format to use, using a variety of possible tokens.\n",
    "\n",
    "The tokens for Python's formatting can be found [here](https://docs.python.org/3/library/datetime.html#strftime-and-strptime-format-codes)"
   ]
  },
  {
   "cell_type": "markdown",
   "id": "7bcfe5d5-b719-4d85-8019-e92295e96498",
   "metadata": {},
   "source": [
    "For example:"
   ]
  },
  {
   "cell_type": "code",
   "execution_count": 13,
   "id": "6978f0c1-83cb-4309-9477-c1fed8d8ed77",
   "metadata": {},
   "outputs": [
    {
     "data": {
      "text/plain": [
       "datetime.datetime(2024, 3, 5, 20, 30, tzinfo=<DstTzInfo 'America/Phoenix' MST-1 day, 17:00:00 STD>)"
      ]
     },
     "execution_count": 13,
     "metadata": {},
     "output_type": "execute_result"
    }
   ],
   "source": [
    "dt = pytz.timezone(\"America/Phoenix\").localize(datetime.datetime(2024, 3, 5, 20, 30))\n",
    "dt"
   ]
  },
  {
   "cell_type": "code",
   "execution_count": 14,
   "id": "312db5b9-f8fd-49ad-9828-0dac9c8d8553",
   "metadata": {},
   "outputs": [
    {
     "data": {
      "text/plain": [
       "'Mar 05, 2024 (08:30 PM MST)'"
      ]
     },
     "execution_count": 14,
     "metadata": {},
     "output_type": "execute_result"
    }
   ],
   "source": [
    "dt.strftime(\"%b %d, %Y (%I:%M %p %Z)\")"
   ]
  },
  {
   "cell_type": "markdown",
   "id": "9b5e9b83-9191-40e8-b2ca-a24f058fd586",
   "metadata": {},
   "source": [
    "I am unaware if there even is a format token we can use to output a non-zero padded day, or month for that matter)."
   ]
  },
  {
   "cell_type": "markdown",
   "id": "42103bde-cee6-415b-b90d-aa4413d08ff7",
   "metadata": {},
   "source": [
    "Also, I don't know about you, but I constantly have to hunt down that list of tokens as I never remember them."
   ]
  },
  {
   "cell_type": "markdown",
   "id": "6f0b28da-b302-4fa5-901e-31128c798c93",
   "metadata": {},
   "source": [
    "Arrow also has a formatting function, and utilizes a far more intuitive set of tokens.\n",
    "\n",
    "These are available [here](https://arrow.readthedocs.io/en/latest/guide.html#supported-tokens)"
   ]
  },
  {
   "cell_type": "code",
   "execution_count": 15,
   "id": "712f61cc-dfef-49ba-90d9-4ab3af9c11c9",
   "metadata": {},
   "outputs": [
    {
     "data": {
      "text/plain": [
       "<Arrow [2024-03-05T20:30:00-07:00]>"
      ]
     },
     "execution_count": 15,
     "metadata": {},
     "output_type": "execute_result"
    }
   ],
   "source": [
    "dt = arrow.Arrow(2024, 3, 5, 20, 30, tzinfo=pytz.timezone(\"America/Phoenix\"))\n",
    "dt"
   ]
  },
  {
   "cell_type": "markdown",
   "id": "dad132f6-9ab4-4d72-9a3d-6fe9fbd45046",
   "metadata": {},
   "source": [
    "Let's output the same thing as above:"
   ]
  },
  {
   "cell_type": "code",
   "execution_count": 16,
   "id": "8ad2b84e-5eb2-42ab-a9ca-8337be4854bf",
   "metadata": {},
   "outputs": [
    {
     "data": {
      "text/plain": [
       "'Mar 5, 2024 (8:30 PM MST)'"
      ]
     },
     "execution_count": 16,
     "metadata": {},
     "output_type": "execute_result"
    }
   ],
   "source": [
    "dt.format(\"MMM D, YYYY (h:mm A ZZZ)\")"
   ]
  },
  {
   "cell_type": "markdown",
   "id": "9319f5ab-4ad5-4433-9507-262ddce38734",
   "metadata": {},
   "source": [
    "To me, Arrow is way more intuitive than Python's implementation."
   ]
  },
  {
   "cell_type": "markdown",
   "id": "4610050b-d1dd-482f-a00c-2c7de1881716",
   "metadata": {},
   "source": [
    "Firthermore, Python has a single \"standard\" ISO output formatting:"
   ]
  },
  {
   "cell_type": "code",
   "execution_count": 17,
   "id": "3a30d4db-8c51-4ab5-98a6-2ce1c142a6d3",
   "metadata": {},
   "outputs": [
    {
     "data": {
      "text/plain": [
       "'2024-03-05T20:30:00-07:00'"
      ]
     },
     "execution_count": 17,
     "metadata": {},
     "output_type": "execute_result"
    }
   ],
   "source": [
    "dt.datetime.isoformat()"
   ]
  },
  {
   "cell_type": "markdown",
   "id": "6a6f6951-a25e-44ed-aa89-5dbb4b7985c0",
   "metadata": {},
   "source": [
    "Arrow, on the other hand, has a few more, documented [here](https://arrow.readthedocs.io/en/latest/guide.html#built-in-formats)"
   ]
  },
  {
   "cell_type": "markdown",
   "id": "a64d6fd2-ee25-4d7f-bc86-654ae4cc1a0b",
   "metadata": {},
   "source": [
    "For the plain ISO format Python provides, Arrow also supports it:"
   ]
  },
  {
   "cell_type": "code",
   "execution_count": 18,
   "id": "3e644079-6d77-4b7c-87aa-704408140fd6",
   "metadata": {},
   "outputs": [
    {
     "data": {
      "text/plain": [
       "'2024-03-05T20:30:00-07:00'"
      ]
     },
     "execution_count": 18,
     "metadata": {},
     "output_type": "execute_result"
    }
   ],
   "source": [
    "dt.isoformat()"
   ]
  },
  {
   "cell_type": "markdown",
   "id": "033a6053-540d-4f62-8625-31da90762ea1",
   "metadata": {},
   "source": [
    "However, we can use alternate pre-define standards as well:"
   ]
  },
  {
   "cell_type": "code",
   "execution_count": 19,
   "id": "fd083b57-78de-4c33-8d26-2c8592f21e32",
   "metadata": {},
   "outputs": [
    {
     "data": {
      "text/plain": [
       "'Tuesday, 05-Mar-2024 20:30:00 MST'"
      ]
     },
     "execution_count": 19,
     "metadata": {},
     "output_type": "execute_result"
    }
   ],
   "source": [
    "dt.format(arrow.FORMAT_COOKIE)"
   ]
  },
  {
   "cell_type": "code",
   "execution_count": 20,
   "id": "12e0c64a-c042-4b18-aa41-76c328132554",
   "metadata": {},
   "outputs": [
    {
     "data": {
      "text/plain": [
       "'2024-03-05 20:30:00-07:00'"
      ]
     },
     "execution_count": 20,
     "metadata": {},
     "output_type": "execute_result"
    }
   ],
   "source": [
    "dt.format(arrow.FORMAT_W3C)"
   ]
  },
  {
   "cell_type": "markdown",
   "id": "0bbbd0fb-21e3-4fca-8ba8-b116014f3156",
   "metadata": {},
   "source": [
    "## Date Arithmetic"
   ]
  },
  {
   "cell_type": "markdown",
   "id": "879dd96c-b630-4c0d-b555-b26486fd9d23",
   "metadata": {},
   "source": [
    "As we already know, we can perform various date arithmetic in Python (safest is to always use UTC aware or naive timestamps as Python historically has not handled date arithmetic with DST and timezones very well - maybe that has changed, but I wouldn't know!)"
   ]
  },
  {
   "cell_type": "code",
   "execution_count": 21,
   "id": "c388b039-7d8b-4e52-964f-0c61a6651c18",
   "metadata": {},
   "outputs": [
    {
     "data": {
      "text/plain": [
       "datetime.datetime(2024, 3, 19, 5, 23, 49, 388313, tzinfo=datetime.timezone.utc)"
      ]
     },
     "execution_count": 21,
     "metadata": {},
     "output_type": "execute_result"
    }
   ],
   "source": [
    "dt = datetime.datetime.now(datetime.UTC)\n",
    "dt"
   ]
  },
  {
   "cell_type": "code",
   "execution_count": 22,
   "id": "d6e2270d-189c-4249-ae38-27c5b04a318c",
   "metadata": {},
   "outputs": [
    {
     "data": {
      "text/plain": [
       "datetime.datetime(2024, 3, 22, 5, 23, 49, 388313, tzinfo=datetime.timezone.utc)"
      ]
     },
     "execution_count": 22,
     "metadata": {},
     "output_type": "execute_result"
    }
   ],
   "source": [
    "dt + datetime.timedelta(days=3)"
   ]
  },
  {
   "cell_type": "markdown",
   "id": "053ab8ff-ce11-4c8b-b7f3-6e4527d5f196",
   "metadata": {},
   "source": [
    "`timedelta` objects are limited to parameters such as weeks, days, hours, ..., milliseconds. No, years or months are supported."
   ]
  },
  {
   "cell_type": "markdown",
   "id": "6ab22881-388b-4455-b262-f7c74fdd8e21",
   "metadata": {},
   "source": [
    "Arrow also has a way to deal with shifting times, but which will also allow months and years."
   ]
  },
  {
   "cell_type": "code",
   "execution_count": 23,
   "id": "8566d8da-f601-41a4-b268-852ef06c42fb",
   "metadata": {},
   "outputs": [
    {
     "data": {
      "text/plain": [
       "<Arrow [2024-03-19T05:23:49.394109+00:00]>"
      ]
     },
     "execution_count": 23,
     "metadata": {},
     "output_type": "execute_result"
    }
   ],
   "source": [
    "dt = arrow.utcnow()\n",
    "dt"
   ]
  },
  {
   "cell_type": "code",
   "execution_count": 24,
   "id": "8b5326fb-e2b5-43e9-b509-45eec705593b",
   "metadata": {},
   "outputs": [
    {
     "data": {
      "text/plain": [
       "<Arrow [2025-04-22T06:43:49.394109+00:00]>"
      ]
     },
     "execution_count": 24,
     "metadata": {},
     "output_type": "execute_result"
    }
   ],
   "source": [
    "dt.shift(months=1, days=3, years=1, hours=1, minutes=20)"
   ]
  },
  {
   "cell_type": "markdown",
   "id": "013bf66e-89a1-42ac-ad51-466dff3e7c29",
   "metadata": {},
   "source": [
    "And it even handles DST changes just fine. \n",
    "\n",
    "For example:"
   ]
  },
  {
   "cell_type": "code",
   "execution_count": 25,
   "id": "a5ff378d-a4e9-4591-88ac-6d658546dfea",
   "metadata": {},
   "outputs": [
    {
     "data": {
      "text/plain": [
       "<Arrow [2024-03-19T00:23:49.400068-05:00]>"
      ]
     },
     "execution_count": 25,
     "metadata": {},
     "output_type": "execute_result"
    }
   ],
   "source": [
    "dt = arrow.now(\"US/Central\")\n",
    "dt"
   ]
  },
  {
   "cell_type": "markdown",
   "id": "2afe8512-266d-4cfb-98e4-729f542a5c48",
   "metadata": {},
   "source": [
    "At this time of year, DST is active, as we can see this way:"
   ]
  },
  {
   "cell_type": "code",
   "execution_count": 26,
   "id": "939d050c-9557-4107-8428-4ca6eabc6489",
   "metadata": {},
   "outputs": [
    {
     "data": {
      "text/plain": [
       "datetime.timedelta(seconds=3600)"
      ]
     },
     "execution_count": 26,
     "metadata": {},
     "output_type": "execute_result"
    }
   ],
   "source": [
    "dt.dst()"
   ]
  },
  {
   "cell_type": "markdown",
   "id": "1f8df863-e581-448c-b2b6-2b03e6f68964",
   "metadata": {},
   "source": [
    "If we had a datetime when DST was not active, we would see a timedelta of `0`:"
   ]
  },
  {
   "cell_type": "code",
   "execution_count": 27,
   "id": "fcd05232-23ab-4a41-9af3-545752657d63",
   "metadata": {},
   "outputs": [
    {
     "data": {
      "text/plain": [
       "datetime.timedelta(0)"
      ]
     },
     "execution_count": 27,
     "metadata": {},
     "output_type": "execute_result"
    }
   ],
   "source": [
    "arrow.get(datetime.datetime(2023, 12, 15, 3), \"US/Central\").dst()"
   ]
  },
  {
   "cell_type": "markdown",
   "id": "f5c27eca-8347-4727-9e94-e4457bc6505d",
   "metadata": {},
   "source": [
    "Back to our example, and let's see how Arrow handles a DST change when we add `8` months to our date:"
   ]
  },
  {
   "cell_type": "code",
   "execution_count": 28,
   "id": "9c352ae8-15a5-4232-9096-6b01cec9215d",
   "metadata": {},
   "outputs": [
    {
     "data": {
      "text/plain": [
       "<Arrow [2024-03-19T00:23:49.400068-05:00]>"
      ]
     },
     "execution_count": 28,
     "metadata": {},
     "output_type": "execute_result"
    }
   ],
   "source": [
    "dt"
   ]
  },
  {
   "cell_type": "code",
   "execution_count": 29,
   "id": "16ed48cb-6647-491e-856e-ba0d44625261",
   "metadata": {},
   "outputs": [
    {
     "data": {
      "text/plain": [
       "<Arrow [2024-11-19T00:23:49.400068-06:00]>"
      ]
     },
     "execution_count": 29,
     "metadata": {},
     "output_type": "execute_result"
    }
   ],
   "source": [
    "dt.shift(months=8)"
   ]
  },
  {
   "cell_type": "markdown",
   "id": "31c5a5b3-25a3-45f9-b342-97c1e4b7f742",
   "metadata": {},
   "source": [
    "Notice how the UTC offset has changed!"
   ]
  },
  {
   "cell_type": "markdown",
   "id": "4c50381c-0c3d-4192-8b52-63a199971bfa",
   "metadata": {},
   "source": [
    "## Floor, Ceiling"
   ]
  },
  {
   "cell_type": "markdown",
   "id": "fd481055-3159-40b0-936e-613e063b6c2a",
   "metadata": {},
   "source": [
    "Ever needed to get the \"start\" time of a day?"
   ]
  },
  {
   "cell_type": "markdown",
   "id": "a6c972d9-117b-4573-beb0-9a4d65e894ec",
   "metadata": {},
   "source": [
    "Arrow, makes this super easy:"
   ]
  },
  {
   "cell_type": "code",
   "execution_count": 30,
   "id": "15b01823-ad28-4899-ad4a-2a96b8f05e4b",
   "metadata": {},
   "outputs": [
    {
     "data": {
      "text/plain": [
       "<Arrow [2024-03-19T00:23:49.400068-05:00]>"
      ]
     },
     "execution_count": 30,
     "metadata": {},
     "output_type": "execute_result"
    }
   ],
   "source": [
    "dt"
   ]
  },
  {
   "cell_type": "code",
   "execution_count": 31,
   "id": "7138d93b-6bbe-4b5f-8565-353ae66efee7",
   "metadata": {},
   "outputs": [
    {
     "data": {
      "text/plain": [
       "<Arrow [2024-03-19T00:00:00-05:00]>"
      ]
     },
     "execution_count": 31,
     "metadata": {},
     "output_type": "execute_result"
    }
   ],
   "source": [
    "dt.floor('day')"
   ]
  },
  {
   "cell_type": "markdown",
   "id": "2449cbed-c6b7-4b7d-b80e-5bde41f98252",
   "metadata": {},
   "source": [
    "Or maybe the start of the hour instead:"
   ]
  },
  {
   "cell_type": "code",
   "execution_count": 32,
   "id": "8a4242be-90a7-4975-995f-527543f6aacd",
   "metadata": {},
   "outputs": [
    {
     "data": {
      "text/plain": [
       "<Arrow [2024-03-19T00:00:00-05:00]>"
      ]
     },
     "execution_count": 32,
     "metadata": {},
     "output_type": "execute_result"
    }
   ],
   "source": [
    "dt.floor('hour')"
   ]
  },
  {
   "cell_type": "markdown",
   "id": "158a8438-8b8f-4952-9063-4bce65988bae",
   "metadata": {},
   "source": [
    "or the start year:"
   ]
  },
  {
   "cell_type": "code",
   "execution_count": 33,
   "id": "57f0e1d8-5e09-42b6-a3c8-60b431a56407",
   "metadata": {},
   "outputs": [
    {
     "data": {
      "text/plain": [
       "<Arrow [2024-01-01T00:00:00-06:00]>"
      ]
     },
     "execution_count": 33,
     "metadata": {},
     "output_type": "execute_result"
    }
   ],
   "source": [
    "dt.floor('year')"
   ]
  },
  {
   "cell_type": "markdown",
   "id": "844d4589-2914-436f-8d3a-c62ab86cfcf4",
   "metadata": {},
   "source": [
    "Same goes with the \"end\" of day, month, etc."
   ]
  },
  {
   "cell_type": "code",
   "execution_count": 34,
   "id": "0e7c3037-647f-465b-868d-35b36e1e4083",
   "metadata": {},
   "outputs": [
    {
     "data": {
      "text/plain": [
       "<Arrow [2024-03-31T23:59:59.999999-05:00]>"
      ]
     },
     "execution_count": 34,
     "metadata": {},
     "output_type": "execute_result"
    }
   ],
   "source": [
    "dt.ceil('month')"
   ]
  },
  {
   "cell_type": "markdown",
   "id": "8b5b3bdd-0a96-448d-9e3e-f439f096eefd",
   "metadata": {},
   "source": [
    "Notice that it even supports DST changes."
   ]
  },
  {
   "cell_type": "markdown",
   "id": "ff5ea231-f056-4138-8075-eec2593cac3e",
   "metadata": {},
   "source": [
    "## Spans"
   ]
  },
  {
   "cell_type": "markdown",
   "id": "b76b377f-0cc0-4529-b1c7-122c019ab7af",
   "metadata": {},
   "source": [
    "Another very common operation is to find a beginning and end datetime given some starting datetime and criteria."
   ]
  },
  {
   "cell_type": "markdown",
   "id": "e678ee77-e3eb-4571-8fea-314c860ed83e",
   "metadata": {},
   "source": [
    "For example, suppose we want to find the quarter that encloses some specific datetime."
   ]
  },
  {
   "cell_type": "code",
   "execution_count": 35,
   "id": "1ded3ed2-c811-41dd-b7f7-1af8878bfea2",
   "metadata": {},
   "outputs": [
    {
     "data": {
      "text/plain": [
       "<Arrow [2024-03-19T00:23:49.400068-05:00]>"
      ]
     },
     "execution_count": 35,
     "metadata": {},
     "output_type": "execute_result"
    }
   ],
   "source": [
    "dt"
   ]
  },
  {
   "cell_type": "code",
   "execution_count": 36,
   "id": "e09a34cf-6acd-4f13-8dc8-545a5fb0cf2c",
   "metadata": {},
   "outputs": [
    {
     "data": {
      "text/plain": [
       "(<Arrow [2024-01-01T00:00:00-06:00]>,\n",
       " <Arrow [2024-03-31T23:59:59.999999-05:00]>)"
      ]
     },
     "execution_count": 36,
     "metadata": {},
     "output_type": "execute_result"
    }
   ],
   "source": [
    "dt.span('quarter')"
   ]
  },
  {
   "cell_type": "markdown",
   "id": "811a76f1-52a6-4581-871b-d8f7ad20e290",
   "metadata": {},
   "source": [
    "Or maybe just the month that encloses our datetime:"
   ]
  },
  {
   "cell_type": "code",
   "execution_count": 37,
   "id": "cb453ad2-0870-43ff-bab2-7a40cd7bcc3a",
   "metadata": {},
   "outputs": [
    {
     "data": {
      "text/plain": [
       "(<Arrow [2024-03-01T00:00:00-06:00]>,\n",
       " <Arrow [2024-03-31T23:59:59.999999-05:00]>)"
      ]
     },
     "execution_count": 37,
     "metadata": {},
     "output_type": "execute_result"
    }
   ],
   "source": [
    "dt.span('month')"
   ]
  },
  {
   "cell_type": "markdown",
   "id": "4ff456af-22f9-47af-b264-8e2da6c3be24",
   "metadata": {},
   "source": [
    "How easy was this!!"
   ]
  },
  {
   "cell_type": "markdown",
   "id": "f04053b1-e8a9-48ee-a2e6-fbc9f99ace9c",
   "metadata": {},
   "source": [
    "## Ranges"
   ]
  },
  {
   "cell_type": "markdown",
   "id": "9267ec7f-6843-43c6-a230-53e45d64ee06",
   "metadata": {},
   "source": [
    "This is related to spans.\n",
    "\n",
    "Often we have a start and end date, and we want to iterate in some step size (be it hourly, daily, etc) between those two dates.\n",
    "\n",
    "Let's see how to do this:"
   ]
  },
  {
   "cell_type": "code",
   "execution_count": 38,
   "id": "7fb09126-4836-480a-a341-bfdd0cd5a44f",
   "metadata": {},
   "outputs": [],
   "source": [
    "start_dt = arrow.get(datetime.datetime(2023, 1, 10, 3, 30), \"US/Central\")\n",
    "end_dt = arrow.get(datetime.datetime(2023, 1, 15, 0, 0), \"US/Central\")"
   ]
  },
  {
   "cell_type": "code",
   "execution_count": 39,
   "id": "4772aaeb-da19-4e59-a78d-899187d272cf",
   "metadata": {},
   "outputs": [
    {
     "name": "stdout",
     "output_type": "stream",
     "text": [
      "2023-01-10T03:30:00-06:00\n",
      "2023-01-11T03:30:00-06:00\n",
      "2023-01-12T03:30:00-06:00\n",
      "2023-01-13T03:30:00-06:00\n",
      "2023-01-14T03:30:00-06:00\n"
     ]
    }
   ],
   "source": [
    "for dt in arrow.Arrow.range('day', start_dt, end_dt):\n",
    "    print(dt)"
   ]
  },
  {
   "cell_type": "markdown",
   "id": "5d484766-d538-4e7c-9fbd-3513263c4d94",
   "metadata": {},
   "source": [
    "Notice how it did not include the \"last day\" in this output - because the end time ealier than what would have been the last day."
   ]
  },
  {
   "cell_type": "code",
   "execution_count": 40,
   "id": "cdcf9c97-964b-4f67-a6ef-55ab8cd4fd71",
   "metadata": {},
   "outputs": [
    {
     "name": "stdout",
     "output_type": "stream",
     "text": [
      "2023-01-10T03:30:00-06:00\n",
      "2023-01-11T03:30:00-06:00\n",
      "2023-01-12T03:30:00-06:00\n",
      "2023-01-13T03:30:00-06:00\n",
      "2023-01-14T03:30:00-06:00\n",
      "2023-01-15T03:30:00-06:00\n"
     ]
    }
   ],
   "source": [
    "start_dt = arrow.get(datetime.datetime(2023, 1, 10, 3, 30), \"US/Central\")\n",
    "end_dt = arrow.get(datetime.datetime(2023, 1, 15, 5, 0), \"US/Central\")\n",
    "\n",
    "for dt in arrow.Arrow.range('day', start_dt, end_dt):\n",
    "    print(dt)"
   ]
  },
  {
   "cell_type": "markdown",
   "id": "0cfaa1f4-56ce-4ccb-af13-58c4431c0890",
   "metadata": {},
   "source": [
    "Now it's included..."
   ]
  },
  {
   "cell_type": "markdown",
   "id": "92da7c9f-099d-4bdb-9f17-0e0b2b0e29f6",
   "metadata": {},
   "source": [
    "Notice how it just kept the same time as the start time, and incremented days one by one."
   ]
  },
  {
   "cell_type": "markdown",
   "id": "94ae8909-8dc8-4a54-b613-e13191f14a56",
   "metadata": {},
   "source": [
    "If we wanted to, we could change to the start of each day by using the `floor()` and `ceil()` methods we just saw:"
   ]
  },
  {
   "cell_type": "code",
   "execution_count": 41,
   "id": "cc51d61b-4ab6-404a-b990-47c9d5cbcb20",
   "metadata": {},
   "outputs": [
    {
     "name": "stdout",
     "output_type": "stream",
     "text": [
      "2023-01-10T00:00:00-06:00\n",
      "2023-01-11T00:00:00-06:00\n",
      "2023-01-12T00:00:00-06:00\n",
      "2023-01-13T00:00:00-06:00\n",
      "2023-01-14T00:00:00-06:00\n",
      "2023-01-15T00:00:00-06:00\n"
     ]
    }
   ],
   "source": [
    "for dt in arrow.Arrow.range('day', start_dt.floor('day'), end_dt.ceil('day')):\n",
    "    print(dt)"
   ]
  },
  {
   "cell_type": "markdown",
   "id": "91ac2ecd-1969-40d6-b2f2-37f2eb16c93e",
   "metadata": {},
   "source": [
    "And we could actually iterate through each day, getting the start/end of each day in our iteration quite easily:"
   ]
  },
  {
   "cell_type": "code",
   "execution_count": 42,
   "id": "2153fe40-e88c-48f8-a7af-1c992ab119eb",
   "metadata": {},
   "outputs": [
    {
     "name": "stdout",
     "output_type": "stream",
     "text": [
      "2023-01-10T00:00:00-06:00 - 2023-01-10T23:59:59.999999-06:00\n",
      "2023-01-11T00:00:00-06:00 - 2023-01-11T23:59:59.999999-06:00\n",
      "2023-01-12T00:00:00-06:00 - 2023-01-12T23:59:59.999999-06:00\n",
      "2023-01-13T00:00:00-06:00 - 2023-01-13T23:59:59.999999-06:00\n",
      "2023-01-14T00:00:00-06:00 - 2023-01-14T23:59:59.999999-06:00\n",
      "2023-01-15T00:00:00-06:00 - 2023-01-15T23:59:59.999999-06:00\n"
     ]
    }
   ],
   "source": [
    "for dt in arrow.Arrow.range('day', start_dt.floor('day'), end_dt.ceil('day')):\n",
    "    print(dt.floor('day'), \"-\", dt.ceil('day'))"
   ]
  },
  {
   "cell_type": "markdown",
   "id": "af14d09b-0067-4701-8dbb-d3dedaec5d50",
   "metadata": {},
   "source": [
    "But Arrow has this particular use case covered as well:"
   ]
  },
  {
   "cell_type": "code",
   "execution_count": 43,
   "id": "f22ed639-c43f-4dea-bd92-5b846863f0f7",
   "metadata": {},
   "outputs": [
    {
     "name": "stdout",
     "output_type": "stream",
     "text": [
      "2023-01-10T00:00:00-06:00 - 2023-01-10T23:59:59.999999-06:00\n",
      "2023-01-11T00:00:00-06:00 - 2023-01-11T23:59:59.999999-06:00\n",
      "2023-01-12T00:00:00-06:00 - 2023-01-12T23:59:59.999999-06:00\n",
      "2023-01-13T00:00:00-06:00 - 2023-01-13T23:59:59.999999-06:00\n",
      "2023-01-14T00:00:00-06:00 - 2023-01-14T23:59:59.999999-06:00\n",
      "2023-01-15T00:00:00-06:00 - 2023-01-15T23:59:59.999999-06:00\n"
     ]
    }
   ],
   "source": [
    "for dt in arrow.Arrow.span_range('day', start_dt, end_dt):\n",
    "    print(dt[0], \"-\", dt[1])"
   ]
  },
  {
   "cell_type": "markdown",
   "id": "eddc714d-b51a-4faf-a6cb-3bb63412ad31",
   "metadata": {},
   "source": [
    "And of course, I've only looked at `day` here, but you also have all the other frames available such as `year`, `quarter`, etc."
   ]
  },
  {
   "cell_type": "markdown",
   "id": "1289e1ee-6cbe-4203-a816-806102c30b95",
   "metadata": {},
   "source": [
    "## Humanizing and Localization"
   ]
  },
  {
   "cell_type": "markdown",
   "id": "35ac8095-3fff-4f78-8148-be0d7c29f627",
   "metadata": {},
   "source": [
    "Last thing i want to touch on is humanizing dates.\n",
    "\n",
    "Let's start by creating some datetimes that are two hours in the future and to hours in the past."
   ]
  },
  {
   "cell_type": "code",
   "execution_count": 55,
   "id": "43745983-af61-4d3d-add8-e8b3e59a7b0c",
   "metadata": {},
   "outputs": [
    {
     "data": {
      "text/plain": [
       "(<Arrow [2024-03-19T03:24:07.958542+00:00]>,\n",
       " <Arrow [2024-03-19T05:24:07.958542+00:00]>,\n",
       " <Arrow [2024-03-19T07:24:07.958542+00:00]>)"
      ]
     },
     "execution_count": 55,
     "metadata": {},
     "output_type": "execute_result"
    }
   ],
   "source": [
    "dt_now = arrow.Arrow.utcnow()\n",
    "dt_past = dt_now.shift(hours=-2)\n",
    "dt_future = dt_now.shift(hours=2)\n",
    "\n",
    "dt_past, dt_now, dt_future"
   ]
  },
  {
   "cell_type": "markdown",
   "id": "4c2dad55-c4f4-4f55-8ab6-47cd1c4eaac6",
   "metadata": {},
   "source": [
    "For display purposes, we may want to provide a fuzzy approximate representation of these dates relative to now."
   ]
  },
  {
   "cell_type": "code",
   "execution_count": 56,
   "id": "4f42ceeb-66b1-4639-b71f-2eedf9db5ac8",
   "metadata": {},
   "outputs": [
    {
     "data": {
      "text/plain": [
       "'2 hours ago'"
      ]
     },
     "execution_count": 56,
     "metadata": {},
     "output_type": "execute_result"
    }
   ],
   "source": [
    "dt_past.humanize()"
   ]
  },
  {
   "cell_type": "code",
   "execution_count": 57,
   "id": "779b5461-4a94-455a-8c5d-229c4ca35fe6",
   "metadata": {},
   "outputs": [
    {
     "data": {
      "text/plain": [
       "'in an hour'"
      ]
     },
     "execution_count": 57,
     "metadata": {},
     "output_type": "execute_result"
    }
   ],
   "source": [
    "dt_future.humanize()"
   ]
  },
  {
   "cell_type": "markdown",
   "id": "2f6eb38e-f00b-4586-af7d-70f2040bfc8f",
   "metadata": {},
   "source": [
    "We can even specify what the relative time is (instead of just current time):"
   ]
  },
  {
   "cell_type": "code",
   "execution_count": 58,
   "id": "4a33bb26-6acf-4e5d-87a8-aa7af5b4c95a",
   "metadata": {},
   "outputs": [
    {
     "data": {
      "text/plain": [
       "'2 hours ago'"
      ]
     },
     "execution_count": 58,
     "metadata": {},
     "output_type": "execute_result"
    }
   ],
   "source": [
    "dt_past.humanize(dt_now)"
   ]
  },
  {
   "cell_type": "code",
   "execution_count": 59,
   "id": "0f4d1141-9a80-4a40-90b4-9b805c950fa5",
   "metadata": {},
   "outputs": [
    {
     "data": {
      "text/plain": [
       "'in 2 hours'"
      ]
     },
     "execution_count": 59,
     "metadata": {},
     "output_type": "execute_result"
    }
   ],
   "source": [
    "dt_future.humanize(dt_now)"
   ]
  },
  {
   "cell_type": "markdown",
   "id": "d2b1246f-f931-4c18-99f6-eda56072be1c",
   "metadata": {},
   "source": [
    "We can also change the granularity of the humanized string:"
   ]
  },
  {
   "cell_type": "code",
   "execution_count": 60,
   "id": "cc0730a1-e09c-48d2-a0ce-958278e2101a",
   "metadata": {},
   "outputs": [
    {
     "data": {
      "text/plain": [
       "'in 119 minutes'"
      ]
     },
     "execution_count": 60,
     "metadata": {},
     "output_type": "execute_result"
    }
   ],
   "source": [
    "dt_future.humanize(granularity=\"minute\")"
   ]
  },
  {
   "cell_type": "markdown",
   "id": "dad6532f-0074-467b-a9f0-5a2073f59fa5",
   "metadata": {},
   "source": [
    "or even using multiple granularities:"
   ]
  },
  {
   "cell_type": "code",
   "execution_count": 61,
   "id": "d71a81a0-e018-460f-a4fe-592493df3f32",
   "metadata": {},
   "outputs": [
    {
     "data": {
      "text/plain": [
       "'in an hour and 59 minutes'"
      ]
     },
     "execution_count": 61,
     "metadata": {},
     "output_type": "execute_result"
    }
   ],
   "source": [
    "dt_future.humanize(granularity=[\"hour\", \"minute\"])"
   ]
  },
  {
   "cell_type": "markdown",
   "id": "2a6ce555-b066-4113-82f2-146807d43887",
   "metadata": {},
   "source": [
    "and of course we can also specify the relative date:"
   ]
  },
  {
   "cell_type": "code",
   "execution_count": 62,
   "id": "4f527978-86b6-48de-ad82-904180de78db",
   "metadata": {},
   "outputs": [
    {
     "data": {
      "text/plain": [
       "'in 2 hours and 0 minutes'"
      ]
     },
     "execution_count": 62,
     "metadata": {},
     "output_type": "execute_result"
    }
   ],
   "source": [
    "dt_future.humanize(dt_now, granularity=[\"hour\", \"minute\"])"
   ]
  },
  {
   "cell_type": "markdown",
   "id": "dd49c98d-c60d-4312-83d1-98560991ef33",
   "metadata": {},
   "source": [
    "Furthermore, humanizations support multiple locales.\n",
    "\n",
    "For example:"
   ]
  },
  {
   "cell_type": "code",
   "execution_count": 63,
   "id": "371c17ff-7c8e-424c-96cc-dff60f86f2ba",
   "metadata": {},
   "outputs": [
    {
     "data": {
      "text/plain": [
       "'dans une heure et 59 minutes'"
      ]
     },
     "execution_count": 63,
     "metadata": {},
     "output_type": "execute_result"
    }
   ],
   "source": [
    "dt_future.humanize(granularity=[\"hour\", \"minute\"], locale=\"fr\")"
   ]
  },
  {
   "cell_type": "code",
   "execution_count": 64,
   "id": "5f6e2aff-13b4-4caf-9335-a01ed7cbc412",
   "metadata": {},
   "outputs": [
    {
     "data": {
      "text/plain": [
       "'एक घंटा 59 मिनट  बाद'"
      ]
     },
     "execution_count": 64,
     "metadata": {},
     "output_type": "execute_result"
    }
   ],
   "source": [
    "dt_future.humanize(granularity=[\"hour\", \"minute\"], locale=\"hi\")"
   ]
  },
  {
   "cell_type": "markdown",
   "id": "e5605dbd-74de-44c4-985e-5d4d52e0b5f4",
   "metadata": {},
   "source": [
    "A full list of currently implemented locales can be seen [here](https://github.com/arrow-py/arrow/blob/master/arrow/locales.py)"
   ]
  },
  {
   "cell_type": "markdown",
   "id": "f7217e08-7045-428f-9313-40babb659fea",
   "metadata": {},
   "source": [
    "or you can also get a list of them this way:"
   ]
  },
  {
   "cell_type": "code",
   "execution_count": 65,
   "id": "1cec5e13-f984-491e-8e9e-4eafed016d36",
   "metadata": {},
   "outputs": [
    {
     "data": {
      "text/plain": [
       "[('af', arrow.locales.AfrikaansLocale),\n",
       " ('af-nl', arrow.locales.AfrikaansLocale),\n",
       " ('am', arrow.locales.AmharicLocale),\n",
       " ('am-et', arrow.locales.AmharicLocale),\n",
       " ('ar', arrow.locales.ArabicLocale),\n",
       " ('ar-ae', arrow.locales.ArabicLocale),\n",
       " ('ar-bh', arrow.locales.ArabicLocale),\n",
       " ('ar-dj', arrow.locales.ArabicLocale),\n",
       " ('ar-dz', arrow.locales.AlgeriaTunisiaArabicLocale),\n",
       " ('ar-eg', arrow.locales.ArabicLocale),\n",
       " ('ar-eh', arrow.locales.ArabicLocale),\n",
       " ('ar-er', arrow.locales.ArabicLocale),\n",
       " ('ar-iq', arrow.locales.LevantArabicLocale),\n",
       " ('ar-jo', arrow.locales.LevantArabicLocale),\n",
       " ('ar-km', arrow.locales.ArabicLocale),\n",
       " ('ar-kw', arrow.locales.ArabicLocale),\n",
       " ('ar-lb', arrow.locales.LevantArabicLocale),\n",
       " ('ar-ly', arrow.locales.ArabicLocale),\n",
       " ('ar-ma', arrow.locales.MoroccoArabicLocale),\n",
       " ('ar-mr', arrow.locales.MauritaniaArabicLocale),\n",
       " ('ar-om', arrow.locales.ArabicLocale),\n",
       " ('ar-ps', arrow.locales.LevantArabicLocale),\n",
       " ('ar-qa', arrow.locales.ArabicLocale),\n",
       " ('ar-sa', arrow.locales.ArabicLocale),\n",
       " ('ar-sd', arrow.locales.ArabicLocale),\n",
       " ('ar-so', arrow.locales.ArabicLocale),\n",
       " ('ar-ss', arrow.locales.ArabicLocale),\n",
       " ('ar-sy', arrow.locales.LevantArabicLocale),\n",
       " ('ar-td', arrow.locales.ArabicLocale),\n",
       " ('ar-tn', arrow.locales.AlgeriaTunisiaArabicLocale),\n",
       " ('ar-ye', arrow.locales.ArabicLocale),\n",
       " ('az', arrow.locales.AzerbaijaniLocale),\n",
       " ('az-az', arrow.locales.AzerbaijaniLocale),\n",
       " ('be', arrow.locales.BelarusianLocale),\n",
       " ('be-by', arrow.locales.BelarusianLocale),\n",
       " ('bg', arrow.locales.BulgarianLocale),\n",
       " ('bg-bg', arrow.locales.BulgarianLocale),\n",
       " ('bn', arrow.locales.BengaliLocale),\n",
       " ('bn-bd', arrow.locales.BengaliLocale),\n",
       " ('bn-in', arrow.locales.BengaliLocale),\n",
       " ('ca', arrow.locales.CatalanLocale),\n",
       " ('ca-ad', arrow.locales.CatalanLocale),\n",
       " ('ca-es', arrow.locales.CatalanLocale),\n",
       " ('ca-fr', arrow.locales.CatalanLocale),\n",
       " ('ca-it', arrow.locales.CatalanLocale),\n",
       " ('cs', arrow.locales.CzechLocale),\n",
       " ('cs-cz', arrow.locales.CzechLocale),\n",
       " ('da', arrow.locales.DanishLocale),\n",
       " ('da-dk', arrow.locales.DanishLocale),\n",
       " ('de', arrow.locales.GermanLocale),\n",
       " ('de-at', arrow.locales.AustrianLocale),\n",
       " ('de-ch', arrow.locales.SwissLocale),\n",
       " ('de-de', arrow.locales.GermanLocale),\n",
       " ('ee', arrow.locales.EstonianLocale),\n",
       " ('el', arrow.locales.GreekLocale),\n",
       " ('el-gr', arrow.locales.GreekLocale),\n",
       " ('en', arrow.locales.EnglishLocale),\n",
       " ('en-au', arrow.locales.EnglishLocale),\n",
       " ('en-be', arrow.locales.EnglishLocale),\n",
       " ('en-ca', arrow.locales.EnglishLocale),\n",
       " ('en-gb', arrow.locales.EnglishLocale),\n",
       " ('en-jp', arrow.locales.EnglishLocale),\n",
       " ('en-ph', arrow.locales.EnglishLocale),\n",
       " ('en-us', arrow.locales.EnglishLocale),\n",
       " ('en-za', arrow.locales.EnglishLocale),\n",
       " ('eo', arrow.locales.EsperantoLocale),\n",
       " ('eo-xx', arrow.locales.EsperantoLocale),\n",
       " ('es', arrow.locales.SpanishLocale),\n",
       " ('es-es', arrow.locales.SpanishLocale),\n",
       " ('et', arrow.locales.EstonianLocale),\n",
       " ('eu', arrow.locales.BasqueLocale),\n",
       " ('eu-eu', arrow.locales.BasqueLocale),\n",
       " ('fa', arrow.locales.FarsiLocale),\n",
       " ('fa-ir', arrow.locales.FarsiLocale),\n",
       " ('fi', arrow.locales.FinnishLocale),\n",
       " ('fi-fi', arrow.locales.FinnishLocale),\n",
       " ('fr', arrow.locales.FrenchLocale),\n",
       " ('fr-ca', arrow.locales.FrenchCanadianLocale),\n",
       " ('fr-fr', arrow.locales.FrenchLocale),\n",
       " ('he', arrow.locales.HebrewLocale),\n",
       " ('he-il', arrow.locales.HebrewLocale),\n",
       " ('hi', arrow.locales.HindiLocale),\n",
       " ('hi-in', arrow.locales.HindiLocale),\n",
       " ('hr', arrow.locales.CroatianLocale),\n",
       " ('hr-hr', arrow.locales.CroatianLocale),\n",
       " ('hu', arrow.locales.HungarianLocale),\n",
       " ('hu-hu', arrow.locales.HungarianLocale),\n",
       " ('hy', arrow.locales.ArmenianLocale),\n",
       " ('hy-am', arrow.locales.ArmenianLocale),\n",
       " ('id', arrow.locales.IndonesianLocale),\n",
       " ('id-id', arrow.locales.IndonesianLocale),\n",
       " ('is', arrow.locales.IcelandicLocale),\n",
       " ('is-is', arrow.locales.IcelandicLocale),\n",
       " ('it', arrow.locales.ItalianLocale),\n",
       " ('it-it', arrow.locales.ItalianLocale),\n",
       " ('ja', arrow.locales.JapaneseLocale),\n",
       " ('ja-jp', arrow.locales.JapaneseLocale),\n",
       " ('ka', arrow.locales.GeorgianLocale),\n",
       " ('ka-ge', arrow.locales.GeorgianLocale),\n",
       " ('kk', arrow.locales.KazakhLocale),\n",
       " ('kk-kz', arrow.locales.KazakhLocale),\n",
       " ('ko', arrow.locales.KoreanLocale),\n",
       " ('ko-kr', arrow.locales.KoreanLocale),\n",
       " ('la', arrow.locales.LatinLocale),\n",
       " ('la-va', arrow.locales.LatinLocale),\n",
       " ('lb', arrow.locales.LuxembourgishLocale),\n",
       " ('lb-lu', arrow.locales.LuxembourgishLocale),\n",
       " ('lo', arrow.locales.LaotianLocale),\n",
       " ('lo-la', arrow.locales.LaotianLocale),\n",
       " ('lt', arrow.locales.LithuanianLocale),\n",
       " ('lt-lt', arrow.locales.LithuanianLocale),\n",
       " ('lv', arrow.locales.LatvianLocale),\n",
       " ('lv-lv', arrow.locales.LatvianLocale),\n",
       " ('mk', arrow.locales.MacedonianLocale),\n",
       " ('mk-mk', arrow.locales.MacedonianLocale),\n",
       " ('ml', arrow.locales.MalayalamLocale),\n",
       " ('mr', arrow.locales.MarathiLocale),\n",
       " ('ms', arrow.locales.MalayLocale),\n",
       " ('ms-bn', arrow.locales.MalayLocale),\n",
       " ('ms-my', arrow.locales.MalayLocale),\n",
       " ('mt', arrow.locales.MalteseLocale),\n",
       " ('mt-mt', arrow.locales.MalteseLocale),\n",
       " ('nb', arrow.locales.NorwegianLocale),\n",
       " ('nb-no', arrow.locales.NorwegianLocale),\n",
       " ('ne', arrow.locales.NepaliLocale),\n",
       " ('ne-np', arrow.locales.NepaliLocale),\n",
       " ('nl', arrow.locales.DutchLocale),\n",
       " ('nl-nl', arrow.locales.DutchLocale),\n",
       " ('nn', arrow.locales.NewNorwegianLocale),\n",
       " ('nn-no', arrow.locales.NewNorwegianLocale),\n",
       " ('or', arrow.locales.OdiaLocale),\n",
       " ('or-in', arrow.locales.OdiaLocale),\n",
       " ('pl', arrow.locales.PolishLocale),\n",
       " ('pl-pl', arrow.locales.PolishLocale),\n",
       " ('pt', arrow.locales.PortugueseLocale),\n",
       " ('pt-br', arrow.locales.BrazilianPortugueseLocale),\n",
       " ('pt-pt', arrow.locales.PortugueseLocale),\n",
       " ('rm', arrow.locales.RomanshLocale),\n",
       " ('rm-ch', arrow.locales.RomanshLocale),\n",
       " ('ro', arrow.locales.RomanianLocale),\n",
       " ('ro-ro', arrow.locales.RomanianLocale),\n",
       " ('ru', arrow.locales.RussianLocale),\n",
       " ('ru-ru', arrow.locales.RussianLocale),\n",
       " ('se', arrow.locales.SamiLocale),\n",
       " ('se-fi', arrow.locales.SamiLocale),\n",
       " ('se-no', arrow.locales.SamiLocale),\n",
       " ('se-se', arrow.locales.SamiLocale),\n",
       " ('si', arrow.locales.SinhalaLocale),\n",
       " ('si-lk', arrow.locales.SinhalaLocale),\n",
       " ('sk', arrow.locales.SlovakLocale),\n",
       " ('sk-sk', arrow.locales.SlovakLocale),\n",
       " ('sl', arrow.locales.SlovenianLocale),\n",
       " ('sl-si', arrow.locales.SlovenianLocale),\n",
       " ('sq', arrow.locales.AlbanianLocale),\n",
       " ('sq-al', arrow.locales.AlbanianLocale),\n",
       " ('sr', arrow.locales.SerbianLocale),\n",
       " ('sr-rs', arrow.locales.SerbianLocale),\n",
       " ('sr-sp', arrow.locales.SerbianLocale),\n",
       " ('sv', arrow.locales.SwedishLocale),\n",
       " ('sv-se', arrow.locales.SwedishLocale),\n",
       " ('sw', arrow.locales.SwahiliLocale),\n",
       " ('sw-ke', arrow.locales.SwahiliLocale),\n",
       " ('sw-tz', arrow.locales.SwahiliLocale),\n",
       " ('ta', arrow.locales.TamilLocale),\n",
       " ('ta-in', arrow.locales.TamilLocale),\n",
       " ('ta-lk', arrow.locales.TamilLocale),\n",
       " ('th', arrow.locales.ThaiLocale),\n",
       " ('th-th', arrow.locales.ThaiLocale),\n",
       " ('tl', arrow.locales.TagalogLocale),\n",
       " ('tl-ph', arrow.locales.TagalogLocale),\n",
       " ('tr', arrow.locales.TurkishLocale),\n",
       " ('tr-tr', arrow.locales.TurkishLocale),\n",
       " ('ua', arrow.locales.UkrainianLocale),\n",
       " ('uk', arrow.locales.UkrainianLocale),\n",
       " ('uk-ua', arrow.locales.UkrainianLocale),\n",
       " ('ur', arrow.locales.UrduLocale),\n",
       " ('ur-pk', arrow.locales.UrduLocale),\n",
       " ('uz', arrow.locales.UzbekLocale),\n",
       " ('uz-uz', arrow.locales.UzbekLocale),\n",
       " ('vi', arrow.locales.VietnameseLocale),\n",
       " ('vi-vn', arrow.locales.VietnameseLocale),\n",
       " ('zh', arrow.locales.ChineseCNLocale),\n",
       " ('zh-cn', arrow.locales.ChineseCNLocale),\n",
       " ('zh-hk', arrow.locales.HongKongLocale),\n",
       " ('zh-tw', arrow.locales.ChineseTWLocale),\n",
       " ('zu', arrow.locales.ZuluLocale),\n",
       " ('zu-za', arrow.locales.ZuluLocale)]"
      ]
     },
     "execution_count": 65,
     "metadata": {},
     "output_type": "execute_result"
    }
   ],
   "source": [
    "from arrow import locales\n",
    "\n",
    "sorted(locales._locale_map.items(), key=lambda el: el[0])"
   ]
  },
  {
   "cell_type": "markdown",
   "id": "db9d8e9b-75da-4bbe-ae0c-559b4ee1a09b",
   "metadata": {},
   "source": [
    "## Conclusion"
   ]
  },
  {
   "cell_type": "markdown",
   "id": "cf3f6691-995b-446f-87fa-efe93f16d2e3",
   "metadata": {},
   "source": [
    "This library has even more features I don't cover here, so take a look at the docs and consider using Arrow in your next Python project that has to deal with dates and times."
   ]
  }
 ],
 "metadata": {
  "kernelspec": {
   "display_name": "Python 3 (ipykernel)",
   "language": "python",
   "name": "python3"
  },
  "language_info": {
   "codemirror_mode": {
    "name": "ipython",
    "version": 3
   },
   "file_extension": ".py",
   "mimetype": "text/x-python",
   "name": "python",
   "nbconvert_exporter": "python",
   "pygments_lexer": "ipython3",
   "version": "3.12.0"
  }
 },
 "nbformat": 4,
 "nbformat_minor": 5
}
