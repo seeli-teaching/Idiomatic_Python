{
 "cells": [
  {
   "cell_type": "markdown",
   "id": "ae782c44-df4b-47c4-8f27-3855f5b0970d",
   "metadata": {},
   "source": [
    "# Using SimpleNamespace with JSON"
   ]
  },
  {
   "cell_type": "markdown",
   "id": "cdd3efaa-ce41-485f-9041-8336ee62778b",
   "metadata": {},
   "source": [
    "In one of my recent videos I presented the `benedict` library. One of the facets of that library was the ability to access dictionary items using attribute access instead of the standard `[\"...\"][\"...\"]` style.\n",
    "\n",
    "Some people complained about the lack of purity, and, correctly, pointed out that although Raymond Hettinger had added this to core Python, it was later retracted.\n",
    "\n",
    "I'm not here to debate whether this was correct and will leave these debates to the experts.\n",
    "\n",
    "However, Raymond's point was a pragmatic one, and a good one.\n",
    "\n",
    "We often have to deal with ad-hoc JSON data and we want to easily access data at various locations in its, usually, nested structure. \n",
    "\n",
    "Sure, we can do this:"
   ]
  },
  {
   "cell_type": "code",
   "execution_count": 1,
   "id": "52acdd0f-3c14-469d-9f9d-2bb244e1e168",
   "metadata": {},
   "outputs": [],
   "source": [
    "import json\n",
    "\n",
    "json_data= '''{\n",
    "    \"circle\": {\n",
    "        \"center\": {\n",
    "            \"x\": 0,\n",
    "            \"y\": 0\n",
    "        },\n",
    "        \"radius\": 1\n",
    "    },\n",
    "    \"rectangle\": {\n",
    "        \"top_left\": {\n",
    "            \"x\": -50,\n",
    "            \"y\": 50\n",
    "        },\n",
    "        \"bottom_right\": {\n",
    "            \"x\": 50,\n",
    "            \"y\": -50\n",
    "        }\n",
    "    }\n",
    "}'''"
   ]
  },
  {
   "cell_type": "code",
   "execution_count": 2,
   "id": "c1e81a67-84ab-49a7-ab21-91a3da81c3a1",
   "metadata": {},
   "outputs": [],
   "source": [
    "data = json.loads(json_data)"
   ]
  },
  {
   "cell_type": "markdown",
   "id": "e574a248-7904-4dba-938a-9dd8f97b9459",
   "metadata": {},
   "source": [
    "And then we can access the data thusly:"
   ]
  },
  {
   "cell_type": "code",
   "execution_count": 3,
   "id": "122cb89d-4f3b-42da-a177-ef3f5026279c",
   "metadata": {},
   "outputs": [
    {
     "data": {
      "text/plain": [
       "(0, 0)"
      ]
     },
     "execution_count": 3,
     "metadata": {},
     "output_type": "execute_result"
    }
   ],
   "source": [
    "center = data[\"circle\"][\"center\"][\"x\"], data[\"circle\"][\"center\"][\"y\"]\n",
    "center"
   ]
  },
  {
   "cell_type": "markdown",
   "id": "f2ba176d-52be-4371-84df-e15759516e49",
   "metadata": {},
   "source": [
    "Sure, you could use a Pydantic model, and get attribute access that way:"
   ]
  },
  {
   "cell_type": "code",
   "execution_count": 4,
   "id": "9cd3cb48-40ca-4120-a2fb-dfa3f7c04dbc",
   "metadata": {},
   "outputs": [],
   "source": [
    "from pydantic import BaseModel"
   ]
  },
  {
   "cell_type": "code",
   "execution_count": 6,
   "id": "c3beec68-158d-454e-a287-9830eb25e90c",
   "metadata": {},
   "outputs": [],
   "source": [
    "class Coordinate(BaseModel):\n",
    "    x: int\n",
    "    y: int\n",
    "    \n",
    "class Circle(BaseModel):\n",
    "    center: Coordinate\n",
    "    radius: int\n",
    "\n",
    "class Rectangle(BaseModel):\n",
    "    top_left: Coordinate\n",
    "    bottom_right: Coordinate\n",
    "    \n",
    "class Data(BaseModel):\n",
    "    circle: Circle\n",
    "    rectangle: Rectangle"
   ]
  },
  {
   "cell_type": "code",
   "execution_count": 8,
   "id": "461edb07-5424-476f-be94-b88085710a9a",
   "metadata": {},
   "outputs": [
    {
     "data": {
      "text/plain": [
       "Data(circle=Circle(center=Coordinate(x=0, y=0), radius=1), rectangle=Rectangle(top_left=Coordinate(x=-50, y=50), bottom_right=Coordinate(x=50, y=-50)))"
      ]
     },
     "execution_count": 8,
     "metadata": {},
     "output_type": "execute_result"
    }
   ],
   "source": [
    "data = Data.model_validate_json(json_data)\n",
    "data"
   ]
  },
  {
   "cell_type": "code",
   "execution_count": 9,
   "id": "52e19c90-752b-46cf-a6c3-efdb5811f012",
   "metadata": {},
   "outputs": [
    {
     "data": {
      "text/plain": [
       "(0, 0)"
      ]
     },
     "execution_count": 9,
     "metadata": {},
     "output_type": "execute_result"
    }
   ],
   "source": [
    "center = data.circle.center.x, data.circle.center.y\n",
    "center"
   ]
  },
  {
   "cell_type": "markdown",
   "id": "4e13dd29-9321-4e71-97dc-e6793c39d48e",
   "metadata": {},
   "source": [
    "But you saw how much code we hade to write with Pydantic - and if all we wanted ewas easy attribute access to the elements of the JSON data, then Pydantic is probably overkill."
   ]
  },
  {
   "cell_type": "markdown",
   "id": "cfb7f74c-9160-4c7c-944a-8241a0e484ff",
   "metadata": {},
   "source": [
    "I showed you how `benedict` can help us in this regard - but let's say you don't like that library, or simply do not need the extra functionality it provides (which to my mind is the main benefit of `benedict`, not attribute access of dictionaries), then you can use Python `SimpleNamespace` class when you deserialize your JSON, not into a dictionary, but rather an instance of `SimpleNamespace`."
   ]
  },
  {
   "cell_type": "code",
   "execution_count": 10,
   "id": "303565d3-b05e-4ec9-954f-e7d328128263",
   "metadata": {},
   "outputs": [],
   "source": [
    "from types import SimpleNamespace"
   ]
  },
  {
   "cell_type": "code",
   "execution_count": 12,
   "id": "ac598fbb-2ae6-4a25-a40a-8840507ae213",
   "metadata": {},
   "outputs": [],
   "source": [
    "data = json.loads(\n",
    "    json_data,\n",
    "    object_hook=lambda x: SimpleNamespace(**x),\n",
    ")"
   ]
  },
  {
   "cell_type": "markdown",
   "id": "d161ef47-0964-4267-875a-51353e83b51c",
   "metadata": {},
   "source": [
    "And now, we can get easy access to the JSON data elements using attribute notation:"
   ]
  },
  {
   "cell_type": "code",
   "execution_count": 13,
   "id": "8c318cd4-377b-4aaf-a911-0603dcde7653",
   "metadata": {},
   "outputs": [
    {
     "data": {
      "text/plain": [
       "(0, 0)"
      ]
     },
     "execution_count": 13,
     "metadata": {},
     "output_type": "execute_result"
    }
   ],
   "source": [
    "center = data.circle.center.x, data.circle.center.y\n",
    "center"
   ]
  },
  {
   "cell_type": "markdown",
   "id": "a12454b3-08de-47bb-b196-9c6fc8b6dda7",
   "metadata": {},
   "source": [
    "How easy was that!"
   ]
  },
  {
   "cell_type": "markdown",
   "id": "067358be-822f-41c4-a24a-5d986a9c19a0",
   "metadata": {},
   "source": [
    "Now, one snag is if the keys in the JSON objects themselves contain periods (`.`). That's perfectly valid in JSON, but will \"break\" our access.\n",
    "\n",
    "All is not lost however:"
   ]
  },
  {
   "cell_type": "code",
   "execution_count": 14,
   "id": "a15231a8-cace-4123-9d18-510f0c41035a",
   "metadata": {},
   "outputs": [],
   "source": [
    "json_data = '''{\n",
    "    \"a.1\": {\"x\": 1, \"y\": 2},\n",
    "    \"a.2\": {\"x\": 3, \"y\": 4}\n",
    "}'''"
   ]
  },
  {
   "cell_type": "code",
   "execution_count": 15,
   "id": "49de0f42-c2d3-49d9-8b62-ea8d7e6d69c4",
   "metadata": {},
   "outputs": [],
   "source": [
    "data = json.loads(\n",
    "    json_data,\n",
    "    object_hook=lambda x: SimpleNamespace(**x),\n",
    ")"
   ]
  },
  {
   "cell_type": "code",
   "execution_count": 16,
   "id": "93cf86eb-edf3-4a7b-9681-3e6bb9760c3d",
   "metadata": {},
   "outputs": [
    {
     "data": {
      "text/plain": [
       "namespace(a.1=namespace(x=1, y=2), a.2=namespace(x=3, y=4))"
      ]
     },
     "execution_count": 16,
     "metadata": {},
     "output_type": "execute_result"
    }
   ],
   "source": [
    "data"
   ]
  },
  {
   "cell_type": "markdown",
   "id": "f1894fa9-deb9-4315-9c00-c556e90b2eb5",
   "metadata": {},
   "source": [
    "Now, we can use `getattr()` to get the attributes that we would not be able to access using simple dot notation:"
   ]
  },
  {
   "cell_type": "code",
   "execution_count": 17,
   "id": "4c69003b-a505-47fb-a90f-02bb9229fbc9",
   "metadata": {},
   "outputs": [
    {
     "data": {
      "text/plain": [
       "1"
      ]
     },
     "execution_count": 17,
     "metadata": {},
     "output_type": "execute_result"
    }
   ],
   "source": [
    "getattr(data, \"a.1\").x"
   ]
  },
  {
   "cell_type": "markdown",
   "id": "1ab7def7-fae6-4907-b8a6-e895ed7ef36b",
   "metadata": {},
   "source": [
    "Even works for keys that contain spaces:"
   ]
  },
  {
   "cell_type": "code",
   "execution_count": 18,
   "id": "07056405-651f-4dbd-958e-c88d92ba7c2c",
   "metadata": {},
   "outputs": [],
   "source": [
    "json_data = '''{\n",
    "    \"a 1\": {\"x\": 1, \"y\": 2},\n",
    "    \"a 2\": {\"x\": 3, \"y\": 4}\n",
    "}'''"
   ]
  },
  {
   "cell_type": "code",
   "execution_count": 19,
   "id": "e1f96a40-2ffd-4cf4-92fe-b00137971249",
   "metadata": {},
   "outputs": [],
   "source": [
    "data = json.loads(\n",
    "    json_data,\n",
    "    object_hook=lambda x: SimpleNamespace(**x),\n",
    ")"
   ]
  },
  {
   "cell_type": "code",
   "execution_count": 20,
   "id": "1836cbf0-649e-43f6-b143-9e8c7cc2b57b",
   "metadata": {},
   "outputs": [
    {
     "data": {
      "text/plain": [
       "namespace(a 1=namespace(x=1, y=2), a 2=namespace(x=3, y=4))"
      ]
     },
     "execution_count": 20,
     "metadata": {},
     "output_type": "execute_result"
    }
   ],
   "source": [
    "data"
   ]
  },
  {
   "cell_type": "code",
   "execution_count": 21,
   "id": "aee06d0f-9319-43a7-9c88-3456159bc6a9",
   "metadata": {},
   "outputs": [
    {
     "data": {
      "text/plain": [
       "1"
      ]
     },
     "execution_count": 21,
     "metadata": {},
     "output_type": "execute_result"
    }
   ],
   "source": [
    "getattr(data, \"a 1\").x"
   ]
  },
  {
   "cell_type": "markdown",
   "id": "c02cde56-a84d-49f4-bbe9-9886593570b1",
   "metadata": {},
   "source": [
    "And there you go, a very simple, and pragmatic way to clearer code when dealing with JSON data."
   ]
  },
  {
   "cell_type": "code",
   "execution_count": null,
   "id": "3a4b2db9-8033-4380-9ce1-63feb2a98444",
   "metadata": {},
   "outputs": [],
   "source": []
  }
 ],
 "metadata": {
  "kernelspec": {
   "display_name": "Python 3 (ipykernel)",
   "language": "python",
   "name": "python3"
  },
  "language_info": {
   "codemirror_mode": {
    "name": "ipython",
    "version": 3
   },
   "file_extension": ".py",
   "mimetype": "text/x-python",
   "name": "python",
   "nbconvert_exporter": "python",
   "pygments_lexer": "ipython3",
   "version": "3.12.0"
  }
 },
 "nbformat": 4,
 "nbformat_minor": 5
}
