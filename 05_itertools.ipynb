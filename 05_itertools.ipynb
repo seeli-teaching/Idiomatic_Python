{
 "cells": [
  {
   "cell_type": "markdown",
   "id": "420349a6",
   "metadata": {},
   "source": [
    "### Idiomatic Python - The `itertools` Module"
   ]
  },
  {
   "cell_type": "markdown",
   "id": "211ce364",
   "metadata": {},
   "source": [
    "A lot of the code we write has to do with iteration. As I showed you in a previous video, using indexing for iterating over sequence types is generally (not always) not considered Pythonic."
   ]
  },
  {
   "cell_type": "markdown",
   "id": "b48b08f6",
   "metadata": {},
   "source": [
    "The `itertools` module provides us with a wealth of additional functions to help perform operations involving iteration."
   ]
  },
  {
   "cell_type": "markdown",
   "id": "ddc720c1",
   "metadata": {},
   "source": [
    "As Pythonic developers we need to get to know this module really well, and use it to our advantage.\n",
    "\n",
    "I would urge you to read the docs on this module - they are well written, concise and the module itself does not contain hundreds of functions - just a few really useful ones.\n",
    "\n",
    "[https://docs.python.org/3/library/itertools.html](https://docs.python.org/3/library/itertools.html)"
   ]
  },
  {
   "cell_type": "markdown",
   "id": "8956ecb6",
   "metadata": {},
   "source": [
    "Let's explore a few of those functions."
   ]
  },
  {
   "cell_type": "markdown",
   "id": "79985bfe",
   "metadata": {},
   "source": [
    "#### The `map` and `starmap` Functions"
   ]
  },
  {
   "cell_type": "markdown",
   "id": "5aa77b37",
   "metadata": {},
   "source": [
    "The `map` function is used to apply a transformation to the elements of an iterable. "
   ]
  },
  {
   "cell_type": "code",
   "execution_count": 1,
   "id": "49370e52",
   "metadata": {},
   "outputs": [],
   "source": [
    "l = [1, 2, 3, 4, 5]\n",
    "\n",
    "def square(x):\n",
    "    return x ** 2"
   ]
  },
  {
   "cell_type": "markdown",
   "id": "c6ea5aff",
   "metadata": {},
   "source": [
    "We can generate a new list consisting of the `square` function applied to each of the elements of the list `l` using `map` as follows:"
   ]
  },
  {
   "cell_type": "code",
   "execution_count": 2,
   "id": "afd0e0eb",
   "metadata": {},
   "outputs": [],
   "source": [
    "results = map(square, l)"
   ]
  },
  {
   "cell_type": "markdown",
   "id": "cfb9a95f",
   "metadata": {},
   "source": [
    "Now, `results` is not a list - it is an iterator. This means that the mapping is \"lazy\" and does not happen until we actually iterate over the elements of `results`:"
   ]
  },
  {
   "cell_type": "code",
   "execution_count": 3,
   "id": "82cd4637",
   "metadata": {},
   "outputs": [
    {
     "name": "stdout",
     "output_type": "stream",
     "text": [
      "1\n",
      "4\n",
      "9\n",
      "16\n",
      "25\n"
     ]
    }
   ],
   "source": [
    "for result in results:\n",
    "    print(result)"
   ]
  },
  {
   "cell_type": "markdown",
   "id": "3d7d702f",
   "metadata": {},
   "source": [
    "We could easily achieve a similar thing using a list comprehension, but if we want to have an iterator (with lazy evaluation) instead of the storage and initial CPU upfront cost, we could use a generator expression as well."
   ]
  },
  {
   "cell_type": "code",
   "execution_count": 4,
   "id": "47f19368",
   "metadata": {},
   "outputs": [],
   "source": [
    "results = (square(el) for el in l)"
   ]
  },
  {
   "cell_type": "code",
   "execution_count": 5,
   "id": "1874b969",
   "metadata": {},
   "outputs": [
    {
     "data": {
      "text/plain": [
       "<generator object <genexpr> at 0x1183d4f90>"
      ]
     },
     "execution_count": 5,
     "metadata": {},
     "output_type": "execute_result"
    }
   ],
   "source": [
    "results"
   ]
  },
  {
   "cell_type": "code",
   "execution_count": 6,
   "id": "c93da8b1",
   "metadata": {},
   "outputs": [
    {
     "name": "stdout",
     "output_type": "stream",
     "text": [
      "1\n",
      "4\n",
      "9\n",
      "16\n",
      "25\n"
     ]
    }
   ],
   "source": [
    "for result in results:\n",
    "    print(result)"
   ]
  },
  {
   "cell_type": "markdown",
   "id": "2a8a57e3",
   "metadata": {},
   "source": [
    "So yes, using a generator expression works just fine, and is Pythonic, but many people prefer using `map` for the simpler syntax:"
   ]
  },
  {
   "cell_type": "code",
   "execution_count": 7,
   "id": "6d15b171",
   "metadata": {},
   "outputs": [],
   "source": [
    "results = (square(el) for el in l)\n",
    "results = map(square, l)"
   ]
  },
  {
   "cell_type": "markdown",
   "id": "802e63ee",
   "metadata": {},
   "source": [
    "Related to the `map` function is the `starmap` function, located in the `itertools` module."
   ]
  },
  {
   "cell_type": "code",
   "execution_count": 8,
   "id": "bab4d2b3",
   "metadata": {},
   "outputs": [],
   "source": [
    "from itertools import starmap"
   ]
  },
  {
   "cell_type": "markdown",
   "id": "9ca86711",
   "metadata": {},
   "source": [
    "This is used when the function that you would use in a `map` requires more than one positional argument, for example we might use a function such as the `pow` function in the `math` module:"
   ]
  },
  {
   "cell_type": "code",
   "execution_count": 9,
   "id": "b14db16a",
   "metadata": {},
   "outputs": [],
   "source": [
    "from math import pow"
   ]
  },
  {
   "cell_type": "code",
   "execution_count": 10,
   "id": "f570987b",
   "metadata": {},
   "outputs": [
    {
     "data": {
      "text/plain": [
       "8.0"
      ]
     },
     "execution_count": 10,
     "metadata": {},
     "output_type": "execute_result"
    }
   ],
   "source": [
    "pow(2, 3)"
   ]
  },
  {
   "cell_type": "markdown",
   "id": "40403c6d",
   "metadata": {},
   "source": [
    "Now suppose we have this list of \"inputs\" for the `pow` function, and we want to apply the `pow` function to each of them."
   ]
  },
  {
   "cell_type": "code",
   "execution_count": 11,
   "id": "ebaad5c6",
   "metadata": {},
   "outputs": [],
   "source": [
    "l = [(2, 0), (2, 1), (2, 2), (2, 3), (2, 4), (2, 5)]"
   ]
  },
  {
   "cell_type": "markdown",
   "id": "690e0b82",
   "metadata": {},
   "source": [
    "Or more simply:"
   ]
  },
  {
   "cell_type": "code",
   "execution_count": 12,
   "id": "88f330f5",
   "metadata": {},
   "outputs": [
    {
     "data": {
      "text/plain": [
       "[(2, 0), (2, 1), (2, 2), (2, 3), (2, 4), (2, 5)]"
      ]
     },
     "execution_count": 12,
     "metadata": {},
     "output_type": "execute_result"
    }
   ],
   "source": [
    "l = [(2, x) for x in range(6)]\n",
    "l"
   ]
  },
  {
   "cell_type": "markdown",
   "id": "e143d4e8",
   "metadata": {},
   "source": [
    "We again could use a generator expression to do this:"
   ]
  },
  {
   "cell_type": "code",
   "execution_count": 13,
   "id": "542091d7",
   "metadata": {},
   "outputs": [
    {
     "data": {
      "text/plain": [
       "[1.0, 2.0, 4.0, 8.0, 16.0, 32.0]"
      ]
     },
     "execution_count": 13,
     "metadata": {},
     "output_type": "execute_result"
    }
   ],
   "source": [
    "results = (pow(x, y) for x, y in l)\n",
    "list(results)"
   ]
  },
  {
   "cell_type": "markdown",
   "id": "e14b2454",
   "metadata": {},
   "source": [
    "or you could do it this way too:"
   ]
  },
  {
   "cell_type": "code",
   "execution_count": 14,
   "id": "55f0cbb9",
   "metadata": {},
   "outputs": [
    {
     "data": {
      "text/plain": [
       "[1.0, 2.0, 4.0, 8.0, 16.0, 32.0]"
      ]
     },
     "execution_count": 14,
     "metadata": {},
     "output_type": "execute_result"
    }
   ],
   "source": [
    "results = (pow(*args) for args in l)\n",
    "list(results)"
   ]
  },
  {
   "cell_type": "markdown",
   "id": "ae2acba2",
   "metadata": {},
   "source": [
    "But we could also use the `starmap` function that will unpack each tuple in our list as positional arguments for `pow`:"
   ]
  },
  {
   "cell_type": "code",
   "execution_count": 15,
   "id": "3e14107d",
   "metadata": {},
   "outputs": [
    {
     "data": {
      "text/plain": [
       "[1.0, 2.0, 4.0, 8.0, 16.0, 32.0]"
      ]
     },
     "execution_count": 15,
     "metadata": {},
     "output_type": "execute_result"
    }
   ],
   "source": [
    "results = starmap(pow, l)\n",
    "list(results)"
   ]
  },
  {
   "cell_type": "markdown",
   "id": "2656415e",
   "metadata": {},
   "source": [
    "Again compare the two approaches side by side:"
   ]
  },
  {
   "cell_type": "code",
   "execution_count": 16,
   "id": "2df27926",
   "metadata": {},
   "outputs": [],
   "source": [
    "results = (pow(x, y) for x, y in l)\n",
    "results = starmap(pow, l)"
   ]
  },
  {
   "cell_type": "markdown",
   "id": "0fb3fb34",
   "metadata": {},
   "source": [
    "Nothing wrong with the generator approach, but `starmap` is much cleaner and expressive syntax."
   ]
  },
  {
   "cell_type": "markdown",
   "id": "0a88646a",
   "metadata": {},
   "source": [
    "#### The `chain` Function"
   ]
  },
  {
   "cell_type": "markdown",
   "id": "f09b69d7",
   "metadata": {},
   "source": [
    "The `chain` function is very useful for iterating across multiple iterables without having to create a temporary union of all the iterables.\n",
    "\n",
    "For example, suppose we have these three iterables:"
   ]
  },
  {
   "cell_type": "code",
   "execution_count": 17,
   "id": "3fe80887",
   "metadata": {},
   "outputs": [],
   "source": [
    "l1 = [1, 2, 3, 4, 5]\n",
    "l2 = \"abcd\"\n",
    "l3 = (100, 200, 300)"
   ]
  },
  {
   "cell_type": "markdown",
   "id": "011e518b",
   "metadata": {},
   "source": [
    "We want to iterate over the elements of  `l1`, `l2`, and `l3`, in that order."
   ]
  },
  {
   "cell_type": "markdown",
   "id": "88b55051",
   "metadata": {},
   "source": [
    "We could do it by joining all the iterables together - but given the different iterable types, will take a bit of work to get it right, We could do it this way:"
   ]
  },
  {
   "cell_type": "code",
   "execution_count": 18,
   "id": "e00ec6bf",
   "metadata": {},
   "outputs": [],
   "source": [
    "combined = l1 + list(l2) + list(l3)"
   ]
  },
  {
   "cell_type": "markdown",
   "id": "7c3a34fb",
   "metadata": {},
   "source": [
    "And then we can iterate over the combined list:"
   ]
  },
  {
   "cell_type": "code",
   "execution_count": 19,
   "id": "bac32f73",
   "metadata": {},
   "outputs": [
    {
     "name": "stdout",
     "output_type": "stream",
     "text": [
      "1 2 3 4 5 a b c d 100 200 300 "
     ]
    }
   ],
   "source": [
    "for el in combined:\n",
    "    print(el, end=\" \")"
   ]
  },
  {
   "cell_type": "markdown",
   "id": "f647dba4",
   "metadata": {},
   "source": [
    "But two things: we had to duplicate data (so more memory), and we had to write the code to combine the iterables.\n",
    "\n",
    "Much simpler to use `chain` - again it is a \"lazy\" iterator (so no memory overhead, and delays calculaations until an element is actually requested - so if you do not iterate over all the elements of the combined iterable, you have saved some calculation time compared to the first approach)."
   ]
  },
  {
   "cell_type": "code",
   "execution_count": 20,
   "id": "fc5b0b8a",
   "metadata": {},
   "outputs": [
    {
     "name": "stdout",
     "output_type": "stream",
     "text": [
      "1 2 3 4 5 a b c d 100 200 300 "
     ]
    }
   ],
   "source": [
    "from itertools import chain\n",
    "\n",
    "for el in chain(l1, l2, l3):\n",
    "    print(el, end=\" \")"
   ]
  },
  {
   "cell_type": "markdown",
   "id": "a0256ae9",
   "metadata": {},
   "source": [
    "The `chain.from_iterable` function is a slight variant that you can use if, instead of having separate iterables like we had with `l1`, `l2` and `l3`, we have a single iterable that contains iterables, and we want to loop over the elements of each of the iterable sub-elements."
   ]
  },
  {
   "cell_type": "markdown",
   "id": "8ec1ce50",
   "metadata": {},
   "source": [
    "Suppose we had this list:"
   ]
  },
  {
   "cell_type": "code",
   "execution_count": 21,
   "id": "a2f0dcc8",
   "metadata": {},
   "outputs": [],
   "source": [
    "l = [[1, 2, 3], \"abc\", (10, 20, 30)]"
   ]
  },
  {
   "cell_type": "markdown",
   "id": "c1a0435c",
   "metadata": {},
   "source": [
    "Using `chain` would not give us quite what we are looking for:"
   ]
  },
  {
   "cell_type": "code",
   "execution_count": 22,
   "id": "d554670f",
   "metadata": {},
   "outputs": [
    {
     "name": "stdout",
     "output_type": "stream",
     "text": [
      "[1, 2, 3] abc (10, 20, 30) "
     ]
    }
   ],
   "source": [
    "for el in chain(l):\n",
    "    print(el, end=\" \")"
   ]
  },
  {
   "cell_type": "markdown",
   "id": "aac85174",
   "metadata": {},
   "source": [
    "Instead, we can use `chain.from_iterable`:"
   ]
  },
  {
   "cell_type": "code",
   "execution_count": 23,
   "id": "ab1b69b8",
   "metadata": {},
   "outputs": [
    {
     "name": "stdout",
     "output_type": "stream",
     "text": [
      "1 2 3 a b c 10 20 30 "
     ]
    }
   ],
   "source": [
    "for el in chain.from_iterable(l):\n",
    "    print(el, end=\" \")"
   ]
  },
  {
   "cell_type": "markdown",
   "id": "ab1d960b",
   "metadata": {},
   "source": [
    "#### Using `islice`"
   ]
  },
  {
   "cell_type": "markdown",
   "id": "fe69d420",
   "metadata": {},
   "source": [
    "As you know, slicing is reserved for sequence types, such as lists, tuples, strings, etc."
   ]
  },
  {
   "cell_type": "markdown",
   "id": "3d22840f",
   "metadata": {},
   "source": [
    "More general iterables, such as those returned by functions such as `zip`, `map`, custom generators or generator expressions, etc do not support slicing, since they do not support indexing."
   ]
  },
  {
   "cell_type": "code",
   "execution_count": 24,
   "id": "7e09cf87",
   "metadata": {},
   "outputs": [],
   "source": [
    "data = (el * 2 for el in range(5))"
   ]
  },
  {
   "cell_type": "code",
   "execution_count": 25,
   "id": "b9699b83",
   "metadata": {},
   "outputs": [
    {
     "name": "stdout",
     "output_type": "stream",
     "text": [
      "'generator' object is not subscriptable\n"
     ]
    }
   ],
   "source": [
    "try:\n",
    "    data[0]\n",
    "except TypeError as ex:\n",
    "    print(ex)"
   ]
  },
  {
   "cell_type": "markdown",
   "id": "ab88a1c0",
   "metadata": {},
   "source": [
    "The `islice` function is extremely useful if we need to slice an iterator:"
   ]
  },
  {
   "cell_type": "code",
   "execution_count": 26,
   "id": "fa655b79",
   "metadata": {},
   "outputs": [
    {
     "name": "stdout",
     "output_type": "stream",
     "text": [
      "0 2 4 "
     ]
    }
   ],
   "source": [
    "from itertools import islice\n",
    "\n",
    "for el in islice((el * 2 for el in range(10)), 3):\n",
    "    print(el, end=\" \")"
   ]
  },
  {
   "cell_type": "markdown",
   "id": "65d99896",
   "metadata": {},
   "source": [
    "It even supports start, stop, and step, just like with regular slicing - however it does not support negative slicing,"
   ]
  },
  {
   "cell_type": "code",
   "execution_count": 27,
   "id": "88ce922e",
   "metadata": {},
   "outputs": [
    {
     "name": "stdout",
     "output_type": "stream",
     "text": [
      "2 6 10 14 18 "
     ]
    }
   ],
   "source": [
    "for el in islice((el * 2 for el in range(10)), 1, None, 2):\n",
    "    print(el, end=\" \")"
   ]
  },
  {
   "cell_type": "code",
   "execution_count": 28,
   "id": "a0b78154",
   "metadata": {},
   "outputs": [
    {
     "name": "stdout",
     "output_type": "stream",
     "text": [
      "2 6 "
     ]
    }
   ],
   "source": [
    "for el in islice((el * 2 for el in range(10)), 1, 5, 2):\n",
    "    print(el, end=\" \")"
   ]
  },
  {
   "cell_type": "markdown",
   "id": "7f1699b8",
   "metadata": {},
   "source": [
    "You can even slice sets, although, since sets are not ordered in any particular way, there is probably little reason to do so."
   ]
  },
  {
   "cell_type": "code",
   "execution_count": 29,
   "id": "f570fcd3",
   "metadata": {},
   "outputs": [
    {
     "name": "stdout",
     "output_type": "stream",
     "text": [
      "b\n",
      "10\n"
     ]
    }
   ],
   "source": [
    "s = {'a', 'b', 10, 3.2}\n",
    "\n",
    "for el in islice(s, 0, 2):\n",
    "    print(el)"
   ]
  },
  {
   "cell_type": "markdown",
   "id": "40737bf3",
   "metadata": {},
   "source": [
    "Slicing the keys of a dictionary, given the insertion order is maintained, might however be more meaningful - like say determining the first item that was inserted in the dictionary:"
   ]
  },
  {
   "cell_type": "code",
   "execution_count": 30,
   "id": "913c0a13",
   "metadata": {},
   "outputs": [],
   "source": [
    "d = {\n",
    "    \"b\": 100,\n",
    "    \"a\": 200\n",
    "}"
   ]
  },
  {
   "cell_type": "markdown",
   "id": "f51652b9",
   "metadata": {},
   "source": [
    "We could first convert the keys of the dictionary to a list using a dictionary view:"
   ]
  },
  {
   "cell_type": "code",
   "execution_count": 31,
   "id": "15ad1fb3",
   "metadata": {},
   "outputs": [
    {
     "data": {
      "text/plain": [
       "'b'"
      ]
     },
     "execution_count": 31,
     "metadata": {},
     "output_type": "execute_result"
    }
   ],
   "source": [
    "keys = list(d.keys())\n",
    "keys[0]"
   ]
  },
  {
   "cell_type": "markdown",
   "id": "207cfb5a",
   "metadata": {},
   "source": [
    "But this again uses more memory than we need (we only want to know about the first item), so `islice` might be a better option:"
   ]
  },
  {
   "cell_type": "code",
   "execution_count": 32,
   "id": "aa0334fa",
   "metadata": {},
   "outputs": [
    {
     "data": {
      "text/plain": [
       "['b']"
      ]
     },
     "execution_count": 32,
     "metadata": {},
     "output_type": "execute_result"
    }
   ],
   "source": [
    "list(islice(d.keys(), 0, 1))"
   ]
  },
  {
   "cell_type": "markdown",
   "id": "ce1f5629",
   "metadata": {},
   "source": [
    "If you like this style of programming with the `itertools` module, you should also consider looking at the `more-itertools` library that provides even more functions for iterables:\n",
    "\n",
    "[https://more-itertools.readthedocs.io/en/stable/](https://more-itertools.readthedocs.io/en/stable/)"
   ]
  },
  {
   "cell_type": "markdown",
   "id": "6eb22303",
   "metadata": {},
   "source": [
    "But at the very least, get to know the `itertools` module. "
   ]
  },
  {
   "cell_type": "code",
   "execution_count": null,
   "id": "25cbafb5",
   "metadata": {},
   "outputs": [],
   "source": []
  }
 ],
 "metadata": {
  "kernelspec": {
   "display_name": "Python 3 (ipykernel)",
   "language": "python",
   "name": "python3"
  },
  "language_info": {
   "codemirror_mode": {
    "name": "ipython",
    "version": 3
   },
   "file_extension": ".py",
   "mimetype": "text/x-python",
   "name": "python",
   "nbconvert_exporter": "python",
   "pygments_lexer": "ipython3",
   "version": "3.10.2"
  }
 },
 "nbformat": 4,
 "nbformat_minor": 5
}
