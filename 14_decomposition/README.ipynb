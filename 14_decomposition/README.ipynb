{
 "cells": [
  {
   "cell_type": "markdown",
   "id": "e0217536",
   "metadata": {},
   "source": [
    "### Idiomatic Python: Decomposition\n",
    "#### A Refactoring Exercise"
   ]
  },
  {
   "cell_type": "markdown",
   "id": "6e34d7d6",
   "metadata": {},
   "source": [
    "Here I will mainly talk about functional decomposition, although the same principles applies to classes/methods as well."
   ]
  },
  {
   "cell_type": "markdown",
   "id": "8e43cd34",
   "metadata": {},
   "source": [
    "Far too often I come across code during code reviews that contain functions (or classes), that just do way too much.\n",
    "\n",
    "It makes the code hard to read and maintain, and, usually, very hard to unit test."
   ]
  },
  {
   "cell_type": "markdown",
   "id": "010c91e8",
   "metadata": {},
   "source": [
    "Now this is not unique to Python - it should be part of pythonic coding best practices, but applies to other languages too."
   ]
  },
  {
   "cell_type": "markdown",
   "id": "4790a33f",
   "metadata": {},
   "source": [
    "I'm sure I'll get arguments about it, but my take on writing \"good\" functions include:\n",
    "    \n",
    "1. relatively short - measured in 10's of lines, not 100's.\n",
    "2. have a single purpose, and function name should clearly reflect that purpose\n",
    "3. code inside a function should be at the same abstraction level - i.e. does not mix low level detail work with higher level calls to other functions. You'll see what I mean in a second.\n",
    "4. should be easy to unit test (more branching code makes it more difficult to test, since you have to test not only each branch, but all the combinations of the various branches)\n",
    "5. be properly documented - maybe docstrings, maybe type hints - whatever you prefer or your code base mandates as standards, but something.\n",
    "6. no commented out code - that's why we have code version tools such as git - even if you work locally you can still use git.\n",
    "7. no dead code (i.e. no unreachable code)\n",
    "8. straightforward to understand the code in each function (i.e. no \"magic\" tricks and arcane incantations that hides and obfuscates how the code works)"
   ]
  },
  {
   "cell_type": "markdown",
   "id": "aaf859c9",
   "metadata": {},
   "source": [
    "One other thing you'll often see is that the function should not have any side effects. I guess it depends on what is meant by side effects, but I don't entirely agree with this one. \n",
    "\n",
    "I think the functional purists will insist on this, but Python is not for purists, and to quote the Zen of Python:\n",
    "\n",
    "> Although practicality beats purity."
   ]
  },
  {
   "cell_type": "markdown",
   "id": "e31eae8b",
   "metadata": {},
   "source": [
    "Actually in the context of writing Pythonic code, I think the entire Zen of Python bears repeating:"
   ]
  },
  {
   "cell_type": "code",
   "execution_count": 19,
   "id": "71cb85da",
   "metadata": {},
   "outputs": [
    {
     "name": "stdout",
     "output_type": "stream",
     "text": [
      "The Zen of Python, by Tim Peters\n",
      "\n",
      "Beautiful is better than ugly.\n",
      "Explicit is better than implicit.\n",
      "Simple is better than complex.\n",
      "Complex is better than complicated.\n",
      "Flat is better than nested.\n",
      "Sparse is better than dense.\n",
      "Readability counts.\n",
      "Special cases aren't special enough to break the rules.\n",
      "Although practicality beats purity.\n",
      "Errors should never pass silently.\n",
      "Unless explicitly silenced.\n",
      "In the face of ambiguity, refuse the temptation to guess.\n",
      "There should be one-- and preferably only one --obvious way to do it.\n",
      "Although that way may not be obvious at first unless you're Dutch.\n",
      "Now is better than never.\n",
      "Although never is often better than *right* now.\n",
      "If the implementation is hard to explain, it's a bad idea.\n",
      "If the implementation is easy to explain, it may be a good idea.\n",
      "Namespaces are one honking great idea -- let's do more of those!\n"
     ]
    }
   ],
   "source": [
    "import this"
   ]
  },
  {
   "cell_type": "markdown",
   "id": "96dfd40d",
   "metadata": {},
   "source": [
    "So, I think it is OK for a function to have certain side-effects - sometimes.\n",
    "\n",
    "For example a function that acts as a logging decorator does two things - it runs and returns the value of some function call, but it also has the side effect of writing logs out somewhere. \n",
    "\n",
    "I consider that OK (and in fact, I don't see a way around it). On the other hand, a function that mutates one of the arguments passed to it is not being very nice - especially if it also returns a value. I would probably have strong objections to something like this (in most cases.)\n",
    "\n",
    "I might be OK with a function that mutates an argument's state as long as it does not also return something meaningful (i.e. other than `None`). But even then, I might argue that your code design may need some re-thinking. Generally, I think a function that mutates state is probably better suited in an OOP approach with methods to mutate the instance state."
   ]
  },
  {
   "cell_type": "markdown",
   "id": "84b07a81",
   "metadata": {},
   "source": [
    "With that let's take a look at an example, and see how we can refactor it to improve it."
   ]
  },
  {
   "cell_type": "markdown",
   "id": "a5812338",
   "metadata": {},
   "source": [
    "Here I have a function which given some arguments, queries an API for some data, transforms that data in some fashion and returns the results."
   ]
  },
  {
   "cell_type": "markdown",
   "id": "2215eb06",
   "metadata": {},
   "source": [
    "I use the Star Wars API, it is freely available and does not require us to use an API key."
   ]
  },
  {
   "cell_type": "markdown",
   "id": "4bc20a2d",
   "metadata": {},
   "source": [
    "We are going to need to handle paging for one of the API calls we make, as well as retries if the query times out (SWAPI being public and free with no auth required, timeouts can happen frequently, so we want to account for it)."
   ]
  },
  {
   "cell_type": "markdown",
   "id": "3797a198",
   "metadata": {},
   "source": [
    "We'll start with the bad code - a horrendous single function approach that would make anyone doing a code review stop and reject without even reading the code!!\n",
    "\n",
    "But it works!!! you say. Sure, it works, but it is almost impossible to understand that code, and testing it is going to be really really difficult. (And to be honest, I'm not even confident my code is bug free!)"
   ]
  },
  {
   "cell_type": "markdown",
   "id": "6400da84",
   "metadata": {},
   "source": [
    "So we are going to refactor that code into something that is more readable and manageable."
   ]
  },
  {
   "cell_type": "markdown",
   "id": "b569bed6",
   "metadata": {},
   "source": [
    "Switching over to PyCharm for this. Jupyter is great for certain things, but once I get into \"real\" dev work, I switch to Python files and some IDE."
   ]
  },
  {
   "cell_type": "markdown",
   "id": "ddd00d80",
   "metadata": {},
   "source": [
    "Note that there are many additional improvements I would make to the code - like using Pydantic to serialize the data I get back from SWAPI, maybe using a class approach to connecting to the API, etc. For now, I'll keep it simple, and if you are interested in seeing how far I would really take refactoring this, let me know in the comments. If I get enough interest and likes, I'll do a follow up video."
   ]
  },
  {
   "cell_type": "markdown",
   "id": "d325eb4e",
   "metadata": {},
   "source": [
    "#### Refactor 1"
   ]
  },
  {
   "cell_type": "markdown",
   "id": "770d3a54",
   "metadata": {},
   "source": [
    "First thing I'm going to do is break out the code that actually queries the API - I'm going to create a service module (and I may even create a package if I know I will have several services to contend with).\n",
    "\n",
    "So creating a `services` package, with just the single `swapi` service, as a sub-package, and whatever modules I need under that.\n",
    "\n",
    "Also creating a `main.py`, the standard name for the entry point of a Python app."
   ]
  },
  {
   "cell_type": "markdown",
   "id": "a2e5c58a",
   "metadata": {},
   "source": [
    "I'm going to keep the changes minimal, and just try to break that huge function into smaller chunks at first."
   ]
  },
  {
   "cell_type": "markdown",
   "id": "73b46589",
   "metadata": {},
   "source": [
    "So, at the end of this refactor, the main function is already looking a whole lot simpler."
   ]
  },
  {
   "cell_type": "markdown",
   "id": "b73fad1c",
   "metadata": {},
   "source": [
    "But we still have several issues."
   ]
  },
  {
   "cell_type": "markdown",
   "id": "2a9d2c51",
   "metadata": {},
   "source": [
    "For starters, the code in the `main()` function has different abstraction levels - I don't think the filtering of the ships belongs in that function - that should get broken out as a helper function, that way we can keep the same level of abstraction in the main function:\n",
    "\n",
    "- get all ships (function call)\n",
    "- filter ships (function call)\n",
    "- return titles (function call)"
   ]
  },
  {
   "cell_type": "markdown",
   "id": "995d2d19",
   "metadata": {},
   "source": [
    "Also, the code that we have in the SWAPI service for paging and query timeouts can be improved quite a bit as well. First of all the code is not DRY, and secondly, the individual functions that get the data from the API are difficult to understand because they mix things like retries and paging with the actual main logic of just getting the data. We'll need to sort that out as well."
   ]
  },
  {
   "cell_type": "markdown",
   "id": "669b8a13",
   "metadata": {},
   "source": [
    "#### Refactor 2"
   ]
  },
  {
   "cell_type": "markdown",
   "id": "b9714d88",
   "metadata": {},
   "source": [
    "This refactor is just going to move the filtering logic out of the main function and into its own function."
   ]
  },
  {
   "cell_type": "markdown",
   "id": "fb543cc1",
   "metadata": {},
   "source": [
    "I am going to write a specialized function that both filters the ships based on a minimum capacity, and just returns all the unique film URLs. This is a bit specialized, and one could argue that that also should be broken down into two separate functions - one to filter the ships, and one to extract just the unique film URLs. This filtering function is not really single-purpose.\n",
    "\n",
    "So, I'm to refactor that as well."
   ]
  },
  {
   "cell_type": "markdown",
   "id": "36ac1634",
   "metadata": {},
   "source": [
    "#### Refactor 3"
   ]
  },
  {
   "cell_type": "markdown",
   "id": "5c494d2d",
   "metadata": {},
   "source": [
    "So with this refactor, we have the main app greatly simplified, and the filtering/extraction functions down to single purpose functions.\n",
    "\n",
    "Note that I do not have any side effects in those functions - I send in some values, and I get something out of them. The functions do not modify my state in any way."
   ]
  },
  {
   "cell_type": "markdown",
   "id": "31eb624c",
   "metadata": {},
   "source": [
    "I could have made the `filter_ships_by_capacity` more generic, by passing in a predicate ufnction for filtering (the same way Python does it), but I'll leave that up to you if you want to do this or not."
   ]
  },
  {
   "cell_type": "markdown",
   "id": "03921a85",
   "metadata": {},
   "source": [
    "Note how my filtering and extraction functions do not create yet more lists in memory, but rather use a generator to just yield the results. If the caller of this function needs a list, or a set, they are then free to do so, but at least we give the caller the option."
   ]
  },
  {
   "cell_type": "markdown",
   "id": "c42e95a8",
   "metadata": {},
   "source": [
    "#### Refactor 4"
   ]
  },
  {
   "cell_type": "markdown",
   "id": "d0d98737",
   "metadata": {},
   "source": [
    "Now it's time to turn our attention to the API service."
   ]
  },
  {
   "cell_type": "markdown",
   "id": "f3a22f39",
   "metadata": {},
   "source": [
    "Our function in there do two or three things:\n",
    "- paging (if required)\n",
    "- timeout retry handling\n",
    "- querying SWAPI"
   ]
  },
  {
   "cell_type": "markdown",
   "id": "5fc73695",
   "metadata": {},
   "source": [
    "Paging we only need once, but timeout handling we do twice, so our code is not DRY. \n",
    "\n",
    "Although this is still much better than where we started, the whole logic of querying the SW API is totally lost inside the other \"plumbing\" logic of paging and query timeouts. So, I want to decompose these as well."
   ]
  },
  {
   "cell_type": "markdown",
   "id": "5fb297d4",
   "metadata": {},
   "source": [
    "Let's start by stripping away the timeout handling, and focus on the paging first."
   ]
  },
  {
   "cell_type": "markdown",
   "id": "10fb7327",
   "metadata": {},
   "source": [
    "When I first started this refactor, I though I would need a decorator, but turns out I was able to get it accomplished without one - plus it's still generic enough that I could use it to page anything else in the SW API."
   ]
  },
  {
   "cell_type": "markdown",
   "id": "023d4d8d",
   "metadata": {},
   "source": [
    "#### Refactor 5"
   ]
  },
  {
   "cell_type": "markdown",
   "id": "334449f1",
   "metadata": {},
   "source": [
    "Now let's look at the timeout retries.\n",
    "\n",
    "We should be able to do this one with a decorator pretty easily."
   ]
  },
  {
   "cell_type": "markdown",
   "id": "31614d57",
   "metadata": {},
   "source": [
    "Also, notice that I am systematically removing any handling for exceptions I can't really do anything about - later I might come back and decide if maybe I want to do some handling (like maybe if a film is not found). But for now, I'm going to let exceptions bubble the call stack and let the app exit."
   ]
  },
  {
   "cell_type": "markdown",
   "id": "c34c03a7",
   "metadata": {},
   "source": [
    "#### Parting Thoughts"
   ]
  },
  {
   "cell_type": "markdown",
   "id": "9c18a41d",
   "metadata": {},
   "source": [
    "At this point, I don't feel entirely happy with how I implemented the paging and timeout retries - I probably could improve it, but I think it's good enough for now. I may come back to it in the future once I have time (if this were part of a project, I still would need to keep the project moving, so diminishing returns)."
   ]
  },
  {
   "cell_type": "markdown",
   "id": "0fc94bd3",
   "metadata": {},
   "source": [
    "I would also like to add some more structure for the various data sets that are being returned and passed into the various functions. \n",
    "\n",
    "So, a mixture of Pydantic, maybe some named tuplesm and some type hinting.\n",
    "\n",
    "(I don't type hint everything in my Python code - you may take a different approach - this is just me.)"
   ]
  },
  {
   "cell_type": "markdown",
   "id": "a79ba1c0",
   "metadata": {},
   "source": [
    "Other refactoring I would consider before putting something like this in production would be taking a closer look at exception handling, and see if there are any exceptions where it might make sense to handle in some fashion."
   ]
  },
  {
   "cell_type": "markdown",
   "id": "24e87229",
   "metadata": {},
   "source": [
    "As things are, I use `print` statements to effectively log information to stdout. Instead, this should be written using proper logging."
   ]
  },
  {
   "cell_type": "markdown",
   "id": "fa54d8f8",
   "metadata": {},
   "source": [
    "And of course, testing. There is no way this code would ever make it into production at any of the companies I have worked for without, at the very least, comprehensive unit tests."
   ]
  },
  {
   "cell_type": "code",
   "execution_count": null,
   "id": "0bc25c23",
   "metadata": {},
   "outputs": [],
   "source": []
  }
 ],
 "metadata": {
  "kernelspec": {
   "display_name": "Python 3 (ipykernel)",
   "language": "python",
   "name": "python3"
  },
  "language_info": {
   "codemirror_mode": {
    "name": "ipython",
    "version": 3
   },
   "file_extension": ".py",
   "mimetype": "text/x-python",
   "name": "python",
   "nbconvert_exporter": "python",
   "pygments_lexer": "ipython3",
   "version": "3.11.1"
  }
 },
 "nbformat": 4,
 "nbformat_minor": 5
}
